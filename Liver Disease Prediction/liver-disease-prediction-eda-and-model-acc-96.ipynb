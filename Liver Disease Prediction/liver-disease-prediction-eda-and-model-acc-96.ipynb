{
 "cells": [
  {
   "cell_type": "markdown",
   "id": "2cff12bf",
   "metadata": {
    "papermill": {
     "duration": 0.020301,
     "end_time": "2024-09-05T23:22:55.055897",
     "exception": false,
     "start_time": "2024-09-05T23:22:55.035596",
     "status": "completed"
    },
    "tags": []
   },
   "source": [
    "<h1><b><p style=\"background-image: url(https://i.postimg.cc/0Qwf8YX6/2927262.jpg);font-family:camtasia;font-size:110%;color:white;text-align:center;border-radius:15px 50px; padding:7px; border:solid 2px #09375b; box-shadow: 10px 10px 10px #042b4c\">Project Title: Liver Disease Prediction | EDA and Model</p></b></h1>"
   ]
  },
  {
   "cell_type": "markdown",
   "id": "efb2a16a",
   "metadata": {
    "papermill": {
     "duration": 0.019971,
     "end_time": "2024-09-05T23:22:55.094969",
     "exception": false,
     "start_time": "2024-09-05T23:22:55.074998",
     "status": "completed"
    },
    "tags": []
   },
   "source": [
    "<!-- from IPython.core.display import display, HTML\n",
    "\n",
    "html_code = \"\"\" -->\n",
    "<style>\n",
    "@keyframes colorChange {\n",
    "    0% { background-color: #ff9999; border-color: #ff6666; color: #660000; }\n",
    "    25% { background-color: #99ccff; border-color: #3399ff; color: #003366; }\n",
    "    50% { background-color: #99ff99; border-color: #33cc33; color: #006600; }\n",
    "    75% { background-color: #ffff99; border-color: #cccc33; color: #666600; }\n",
    "    100% { background-color: #ff9999; border-color: #ff6666; color: #660000; }\n",
    "}\n",
    "\n",
    ".fancy-card {\n",
    "    font-family: 'Courier New', Courier, monospace;\n",
    "    font-size: 2em;\n",
    "    padding: 20px;\n",
    "    margin: 20px;\n",
    "    border: 5px solid;\n",
    "    border-radius: 15px;\n",
    "    text-align: center;\n",
    "    animation: colorChange 10s infinite;\n",
    "}\n",
    "</style>\n",
    "<div class=\"fancy-card\">\n",
    "    IMPORTING LIBRARIES\n",
    "</div>\n",
    "<!-- \"\"\" -->\n",
    "\n",
    "<!-- display(HTML(html_code))  -->\n"
   ]
  },
  {
   "cell_type": "code",
   "execution_count": 1,
   "id": "18d60fe2",
   "metadata": {
    "execution": {
     "iopub.execute_input": "2024-09-05T23:22:55.135255Z",
     "iopub.status.busy": "2024-09-05T23:22:55.134586Z",
     "iopub.status.idle": "2024-09-05T23:23:02.831490Z",
     "shell.execute_reply": "2024-09-05T23:23:02.830473Z"
    },
    "papermill": {
     "duration": 7.719562,
     "end_time": "2024-09-05T23:23:02.834003",
     "exception": false,
     "start_time": "2024-09-05T23:22:55.114441",
     "status": "completed"
    },
    "tags": []
   },
   "outputs": [],
   "source": [
    "# Manipulation and Visualasation\n",
    "import pandas as pd\n",
    "import numpy as np\n",
    "import matplotlib.pyplot as plt_\n",
    "import seaborn as sns\n",
    "import plotly.express as px\n",
    "from plotly.subplots import make_subplots\n",
    "import plotly.graph_objects as go\n",
    "import plotly.figure_factory as ff\n",
    "# Libraries for Machine Learning\n",
    "from sklearn.model_selection import train_test_split\n",
    "from sklearn.preprocessing import MinMaxScaler, LabelEncoder\n",
    "from sklearn.model_selection import cross_val_score,GridSearchCV\n",
    "from sklearn.metrics import confusion_matrix,classification_report, accuracy_score, f1_score, precision_score, recall_score\n",
    "\n",
    "# Models\n",
    "from sklearn.ensemble import RandomForestClassifier\n",
    "from xgboost import XGBClassifier\n",
    "from lightgbm import LGBMClassifier\n",
    "from lightgbm import LGBMClassifier\n",
    "from catboost import CatBoostClassifier\n",
    "from sklearn.tree import DecisionTreeClassifier\n",
    "from sklearn.neighbors import KNeighborsClassifier\n",
    "from sklearn.svm import SVC\n",
    "from sklearn.linear_model import LogisticRegression\n",
    "# ignore warning\n",
    "import warnings\n",
    "warnings.filterwarnings('ignore')\n",
    "# Display Settings\n",
    "pd.set_option('display.max_columns', None)\n",
    "pd.set_option('display.width', None)\n",
    "pd.set_option('display.float_format', lambda x: '%.3f' % x)\n",
    "pd.set_option('display.expand_frame_repr', False)"
   ]
  },
  {
   "cell_type": "markdown",
   "id": "019ee0ec",
   "metadata": {
    "papermill": {
     "duration": 0.018843,
     "end_time": "2024-09-05T23:23:02.872294",
     "exception": false,
     "start_time": "2024-09-05T23:23:02.853451",
     "status": "completed"
    },
    "tags": []
   },
   "source": [
    "<!-- from IPython.core.display import display, HTML\n",
    "\n",
    "html_code = \"\"\" -->\n",
    "<style>\n",
    "@keyframes colorChange {\n",
    "    0% { background-color: #ff9999; border-color: #ff6666; color: #660000; }\n",
    "    25% { background-color: #99ccff; border-color: #3399ff; color: #003366; }\n",
    "    50% { background-color: #99ff99; border-color: #33cc33; color: #006600; }\n",
    "    75% { background-color: #ffff99; border-color: #cccc33; color: #666600; }\n",
    "    100% { background-color: #ff9999; border-color: #ff6666; color: #660000; }\n",
    "}\n",
    "\n",
    ".fancy-card {\n",
    "    font-family: 'Courier New', Courier, monospace;\n",
    "    font-size: 2em;\n",
    "    padding: 20px;\n",
    "    margin: 20px;\n",
    "    border: 5px solid;\n",
    "    border-radius: 15px;\n",
    "    text-align: center;\n",
    "    animation: colorChange 10s infinite;\n",
    "}\n",
    "</style>\n",
    "<div class=\"fancy-card\">\n",
    "    IMPORTING OUR LIVER DATASET\n",
    "</div>\n",
    "<!-- \"\"\" -->\n",
    "\n",
    "<!-- display(HTML(html_code))  -->\n"
   ]
  },
  {
   "cell_type": "code",
   "execution_count": 2,
   "id": "7a38a70e",
   "metadata": {
    "execution": {
     "iopub.execute_input": "2024-09-05T23:23:02.912444Z",
     "iopub.status.busy": "2024-09-05T23:23:02.911696Z",
     "iopub.status.idle": "2024-09-05T23:23:02.957425Z",
     "shell.execute_reply": "2024-09-05T23:23:02.956532Z"
    },
    "papermill": {
     "duration": 0.06813,
     "end_time": "2024-09-05T23:23:02.959478",
     "exception": false,
     "start_time": "2024-09-05T23:23:02.891348",
     "status": "completed"
    },
    "tags": []
   },
   "outputs": [
    {
     "data": {
      "text/html": [
       "<div>\n",
       "<style scoped>\n",
       "    .dataframe tbody tr th:only-of-type {\n",
       "        vertical-align: middle;\n",
       "    }\n",
       "\n",
       "    .dataframe tbody tr th {\n",
       "        vertical-align: top;\n",
       "    }\n",
       "\n",
       "    .dataframe thead th {\n",
       "        text-align: right;\n",
       "    }\n",
       "</style>\n",
       "<table border=\"1\" class=\"dataframe\">\n",
       "  <thead>\n",
       "    <tr style=\"text-align: right;\">\n",
       "      <th></th>\n",
       "      <th>Age</th>\n",
       "      <th>Gender</th>\n",
       "      <th>BMI</th>\n",
       "      <th>AlcoholConsumption</th>\n",
       "      <th>Smoking</th>\n",
       "      <th>GeneticRisk</th>\n",
       "      <th>PhysicalActivity</th>\n",
       "      <th>Diabetes</th>\n",
       "      <th>Hypertension</th>\n",
       "      <th>LiverFunctionTest</th>\n",
       "      <th>Diagnosis</th>\n",
       "    </tr>\n",
       "  </thead>\n",
       "  <tbody>\n",
       "    <tr>\n",
       "      <th>0</th>\n",
       "      <td>58</td>\n",
       "      <td>0</td>\n",
       "      <td>35.858</td>\n",
       "      <td>17.273</td>\n",
       "      <td>0</td>\n",
       "      <td>1</td>\n",
       "      <td>0.659</td>\n",
       "      <td>0</td>\n",
       "      <td>0</td>\n",
       "      <td>42.734</td>\n",
       "      <td>1</td>\n",
       "    </tr>\n",
       "    <tr>\n",
       "      <th>1</th>\n",
       "      <td>71</td>\n",
       "      <td>1</td>\n",
       "      <td>30.732</td>\n",
       "      <td>2.201</td>\n",
       "      <td>0</td>\n",
       "      <td>1</td>\n",
       "      <td>1.671</td>\n",
       "      <td>1</td>\n",
       "      <td>0</td>\n",
       "      <td>67.310</td>\n",
       "      <td>1</td>\n",
       "    </tr>\n",
       "    <tr>\n",
       "      <th>2</th>\n",
       "      <td>48</td>\n",
       "      <td>0</td>\n",
       "      <td>19.971</td>\n",
       "      <td>18.501</td>\n",
       "      <td>0</td>\n",
       "      <td>0</td>\n",
       "      <td>9.928</td>\n",
       "      <td>0</td>\n",
       "      <td>0</td>\n",
       "      <td>63.739</td>\n",
       "      <td>0</td>\n",
       "    </tr>\n",
       "    <tr>\n",
       "      <th>3</th>\n",
       "      <td>34</td>\n",
       "      <td>1</td>\n",
       "      <td>16.615</td>\n",
       "      <td>12.633</td>\n",
       "      <td>0</td>\n",
       "      <td>0</td>\n",
       "      <td>5.630</td>\n",
       "      <td>0</td>\n",
       "      <td>0</td>\n",
       "      <td>64.556</td>\n",
       "      <td>1</td>\n",
       "    </tr>\n",
       "    <tr>\n",
       "      <th>4</th>\n",
       "      <td>62</td>\n",
       "      <td>1</td>\n",
       "      <td>16.066</td>\n",
       "      <td>1.088</td>\n",
       "      <td>0</td>\n",
       "      <td>1</td>\n",
       "      <td>3.566</td>\n",
       "      <td>1</td>\n",
       "      <td>0</td>\n",
       "      <td>77.869</td>\n",
       "      <td>1</td>\n",
       "    </tr>\n",
       "  </tbody>\n",
       "</table>\n",
       "</div>"
      ],
      "text/plain": [
       "   Age  Gender    BMI  AlcoholConsumption  Smoking  GeneticRisk  PhysicalActivity  Diabetes  Hypertension  LiverFunctionTest  Diagnosis\n",
       "0   58       0 35.858              17.273        0            1             0.659         0             0             42.734          1\n",
       "1   71       1 30.732               2.201        0            1             1.671         1             0             67.310          1\n",
       "2   48       0 19.971              18.501        0            0             9.928         0             0             63.739          0\n",
       "3   34       1 16.615              12.633        0            0             5.630         0             0             64.556          1\n",
       "4   62       1 16.066               1.088        0            1             3.566         1             0             77.869          1"
      ]
     },
     "execution_count": 2,
     "metadata": {},
     "output_type": "execute_result"
    }
   ],
   "source": [
    "data = pd.read_csv(\"/kaggle/input/predict-liver-disease-1700-records-dataset/Liver_disease_data.csv\")\n",
    "data.head()"
   ]
  },
  {
   "cell_type": "code",
   "execution_count": 3,
   "id": "e2934aef",
   "metadata": {
    "execution": {
     "iopub.execute_input": "2024-09-05T23:23:02.999536Z",
     "iopub.status.busy": "2024-09-05T23:23:02.999216Z",
     "iopub.status.idle": "2024-09-05T23:23:03.003899Z",
     "shell.execute_reply": "2024-09-05T23:23:03.003070Z"
    },
    "papermill": {
     "duration": 0.026912,
     "end_time": "2024-09-05T23:23:03.005975",
     "exception": false,
     "start_time": "2024-09-05T23:23:02.979063",
     "status": "completed"
    },
    "tags": []
   },
   "outputs": [
    {
     "name": "stdout",
     "output_type": "stream",
     "text": [
      "The dataset has 1700 Rows and 11 columns\n"
     ]
    }
   ],
   "source": [
    "### Shape of Dataset\n",
    "print(f\"The dataset has {data.shape[0]} Rows and {data.shape[1]} columns\")"
   ]
  },
  {
   "cell_type": "code",
   "execution_count": 4,
   "id": "41123b95",
   "metadata": {
    "execution": {
     "iopub.execute_input": "2024-09-05T23:23:03.046504Z",
     "iopub.status.busy": "2024-09-05T23:23:03.046180Z",
     "iopub.status.idle": "2024-09-05T23:23:03.066568Z",
     "shell.execute_reply": "2024-09-05T23:23:03.065469Z"
    },
    "papermill": {
     "duration": 0.043171,
     "end_time": "2024-09-05T23:23:03.068816",
     "exception": false,
     "start_time": "2024-09-05T23:23:03.025645",
     "status": "completed"
    },
    "tags": []
   },
   "outputs": [
    {
     "name": "stdout",
     "output_type": "stream",
     "text": [
      "<class 'pandas.core.frame.DataFrame'>\n",
      "RangeIndex: 1700 entries, 0 to 1699\n",
      "Data columns (total 11 columns):\n",
      " #   Column              Non-Null Count  Dtype  \n",
      "---  ------              --------------  -----  \n",
      " 0   Age                 1700 non-null   int64  \n",
      " 1   Gender              1700 non-null   int64  \n",
      " 2   BMI                 1700 non-null   float64\n",
      " 3   AlcoholConsumption  1700 non-null   float64\n",
      " 4   Smoking             1700 non-null   int64  \n",
      " 5   GeneticRisk         1700 non-null   int64  \n",
      " 6   PhysicalActivity    1700 non-null   float64\n",
      " 7   Diabetes            1700 non-null   int64  \n",
      " 8   Hypertension        1700 non-null   int64  \n",
      " 9   LiverFunctionTest   1700 non-null   float64\n",
      " 10  Diagnosis           1700 non-null   int64  \n",
      "dtypes: float64(4), int64(7)\n",
      "memory usage: 146.2 KB\n"
     ]
    }
   ],
   "source": [
    "### Info of Dataset\n",
    "data.info()"
   ]
  },
  {
   "cell_type": "code",
   "execution_count": 5,
   "id": "3811f768",
   "metadata": {
    "execution": {
     "iopub.execute_input": "2024-09-05T23:23:03.110872Z",
     "iopub.status.busy": "2024-09-05T23:23:03.109993Z",
     "iopub.status.idle": "2024-09-05T23:23:03.144705Z",
     "shell.execute_reply": "2024-09-05T23:23:03.143844Z"
    },
    "papermill": {
     "duration": 0.057452,
     "end_time": "2024-09-05T23:23:03.146728",
     "exception": false,
     "start_time": "2024-09-05T23:23:03.089276",
     "status": "completed"
    },
    "tags": []
   },
   "outputs": [
    {
     "data": {
      "text/html": [
       "<div>\n",
       "<style scoped>\n",
       "    .dataframe tbody tr th:only-of-type {\n",
       "        vertical-align: middle;\n",
       "    }\n",
       "\n",
       "    .dataframe tbody tr th {\n",
       "        vertical-align: top;\n",
       "    }\n",
       "\n",
       "    .dataframe thead th {\n",
       "        text-align: right;\n",
       "    }\n",
       "</style>\n",
       "<table border=\"1\" class=\"dataframe\">\n",
       "  <thead>\n",
       "    <tr style=\"text-align: right;\">\n",
       "      <th></th>\n",
       "      <th>count</th>\n",
       "      <th>mean</th>\n",
       "      <th>std</th>\n",
       "      <th>min</th>\n",
       "      <th>25%</th>\n",
       "      <th>50%</th>\n",
       "      <th>75%</th>\n",
       "      <th>max</th>\n",
       "    </tr>\n",
       "  </thead>\n",
       "  <tbody>\n",
       "    <tr>\n",
       "      <th>Age</th>\n",
       "      <td>1700.000</td>\n",
       "      <td>50.394</td>\n",
       "      <td>17.642</td>\n",
       "      <td>20.000</td>\n",
       "      <td>35.000</td>\n",
       "      <td>51.000</td>\n",
       "      <td>66.000</td>\n",
       "      <td>80.000</td>\n",
       "    </tr>\n",
       "    <tr>\n",
       "      <th>Gender</th>\n",
       "      <td>1700.000</td>\n",
       "      <td>0.504</td>\n",
       "      <td>0.500</td>\n",
       "      <td>0.000</td>\n",
       "      <td>0.000</td>\n",
       "      <td>1.000</td>\n",
       "      <td>1.000</td>\n",
       "      <td>1.000</td>\n",
       "    </tr>\n",
       "    <tr>\n",
       "      <th>BMI</th>\n",
       "      <td>1700.000</td>\n",
       "      <td>27.700</td>\n",
       "      <td>7.210</td>\n",
       "      <td>15.005</td>\n",
       "      <td>21.455</td>\n",
       "      <td>27.925</td>\n",
       "      <td>33.958</td>\n",
       "      <td>39.993</td>\n",
       "    </tr>\n",
       "    <tr>\n",
       "      <th>AlcoholConsumption</th>\n",
       "      <td>1700.000</td>\n",
       "      <td>9.832</td>\n",
       "      <td>5.757</td>\n",
       "      <td>0.004</td>\n",
       "      <td>4.842</td>\n",
       "      <td>9.828</td>\n",
       "      <td>14.872</td>\n",
       "      <td>19.952</td>\n",
       "    </tr>\n",
       "    <tr>\n",
       "      <th>Smoking</th>\n",
       "      <td>1700.000</td>\n",
       "      <td>0.292</td>\n",
       "      <td>0.455</td>\n",
       "      <td>0.000</td>\n",
       "      <td>0.000</td>\n",
       "      <td>0.000</td>\n",
       "      <td>1.000</td>\n",
       "      <td>1.000</td>\n",
       "    </tr>\n",
       "    <tr>\n",
       "      <th>GeneticRisk</th>\n",
       "      <td>1700.000</td>\n",
       "      <td>0.522</td>\n",
       "      <td>0.666</td>\n",
       "      <td>0.000</td>\n",
       "      <td>0.000</td>\n",
       "      <td>0.000</td>\n",
       "      <td>1.000</td>\n",
       "      <td>2.000</td>\n",
       "    </tr>\n",
       "    <tr>\n",
       "      <th>PhysicalActivity</th>\n",
       "      <td>1700.000</td>\n",
       "      <td>5.001</td>\n",
       "      <td>2.847</td>\n",
       "      <td>0.002</td>\n",
       "      <td>2.622</td>\n",
       "      <td>5.023</td>\n",
       "      <td>7.402</td>\n",
       "      <td>9.995</td>\n",
       "    </tr>\n",
       "    <tr>\n",
       "      <th>Diabetes</th>\n",
       "      <td>1700.000</td>\n",
       "      <td>0.142</td>\n",
       "      <td>0.350</td>\n",
       "      <td>0.000</td>\n",
       "      <td>0.000</td>\n",
       "      <td>0.000</td>\n",
       "      <td>0.000</td>\n",
       "      <td>1.000</td>\n",
       "    </tr>\n",
       "    <tr>\n",
       "      <th>Hypertension</th>\n",
       "      <td>1700.000</td>\n",
       "      <td>0.155</td>\n",
       "      <td>0.362</td>\n",
       "      <td>0.000</td>\n",
       "      <td>0.000</td>\n",
       "      <td>0.000</td>\n",
       "      <td>0.000</td>\n",
       "      <td>1.000</td>\n",
       "    </tr>\n",
       "    <tr>\n",
       "      <th>LiverFunctionTest</th>\n",
       "      <td>1700.000</td>\n",
       "      <td>59.864</td>\n",
       "      <td>22.996</td>\n",
       "      <td>20.019</td>\n",
       "      <td>40.024</td>\n",
       "      <td>59.513</td>\n",
       "      <td>79.429</td>\n",
       "      <td>99.991</td>\n",
       "    </tr>\n",
       "    <tr>\n",
       "      <th>Diagnosis</th>\n",
       "      <td>1700.000</td>\n",
       "      <td>0.551</td>\n",
       "      <td>0.498</td>\n",
       "      <td>0.000</td>\n",
       "      <td>0.000</td>\n",
       "      <td>1.000</td>\n",
       "      <td>1.000</td>\n",
       "      <td>1.000</td>\n",
       "    </tr>\n",
       "  </tbody>\n",
       "</table>\n",
       "</div>"
      ],
      "text/plain": [
       "                      count   mean    std    min    25%    50%    75%    max\n",
       "Age                1700.000 50.394 17.642 20.000 35.000 51.000 66.000 80.000\n",
       "Gender             1700.000  0.504  0.500  0.000  0.000  1.000  1.000  1.000\n",
       "BMI                1700.000 27.700  7.210 15.005 21.455 27.925 33.958 39.993\n",
       "AlcoholConsumption 1700.000  9.832  5.757  0.004  4.842  9.828 14.872 19.952\n",
       "Smoking            1700.000  0.292  0.455  0.000  0.000  0.000  1.000  1.000\n",
       "GeneticRisk        1700.000  0.522  0.666  0.000  0.000  0.000  1.000  2.000\n",
       "PhysicalActivity   1700.000  5.001  2.847  0.002  2.622  5.023  7.402  9.995\n",
       "Diabetes           1700.000  0.142  0.350  0.000  0.000  0.000  0.000  1.000\n",
       "Hypertension       1700.000  0.155  0.362  0.000  0.000  0.000  0.000  1.000\n",
       "LiverFunctionTest  1700.000 59.864 22.996 20.019 40.024 59.513 79.429 99.991\n",
       "Diagnosis          1700.000  0.551  0.498  0.000  0.000  1.000  1.000  1.000"
      ]
     },
     "execution_count": 5,
     "metadata": {},
     "output_type": "execute_result"
    }
   ],
   "source": [
    "### Descriptive Analysis\n",
    "data.describe().transpose()"
   ]
  },
  {
   "cell_type": "code",
   "execution_count": 6,
   "id": "affc62ba",
   "metadata": {
    "execution": {
     "iopub.execute_input": "2024-09-05T23:23:03.188066Z",
     "iopub.status.busy": "2024-09-05T23:23:03.187751Z",
     "iopub.status.idle": "2024-09-05T23:23:03.194848Z",
     "shell.execute_reply": "2024-09-05T23:23:03.194025Z"
    },
    "papermill": {
     "duration": 0.029794,
     "end_time": "2024-09-05T23:23:03.196798",
     "exception": false,
     "start_time": "2024-09-05T23:23:03.167004",
     "status": "completed"
    },
    "tags": []
   },
   "outputs": [
    {
     "data": {
      "text/plain": [
       "Age                   0\n",
       "Gender                0\n",
       "BMI                   0\n",
       "AlcoholConsumption    0\n",
       "Smoking               0\n",
       "GeneticRisk           0\n",
       "PhysicalActivity      0\n",
       "Diabetes              0\n",
       "Hypertension          0\n",
       "LiverFunctionTest     0\n",
       "Diagnosis             0\n",
       "dtype: int64"
      ]
     },
     "execution_count": 6,
     "metadata": {},
     "output_type": "execute_result"
    }
   ],
   "source": [
    "### Missing Values\n",
    "data.isna().sum()"
   ]
  },
  {
   "cell_type": "code",
   "execution_count": 7,
   "id": "bd58104c",
   "metadata": {
    "execution": {
     "iopub.execute_input": "2024-09-05T23:23:03.238349Z",
     "iopub.status.busy": "2024-09-05T23:23:03.237981Z",
     "iopub.status.idle": "2024-09-05T23:23:03.249819Z",
     "shell.execute_reply": "2024-09-05T23:23:03.248990Z"
    },
    "papermill": {
     "duration": 0.034561,
     "end_time": "2024-09-05T23:23:03.251840",
     "exception": false,
     "start_time": "2024-09-05T23:23:03.217279",
     "status": "completed"
    },
    "tags": []
   },
   "outputs": [
    {
     "data": {
      "text/html": [
       "<div>\n",
       "<style scoped>\n",
       "    .dataframe tbody tr th:only-of-type {\n",
       "        vertical-align: middle;\n",
       "    }\n",
       "\n",
       "    .dataframe tbody tr th {\n",
       "        vertical-align: top;\n",
       "    }\n",
       "\n",
       "    .dataframe thead th {\n",
       "        text-align: right;\n",
       "    }\n",
       "</style>\n",
       "<table border=\"1\" class=\"dataframe\">\n",
       "  <thead>\n",
       "    <tr style=\"text-align: right;\">\n",
       "      <th></th>\n",
       "      <th>Age</th>\n",
       "      <th>Gender</th>\n",
       "      <th>BMI</th>\n",
       "      <th>AlcoholConsumption</th>\n",
       "      <th>Smoking</th>\n",
       "      <th>GeneticRisk</th>\n",
       "      <th>PhysicalActivity</th>\n",
       "      <th>Diabetes</th>\n",
       "      <th>Hypertension</th>\n",
       "      <th>LiverFunctionTest</th>\n",
       "      <th>Diagnosis</th>\n",
       "    </tr>\n",
       "  </thead>\n",
       "  <tbody>\n",
       "  </tbody>\n",
       "</table>\n",
       "</div>"
      ],
      "text/plain": [
       "Empty DataFrame\n",
       "Columns: [Age, Gender, BMI, AlcoholConsumption, Smoking, GeneticRisk, PhysicalActivity, Diabetes, Hypertension, LiverFunctionTest, Diagnosis]\n",
       "Index: []"
      ]
     },
     "execution_count": 7,
     "metadata": {},
     "output_type": "execute_result"
    }
   ],
   "source": [
    "### Duplicated Values\n",
    "data[data.duplicated()]"
   ]
  },
  {
   "cell_type": "markdown",
   "id": "08c0aac5",
   "metadata": {
    "papermill": {
     "duration": 0.020441,
     "end_time": "2024-09-05T23:23:03.292853",
     "exception": false,
     "start_time": "2024-09-05T23:23:03.272412",
     "status": "completed"
    },
    "tags": []
   },
   "source": [
    "<!-- from IPython.core.display import display, HTML\n",
    "\n",
    "html_code = \"\"\" -->\n",
    "<style>\n",
    "@keyframes colorChange {\n",
    "    0% { background-color: #ff9999; border-color: #ff6666; color: #660000; }\n",
    "    25% { background-color: #99ccff; border-color: #3399ff; color: #003366; }\n",
    "    50% { background-color: #99ff99; border-color: #33cc33; color: #006600; }\n",
    "    75% { background-color: #ffff99; border-color: #cccc33; color: #666600; }\n",
    "    100% { background-color: #ff9999; border-color: #ff6666; color: #660000; }\n",
    "}\n",
    "\n",
    ".fancy-card {\n",
    "    font-family: 'Courier New', Courier, monospace;\n",
    "    font-size: 2em;\n",
    "    padding: 20px;\n",
    "    margin: 20px;\n",
    "    border: 5px solid;\n",
    "    border-radius: 15px;\n",
    "    text-align: center;\n",
    "    animation: colorChange 10s infinite;\n",
    "}\n",
    "</style>\n",
    "<div class=\"fancy-card\">\n",
    "EXPLORATORY DATA ANALYSIS (EDA)\n",
    "</div>\n",
    "<!-- \"\"\" -->\n",
    "\n",
    "<!-- display(HTML(html_code))  -->\n"
   ]
  },
  {
   "cell_type": "code",
   "execution_count": 8,
   "id": "433dd5af",
   "metadata": {
    "execution": {
     "iopub.execute_input": "2024-09-05T23:23:03.334673Z",
     "iopub.status.busy": "2024-09-05T23:23:03.334290Z",
     "iopub.status.idle": "2024-09-05T23:23:03.346117Z",
     "shell.execute_reply": "2024-09-05T23:23:03.345118Z"
    },
    "papermill": {
     "duration": 0.035446,
     "end_time": "2024-09-05T23:23:03.348386",
     "exception": false,
     "start_time": "2024-09-05T23:23:03.312940",
     "status": "completed"
    },
    "tags": []
   },
   "outputs": [
    {
     "data": {
      "text/html": [
       "<div>\n",
       "<style scoped>\n",
       "    .dataframe tbody tr th:only-of-type {\n",
       "        vertical-align: middle;\n",
       "    }\n",
       "\n",
       "    .dataframe tbody tr th {\n",
       "        vertical-align: top;\n",
       "    }\n",
       "\n",
       "    .dataframe thead th {\n",
       "        text-align: right;\n",
       "    }\n",
       "</style>\n",
       "<table border=\"1\" class=\"dataframe\">\n",
       "  <thead>\n",
       "    <tr style=\"text-align: right;\">\n",
       "      <th></th>\n",
       "      <th>count</th>\n",
       "    </tr>\n",
       "    <tr>\n",
       "      <th>Age</th>\n",
       "      <th></th>\n",
       "    </tr>\n",
       "  </thead>\n",
       "  <tbody>\n",
       "    <tr>\n",
       "      <th>52</th>\n",
       "      <td>42</td>\n",
       "    </tr>\n",
       "    <tr>\n",
       "      <th>45</th>\n",
       "      <td>41</td>\n",
       "    </tr>\n",
       "    <tr>\n",
       "      <th>70</th>\n",
       "      <td>39</td>\n",
       "    </tr>\n",
       "    <tr>\n",
       "      <th>68</th>\n",
       "      <td>37</td>\n",
       "    </tr>\n",
       "    <tr>\n",
       "      <th>66</th>\n",
       "      <td>37</td>\n",
       "    </tr>\n",
       "    <tr>\n",
       "      <th>...</th>\n",
       "      <td>...</td>\n",
       "    </tr>\n",
       "    <tr>\n",
       "      <th>50</th>\n",
       "      <td>21</td>\n",
       "    </tr>\n",
       "    <tr>\n",
       "      <th>37</th>\n",
       "      <td>21</td>\n",
       "    </tr>\n",
       "    <tr>\n",
       "      <th>61</th>\n",
       "      <td>20</td>\n",
       "    </tr>\n",
       "    <tr>\n",
       "      <th>62</th>\n",
       "      <td>18</td>\n",
       "    </tr>\n",
       "    <tr>\n",
       "      <th>65</th>\n",
       "      <td>18</td>\n",
       "    </tr>\n",
       "  </tbody>\n",
       "</table>\n",
       "<p>61 rows × 1 columns</p>\n",
       "</div>"
      ],
      "text/plain": [
       "     count\n",
       "Age       \n",
       "52      42\n",
       "45      41\n",
       "70      39\n",
       "68      37\n",
       "66      37\n",
       "..     ...\n",
       "50      21\n",
       "37      21\n",
       "61      20\n",
       "62      18\n",
       "65      18\n",
       "\n",
       "[61 rows x 1 columns]"
      ]
     },
     "execution_count": 8,
     "metadata": {},
     "output_type": "execute_result"
    }
   ],
   "source": [
    "### Age Distrbution\n",
    "data.Age.value_counts().to_frame()"
   ]
  },
  {
   "cell_type": "code",
   "execution_count": 9,
   "id": "6672035d",
   "metadata": {
    "execution": {
     "iopub.execute_input": "2024-09-05T23:23:03.390414Z",
     "iopub.status.busy": "2024-09-05T23:23:03.389682Z",
     "iopub.status.idle": "2024-09-05T23:23:04.871736Z",
     "shell.execute_reply": "2024-09-05T23:23:04.870667Z"
    },
    "papermill": {
     "duration": 1.505117,
     "end_time": "2024-09-05T23:23:04.873874",
     "exception": false,
     "start_time": "2024-09-05T23:23:03.368757",
     "status": "completed"
    },
    "tags": []
   },
   "outputs": [
    {
     "data": {
      "text/html": [
       "        <script type=\"text/javascript\">\n",
       "        window.PlotlyConfig = {MathJaxConfig: 'local'};\n",
       "        if (window.MathJax && window.MathJax.Hub && window.MathJax.Hub.Config) {window.MathJax.Hub.Config({SVG: {font: \"STIX-Web\"}});}\n",
       "        if (typeof require !== 'undefined') {\n",
       "        require.undef(\"plotly\");\n",
       "        requirejs.config({\n",
       "            paths: {\n",
       "                'plotly': ['https://cdn.plot.ly/plotly-2.32.0.min']\n",
       "            }\n",
       "        });\n",
       "        require(['plotly'], function(Plotly) {\n",
       "            window._Plotly = Plotly;\n",
       "        });\n",
       "        }\n",
       "        </script>\n",
       "        "
      ]
     },
     "metadata": {},
     "output_type": "display_data"
    },
    {
     "data": {
      "text/html": [
       "<div>                            <div id=\"bd319679-62f8-45a0-8f0f-750ff5c4db9a\" class=\"plotly-graph-div\" style=\"height:600px; width:800px;\"></div>            <script type=\"text/javascript\">                require([\"plotly\"], function(Plotly) {                    window.PLOTLYENV=window.PLOTLYENV || {};                                    if (document.getElementById(\"bd319679-62f8-45a0-8f0f-750ff5c4db9a\")) {                    Plotly.newPlot(                        \"bd319679-62f8-45a0-8f0f-750ff5c4db9a\",                        [{\"alignmentgroup\":\"True\",\"bingroup\":\"x\",\"hovertemplate\":\"Age=%{x}\\u003cbr\\u003ecount=%{y}\\u003cextra\\u003e\\u003c\\u002fextra\\u003e\",\"legendgroup\":\"\",\"marker\":{\"color\":\"#00224e\",\"pattern\":{\"shape\":\"\"}},\"name\":\"\",\"offsetgroup\":\"\",\"orientation\":\"v\",\"showlegend\":false,\"texttemplate\":\"%{value}\",\"x\":[58,71,48,34,62,27,80,40,58,77,38,42,30,30,43,72,55,59,43,22,41,72,21,43,63,49,57,21,79,40,52,31,77,41,80,63,44,68,46,78,61,47,79,35,34,66,70,63,74,71,76,22,56,70,26,40,28,58,37,23,44,79,33,69,77,28,45,72,21,39,47,66,79,26,63,80,27,66,54,33,36,55,69,59,23,21,25,73,61,23,73,48,37,45,63,53,29,55,33,50,67,34,27,33,42,79,76,59,40,35,64,37,66,72,43,45,44,79,79,79,64,60,48,34,64,20,44,26,28,43,20,63,27,43,30,70,36,27,54,54,52,78,24,61,58,77,60,47,26,28,27,31,53,52,67,74,42,43,56,54,63,59,41,46,54,20,54,56,66,33,22,20,24,45,74,33,58,46,28,34,34,45,61,79,32,70,51,58,68,71,80,51,23,49,56,42,58,64,34,62,48,55,32,51,26,78,70,41,47,21,61,64,76,72,25,47,47,63,63,39,49,30,77,74,47,44,58,52,20,76,46,76,71,32,60,22,58,25,27,46,28,56,52,70,61,63,43,34,78,73,51,51,43,60,71,68,68,77,71,31,58,21,22,68,56,68,75,36,78,68,21,21,47,73,42,56,51,52,20,38,21,72,63,45,51,25,51,74,23,74,30,75,78,36,57,43,24,71,53,25,41,30,67,35,52,28,79,78,25,35,48,22,39,79,78,55,38,45,22,38,39,51,26,71,60,52,59,58,37,59,20,30,47,76,44,69,42,50,49,61,54,26,79,35,45,67,76,71,79,68,21,20,67,31,24,56,51,78,74,28,60,54,38,67,35,22,39,43,73,75,52,43,71,30,68,27,55,57,59,39,54,67,44,54,44,48,37,65,37,21,73,54,35,80,60,55,52,23,52,33,40,67,39,75,27,26,22,36,52,67,31,78,70,41,74,41,65,49,57,57,64,70,73,27,46,46,53,40,49,52,47,66,52,24,79,80,67,38,23,54,68,36,63,47,49,48,65,72,25,54,79,60,56,43,48,68,65,72,50,54,79,52,71,80,40,51,42,52,22,37,44,61,50,73,77,22,59,65,43,69,51,66,41,42,21,46,61,21,45,36,59,52,28,62,73,67,58,48,61,74,45,54,69,44,43,32,79,77,26,76,55,64,39,20,27,65,35,33,31,70,42,34,47,53,21,51,42,41,70,44,77,80,41,77,77,41,68,71,61,25,34,73,62,79,56,52,27,72,79,63,63,24,58,23,25,64,51,71,49,66,54,74,59,71,35,32,69,79,61,49,38,36,75,38,47,77,74,45,56,45,72,42,28,31,72,20,77,77,20,66,53,51,73,67,44,59,64,72,20,35,80,58,24,41,48,74,22,31,45,35,70,56,41,76,48,33,47,24,66,68,49,65,71,24,31,35,45,45,67,40,58,55,52,49,56,42,77,29,73,24,55,53,71,50,29,77,38,77,51,20,75,24,64,23,35,43,35,74,21,68,47,51,46,39,43,31,69,54,79,52,52,80,70,62,56,31,22,20,52,59,29,62,63,48,32,31,50,65,21,80,70,69,54,42,36,45,27,48,45,29,45,53,70,60,26,23,77,72,69,64,30,48,75,55,44,40,80,76,55,29,56,28,43,54,68,54,67,55,37,68,58,51,43,42,51,56,31,68,74,32,42,44,54,60,49,36,68,39,67,44,41,32,78,38,68,55,31,80,60,38,31,28,26,47,33,50,71,38,77,66,35,72,24,54,31,44,71,78,40,55,72,42,35,76,58,64,72,61,77,58,33,50,77,24,54,42,48,62,30,37,66,31,28,29,77,63,36,80,57,26,65,32,59,61,28,69,46,77,21,24,48,56,57,38,27,67,64,20,41,71,36,26,44,64,23,55,25,79,50,38,80,63,73,58,46,29,45,38,58,22,64,32,69,47,77,39,47,27,80,60,58,20,22,32,47,76,79,68,44,75,52,57,72,25,77,63,64,51,64,80,66,40,35,73,40,30,79,56,55,54,38,39,76,37,66,60,68,33,34,50,20,72,73,73,22,35,42,76,30,31,29,51,35,27,57,31,43,47,72,27,77,47,55,45,27,77,79,69,47,47,56,60,55,46,73,36,28,52,72,39,32,47,67,48,32,65,54,80,25,37,70,24,66,44,21,29,75,49,69,78,64,24,74,75,52,73,20,37,51,66,68,30,40,45,44,41,78,46,68,32,52,53,60,54,20,40,67,74,25,47,36,24,50,24,57,22,72,42,56,72,56,29,29,38,36,40,33,28,65,20,70,64,32,23,20,68,59,51,53,47,50,27,58,45,77,53,73,73,22,78,69,31,20,73,63,24,49,49,78,76,36,67,66,42,34,56,40,33,21,30,70,58,57,79,53,57,69,53,37,49,34,46,70,53,71,76,57,52,43,34,79,49,74,61,70,36,24,48,23,29,75,36,29,36,79,39,43,24,53,25,72,21,32,62,62,67,30,70,66,76,42,74,35,50,30,73,35,27,23,59,23,75,44,22,51,22,46,48,51,69,80,77,70,38,40,24,37,47,61,80,41,40,25,20,24,60,31,45,65,53,68,33,45,64,46,28,45,76,66,76,41,66,75,49,62,67,80,36,45,55,20,27,68,54,80,71,34,66,75,41,33,45,47,42,33,43,21,64,45,33,78,75,70,26,22,66,42,65,62,66,79,64,37,77,57,54,70,34,44,74,56,47,29,58,76,36,58,41,45,63,44,36,32,39,44,23,29,22,60,64,37,66,55,66,41,53,66,27,59,68,63,38,61,60,56,25,71,45,53,78,75,78,64,25,56,76,52,72,41,40,25,25,74,67,23,49,30,49,50,43,74,28,74,22,70,50,59,56,55,43,50,25,21,39,47,30,23,34,25,73,68,49,75,57,70,76,21,34,30,27,45,70,64,63,24,25,45,73,23,38,39,52,39,68,31,66,20,45,33,57,56,30,55,32,62,22,52,25,69,75,29,24,42,29,63,21,32,59,21,39,20,56,28,36,28,30,34,43,57,74,54,49,50,68,24,79,63,69,33,72,75,30,28,53,31,54,54,20,59,41,79,48,27,30,60,56,33,79,49,54,40,56,24,38,78,33,45,23,44,64,61,44,37,59,27,58,59,33,51,70,80,57,52,42,34,52,44,36,52,66,74,21,33,72,59,59,70,58,70,25,25,22,26,70,27,61,71,34,66,48,52,71,49,58,46,55,48,57,76,52,80,56,46,74,52,23,41,21,29,24,78,29,52,73,57,32,50,66,55,64,43,71,75,34,48,27,24,48,66,23,31,64,21,46,50,70,70,55,55,45,62,46,24,39,30,29,59,57,25,27,42,66,45,65,62,31,45,32,59,37,44,52,66,59,79,62,31,63,55,67,23,24,75,56,27,61,68,47,50,77,28,73,70,48,33,59,60,41,30,42,20,65,56,40,45,65,55,73,42,76,20,73,74,70,59,34,40,66,28,72,28,29,71,76,72,45,60,54,71,44,45,30,57,21,26,37,46,53,46,36,62,78,63,78,70,73,43,44,26,71,25,72,43,52,68,48,62,41,45,47,69,40,68,26,36,39,60,68,39,73,41,47,80,59,68,26,20,51,32,49,42,70,78,75,38,51,49,48,68,64,48,49,35,59,38,37,20,33,70,66,69,21,73,47,68,69,49,57,70,23,20,27,48,74,58,22,51,29,29,38,65,53,79,52,42,74,47,51,69,26,48,27,20,76,74,22,43,42,78,80,27,73,76,66,56,22,70,52,47,66,27,53,54,51,43,33,51,75,65,62,35,23,71,56,73,40,33,50,74,67,37,26,29,26,52,42,40,38,67,80],\"xaxis\":\"x\",\"yaxis\":\"y\",\"type\":\"histogram\"}],                        {\"template\":{\"data\":{\"barpolar\":[{\"marker\":{\"line\":{\"color\":\"rgb(17,17,17)\",\"width\":0.5},\"pattern\":{\"fillmode\":\"overlay\",\"size\":10,\"solidity\":0.2}},\"type\":\"barpolar\"}],\"bar\":[{\"error_x\":{\"color\":\"#f2f5fa\"},\"error_y\":{\"color\":\"#f2f5fa\"},\"marker\":{\"line\":{\"color\":\"rgb(17,17,17)\",\"width\":0.5},\"pattern\":{\"fillmode\":\"overlay\",\"size\":10,\"solidity\":0.2}},\"type\":\"bar\"}],\"carpet\":[{\"aaxis\":{\"endlinecolor\":\"#A2B1C6\",\"gridcolor\":\"#506784\",\"linecolor\":\"#506784\",\"minorgridcolor\":\"#506784\",\"startlinecolor\":\"#A2B1C6\"},\"baxis\":{\"endlinecolor\":\"#A2B1C6\",\"gridcolor\":\"#506784\",\"linecolor\":\"#506784\",\"minorgridcolor\":\"#506784\",\"startlinecolor\":\"#A2B1C6\"},\"type\":\"carpet\"}],\"choropleth\":[{\"colorbar\":{\"outlinewidth\":0,\"ticks\":\"\"},\"type\":\"choropleth\"}],\"contourcarpet\":[{\"colorbar\":{\"outlinewidth\":0,\"ticks\":\"\"},\"type\":\"contourcarpet\"}],\"contour\":[{\"colorbar\":{\"outlinewidth\":0,\"ticks\":\"\"},\"colorscale\":[[0.0,\"#0d0887\"],[0.1111111111111111,\"#46039f\"],[0.2222222222222222,\"#7201a8\"],[0.3333333333333333,\"#9c179e\"],[0.4444444444444444,\"#bd3786\"],[0.5555555555555556,\"#d8576b\"],[0.6666666666666666,\"#ed7953\"],[0.7777777777777778,\"#fb9f3a\"],[0.8888888888888888,\"#fdca26\"],[1.0,\"#f0f921\"]],\"type\":\"contour\"}],\"heatmapgl\":[{\"colorbar\":{\"outlinewidth\":0,\"ticks\":\"\"},\"colorscale\":[[0.0,\"#0d0887\"],[0.1111111111111111,\"#46039f\"],[0.2222222222222222,\"#7201a8\"],[0.3333333333333333,\"#9c179e\"],[0.4444444444444444,\"#bd3786\"],[0.5555555555555556,\"#d8576b\"],[0.6666666666666666,\"#ed7953\"],[0.7777777777777778,\"#fb9f3a\"],[0.8888888888888888,\"#fdca26\"],[1.0,\"#f0f921\"]],\"type\":\"heatmapgl\"}],\"heatmap\":[{\"colorbar\":{\"outlinewidth\":0,\"ticks\":\"\"},\"colorscale\":[[0.0,\"#0d0887\"],[0.1111111111111111,\"#46039f\"],[0.2222222222222222,\"#7201a8\"],[0.3333333333333333,\"#9c179e\"],[0.4444444444444444,\"#bd3786\"],[0.5555555555555556,\"#d8576b\"],[0.6666666666666666,\"#ed7953\"],[0.7777777777777778,\"#fb9f3a\"],[0.8888888888888888,\"#fdca26\"],[1.0,\"#f0f921\"]],\"type\":\"heatmap\"}],\"histogram2dcontour\":[{\"colorbar\":{\"outlinewidth\":0,\"ticks\":\"\"},\"colorscale\":[[0.0,\"#0d0887\"],[0.1111111111111111,\"#46039f\"],[0.2222222222222222,\"#7201a8\"],[0.3333333333333333,\"#9c179e\"],[0.4444444444444444,\"#bd3786\"],[0.5555555555555556,\"#d8576b\"],[0.6666666666666666,\"#ed7953\"],[0.7777777777777778,\"#fb9f3a\"],[0.8888888888888888,\"#fdca26\"],[1.0,\"#f0f921\"]],\"type\":\"histogram2dcontour\"}],\"histogram2d\":[{\"colorbar\":{\"outlinewidth\":0,\"ticks\":\"\"},\"colorscale\":[[0.0,\"#0d0887\"],[0.1111111111111111,\"#46039f\"],[0.2222222222222222,\"#7201a8\"],[0.3333333333333333,\"#9c179e\"],[0.4444444444444444,\"#bd3786\"],[0.5555555555555556,\"#d8576b\"],[0.6666666666666666,\"#ed7953\"],[0.7777777777777778,\"#fb9f3a\"],[0.8888888888888888,\"#fdca26\"],[1.0,\"#f0f921\"]],\"type\":\"histogram2d\"}],\"histogram\":[{\"marker\":{\"pattern\":{\"fillmode\":\"overlay\",\"size\":10,\"solidity\":0.2}},\"type\":\"histogram\"}],\"mesh3d\":[{\"colorbar\":{\"outlinewidth\":0,\"ticks\":\"\"},\"type\":\"mesh3d\"}],\"parcoords\":[{\"line\":{\"colorbar\":{\"outlinewidth\":0,\"ticks\":\"\"}},\"type\":\"parcoords\"}],\"pie\":[{\"automargin\":true,\"type\":\"pie\"}],\"scatter3d\":[{\"line\":{\"colorbar\":{\"outlinewidth\":0,\"ticks\":\"\"}},\"marker\":{\"colorbar\":{\"outlinewidth\":0,\"ticks\":\"\"}},\"type\":\"scatter3d\"}],\"scattercarpet\":[{\"marker\":{\"colorbar\":{\"outlinewidth\":0,\"ticks\":\"\"}},\"type\":\"scattercarpet\"}],\"scattergeo\":[{\"marker\":{\"colorbar\":{\"outlinewidth\":0,\"ticks\":\"\"}},\"type\":\"scattergeo\"}],\"scattergl\":[{\"marker\":{\"line\":{\"color\":\"#283442\"}},\"type\":\"scattergl\"}],\"scattermapbox\":[{\"marker\":{\"colorbar\":{\"outlinewidth\":0,\"ticks\":\"\"}},\"type\":\"scattermapbox\"}],\"scatterpolargl\":[{\"marker\":{\"colorbar\":{\"outlinewidth\":0,\"ticks\":\"\"}},\"type\":\"scatterpolargl\"}],\"scatterpolar\":[{\"marker\":{\"colorbar\":{\"outlinewidth\":0,\"ticks\":\"\"}},\"type\":\"scatterpolar\"}],\"scatter\":[{\"marker\":{\"line\":{\"color\":\"#283442\"}},\"type\":\"scatter\"}],\"scatterternary\":[{\"marker\":{\"colorbar\":{\"outlinewidth\":0,\"ticks\":\"\"}},\"type\":\"scatterternary\"}],\"surface\":[{\"colorbar\":{\"outlinewidth\":0,\"ticks\":\"\"},\"colorscale\":[[0.0,\"#0d0887\"],[0.1111111111111111,\"#46039f\"],[0.2222222222222222,\"#7201a8\"],[0.3333333333333333,\"#9c179e\"],[0.4444444444444444,\"#bd3786\"],[0.5555555555555556,\"#d8576b\"],[0.6666666666666666,\"#ed7953\"],[0.7777777777777778,\"#fb9f3a\"],[0.8888888888888888,\"#fdca26\"],[1.0,\"#f0f921\"]],\"type\":\"surface\"}],\"table\":[{\"cells\":{\"fill\":{\"color\":\"#506784\"},\"line\":{\"color\":\"rgb(17,17,17)\"}},\"header\":{\"fill\":{\"color\":\"#2a3f5f\"},\"line\":{\"color\":\"rgb(17,17,17)\"}},\"type\":\"table\"}]},\"layout\":{\"annotationdefaults\":{\"arrowcolor\":\"#f2f5fa\",\"arrowhead\":0,\"arrowwidth\":1},\"autotypenumbers\":\"strict\",\"coloraxis\":{\"colorbar\":{\"outlinewidth\":0,\"ticks\":\"\"}},\"colorscale\":{\"diverging\":[[0,\"#8e0152\"],[0.1,\"#c51b7d\"],[0.2,\"#de77ae\"],[0.3,\"#f1b6da\"],[0.4,\"#fde0ef\"],[0.5,\"#f7f7f7\"],[0.6,\"#e6f5d0\"],[0.7,\"#b8e186\"],[0.8,\"#7fbc41\"],[0.9,\"#4d9221\"],[1,\"#276419\"]],\"sequential\":[[0.0,\"#0d0887\"],[0.1111111111111111,\"#46039f\"],[0.2222222222222222,\"#7201a8\"],[0.3333333333333333,\"#9c179e\"],[0.4444444444444444,\"#bd3786\"],[0.5555555555555556,\"#d8576b\"],[0.6666666666666666,\"#ed7953\"],[0.7777777777777778,\"#fb9f3a\"],[0.8888888888888888,\"#fdca26\"],[1.0,\"#f0f921\"]],\"sequentialminus\":[[0.0,\"#0d0887\"],[0.1111111111111111,\"#46039f\"],[0.2222222222222222,\"#7201a8\"],[0.3333333333333333,\"#9c179e\"],[0.4444444444444444,\"#bd3786\"],[0.5555555555555556,\"#d8576b\"],[0.6666666666666666,\"#ed7953\"],[0.7777777777777778,\"#fb9f3a\"],[0.8888888888888888,\"#fdca26\"],[1.0,\"#f0f921\"]]},\"colorway\":[\"#636efa\",\"#EF553B\",\"#00cc96\",\"#ab63fa\",\"#FFA15A\",\"#19d3f3\",\"#FF6692\",\"#B6E880\",\"#FF97FF\",\"#FECB52\"],\"font\":{\"color\":\"#f2f5fa\"},\"geo\":{\"bgcolor\":\"rgb(17,17,17)\",\"lakecolor\":\"rgb(17,17,17)\",\"landcolor\":\"rgb(17,17,17)\",\"showlakes\":true,\"showland\":true,\"subunitcolor\":\"#506784\"},\"hoverlabel\":{\"align\":\"left\"},\"hovermode\":\"closest\",\"mapbox\":{\"style\":\"dark\"},\"paper_bgcolor\":\"rgb(17,17,17)\",\"plot_bgcolor\":\"rgb(17,17,17)\",\"polar\":{\"angularaxis\":{\"gridcolor\":\"#506784\",\"linecolor\":\"#506784\",\"ticks\":\"\"},\"bgcolor\":\"rgb(17,17,17)\",\"radialaxis\":{\"gridcolor\":\"#506784\",\"linecolor\":\"#506784\",\"ticks\":\"\"}},\"scene\":{\"xaxis\":{\"backgroundcolor\":\"rgb(17,17,17)\",\"gridcolor\":\"#506784\",\"gridwidth\":2,\"linecolor\":\"#506784\",\"showbackground\":true,\"ticks\":\"\",\"zerolinecolor\":\"#C8D4E3\"},\"yaxis\":{\"backgroundcolor\":\"rgb(17,17,17)\",\"gridcolor\":\"#506784\",\"gridwidth\":2,\"linecolor\":\"#506784\",\"showbackground\":true,\"ticks\":\"\",\"zerolinecolor\":\"#C8D4E3\"},\"zaxis\":{\"backgroundcolor\":\"rgb(17,17,17)\",\"gridcolor\":\"#506784\",\"gridwidth\":2,\"linecolor\":\"#506784\",\"showbackground\":true,\"ticks\":\"\",\"zerolinecolor\":\"#C8D4E3\"}},\"shapedefaults\":{\"line\":{\"color\":\"#f2f5fa\"}},\"sliderdefaults\":{\"bgcolor\":\"#C8D4E3\",\"bordercolor\":\"rgb(17,17,17)\",\"borderwidth\":1,\"tickwidth\":0},\"ternary\":{\"aaxis\":{\"gridcolor\":\"#506784\",\"linecolor\":\"#506784\",\"ticks\":\"\"},\"baxis\":{\"gridcolor\":\"#506784\",\"linecolor\":\"#506784\",\"ticks\":\"\"},\"bgcolor\":\"rgb(17,17,17)\",\"caxis\":{\"gridcolor\":\"#506784\",\"linecolor\":\"#506784\",\"ticks\":\"\"}},\"title\":{\"x\":0.05},\"updatemenudefaults\":{\"bgcolor\":\"#506784\",\"borderwidth\":0},\"xaxis\":{\"automargin\":true,\"gridcolor\":\"#283442\",\"linecolor\":\"#506784\",\"ticks\":\"\",\"title\":{\"standoff\":15},\"zerolinecolor\":\"#283442\",\"zerolinewidth\":2},\"yaxis\":{\"automargin\":true,\"gridcolor\":\"#283442\",\"linecolor\":\"#506784\",\"ticks\":\"\",\"title\":{\"standoff\":15},\"zerolinecolor\":\"#283442\",\"zerolinewidth\":2}}},\"xaxis\":{\"anchor\":\"y\",\"domain\":[0.0,1.0],\"title\":{\"text\":\"Age\"}},\"yaxis\":{\"anchor\":\"x\",\"domain\":[0.0,1.0],\"title\":{\"text\":\"count\"}},\"legend\":{\"tracegroupgap\":0},\"title\":{\"text\":\"Age Distribution\",\"x\":0.5},\"barmode\":\"relative\",\"width\":800,\"height\":600},                        {\"responsive\": true}                    ).then(function(){\n",
       "                            \n",
       "var gd = document.getElementById('bd319679-62f8-45a0-8f0f-750ff5c4db9a');\n",
       "var x = new MutationObserver(function (mutations, observer) {{\n",
       "        var display = window.getComputedStyle(gd).display;\n",
       "        if (!display || display === 'none') {{\n",
       "            console.log([gd, 'removed!']);\n",
       "            Plotly.purge(gd);\n",
       "            observer.disconnect();\n",
       "        }}\n",
       "}});\n",
       "\n",
       "// Listen for the removal of the full notebook cells\n",
       "var notebookContainer = gd.closest('#notebook-container');\n",
       "if (notebookContainer) {{\n",
       "    x.observe(notebookContainer, {childList: true});\n",
       "}}\n",
       "\n",
       "// Listen for the clearing of the current output cell\n",
       "var outputEl = gd.closest('.output');\n",
       "if (outputEl) {{\n",
       "    x.observe(outputEl, {childList: true});\n",
       "}}\n",
       "\n",
       "                        })                };                });            </script>        </div>"
      ]
     },
     "metadata": {},
     "output_type": "display_data"
    }
   ],
   "source": [
    "plt = px.histogram(data, x=\"Age\", title=\"Age Distribution\",text_auto=True, color_discrete_sequence=px.colors.sequential.Cividis)\n",
    "plt.update_layout(\n",
    "    title_x=0.5,\n",
    "    template=\"plotly_dark\",  \n",
    "    width=800,              \n",
    "    height=600 \n",
    ")\n",
    "plt.show()"
   ]
  },
  {
   "cell_type": "code",
   "execution_count": 10,
   "id": "0c580f9d",
   "metadata": {
    "execution": {
     "iopub.execute_input": "2024-09-05T23:23:04.918824Z",
     "iopub.status.busy": "2024-09-05T23:23:04.917930Z",
     "iopub.status.idle": "2024-09-05T23:23:04.927450Z",
     "shell.execute_reply": "2024-09-05T23:23:04.926448Z"
    },
    "papermill": {
     "duration": 0.033941,
     "end_time": "2024-09-05T23:23:04.929690",
     "exception": false,
     "start_time": "2024-09-05T23:23:04.895749",
     "status": "completed"
    },
    "tags": []
   },
   "outputs": [
    {
     "data": {
      "text/html": [
       "<div>\n",
       "<style scoped>\n",
       "    .dataframe tbody tr th:only-of-type {\n",
       "        vertical-align: middle;\n",
       "    }\n",
       "\n",
       "    .dataframe tbody tr th {\n",
       "        vertical-align: top;\n",
       "    }\n",
       "\n",
       "    .dataframe thead th {\n",
       "        text-align: right;\n",
       "    }\n",
       "</style>\n",
       "<table border=\"1\" class=\"dataframe\">\n",
       "  <thead>\n",
       "    <tr style=\"text-align: right;\">\n",
       "      <th></th>\n",
       "      <th>count</th>\n",
       "    </tr>\n",
       "    <tr>\n",
       "      <th>Gender</th>\n",
       "      <th></th>\n",
       "    </tr>\n",
       "  </thead>\n",
       "  <tbody>\n",
       "    <tr>\n",
       "      <th>1</th>\n",
       "      <td>857</td>\n",
       "    </tr>\n",
       "    <tr>\n",
       "      <th>0</th>\n",
       "      <td>843</td>\n",
       "    </tr>\n",
       "  </tbody>\n",
       "</table>\n",
       "</div>"
      ],
      "text/plain": [
       "        count\n",
       "Gender       \n",
       "1         857\n",
       "0         843"
      ]
     },
     "execution_count": 10,
     "metadata": {},
     "output_type": "execute_result"
    }
   ],
   "source": [
    "### Gender Distrbution\n",
    "data.Gender.value_counts().to_frame()"
   ]
  },
  {
   "cell_type": "code",
   "execution_count": 11,
   "id": "3a32c218",
   "metadata": {
    "execution": {
     "iopub.execute_input": "2024-09-05T23:23:04.975715Z",
     "iopub.status.busy": "2024-09-05T23:23:04.974741Z",
     "iopub.status.idle": "2024-09-05T23:23:05.084960Z",
     "shell.execute_reply": "2024-09-05T23:23:05.083945Z"
    },
    "papermill": {
     "duration": 0.135022,
     "end_time": "2024-09-05T23:23:05.087147",
     "exception": false,
     "start_time": "2024-09-05T23:23:04.952125",
     "status": "completed"
    },
    "tags": []
   },
   "outputs": [
    {
     "data": {
      "text/html": [
       "<div>                            <div id=\"c0cd60f3-d8d5-4491-b6dd-3a27b6a5e7a4\" class=\"plotly-graph-div\" style=\"height:600px; width:800px;\"></div>            <script type=\"text/javascript\">                require([\"plotly\"], function(Plotly) {                    window.PLOTLYENV=window.PLOTLYENV || {};                                    if (document.getElementById(\"c0cd60f3-d8d5-4491-b6dd-3a27b6a5e7a4\")) {                    Plotly.newPlot(                        \"c0cd60f3-d8d5-4491-b6dd-3a27b6a5e7a4\",                        [{\"domain\":{\"x\":[0.0,1.0],\"y\":[0.0,1.0]},\"hovertemplate\":\"label=%{label}\\u003cextra\\u003e\\u003c\\u002fextra\\u003e\",\"labels\":[\"Female\",\"Male\",\"Female\",\"Male\",\"Male\",\"Male\",\"Female\",\"Female\",\"Female\",\"Male\",\"Female\",\"Male\",\"Female\",\"Male\",\"Female\",\"Female\",\"Female\",\"Male\",\"Male\",\"Female\",\"Female\",\"Male\",\"Male\",\"Male\",\"Female\",\"Male\",\"Female\",\"Male\",\"Female\",\"Male\",\"Male\",\"Male\",\"Male\",\"Male\",\"Female\",\"Male\",\"Male\",\"Male\",\"Female\",\"Male\",\"Female\",\"Male\",\"Male\",\"Female\",\"Male\",\"Female\",\"Female\",\"Male\",\"Female\",\"Male\",\"Male\",\"Female\",\"Female\",\"Female\",\"Female\",\"Male\",\"Male\",\"Female\",\"Male\",\"Male\",\"Male\",\"Male\",\"Female\",\"Female\",\"Male\",\"Female\",\"Female\",\"Female\",\"Male\",\"Male\",\"Male\",\"Female\",\"Male\",\"Male\",\"Female\",\"Male\",\"Male\",\"Female\",\"Female\",\"Female\",\"Male\",\"Male\",\"Male\",\"Female\",\"Female\",\"Male\",\"Male\",\"Female\",\"Female\",\"Female\",\"Female\",\"Male\",\"Female\",\"Male\",\"Male\",\"Male\",\"Female\",\"Female\",\"Female\",\"Female\",\"Male\",\"Female\",\"Female\",\"Male\",\"Female\",\"Male\",\"Male\",\"Male\",\"Male\",\"Male\",\"Male\",\"Male\",\"Male\",\"Female\",\"Female\",\"Female\",\"Female\",\"Male\",\"Female\",\"Male\",\"Female\",\"Female\",\"Female\",\"Male\",\"Female\",\"Male\",\"Male\",\"Female\",\"Female\",\"Female\",\"Male\",\"Female\",\"Male\",\"Male\",\"Female\",\"Female\",\"Male\",\"Male\",\"Male\",\"Female\",\"Male\",\"Female\",\"Male\",\"Male\",\"Female\",\"Male\",\"Female\",\"Female\",\"Male\",\"Female\",\"Female\",\"Male\",\"Female\",\"Female\",\"Female\",\"Male\",\"Female\",\"Male\",\"Male\",\"Female\",\"Female\",\"Female\",\"Male\",\"Female\",\"Female\",\"Female\",\"Female\",\"Female\",\"Male\",\"Male\",\"Female\",\"Female\",\"Female\",\"Female\",\"Male\",\"Female\",\"Male\",\"Male\",\"Female\",\"Male\",\"Male\",\"Male\",\"Male\",\"Female\",\"Female\",\"Male\",\"Female\",\"Female\",\"Female\",\"Female\",\"Female\",\"Male\",\"Female\",\"Female\",\"Female\",\"Female\",\"Male\",\"Male\",\"Male\",\"Male\",\"Female\",\"Male\",\"Female\",\"Female\",\"Female\",\"Female\",\"Female\",\"Male\",\"Male\",\"Male\",\"Male\",\"Female\",\"Male\",\"Female\",\"Male\",\"Female\",\"Female\",\"Male\",\"Female\",\"Female\",\"Male\",\"Female\",\"Male\",\"Male\",\"Male\",\"Female\",\"Female\",\"Female\",\"Male\",\"Female\",\"Male\",\"Male\",\"Female\",\"Male\",\"Female\",\"Female\",\"Female\",\"Female\",\"Female\",\"Male\",\"Male\",\"Male\",\"Female\",\"Female\",\"Female\",\"Male\",\"Female\",\"Male\",\"Male\",\"Female\",\"Female\",\"Male\",\"Female\",\"Male\",\"Female\",\"Female\",\"Male\",\"Female\",\"Male\",\"Female\",\"Male\",\"Male\",\"Female\",\"Male\",\"Female\",\"Female\",\"Female\",\"Male\",\"Male\",\"Female\",\"Female\",\"Male\",\"Female\",\"Female\",\"Male\",\"Female\",\"Male\",\"Female\",\"Male\",\"Female\",\"Female\",\"Male\",\"Female\",\"Male\",\"Female\",\"Male\",\"Male\",\"Male\",\"Male\",\"Female\",\"Female\",\"Male\",\"Male\",\"Male\",\"Female\",\"Female\",\"Female\",\"Female\",\"Male\",\"Male\",\"Male\",\"Female\",\"Female\",\"Female\",\"Male\",\"Male\",\"Female\",\"Male\",\"Female\",\"Female\",\"Male\",\"Female\",\"Male\",\"Female\",\"Male\",\"Male\",\"Male\",\"Female\",\"Female\",\"Male\",\"Male\",\"Female\",\"Female\",\"Female\",\"Male\",\"Female\",\"Female\",\"Male\",\"Female\",\"Female\",\"Female\",\"Male\",\"Male\",\"Male\",\"Male\",\"Male\",\"Male\",\"Male\",\"Female\",\"Female\",\"Male\",\"Female\",\"Female\",\"Male\",\"Female\",\"Female\",\"Female\",\"Female\",\"Female\",\"Male\",\"Male\",\"Male\",\"Female\",\"Male\",\"Female\",\"Female\",\"Female\",\"Female\",\"Male\",\"Male\",\"Female\",\"Male\",\"Female\",\"Male\",\"Male\",\"Female\",\"Male\",\"Female\",\"Male\",\"Female\",\"Female\",\"Male\",\"Male\",\"Female\",\"Male\",\"Male\",\"Female\",\"Female\",\"Male\",\"Female\",\"Female\",\"Female\",\"Male\",\"Male\",\"Female\",\"Male\",\"Female\",\"Male\",\"Female\",\"Female\",\"Male\",\"Female\",\"Male\",\"Male\",\"Female\",\"Female\",\"Male\",\"Female\",\"Female\",\"Female\",\"Female\",\"Female\",\"Male\",\"Male\",\"Female\",\"Female\",\"Female\",\"Male\",\"Female\",\"Male\",\"Male\",\"Male\",\"Female\",\"Male\",\"Female\",\"Male\",\"Female\",\"Male\",\"Female\",\"Male\",\"Female\",\"Female\",\"Female\",\"Female\",\"Male\",\"Male\",\"Female\",\"Male\",\"Female\",\"Female\",\"Male\",\"Female\",\"Female\",\"Male\",\"Female\",\"Female\",\"Female\",\"Female\",\"Male\",\"Male\",\"Male\",\"Female\",\"Female\",\"Male\",\"Female\",\"Female\",\"Female\",\"Female\",\"Male\",\"Male\",\"Male\",\"Female\",\"Male\",\"Male\",\"Female\",\"Female\",\"Male\",\"Male\",\"Male\",\"Male\",\"Female\",\"Male\",\"Male\",\"Female\",\"Male\",\"Female\",\"Female\",\"Female\",\"Male\",\"Male\",\"Female\",\"Male\",\"Male\",\"Female\",\"Female\",\"Male\",\"Female\",\"Male\",\"Male\",\"Male\",\"Male\",\"Female\",\"Female\",\"Female\",\"Female\",\"Male\",\"Male\",\"Female\",\"Male\",\"Male\",\"Male\",\"Female\",\"Female\",\"Female\",\"Male\",\"Female\",\"Female\",\"Female\",\"Female\",\"Female\",\"Female\",\"Male\",\"Male\",\"Female\",\"Female\",\"Male\",\"Male\",\"Female\",\"Female\",\"Female\",\"Female\",\"Male\",\"Female\",\"Female\",\"Female\",\"Female\",\"Male\",\"Male\",\"Male\",\"Female\",\"Female\",\"Male\",\"Female\",\"Female\",\"Male\",\"Male\",\"Male\",\"Male\",\"Female\",\"Female\",\"Male\",\"Female\",\"Male\",\"Male\",\"Female\",\"Male\",\"Female\",\"Female\",\"Female\",\"Female\",\"Male\",\"Female\",\"Male\",\"Male\",\"Male\",\"Male\",\"Female\",\"Female\",\"Male\",\"Male\",\"Female\",\"Male\",\"Female\",\"Male\",\"Female\",\"Male\",\"Male\",\"Female\",\"Male\",\"Male\",\"Female\",\"Male\",\"Female\",\"Female\",\"Male\",\"Male\",\"Male\",\"Male\",\"Male\",\"Male\",\"Male\",\"Female\",\"Male\",\"Female\",\"Male\",\"Male\",\"Female\",\"Male\",\"Male\",\"Female\",\"Male\",\"Male\",\"Male\",\"Female\",\"Male\",\"Male\",\"Male\",\"Male\",\"Female\",\"Female\",\"Male\",\"Male\",\"Female\",\"Female\",\"Male\",\"Female\",\"Male\",\"Female\",\"Female\",\"Female\",\"Female\",\"Male\",\"Female\",\"Female\",\"Male\",\"Female\",\"Female\",\"Male\",\"Female\",\"Male\",\"Male\",\"Male\",\"Male\",\"Female\",\"Male\",\"Female\",\"Female\",\"Female\",\"Female\",\"Female\",\"Female\",\"Female\",\"Female\",\"Female\",\"Female\",\"Male\",\"Male\",\"Male\",\"Female\",\"Male\",\"Male\",\"Male\",\"Female\",\"Female\",\"Female\",\"Female\",\"Male\",\"Male\",\"Male\",\"Male\",\"Female\",\"Female\",\"Female\",\"Male\",\"Female\",\"Female\",\"Male\",\"Male\",\"Female\",\"Female\",\"Female\",\"Female\",\"Female\",\"Female\",\"Male\",\"Male\",\"Male\",\"Female\",\"Male\",\"Female\",\"Female\",\"Male\",\"Female\",\"Female\",\"Male\",\"Male\",\"Male\",\"Female\",\"Male\",\"Male\",\"Female\",\"Male\",\"Male\",\"Male\",\"Female\",\"Female\",\"Female\",\"Female\",\"Male\",\"Female\",\"Female\",\"Male\",\"Male\",\"Male\",\"Female\",\"Female\",\"Female\",\"Male\",\"Male\",\"Female\",\"Male\",\"Male\",\"Male\",\"Female\",\"Male\",\"Male\",\"Female\",\"Female\",\"Male\",\"Male\",\"Female\",\"Female\",\"Male\",\"Male\",\"Male\",\"Male\",\"Female\",\"Male\",\"Male\",\"Female\",\"Male\",\"Female\",\"Male\",\"Male\",\"Female\",\"Female\",\"Male\",\"Male\",\"Male\",\"Female\",\"Male\",\"Female\",\"Female\",\"Male\",\"Female\",\"Male\",\"Male\",\"Male\",\"Male\",\"Male\",\"Female\",\"Female\",\"Male\",\"Male\",\"Female\",\"Female\",\"Female\",\"Female\",\"Male\",\"Male\",\"Female\",\"Male\",\"Female\",\"Male\",\"Female\",\"Male\",\"Female\",\"Female\",\"Male\",\"Female\",\"Male\",\"Male\",\"Female\",\"Male\",\"Male\",\"Male\",\"Male\",\"Male\",\"Female\",\"Male\",\"Male\",\"Male\",\"Male\",\"Male\",\"Female\",\"Male\",\"Female\",\"Female\",\"Female\",\"Female\",\"Male\",\"Female\",\"Female\",\"Male\",\"Male\",\"Male\",\"Female\",\"Male\",\"Male\",\"Female\",\"Male\",\"Male\",\"Male\",\"Male\",\"Female\",\"Male\",\"Male\",\"Female\",\"Male\",\"Female\",\"Male\",\"Female\",\"Female\",\"Female\",\"Female\",\"Male\",\"Female\",\"Male\",\"Female\",\"Female\",\"Female\",\"Male\",\"Female\",\"Male\",\"Male\",\"Male\",\"Male\",\"Male\",\"Male\",\"Male\",\"Male\",\"Male\",\"Female\",\"Female\",\"Female\",\"Female\",\"Female\",\"Male\",\"Male\",\"Male\",\"Male\",\"Male\",\"Male\",\"Male\",\"Female\",\"Female\",\"Female\",\"Female\",\"Male\",\"Male\",\"Male\",\"Female\",\"Male\",\"Male\",\"Male\",\"Female\",\"Male\",\"Female\",\"Female\",\"Female\",\"Female\",\"Male\",\"Female\",\"Female\",\"Male\",\"Male\",\"Female\",\"Male\",\"Female\",\"Female\",\"Female\",\"Female\",\"Male\",\"Female\",\"Male\",\"Male\",\"Male\",\"Male\",\"Female\",\"Male\",\"Female\",\"Male\",\"Male\",\"Female\",\"Female\",\"Female\",\"Male\",\"Male\",\"Female\",\"Female\",\"Female\",\"Female\",\"Male\",\"Female\",\"Female\",\"Female\",\"Female\",\"Male\",\"Female\",\"Male\",\"Female\",\"Female\",\"Male\",\"Female\",\"Male\",\"Male\",\"Female\",\"Male\",\"Male\",\"Male\",\"Male\",\"Male\",\"Male\",\"Male\",\"Male\",\"Female\",\"Female\",\"Male\",\"Female\",\"Male\",\"Male\",\"Female\",\"Male\",\"Male\",\"Male\",\"Male\",\"Female\",\"Male\",\"Male\",\"Male\",\"Female\",\"Male\",\"Female\",\"Female\",\"Male\",\"Male\",\"Female\",\"Male\",\"Female\",\"Female\",\"Male\",\"Male\",\"Female\",\"Female\",\"Female\",\"Female\",\"Male\",\"Male\",\"Male\",\"Male\",\"Male\",\"Female\",\"Male\",\"Male\",\"Male\",\"Male\",\"Male\",\"Female\",\"Female\",\"Female\",\"Male\",\"Female\",\"Female\",\"Male\",\"Male\",\"Male\",\"Female\",\"Female\",\"Male\",\"Male\",\"Female\",\"Female\",\"Male\",\"Male\",\"Female\",\"Male\",\"Female\",\"Female\",\"Female\",\"Female\",\"Male\",\"Male\",\"Female\",\"Female\",\"Female\",\"Female\",\"Female\",\"Male\",\"Male\",\"Male\",\"Male\",\"Female\",\"Female\",\"Female\",\"Female\",\"Female\",\"Male\",\"Female\",\"Male\",\"Male\",\"Male\",\"Male\",\"Female\",\"Male\",\"Male\",\"Male\",\"Female\",\"Female\",\"Female\",\"Male\",\"Male\",\"Female\",\"Male\",\"Female\",\"Female\",\"Male\",\"Male\",\"Male\",\"Male\",\"Female\",\"Female\",\"Female\",\"Female\",\"Female\",\"Male\",\"Female\",\"Female\",\"Female\",\"Male\",\"Male\",\"Male\",\"Male\",\"Female\",\"Female\",\"Male\",\"Male\",\"Female\",\"Female\",\"Male\",\"Male\",\"Male\",\"Male\",\"Female\",\"Female\",\"Female\",\"Male\",\"Male\",\"Female\",\"Female\",\"Female\",\"Female\",\"Male\",\"Female\",\"Female\",\"Female\",\"Female\",\"Female\",\"Female\",\"Female\",\"Male\",\"Male\",\"Male\",\"Male\",\"Female\",\"Male\",\"Male\",\"Female\",\"Female\",\"Male\",\"Male\",\"Female\",\"Male\",\"Female\",\"Female\",\"Female\",\"Female\",\"Male\",\"Female\",\"Female\",\"Male\",\"Female\",\"Male\",\"Male\",\"Male\",\"Female\",\"Male\",\"Male\",\"Female\",\"Male\",\"Male\",\"Male\",\"Male\",\"Male\",\"Female\",\"Male\",\"Male\",\"Female\",\"Female\",\"Female\",\"Male\",\"Female\",\"Male\",\"Male\",\"Female\",\"Female\",\"Male\",\"Female\",\"Male\",\"Female\",\"Female\",\"Female\",\"Male\",\"Female\",\"Male\",\"Male\",\"Male\",\"Male\",\"Female\",\"Male\",\"Male\",\"Female\",\"Male\",\"Female\",\"Male\",\"Female\",\"Male\",\"Female\",\"Male\",\"Male\",\"Female\",\"Female\",\"Female\",\"Female\",\"Male\",\"Male\",\"Female\",\"Male\",\"Female\",\"Female\",\"Male\",\"Male\",\"Male\",\"Male\",\"Male\",\"Male\",\"Male\",\"Female\",\"Female\",\"Female\",\"Female\",\"Female\",\"Male\",\"Female\",\"Female\",\"Female\",\"Female\",\"Female\",\"Female\",\"Female\",\"Male\",\"Male\",\"Female\",\"Male\",\"Male\",\"Male\",\"Male\",\"Female\",\"Male\",\"Male\",\"Male\",\"Female\",\"Female\",\"Female\",\"Female\",\"Female\",\"Female\",\"Female\",\"Male\",\"Male\",\"Male\",\"Female\",\"Female\",\"Female\",\"Female\",\"Female\",\"Male\",\"Male\",\"Female\",\"Female\",\"Female\",\"Female\",\"Male\",\"Female\",\"Female\",\"Female\",\"Female\",\"Male\",\"Female\",\"Female\",\"Male\",\"Male\",\"Male\",\"Female\",\"Female\",\"Male\",\"Male\",\"Male\",\"Male\",\"Male\",\"Male\",\"Female\",\"Female\",\"Female\",\"Male\",\"Male\",\"Male\",\"Male\",\"Male\",\"Male\",\"Female\",\"Female\",\"Male\",\"Female\",\"Male\",\"Female\",\"Male\",\"Male\",\"Female\",\"Female\",\"Male\",\"Male\",\"Female\",\"Female\",\"Male\",\"Female\",\"Male\",\"Male\",\"Male\",\"Male\",\"Female\",\"Female\",\"Female\",\"Female\",\"Female\",\"Female\",\"Female\",\"Male\",\"Female\",\"Female\",\"Male\",\"Female\",\"Female\",\"Male\",\"Female\",\"Female\",\"Female\",\"Male\",\"Female\",\"Female\",\"Male\",\"Female\",\"Male\",\"Male\",\"Female\",\"Male\",\"Male\",\"Female\",\"Male\",\"Male\",\"Female\",\"Female\",\"Female\",\"Male\",\"Female\",\"Male\",\"Male\",\"Male\",\"Male\",\"Male\",\"Male\",\"Male\",\"Female\",\"Female\",\"Male\",\"Male\",\"Female\",\"Male\",\"Female\",\"Female\",\"Female\",\"Male\",\"Male\",\"Female\",\"Female\",\"Female\",\"Female\",\"Female\",\"Male\",\"Female\",\"Male\",\"Female\",\"Male\",\"Male\",\"Male\",\"Male\",\"Male\",\"Male\",\"Female\",\"Male\",\"Female\",\"Male\",\"Male\",\"Female\",\"Male\",\"Female\",\"Female\",\"Female\",\"Female\",\"Male\",\"Male\",\"Female\",\"Male\",\"Male\",\"Female\",\"Male\",\"Female\",\"Female\",\"Male\",\"Male\",\"Male\",\"Female\",\"Female\",\"Male\",\"Male\",\"Male\",\"Male\",\"Female\",\"Male\",\"Female\",\"Female\",\"Male\",\"Male\",\"Male\",\"Female\",\"Male\",\"Male\",\"Female\",\"Male\",\"Female\",\"Male\",\"Female\",\"Male\",\"Male\",\"Female\",\"Female\",\"Male\",\"Female\",\"Female\",\"Female\",\"Female\",\"Male\",\"Male\",\"Female\",\"Female\",\"Female\",\"Female\",\"Male\",\"Male\",\"Female\",\"Female\",\"Female\",\"Male\",\"Female\",\"Male\",\"Female\",\"Male\",\"Female\",\"Male\",\"Female\",\"Female\",\"Female\",\"Male\",\"Female\",\"Male\",\"Male\",\"Female\",\"Female\",\"Female\",\"Male\",\"Female\",\"Male\",\"Male\",\"Female\",\"Female\",\"Female\",\"Female\",\"Female\",\"Female\",\"Male\",\"Male\",\"Male\",\"Female\",\"Male\",\"Male\",\"Male\",\"Male\",\"Male\",\"Female\",\"Female\",\"Male\",\"Male\",\"Male\",\"Female\",\"Female\",\"Male\",\"Female\",\"Female\",\"Male\",\"Female\",\"Female\",\"Male\",\"Female\",\"Female\",\"Male\",\"Female\",\"Female\",\"Male\",\"Male\",\"Male\",\"Female\",\"Male\",\"Female\",\"Male\",\"Female\",\"Male\",\"Male\",\"Male\",\"Male\",\"Female\",\"Male\",\"Male\",\"Female\",\"Male\",\"Female\",\"Male\",\"Male\",\"Male\",\"Female\",\"Male\",\"Male\",\"Male\",\"Female\",\"Female\",\"Male\",\"Female\",\"Male\",\"Male\",\"Male\",\"Male\",\"Male\",\"Male\",\"Male\",\"Female\",\"Female\",\"Female\",\"Female\",\"Female\",\"Female\",\"Female\",\"Male\",\"Male\",\"Male\",\"Male\",\"Female\",\"Female\",\"Male\",\"Male\",\"Female\",\"Male\",\"Male\",\"Male\",\"Male\",\"Female\",\"Male\",\"Male\",\"Female\",\"Female\",\"Male\",\"Female\",\"Male\",\"Male\",\"Female\",\"Male\",\"Male\",\"Male\",\"Male\",\"Female\",\"Female\",\"Male\",\"Female\",\"Male\",\"Male\",\"Male\",\"Male\",\"Male\",\"Female\",\"Male\",\"Female\",\"Female\",\"Male\",\"Male\",\"Male\",\"Male\",\"Male\",\"Female\",\"Male\",\"Male\",\"Female\",\"Female\",\"Male\",\"Female\",\"Male\",\"Female\",\"Female\",\"Male\",\"Female\",\"Female\",\"Female\",\"Female\",\"Female\",\"Female\",\"Male\",\"Male\",\"Female\",\"Male\",\"Male\",\"Male\",\"Female\",\"Male\",\"Female\",\"Male\",\"Female\",\"Female\",\"Male\",\"Male\",\"Female\",\"Male\",\"Male\",\"Male\",\"Female\",\"Female\",\"Male\",\"Male\",\"Male\",\"Female\",\"Female\",\"Male\",\"Male\",\"Male\",\"Male\",\"Male\",\"Male\",\"Female\",\"Male\",\"Female\",\"Male\",\"Male\",\"Female\",\"Female\",\"Female\",\"Female\",\"Male\",\"Female\",\"Male\",\"Female\",\"Male\",\"Male\",\"Male\",\"Male\",\"Male\",\"Male\",\"Female\",\"Male\",\"Female\",\"Female\",\"Male\",\"Female\",\"Male\",\"Female\",\"Male\",\"Female\",\"Male\",\"Male\",\"Male\",\"Male\",\"Female\",\"Male\",\"Female\",\"Female\",\"Female\",\"Male\",\"Female\",\"Female\",\"Female\",\"Male\",\"Male\",\"Female\",\"Male\",\"Male\",\"Female\",\"Female\",\"Male\",\"Female\",\"Male\",\"Male\",\"Male\",\"Male\",\"Male\",\"Male\",\"Female\",\"Female\",\"Male\",\"Male\",\"Male\",\"Female\",\"Male\",\"Female\",\"Male\",\"Male\",\"Female\",\"Female\",\"Male\",\"Male\",\"Male\",\"Female\",\"Female\",\"Female\",\"Female\",\"Female\",\"Female\",\"Male\",\"Male\",\"Female\",\"Male\",\"Male\",\"Female\",\"Male\",\"Female\",\"Female\",\"Male\",\"Female\",\"Female\",\"Female\",\"Female\",\"Female\",\"Female\",\"Female\",\"Female\",\"Male\",\"Male\",\"Male\",\"Female\",\"Female\",\"Male\",\"Male\",\"Male\",\"Female\",\"Male\",\"Male\",\"Female\",\"Male\",\"Female\",\"Female\",\"Female\",\"Male\",\"Male\",\"Female\",\"Male\",\"Male\",\"Male\",\"Male\",\"Female\",\"Male\",\"Female\",\"Female\",\"Male\",\"Female\",\"Male\",\"Male\",\"Female\",\"Female\",\"Female\",\"Female\",\"Male\",\"Male\",\"Male\",\"Female\",\"Female\",\"Female\",\"Male\",\"Female\",\"Male\",\"Female\",\"Male\",\"Male\",\"Female\",\"Female\",\"Male\",\"Male\",\"Female\",\"Female\",\"Male\",\"Female\",\"Male\",\"Male\",\"Female\",\"Female\",\"Female\",\"Female\",\"Female\"],\"legendgroup\":\"\",\"name\":\"\",\"showlegend\":true,\"type\":\"pie\"}],                        {\"template\":{\"data\":{\"barpolar\":[{\"marker\":{\"line\":{\"color\":\"rgb(17,17,17)\",\"width\":0.5},\"pattern\":{\"fillmode\":\"overlay\",\"size\":10,\"solidity\":0.2}},\"type\":\"barpolar\"}],\"bar\":[{\"error_x\":{\"color\":\"#f2f5fa\"},\"error_y\":{\"color\":\"#f2f5fa\"},\"marker\":{\"line\":{\"color\":\"rgb(17,17,17)\",\"width\":0.5},\"pattern\":{\"fillmode\":\"overlay\",\"size\":10,\"solidity\":0.2}},\"type\":\"bar\"}],\"carpet\":[{\"aaxis\":{\"endlinecolor\":\"#A2B1C6\",\"gridcolor\":\"#506784\",\"linecolor\":\"#506784\",\"minorgridcolor\":\"#506784\",\"startlinecolor\":\"#A2B1C6\"},\"baxis\":{\"endlinecolor\":\"#A2B1C6\",\"gridcolor\":\"#506784\",\"linecolor\":\"#506784\",\"minorgridcolor\":\"#506784\",\"startlinecolor\":\"#A2B1C6\"},\"type\":\"carpet\"}],\"choropleth\":[{\"colorbar\":{\"outlinewidth\":0,\"ticks\":\"\"},\"type\":\"choropleth\"}],\"contourcarpet\":[{\"colorbar\":{\"outlinewidth\":0,\"ticks\":\"\"},\"type\":\"contourcarpet\"}],\"contour\":[{\"colorbar\":{\"outlinewidth\":0,\"ticks\":\"\"},\"colorscale\":[[0.0,\"#0d0887\"],[0.1111111111111111,\"#46039f\"],[0.2222222222222222,\"#7201a8\"],[0.3333333333333333,\"#9c179e\"],[0.4444444444444444,\"#bd3786\"],[0.5555555555555556,\"#d8576b\"],[0.6666666666666666,\"#ed7953\"],[0.7777777777777778,\"#fb9f3a\"],[0.8888888888888888,\"#fdca26\"],[1.0,\"#f0f921\"]],\"type\":\"contour\"}],\"heatmapgl\":[{\"colorbar\":{\"outlinewidth\":0,\"ticks\":\"\"},\"colorscale\":[[0.0,\"#0d0887\"],[0.1111111111111111,\"#46039f\"],[0.2222222222222222,\"#7201a8\"],[0.3333333333333333,\"#9c179e\"],[0.4444444444444444,\"#bd3786\"],[0.5555555555555556,\"#d8576b\"],[0.6666666666666666,\"#ed7953\"],[0.7777777777777778,\"#fb9f3a\"],[0.8888888888888888,\"#fdca26\"],[1.0,\"#f0f921\"]],\"type\":\"heatmapgl\"}],\"heatmap\":[{\"colorbar\":{\"outlinewidth\":0,\"ticks\":\"\"},\"colorscale\":[[0.0,\"#0d0887\"],[0.1111111111111111,\"#46039f\"],[0.2222222222222222,\"#7201a8\"],[0.3333333333333333,\"#9c179e\"],[0.4444444444444444,\"#bd3786\"],[0.5555555555555556,\"#d8576b\"],[0.6666666666666666,\"#ed7953\"],[0.7777777777777778,\"#fb9f3a\"],[0.8888888888888888,\"#fdca26\"],[1.0,\"#f0f921\"]],\"type\":\"heatmap\"}],\"histogram2dcontour\":[{\"colorbar\":{\"outlinewidth\":0,\"ticks\":\"\"},\"colorscale\":[[0.0,\"#0d0887\"],[0.1111111111111111,\"#46039f\"],[0.2222222222222222,\"#7201a8\"],[0.3333333333333333,\"#9c179e\"],[0.4444444444444444,\"#bd3786\"],[0.5555555555555556,\"#d8576b\"],[0.6666666666666666,\"#ed7953\"],[0.7777777777777778,\"#fb9f3a\"],[0.8888888888888888,\"#fdca26\"],[1.0,\"#f0f921\"]],\"type\":\"histogram2dcontour\"}],\"histogram2d\":[{\"colorbar\":{\"outlinewidth\":0,\"ticks\":\"\"},\"colorscale\":[[0.0,\"#0d0887\"],[0.1111111111111111,\"#46039f\"],[0.2222222222222222,\"#7201a8\"],[0.3333333333333333,\"#9c179e\"],[0.4444444444444444,\"#bd3786\"],[0.5555555555555556,\"#d8576b\"],[0.6666666666666666,\"#ed7953\"],[0.7777777777777778,\"#fb9f3a\"],[0.8888888888888888,\"#fdca26\"],[1.0,\"#f0f921\"]],\"type\":\"histogram2d\"}],\"histogram\":[{\"marker\":{\"pattern\":{\"fillmode\":\"overlay\",\"size\":10,\"solidity\":0.2}},\"type\":\"histogram\"}],\"mesh3d\":[{\"colorbar\":{\"outlinewidth\":0,\"ticks\":\"\"},\"type\":\"mesh3d\"}],\"parcoords\":[{\"line\":{\"colorbar\":{\"outlinewidth\":0,\"ticks\":\"\"}},\"type\":\"parcoords\"}],\"pie\":[{\"automargin\":true,\"type\":\"pie\"}],\"scatter3d\":[{\"line\":{\"colorbar\":{\"outlinewidth\":0,\"ticks\":\"\"}},\"marker\":{\"colorbar\":{\"outlinewidth\":0,\"ticks\":\"\"}},\"type\":\"scatter3d\"}],\"scattercarpet\":[{\"marker\":{\"colorbar\":{\"outlinewidth\":0,\"ticks\":\"\"}},\"type\":\"scattercarpet\"}],\"scattergeo\":[{\"marker\":{\"colorbar\":{\"outlinewidth\":0,\"ticks\":\"\"}},\"type\":\"scattergeo\"}],\"scattergl\":[{\"marker\":{\"line\":{\"color\":\"#283442\"}},\"type\":\"scattergl\"}],\"scattermapbox\":[{\"marker\":{\"colorbar\":{\"outlinewidth\":0,\"ticks\":\"\"}},\"type\":\"scattermapbox\"}],\"scatterpolargl\":[{\"marker\":{\"colorbar\":{\"outlinewidth\":0,\"ticks\":\"\"}},\"type\":\"scatterpolargl\"}],\"scatterpolar\":[{\"marker\":{\"colorbar\":{\"outlinewidth\":0,\"ticks\":\"\"}},\"type\":\"scatterpolar\"}],\"scatter\":[{\"marker\":{\"line\":{\"color\":\"#283442\"}},\"type\":\"scatter\"}],\"scatterternary\":[{\"marker\":{\"colorbar\":{\"outlinewidth\":0,\"ticks\":\"\"}},\"type\":\"scatterternary\"}],\"surface\":[{\"colorbar\":{\"outlinewidth\":0,\"ticks\":\"\"},\"colorscale\":[[0.0,\"#0d0887\"],[0.1111111111111111,\"#46039f\"],[0.2222222222222222,\"#7201a8\"],[0.3333333333333333,\"#9c179e\"],[0.4444444444444444,\"#bd3786\"],[0.5555555555555556,\"#d8576b\"],[0.6666666666666666,\"#ed7953\"],[0.7777777777777778,\"#fb9f3a\"],[0.8888888888888888,\"#fdca26\"],[1.0,\"#f0f921\"]],\"type\":\"surface\"}],\"table\":[{\"cells\":{\"fill\":{\"color\":\"#506784\"},\"line\":{\"color\":\"rgb(17,17,17)\"}},\"header\":{\"fill\":{\"color\":\"#2a3f5f\"},\"line\":{\"color\":\"rgb(17,17,17)\"}},\"type\":\"table\"}]},\"layout\":{\"annotationdefaults\":{\"arrowcolor\":\"#f2f5fa\",\"arrowhead\":0,\"arrowwidth\":1},\"autotypenumbers\":\"strict\",\"coloraxis\":{\"colorbar\":{\"outlinewidth\":0,\"ticks\":\"\"}},\"colorscale\":{\"diverging\":[[0,\"#8e0152\"],[0.1,\"#c51b7d\"],[0.2,\"#de77ae\"],[0.3,\"#f1b6da\"],[0.4,\"#fde0ef\"],[0.5,\"#f7f7f7\"],[0.6,\"#e6f5d0\"],[0.7,\"#b8e186\"],[0.8,\"#7fbc41\"],[0.9,\"#4d9221\"],[1,\"#276419\"]],\"sequential\":[[0.0,\"#0d0887\"],[0.1111111111111111,\"#46039f\"],[0.2222222222222222,\"#7201a8\"],[0.3333333333333333,\"#9c179e\"],[0.4444444444444444,\"#bd3786\"],[0.5555555555555556,\"#d8576b\"],[0.6666666666666666,\"#ed7953\"],[0.7777777777777778,\"#fb9f3a\"],[0.8888888888888888,\"#fdca26\"],[1.0,\"#f0f921\"]],\"sequentialminus\":[[0.0,\"#0d0887\"],[0.1111111111111111,\"#46039f\"],[0.2222222222222222,\"#7201a8\"],[0.3333333333333333,\"#9c179e\"],[0.4444444444444444,\"#bd3786\"],[0.5555555555555556,\"#d8576b\"],[0.6666666666666666,\"#ed7953\"],[0.7777777777777778,\"#fb9f3a\"],[0.8888888888888888,\"#fdca26\"],[1.0,\"#f0f921\"]]},\"colorway\":[\"#636efa\",\"#EF553B\",\"#00cc96\",\"#ab63fa\",\"#FFA15A\",\"#19d3f3\",\"#FF6692\",\"#B6E880\",\"#FF97FF\",\"#FECB52\"],\"font\":{\"color\":\"#f2f5fa\"},\"geo\":{\"bgcolor\":\"rgb(17,17,17)\",\"lakecolor\":\"rgb(17,17,17)\",\"landcolor\":\"rgb(17,17,17)\",\"showlakes\":true,\"showland\":true,\"subunitcolor\":\"#506784\"},\"hoverlabel\":{\"align\":\"left\"},\"hovermode\":\"closest\",\"mapbox\":{\"style\":\"dark\"},\"paper_bgcolor\":\"rgb(17,17,17)\",\"plot_bgcolor\":\"rgb(17,17,17)\",\"polar\":{\"angularaxis\":{\"gridcolor\":\"#506784\",\"linecolor\":\"#506784\",\"ticks\":\"\"},\"bgcolor\":\"rgb(17,17,17)\",\"radialaxis\":{\"gridcolor\":\"#506784\",\"linecolor\":\"#506784\",\"ticks\":\"\"}},\"scene\":{\"xaxis\":{\"backgroundcolor\":\"rgb(17,17,17)\",\"gridcolor\":\"#506784\",\"gridwidth\":2,\"linecolor\":\"#506784\",\"showbackground\":true,\"ticks\":\"\",\"zerolinecolor\":\"#C8D4E3\"},\"yaxis\":{\"backgroundcolor\":\"rgb(17,17,17)\",\"gridcolor\":\"#506784\",\"gridwidth\":2,\"linecolor\":\"#506784\",\"showbackground\":true,\"ticks\":\"\",\"zerolinecolor\":\"#C8D4E3\"},\"zaxis\":{\"backgroundcolor\":\"rgb(17,17,17)\",\"gridcolor\":\"#506784\",\"gridwidth\":2,\"linecolor\":\"#506784\",\"showbackground\":true,\"ticks\":\"\",\"zerolinecolor\":\"#C8D4E3\"}},\"shapedefaults\":{\"line\":{\"color\":\"#f2f5fa\"}},\"sliderdefaults\":{\"bgcolor\":\"#C8D4E3\",\"bordercolor\":\"rgb(17,17,17)\",\"borderwidth\":1,\"tickwidth\":0},\"ternary\":{\"aaxis\":{\"gridcolor\":\"#506784\",\"linecolor\":\"#506784\",\"ticks\":\"\"},\"baxis\":{\"gridcolor\":\"#506784\",\"linecolor\":\"#506784\",\"ticks\":\"\"},\"bgcolor\":\"rgb(17,17,17)\",\"caxis\":{\"gridcolor\":\"#506784\",\"linecolor\":\"#506784\",\"ticks\":\"\"}},\"title\":{\"x\":0.05},\"updatemenudefaults\":{\"bgcolor\":\"#506784\",\"borderwidth\":0},\"xaxis\":{\"automargin\":true,\"gridcolor\":\"#283442\",\"linecolor\":\"#506784\",\"ticks\":\"\",\"title\":{\"standoff\":15},\"zerolinecolor\":\"#283442\",\"zerolinewidth\":2},\"yaxis\":{\"automargin\":true,\"gridcolor\":\"#283442\",\"linecolor\":\"#506784\",\"ticks\":\"\",\"title\":{\"standoff\":15},\"zerolinecolor\":\"#283442\",\"zerolinewidth\":2}}},\"legend\":{\"tracegroupgap\":0},\"title\":{\"text\":\"Gender Distribution\",\"x\":0.5},\"piecolorway\":[\"rgb(13, 88, 95)\",\"rgb(40, 114, 116)\",\"rgb(68, 140, 138)\",\"rgb(99, 166, 160)\",\"rgb(137, 192, 182)\",\"rgb(180, 217, 204)\",\"rgb(228, 241, 225)\"],\"width\":800,\"height\":600},                        {\"responsive\": true}                    ).then(function(){\n",
       "                            \n",
       "var gd = document.getElementById('c0cd60f3-d8d5-4491-b6dd-3a27b6a5e7a4');\n",
       "var x = new MutationObserver(function (mutations, observer) {{\n",
       "        var display = window.getComputedStyle(gd).display;\n",
       "        if (!display || display === 'none') {{\n",
       "            console.log([gd, 'removed!']);\n",
       "            Plotly.purge(gd);\n",
       "            observer.disconnect();\n",
       "        }}\n",
       "}});\n",
       "\n",
       "// Listen for the removal of the full notebook cells\n",
       "var notebookContainer = gd.closest('#notebook-container');\n",
       "if (notebookContainer) {{\n",
       "    x.observe(notebookContainer, {childList: true});\n",
       "}}\n",
       "\n",
       "// Listen for the clearing of the current output cell\n",
       "var outputEl = gd.closest('.output');\n",
       "if (outputEl) {{\n",
       "    x.observe(outputEl, {childList: true});\n",
       "}}\n",
       "\n",
       "                        })                };                });            </script>        </div>"
      ]
     },
     "metadata": {},
     "output_type": "display_data"
    }
   ],
   "source": [
    "plt = px.pie(data, \n",
    "             names=data['Gender'].map({0: 'Female', 1: 'Male'}), \n",
    "             title=\"Gender Distribution\", \n",
    "             color_discrete_sequence=px.colors.sequential.Mint_r)\n",
    "\n",
    "plt.update_layout(\n",
    "    title_x=0.5,\n",
    "    template=\"plotly_dark\",  \n",
    "    width=800,              \n",
    "    height=600 \n",
    ")\n",
    "\n",
    "plt.show()\n"
   ]
  },
  {
   "cell_type": "code",
   "execution_count": 12,
   "id": "98fd3d26",
   "metadata": {
    "execution": {
     "iopub.execute_input": "2024-09-05T23:23:05.133546Z",
     "iopub.status.busy": "2024-09-05T23:23:05.132569Z",
     "iopub.status.idle": "2024-09-05T23:23:05.139800Z",
     "shell.execute_reply": "2024-09-05T23:23:05.138621Z"
    },
    "papermill": {
     "duration": 0.033281,
     "end_time": "2024-09-05T23:23:05.142164",
     "exception": false,
     "start_time": "2024-09-05T23:23:05.108883",
     "status": "completed"
    },
    "tags": []
   },
   "outputs": [
    {
     "name": "stdout",
     "output_type": "stream",
     "text": [
      "Minimum BMI: 15.004709988914549\n",
      "Maximum BMI: 39.99284510389785\n"
     ]
    }
   ],
   "source": [
    "### BMI Distrbution\n",
    "min_bmi = data['BMI'].min()\n",
    "max_bmi = data['BMI'].max()\n",
    "# Print the results\n",
    "print(f\"Minimum BMI: {min_bmi}\")\n",
    "print(f\"Maximum BMI: {max_bmi}\")"
   ]
  },
  {
   "cell_type": "code",
   "execution_count": 13,
   "id": "2b5efbbf",
   "metadata": {
    "execution": {
     "iopub.execute_input": "2024-09-05T23:23:05.190787Z",
     "iopub.status.busy": "2024-09-05T23:23:05.190135Z",
     "iopub.status.idle": "2024-09-05T23:23:05.271150Z",
     "shell.execute_reply": "2024-09-05T23:23:05.270238Z"
    },
    "papermill": {
     "duration": 0.106806,
     "end_time": "2024-09-05T23:23:05.273937",
     "exception": false,
     "start_time": "2024-09-05T23:23:05.167131",
     "status": "completed"
    },
    "tags": []
   },
   "outputs": [
    {
     "data": {
      "text/html": [
       "<div>                            <div id=\"ac18443b-7657-40be-a376-8b7a292fae91\" class=\"plotly-graph-div\" style=\"height:600px; width:800px;\"></div>            <script type=\"text/javascript\">                require([\"plotly\"], function(Plotly) {                    window.PLOTLYENV=window.PLOTLYENV || {};                                    if (document.getElementById(\"ac18443b-7657-40be-a376-8b7a292fae91\")) {                    Plotly.newPlot(                        \"ac18443b-7657-40be-a376-8b7a292fae91\",                        [{\"alignmentgroup\":\"True\",\"bingroup\":\"x\",\"hovertemplate\":\"BMI=%{x}\\u003cbr\\u003ecount=%{y}\\u003cextra\\u003e\\u003c\\u002fextra\\u003e\",\"legendgroup\":\"\",\"marker\":{\"color\":\"rgb(7, 64, 80)\",\"pattern\":{\"shape\":\"\"}},\"name\":\"\",\"offsetgroup\":\"\",\"orientation\":\"v\",\"showlegend\":false,\"texttemplate\":\"%{value}\",\"x\":[35.857584148869186,30.732470150268405,19.9714069443824,16.615416996102155,16.06583023217582,24.28521419125352,21.64627841635784,31.152253086562705,27.483345874465456,21.65048195013452,18.730944448754403,18.17999406718624,36.61650980351044,21.08694921012168,31.29276619777421,35.26714819965666,30.3520327796184,36.48913079117364,24.809843038211863,38.90555476622371,18.328625104452424,17.553738241438452,31.46730365518609,38.57077853533154,35.2220865409082,16.910421485951286,21.98419284836791,38.2579721209456,21.32646082001961,34.52926059467298,35.62830489821759,27.386302586524543,24.65872274620789,26.253110810493997,20.674117359134105,37.23477290322111,26.265491418243947,37.06148601140249,17.64233699765685,39.70688177500328,26.081827186090457,16.195770509852636,15.950546205936371,33.65518143704597,31.47588835509202,35.053263953189685,17.63418834882015,15.88927167588871,27.71448223618946,24.68988078706924,26.54867341677389,39.78971022175685,39.26874894176676,38.557884741829824,34.59606691919184,23.87103400642226,25.30327325656929,28.740401092973112,35.76336141012099,16.717820812956695,25.607422147122204,17.065441586481718,27.86643966433779,37.47252060015589,34.56212311409845,20.69606043857775,39.39977123996981,31.68375995116071,15.260692484935078,21.38533711713049,21.517832497997915,16.7313576571465,38.99566295189823,26.95638236439809,37.39536493429705,23.055387586115707,18.13083926082068,26.858402747655347,17.84891586785793,27.150387574438497,38.0074295304852,28.01920354585532,30.412493172377086,18.915960924345207,16.093390646999236,17.770199054495176,29.96328939210914,17.375292474807615,24.399822248532782,28.7522985114539,24.716319965746173,19.092095036632536,21.844782687852664,38.20793832121443,31.89955688965889,27.401195966997165,15.317872249672336,39.81038501223675,31.78637337236608,22.92306193362362,36.981716499945954,21.460790507295453,28.60041447956879,30.901769093245623,20.52658428634321,39.45993197001489,33.70479764947494,28.94533063777675,19.51486495438252,16.346455174950652,23.001495813024587,33.82968339783507,21.733282457550622,28.48890551238763,33.19867941826858,17.698592866161608,32.13245040289684,17.296772192751117,39.12824355317491,27.20985325162349,18.766902692746932,23.559590900838664,25.33541123238154,33.95462527691343,33.58559465191523,30.29851263343328,17.648267813962324,18.78923428969184,17.343923016138916,29.429319582188757,36.9284610377851,25.845012806369297,19.02120434894365,28.951058128724178,35.293805421642745,33.54280153782325,37.03626949187553,21.94755243122169,19.84884668169437,36.99541214854847,31.439007819450577,22.773223250188856,33.55870126431273,35.37795961200919,30.37445600852831,32.19710274699788,24.381497611066656,28.467391683575972,28.103979268154056,36.2011947782693,35.99909950705457,35.81701173367608,15.275790356561645,33.738637111722205,33.96690975277512,31.959470571378542,33.90661644728631,36.04925928741772,26.75797635254464,27.55125533721118,18.11785142278476,24.634397076184044,31.084129497794606,34.50999440368186,20.430227442280263,18.445572478980885,31.576050112512306,15.046997088122763,19.459314607683247,15.726784508598843,19.172127946371774,19.53298199813763,24.691839868759857,25.058178117163894,36.85656176525595,27.75274281247063,33.08511914030716,17.603433948007186,20.635968886592345,32.57358602446692,16.320099011713204,27.16494155609383,29.984224141573343,30.053641101312024,15.57332028170105,23.05270010572964,30.91226627622885,18.724993403731087,32.38539120820133,33.64813022034186,39.54922976115363,20.24604987141024,35.62826669165288,28.00741442296635,24.336564903604334,18.05941893312945,33.38764016218844,20.896439978592177,24.285550046826145,16.563555672434212,35.03417289548798,34.164713099291085,33.34039575105781,22.486087762297167,19.33700185664893,30.938831611755745,27.40415960283049,19.45631167261604,32.14778177624659,39.77816079553259,33.68048969355094,33.49965966714029,38.75781882326479,20.073409189372555,29.13874912303601,39.49116787584708,19.132352774254365,32.50629898611302,29.64525364929755,29.661977304717677,32.44176568800188,38.24042307189211,34.56454849628345,16.40340258540525,36.31820049689279,20.638533248143315,24.422854118409298,26.54332034030956,27.02265001882674,25.87950998138392,38.43383235539661,32.65047519160062,30.779266148917657,16.24605069457354,37.59783325650937,37.73475480020991,34.50532658575256,15.175730095340478,16.432006276940584,20.630592556712244,18.28373520362267,24.97090074259324,38.06557645219474,26.80151085492496,15.33506566080414,22.06864223946905,16.11487270932404,15.907190565337554,21.892996327388808,21.89030846697364,34.678165065040105,39.3708663195278,24.28017734724996,25.722171971525967,36.119735907150535,21.703475502387835,18.9095451100862,36.32724058509126,16.162514661001637,30.492486004985395,29.04982118667017,23.64801118754236,22.879738027433973,34.29644315454053,17.160615269063662,20.919607732784637,33.311218295952244,28.708014593160605,18.19970521333966,37.0533903570515,24.836196164089788,35.69670938305432,34.69282538819272,30.6106361617932,27.362028282377324,39.488771009543925,18.624126809495426,33.128893188777866,19.77976753661973,23.45657763330871,22.71746858432988,38.67589969346808,39.18390444470688,19.57538610586818,15.550879007437604,33.00020099157783,25.449748346762107,17.22100612718911,32.09385263942606,28.62763820651749,39.51292055002765,20.685237396534475,25.099446908163703,28.56364508488557,34.79249971133379,28.720966418001467,30.32250402154873,20.65367628974852,36.172968202214,25.715763674261893,18.523990688044236,31.604697862635437,20.402261329632687,17.439062755982494,36.549672710106805,26.50405661221099,33.73209281739441,22.26468899515888,34.674253372941656,17.79839817553826,23.89933434487132,39.45154544933821,34.84974290920015,27.431398257867205,23.49443678904713,36.80339250056191,28.62119397711289,33.960625446727775,33.852692007904096,15.448641964212296,18.15634456981533,31.49073415986856,19.040495282146782,21.38733361639012,38.66594885499018,29.0045564593728,33.76823767498368,28.949518469565994,28.81284036956813,17.353797753142448,23.591579815227576,22.060772467162792,24.76820914034033,34.95860470560821,24.29831669792162,26.292420480792067,24.934534762132916,17.33519929938239,26.026803956269596,19.890231826112878,19.668082394326035,17.350902610856657,23.91677435354412,33.93704711973544,21.9110422645849,22.80872754713784,31.06686644181059,19.89602031467297,37.42394826058836,28.00476308128886,26.190073508005423,28.945504798230036,19.150857835404885,30.33682846597941,24.07751841585026,37.429658524115474,19.221355166942157,27.676277596636027,29.95281573422545,15.83459004465953,24.092328118903502,33.31588086752082,35.50943768622433,22.82904987043206,34.96483180956878,39.19389692758472,36.42184840187736,17.94109970398313,33.493258302138514,22.99167081101362,39.71039973530191,27.133974578997176,18.060847458973527,33.129638700684765,23.075279959655347,39.92695392704154,39.49456144636305,31.40335045051452,18.24566122379294,32.17152494187573,17.32576216150068,15.734103977559808,35.57396115553715,20.24382369209204,24.47567815547744,39.33643474940433,23.42101254652758,22.41224453208288,37.95519999056938,17.76871113297395,33.98956025286579,39.70163916631935,37.53240026936622,31.29169796766065,22.8515198748183,21.35804952945792,35.48137762178653,36.995547848792384,28.13587281364232,21.10849851966165,17.82358021027934,17.17948669579578,32.97693618384639,25.502968196193123,37.63399685694676,33.49178251816909,19.78151044786467,30.34443547039248,25.887636359953984,29.43124326921533,33.451728083462925,35.15489702509477,36.0934331601681,21.34937186430062,15.777889997933942,33.48236837911933,17.658593156394364,22.87298971532419,15.095428353108678,32.041737060040504,19.17830028678053,31.382060242291452,39.79356542919597,16.816771790250407,16.92695029878652,23.50950231666687,36.659662856283546,20.388246719783297,24.00944549825869,16.712635165674488,34.07888228147223,25.207658568986275,33.98121832652107,37.59019610866987,20.819078677532215,35.184900758498785,16.47734725195633,37.471184704506186,31.269213688968684,36.85566810345879,15.004709988914549,19.22702675889981,24.7439846856623,24.487572584367964,20.668259573087767,24.54029849668,18.22121780000637,25.31902823165065,35.058858228981606,26.97675157758378,15.450002223630374,25.536101039481185,15.679375402271104,39.15608526766995,18.18634898557173,32.69220815826547,39.31940807230215,35.65097629166429,32.48288437815509,35.986522737519174,39.54496733151569,30.53361243133824,28.979620170733163,30.705952761582036,28.316897169038874,30.87722764774297,26.24605519931398,20.46107957208268,18.00618066279189,16.70852338830651,21.58289459383,16.153089108393345,29.17926949798464,22.095711175588008,35.6133702021758,16.85602182470966,20.658787358537147,33.25615367725365,29.970207409587285,16.61228178122919,36.93098642905501,36.93154407065449,23.260200096894344,23.51014608373912,39.725708958754346,30.654404289828456,28.28291301420148,35.95380458879811,22.13225845893291,25.72956483490892,21.694416887208355,34.72902116471829,29.33373364088045,31.47062675350176,21.307681245985165,20.50563253443288,27.209365724573463,33.43914372732067,28.130993938004003,15.816141938641715,36.71378765800722,16.61717233787829,38.895612093018805,15.628548956931818,32.36126140326772,17.055176592794542,37.76691448587849,26.61083090563857,18.438094370425382,23.520392494746165,19.12061688366905,19.26454778892725,38.70270800428605,26.131152807119705,34.720056597633985,30.990139029442048,31.910659058459807,18.29233596180096,20.85461117038714,34.66875837886092,39.26915516186958,21.56689106496629,21.789219118776,26.82242832027262,39.596007821385946,21.723973645661776,25.174297740856595,37.287000390587664,15.07302581553405,15.99414912471424,30.10179192678048,37.68450411782118,20.971416510048197,26.741044367017725,26.261632541445454,26.82428365238776,30.56299239324363,26.743594074767092,26.186703533061447,26.857210510781517,29.77168603177604,28.42518720878396,36.35339994126261,16.237421337341665,35.83292678682531,36.0981153152931,22.12270053827402,26.571298875396263,25.96346221343589,20.462745858853257,24.91992117715791,16.10969430427136,21.94555181954336,35.41705438626795,22.11405754407244,35.45516671870619,28.28998661511077,36.996566934029,29.36948885661038,15.741705576618497,31.88550518867723,16.121339200589215,26.264925474578348,38.23566736182785,19.13009848344625,24.7468088235386,33.246507721211955,37.05646390237119,31.773575118562697,21.454331354779228,31.865196322905405,22.418191027602248,32.96073074546838,38.850828189626014,33.034836277657206,36.57201257281031,15.052596079397086,32.93930311828986,35.739688921631256,16.013968438617034,36.78994318220576,21.417355707751145,31.63230254945138,35.008871975585166,31.566612826483887,17.30711980183143,29.90803797150921,28.739591418053596,37.50803170185679,25.10599324110523,23.02702742717625,33.746269110911655,25.31688315208492,31.152404375126576,31.161252253115173,37.20097660900295,29.96731005797744,27.55384024904967,18.471783159912924,17.893440166967633,18.858039132076986,19.29621203317736,30.94692731659085,33.524531256864464,28.249788073160467,35.72544331363727,39.78158066834083,35.5003157279839,32.372059341898975,28.312317485928663,26.221326791867703,17.10980951361356,24.98421870986727,37.75336591955336,35.20056574766382,20.40128412529218,26.665194617430394,35.418080063963615,16.684613869638063,24.68481464171648,36.29603092184869,25.097446604253093,16.940366118286022,28.563359213306285,36.54356237295738,29.757138573828996,20.6569777053558,24.605990503434533,26.253084029548305,29.48165884551317,33.98377564381533,17.471840441015885,37.241300825439154,15.307742575401887,24.25130836685638,15.68550774931644,24.82435563363228,28.14531497183309,27.792034664537795,19.140708675706637,31.143512752390308,16.119461262616706,34.047670503310385,38.66611084983866,23.49422067877795,27.930984542858297,24.47275695147036,15.167759757601498,24.6468625723779,34.793006481533666,29.899721054587047,17.531497865378974,36.17848724234463,28.27713362213107,36.0430840436169,29.50553796962573,28.992211120948497,17.63147962992531,19.1839933284657,39.30063141241477,20.712168668869268,39.4363029497592,28.297817663106585,18.39472617659843,17.482555068842323,20.2216017676435,38.1409332506334,25.35375560820567,24.88585669982286,22.83015652675435,18.67654626416471,27.19627992981016,18.251194562778466,35.88700590955819,24.25992465688266,24.37008919454491,26.850160712078896,26.10319282914379,39.87144932648304,28.634528030457563,17.205042594746768,30.17193353942325,18.789607321747,15.77344111828355,39.26855384193121,34.3384722883641,39.502724810344176,26.94696120055606,28.306438278724404,19.208423897978257,21.17268566668964,35.96373037257071,23.90464117793985,35.67037434491047,32.7253431071758,19.42927313179664,27.686159152993557,31.93468303796792,20.875930370095627,35.76721276300192,28.62069143862967,19.13105126106508,29.574610654115062,39.99284510389785,18.763037291585334,35.41892325298821,20.18272507968895,34.55970823650218,33.36444807803533,22.51223464001081,23.145577939111245,34.81303479907298,26.536137797182818,33.27045071779522,18.69960368414587,36.31394454753884,32.77211791705798,37.67357022087084,18.30930947587431,29.825362509014944,29.97801462600813,23.83651851366956,26.461660614231445,15.949539082246336,33.6465009656753,28.733061985079352,16.443526296729345,32.01889732401214,26.669551930779697,15.861531485625,39.24019317120239,38.72780357723602,27.822560403679937,17.341810517647755,33.865530539964794,27.298277502643224,22.561186957234497,27.28545443821392,28.06110363513661,29.06779247555848,26.03059284138316,30.14388257847641,37.96836776515944,24.05670217746478,33.142911580498726,37.36131392060581,26.399481893998423,26.086395909547605,30.052924633869488,29.7851689855622,35.164733558156925,26.91208459445732,39.90307374098603,16.48678922168202,15.079196214517545,31.004957788990595,22.46087280904692,21.009559717487093,22.79747700010701,21.40118912762386,15.769751241511196,39.28832605976472,20.518637211319543,33.35074406473266,34.06490986735438,38.23143495018073,15.7637364273345,36.80120846117519,28.18065452099501,30.813602749145694,31.11175692802584,35.494945124618184,23.335183053977765,33.32627974649984,28.214452743054927,34.8348503576337,39.763650819253336,20.01627543509403,39.86621603899995,17.24530385706935,15.057938697620347,16.10404840444578,23.54456011841904,30.82265826696085,16.72573852219624,15.14164536323918,38.42727571146987,35.54816589849824,35.229579278475775,37.11060688754942,32.50085681930261,17.610103243702035,24.977504701843078,33.078737161615734,22.008361519788025,32.18515910340594,15.612461206691307,22.653433521989832,28.72825840692932,30.802245737656055,29.426016611547773,32.44390690183574,15.152218705995978,17.523529999438036,36.723606306978624,32.04371610225403,17.823291067150283,36.05186093496448,21.05578044561417,26.956497104880587,18.62991282211651,32.752751410542665,31.671360525356697,20.277811779153403,36.585019171425046,25.032650605492805,22.312877276768543,18.808239736613388,21.654200312888435,15.550673030595425,29.58143731140289,36.05576865859869,28.72451123604105,20.48184904809689,15.84172945534682,20.36570183147007,25.403035701777306,33.99028571749491,19.696071313444357,32.994786333867154,36.673336708797095,26.34867120270893,35.53579979106483,28.86643370087739,30.927270927022622,28.15696150845507,26.579317918783545,20.866336044396235,22.579851486526152,22.249252973590224,29.08222327384537,17.99884232559725,37.91979226755838,33.01637863207783,25.03614077282984,18.96560361315945,37.049804243040896,35.59445225252913,33.043038817929485,21.78867618528106,25.06116593584172,17.568706311310585,19.72598811818829,34.57541593291832,32.875967971267094,29.837144074398367,37.39316814815432,29.581662945326137,26.67419999909027,23.509268657644068,38.51121264340431,17.067886538108837,38.27218430152021,35.66786649827546,18.24824811339253,29.12460894188134,36.663699543727176,29.295229090178843,37.67999553901556,38.57459542040107,25.559613054607645,24.43284153515809,38.40802884922892,31.8785015287417,17.90056703370423,16.05729373056703,29.11572627493158,38.25427413596061,36.10621756014546,31.89619366160841,18.477896222277188,21.355784593717388,36.887780663815406,19.570180916422512,21.960985206260865,18.24001627988605,31.90270578536028,38.59955763408024,21.724200789884648,26.88516519625184,30.858493492780102,39.986656205390766,17.620201624939302,27.46426998764273,24.6280029975625,36.64550413055888,26.899193275291395,17.7744381146287,30.86060363216459,34.26951545659699,15.072031291640364,36.47391713551573,19.65057500014164,28.801734116334444,25.394937517186253,32.99134541526326,24.279040369643543,36.74407941704277,33.26240902396975,31.19282927657304,34.90601488907136,33.85057587320956,15.898466873038831,24.868358846120703,38.27018243291225,18.14310672480565,33.42741376080128,39.364795283383245,16.30496572612429,32.05484701566526,26.70385353252576,29.47938138436805,17.13353341210812,16.075173796673486,31.671666513773044,35.58273574551795,34.55038337332418,28.595143196655933,17.496670528404454,32.201111095900345,21.047222088853648,37.77671756918459,35.95663398864262,32.73457417718477,38.721148895778256,15.785545537781823,33.40501062651905,23.256069483410133,37.651647142159135,21.66687991654944,33.12141248287543,36.94117549126953,16.04142045956706,24.941189489800905,34.05772580054847,26.37297223768968,21.68131574483988,20.49513372057975,18.28795667290945,36.42823899640706,29.383885081288906,16.9096236247864,24.564508089265885,24.193341270127743,19.54347976773657,25.887690636804766,23.30248413482841,23.545092637304563,33.475663944698965,20.58158463762991,31.046498971383887,29.266240597023373,29.20231280844668,31.5751836535444,28.70955090489135,36.981377871159616,31.889502298756494,28.674081284284703,35.74407800719112,30.153664123336995,22.278606194629475,20.17737295441428,18.80819464156697,37.48638031365254,32.75338579495164,38.43446095410802,30.082295142873576,26.835022037372816,16.49291222427223,31.791057038650745,29.55521899420578,39.75522233969053,20.978969444556075,28.268433882170896,31.273933377951817,31.11477936855859,29.032338573710067,34.42320025818064,20.12453023817041,33.14068000686039,30.49336428582723,37.40187779486433,36.179860975839546,22.87867597831383,21.905933124378823,39.54133309631119,28.181629522881416,37.66052409786092,19.09702559451205,31.070472870004355,35.24650468401465,38.684881239661166,23.433503525425586,33.12452924810131,28.470325225990475,16.515723151661703,32.249993432723585,32.25241395594608,38.26517012116342,27.43281115422431,20.756273017762865,16.11409558621698,25.39105466714764,22.547917501937548,34.02720765059689,23.85669412102617,38.7267799078711,39.057755074694605,30.5227147554427,38.21650717537207,34.021358612862386,28.67149102437816,19.50769838556945,26.464948587846,29.02186158406544,36.59903951837525,27.03333441339162,37.44186681694892,31.85872447558672,18.424976576341784,39.87453423312732,28.180816518847816,24.79645741022697,31.477844111738165,17.722332849525976,30.913466168833857,27.455900012481823,25.16685174996458,38.82550052947248,28.06349291830133,20.47793698674846,26.474086984432468,37.98468511431682,19.402386783264863,20.34892596720592,15.325739193927092,15.35475123489418,35.73479067396281,33.3030651710739,23.87602641129896,32.457778930689315,24.88014815774925,38.822419899945686,39.17631703565087,24.819844395233584,36.3555476585217,34.32722604243665,22.74999842929473,20.80099572252765,26.455866259820844,34.53372101536016,39.00419461821864,34.08947672166431,36.38017462545925,30.076607654262915,35.88519577105315,34.61052145008544,24.424638548157,28.799757553018026,35.118828049742376,16.15141835474891,35.20198205889575,19.447203101225583,27.86709042803597,35.20688598889844,21.34552695391737,21.145185982653825,25.069109961556297,37.36606993944086,15.011069535930195,37.53457741604838,18.845175616040198,39.75215940168705,38.8711748259617,27.366879739782085,27.818006195315704,27.03873350689636,30.886091141488063,17.268042555873276,15.815448708539163,16.44257321039747,26.109133731037858,21.888698480487086,30.550989059274844,39.81105723436947,24.658079326911647,29.346031352612837,25.390097397683387,36.181791693046485,37.555910086555954,36.9338903051315,39.35930596698144,15.687979628510382,35.995404053638275,33.794304325977336,20.71736023500912,38.90800233468819,18.70444820574864,31.98874817834771,20.622255420397813,25.784516219351865,32.978997423614224,29.083116050826167,25.687545783202797,23.15846077329968,35.99149139271976,18.595358757870343,25.752571913245,37.59393929437856,36.14623876149919,25.023544061826165,34.07770909003271,35.57902076772148,37.22218560009074,28.6126442262307,20.111522151367797,21.38272691259829,22.392366851040105,29.845062020240388,15.820240603215211,30.901061719499207,24.1088559607058,22.381045062241054,36.98741426820316,26.50005988951997,17.37632613831732,35.668669200656176,16.191031435912667,33.16873060420492,34.34765554426663,23.815065148221453,35.61969640694467,27.89148514641133,26.58234133181992,16.135082036717314,22.250729841222647,38.2752492721325,24.7955990820875,28.66751301391921,28.300541974606297,29.760777245567333,16.533273891082064,24.05440636996821,33.07820684706385,20.01400627682457,20.089459438659013,15.252265167225618,25.937048165205244,37.06835951683555,16.297523589682726,19.777967737400065,22.75211345856888,33.29311841410532,31.015889820064665,25.39859761454637,33.97672348145939,30.240775291422548,37.40101999143047,35.45066872846732,21.320340152230013,21.785964440855004,18.13391189480964,23.42411814293641,39.98859796797736,25.14377921537653,20.512210867227655,34.062072111888824,28.561775086566403,18.74003623817381,24.517242029021645,25.361742888483583,33.845742514230466,15.516784222297613,21.725491169957763,27.93990753288805,21.721168561321083,30.71085118547497,27.046686981865413,24.04275637148952,38.73021567176281,30.80398747966144,18.24853430669853,29.00229243608489,34.51829633002252,32.71224243731993,19.302230732381485,39.31049997600258,26.220341143665152,18.975625093506533,19.504893853203697,17.455874804727014,35.08795271087336,18.050762358046217,18.128131428543675,36.26179036902094,23.61510211118899,15.77144760770181,16.29738248796027,18.55426116759739,20.33483369939224,31.628654855960136,18.933157000045707,17.9718597794268,34.117978536906975,31.776382096497866,25.883105536380903,28.7327442870026,22.799600508160463,27.062510505884017,27.666816224568645,24.6809317794524,37.664305266804064,15.401546624525151,34.55428157728116,18.109570781033103,34.938684013429985,30.39779789191803,36.08195227341006,17.43785814102244,28.97451585249435,27.52719700655493,32.65482957408396,28.357263797341894,28.518364178327605,25.73989858940162,22.72086060018352,27.0566090313048,17.962308969210014,39.03783347457712,32.86026909066496,38.81167791719617,20.66818455824908,36.9835255044132,35.21974961408846,31.92881031144184,30.625729652130143,22.91374163169675,35.41026962412577,27.537886536993344,16.772289397282133,22.82157902137825,38.38242746363319,36.26700651512115,39.54764245191348,30.699834565102453,21.1877518285103,19.070376241921597,19.67286101521154,15.49489145868136,24.76705277464848,19.78569201248856,25.29138651141756,38.374860795969134,25.763505237679748,36.94961242462087,30.137619165396917,21.1782888665348,23.89636898148029,17.097988395535737,23.336564839900262,31.93852363758835,16.80277732323588,20.135035211950733,24.53602603533279,39.55123842539906,34.621545573972,33.3371686623026,17.90477391313615,34.524897340374785,34.63172028790038,30.027567390608205,39.7590445499593,23.1313476481138,38.53181120604629,37.86827787391259,15.287016493734448,26.252913161870275,39.42760582628934,17.578034060201894,28.694617359582985,39.4739376760276,28.887385602646503,19.7453825743039,29.55458075231474,20.11101434873867,27.992606572362103,16.8510554478087,30.13706673036012,27.91974847820396,33.504034219036576,30.767511778969627,28.74015671326892,32.24447123120303,18.598547839305773,29.8839915314651,19.302765070569443,38.13805519629702,16.708352621140104,25.75936874226983,32.39493694138612,26.45055529170647,17.30238133082256,28.834475403167684,31.040797720683862,32.59480777476269,24.33149536156897,29.091499275719052,26.26716187347283,31.80140096880633,29.58892418312046,28.143905488978373,21.23810917095621,15.050462943705847,19.35204188278573,17.926651035604216,26.22711862527367,30.306453769046115,20.327125217120205,38.47642739917968,15.167053230597194,34.30752537913357,30.630119238261056,24.338870026192048,16.262223610310198,30.687164294606983,24.640337821641204,38.40667848533048,28.549751872244148,38.49128778233771,20.5120923368326,33.14314775910258,30.431225521218146,33.48520574578279,20.36669659931342,31.624862905944344,27.451009826421725,33.5706243726579,23.176116103795444,37.25142563663131,17.10753286528376,35.1797329697797,36.53299064537727,35.43130778417053,27.8181598565444,25.95962450076903,39.90655716312192,20.729298780354053,28.671899146901115,31.76688813455814,32.5216908965358,20.100616643464463,31.34985230849503,35.459239162033434,16.250464420527805,37.78803233313291,15.73760137863015,23.899275812209854,15.395329905824052,16.928629213489547,37.77920712950198,23.871520768653696,25.61928826062632,20.383609534563817,29.927394254667995,29.87008036694474,24.30500979563048,23.32587179513496,37.1241077045147,24.582105991055037,27.337524803860205,22.082619060623266,34.66923758392818,24.93620392247729,27.840276163608117,21.333929251491536,39.691489808531294,22.287393523093076,34.26856327263879,25.68739125891898,20.155435127103495,34.99296909912153,23.34016972572608,36.62983368494528,37.881429622945575,36.4955958847819,15.87519787017014,34.68433362512764,25.283486662478595,36.84307300455563,30.94885656711847,35.84107835359896,27.485794246670885,28.37563761497332,18.60969080334168,34.59968396723389,25.48474029167429,27.502002956789568,34.62744285239269,29.97113500198597,20.027468186066685,29.75581647877232,25.190821449491395,26.73813855109657,15.707781860066694,20.25073373790704,22.02595203452571,32.824000196470145,15.287311832452882,25.2194315307283,38.10067176064332,17.797015413728097,27.91060970546528,34.66305955977118,38.563282688002914,33.66941598834295,33.01413871611015,35.66220225489406,26.155030524438597,35.14611331544583,15.19911011863628,38.11402638442012,26.082662737929383,28.83450469664369,21.372056222872057,33.56327082101053,16.91589516188122,36.81589506367088,35.70292072515857,20.40150290611916,35.23310995713156,34.65894332653704,30.805414943848724,24.33800442249219,21.78746885454669,20.79458975723375,22.96522406909018,37.58896108581326,16.941019399719533,35.72178190632397,23.72225187604559,28.039984900283955,34.862140841212266,37.10941367557428,23.619535501816173,26.54608703187776,25.362901620419805,15.331275837597763,22.398572221466416,26.479730843314044,25.277340222010995,33.04823068789199,24.620090430527583,27.23441122426676,25.740214803309083,33.51565372235926,36.57430997467407,28.29722697518785,34.73580485487978,22.419667050496265,28.53424025393172,23.63074884174931,25.35502313929576,33.310346620316714,37.04156205831782,18.03738477719413,30.86598141218451,29.55359518944496,17.960375979398297,20.297358261002728,22.775062368317005,19.173276770437536,21.093237063108543,21.69001997154269,23.39184582597649,33.73476132002898,29.297805096265016,39.65616679878504,25.36839567418677,33.846626845923126,36.78671053441335,31.97446232595105,25.2966185104374,33.83986576864382,20.09167844431712,23.18880412950331,28.66713137748222,29.38523468215371,15.553536886815737,38.62785471890022,32.41568178043475,27.39259375579728,38.32818086020771,25.977389131270712,39.5108892567593,27.80711893108713,17.857144249949485,34.12002431148193,31.97244312694601,34.324668032639664,38.78605071814202,34.41223256627545,30.28341505541617,36.43272255902102,31.83116098386329,25.20297642064808,37.14049410604433,20.547511519609323,32.866031872718104,37.03908637351893,33.28291299258241,32.43188547634642,33.8159573517959,26.62638120751611,36.85426705392565,20.08591187840228,18.18466040000848,22.13771950296279,28.289434919374827,27.764044885233453,35.51496894191467,25.114216410100436,27.10861065728772,15.334192081484892,25.24348091107348,31.194355823758556,15.387708265664804,22.022049129656093,20.198908982234748,16.049635722739705,26.98150224786344,19.54308233070391,33.5770384907845,36.19819709408371,28.639629566728694,39.54268356302854,26.261964286764883,27.834205255622887,39.73044384894375,20.788710899126222,38.56364849192264,16.07093887797783,26.159672256579867,16.750087803326643,33.230868572841075,30.210223397000444,32.66585658668991,24.362009999200424,24.237048350784505,16.132981974022364,23.748623488240995,38.23221005655149,24.480663429511225,35.78419265554925,36.05813761874835,24.33102890948085,30.799717009904725,17.384290056826465,17.591964518356914,16.216441591542832,29.525377334377737,25.651774440652424,28.700808916606,28.026829762709696,23.755074777268256,31.936835370586824,33.96254702290977,15.365706471941891,20.18105749422196,32.83089670208342,24.66550431584585,31.56209867354021,23.67406649336396,24.768878808240927,18.966971842242124,21.455775491654,30.13529393768968,25.82907778287916,34.357567073614874,36.31462387345857,28.541160455419,33.95668230140148,22.67261282986425,25.374280385001956,32.819441905420774,24.655299820425768,29.71262337897472,19.63431947706279,29.99428287426245,36.53784268067234,36.71599099558564,33.10861015823849,33.64383447690315,28.94818612876752,29.61670225414562,18.34126453526295,26.096479710532527,26.269407097159096,38.96244589169351,25.77717156558224,28.73356612256894,28.33128498197756,30.91904292610818,33.7058207832974,20.626046904271803,28.218110477460893,35.64794268290076,26.57786784593779,21.96143865933933,31.36772688390748,35.59418489497807,16.578507323184784,34.41976208518068,35.54119832404428,26.53807318971517,39.58264142046168,34.667708517682726,34.341564122391645,33.695964360301794,18.76520258045685,20.430772161325272,26.599753286610625,21.60010874898665,25.38102430835101,37.21160274807302,35.608172296981735,30.750996961999554,36.45300985627759,34.59430972543123,25.724623296022266,20.026628801248627,27.85502600023348,33.40572206321375,25.910489968239823,31.66929774459743,17.358185657276092,33.70011840928508,35.31784049732655,32.67094639451353,39.181589688159136,35.66630143651601,37.57734319691346,38.3392770864412,35.03369979684521,31.85647105016248,15.142964534019733,26.64564383057812,29.279057465559028,22.60075681119999,22.952611172586803,39.02898539275413,37.29277163006864,36.22947513754261,25.150295042652765,15.342463760222865,17.005556161392853,22.80490920544009,15.393572824891924,15.428744547879951,37.91508254106027,32.65396255297635,22.72389975170382,18.316114440023828,27.79089294737693,15.133654021359112,38.4603435964536,25.37037798472368,25.05837388093332,24.764840189544557,16.73320825969412,30.958055994795664,33.32509049070883,31.903134939707257,18.460887333234854,29.471004200889816,29.237112104306348,36.71026969853455,24.478191459391176,24.287148591485856,30.46317646795464,30.826816337487827,26.73213068314476,26.07648405826053,27.35369176594707,36.5261324875828,26.52917253134775,38.49829479924556,27.60009408990815,38.73001732952228,35.820797546726894,24.06078306539573],\"xaxis\":\"x\",\"yaxis\":\"y\",\"type\":\"histogram\"}],                        {\"template\":{\"data\":{\"barpolar\":[{\"marker\":{\"line\":{\"color\":\"rgb(17,17,17)\",\"width\":0.5},\"pattern\":{\"fillmode\":\"overlay\",\"size\":10,\"solidity\":0.2}},\"type\":\"barpolar\"}],\"bar\":[{\"error_x\":{\"color\":\"#f2f5fa\"},\"error_y\":{\"color\":\"#f2f5fa\"},\"marker\":{\"line\":{\"color\":\"rgb(17,17,17)\",\"width\":0.5},\"pattern\":{\"fillmode\":\"overlay\",\"size\":10,\"solidity\":0.2}},\"type\":\"bar\"}],\"carpet\":[{\"aaxis\":{\"endlinecolor\":\"#A2B1C6\",\"gridcolor\":\"#506784\",\"linecolor\":\"#506784\",\"minorgridcolor\":\"#506784\",\"startlinecolor\":\"#A2B1C6\"},\"baxis\":{\"endlinecolor\":\"#A2B1C6\",\"gridcolor\":\"#506784\",\"linecolor\":\"#506784\",\"minorgridcolor\":\"#506784\",\"startlinecolor\":\"#A2B1C6\"},\"type\":\"carpet\"}],\"choropleth\":[{\"colorbar\":{\"outlinewidth\":0,\"ticks\":\"\"},\"type\":\"choropleth\"}],\"contourcarpet\":[{\"colorbar\":{\"outlinewidth\":0,\"ticks\":\"\"},\"type\":\"contourcarpet\"}],\"contour\":[{\"colorbar\":{\"outlinewidth\":0,\"ticks\":\"\"},\"colorscale\":[[0.0,\"#0d0887\"],[0.1111111111111111,\"#46039f\"],[0.2222222222222222,\"#7201a8\"],[0.3333333333333333,\"#9c179e\"],[0.4444444444444444,\"#bd3786\"],[0.5555555555555556,\"#d8576b\"],[0.6666666666666666,\"#ed7953\"],[0.7777777777777778,\"#fb9f3a\"],[0.8888888888888888,\"#fdca26\"],[1.0,\"#f0f921\"]],\"type\":\"contour\"}],\"heatmapgl\":[{\"colorbar\":{\"outlinewidth\":0,\"ticks\":\"\"},\"colorscale\":[[0.0,\"#0d0887\"],[0.1111111111111111,\"#46039f\"],[0.2222222222222222,\"#7201a8\"],[0.3333333333333333,\"#9c179e\"],[0.4444444444444444,\"#bd3786\"],[0.5555555555555556,\"#d8576b\"],[0.6666666666666666,\"#ed7953\"],[0.7777777777777778,\"#fb9f3a\"],[0.8888888888888888,\"#fdca26\"],[1.0,\"#f0f921\"]],\"type\":\"heatmapgl\"}],\"heatmap\":[{\"colorbar\":{\"outlinewidth\":0,\"ticks\":\"\"},\"colorscale\":[[0.0,\"#0d0887\"],[0.1111111111111111,\"#46039f\"],[0.2222222222222222,\"#7201a8\"],[0.3333333333333333,\"#9c179e\"],[0.4444444444444444,\"#bd3786\"],[0.5555555555555556,\"#d8576b\"],[0.6666666666666666,\"#ed7953\"],[0.7777777777777778,\"#fb9f3a\"],[0.8888888888888888,\"#fdca26\"],[1.0,\"#f0f921\"]],\"type\":\"heatmap\"}],\"histogram2dcontour\":[{\"colorbar\":{\"outlinewidth\":0,\"ticks\":\"\"},\"colorscale\":[[0.0,\"#0d0887\"],[0.1111111111111111,\"#46039f\"],[0.2222222222222222,\"#7201a8\"],[0.3333333333333333,\"#9c179e\"],[0.4444444444444444,\"#bd3786\"],[0.5555555555555556,\"#d8576b\"],[0.6666666666666666,\"#ed7953\"],[0.7777777777777778,\"#fb9f3a\"],[0.8888888888888888,\"#fdca26\"],[1.0,\"#f0f921\"]],\"type\":\"histogram2dcontour\"}],\"histogram2d\":[{\"colorbar\":{\"outlinewidth\":0,\"ticks\":\"\"},\"colorscale\":[[0.0,\"#0d0887\"],[0.1111111111111111,\"#46039f\"],[0.2222222222222222,\"#7201a8\"],[0.3333333333333333,\"#9c179e\"],[0.4444444444444444,\"#bd3786\"],[0.5555555555555556,\"#d8576b\"],[0.6666666666666666,\"#ed7953\"],[0.7777777777777778,\"#fb9f3a\"],[0.8888888888888888,\"#fdca26\"],[1.0,\"#f0f921\"]],\"type\":\"histogram2d\"}],\"histogram\":[{\"marker\":{\"pattern\":{\"fillmode\":\"overlay\",\"size\":10,\"solidity\":0.2}},\"type\":\"histogram\"}],\"mesh3d\":[{\"colorbar\":{\"outlinewidth\":0,\"ticks\":\"\"},\"type\":\"mesh3d\"}],\"parcoords\":[{\"line\":{\"colorbar\":{\"outlinewidth\":0,\"ticks\":\"\"}},\"type\":\"parcoords\"}],\"pie\":[{\"automargin\":true,\"type\":\"pie\"}],\"scatter3d\":[{\"line\":{\"colorbar\":{\"outlinewidth\":0,\"ticks\":\"\"}},\"marker\":{\"colorbar\":{\"outlinewidth\":0,\"ticks\":\"\"}},\"type\":\"scatter3d\"}],\"scattercarpet\":[{\"marker\":{\"colorbar\":{\"outlinewidth\":0,\"ticks\":\"\"}},\"type\":\"scattercarpet\"}],\"scattergeo\":[{\"marker\":{\"colorbar\":{\"outlinewidth\":0,\"ticks\":\"\"}},\"type\":\"scattergeo\"}],\"scattergl\":[{\"marker\":{\"line\":{\"color\":\"#283442\"}},\"type\":\"scattergl\"}],\"scattermapbox\":[{\"marker\":{\"colorbar\":{\"outlinewidth\":0,\"ticks\":\"\"}},\"type\":\"scattermapbox\"}],\"scatterpolargl\":[{\"marker\":{\"colorbar\":{\"outlinewidth\":0,\"ticks\":\"\"}},\"type\":\"scatterpolargl\"}],\"scatterpolar\":[{\"marker\":{\"colorbar\":{\"outlinewidth\":0,\"ticks\":\"\"}},\"type\":\"scatterpolar\"}],\"scatter\":[{\"marker\":{\"line\":{\"color\":\"#283442\"}},\"type\":\"scatter\"}],\"scatterternary\":[{\"marker\":{\"colorbar\":{\"outlinewidth\":0,\"ticks\":\"\"}},\"type\":\"scatterternary\"}],\"surface\":[{\"colorbar\":{\"outlinewidth\":0,\"ticks\":\"\"},\"colorscale\":[[0.0,\"#0d0887\"],[0.1111111111111111,\"#46039f\"],[0.2222222222222222,\"#7201a8\"],[0.3333333333333333,\"#9c179e\"],[0.4444444444444444,\"#bd3786\"],[0.5555555555555556,\"#d8576b\"],[0.6666666666666666,\"#ed7953\"],[0.7777777777777778,\"#fb9f3a\"],[0.8888888888888888,\"#fdca26\"],[1.0,\"#f0f921\"]],\"type\":\"surface\"}],\"table\":[{\"cells\":{\"fill\":{\"color\":\"#506784\"},\"line\":{\"color\":\"rgb(17,17,17)\"}},\"header\":{\"fill\":{\"color\":\"#2a3f5f\"},\"line\":{\"color\":\"rgb(17,17,17)\"}},\"type\":\"table\"}]},\"layout\":{\"annotationdefaults\":{\"arrowcolor\":\"#f2f5fa\",\"arrowhead\":0,\"arrowwidth\":1},\"autotypenumbers\":\"strict\",\"coloraxis\":{\"colorbar\":{\"outlinewidth\":0,\"ticks\":\"\"}},\"colorscale\":{\"diverging\":[[0,\"#8e0152\"],[0.1,\"#c51b7d\"],[0.2,\"#de77ae\"],[0.3,\"#f1b6da\"],[0.4,\"#fde0ef\"],[0.5,\"#f7f7f7\"],[0.6,\"#e6f5d0\"],[0.7,\"#b8e186\"],[0.8,\"#7fbc41\"],[0.9,\"#4d9221\"],[1,\"#276419\"]],\"sequential\":[[0.0,\"#0d0887\"],[0.1111111111111111,\"#46039f\"],[0.2222222222222222,\"#7201a8\"],[0.3333333333333333,\"#9c179e\"],[0.4444444444444444,\"#bd3786\"],[0.5555555555555556,\"#d8576b\"],[0.6666666666666666,\"#ed7953\"],[0.7777777777777778,\"#fb9f3a\"],[0.8888888888888888,\"#fdca26\"],[1.0,\"#f0f921\"]],\"sequentialminus\":[[0.0,\"#0d0887\"],[0.1111111111111111,\"#46039f\"],[0.2222222222222222,\"#7201a8\"],[0.3333333333333333,\"#9c179e\"],[0.4444444444444444,\"#bd3786\"],[0.5555555555555556,\"#d8576b\"],[0.6666666666666666,\"#ed7953\"],[0.7777777777777778,\"#fb9f3a\"],[0.8888888888888888,\"#fdca26\"],[1.0,\"#f0f921\"]]},\"colorway\":[\"#636efa\",\"#EF553B\",\"#00cc96\",\"#ab63fa\",\"#FFA15A\",\"#19d3f3\",\"#FF6692\",\"#B6E880\",\"#FF97FF\",\"#FECB52\"],\"font\":{\"color\":\"#f2f5fa\"},\"geo\":{\"bgcolor\":\"rgb(17,17,17)\",\"lakecolor\":\"rgb(17,17,17)\",\"landcolor\":\"rgb(17,17,17)\",\"showlakes\":true,\"showland\":true,\"subunitcolor\":\"#506784\"},\"hoverlabel\":{\"align\":\"left\"},\"hovermode\":\"closest\",\"mapbox\":{\"style\":\"dark\"},\"paper_bgcolor\":\"rgb(17,17,17)\",\"plot_bgcolor\":\"rgb(17,17,17)\",\"polar\":{\"angularaxis\":{\"gridcolor\":\"#506784\",\"linecolor\":\"#506784\",\"ticks\":\"\"},\"bgcolor\":\"rgb(17,17,17)\",\"radialaxis\":{\"gridcolor\":\"#506784\",\"linecolor\":\"#506784\",\"ticks\":\"\"}},\"scene\":{\"xaxis\":{\"backgroundcolor\":\"rgb(17,17,17)\",\"gridcolor\":\"#506784\",\"gridwidth\":2,\"linecolor\":\"#506784\",\"showbackground\":true,\"ticks\":\"\",\"zerolinecolor\":\"#C8D4E3\"},\"yaxis\":{\"backgroundcolor\":\"rgb(17,17,17)\",\"gridcolor\":\"#506784\",\"gridwidth\":2,\"linecolor\":\"#506784\",\"showbackground\":true,\"ticks\":\"\",\"zerolinecolor\":\"#C8D4E3\"},\"zaxis\":{\"backgroundcolor\":\"rgb(17,17,17)\",\"gridcolor\":\"#506784\",\"gridwidth\":2,\"linecolor\":\"#506784\",\"showbackground\":true,\"ticks\":\"\",\"zerolinecolor\":\"#C8D4E3\"}},\"shapedefaults\":{\"line\":{\"color\":\"#f2f5fa\"}},\"sliderdefaults\":{\"bgcolor\":\"#C8D4E3\",\"bordercolor\":\"rgb(17,17,17)\",\"borderwidth\":1,\"tickwidth\":0},\"ternary\":{\"aaxis\":{\"gridcolor\":\"#506784\",\"linecolor\":\"#506784\",\"ticks\":\"\"},\"baxis\":{\"gridcolor\":\"#506784\",\"linecolor\":\"#506784\",\"ticks\":\"\"},\"bgcolor\":\"rgb(17,17,17)\",\"caxis\":{\"gridcolor\":\"#506784\",\"linecolor\":\"#506784\",\"ticks\":\"\"}},\"title\":{\"x\":0.05},\"updatemenudefaults\":{\"bgcolor\":\"#506784\",\"borderwidth\":0},\"xaxis\":{\"automargin\":true,\"gridcolor\":\"#283442\",\"linecolor\":\"#506784\",\"ticks\":\"\",\"title\":{\"standoff\":15},\"zerolinecolor\":\"#283442\",\"zerolinewidth\":2},\"yaxis\":{\"automargin\":true,\"gridcolor\":\"#283442\",\"linecolor\":\"#506784\",\"ticks\":\"\",\"title\":{\"standoff\":15},\"zerolinecolor\":\"#283442\",\"zerolinewidth\":2}}},\"xaxis\":{\"anchor\":\"y\",\"domain\":[0.0,1.0],\"title\":{\"text\":\"BMI\"}},\"yaxis\":{\"anchor\":\"x\",\"domain\":[0.0,1.0],\"title\":{\"text\":\"count\"}},\"legend\":{\"tracegroupgap\":0},\"title\":{\"text\":\"BMI Distribution\",\"x\":0.5},\"barmode\":\"relative\",\"width\":800,\"height\":600},                        {\"responsive\": true}                    ).then(function(){\n",
       "                            \n",
       "var gd = document.getElementById('ac18443b-7657-40be-a376-8b7a292fae91');\n",
       "var x = new MutationObserver(function (mutations, observer) {{\n",
       "        var display = window.getComputedStyle(gd).display;\n",
       "        if (!display || display === 'none') {{\n",
       "            console.log([gd, 'removed!']);\n",
       "            Plotly.purge(gd);\n",
       "            observer.disconnect();\n",
       "        }}\n",
       "}});\n",
       "\n",
       "// Listen for the removal of the full notebook cells\n",
       "var notebookContainer = gd.closest('#notebook-container');\n",
       "if (notebookContainer) {{\n",
       "    x.observe(notebookContainer, {childList: true});\n",
       "}}\n",
       "\n",
       "// Listen for the clearing of the current output cell\n",
       "var outputEl = gd.closest('.output');\n",
       "if (outputEl) {{\n",
       "    x.observe(outputEl, {childList: true});\n",
       "}}\n",
       "\n",
       "                        })                };                });            </script>        </div>"
      ]
     },
     "metadata": {},
     "output_type": "display_data"
    }
   ],
   "source": [
    "plt = px.histogram(data, x=\"BMI\", title=\"BMI Distribution\",text_auto=True,color_discrete_sequence=px.colors.sequential.Emrld_r)\n",
    "plt.update_layout(\n",
    "    title_x=0.5,\n",
    "    template=\"plotly_dark\",  \n",
    "    width=800,              \n",
    "    height=600 \n",
    ")\n",
    "plt.show()"
   ]
  },
  {
   "cell_type": "code",
   "execution_count": 14,
   "id": "96080f31",
   "metadata": {
    "execution": {
     "iopub.execute_input": "2024-09-05T23:23:05.323971Z",
     "iopub.status.busy": "2024-09-05T23:23:05.323649Z",
     "iopub.status.idle": "2024-09-05T23:23:05.346292Z",
     "shell.execute_reply": "2024-09-05T23:23:05.345302Z"
    },
    "papermill": {
     "duration": 0.047446,
     "end_time": "2024-09-05T23:23:05.348349",
     "exception": false,
     "start_time": "2024-09-05T23:23:05.300903",
     "status": "completed"
    },
    "tags": []
   },
   "outputs": [
    {
     "data": {
      "text/html": [
       "<div>\n",
       "<style scoped>\n",
       "    .dataframe tbody tr th:only-of-type {\n",
       "        vertical-align: middle;\n",
       "    }\n",
       "\n",
       "    .dataframe tbody tr th {\n",
       "        vertical-align: top;\n",
       "    }\n",
       "\n",
       "    .dataframe thead th {\n",
       "        text-align: right;\n",
       "    }\n",
       "</style>\n",
       "<table border=\"1\" class=\"dataframe\">\n",
       "  <thead>\n",
       "    <tr style=\"text-align: right;\">\n",
       "      <th></th>\n",
       "      <th>Age</th>\n",
       "      <th>Gender</th>\n",
       "      <th>AlcoholConsumption</th>\n",
       "      <th>Smoking</th>\n",
       "      <th>GeneticRisk</th>\n",
       "      <th>PhysicalActivity</th>\n",
       "      <th>Diabetes</th>\n",
       "      <th>Hypertension</th>\n",
       "      <th>LiverFunctionTest</th>\n",
       "      <th>Diagnosis</th>\n",
       "      <th>SegmentBMI</th>\n",
       "    </tr>\n",
       "  </thead>\n",
       "  <tbody>\n",
       "    <tr>\n",
       "      <th>0</th>\n",
       "      <td>58</td>\n",
       "      <td>0</td>\n",
       "      <td>17.273</td>\n",
       "      <td>0</td>\n",
       "      <td>1</td>\n",
       "      <td>0.659</td>\n",
       "      <td>0</td>\n",
       "      <td>0</td>\n",
       "      <td>42.734</td>\n",
       "      <td>1</td>\n",
       "      <td>Extremly Obese</td>\n",
       "    </tr>\n",
       "    <tr>\n",
       "      <th>1</th>\n",
       "      <td>71</td>\n",
       "      <td>1</td>\n",
       "      <td>2.201</td>\n",
       "      <td>0</td>\n",
       "      <td>1</td>\n",
       "      <td>1.671</td>\n",
       "      <td>1</td>\n",
       "      <td>0</td>\n",
       "      <td>67.310</td>\n",
       "      <td>1</td>\n",
       "      <td>Obese</td>\n",
       "    </tr>\n",
       "    <tr>\n",
       "      <th>2</th>\n",
       "      <td>48</td>\n",
       "      <td>0</td>\n",
       "      <td>18.501</td>\n",
       "      <td>0</td>\n",
       "      <td>0</td>\n",
       "      <td>9.928</td>\n",
       "      <td>0</td>\n",
       "      <td>0</td>\n",
       "      <td>63.739</td>\n",
       "      <td>0</td>\n",
       "      <td>Normal weight</td>\n",
       "    </tr>\n",
       "    <tr>\n",
       "      <th>3</th>\n",
       "      <td>34</td>\n",
       "      <td>1</td>\n",
       "      <td>12.633</td>\n",
       "      <td>0</td>\n",
       "      <td>0</td>\n",
       "      <td>5.630</td>\n",
       "      <td>0</td>\n",
       "      <td>0</td>\n",
       "      <td>64.556</td>\n",
       "      <td>1</td>\n",
       "      <td>Underweight</td>\n",
       "    </tr>\n",
       "    <tr>\n",
       "      <th>4</th>\n",
       "      <td>62</td>\n",
       "      <td>1</td>\n",
       "      <td>1.088</td>\n",
       "      <td>0</td>\n",
       "      <td>1</td>\n",
       "      <td>3.566</td>\n",
       "      <td>1</td>\n",
       "      <td>0</td>\n",
       "      <td>77.869</td>\n",
       "      <td>1</td>\n",
       "      <td>Underweight</td>\n",
       "    </tr>\n",
       "  </tbody>\n",
       "</table>\n",
       "</div>"
      ],
      "text/plain": [
       "   Age  Gender  AlcoholConsumption  Smoking  GeneticRisk  PhysicalActivity  Diabetes  Hypertension  LiverFunctionTest  Diagnosis      SegmentBMI\n",
       "0   58       0              17.273        0            1             0.659         0             0             42.734          1  Extremly Obese\n",
       "1   71       1               2.201        0            1             1.671         1             0             67.310          1           Obese\n",
       "2   48       0              18.501        0            0             9.928         0             0             63.739          0   Normal weight\n",
       "3   34       1              12.633        0            0             5.630         0             0             64.556          1     Underweight\n",
       "4   62       1               1.088        0            1             3.566         1             0             77.869          1     Underweight"
      ]
     },
     "execution_count": 14,
     "metadata": {},
     "output_type": "execute_result"
    }
   ],
   "source": [
    "bins = [0, 18.5, 25, 30, 35, np.inf]\n",
    "names = ['Underweight', 'Normal weight', 'Overweight', 'Obese', 'Extremly Obese']\n",
    "data['SegmentBMI'] = pd.cut(data['BMI'],bins, labels=names)\n",
    "data.drop('BMI',axis=1,inplace=True)\n",
    "data.head()"
   ]
  },
  {
   "cell_type": "code",
   "execution_count": 15,
   "id": "701c4dee",
   "metadata": {
    "execution": {
     "iopub.execute_input": "2024-09-05T23:23:05.395757Z",
     "iopub.status.busy": "2024-09-05T23:23:05.394808Z",
     "iopub.status.idle": "2024-09-05T23:23:05.406749Z",
     "shell.execute_reply": "2024-09-05T23:23:05.405806Z"
    },
    "papermill": {
     "duration": 0.037719,
     "end_time": "2024-09-05T23:23:05.408714",
     "exception": false,
     "start_time": "2024-09-05T23:23:05.370995",
     "status": "completed"
    },
    "tags": []
   },
   "outputs": [
    {
     "data": {
      "text/html": [
       "<div>\n",
       "<style scoped>\n",
       "    .dataframe tbody tr th:only-of-type {\n",
       "        vertical-align: middle;\n",
       "    }\n",
       "\n",
       "    .dataframe tbody tr th {\n",
       "        vertical-align: top;\n",
       "    }\n",
       "\n",
       "    .dataframe thead th {\n",
       "        text-align: right;\n",
       "    }\n",
       "</style>\n",
       "<table border=\"1\" class=\"dataframe\">\n",
       "  <thead>\n",
       "    <tr style=\"text-align: right;\">\n",
       "      <th></th>\n",
       "      <th>count</th>\n",
       "    </tr>\n",
       "    <tr>\n",
       "      <th>SegmentBMI</th>\n",
       "      <th></th>\n",
       "    </tr>\n",
       "  </thead>\n",
       "  <tbody>\n",
       "    <tr>\n",
       "      <th>Normal weight</th>\n",
       "      <td>400</td>\n",
       "    </tr>\n",
       "    <tr>\n",
       "      <th>Overweight</th>\n",
       "      <td>360</td>\n",
       "    </tr>\n",
       "    <tr>\n",
       "      <th>Extremly Obese</th>\n",
       "      <td>350</td>\n",
       "    </tr>\n",
       "    <tr>\n",
       "      <th>Obese</th>\n",
       "      <td>347</td>\n",
       "    </tr>\n",
       "    <tr>\n",
       "      <th>Underweight</th>\n",
       "      <td>243</td>\n",
       "    </tr>\n",
       "  </tbody>\n",
       "</table>\n",
       "</div>"
      ],
      "text/plain": [
       "                count\n",
       "SegmentBMI           \n",
       "Normal weight     400\n",
       "Overweight        360\n",
       "Extremly Obese    350\n",
       "Obese             347\n",
       "Underweight       243"
      ]
     },
     "execution_count": 15,
     "metadata": {},
     "output_type": "execute_result"
    }
   ],
   "source": [
    "data.SegmentBMI.value_counts().to_frame()"
   ]
  },
  {
   "cell_type": "code",
   "execution_count": 16,
   "id": "731b4e20",
   "metadata": {
    "execution": {
     "iopub.execute_input": "2024-09-05T23:23:05.456877Z",
     "iopub.status.busy": "2024-09-05T23:23:05.455947Z",
     "iopub.status.idle": "2024-09-05T23:23:05.532106Z",
     "shell.execute_reply": "2024-09-05T23:23:05.531226Z"
    },
    "papermill": {
     "duration": 0.103009,
     "end_time": "2024-09-05T23:23:05.534802",
     "exception": false,
     "start_time": "2024-09-05T23:23:05.431793",
     "status": "completed"
    },
    "tags": []
   },
   "outputs": [
    {
     "data": {
      "text/html": [
       "<div>                            <div id=\"96ca64a2-06f1-4031-9911-d6cd601ee140\" class=\"plotly-graph-div\" style=\"height:600px; width:800px;\"></div>            <script type=\"text/javascript\">                require([\"plotly\"], function(Plotly) {                    window.PLOTLYENV=window.PLOTLYENV || {};                                    if (document.getElementById(\"96ca64a2-06f1-4031-9911-d6cd601ee140\")) {                    Plotly.newPlot(                        \"96ca64a2-06f1-4031-9911-d6cd601ee140\",                        [{\"domain\":{\"x\":[0.0,1.0],\"y\":[0.0,1.0]},\"hovertemplate\":\"SegmentBMI=%{label}\\u003cextra\\u003e\\u003c\\u002fextra\\u003e\",\"labels\":[\"Extremly Obese\",\"Obese\",\"Normal weight\",\"Underweight\",\"Underweight\",\"Normal weight\",\"Normal weight\",\"Obese\",\"Overweight\",\"Normal weight\",\"Normal weight\",\"Underweight\",\"Extremly Obese\",\"Normal weight\",\"Obese\",\"Extremly Obese\",\"Obese\",\"Extremly Obese\",\"Normal weight\",\"Extremly Obese\",\"Underweight\",\"Underweight\",\"Obese\",\"Extremly Obese\",\"Extremly Obese\",\"Underweight\",\"Normal weight\",\"Extremly Obese\",\"Normal weight\",\"Obese\",\"Extremly Obese\",\"Overweight\",\"Normal weight\",\"Overweight\",\"Normal weight\",\"Extremly Obese\",\"Overweight\",\"Extremly Obese\",\"Underweight\",\"Extremly Obese\",\"Overweight\",\"Underweight\",\"Underweight\",\"Obese\",\"Obese\",\"Extremly Obese\",\"Underweight\",\"Underweight\",\"Overweight\",\"Normal weight\",\"Overweight\",\"Extremly Obese\",\"Extremly Obese\",\"Extremly Obese\",\"Obese\",\"Normal weight\",\"Overweight\",\"Overweight\",\"Extremly Obese\",\"Underweight\",\"Overweight\",\"Underweight\",\"Overweight\",\"Extremly Obese\",\"Obese\",\"Normal weight\",\"Extremly Obese\",\"Obese\",\"Underweight\",\"Normal weight\",\"Normal weight\",\"Underweight\",\"Extremly Obese\",\"Overweight\",\"Extremly Obese\",\"Normal weight\",\"Underweight\",\"Overweight\",\"Underweight\",\"Overweight\",\"Extremly Obese\",\"Overweight\",\"Obese\",\"Normal weight\",\"Underweight\",\"Underweight\",\"Overweight\",\"Underweight\",\"Normal weight\",\"Overweight\",\"Normal weight\",\"Normal weight\",\"Normal weight\",\"Extremly Obese\",\"Obese\",\"Overweight\",\"Underweight\",\"Extremly Obese\",\"Obese\",\"Normal weight\",\"Extremly Obese\",\"Normal weight\",\"Overweight\",\"Obese\",\"Normal weight\",\"Extremly Obese\",\"Obese\",\"Overweight\",\"Normal weight\",\"Underweight\",\"Normal weight\",\"Obese\",\"Normal weight\",\"Overweight\",\"Obese\",\"Underweight\",\"Obese\",\"Underweight\",\"Extremly Obese\",\"Overweight\",\"Normal weight\",\"Normal weight\",\"Overweight\",\"Obese\",\"Obese\",\"Obese\",\"Underweight\",\"Normal weight\",\"Underweight\",\"Overweight\",\"Extremly Obese\",\"Overweight\",\"Normal weight\",\"Overweight\",\"Extremly Obese\",\"Obese\",\"Extremly Obese\",\"Normal weight\",\"Normal weight\",\"Extremly Obese\",\"Obese\",\"Normal weight\",\"Obese\",\"Extremly Obese\",\"Obese\",\"Obese\",\"Normal weight\",\"Overweight\",\"Overweight\",\"Extremly Obese\",\"Extremly Obese\",\"Extremly Obese\",\"Underweight\",\"Obese\",\"Obese\",\"Obese\",\"Obese\",\"Extremly Obese\",\"Overweight\",\"Overweight\",\"Underweight\",\"Normal weight\",\"Obese\",\"Obese\",\"Normal weight\",\"Underweight\",\"Obese\",\"Underweight\",\"Normal weight\",\"Underweight\",\"Normal weight\",\"Normal weight\",\"Normal weight\",\"Overweight\",\"Extremly Obese\",\"Overweight\",\"Obese\",\"Underweight\",\"Normal weight\",\"Obese\",\"Underweight\",\"Overweight\",\"Overweight\",\"Obese\",\"Underweight\",\"Normal weight\",\"Obese\",\"Normal weight\",\"Obese\",\"Obese\",\"Extremly Obese\",\"Normal weight\",\"Extremly Obese\",\"Overweight\",\"Normal weight\",\"Underweight\",\"Obese\",\"Normal weight\",\"Normal weight\",\"Underweight\",\"Extremly Obese\",\"Obese\",\"Obese\",\"Normal weight\",\"Normal weight\",\"Obese\",\"Overweight\",\"Normal weight\",\"Obese\",\"Extremly Obese\",\"Obese\",\"Obese\",\"Extremly Obese\",\"Normal weight\",\"Overweight\",\"Extremly Obese\",\"Normal weight\",\"Obese\",\"Overweight\",\"Overweight\",\"Obese\",\"Extremly Obese\",\"Obese\",\"Underweight\",\"Extremly Obese\",\"Normal weight\",\"Normal weight\",\"Overweight\",\"Overweight\",\"Overweight\",\"Extremly Obese\",\"Obese\",\"Obese\",\"Underweight\",\"Extremly Obese\",\"Extremly Obese\",\"Obese\",\"Underweight\",\"Underweight\",\"Normal weight\",\"Underweight\",\"Normal weight\",\"Extremly Obese\",\"Overweight\",\"Underweight\",\"Normal weight\",\"Underweight\",\"Underweight\",\"Normal weight\",\"Normal weight\",\"Obese\",\"Extremly Obese\",\"Normal weight\",\"Overweight\",\"Extremly Obese\",\"Normal weight\",\"Normal weight\",\"Extremly Obese\",\"Underweight\",\"Obese\",\"Overweight\",\"Normal weight\",\"Normal weight\",\"Obese\",\"Underweight\",\"Normal weight\",\"Obese\",\"Overweight\",\"Underweight\",\"Extremly Obese\",\"Normal weight\",\"Extremly Obese\",\"Obese\",\"Obese\",\"Overweight\",\"Extremly Obese\",\"Normal weight\",\"Obese\",\"Normal weight\",\"Normal weight\",\"Normal weight\",\"Extremly Obese\",\"Extremly Obese\",\"Normal weight\",\"Underweight\",\"Obese\",\"Overweight\",\"Underweight\",\"Obese\",\"Overweight\",\"Extremly Obese\",\"Normal weight\",\"Overweight\",\"Overweight\",\"Obese\",\"Overweight\",\"Obese\",\"Normal weight\",\"Extremly Obese\",\"Overweight\",\"Normal weight\",\"Obese\",\"Normal weight\",\"Underweight\",\"Extremly Obese\",\"Overweight\",\"Obese\",\"Normal weight\",\"Obese\",\"Underweight\",\"Normal weight\",\"Extremly Obese\",\"Obese\",\"Overweight\",\"Normal weight\",\"Extremly Obese\",\"Overweight\",\"Obese\",\"Obese\",\"Underweight\",\"Underweight\",\"Obese\",\"Normal weight\",\"Normal weight\",\"Extremly Obese\",\"Overweight\",\"Obese\",\"Overweight\",\"Overweight\",\"Underweight\",\"Normal weight\",\"Normal weight\",\"Normal weight\",\"Obese\",\"Normal weight\",\"Overweight\",\"Normal weight\",\"Underweight\",\"Overweight\",\"Normal weight\",\"Normal weight\",\"Underweight\",\"Normal weight\",\"Obese\",\"Normal weight\",\"Normal weight\",\"Obese\",\"Normal weight\",\"Extremly Obese\",\"Overweight\",\"Overweight\",\"Overweight\",\"Normal weight\",\"Obese\",\"Normal weight\",\"Extremly Obese\",\"Normal weight\",\"Overweight\",\"Overweight\",\"Underweight\",\"Normal weight\",\"Obese\",\"Extremly Obese\",\"Normal weight\",\"Obese\",\"Extremly Obese\",\"Extremly Obese\",\"Underweight\",\"Obese\",\"Normal weight\",\"Extremly Obese\",\"Overweight\",\"Underweight\",\"Obese\",\"Normal weight\",\"Extremly Obese\",\"Extremly Obese\",\"Obese\",\"Underweight\",\"Obese\",\"Underweight\",\"Underweight\",\"Extremly Obese\",\"Normal weight\",\"Normal weight\",\"Extremly Obese\",\"Normal weight\",\"Normal weight\",\"Extremly Obese\",\"Underweight\",\"Obese\",\"Extremly Obese\",\"Extremly Obese\",\"Obese\",\"Normal weight\",\"Normal weight\",\"Extremly Obese\",\"Extremly Obese\",\"Overweight\",\"Normal weight\",\"Underweight\",\"Underweight\",\"Obese\",\"Overweight\",\"Extremly Obese\",\"Obese\",\"Normal weight\",\"Obese\",\"Overweight\",\"Overweight\",\"Obese\",\"Extremly Obese\",\"Extremly Obese\",\"Normal weight\",\"Underweight\",\"Obese\",\"Underweight\",\"Normal weight\",\"Underweight\",\"Obese\",\"Normal weight\",\"Obese\",\"Extremly Obese\",\"Underweight\",\"Underweight\",\"Normal weight\",\"Extremly Obese\",\"Normal weight\",\"Normal weight\",\"Underweight\",\"Obese\",\"Overweight\",\"Obese\",\"Extremly Obese\",\"Normal weight\",\"Extremly Obese\",\"Underweight\",\"Extremly Obese\",\"Obese\",\"Extremly Obese\",\"Underweight\",\"Normal weight\",\"Normal weight\",\"Normal weight\",\"Normal weight\",\"Normal weight\",\"Underweight\",\"Overweight\",\"Extremly Obese\",\"Overweight\",\"Underweight\",\"Overweight\",\"Underweight\",\"Extremly Obese\",\"Underweight\",\"Obese\",\"Extremly Obese\",\"Extremly Obese\",\"Obese\",\"Extremly Obese\",\"Extremly Obese\",\"Obese\",\"Overweight\",\"Obese\",\"Overweight\",\"Obese\",\"Overweight\",\"Normal weight\",\"Underweight\",\"Underweight\",\"Normal weight\",\"Underweight\",\"Overweight\",\"Normal weight\",\"Extremly Obese\",\"Underweight\",\"Normal weight\",\"Obese\",\"Overweight\",\"Underweight\",\"Extremly Obese\",\"Extremly Obese\",\"Normal weight\",\"Normal weight\",\"Extremly Obese\",\"Obese\",\"Overweight\",\"Extremly Obese\",\"Normal weight\",\"Overweight\",\"Normal weight\",\"Obese\",\"Overweight\",\"Obese\",\"Normal weight\",\"Normal weight\",\"Overweight\",\"Obese\",\"Overweight\",\"Underweight\",\"Extremly Obese\",\"Underweight\",\"Extremly Obese\",\"Underweight\",\"Obese\",\"Underweight\",\"Extremly Obese\",\"Overweight\",\"Underweight\",\"Normal weight\",\"Normal weight\",\"Normal weight\",\"Extremly Obese\",\"Overweight\",\"Obese\",\"Obese\",\"Obese\",\"Underweight\",\"Normal weight\",\"Obese\",\"Extremly Obese\",\"Normal weight\",\"Normal weight\",\"Overweight\",\"Extremly Obese\",\"Normal weight\",\"Overweight\",\"Extremly Obese\",\"Underweight\",\"Underweight\",\"Obese\",\"Extremly Obese\",\"Normal weight\",\"Overweight\",\"Overweight\",\"Overweight\",\"Obese\",\"Overweight\",\"Overweight\",\"Overweight\",\"Overweight\",\"Overweight\",\"Extremly Obese\",\"Underweight\",\"Extremly Obese\",\"Extremly Obese\",\"Normal weight\",\"Overweight\",\"Overweight\",\"Normal weight\",\"Normal weight\",\"Underweight\",\"Normal weight\",\"Extremly Obese\",\"Normal weight\",\"Extremly Obese\",\"Overweight\",\"Extremly Obese\",\"Overweight\",\"Underweight\",\"Obese\",\"Underweight\",\"Overweight\",\"Extremly Obese\",\"Normal weight\",\"Normal weight\",\"Obese\",\"Extremly Obese\",\"Obese\",\"Normal weight\",\"Obese\",\"Normal weight\",\"Obese\",\"Extremly Obese\",\"Obese\",\"Extremly Obese\",\"Underweight\",\"Obese\",\"Extremly Obese\",\"Underweight\",\"Extremly Obese\",\"Normal weight\",\"Obese\",\"Extremly Obese\",\"Obese\",\"Underweight\",\"Overweight\",\"Overweight\",\"Extremly Obese\",\"Overweight\",\"Normal weight\",\"Obese\",\"Overweight\",\"Obese\",\"Obese\",\"Extremly Obese\",\"Overweight\",\"Overweight\",\"Underweight\",\"Underweight\",\"Normal weight\",\"Normal weight\",\"Obese\",\"Obese\",\"Overweight\",\"Extremly Obese\",\"Extremly Obese\",\"Extremly Obese\",\"Obese\",\"Overweight\",\"Overweight\",\"Underweight\",\"Normal weight\",\"Extremly Obese\",\"Extremly Obese\",\"Normal weight\",\"Overweight\",\"Extremly Obese\",\"Underweight\",\"Normal weight\",\"Extremly Obese\",\"Overweight\",\"Underweight\",\"Overweight\",\"Extremly Obese\",\"Overweight\",\"Normal weight\",\"Normal weight\",\"Overweight\",\"Overweight\",\"Obese\",\"Underweight\",\"Extremly Obese\",\"Underweight\",\"Normal weight\",\"Underweight\",\"Normal weight\",\"Overweight\",\"Overweight\",\"Normal weight\",\"Obese\",\"Underweight\",\"Obese\",\"Extremly Obese\",\"Normal weight\",\"Overweight\",\"Normal weight\",\"Underweight\",\"Normal weight\",\"Obese\",\"Overweight\",\"Underweight\",\"Extremly Obese\",\"Overweight\",\"Extremly Obese\",\"Overweight\",\"Overweight\",\"Underweight\",\"Normal weight\",\"Extremly Obese\",\"Normal weight\",\"Extremly Obese\",\"Overweight\",\"Underweight\",\"Underweight\",\"Normal weight\",\"Extremly Obese\",\"Overweight\",\"Normal weight\",\"Normal weight\",\"Normal weight\",\"Overweight\",\"Underweight\",\"Extremly Obese\",\"Normal weight\",\"Normal weight\",\"Overweight\",\"Overweight\",\"Extremly Obese\",\"Overweight\",\"Underweight\",\"Obese\",\"Normal weight\",\"Underweight\",\"Extremly Obese\",\"Obese\",\"Extremly Obese\",\"Overweight\",\"Overweight\",\"Normal weight\",\"Normal weight\",\"Extremly Obese\",\"Normal weight\",\"Extremly Obese\",\"Obese\",\"Normal weight\",\"Overweight\",\"Obese\",\"Normal weight\",\"Extremly Obese\",\"Overweight\",\"Normal weight\",\"Overweight\",\"Extremly Obese\",\"Normal weight\",\"Extremly Obese\",\"Normal weight\",\"Obese\",\"Obese\",\"Normal weight\",\"Normal weight\",\"Obese\",\"Overweight\",\"Obese\",\"Normal weight\",\"Extremly Obese\",\"Obese\",\"Extremly Obese\",\"Underweight\",\"Overweight\",\"Overweight\",\"Normal weight\",\"Overweight\",\"Underweight\",\"Obese\",\"Overweight\",\"Underweight\",\"Obese\",\"Overweight\",\"Underweight\",\"Extremly Obese\",\"Extremly Obese\",\"Overweight\",\"Underweight\",\"Obese\",\"Overweight\",\"Normal weight\",\"Overweight\",\"Overweight\",\"Overweight\",\"Overweight\",\"Obese\",\"Extremly Obese\",\"Normal weight\",\"Obese\",\"Extremly Obese\",\"Overweight\",\"Overweight\",\"Obese\",\"Overweight\",\"Extremly Obese\",\"Overweight\",\"Extremly Obese\",\"Underweight\",\"Underweight\",\"Obese\",\"Normal weight\",\"Normal weight\",\"Normal weight\",\"Normal weight\",\"Underweight\",\"Extremly Obese\",\"Normal weight\",\"Obese\",\"Obese\",\"Extremly Obese\",\"Underweight\",\"Extremly Obese\",\"Overweight\",\"Obese\",\"Obese\",\"Extremly Obese\",\"Normal weight\",\"Obese\",\"Overweight\",\"Obese\",\"Extremly Obese\",\"Normal weight\",\"Extremly Obese\",\"Underweight\",\"Underweight\",\"Underweight\",\"Normal weight\",\"Obese\",\"Underweight\",\"Underweight\",\"Extremly Obese\",\"Extremly Obese\",\"Extremly Obese\",\"Extremly Obese\",\"Obese\",\"Underweight\",\"Normal weight\",\"Obese\",\"Normal weight\",\"Obese\",\"Underweight\",\"Normal weight\",\"Overweight\",\"Obese\",\"Overweight\",\"Obese\",\"Underweight\",\"Underweight\",\"Extremly Obese\",\"Obese\",\"Underweight\",\"Extremly Obese\",\"Normal weight\",\"Overweight\",\"Normal weight\",\"Obese\",\"Obese\",\"Normal weight\",\"Extremly Obese\",\"Overweight\",\"Normal weight\",\"Normal weight\",\"Normal weight\",\"Underweight\",\"Overweight\",\"Extremly Obese\",\"Overweight\",\"Normal weight\",\"Underweight\",\"Normal weight\",\"Overweight\",\"Obese\",\"Normal weight\",\"Obese\",\"Extremly Obese\",\"Overweight\",\"Extremly Obese\",\"Overweight\",\"Obese\",\"Overweight\",\"Overweight\",\"Normal weight\",\"Normal weight\",\"Normal weight\",\"Overweight\",\"Underweight\",\"Extremly Obese\",\"Obese\",\"Overweight\",\"Normal weight\",\"Extremly Obese\",\"Extremly Obese\",\"Obese\",\"Normal weight\",\"Overweight\",\"Underweight\",\"Normal weight\",\"Obese\",\"Obese\",\"Overweight\",\"Extremly Obese\",\"Overweight\",\"Overweight\",\"Normal weight\",\"Extremly Obese\",\"Underweight\",\"Extremly Obese\",\"Extremly Obese\",\"Underweight\",\"Overweight\",\"Extremly Obese\",\"Overweight\",\"Extremly Obese\",\"Extremly Obese\",\"Overweight\",\"Normal weight\",\"Extremly Obese\",\"Obese\",\"Underweight\",\"Underweight\",\"Overweight\",\"Extremly Obese\",\"Extremly Obese\",\"Obese\",\"Underweight\",\"Normal weight\",\"Extremly Obese\",\"Normal weight\",\"Normal weight\",\"Underweight\",\"Obese\",\"Extremly Obese\",\"Normal weight\",\"Overweight\",\"Obese\",\"Extremly Obese\",\"Underweight\",\"Overweight\",\"Normal weight\",\"Extremly Obese\",\"Overweight\",\"Underweight\",\"Obese\",\"Obese\",\"Underweight\",\"Extremly Obese\",\"Normal weight\",\"Overweight\",\"Overweight\",\"Obese\",\"Normal weight\",\"Extremly Obese\",\"Obese\",\"Obese\",\"Obese\",\"Obese\",\"Underweight\",\"Normal weight\",\"Extremly Obese\",\"Underweight\",\"Obese\",\"Extremly Obese\",\"Underweight\",\"Obese\",\"Overweight\",\"Overweight\",\"Underweight\",\"Underweight\",\"Obese\",\"Extremly Obese\",\"Obese\",\"Overweight\",\"Underweight\",\"Obese\",\"Normal weight\",\"Extremly Obese\",\"Extremly Obese\",\"Obese\",\"Extremly Obese\",\"Underweight\",\"Obese\",\"Normal weight\",\"Extremly Obese\",\"Normal weight\",\"Obese\",\"Extremly Obese\",\"Underweight\",\"Normal weight\",\"Obese\",\"Overweight\",\"Normal weight\",\"Normal weight\",\"Underweight\",\"Extremly Obese\",\"Overweight\",\"Underweight\",\"Normal weight\",\"Normal weight\",\"Normal weight\",\"Overweight\",\"Normal weight\",\"Normal weight\",\"Obese\",\"Normal weight\",\"Obese\",\"Overweight\",\"Overweight\",\"Obese\",\"Overweight\",\"Extremly Obese\",\"Obese\",\"Overweight\",\"Extremly Obese\",\"Obese\",\"Normal weight\",\"Normal weight\",\"Normal weight\",\"Extremly Obese\",\"Obese\",\"Extremly Obese\",\"Obese\",\"Overweight\",\"Underweight\",\"Obese\",\"Overweight\",\"Extremly Obese\",\"Normal weight\",\"Overweight\",\"Obese\",\"Obese\",\"Overweight\",\"Obese\",\"Normal weight\",\"Obese\",\"Obese\",\"Extremly Obese\",\"Extremly Obese\",\"Normal weight\",\"Normal weight\",\"Extremly Obese\",\"Overweight\",\"Extremly Obese\",\"Normal weight\",\"Obese\",\"Extremly Obese\",\"Extremly Obese\",\"Normal weight\",\"Obese\",\"Overweight\",\"Underweight\",\"Obese\",\"Obese\",\"Extremly Obese\",\"Overweight\",\"Normal weight\",\"Underweight\",\"Overweight\",\"Normal weight\",\"Obese\",\"Normal weight\",\"Extremly Obese\",\"Extremly Obese\",\"Obese\",\"Extremly Obese\",\"Obese\",\"Overweight\",\"Normal weight\",\"Overweight\",\"Overweight\",\"Extremly Obese\",\"Overweight\",\"Extremly Obese\",\"Obese\",\"Underweight\",\"Extremly Obese\",\"Overweight\",\"Normal weight\",\"Obese\",\"Underweight\",\"Obese\",\"Overweight\",\"Overweight\",\"Extremly Obese\",\"Overweight\",\"Normal weight\",\"Overweight\",\"Extremly Obese\",\"Normal weight\",\"Normal weight\",\"Underweight\",\"Underweight\",\"Extremly Obese\",\"Obese\",\"Normal weight\",\"Obese\",\"Normal weight\",\"Extremly Obese\",\"Extremly Obese\",\"Normal weight\",\"Extremly Obese\",\"Obese\",\"Normal weight\",\"Normal weight\",\"Overweight\",\"Obese\",\"Extremly Obese\",\"Obese\",\"Extremly Obese\",\"Obese\",\"Extremly Obese\",\"Obese\",\"Normal weight\",\"Overweight\",\"Extremly Obese\",\"Underweight\",\"Extremly Obese\",\"Normal weight\",\"Overweight\",\"Extremly Obese\",\"Normal weight\",\"Normal weight\",\"Overweight\",\"Extremly Obese\",\"Underweight\",\"Extremly Obese\",\"Normal weight\",\"Extremly Obese\",\"Extremly Obese\",\"Overweight\",\"Overweight\",\"Overweight\",\"Obese\",\"Underweight\",\"Underweight\",\"Underweight\",\"Overweight\",\"Normal weight\",\"Obese\",\"Extremly Obese\",\"Normal weight\",\"Overweight\",\"Overweight\",\"Extremly Obese\",\"Extremly Obese\",\"Extremly Obese\",\"Extremly Obese\",\"Underweight\",\"Extremly Obese\",\"Obese\",\"Normal weight\",\"Extremly Obese\",\"Normal weight\",\"Obese\",\"Normal weight\",\"Overweight\",\"Obese\",\"Overweight\",\"Overweight\",\"Normal weight\",\"Extremly Obese\",\"Normal weight\",\"Overweight\",\"Extremly Obese\",\"Extremly Obese\",\"Overweight\",\"Obese\",\"Extremly Obese\",\"Extremly Obese\",\"Overweight\",\"Normal weight\",\"Normal weight\",\"Normal weight\",\"Overweight\",\"Underweight\",\"Obese\",\"Normal weight\",\"Normal weight\",\"Extremly Obese\",\"Overweight\",\"Underweight\",\"Extremly Obese\",\"Underweight\",\"Obese\",\"Obese\",\"Normal weight\",\"Extremly Obese\",\"Overweight\",\"Overweight\",\"Underweight\",\"Normal weight\",\"Extremly Obese\",\"Normal weight\",\"Overweight\",\"Overweight\",\"Overweight\",\"Underweight\",\"Normal weight\",\"Obese\",\"Normal weight\",\"Normal weight\",\"Underweight\",\"Overweight\",\"Extremly Obese\",\"Underweight\",\"Normal weight\",\"Normal weight\",\"Obese\",\"Obese\",\"Overweight\",\"Obese\",\"Obese\",\"Extremly Obese\",\"Extremly Obese\",\"Normal weight\",\"Normal weight\",\"Underweight\",\"Normal weight\",\"Extremly Obese\",\"Overweight\",\"Normal weight\",\"Obese\",\"Overweight\",\"Normal weight\",\"Normal weight\",\"Overweight\",\"Obese\",\"Underweight\",\"Normal weight\",\"Overweight\",\"Normal weight\",\"Obese\",\"Overweight\",\"Normal weight\",\"Extremly Obese\",\"Obese\",\"Underweight\",\"Overweight\",\"Obese\",\"Obese\",\"Normal weight\",\"Extremly Obese\",\"Overweight\",\"Normal weight\",\"Normal weight\",\"Underweight\",\"Extremly Obese\",\"Underweight\",\"Underweight\",\"Extremly Obese\",\"Normal weight\",\"Underweight\",\"Underweight\",\"Normal weight\",\"Normal weight\",\"Obese\",\"Normal weight\",\"Underweight\",\"Obese\",\"Obese\",\"Overweight\",\"Overweight\",\"Normal weight\",\"Overweight\",\"Overweight\",\"Normal weight\",\"Extremly Obese\",\"Underweight\",\"Obese\",\"Underweight\",\"Obese\",\"Obese\",\"Extremly Obese\",\"Underweight\",\"Overweight\",\"Overweight\",\"Obese\",\"Overweight\",\"Overweight\",\"Overweight\",\"Normal weight\",\"Overweight\",\"Underweight\",\"Extremly Obese\",\"Obese\",\"Extremly Obese\",\"Normal weight\",\"Extremly Obese\",\"Extremly Obese\",\"Obese\",\"Obese\",\"Normal weight\",\"Extremly Obese\",\"Overweight\",\"Underweight\",\"Normal weight\",\"Extremly Obese\",\"Extremly Obese\",\"Extremly Obese\",\"Obese\",\"Normal weight\",\"Normal weight\",\"Normal weight\",\"Underweight\",\"Normal weight\",\"Normal weight\",\"Overweight\",\"Extremly Obese\",\"Overweight\",\"Extremly Obese\",\"Obese\",\"Normal weight\",\"Normal weight\",\"Underweight\",\"Normal weight\",\"Obese\",\"Underweight\",\"Normal weight\",\"Normal weight\",\"Extremly Obese\",\"Obese\",\"Obese\",\"Underweight\",\"Obese\",\"Obese\",\"Obese\",\"Extremly Obese\",\"Normal weight\",\"Extremly Obese\",\"Extremly Obese\",\"Underweight\",\"Overweight\",\"Extremly Obese\",\"Underweight\",\"Overweight\",\"Extremly Obese\",\"Overweight\",\"Normal weight\",\"Overweight\",\"Normal weight\",\"Overweight\",\"Underweight\",\"Obese\",\"Overweight\",\"Obese\",\"Obese\",\"Overweight\",\"Obese\",\"Normal weight\",\"Overweight\",\"Normal weight\",\"Extremly Obese\",\"Underweight\",\"Overweight\",\"Obese\",\"Overweight\",\"Underweight\",\"Overweight\",\"Obese\",\"Obese\",\"Normal weight\",\"Overweight\",\"Overweight\",\"Obese\",\"Overweight\",\"Overweight\",\"Normal weight\",\"Underweight\",\"Normal weight\",\"Underweight\",\"Overweight\",\"Obese\",\"Normal weight\",\"Extremly Obese\",\"Underweight\",\"Obese\",\"Obese\",\"Normal weight\",\"Underweight\",\"Obese\",\"Normal weight\",\"Extremly Obese\",\"Overweight\",\"Extremly Obese\",\"Normal weight\",\"Obese\",\"Obese\",\"Obese\",\"Normal weight\",\"Obese\",\"Overweight\",\"Obese\",\"Normal weight\",\"Extremly Obese\",\"Underweight\",\"Extremly Obese\",\"Extremly Obese\",\"Extremly Obese\",\"Overweight\",\"Overweight\",\"Extremly Obese\",\"Normal weight\",\"Overweight\",\"Obese\",\"Obese\",\"Normal weight\",\"Obese\",\"Extremly Obese\",\"Underweight\",\"Extremly Obese\",\"Underweight\",\"Normal weight\",\"Underweight\",\"Underweight\",\"Extremly Obese\",\"Normal weight\",\"Overweight\",\"Normal weight\",\"Overweight\",\"Overweight\",\"Normal weight\",\"Normal weight\",\"Extremly Obese\",\"Normal weight\",\"Overweight\",\"Normal weight\",\"Obese\",\"Normal weight\",\"Overweight\",\"Normal weight\",\"Extremly Obese\",\"Normal weight\",\"Obese\",\"Overweight\",\"Normal weight\",\"Obese\",\"Normal weight\",\"Extremly Obese\",\"Extremly Obese\",\"Extremly Obese\",\"Underweight\",\"Obese\",\"Overweight\",\"Extremly Obese\",\"Obese\",\"Extremly Obese\",\"Overweight\",\"Overweight\",\"Normal weight\",\"Obese\",\"Overweight\",\"Overweight\",\"Obese\",\"Overweight\",\"Normal weight\",\"Overweight\",\"Overweight\",\"Overweight\",\"Underweight\",\"Normal weight\",\"Normal weight\",\"Obese\",\"Underweight\",\"Overweight\",\"Extremly Obese\",\"Underweight\",\"Overweight\",\"Obese\",\"Extremly Obese\",\"Obese\",\"Obese\",\"Extremly Obese\",\"Overweight\",\"Extremly Obese\",\"Underweight\",\"Extremly Obese\",\"Overweight\",\"Overweight\",\"Normal weight\",\"Obese\",\"Underweight\",\"Extremly Obese\",\"Extremly Obese\",\"Normal weight\",\"Extremly Obese\",\"Obese\",\"Obese\",\"Normal weight\",\"Normal weight\",\"Normal weight\",\"Normal weight\",\"Extremly Obese\",\"Underweight\",\"Extremly Obese\",\"Normal weight\",\"Overweight\",\"Obese\",\"Extremly Obese\",\"Normal weight\",\"Overweight\",\"Overweight\",\"Underweight\",\"Normal weight\",\"Overweight\",\"Overweight\",\"Obese\",\"Normal weight\",\"Overweight\",\"Overweight\",\"Obese\",\"Extremly Obese\",\"Overweight\",\"Obese\",\"Normal weight\",\"Overweight\",\"Normal weight\",\"Overweight\",\"Obese\",\"Extremly Obese\",\"Underweight\",\"Obese\",\"Overweight\",\"Underweight\",\"Normal weight\",\"Normal weight\",\"Normal weight\",\"Normal weight\",\"Normal weight\",\"Normal weight\",\"Obese\",\"Overweight\",\"Extremly Obese\",\"Overweight\",\"Obese\",\"Extremly Obese\",\"Obese\",\"Overweight\",\"Obese\",\"Normal weight\",\"Normal weight\",\"Overweight\",\"Overweight\",\"Underweight\",\"Extremly Obese\",\"Obese\",\"Overweight\",\"Extremly Obese\",\"Overweight\",\"Extremly Obese\",\"Overweight\",\"Underweight\",\"Obese\",\"Obese\",\"Obese\",\"Extremly Obese\",\"Obese\",\"Obese\",\"Extremly Obese\",\"Obese\",\"Overweight\",\"Extremly Obese\",\"Normal weight\",\"Obese\",\"Extremly Obese\",\"Obese\",\"Obese\",\"Obese\",\"Overweight\",\"Extremly Obese\",\"Normal weight\",\"Underweight\",\"Normal weight\",\"Overweight\",\"Overweight\",\"Extremly Obese\",\"Overweight\",\"Overweight\",\"Underweight\",\"Overweight\",\"Obese\",\"Underweight\",\"Normal weight\",\"Normal weight\",\"Underweight\",\"Overweight\",\"Normal weight\",\"Obese\",\"Extremly Obese\",\"Overweight\",\"Extremly Obese\",\"Overweight\",\"Overweight\",\"Extremly Obese\",\"Normal weight\",\"Extremly Obese\",\"Underweight\",\"Overweight\",\"Underweight\",\"Obese\",\"Obese\",\"Obese\",\"Normal weight\",\"Normal weight\",\"Underweight\",\"Normal weight\",\"Extremly Obese\",\"Normal weight\",\"Extremly Obese\",\"Extremly Obese\",\"Normal weight\",\"Obese\",\"Underweight\",\"Underweight\",\"Underweight\",\"Overweight\",\"Overweight\",\"Overweight\",\"Overweight\",\"Normal weight\",\"Obese\",\"Obese\",\"Underweight\",\"Normal weight\",\"Obese\",\"Normal weight\",\"Obese\",\"Normal weight\",\"Normal weight\",\"Normal weight\",\"Normal weight\",\"Obese\",\"Overweight\",\"Obese\",\"Extremly Obese\",\"Overweight\",\"Obese\",\"Normal weight\",\"Overweight\",\"Obese\",\"Normal weight\",\"Overweight\",\"Normal weight\",\"Overweight\",\"Extremly Obese\",\"Extremly Obese\",\"Obese\",\"Obese\",\"Overweight\",\"Overweight\",\"Underweight\",\"Overweight\",\"Overweight\",\"Extremly Obese\",\"Overweight\",\"Overweight\",\"Overweight\",\"Obese\",\"Obese\",\"Normal weight\",\"Overweight\",\"Extremly Obese\",\"Overweight\",\"Normal weight\",\"Obese\",\"Extremly Obese\",\"Underweight\",\"Obese\",\"Extremly Obese\",\"Overweight\",\"Extremly Obese\",\"Obese\",\"Obese\",\"Obese\",\"Normal weight\",\"Normal weight\",\"Overweight\",\"Normal weight\",\"Overweight\",\"Extremly Obese\",\"Extremly Obese\",\"Obese\",\"Extremly Obese\",\"Obese\",\"Overweight\",\"Normal weight\",\"Overweight\",\"Obese\",\"Overweight\",\"Obese\",\"Underweight\",\"Obese\",\"Extremly Obese\",\"Obese\",\"Extremly Obese\",\"Extremly Obese\",\"Extremly Obese\",\"Extremly Obese\",\"Extremly Obese\",\"Obese\",\"Underweight\",\"Overweight\",\"Overweight\",\"Normal weight\",\"Normal weight\",\"Extremly Obese\",\"Extremly Obese\",\"Extremly Obese\",\"Overweight\",\"Underweight\",\"Underweight\",\"Normal weight\",\"Underweight\",\"Underweight\",\"Extremly Obese\",\"Obese\",\"Normal weight\",\"Underweight\",\"Overweight\",\"Underweight\",\"Extremly Obese\",\"Overweight\",\"Overweight\",\"Normal weight\",\"Underweight\",\"Obese\",\"Obese\",\"Obese\",\"Underweight\",\"Overweight\",\"Overweight\",\"Extremly Obese\",\"Normal weight\",\"Normal weight\",\"Obese\",\"Obese\",\"Overweight\",\"Overweight\",\"Overweight\",\"Extremly Obese\",\"Overweight\",\"Extremly Obese\",\"Overweight\",\"Extremly Obese\",\"Extremly Obese\",\"Normal weight\"],\"legendgroup\":\"\",\"name\":\"\",\"showlegend\":true,\"type\":\"pie\"}],                        {\"template\":{\"data\":{\"barpolar\":[{\"marker\":{\"line\":{\"color\":\"rgb(17,17,17)\",\"width\":0.5},\"pattern\":{\"fillmode\":\"overlay\",\"size\":10,\"solidity\":0.2}},\"type\":\"barpolar\"}],\"bar\":[{\"error_x\":{\"color\":\"#f2f5fa\"},\"error_y\":{\"color\":\"#f2f5fa\"},\"marker\":{\"line\":{\"color\":\"rgb(17,17,17)\",\"width\":0.5},\"pattern\":{\"fillmode\":\"overlay\",\"size\":10,\"solidity\":0.2}},\"type\":\"bar\"}],\"carpet\":[{\"aaxis\":{\"endlinecolor\":\"#A2B1C6\",\"gridcolor\":\"#506784\",\"linecolor\":\"#506784\",\"minorgridcolor\":\"#506784\",\"startlinecolor\":\"#A2B1C6\"},\"baxis\":{\"endlinecolor\":\"#A2B1C6\",\"gridcolor\":\"#506784\",\"linecolor\":\"#506784\",\"minorgridcolor\":\"#506784\",\"startlinecolor\":\"#A2B1C6\"},\"type\":\"carpet\"}],\"choropleth\":[{\"colorbar\":{\"outlinewidth\":0,\"ticks\":\"\"},\"type\":\"choropleth\"}],\"contourcarpet\":[{\"colorbar\":{\"outlinewidth\":0,\"ticks\":\"\"},\"type\":\"contourcarpet\"}],\"contour\":[{\"colorbar\":{\"outlinewidth\":0,\"ticks\":\"\"},\"colorscale\":[[0.0,\"#0d0887\"],[0.1111111111111111,\"#46039f\"],[0.2222222222222222,\"#7201a8\"],[0.3333333333333333,\"#9c179e\"],[0.4444444444444444,\"#bd3786\"],[0.5555555555555556,\"#d8576b\"],[0.6666666666666666,\"#ed7953\"],[0.7777777777777778,\"#fb9f3a\"],[0.8888888888888888,\"#fdca26\"],[1.0,\"#f0f921\"]],\"type\":\"contour\"}],\"heatmapgl\":[{\"colorbar\":{\"outlinewidth\":0,\"ticks\":\"\"},\"colorscale\":[[0.0,\"#0d0887\"],[0.1111111111111111,\"#46039f\"],[0.2222222222222222,\"#7201a8\"],[0.3333333333333333,\"#9c179e\"],[0.4444444444444444,\"#bd3786\"],[0.5555555555555556,\"#d8576b\"],[0.6666666666666666,\"#ed7953\"],[0.7777777777777778,\"#fb9f3a\"],[0.8888888888888888,\"#fdca26\"],[1.0,\"#f0f921\"]],\"type\":\"heatmapgl\"}],\"heatmap\":[{\"colorbar\":{\"outlinewidth\":0,\"ticks\":\"\"},\"colorscale\":[[0.0,\"#0d0887\"],[0.1111111111111111,\"#46039f\"],[0.2222222222222222,\"#7201a8\"],[0.3333333333333333,\"#9c179e\"],[0.4444444444444444,\"#bd3786\"],[0.5555555555555556,\"#d8576b\"],[0.6666666666666666,\"#ed7953\"],[0.7777777777777778,\"#fb9f3a\"],[0.8888888888888888,\"#fdca26\"],[1.0,\"#f0f921\"]],\"type\":\"heatmap\"}],\"histogram2dcontour\":[{\"colorbar\":{\"outlinewidth\":0,\"ticks\":\"\"},\"colorscale\":[[0.0,\"#0d0887\"],[0.1111111111111111,\"#46039f\"],[0.2222222222222222,\"#7201a8\"],[0.3333333333333333,\"#9c179e\"],[0.4444444444444444,\"#bd3786\"],[0.5555555555555556,\"#d8576b\"],[0.6666666666666666,\"#ed7953\"],[0.7777777777777778,\"#fb9f3a\"],[0.8888888888888888,\"#fdca26\"],[1.0,\"#f0f921\"]],\"type\":\"histogram2dcontour\"}],\"histogram2d\":[{\"colorbar\":{\"outlinewidth\":0,\"ticks\":\"\"},\"colorscale\":[[0.0,\"#0d0887\"],[0.1111111111111111,\"#46039f\"],[0.2222222222222222,\"#7201a8\"],[0.3333333333333333,\"#9c179e\"],[0.4444444444444444,\"#bd3786\"],[0.5555555555555556,\"#d8576b\"],[0.6666666666666666,\"#ed7953\"],[0.7777777777777778,\"#fb9f3a\"],[0.8888888888888888,\"#fdca26\"],[1.0,\"#f0f921\"]],\"type\":\"histogram2d\"}],\"histogram\":[{\"marker\":{\"pattern\":{\"fillmode\":\"overlay\",\"size\":10,\"solidity\":0.2}},\"type\":\"histogram\"}],\"mesh3d\":[{\"colorbar\":{\"outlinewidth\":0,\"ticks\":\"\"},\"type\":\"mesh3d\"}],\"parcoords\":[{\"line\":{\"colorbar\":{\"outlinewidth\":0,\"ticks\":\"\"}},\"type\":\"parcoords\"}],\"pie\":[{\"automargin\":true,\"type\":\"pie\"}],\"scatter3d\":[{\"line\":{\"colorbar\":{\"outlinewidth\":0,\"ticks\":\"\"}},\"marker\":{\"colorbar\":{\"outlinewidth\":0,\"ticks\":\"\"}},\"type\":\"scatter3d\"}],\"scattercarpet\":[{\"marker\":{\"colorbar\":{\"outlinewidth\":0,\"ticks\":\"\"}},\"type\":\"scattercarpet\"}],\"scattergeo\":[{\"marker\":{\"colorbar\":{\"outlinewidth\":0,\"ticks\":\"\"}},\"type\":\"scattergeo\"}],\"scattergl\":[{\"marker\":{\"line\":{\"color\":\"#283442\"}},\"type\":\"scattergl\"}],\"scattermapbox\":[{\"marker\":{\"colorbar\":{\"outlinewidth\":0,\"ticks\":\"\"}},\"type\":\"scattermapbox\"}],\"scatterpolargl\":[{\"marker\":{\"colorbar\":{\"outlinewidth\":0,\"ticks\":\"\"}},\"type\":\"scatterpolargl\"}],\"scatterpolar\":[{\"marker\":{\"colorbar\":{\"outlinewidth\":0,\"ticks\":\"\"}},\"type\":\"scatterpolar\"}],\"scatter\":[{\"marker\":{\"line\":{\"color\":\"#283442\"}},\"type\":\"scatter\"}],\"scatterternary\":[{\"marker\":{\"colorbar\":{\"outlinewidth\":0,\"ticks\":\"\"}},\"type\":\"scatterternary\"}],\"surface\":[{\"colorbar\":{\"outlinewidth\":0,\"ticks\":\"\"},\"colorscale\":[[0.0,\"#0d0887\"],[0.1111111111111111,\"#46039f\"],[0.2222222222222222,\"#7201a8\"],[0.3333333333333333,\"#9c179e\"],[0.4444444444444444,\"#bd3786\"],[0.5555555555555556,\"#d8576b\"],[0.6666666666666666,\"#ed7953\"],[0.7777777777777778,\"#fb9f3a\"],[0.8888888888888888,\"#fdca26\"],[1.0,\"#f0f921\"]],\"type\":\"surface\"}],\"table\":[{\"cells\":{\"fill\":{\"color\":\"#506784\"},\"line\":{\"color\":\"rgb(17,17,17)\"}},\"header\":{\"fill\":{\"color\":\"#2a3f5f\"},\"line\":{\"color\":\"rgb(17,17,17)\"}},\"type\":\"table\"}]},\"layout\":{\"annotationdefaults\":{\"arrowcolor\":\"#f2f5fa\",\"arrowhead\":0,\"arrowwidth\":1},\"autotypenumbers\":\"strict\",\"coloraxis\":{\"colorbar\":{\"outlinewidth\":0,\"ticks\":\"\"}},\"colorscale\":{\"diverging\":[[0,\"#8e0152\"],[0.1,\"#c51b7d\"],[0.2,\"#de77ae\"],[0.3,\"#f1b6da\"],[0.4,\"#fde0ef\"],[0.5,\"#f7f7f7\"],[0.6,\"#e6f5d0\"],[0.7,\"#b8e186\"],[0.8,\"#7fbc41\"],[0.9,\"#4d9221\"],[1,\"#276419\"]],\"sequential\":[[0.0,\"#0d0887\"],[0.1111111111111111,\"#46039f\"],[0.2222222222222222,\"#7201a8\"],[0.3333333333333333,\"#9c179e\"],[0.4444444444444444,\"#bd3786\"],[0.5555555555555556,\"#d8576b\"],[0.6666666666666666,\"#ed7953\"],[0.7777777777777778,\"#fb9f3a\"],[0.8888888888888888,\"#fdca26\"],[1.0,\"#f0f921\"]],\"sequentialminus\":[[0.0,\"#0d0887\"],[0.1111111111111111,\"#46039f\"],[0.2222222222222222,\"#7201a8\"],[0.3333333333333333,\"#9c179e\"],[0.4444444444444444,\"#bd3786\"],[0.5555555555555556,\"#d8576b\"],[0.6666666666666666,\"#ed7953\"],[0.7777777777777778,\"#fb9f3a\"],[0.8888888888888888,\"#fdca26\"],[1.0,\"#f0f921\"]]},\"colorway\":[\"#636efa\",\"#EF553B\",\"#00cc96\",\"#ab63fa\",\"#FFA15A\",\"#19d3f3\",\"#FF6692\",\"#B6E880\",\"#FF97FF\",\"#FECB52\"],\"font\":{\"color\":\"#f2f5fa\"},\"geo\":{\"bgcolor\":\"rgb(17,17,17)\",\"lakecolor\":\"rgb(17,17,17)\",\"landcolor\":\"rgb(17,17,17)\",\"showlakes\":true,\"showland\":true,\"subunitcolor\":\"#506784\"},\"hoverlabel\":{\"align\":\"left\"},\"hovermode\":\"closest\",\"mapbox\":{\"style\":\"dark\"},\"paper_bgcolor\":\"rgb(17,17,17)\",\"plot_bgcolor\":\"rgb(17,17,17)\",\"polar\":{\"angularaxis\":{\"gridcolor\":\"#506784\",\"linecolor\":\"#506784\",\"ticks\":\"\"},\"bgcolor\":\"rgb(17,17,17)\",\"radialaxis\":{\"gridcolor\":\"#506784\",\"linecolor\":\"#506784\",\"ticks\":\"\"}},\"scene\":{\"xaxis\":{\"backgroundcolor\":\"rgb(17,17,17)\",\"gridcolor\":\"#506784\",\"gridwidth\":2,\"linecolor\":\"#506784\",\"showbackground\":true,\"ticks\":\"\",\"zerolinecolor\":\"#C8D4E3\"},\"yaxis\":{\"backgroundcolor\":\"rgb(17,17,17)\",\"gridcolor\":\"#506784\",\"gridwidth\":2,\"linecolor\":\"#506784\",\"showbackground\":true,\"ticks\":\"\",\"zerolinecolor\":\"#C8D4E3\"},\"zaxis\":{\"backgroundcolor\":\"rgb(17,17,17)\",\"gridcolor\":\"#506784\",\"gridwidth\":2,\"linecolor\":\"#506784\",\"showbackground\":true,\"ticks\":\"\",\"zerolinecolor\":\"#C8D4E3\"}},\"shapedefaults\":{\"line\":{\"color\":\"#f2f5fa\"}},\"sliderdefaults\":{\"bgcolor\":\"#C8D4E3\",\"bordercolor\":\"rgb(17,17,17)\",\"borderwidth\":1,\"tickwidth\":0},\"ternary\":{\"aaxis\":{\"gridcolor\":\"#506784\",\"linecolor\":\"#506784\",\"ticks\":\"\"},\"baxis\":{\"gridcolor\":\"#506784\",\"linecolor\":\"#506784\",\"ticks\":\"\"},\"bgcolor\":\"rgb(17,17,17)\",\"caxis\":{\"gridcolor\":\"#506784\",\"linecolor\":\"#506784\",\"ticks\":\"\"}},\"title\":{\"x\":0.05},\"updatemenudefaults\":{\"bgcolor\":\"#506784\",\"borderwidth\":0},\"xaxis\":{\"automargin\":true,\"gridcolor\":\"#283442\",\"linecolor\":\"#506784\",\"ticks\":\"\",\"title\":{\"standoff\":15},\"zerolinecolor\":\"#283442\",\"zerolinewidth\":2},\"yaxis\":{\"automargin\":true,\"gridcolor\":\"#283442\",\"linecolor\":\"#506784\",\"ticks\":\"\",\"title\":{\"standoff\":15},\"zerolinecolor\":\"#283442\",\"zerolinewidth\":2}}},\"legend\":{\"tracegroupgap\":0},\"title\":{\"text\":\"SegmentBMI Distribution\",\"x\":0.5},\"piecolorway\":[\"rgb(108, 33, 103)\",\"rgb(145, 53, 125)\",\"rgb(177, 77, 142)\",\"rgb(202, 105, 157)\",\"rgb(221, 136, 172)\",\"rgb(234, 169, 189)\",\"rgb(243, 203, 211)\"],\"width\":800,\"height\":600},                        {\"responsive\": true}                    ).then(function(){\n",
       "                            \n",
       "var gd = document.getElementById('96ca64a2-06f1-4031-9911-d6cd601ee140');\n",
       "var x = new MutationObserver(function (mutations, observer) {{\n",
       "        var display = window.getComputedStyle(gd).display;\n",
       "        if (!display || display === 'none') {{\n",
       "            console.log([gd, 'removed!']);\n",
       "            Plotly.purge(gd);\n",
       "            observer.disconnect();\n",
       "        }}\n",
       "}});\n",
       "\n",
       "// Listen for the removal of the full notebook cells\n",
       "var notebookContainer = gd.closest('#notebook-container');\n",
       "if (notebookContainer) {{\n",
       "    x.observe(notebookContainer, {childList: true});\n",
       "}}\n",
       "\n",
       "// Listen for the clearing of the current output cell\n",
       "var outputEl = gd.closest('.output');\n",
       "if (outputEl) {{\n",
       "    x.observe(outputEl, {childList: true});\n",
       "}}\n",
       "\n",
       "                        })                };                });            </script>        </div>"
      ]
     },
     "metadata": {},
     "output_type": "display_data"
    }
   ],
   "source": [
    "plt = px.pie(data, names=\"SegmentBMI\", title=\"SegmentBMI Distribution\", color_discrete_sequence=px.colors.sequential.Magenta_r)\n",
    "plt.update_layout(\n",
    "    title_x=0.5,\n",
    "    template=\"plotly_dark\",  \n",
    "    width=800,              \n",
    "    height=600 \n",
    ")\n",
    "plt.show()"
   ]
  },
  {
   "cell_type": "code",
   "execution_count": 17,
   "id": "235f4fb8",
   "metadata": {
    "execution": {
     "iopub.execute_input": "2024-09-05T23:23:05.587963Z",
     "iopub.status.busy": "2024-09-05T23:23:05.587007Z",
     "iopub.status.idle": "2024-09-05T23:23:05.603112Z",
     "shell.execute_reply": "2024-09-05T23:23:05.602188Z"
    },
    "papermill": {
     "duration": 0.042178,
     "end_time": "2024-09-05T23:23:05.605136",
     "exception": false,
     "start_time": "2024-09-05T23:23:05.562958",
     "status": "completed"
    },
    "tags": []
   },
   "outputs": [
    {
     "data": {
      "text/plain": [
       "Gender  SegmentBMI    \n",
       "0       Underweight       126\n",
       "        Normal weight     206\n",
       "        Overweight        168\n",
       "        Obese             162\n",
       "        Extremly Obese    181\n",
       "1       Underweight       117\n",
       "        Normal weight     194\n",
       "        Overweight        192\n",
       "        Obese             185\n",
       "        Extremly Obese    169\n",
       "Name: SegmentBMI, dtype: int64"
      ]
     },
     "execution_count": 17,
     "metadata": {},
     "output_type": "execute_result"
    }
   ],
   "source": [
    "### BMI VS Gender\n",
    "data.groupby(['Gender','SegmentBMI'])['SegmentBMI'].count()"
   ]
  },
  {
   "cell_type": "code",
   "execution_count": 18,
   "id": "fedf8795",
   "metadata": {
    "execution": {
     "iopub.execute_input": "2024-09-05T23:23:05.653998Z",
     "iopub.status.busy": "2024-09-05T23:23:05.653638Z",
     "iopub.status.idle": "2024-09-05T23:23:05.759947Z",
     "shell.execute_reply": "2024-09-05T23:23:05.759032Z"
    },
    "papermill": {
     "duration": 0.134168,
     "end_time": "2024-09-05T23:23:05.763273",
     "exception": false,
     "start_time": "2024-09-05T23:23:05.629105",
     "status": "completed"
    },
    "tags": []
   },
   "outputs": [
    {
     "data": {
      "text/html": [
       "<div>                            <div id=\"e4c2dd3b-205b-43e2-b2de-00e3f9555fcd\" class=\"plotly-graph-div\" style=\"height:600px; width:800px;\"></div>            <script type=\"text/javascript\">                require([\"plotly\"], function(Plotly) {                    window.PLOTLYENV=window.PLOTLYENV || {};                                    if (document.getElementById(\"e4c2dd3b-205b-43e2-b2de-00e3f9555fcd\")) {                    Plotly.newPlot(                        \"e4c2dd3b-205b-43e2-b2de-00e3f9555fcd\",                        [{\"alignmentgroup\":\"True\",\"bingroup\":\"x\",\"hovertemplate\":\"color=Female\\u003cbr\\u003ex=%{x}\\u003cbr\\u003ecount=%{y}\\u003cextra\\u003e\\u003c\\u002fextra\\u003e\",\"legendgroup\":\"Female\",\"marker\":{\"color\":\"rgb(237, 217, 163)\",\"pattern\":{\"shape\":\"\"}},\"name\":\"Female\",\"offsetgroup\":\"Female\",\"orientation\":\"v\",\"showlegend\":true,\"texttemplate\":\"%{value}\",\"x\":[\"Extremly Obese\",\"Normal weight\",\"Normal weight\",\"Obese\",\"Overweight\",\"Normal weight\",\"Extremly Obese\",\"Obese\",\"Extremly Obese\",\"Obese\",\"Extremly Obese\",\"Underweight\",\"Extremly Obese\",\"Normal weight\",\"Normal weight\",\"Normal weight\",\"Underweight\",\"Overweight\",\"Obese\",\"Extremly Obese\",\"Underweight\",\"Overweight\",\"Extremly Obese\",\"Extremly Obese\",\"Extremly Obese\",\"Obese\",\"Overweight\",\"Overweight\",\"Extremly Obese\",\"Normal weight\",\"Extremly Obese\",\"Obese\",\"Underweight\",\"Extremly Obese\",\"Overweight\",\"Underweight\",\"Overweight\",\"Normal weight\",\"Underweight\",\"Underweight\",\"Normal weight\",\"Overweight\",\"Normal weight\",\"Normal weight\",\"Underweight\",\"Extremly Obese\",\"Obese\",\"Normal weight\",\"Normal weight\",\"Overweight\",\"Normal weight\",\"Overweight\",\"Obese\",\"Underweight\",\"Obese\",\"Extremly Obese\",\"Normal weight\",\"Normal weight\",\"Overweight\",\"Obese\",\"Normal weight\",\"Underweight\",\"Overweight\",\"Overweight\",\"Extremly Obese\",\"Obese\",\"Extremly Obese\",\"Normal weight\",\"Obese\",\"Normal weight\",\"Overweight\",\"Extremly Obese\",\"Extremly Obese\",\"Underweight\",\"Obese\",\"Obese\",\"Obese\",\"Overweight\",\"Underweight\",\"Normal weight\",\"Obese\",\"Normal weight\",\"Underweight\",\"Obese\",\"Underweight\",\"Normal weight\",\"Normal weight\",\"Normal weight\",\"Overweight\",\"Overweight\",\"Normal weight\",\"Obese\",\"Underweight\",\"Obese\",\"Normal weight\",\"Obese\",\"Obese\",\"Extremly Obese\",\"Extremly Obese\",\"Overweight\",\"Normal weight\",\"Underweight\",\"Extremly Obese\",\"Obese\",\"Normal weight\",\"Normal weight\",\"Obese\",\"Overweight\",\"Obese\",\"Normal weight\",\"Extremly Obese\",\"Normal weight\",\"Overweight\",\"Overweight\",\"Extremly Obese\",\"Normal weight\",\"Normal weight\",\"Overweight\",\"Overweight\",\"Obese\",\"Extremly Obese\",\"Extremly Obese\",\"Obese\",\"Underweight\",\"Underweight\",\"Extremly Obese\",\"Overweight\",\"Underweight\",\"Underweight\",\"Normal weight\",\"Obese\",\"Normal weight\",\"Extremly Obese\",\"Normal weight\",\"Extremly Obese\",\"Obese\",\"Normal weight\",\"Underweight\",\"Normal weight\",\"Obese\",\"Extremly Obese\",\"Normal weight\",\"Obese\",\"Obese\",\"Extremly Obese\",\"Obese\",\"Normal weight\",\"Normal weight\",\"Extremly Obese\",\"Underweight\",\"Overweight\",\"Extremly Obese\",\"Obese\",\"Overweight\",\"Obese\",\"Normal weight\",\"Obese\",\"Normal weight\",\"Underweight\",\"Obese\",\"Obese\",\"Underweight\",\"Extremly Obese\",\"Overweight\",\"Obese\",\"Obese\",\"Obese\",\"Normal weight\",\"Normal weight\",\"Overweight\",\"Obese\",\"Overweight\",\"Underweight\",\"Normal weight\",\"Overweight\",\"Normal weight\",\"Underweight\",\"Normal weight\",\"Normal weight\",\"Normal weight\",\"Obese\",\"Normal weight\",\"Extremly Obese\",\"Normal weight\",\"Normal weight\",\"Extremly Obese\",\"Normal weight\",\"Overweight\",\"Normal weight\",\"Extremly Obese\",\"Extremly Obese\",\"Underweight\",\"Normal weight\",\"Extremly Obese\",\"Obese\",\"Extremly Obese\",\"Obese\",\"Obese\",\"Underweight\",\"Underweight\",\"Normal weight\",\"Normal weight\",\"Extremly Obese\",\"Underweight\",\"Extremly Obese\",\"Normal weight\",\"Normal weight\",\"Extremly Obese\",\"Overweight\",\"Normal weight\",\"Underweight\",\"Underweight\",\"Extremly Obese\",\"Obese\",\"Normal weight\",\"Overweight\",\"Extremly Obese\",\"Underweight\",\"Underweight\",\"Underweight\",\"Normal weight\",\"Obese\",\"Extremly Obese\",\"Underweight\",\"Extremly Obese\",\"Normal weight\",\"Underweight\",\"Overweight\",\"Obese\",\"Normal weight\",\"Extremly Obese\",\"Underweight\",\"Extremly Obese\",\"Normal weight\",\"Normal weight\",\"Normal weight\",\"Normal weight\",\"Underweight\",\"Overweight\",\"Overweight\",\"Underweight\",\"Obese\",\"Extremly Obese\",\"Obese\",\"Obese\",\"Overweight\",\"Normal weight\",\"Normal weight\",\"Normal weight\",\"Extremly Obese\",\"Normal weight\",\"Extremly Obese\",\"Normal weight\",\"Normal weight\",\"Extremly Obese\",\"Extremly Obese\",\"Obese\",\"Overweight\",\"Obese\",\"Normal weight\",\"Overweight\",\"Obese\",\"Overweight\",\"Underweight\",\"Extremly Obese\",\"Underweight\",\"Obese\",\"Overweight\",\"Underweight\",\"Normal weight\",\"Normal weight\",\"Extremly Obese\",\"Overweight\",\"Obese\",\"Obese\",\"Obese\",\"Extremly Obese\",\"Normal weight\",\"Overweight\",\"Underweight\",\"Underweight\",\"Extremly Obese\",\"Overweight\",\"Obese\",\"Overweight\",\"Overweight\",\"Overweight\",\"Overweight\",\"Normal weight\",\"Overweight\",\"Normal weight\",\"Normal weight\",\"Normal weight\",\"Extremly Obese\",\"Obese\",\"Overweight\",\"Extremly Obese\",\"Normal weight\",\"Extremly Obese\",\"Underweight\",\"Underweight\",\"Extremly Obese\",\"Extremly Obese\",\"Overweight\",\"Overweight\",\"Obese\",\"Extremly Obese\",\"Overweight\",\"Underweight\",\"Underweight\",\"Normal weight\",\"Obese\",\"Obese\",\"Extremly Obese\",\"Extremly Obese\",\"Obese\",\"Extremly Obese\",\"Normal weight\",\"Overweight\",\"Extremly Obese\",\"Underweight\",\"Normal weight\",\"Extremly Obese\",\"Overweight\",\"Underweight\",\"Overweight\",\"Extremly Obese\",\"Overweight\",\"Extremly Obese\",\"Underweight\",\"Normal weight\",\"Underweight\",\"Obese\",\"Underweight\",\"Obese\",\"Normal weight\",\"Overweight\",\"Normal weight\",\"Obese\",\"Overweight\",\"Underweight\",\"Extremly Obese\",\"Overweight\",\"Underweight\",\"Extremly Obese\",\"Normal weight\",\"Overweight\",\"Underweight\",\"Overweight\",\"Normal weight\",\"Normal weight\",\"Normal weight\",\"Overweight\",\"Overweight\",\"Overweight\",\"Underweight\",\"Extremly Obese\",\"Obese\",\"Extremly Obese\",\"Normal weight\",\"Extremly Obese\",\"Overweight\",\"Obese\",\"Overweight\",\"Normal weight\",\"Normal weight\",\"Normal weight\",\"Obese\",\"Normal weight\",\"Extremly Obese\",\"Overweight\",\"Normal weight\",\"Overweight\",\"Obese\",\"Extremly Obese\",\"Extremly Obese\",\"Obese\",\"Overweight\",\"Normal weight\",\"Overweight\",\"Overweight\",\"Extremly Obese\",\"Obese\",\"Overweight\",\"Overweight\",\"Overweight\",\"Extremly Obese\",\"Normal weight\",\"Obese\",\"Underweight\",\"Extremly Obese\",\"Overweight\",\"Obese\",\"Extremly Obese\",\"Normal weight\",\"Extremly Obese\",\"Underweight\",\"Underweight\",\"Extremly Obese\",\"Extremly Obese\",\"Underweight\",\"Normal weight\",\"Obese\",\"Normal weight\",\"Underweight\",\"Overweight\",\"Obese\",\"Overweight\",\"Underweight\",\"Obese\",\"Normal weight\",\"Extremly Obese\",\"Overweight\",\"Normal weight\",\"Underweight\",\"Normal weight\",\"Overweight\",\"Obese\",\"Overweight\",\"Overweight\",\"Normal weight\",\"Normal weight\",\"Normal weight\",\"Overweight\",\"Extremly Obese\",\"Obese\",\"Extremly Obese\",\"Obese\",\"Normal weight\",\"Overweight\",\"Underweight\",\"Obese\",\"Overweight\",\"Extremly Obese\",\"Extremly Obese\",\"Underweight\",\"Overweight\",\"Extremly Obese\",\"Extremly Obese\",\"Overweight\",\"Normal weight\",\"Obese\",\"Underweight\",\"Underweight\",\"Overweight\",\"Extremly Obese\",\"Underweight\",\"Normal weight\",\"Normal weight\",\"Obese\",\"Extremly Obese\",\"Overweight\",\"Obese\",\"Extremly Obese\",\"Normal weight\",\"Obese\",\"Underweight\",\"Normal weight\",\"Obese\",\"Underweight\",\"Obese\",\"Underweight\",\"Underweight\",\"Obese\",\"Extremly Obese\",\"Extremly Obese\",\"Normal weight\",\"Extremly Obese\",\"Normal weight\",\"Extremly Obese\",\"Underweight\",\"Normal weight\",\"Normal weight\",\"Overweight\",\"Underweight\",\"Normal weight\",\"Normal weight\",\"Normal weight\",\"Obese\",\"Normal weight\",\"Overweight\",\"Obese\",\"Overweight\",\"Extremly Obese\",\"Obese\",\"Normal weight\",\"Normal weight\",\"Extremly Obese\",\"Obese\",\"Extremly Obese\",\"Overweight\",\"Normal weight\",\"Overweight\",\"Obese\",\"Normal weight\",\"Extremly Obese\",\"Normal weight\",\"Normal weight\",\"Obese\",\"Extremly Obese\",\"Extremly Obese\",\"Normal weight\",\"Obese\",\"Underweight\",\"Obese\",\"Obese\",\"Overweight\",\"Normal weight\",\"Extremly Obese\",\"Extremly Obese\",\"Normal weight\",\"Overweight\",\"Overweight\",\"Extremly Obese\",\"Obese\",\"Underweight\",\"Extremly Obese\",\"Normal weight\",\"Obese\",\"Underweight\",\"Obese\",\"Overweight\",\"Overweight\",\"Extremly Obese\",\"Normal weight\",\"Underweight\",\"Extremly Obese\",\"Obese\",\"Extremly Obese\",\"Extremly Obese\",\"Normal weight\",\"Extremly Obese\",\"Normal weight\",\"Normal weight\",\"Obese\",\"Obese\",\"Normal weight\",\"Overweight\",\"Normal weight\",\"Overweight\",\"Extremly Obese\",\"Extremly Obese\",\"Extremly Obese\",\"Overweight\",\"Overweight\",\"Underweight\",\"Underweight\",\"Underweight\",\"Normal weight\",\"Overweight\",\"Extremly Obese\",\"Underweight\",\"Obese\",\"Extremly Obese\",\"Normal weight\",\"Overweight\",\"Obese\",\"Overweight\",\"Extremly Obese\",\"Overweight\",\"Extremly Obese\",\"Normal weight\",\"Normal weight\",\"Overweight\",\"Underweight\",\"Obese\",\"Normal weight\",\"Extremly Obese\",\"Overweight\",\"Underweight\",\"Extremly Obese\",\"Underweight\",\"Obese\",\"Extremly Obese\",\"Extremly Obese\",\"Overweight\",\"Underweight\",\"Normal weight\",\"Obese\",\"Normal weight\",\"Normal weight\",\"Underweight\",\"Normal weight\",\"Normal weight\",\"Obese\",\"Obese\",\"Overweight\",\"Extremly Obese\",\"Extremly Obese\",\"Normal weight\",\"Normal weight\",\"Normal weight\",\"Extremly Obese\",\"Overweight\",\"Normal weight\",\"Overweight\",\"Normal weight\",\"Underweight\",\"Normal weight\",\"Obese\",\"Underweight\",\"Overweight\",\"Normal weight\",\"Underweight\",\"Underweight\",\"Extremly Obese\",\"Underweight\",\"Normal weight\",\"Normal weight\",\"Underweight\",\"Obese\",\"Overweight\",\"Normal weight\",\"Extremly Obese\",\"Underweight\",\"Obese\",\"Underweight\",\"Obese\",\"Extremly Obese\",\"Underweight\",\"Overweight\",\"Obese\",\"Overweight\",\"Overweight\",\"Normal weight\",\"Underweight\",\"Extremly Obese\",\"Extremly Obese\",\"Extremly Obese\",\"Normal weight\",\"Underweight\",\"Normal weight\",\"Extremly Obese\",\"Extremly Obese\",\"Overweight\",\"Extremly Obese\",\"Obese\",\"Normal weight\",\"Underweight\",\"Normal weight\",\"Normal weight\",\"Normal weight\",\"Extremly Obese\",\"Obese\",\"Obese\",\"Obese\",\"Obese\",\"Extremly Obese\",\"Overweight\",\"Normal weight\",\"Normal weight\",\"Overweight\",\"Underweight\",\"Obese\",\"Obese\",\"Normal weight\",\"Normal weight\",\"Extremly Obese\",\"Overweight\",\"Underweight\",\"Overweight\",\"Obese\",\"Overweight\",\"Normal weight\",\"Obese\",\"Extremly Obese\",\"Obese\",\"Underweight\",\"Obese\",\"Extremly Obese\",\"Overweight\",\"Extremly Obese\",\"Normal weight\",\"Obese\",\"Normal weight\",\"Obese\",\"Overweight\",\"Extremly Obese\",\"Underweight\",\"Extremly Obese\",\"Extremly Obese\",\"Overweight\",\"Normal weight\",\"Obese\",\"Obese\",\"Normal weight\",\"Extremly Obese\",\"Underweight\",\"Normal weight\",\"Underweight\",\"Extremly Obese\",\"Normal weight\",\"Overweight\",\"Overweight\",\"Normal weight\",\"Normal weight\",\"Extremly Obese\",\"Obese\",\"Obese\",\"Overweight\",\"Extremly Obese\",\"Extremly Obese\",\"Underweight\",\"Obese\",\"Extremly Obese\",\"Obese\",\"Overweight\",\"Overweight\",\"Obese\",\"Overweight\",\"Normal weight\",\"Overweight\",\"Underweight\",\"Overweight\",\"Overweight\",\"Extremly Obese\",\"Overweight\",\"Overweight\",\"Overweight\",\"Obese\",\"Normal weight\",\"Normal weight\",\"Normal weight\",\"Normal weight\",\"Extremly Obese\",\"Underweight\",\"Extremly Obese\",\"Normal weight\",\"Overweight\",\"Normal weight\",\"Overweight\",\"Extremly Obese\",\"Overweight\",\"Normal weight\",\"Overweight\",\"Overweight\",\"Underweight\",\"Normal weight\",\"Overweight\",\"Overweight\",\"Obese\",\"Normal weight\",\"Underweight\",\"Extremly Obese\",\"Overweight\",\"Overweight\",\"Extremly Obese\",\"Underweight\",\"Obese\",\"Obese\",\"Obese\",\"Extremly Obese\",\"Obese\",\"Obese\",\"Obese\",\"Obese\",\"Obese\",\"Overweight\",\"Underweight\",\"Extremly Obese\",\"Overweight\",\"Obese\",\"Underweight\",\"Extremly Obese\",\"Extremly Obese\",\"Extremly Obese\",\"Normal weight\",\"Extremly Obese\",\"Underweight\",\"Underweight\",\"Obese\",\"Normal weight\",\"Extremly Obese\",\"Normal weight\",\"Underweight\",\"Underweight\",\"Overweight\",\"Obese\",\"Normal weight\",\"Obese\",\"Normal weight\",\"Normal weight\",\"Normal weight\",\"Normal weight\",\"Overweight\",\"Overweight\",\"Obese\",\"Overweight\",\"Extremly Obese\",\"Obese\",\"Underweight\",\"Overweight\",\"Overweight\",\"Overweight\",\"Overweight\",\"Extremly Obese\",\"Overweight\",\"Normal weight\",\"Obese\",\"Extremly Obese\",\"Extremly Obese\",\"Obese\",\"Obese\",\"Normal weight\",\"Overweight\",\"Normal weight\",\"Overweight\",\"Extremly Obese\",\"Extremly Obese\",\"Obese\",\"Extremly Obese\",\"Obese\",\"Obese\",\"Overweight\",\"Extremly Obese\",\"Extremly Obese\",\"Extremly Obese\",\"Extremly Obese\",\"Obese\",\"Overweight\",\"Extremly Obese\",\"Underweight\",\"Underweight\",\"Underweight\",\"Obese\",\"Normal weight\",\"Underweight\",\"Overweight\",\"Overweight\",\"Normal weight\",\"Underweight\",\"Obese\",\"Underweight\",\"Extremly Obese\",\"Normal weight\",\"Obese\",\"Overweight\",\"Overweight\",\"Extremly Obese\",\"Overweight\",\"Extremly Obese\",\"Extremly Obese\",\"Normal weight\"],\"xaxis\":\"x\",\"yaxis\":\"y\",\"type\":\"histogram\"},{\"alignmentgroup\":\"True\",\"bingroup\":\"x\",\"hovertemplate\":\"color=Male\\u003cbr\\u003ex=%{x}\\u003cbr\\u003ecount=%{y}\\u003cextra\\u003e\\u003c\\u002fextra\\u003e\",\"legendgroup\":\"Male\",\"marker\":{\"color\":\"rgb(246, 169, 122)\",\"pattern\":{\"shape\":\"\"}},\"name\":\"Male\",\"offsetgroup\":\"Male\",\"orientation\":\"v\",\"showlegend\":true,\"texttemplate\":\"%{value}\",\"x\":[\"Obese\",\"Underweight\",\"Underweight\",\"Normal weight\",\"Normal weight\",\"Underweight\",\"Normal weight\",\"Extremly Obese\",\"Normal weight\",\"Underweight\",\"Obese\",\"Extremly Obese\",\"Underweight\",\"Extremly Obese\",\"Obese\",\"Extremly Obese\",\"Overweight\",\"Normal weight\",\"Overweight\",\"Extremly Obese\",\"Overweight\",\"Extremly Obese\",\"Extremly Obese\",\"Underweight\",\"Underweight\",\"Obese\",\"Underweight\",\"Normal weight\",\"Overweight\",\"Normal weight\",\"Overweight\",\"Extremly Obese\",\"Underweight\",\"Overweight\",\"Underweight\",\"Obese\",\"Underweight\",\"Normal weight\",\"Normal weight\",\"Extremly Obese\",\"Overweight\",\"Normal weight\",\"Underweight\",\"Extremly Obese\",\"Overweight\",\"Obese\",\"Underweight\",\"Overweight\",\"Normal weight\",\"Extremly Obese\",\"Obese\",\"Overweight\",\"Extremly Obese\",\"Obese\",\"Extremly Obese\",\"Obese\",\"Overweight\",\"Normal weight\",\"Underweight\",\"Normal weight\",\"Obese\",\"Normal weight\",\"Underweight\",\"Overweight\",\"Obese\",\"Obese\",\"Underweight\",\"Extremly Obese\",\"Normal weight\",\"Overweight\",\"Extremly Obese\",\"Normal weight\",\"Normal weight\",\"Obese\",\"Obese\",\"Extremly Obese\",\"Obese\",\"Overweight\",\"Extremly Obese\",\"Obese\",\"Extremly Obese\",\"Overweight\",\"Obese\",\"Normal weight\",\"Underweight\",\"Extremly Obese\",\"Obese\",\"Underweight\",\"Obese\",\"Underweight\",\"Overweight\",\"Overweight\",\"Normal weight\",\"Normal weight\",\"Obese\",\"Normal weight\",\"Normal weight\",\"Underweight\",\"Obese\",\"Normal weight\",\"Obese\",\"Extremly Obese\",\"Obese\",\"Extremly Obese\",\"Overweight\",\"Obese\",\"Obese\",\"Obese\",\"Underweight\",\"Extremly Obese\",\"Overweight\",\"Extremly Obese\",\"Obese\",\"Underweight\",\"Normal weight\",\"Underweight\",\"Normal weight\",\"Normal weight\",\"Underweight\",\"Normal weight\",\"Extremly Obese\",\"Overweight\",\"Normal weight\",\"Underweight\",\"Overweight\",\"Normal weight\",\"Obese\",\"Overweight\",\"Underweight\",\"Extremly Obese\",\"Overweight\",\"Normal weight\",\"Normal weight\",\"Extremly Obese\",\"Normal weight\",\"Obese\",\"Overweight\",\"Underweight\",\"Obese\",\"Normal weight\",\"Overweight\",\"Overweight\",\"Extremly Obese\",\"Overweight\",\"Normal weight\",\"Extremly Obese\",\"Overweight\",\"Normal weight\",\"Normal weight\",\"Obese\",\"Normal weight\",\"Extremly Obese\",\"Overweight\",\"Underweight\",\"Underweight\",\"Extremly Obese\",\"Overweight\",\"Normal weight\",\"Normal weight\",\"Obese\",\"Normal weight\",\"Overweight\",\"Normal weight\",\"Underweight\",\"Normal weight\",\"Obese\",\"Overweight\",\"Overweight\",\"Overweight\",\"Obese\",\"Overweight\",\"Underweight\",\"Obese\",\"Normal weight\",\"Obese\",\"Extremly Obese\",\"Obese\",\"Overweight\",\"Underweight\",\"Normal weight\",\"Extremly Obese\",\"Underweight\",\"Extremly Obese\",\"Normal weight\",\"Extremly Obese\",\"Normal weight\",\"Obese\",\"Extremly Obese\",\"Obese\",\"Extremly Obese\",\"Obese\",\"Overweight\",\"Obese\",\"Overweight\",\"Obese\",\"Extremly Obese\",\"Normal weight\",\"Obese\",\"Normal weight\",\"Obese\",\"Underweight\",\"Normal weight\",\"Normal weight\",\"Obese\",\"Extremly Obese\",\"Obese\",\"Extremly Obese\",\"Underweight\",\"Normal weight\",\"Extremly Obese\",\"Overweight\",\"Underweight\",\"Underweight\",\"Extremly Obese\",\"Extremly Obese\",\"Extremly Obese\",\"Obese\",\"Extremly Obese\",\"Obese\",\"Overweight\",\"Overweight\",\"Underweight\",\"Underweight\",\"Underweight\",\"Overweight\",\"Underweight\",\"Obese\",\"Overweight\",\"Underweight\",\"Extremly Obese\",\"Obese\",\"Overweight\",\"Normal weight\",\"Overweight\",\"Normal weight\",\"Normal weight\",\"Underweight\",\"Extremly Obese\",\"Underweight\",\"Extremly Obese\",\"Normal weight\",\"Obese\",\"Underweight\",\"Normal weight\",\"Normal weight\",\"Extremly Obese\",\"Normal weight\",\"Overweight\",\"Extremly Obese\",\"Obese\",\"Normal weight\",\"Overweight\",\"Overweight\",\"Overweight\",\"Extremly Obese\",\"Underweight\",\"Extremly Obese\",\"Extremly Obese\",\"Overweight\",\"Normal weight\",\"Underweight\",\"Extremly Obese\",\"Extremly Obese\",\"Overweight\",\"Overweight\",\"Underweight\",\"Underweight\",\"Normal weight\",\"Normal weight\",\"Obese\",\"Extremly Obese\",\"Obese\",\"Normal weight\",\"Obese\",\"Obese\",\"Obese\",\"Extremly Obese\",\"Obese\",\"Extremly Obese\",\"Extremly Obese\",\"Normal weight\",\"Obese\",\"Obese\",\"Underweight\",\"Overweight\",\"Overweight\",\"Normal weight\",\"Obese\",\"Obese\",\"Overweight\",\"Normal weight\",\"Overweight\",\"Extremly Obese\",\"Overweight\",\"Overweight\",\"Underweight\",\"Normal weight\",\"Extremly Obese\",\"Overweight\",\"Normal weight\",\"Normal weight\",\"Overweight\",\"Obese\",\"Underweight\",\"Normal weight\",\"Overweight\",\"Overweight\",\"Normal weight\",\"Extremly Obese\",\"Normal weight\",\"Underweight\",\"Extremly Obese\",\"Overweight\",\"Overweight\",\"Normal weight\",\"Extremly Obese\",\"Underweight\",\"Normal weight\",\"Extremly Obese\",\"Normal weight\",\"Normal weight\",\"Overweight\",\"Underweight\",\"Extremly Obese\",\"Extremly Obese\",\"Obese\",\"Normal weight\",\"Underweight\",\"Overweight\",\"Overweight\",\"Normal weight\",\"Extremly Obese\",\"Normal weight\",\"Obese\",\"Normal weight\",\"Normal weight\",\"Extremly Obese\",\"Overweight\",\"Extremly Obese\",\"Normal weight\",\"Extremly Obese\",\"Obese\",\"Obese\",\"Normal weight\",\"Overweight\",\"Obese\",\"Obese\",\"Extremly Obese\",\"Underweight\",\"Overweight\",\"Underweight\",\"Overweight\",\"Underweight\",\"Obese\",\"Overweight\",\"Underweight\",\"Overweight\",\"Underweight\",\"Overweight\",\"Overweight\",\"Obese\",\"Normal weight\",\"Extremly Obese\",\"Obese\",\"Extremly Obese\",\"Overweight\",\"Underweight\",\"Underweight\",\"Obese\",\"Normal weight\",\"Normal weight\",\"Normal weight\",\"Underweight\",\"Extremly Obese\",\"Normal weight\",\"Obese\",\"Extremly Obese\",\"Obese\",\"Obese\",\"Overweight\",\"Obese\",\"Normal weight\",\"Extremly Obese\",\"Underweight\",\"Underweight\",\"Normal weight\",\"Obese\",\"Underweight\",\"Extremly Obese\",\"Extremly Obese\",\"Obese\",\"Obese\",\"Normal weight\",\"Obese\",\"Underweight\",\"Extremly Obese\",\"Obese\",\"Underweight\",\"Extremly Obese\",\"Normal weight\",\"Overweight\",\"Normal weight\",\"Obese\",\"Normal weight\",\"Normal weight\",\"Underweight\",\"Overweight\",\"Extremly Obese\",\"Overweight\",\"Normal weight\",\"Normal weight\",\"Obese\",\"Extremly Obese\",\"Extremly Obese\",\"Overweight\",\"Obese\",\"Overweight\",\"Underweight\",\"Overweight\",\"Normal weight\",\"Extremly Obese\",\"Normal weight\",\"Obese\",\"Overweight\",\"Extremly Obese\",\"Overweight\",\"Normal weight\",\"Underweight\",\"Extremly Obese\",\"Extremly Obese\",\"Overweight\",\"Extremly Obese\",\"Extremly Obese\",\"Obese\",\"Extremly Obese\",\"Normal weight\",\"Underweight\",\"Extremly Obese\",\"Normal weight\",\"Overweight\",\"Obese\",\"Extremly Obese\",\"Underweight\",\"Overweight\",\"Normal weight\",\"Underweight\",\"Obese\",\"Underweight\",\"Normal weight\",\"Overweight\",\"Overweight\",\"Obese\",\"Extremly Obese\",\"Obese\",\"Obese\",\"Obese\",\"Extremly Obese\",\"Underweight\",\"Extremly Obese\",\"Overweight\",\"Overweight\",\"Obese\",\"Overweight\",\"Underweight\",\"Obese\",\"Normal weight\",\"Extremly Obese\",\"Obese\",\"Extremly Obese\",\"Underweight\",\"Obese\",\"Obese\",\"Normal weight\",\"Obese\",\"Overweight\",\"Underweight\",\"Extremly Obese\",\"Normal weight\",\"Normal weight\",\"Overweight\",\"Obese\",\"Overweight\",\"Overweight\",\"Extremly Obese\",\"Obese\",\"Normal weight\",\"Obese\",\"Underweight\",\"Obese\",\"Overweight\",\"Extremly Obese\",\"Overweight\",\"Obese\",\"Obese\",\"Obese\",\"Obese\",\"Extremly Obese\",\"Extremly Obese\",\"Overweight\",\"Extremly Obese\",\"Normal weight\",\"Overweight\",\"Extremly Obese\",\"Overweight\",\"Normal weight\",\"Underweight\",\"Obese\",\"Normal weight\",\"Obese\",\"Extremly Obese\",\"Obese\",\"Overweight\",\"Extremly Obese\",\"Overweight\",\"Overweight\",\"Overweight\",\"Normal weight\",\"Overweight\",\"Extremly Obese\",\"Normal weight\",\"Underweight\",\"Obese\",\"Normal weight\",\"Normal weight\",\"Obese\",\"Overweight\",\"Extremly Obese\",\"Obese\",\"Extremly Obese\",\"Extremly Obese\",\"Obese\",\"Overweight\",\"Extremly Obese\",\"Underweight\",\"Extremly Obese\",\"Normal weight\",\"Extremly Obese\",\"Normal weight\",\"Underweight\",\"Normal weight\",\"Extremly Obese\",\"Overweight\",\"Obese\",\"Overweight\",\"Obese\",\"Extremly Obese\",\"Normal weight\",\"Overweight\",\"Extremly Obese\",\"Extremly Obese\",\"Extremly Obese\",\"Extremly Obese\",\"Normal weight\",\"Normal weight\",\"Obese\",\"Overweight\",\"Normal weight\",\"Normal weight\",\"Extremly Obese\",\"Overweight\",\"Obese\",\"Extremly Obese\",\"Extremly Obese\",\"Overweight\",\"Normal weight\",\"Normal weight\",\"Obese\",\"Normal weight\",\"Overweight\",\"Overweight\",\"Underweight\",\"Normal weight\",\"Normal weight\",\"Overweight\",\"Overweight\",\"Overweight\",\"Extremly Obese\",\"Underweight\",\"Obese\",\"Obese\",\"Underweight\",\"Obese\",\"Normal weight\",\"Overweight\",\"Obese\",\"Overweight\",\"Normal weight\",\"Obese\",\"Overweight\",\"Normal weight\",\"Extremly Obese\",\"Obese\",\"Obese\",\"Normal weight\",\"Extremly Obese\",\"Overweight\",\"Normal weight\",\"Extremly Obese\",\"Underweight\",\"Normal weight\",\"Underweight\",\"Normal weight\",\"Obese\",\"Obese\",\"Overweight\",\"Overweight\",\"Normal weight\",\"Overweight\",\"Obese\",\"Overweight\",\"Overweight\",\"Overweight\",\"Obese\",\"Normal weight\",\"Extremly Obese\",\"Obese\",\"Obese\",\"Extremly Obese\",\"Overweight\",\"Extremly Obese\",\"Obese\",\"Normal weight\",\"Normal weight\",\"Normal weight\",\"Underweight\",\"Normal weight\",\"Normal weight\",\"Overweight\",\"Extremly Obese\",\"Normal weight\",\"Obese\",\"Underweight\",\"Underweight\",\"Obese\",\"Extremly Obese\",\"Normal weight\",\"Extremly Obese\",\"Extremly Obese\",\"Underweight\",\"Overweight\",\"Underweight\",\"Extremly Obese\",\"Overweight\",\"Overweight\",\"Overweight\",\"Obese\",\"Overweight\",\"Obese\",\"Overweight\",\"Underweight\",\"Overweight\",\"Obese\",\"Overweight\",\"Obese\",\"Obese\",\"Normal weight\",\"Overweight\",\"Overweight\",\"Normal weight\",\"Underweight\",\"Underweight\",\"Overweight\",\"Normal weight\",\"Underweight\",\"Obese\",\"Normal weight\",\"Normal weight\",\"Obese\",\"Obese\",\"Obese\",\"Normal weight\",\"Extremly Obese\",\"Overweight\",\"Extremly Obese\",\"Overweight\",\"Obese\",\"Underweight\",\"Extremly Obese\",\"Underweight\",\"Normal weight\",\"Overweight\",\"Normal weight\",\"Overweight\",\"Normal weight\",\"Normal weight\",\"Overweight\",\"Normal weight\",\"Extremly Obese\",\"Normal weight\",\"Normal weight\",\"Obese\",\"Normal weight\",\"Extremly Obese\",\"Overweight\",\"Extremly Obese\",\"Normal weight\",\"Overweight\",\"Obese\",\"Overweight\",\"Overweight\",\"Overweight\",\"Normal weight\",\"Normal weight\",\"Obese\",\"Underweight\",\"Extremly Obese\",\"Underweight\",\"Obese\",\"Obese\",\"Obese\",\"Extremly Obese\",\"Extremly Obese\",\"Underweight\",\"Extremly Obese\",\"Normal weight\",\"Underweight\",\"Extremly Obese\",\"Extremly Obese\",\"Normal weight\",\"Extremly Obese\",\"Obese\",\"Obese\",\"Normal weight\",\"Overweight\",\"Obese\",\"Extremly Obese\",\"Overweight\",\"Underweight\",\"Overweight\",\"Overweight\",\"Obese\",\"Normal weight\",\"Overweight\",\"Obese\",\"Obese\",\"Overweight\",\"Normal weight\",\"Obese\",\"Extremly Obese\",\"Underweight\",\"Obese\",\"Normal weight\",\"Normal weight\",\"Normal weight\",\"Normal weight\",\"Normal weight\",\"Obese\",\"Extremly Obese\",\"Extremly Obese\",\"Obese\",\"Overweight\",\"Obese\",\"Normal weight\",\"Overweight\",\"Overweight\",\"Obese\",\"Extremly Obese\",\"Overweight\",\"Obese\",\"Extremly Obese\",\"Overweight\",\"Extremly Obese\",\"Normal weight\",\"Extremly Obese\",\"Obese\",\"Extremly Obese\",\"Normal weight\",\"Normal weight\",\"Overweight\",\"Overweight\",\"Overweight\",\"Underweight\",\"Overweight\",\"Normal weight\",\"Normal weight\",\"Underweight\",\"Overweight\",\"Normal weight\",\"Obese\",\"Overweight\",\"Overweight\",\"Overweight\",\"Overweight\",\"Obese\",\"Obese\",\"Normal weight\",\"Normal weight\",\"Underweight\",\"Normal weight\",\"Extremly Obese\",\"Extremly Obese\",\"Obese\",\"Underweight\",\"Overweight\",\"Overweight\",\"Overweight\",\"Normal weight\",\"Obese\",\"Underweight\",\"Obese\",\"Normal weight\",\"Obese\",\"Obese\",\"Extremly Obese\",\"Normal weight\",\"Obese\",\"Normal weight\",\"Overweight\",\"Normal weight\",\"Overweight\",\"Extremly Obese\",\"Obese\",\"Overweight\",\"Overweight\",\"Overweight\",\"Extremly Obese\",\"Overweight\",\"Obese\",\"Obese\",\"Normal weight\",\"Underweight\",\"Obese\",\"Overweight\",\"Extremly Obese\",\"Obese\",\"Normal weight\",\"Overweight\",\"Normal weight\",\"Overweight\",\"Obese\",\"Underweight\",\"Obese\",\"Obese\",\"Extremly Obese\",\"Extremly Obese\",\"Underweight\",\"Overweight\",\"Normal weight\",\"Normal weight\",\"Extremly Obese\",\"Extremly Obese\",\"Overweight\",\"Normal weight\",\"Underweight\",\"Extremly Obese\",\"Underweight\",\"Extremly Obese\",\"Overweight\",\"Obese\",\"Obese\",\"Overweight\",\"Overweight\",\"Normal weight\",\"Obese\",\"Overweight\",\"Extremly Obese\",\"Overweight\"],\"xaxis\":\"x\",\"yaxis\":\"y\",\"type\":\"histogram\"}],                        {\"template\":{\"data\":{\"barpolar\":[{\"marker\":{\"line\":{\"color\":\"rgb(17,17,17)\",\"width\":0.5},\"pattern\":{\"fillmode\":\"overlay\",\"size\":10,\"solidity\":0.2}},\"type\":\"barpolar\"}],\"bar\":[{\"error_x\":{\"color\":\"#f2f5fa\"},\"error_y\":{\"color\":\"#f2f5fa\"},\"marker\":{\"line\":{\"color\":\"rgb(17,17,17)\",\"width\":0.5},\"pattern\":{\"fillmode\":\"overlay\",\"size\":10,\"solidity\":0.2}},\"type\":\"bar\"}],\"carpet\":[{\"aaxis\":{\"endlinecolor\":\"#A2B1C6\",\"gridcolor\":\"#506784\",\"linecolor\":\"#506784\",\"minorgridcolor\":\"#506784\",\"startlinecolor\":\"#A2B1C6\"},\"baxis\":{\"endlinecolor\":\"#A2B1C6\",\"gridcolor\":\"#506784\",\"linecolor\":\"#506784\",\"minorgridcolor\":\"#506784\",\"startlinecolor\":\"#A2B1C6\"},\"type\":\"carpet\"}],\"choropleth\":[{\"colorbar\":{\"outlinewidth\":0,\"ticks\":\"\"},\"type\":\"choropleth\"}],\"contourcarpet\":[{\"colorbar\":{\"outlinewidth\":0,\"ticks\":\"\"},\"type\":\"contourcarpet\"}],\"contour\":[{\"colorbar\":{\"outlinewidth\":0,\"ticks\":\"\"},\"colorscale\":[[0.0,\"#0d0887\"],[0.1111111111111111,\"#46039f\"],[0.2222222222222222,\"#7201a8\"],[0.3333333333333333,\"#9c179e\"],[0.4444444444444444,\"#bd3786\"],[0.5555555555555556,\"#d8576b\"],[0.6666666666666666,\"#ed7953\"],[0.7777777777777778,\"#fb9f3a\"],[0.8888888888888888,\"#fdca26\"],[1.0,\"#f0f921\"]],\"type\":\"contour\"}],\"heatmapgl\":[{\"colorbar\":{\"outlinewidth\":0,\"ticks\":\"\"},\"colorscale\":[[0.0,\"#0d0887\"],[0.1111111111111111,\"#46039f\"],[0.2222222222222222,\"#7201a8\"],[0.3333333333333333,\"#9c179e\"],[0.4444444444444444,\"#bd3786\"],[0.5555555555555556,\"#d8576b\"],[0.6666666666666666,\"#ed7953\"],[0.7777777777777778,\"#fb9f3a\"],[0.8888888888888888,\"#fdca26\"],[1.0,\"#f0f921\"]],\"type\":\"heatmapgl\"}],\"heatmap\":[{\"colorbar\":{\"outlinewidth\":0,\"ticks\":\"\"},\"colorscale\":[[0.0,\"#0d0887\"],[0.1111111111111111,\"#46039f\"],[0.2222222222222222,\"#7201a8\"],[0.3333333333333333,\"#9c179e\"],[0.4444444444444444,\"#bd3786\"],[0.5555555555555556,\"#d8576b\"],[0.6666666666666666,\"#ed7953\"],[0.7777777777777778,\"#fb9f3a\"],[0.8888888888888888,\"#fdca26\"],[1.0,\"#f0f921\"]],\"type\":\"heatmap\"}],\"histogram2dcontour\":[{\"colorbar\":{\"outlinewidth\":0,\"ticks\":\"\"},\"colorscale\":[[0.0,\"#0d0887\"],[0.1111111111111111,\"#46039f\"],[0.2222222222222222,\"#7201a8\"],[0.3333333333333333,\"#9c179e\"],[0.4444444444444444,\"#bd3786\"],[0.5555555555555556,\"#d8576b\"],[0.6666666666666666,\"#ed7953\"],[0.7777777777777778,\"#fb9f3a\"],[0.8888888888888888,\"#fdca26\"],[1.0,\"#f0f921\"]],\"type\":\"histogram2dcontour\"}],\"histogram2d\":[{\"colorbar\":{\"outlinewidth\":0,\"ticks\":\"\"},\"colorscale\":[[0.0,\"#0d0887\"],[0.1111111111111111,\"#46039f\"],[0.2222222222222222,\"#7201a8\"],[0.3333333333333333,\"#9c179e\"],[0.4444444444444444,\"#bd3786\"],[0.5555555555555556,\"#d8576b\"],[0.6666666666666666,\"#ed7953\"],[0.7777777777777778,\"#fb9f3a\"],[0.8888888888888888,\"#fdca26\"],[1.0,\"#f0f921\"]],\"type\":\"histogram2d\"}],\"histogram\":[{\"marker\":{\"pattern\":{\"fillmode\":\"overlay\",\"size\":10,\"solidity\":0.2}},\"type\":\"histogram\"}],\"mesh3d\":[{\"colorbar\":{\"outlinewidth\":0,\"ticks\":\"\"},\"type\":\"mesh3d\"}],\"parcoords\":[{\"line\":{\"colorbar\":{\"outlinewidth\":0,\"ticks\":\"\"}},\"type\":\"parcoords\"}],\"pie\":[{\"automargin\":true,\"type\":\"pie\"}],\"scatter3d\":[{\"line\":{\"colorbar\":{\"outlinewidth\":0,\"ticks\":\"\"}},\"marker\":{\"colorbar\":{\"outlinewidth\":0,\"ticks\":\"\"}},\"type\":\"scatter3d\"}],\"scattercarpet\":[{\"marker\":{\"colorbar\":{\"outlinewidth\":0,\"ticks\":\"\"}},\"type\":\"scattercarpet\"}],\"scattergeo\":[{\"marker\":{\"colorbar\":{\"outlinewidth\":0,\"ticks\":\"\"}},\"type\":\"scattergeo\"}],\"scattergl\":[{\"marker\":{\"line\":{\"color\":\"#283442\"}},\"type\":\"scattergl\"}],\"scattermapbox\":[{\"marker\":{\"colorbar\":{\"outlinewidth\":0,\"ticks\":\"\"}},\"type\":\"scattermapbox\"}],\"scatterpolargl\":[{\"marker\":{\"colorbar\":{\"outlinewidth\":0,\"ticks\":\"\"}},\"type\":\"scatterpolargl\"}],\"scatterpolar\":[{\"marker\":{\"colorbar\":{\"outlinewidth\":0,\"ticks\":\"\"}},\"type\":\"scatterpolar\"}],\"scatter\":[{\"marker\":{\"line\":{\"color\":\"#283442\"}},\"type\":\"scatter\"}],\"scatterternary\":[{\"marker\":{\"colorbar\":{\"outlinewidth\":0,\"ticks\":\"\"}},\"type\":\"scatterternary\"}],\"surface\":[{\"colorbar\":{\"outlinewidth\":0,\"ticks\":\"\"},\"colorscale\":[[0.0,\"#0d0887\"],[0.1111111111111111,\"#46039f\"],[0.2222222222222222,\"#7201a8\"],[0.3333333333333333,\"#9c179e\"],[0.4444444444444444,\"#bd3786\"],[0.5555555555555556,\"#d8576b\"],[0.6666666666666666,\"#ed7953\"],[0.7777777777777778,\"#fb9f3a\"],[0.8888888888888888,\"#fdca26\"],[1.0,\"#f0f921\"]],\"type\":\"surface\"}],\"table\":[{\"cells\":{\"fill\":{\"color\":\"#506784\"},\"line\":{\"color\":\"rgb(17,17,17)\"}},\"header\":{\"fill\":{\"color\":\"#2a3f5f\"},\"line\":{\"color\":\"rgb(17,17,17)\"}},\"type\":\"table\"}]},\"layout\":{\"annotationdefaults\":{\"arrowcolor\":\"#f2f5fa\",\"arrowhead\":0,\"arrowwidth\":1},\"autotypenumbers\":\"strict\",\"coloraxis\":{\"colorbar\":{\"outlinewidth\":0,\"ticks\":\"\"}},\"colorscale\":{\"diverging\":[[0,\"#8e0152\"],[0.1,\"#c51b7d\"],[0.2,\"#de77ae\"],[0.3,\"#f1b6da\"],[0.4,\"#fde0ef\"],[0.5,\"#f7f7f7\"],[0.6,\"#e6f5d0\"],[0.7,\"#b8e186\"],[0.8,\"#7fbc41\"],[0.9,\"#4d9221\"],[1,\"#276419\"]],\"sequential\":[[0.0,\"#0d0887\"],[0.1111111111111111,\"#46039f\"],[0.2222222222222222,\"#7201a8\"],[0.3333333333333333,\"#9c179e\"],[0.4444444444444444,\"#bd3786\"],[0.5555555555555556,\"#d8576b\"],[0.6666666666666666,\"#ed7953\"],[0.7777777777777778,\"#fb9f3a\"],[0.8888888888888888,\"#fdca26\"],[1.0,\"#f0f921\"]],\"sequentialminus\":[[0.0,\"#0d0887\"],[0.1111111111111111,\"#46039f\"],[0.2222222222222222,\"#7201a8\"],[0.3333333333333333,\"#9c179e\"],[0.4444444444444444,\"#bd3786\"],[0.5555555555555556,\"#d8576b\"],[0.6666666666666666,\"#ed7953\"],[0.7777777777777778,\"#fb9f3a\"],[0.8888888888888888,\"#fdca26\"],[1.0,\"#f0f921\"]]},\"colorway\":[\"#636efa\",\"#EF553B\",\"#00cc96\",\"#ab63fa\",\"#FFA15A\",\"#19d3f3\",\"#FF6692\",\"#B6E880\",\"#FF97FF\",\"#FECB52\"],\"font\":{\"color\":\"#f2f5fa\"},\"geo\":{\"bgcolor\":\"rgb(17,17,17)\",\"lakecolor\":\"rgb(17,17,17)\",\"landcolor\":\"rgb(17,17,17)\",\"showlakes\":true,\"showland\":true,\"subunitcolor\":\"#506784\"},\"hoverlabel\":{\"align\":\"left\"},\"hovermode\":\"closest\",\"mapbox\":{\"style\":\"dark\"},\"paper_bgcolor\":\"rgb(17,17,17)\",\"plot_bgcolor\":\"rgb(17,17,17)\",\"polar\":{\"angularaxis\":{\"gridcolor\":\"#506784\",\"linecolor\":\"#506784\",\"ticks\":\"\"},\"bgcolor\":\"rgb(17,17,17)\",\"radialaxis\":{\"gridcolor\":\"#506784\",\"linecolor\":\"#506784\",\"ticks\":\"\"}},\"scene\":{\"xaxis\":{\"backgroundcolor\":\"rgb(17,17,17)\",\"gridcolor\":\"#506784\",\"gridwidth\":2,\"linecolor\":\"#506784\",\"showbackground\":true,\"ticks\":\"\",\"zerolinecolor\":\"#C8D4E3\"},\"yaxis\":{\"backgroundcolor\":\"rgb(17,17,17)\",\"gridcolor\":\"#506784\",\"gridwidth\":2,\"linecolor\":\"#506784\",\"showbackground\":true,\"ticks\":\"\",\"zerolinecolor\":\"#C8D4E3\"},\"zaxis\":{\"backgroundcolor\":\"rgb(17,17,17)\",\"gridcolor\":\"#506784\",\"gridwidth\":2,\"linecolor\":\"#506784\",\"showbackground\":true,\"ticks\":\"\",\"zerolinecolor\":\"#C8D4E3\"}},\"shapedefaults\":{\"line\":{\"color\":\"#f2f5fa\"}},\"sliderdefaults\":{\"bgcolor\":\"#C8D4E3\",\"bordercolor\":\"rgb(17,17,17)\",\"borderwidth\":1,\"tickwidth\":0},\"ternary\":{\"aaxis\":{\"gridcolor\":\"#506784\",\"linecolor\":\"#506784\",\"ticks\":\"\"},\"baxis\":{\"gridcolor\":\"#506784\",\"linecolor\":\"#506784\",\"ticks\":\"\"},\"bgcolor\":\"rgb(17,17,17)\",\"caxis\":{\"gridcolor\":\"#506784\",\"linecolor\":\"#506784\",\"ticks\":\"\"}},\"title\":{\"x\":0.05},\"updatemenudefaults\":{\"bgcolor\":\"#506784\",\"borderwidth\":0},\"xaxis\":{\"automargin\":true,\"gridcolor\":\"#283442\",\"linecolor\":\"#506784\",\"ticks\":\"\",\"title\":{\"standoff\":15},\"zerolinecolor\":\"#283442\",\"zerolinewidth\":2},\"yaxis\":{\"automargin\":true,\"gridcolor\":\"#283442\",\"linecolor\":\"#506784\",\"ticks\":\"\",\"title\":{\"standoff\":15},\"zerolinecolor\":\"#283442\",\"zerolinewidth\":2}}},\"xaxis\":{\"anchor\":\"y\",\"domain\":[0.0,1.0],\"title\":{\"text\":\"BMI Segment\"}},\"yaxis\":{\"anchor\":\"x\",\"domain\":[0.0,1.0],\"title\":{\"text\":\"Count\"}},\"legend\":{\"title\":{\"text\":\"color\"},\"tracegroupgap\":0},\"title\":{\"text\":\"BMI Segments Distribution by Gender\",\"x\":0.5},\"barmode\":\"stack\",\"width\":800,\"height\":600},                        {\"responsive\": true}                    ).then(function(){\n",
       "                            \n",
       "var gd = document.getElementById('e4c2dd3b-205b-43e2-b2de-00e3f9555fcd');\n",
       "var x = new MutationObserver(function (mutations, observer) {{\n",
       "        var display = window.getComputedStyle(gd).display;\n",
       "        if (!display || display === 'none') {{\n",
       "            console.log([gd, 'removed!']);\n",
       "            Plotly.purge(gd);\n",
       "            observer.disconnect();\n",
       "        }}\n",
       "}});\n",
       "\n",
       "// Listen for the removal of the full notebook cells\n",
       "var notebookContainer = gd.closest('#notebook-container');\n",
       "if (notebookContainer) {{\n",
       "    x.observe(notebookContainer, {childList: true});\n",
       "}}\n",
       "\n",
       "// Listen for the clearing of the current output cell\n",
       "var outputEl = gd.closest('.output');\n",
       "if (outputEl) {{\n",
       "    x.observe(outputEl, {childList: true});\n",
       "}}\n",
       "\n",
       "                        })                };                });            </script>        </div>"
      ]
     },
     "metadata": {},
     "output_type": "display_data"
    }
   ],
   "source": [
    "plt = px.histogram(x=data[\"SegmentBMI\"], color=data[\"Gender\"].map({0: 'Female', 1: 'Male'}), \n",
    "             title=\"BMI Segments Distribution by Gender\",\n",
    "             barmode='stack', \n",
    "             text_auto=True, \n",
    "             color_discrete_sequence=px.colors.sequential.Agsunset_r)\n",
    "plt.update_layout(\n",
    "    title_x=0.5,\n",
    "    template=\"plotly_dark\",  \n",
    "    width=800,              \n",
    "    height=600,\n",
    "    xaxis_title=\"BMI Segment\",\n",
    "    yaxis_title=\"Count\"\n",
    ")\n",
    "plt.show()"
   ]
  },
  {
   "cell_type": "code",
   "execution_count": 19,
   "id": "e056d8a1",
   "metadata": {
    "execution": {
     "iopub.execute_input": "2024-09-05T23:23:05.816972Z",
     "iopub.status.busy": "2024-09-05T23:23:05.816099Z",
     "iopub.status.idle": "2024-09-05T23:23:05.823290Z",
     "shell.execute_reply": "2024-09-05T23:23:05.822298Z"
    },
    "papermill": {
     "duration": 0.034687,
     "end_time": "2024-09-05T23:23:05.825544",
     "exception": false,
     "start_time": "2024-09-05T23:23:05.790857",
     "status": "completed"
    },
    "tags": []
   },
   "outputs": [
    {
     "name": "stdout",
     "output_type": "stream",
     "text": [
      "Minimum AlcoholConsumption: 0.0037305634132622\n",
      "Maximum AlcoholConsumption: 19.952456445027707\n"
     ]
    }
   ],
   "source": [
    "### AlcoholConsumption Distrbution\n",
    "min_bmi = data['AlcoholConsumption'].min()\n",
    "max_bmi = data['AlcoholConsumption'].max()\n",
    "# Print the results\n",
    "print(f\"Minimum AlcoholConsumption: {min_bmi}\")\n",
    "print(f\"Maximum AlcoholConsumption: {max_bmi}\")"
   ]
  },
  {
   "cell_type": "code",
   "execution_count": 20,
   "id": "bd18d25a",
   "metadata": {
    "execution": {
     "iopub.execute_input": "2024-09-05T23:23:05.875722Z",
     "iopub.status.busy": "2024-09-05T23:23:05.874672Z",
     "iopub.status.idle": "2024-09-05T23:23:05.964923Z",
     "shell.execute_reply": "2024-09-05T23:23:05.963966Z"
    },
    "papermill": {
     "duration": 0.117592,
     "end_time": "2024-09-05T23:23:05.967008",
     "exception": false,
     "start_time": "2024-09-05T23:23:05.849416",
     "status": "completed"
    },
    "tags": []
   },
   "outputs": [
    {
     "data": {
      "text/html": [
       "<div>                            <div id=\"b43c3a11-13fc-42c4-b439-7d47e0ea6f60\" class=\"plotly-graph-div\" style=\"height:600px; width:800px;\"></div>            <script type=\"text/javascript\">                require([\"plotly\"], function(Plotly) {                    window.PLOTLYENV=window.PLOTLYENV || {};                                    if (document.getElementById(\"b43c3a11-13fc-42c4-b439-7d47e0ea6f60\")) {                    Plotly.newPlot(                        \"b43c3a11-13fc-42c4-b439-7d47e0ea6f60\",                        [{\"alignmentgroup\":\"True\",\"bingroup\":\"x\",\"hovertemplate\":\"AlcoholConsumption=%{x}\\u003cbr\\u003ecount=%{y}\\u003cextra\\u003e\\u003c\\u002fextra\\u003e\",\"legendgroup\":\"\",\"marker\":{\"color\":\"rgb(231, 250, 90)\",\"pattern\":{\"shape\":\"\"}},\"name\":\"\",\"offsetgroup\":\"\",\"orientation\":\"v\",\"showlegend\":false,\"texttemplate\":\"%{value}\",\"x\":[17.27282842593232,2.2012656840223044,18.50094350686029,12.632870301657832,1.0878149704462237,12.885134473016231,19.48495308289512,1.3960130922925784,11.093754195601726,14.955886995187448,16.205171733990625,8.276549306415916,4.0833311833648605,0.8468455754476767,11.594523141944496,9.058221405352215,18.97488790299422,1.2120981542981957,13.707906868920114,0.4993244424011434,3.4286835342108546,9.071579998456684,9.097448856057364,13.71401085867288,18.20426069735513,12.780643178298416,19.070701957030177,17.63231279755995,11.689995910615805,16.675839018376546,12.85155220647268,1.571156618474543,14.8112944651902,1.898168825346924,11.881655611394248,14.052804117164577,1.3305521642171048,4.615893078530635,18.313444645233,12.326289844657929,4.925720376210632,13.813595422960132,11.935528399233792,10.031513998358967,19.523739499761675,13.66907554815018,7.508822193358253,16.00146864153736,17.691665858423754,2.5044111903366284,4.01105955690533,4.3245401825555945,13.824236187730808,12.060791101065666,12.379831293971764,18.81546599379002,15.51823065614612,2.558738490235664,6.950141648503621,8.707872923514712,7.919231774952098,13.386172183237584,17.83786206513125,6.12102927045576,11.037542728423713,15.788188438271714,8.324361176906987,3.362362567985917,9.499019305274963,1.1044504148605694,18.847669080045534,1.4964241038994608,8.769134305011564,10.597625221770524,19.70607664574571,3.3204364728572155,2.2886303722471717,0.1741229412508715,3.111428737386046,4.145459581353352,12.611618831661849,4.394135807828008,0.4104162945865042,16.532366910049774,7.311914020079335,7.073933731614678,6.049580583358532,19.50746554292842,3.4023083461856296,17.964761279064703,15.53606664279776,1.5295991099862616,19.734582030016973,5.427319270780211,1.9716585404482467,16.58628468251519,14.133510673553998,12.344376117558015,3.119617273978663,9.569922325119238,15.611120537744275,6.0724787628768055,6.233796570300829,0.0628181209624423,3.484868032907591,17.508112502436685,8.834929832754142,19.68468998468868,7.914159271475851,14.303729095604824,5.638380858094583,7.27619282281867,3.814519751817893,6.9412473699879,10.944750408412862,19.83545761958499,13.284034261435714,3.984919088166281,0.8992288318310226,2.527129626290212,11.251104025460949,15.303206576335327,18.808384146014937,0.3164634399364163,10.455202831237395,9.417347124463536,13.12110043951408,11.19157708930684,13.740783011649611,13.161651694983806,2.340234497158924,15.994358272374392,2.464651514326497,13.970612504182744,8.322907352812134,10.277014691531958,18.06596028751421,17.79767452946973,16.35712611310059,10.202967609126466,14.724796202676664,10.257941110376189,17.39212164949555,8.055516664657997,19.404706888297536,18.646455164577556,14.83205238903571,5.58831768352144,2.633071775865168,17.09406900186395,3.306045722759225,17.085215779946715,9.81530013424721,8.131135676162085,18.063815576688583,12.07701965080556,11.532280142594356,11.175318892487953,7.423390320390628,15.712862070582544,5.05596888031546,18.7778992008255,17.879704100939215,6.749606513497963,14.589275396633274,11.46446388899183,6.752986039984692,19.77043295990893,0.5047469169652841,5.0529206124257335,10.401481222223008,10.439060069571278,11.778661498911283,15.033523440458383,12.469556610385927,12.00562921056074,1.070289258260866,7.530605755785967,4.64111479402312,5.307402232039509,11.086749486806898,3.9901062985921687,5.878982020337951,4.741694170346802,18.970058864363896,18.893314643421903,12.198831171921034,18.490449374638,15.716252909367462,11.798957656036176,0.1287042299359142,15.45032572158808,14.049766831769375,12.30507306564828,15.208486233649436,10.258443295495317,14.08166542642678,18.703441734529868,7.516100316921726,14.162436698012508,9.513756360219174,13.487993036279631,15.25786671108728,0.9090500087159192,12.93200887897324,4.534823688138891,13.400650756151336,9.36660371867627,15.471054837297745,2.4680163041119285,12.5264470331239,5.569414578551046,17.059639906611828,18.567670112726148,19.92796587358111,15.920148048545666,15.07468140856009,4.310015177351021,6.720141179802175,9.313650835245593,15.467620955644994,18.299317301559373,3.782782000459693,18.447349693402057,13.91249304708116,12.215414613700773,3.9968254256387903,1.110500656183011,11.369297970158796,13.030313666577849,4.215628987093765,11.129124116509129,17.12986805525147,16.7013189091004,18.547103611725944,7.317716191137609,6.360991451018374,14.988520119616172,8.6222481019401,1.7509732805556122,5.656022613409995,8.371645710629782,5.85032850952504,6.644111418946432,5.875518123487815,0.8299833436615889,12.74189401648885,11.945848407069386,13.067669969573611,3.846197920672549,5.913090832249706,12.392318538898444,11.992551369198427,10.126606187085356,7.008265000203949,18.2586200954938,6.795404845976876,9.112383128745032,13.562276619084177,10.860428617335282,6.937719527287712,8.712895809130197,15.88961635707012,5.562583109732248,2.8451047955363085,6.263264036595542,16.990684309758027,1.7797942971269332,19.83392146744904,10.820057978553251,19.69691487934188,18.77992844171955,9.056274284218336,3.969821492106982,3.297695531302769,4.79978727739915,14.202652811290744,5.458999894629757,6.828505392085966,8.975576079892296,18.26465360842913,3.787868357696922,0.1005310521960622,1.201928207563403,18.09532683360236,12.950329296867263,5.460812386556135,3.543850020223822,5.885334732742287,2.295938545025602,18.83065820568882,15.684123487305335,9.247823538250817,17.299252102304038,4.989164085864646,14.34241136944387,17.12264998027487,7.135374232465452,15.149288909014354,5.901446985286187,5.977142705180616,2.141143571083721,8.801160930187974,14.594238129948444,18.8044161114257,12.075939838581922,17.26271075471478,16.449892985804542,3.466861059505617,9.71634857825263,2.338470710507829,13.643063231232698,18.99799336492152,2.74178916157513,14.677662616050826,12.64476301735722,11.672100740161994,7.802404693766785,7.102632955076251,0.9049837803777572,4.358174165040269,0.3035376457365379,11.62834211164041,2.117064717558177,17.460387880594322,10.462860413943304,13.993798181174167,8.21714183680993,11.211596180020972,18.85318353933261,1.6546807924734153,5.078755438473923,15.599766538210886,1.974744137653317,1.513222078082217,7.230827975080771,1.8433591694486464,11.70156884412406,4.525505016331996,17.913959263987447,15.670001616905134,13.994104121989524,12.33888054769004,17.269314606829266,4.461241230855137,17.462176855284554,15.789845968481046,14.963216527753712,11.225113561498482,4.924883219412002,8.470958319837926,15.871413090776032,0.6355696871464889,15.641015385275166,4.80141480975133,2.8861840144320605,2.314026363606043,0.5450002390163022,10.47172970442906,4.36519745387459,19.788635315592632,11.488735117444117,2.7577053871202084,13.775250816227306,17.954871330194507,14.903589907392288,1.5287972207889533,17.91768362385319,15.878587717199297,3.166078002112287,1.0357177746563373,11.14621150628617,3.120716226799538,16.69181905190544,7.1666931334334745,18.25784889473151,11.313763442820116,3.653447684793363,2.791977347196002,11.529448751155078,15.237672237248878,15.630112954843645,5.515148088825626,4.08493517824335,0.3351260898476482,13.583983024023388,1.5313651686707797,8.415224035318516,12.033643280365922,18.74217889839354,6.236042739115373,4.995443248930396,13.08320308572197,12.384780641071632,6.642195666162492,18.56203671019573,16.897246549792655,4.479650917301623,4.782850908690463,10.246006937741612,15.471442034614409,0.8808075877692878,13.866703074694133,12.96471794764194,4.629601918259764,13.627060264826977,18.803663825041653,0.9357168994353704,6.393041105841251,8.763534333327105,17.98520717849379,19.24522893218313,8.882304929926645,15.000568242843825,10.63322047528966,10.755658694827533,5.561990301327128,4.339124917277591,5.760106918480823,11.126560145141584,0.5831037204417799,18.144978887128115,3.1256741909955243,4.401773537427731,10.365523528952927,14.202295326745586,1.914581094887946,6.353893950943244,19.373492111487145,5.246859335618915,6.261002901262938,16.72996981236067,1.004288633809105,9.292263376179417,7.592335289033405,6.331735198173023,5.713991880895291,1.827482097208184,6.2965165870329765,0.8610480543133714,15.619277272888706,7.964555879160233,8.878076646398231,17.87189172900263,13.161099677224415,0.1611820668423957,18.8634964592257,4.742889319554225,2.152283695197177,15.362563567617643,10.009546317334364,8.67541132036035,4.990061593654835,10.949429797246372,5.4876921040517495,18.031660105741352,4.304089594663855,17.68710300911507,11.18810851454714,16.56976267790482,14.2569199172191,13.933902228734972,6.486916153901115,4.6779386294440695,4.217724553615763,17.143833141191774,16.4085364051804,8.811470560246146,2.648092269929092,7.645045039549167,12.386869082738228,9.088063089599055,15.6037853696599,19.952456445027707,3.822641768977937,9.19301639319145,8.61967803841644,6.089850654979017,3.961910334405792,1.3138423297931845,17.742386344473967,8.396973953726352,9.937910370000978,18.33884096401832,15.525809550318955,2.610025282343684,11.308399352154847,8.845045530391182,15.944221451575256,14.484650952238985,13.80811443822144,6.810896709597937,16.09927460798509,1.0478259118972244,3.1924980286433446,6.712465459558235,1.5361488213856256,4.699885550693832,16.603019659958363,18.965030755801585,6.09204711548381,5.2903160797767645,5.597853044928538,5.554381747016876,0.7186036437194598,18.53832692662216,4.273962831406568,8.4000814816281,0.1937376548193548,17.159101818301142,14.623146889098344,18.935120703474063,15.63230958392798,6.274130241041305,4.957467174568473,13.954326151065858,7.282255500209988,11.324300315052332,0.1251494205294046,1.237714033609505,10.707358823633024,11.321432928963302,15.029058889186873,2.639306392479235,10.263661675135577,3.888952888633772,1.8639223912538936,8.209915881211092,3.2667329617811447,4.435639563846372,6.351091597390035,5.187768014863925,1.751825948118928,1.7983248971940458,3.8649883046833633,1.011183759190779,12.529140393538542,5.746534330178039,5.59491935538142,6.639965884755304,13.255925484194432,17.412677629669812,15.181738651112768,14.5505846045019,9.687823712016986,13.876111139348236,11.055247360671665,4.325010563730578,4.171767354821014,5.927840137505669,18.216053419396264,10.948296807594517,14.678107540037388,6.931175196330952,8.154315413304506,2.5113115727450275,3.425899156433408,16.54713109652291,11.69677263377764,6.750649317676379,16.05702417991092,4.93039811275966,19.52065397200408,6.896352154923395,6.746219083024552,6.2382381107341045,2.4422303184857586,2.222742946640248,12.962100690682467,17.50236089116094,15.81041020543347,2.822151880427022,10.91164243584133,2.1118309195328,0.9058928722615488,13.127717187695344,10.703046673607004,1.640473704229417,0.6987849281197689,19.79512826818669,0.6004266429814376,8.890565061003192,10.09238049215391,2.345602956008901,3.381235568794325,7.03610012820705,15.233517524273251,10.141648481205332,12.75803749105923,19.70349110181349,15.360108706264192,8.687229962824354,8.928838435930974,12.3754415408201,13.307304168378089,10.014218516733424,12.8972244562996,0.4706498882819754,8.592457277936882,5.578761521469535,2.583488904862208,1.990930256175503,12.06384331229335,10.472010943052236,5.071682339927383,9.41900117545029,9.844646303648164,3.900179608772316,13.041861237633013,15.618387127721808,15.82927081779038,12.0493966140691,10.23277165038028,1.220142860107898,5.756625977032117,1.865428935563398,19.27646321756947,2.701602924515214,3.035508197022041,17.791532366609843,18.87856566952916,15.316580784698196,0.1080984734533974,0.0269254191312739,7.562015395749015,2.8679074002178506,0.3677228430319457,9.281333788090096,18.861237948139436,6.476391498048628,13.22281356857393,13.044707062648817,5.021602073303355,13.008504976477289,4.246679485737825,2.440148271537781,14.0276657111938,2.2688163420783347,19.938184371787106,3.6690480230045854,11.88283725512915,8.227491428251788,2.527728448113342,0.5568781515482679,12.454645645856663,16.135151275782523,16.840313230134882,9.65426946153869,15.54910934364771,13.456942669770894,14.485090549982663,9.851980104436285,12.66823480484254,16.11051827152114,7.957683511140461,16.119578017351675,11.840336855781256,3.318020487415725,0.4936831444916922,7.255072007983041,10.933926565926797,16.796407044069767,2.549713602804924,16.004126953671584,17.26018092134454,3.013749740016676,17.03188638608438,19.82907135685584,14.536776620964751,15.69539363649976,19.88830535117747,12.109625010518908,6.157727640324988,16.750616681521112,12.289715550232623,11.623908474419132,5.072711110280766,15.126685391657732,1.6333455172019251,18.485741415893223,6.516469215409694,2.555493055799809,8.847330662048376,0.8493981851306631,13.692523885299329,18.05411020890712,16.745260142770174,2.547389468957621,2.525422742154637,16.26868964648528,18.48508549206232,9.213396596669783,9.979422338275318,6.365240827714517,17.88530236512828,12.898058105847118,5.765031543347369,5.975657421085032,17.824001461272047,0.2726804781164293,6.454531454532768,11.08713362432738,2.9643492419864925,1.841975083991796,16.3055266218112,17.888087772970145,16.472128415963788,17.975757794746954,11.06223942116743,16.24516241980684,7.680852767822008,13.32535722958077,19.776710627783288,4.514554476782548,7.797994925821612,9.600947546201713,2.7603097404010346,1.6207722093011356,16.594457326432487,19.535887456551723,8.094501276593174,1.7529967238930655,1.3162352138115296,17.826364127205974,9.2762849945536,6.400546331247838,9.52922542478799,6.366081893846946,9.7807155061524,17.191127938358736,11.846027421241914,13.893075456203508,7.2934135246867315,14.770117570210374,13.332341697587449,2.391239955041129,11.452857062311692,5.13486992619516,16.081913392671858,8.51875416933879,19.893683303929745,1.850008758779276,15.60695725480317,13.474034670843128,15.349976611814109,6.150595909809127,9.841089787648013,15.930170394474167,4.6508266324171,4.520663935773042,11.021019065898647,10.471271590597116,5.645249408258657,5.961513010496455,5.55690326413131,15.430241239969751,13.038017311249211,16.648343668205055,19.50946056628044,9.483285925439729,1.333877628108977,0.9618462082407088,5.913300785432383,18.65089178704902,10.4642610994175,5.435730321602583,7.983335890220391,11.971902148093417,13.058993162756844,3.078390195658101,19.54063353090352,10.895444539655776,2.713766355845586,17.872705066922673,1.492768621588576,18.15470866355025,19.93131312577965,14.008635983130077,15.408944421479797,6.746056729349728,18.83153705467868,10.594279322167353,14.647768931951097,18.48215431822559,19.503599519510168,16.66408713193349,6.0603501396406,19.33095033104165,12.562390624871435,18.612849527039195,13.522100516287036,6.14477923695441,7.400490482856319,11.00943554205881,15.80029683119764,6.359651026806699,11.59462332268384,6.912499871528031,16.315388092702143,9.33456187535901,1.5344565370577046,3.3210504296307275,1.2220933523926458,9.986058920286505,2.1267459469645438,2.282799386192642,18.820965200767542,17.45310144352111,9.04173193622732,19.71610641700412,0.0037305634132622,12.279589125467876,12.3285635474374,9.148861117397765,7.938959458685857,9.107662709612152,8.29920872159361,14.609849549645988,2.707108699465681,3.952784411822603,3.610364567848472,5.249411702425291,10.505168375631666,2.2241749467643745,17.363385906530084,5.947230626169446,3.250759749374157,13.512426191964868,0.7617260119863856,12.399371297483285,13.963968613529996,4.298330627734384,0.8392814688726857,7.272907178388992,1.9718846048387293,2.329556993466741,5.085224628897292,5.909358492535186,10.599406820428412,13.567837710060262,11.855418817403695,2.967206745790336,3.4417206490525287,17.57538499585829,11.167046301282271,17.39875665795378,7.430930226397487,12.288000148626477,10.473268321092217,6.382469796409252,9.398307440671909,10.04981753653864,4.015419495133572,6.300207447534632,15.828195010139511,18.315764789082543,7.195881870905989,6.139445644180364,3.9039432914376495,13.569823373011625,6.461994033326746,19.75499078198377,6.513696041279065,7.882720935652562,12.066683924240696,16.0336858638261,9.390373306912672,8.453120675779166,19.912756671896165,0.2098728227988888,17.901305777024916,2.9828165187947486,15.718505524178267,12.35863119692596,6.836945709961841,17.477499110420368,0.2581445596198395,4.533813041498473,11.33785592499072,7.03084520099396,12.207549906366552,0.4822038681733365,2.3291786096342504,2.5419248043687848,3.7856729183201887,9.186628816010856,15.042573990871425,18.110776758578023,16.707450605684922,3.9377574355136713,8.823011044612647,3.9882319551707,5.289436333343815,10.070939630237724,1.3621804944704508,4.363486591865464,18.707563226142344,9.32232585316978,8.907730519557443,0.291343095025578,4.947994941166916,17.325848719643627,3.292568565173375,8.302498790694422,0.286618117340025,9.566709633411117,0.420422134524343,16.392191061315998,16.497075349742072,15.754843766047395,5.6672813778223645,16.74474436443636,10.859962652105386,7.476162177340049,12.50659919408466,0.2468209212074801,2.859217552015043,14.845870763405255,4.8832321743230604,11.960182346574992,7.702052056460593,17.09611557598523,19.04830611993287,17.67129456740381,5.4123998938719335,3.883257380921645,9.4886978724147,0.1466830167236055,0.5161878572636347,11.06581279246,10.40898808330572,19.8916397807052,4.036836707275162,5.162078583209368,2.270812846525734,18.35086019307489,15.556224889169014,16.44678222913695,18.055275759290176,10.497999734516766,9.023863829014472,6.60782947331233,11.78429228695711,9.085567935796451,9.031311732111504,18.738557274622774,19.6806302855826,15.929687786591614,15.135161804938566,13.61116323558203,3.3214970466702742,1.1821164175130905,13.814526302265262,14.57572444513152,0.939459821962796,18.56103500457696,1.8228127888935508,5.718010675424048,13.44779625597409,3.3974518880895266,1.1083177688448886,6.622929783282996,15.31943149710358,8.273573579705207,13.059458438158789,11.592381944562732,0.4443696405116082,19.77079974091413,0.8285617763877551,19.3560547529697,10.997283567287964,19.26318054130133,2.295071988276709,9.808170383710264,3.3900818373211727,1.0194975404488482,12.35058230124623,4.1556684192338285,11.75394036575092,2.247289638979713,6.639729428654055,15.632651161064944,8.741030436843753,12.554908297946728,12.94915881491092,16.875100879745872,6.498455888132826,13.745911251650352,19.232316140923317,14.604866687157362,9.797409534354893,12.614348889838585,14.793657955262162,12.245515313877448,0.333516269796783,3.895469953744517,16.20936434430932,5.453012946249693,14.631242391222678,7.442404304833974,10.437686563158865,1.359465996388074,3.624511220994191,19.14393927038469,17.80276106893828,13.045502217981005,9.192891947714749,13.515225857904476,12.37220578187878,11.371045112092242,1.1835414372708364,12.656052213230138,15.378400891423368,19.88163309291151,0.2215710518861935,14.603469066213531,11.43578631871961,8.681043521619134,2.551403491427417,8.181702972697524,7.087543659722706,6.056597779574844,14.617592466444156,14.014510425685277,11.78040181961823,18.773296265867444,6.997087683617089,4.876038754203592,13.118066261967993,3.976281218748059,6.300210143668492,4.492048801497697,1.3830713543700246,16.549974832713467,5.090810858433224,9.460550066860414,0.866305465086239,13.98678932505286,6.611220046125816,14.8947345565842,8.248061209357322,3.915112128112492,10.263501645640718,2.610091192748796,8.810783197459894,6.34610954840973,18.239191683992665,1.218574434414399,13.88034828211484,3.655023319748718,6.380901486644797,8.310281261241318,18.160301787499485,4.851565321476503,1.8261760508934044,6.373792079810472,2.093519410710667,2.57192971921105,11.477011959500532,1.2180386619898664,0.6186176278713207,14.288282029409956,7.23294189682089,2.5075069846774656,5.072255417194165,12.84173014704798,5.510731342817024,9.89042250240816,2.4339061345334456,11.76187275210894,6.321553676865282,12.539368690574332,16.16789764608046,12.232928387799848,5.914951251900414,5.114874030966008,6.54841917466896,3.292410264730097,3.6234370170004015,15.81382203800336,7.694651530148899,8.719903611411716,11.880989311336222,11.793069903030952,1.3475374304385146,16.630815726753312,3.5465310644787884,14.461432720993376,15.453419762563332,14.297990681826274,11.579552931082905,0.2921799421776572,7.207509847263413,12.096788587251623,7.749025918450774,17.26959789825626,6.176045506992307,5.870695849173209,5.319953861853159,6.65561737921591,11.148099286283744,14.140305885451816,13.251358354775702,16.15435639962959,17.7182799099485,16.321580846867025,0.3789080674870915,14.718359071039774,4.167991472366632,2.658560854159653,12.76977569598271,6.394863908153898,1.1423432674088652,2.752594687967227,0.0185883373992212,18.064472546894145,0.4923596768247718,4.189115390190221,8.325255613758147,7.131426519016381,18.234517538255517,0.8057789146908423,10.24429415354103,13.60958925048748,18.633959473623374,12.40742504247442,16.075104720235252,1.674498756906968,7.7187902187385475,7.478942689581349,17.72576432911435,3.0274234252654986,3.0377234467326053,6.57116299771597,1.0893209473367516,3.649160813049801,19.304192770914703,8.563678797343456,12.640384168448728,14.522225186892738,7.33922814014401,2.94454148821034,4.131620324435616,6.265329531612207,12.721368407044514,7.965610981781088,0.1362939580025624,10.468143701349437,18.43026783814836,16.24155222017358,16.50422742519262,15.901160352122623,6.474616512208473,15.30387667508784,2.86322715622386,13.15432294551907,12.831371333699888,0.5113959817946934,15.759402671818632,18.06496210190261,5.348305569442154,16.24781448372302,1.648119437238964,11.99935716522132,9.712937306685545,10.91847066618,18.5241040376869,17.42630494493707,15.70167314479514,5.47396915356742,18.236372573721837,1.950153849277505,17.066584331175754,6.563201447072156,1.0754462332396677,13.387139684814963,4.625598566319109,4.871422517292638,6.12094332457543,1.2736953500503343,3.5425428839650808,0.102792551711206,8.908190422115736,1.6851075483594258,13.65305210088398,4.712457023832968,18.871482880703542,17.425032547973053,5.788817899364165,15.664309093133577,16.064898093296126,19.73126228228821,11.956799736913698,1.6393146928732438,12.93674457852762,12.499594967520704,12.767011548408636,6.14291296208423,17.193591701606657,19.18944365910824,4.354250259563031,1.763043162732889,3.8907006633696817,16.411042785114375,13.53289269639695,12.720946846782532,8.03586270218849,11.556559430228717,6.157482505487348,9.544001588359226,15.86126056741312,19.624831949109243,18.64977847179604,18.677318856924977,8.044474696942247,9.37579761013582,14.112707927379631,18.44383856102569,2.839885187041693,6.084837276543915,2.7849368918821904,12.240170599189106,6.126019937750751,6.522157050251469,1.4183191897595848,6.995921236151839,17.24993014803171,4.661456237816699,13.903749324201314,12.592566898771851,17.269692167382306,2.645758953020765,19.551799206900863,11.652572920807312,19.909483046936288,18.230294517317017,4.430345442262116,1.123240198066262,5.112781875907231,10.551272979988395,3.4319273413038,3.34919489035977,9.251870942103062,0.6653594233871685,2.437761650645409,8.317226788158951,1.2625981841593292,7.935101129110587,9.480125318968902,9.025332281462289,17.383497148061746,10.601249101034648,9.359609249560869,8.214184907833324,16.35246756608972,17.901132079996664,17.064849383942352,13.470931562627817,2.7472349193734846,5.537399389840245,0.9212612736395488,18.616481499802283,13.215970593818207,14.92725768626483,6.231434791644579,16.913070445546847,5.19206567416957,0.0328751422489936,7.528299250413879,11.415229619181469,9.574097159310451,17.24152285153194,2.1081057191233388,11.076468812674513,10.259586996418149,5.62785964344326,16.444562251540212,15.056973117644128,14.65718374663662,17.52384956539112,14.455692012430424,4.6368258342945285,14.111254232993822,6.154056267796877,4.84349300694941,1.4600718579925465,14.880571606953534,14.220019238996224,4.689989553481874,14.98758033448312,18.356817661871062,2.160579149831585,4.652732767735499,15.00521588174631,5.490133470141565,12.493279485674336,1.6232844892742904,9.044049582070777,14.781828439859062,13.73027886086505,16.301442013516137,17.54904253206338,15.463670025175166,13.43175485877852,0.634449836320623,10.69933346818888,0.7539544982970559,16.161356342320452,6.414490489199151,11.24858748235842,5.5889061463780525,15.650002887605872,17.73005053283805,7.972849884261279,17.25844787021978,5.341500149126648,10.693218461510476,17.17522859677408,6.517626852315807,19.08084530156172,2.4375900356276725,0.3655013944701246,18.08270705156381,1.3729733229574448,19.837783918949835,19.027937239582123,2.7404182007264133,10.751692513851316,3.698405949342887,8.563103460602397,1.2285025851966536,4.47849175593179,7.265455927977991,8.772950004921096,19.549925164177864,16.157312913679625,14.748198886238924,10.740826294839485,16.799955212086868,6.786456713114221,14.177982255466322,19.87567950756344,6.292578178703976,13.480350697679349,16.88629728304765,18.316151667013443,14.358653818802036,5.672158468342725,6.525643031378929,0.4151606424792842,15.217719553430191,0.8547921212390275,17.293047092054913,2.373212289490776,3.437530242718485,9.530529416644749,14.757608303374848,2.7800441039815538,8.801421501329969,9.657025488202096,4.245712833371826,2.3111675336126347,16.728418459712792,10.04931299525531,0.2876247196830594,16.059626026182077,19.615876108291697,12.118523908284946,10.074167741681414,17.568317260899235,19.05033579369197,15.09073831804921,8.909058594685757,11.844427986628808,14.018707300359983,3.885471420036029,8.944020644328761,16.5964252943457,13.09450696996886,8.224081344237081,13.267250680293628,2.3644482414491974,8.029952211297527,15.862570759261128,4.41017574273296,3.719230151148354,19.01637319832863,4.197952591724614,5.218371593003361,19.39231877808676,14.694171405300514,13.991930660470564,17.058527677091625,2.316461644735885,14.119124731600143,10.073772186564778,16.5830128056828,10.162834373303886,12.404827085378242,9.55484252799072,9.56317847111688,15.35939956123663,12.571328012945663,12.665264032188208,9.005649676630515,10.62218992675055,14.914353324095746,16.518818382238365,13.931228042880925,18.481459776913663,16.40648176294402,11.237275796190367,13.428121452874738,18.52616553842392,12.383360884861167,16.496138959596614,13.776210071799742,11.03872722120933,4.836763908307063,8.519950389368562,19.354856496674312,13.155307665452,11.287907606779791,18.659132510564547,11.730235620748974,10.52165036834806,15.186217103004104,14.25331237973089,3.8632001681686554,9.426165491482424,9.450308856391704,7.564490304866895,10.345869643045065,8.262147954542884,3.986909789423663,8.247329745493621,1.445538951463532,11.515717255488232,17.07309097882224,14.505741687091104,7.207880801082225,1.7414241115461635,4.042987984505415,10.909806809896716,4.141141667660657,10.87946222569935,4.631980495277979,16.978477389521455,7.945429456809194,4.911012518889821,16.24652360494123,6.856779296109014,2.2297537567756387,11.408189828072832,11.631284088759774,14.293913504714684,4.804388664167711,8.8754267818449,5.647358380853125,1.6190747223137625,17.53227654031783,14.577396089766824,6.0292611891760135,11.987459857439726,4.025275762689448,17.80473243591542,2.298126867238206,0.0767429101560179,10.040163954783644,11.662556469057384,11.579306405916087,1.0902385487565258,6.280876138368649,9.983978936826636,4.331583712544818,17.452517709717927,1.7421857892286807,9.747688833440858,13.82832115026304,5.235022002689648,12.484814739950362,16.58770300284749,3.806739501900951,18.344411836497255,11.07117065324716,5.984640086021211,8.617165507645414,6.243837675727759,14.50222319866632,15.926013268302643,16.65874784637322,19.71536499171482,15.82568584993367,12.027681413771267,6.784405967835676,10.891908974214989,0.8213634558081084,14.89650151059826,8.919110901842036,0.4004645946437524,1.250138830208216,7.749329276435133,11.6684303803687,9.284078979042532,12.384086345843098,9.605885175827115,13.234076909626936,4.382521293416017,2.256863743672428,11.9286790925132,9.69379033872615,0.5373530808987059,7.609637709860717,2.1225117098199098,10.627136635053905,7.915553593208616,12.26303822206036,16.112044375404764,5.993373676829816,19.24204208330055,10.712690011751487,12.36581597509576,13.61344746451474,13.334630597151795,10.219414860901242,8.57528582229367,1.075639283547558,0.4417169060235948,7.1592238906552925,6.673217812673853,7.753903096780135,2.7673640177638004,14.763365410736872,17.13928829552478,18.7742927074807,9.847246070392517,14.017313982508572,17.11102246871745,8.365822221869719,6.188255897408888,18.7344911170698,10.31353102154146,9.94507773181756,3.5683219312699155,2.163100291467135,16.842137249670234,12.282663523750362,6.516491680388974,3.8347243478053294,11.109945603392628,11.678385785222709,4.139872024901163,17.02811495782948,1.6852873231170218,7.121861703328434,13.607688275250442,5.482407276384014,16.553503895625436,14.79735653200807,15.780456890962684,2.3821307175343254,2.8109425599108584,5.7294747548916725,10.361543303951224,14.960321533988049,16.730617815218068,14.086706319143609,18.57193763061277,14.774870192318604,6.125357740092294,5.301625686771452,13.923849006021795,3.8574113737922855,1.8542962162053975,10.644457497123875,16.432831395579107,2.0275968493972707,15.837826475914586,16.23144008703096,9.64548000163087,1.1462062002097362,3.491797024943728,14.148525503238648,14.23555889981899,17.967105503353306,11.653722931091655,2.482147354275548,2.4282981100994427,14.422647147136471,3.675693302158023,6.567709992332107,9.74424013843828,0.495297551523024,4.976380540398637,8.157792170145601,5.592726369864125,2.7274065493513167,14.560245155923948,16.2629531033597,5.149579522874497,15.488389892126069,7.711071288026277,10.133715817080056,17.120021497863057,14.999073636048156,16.102337026323553,2.7369033317271363,1.3943885166745895,17.868094581759742,7.756685391421887,5.757593561393617,14.49392508523649,16.728311931597133,17.24979243796602,6.319942822504547,17.04424782403348,0.8186788874869078,0.9932298291943776,12.47038390348309,1.2621273823109247,6.492183370203231,13.45511972493848,6.745337921084527,3.5919956288019184,5.627012437076832,9.151506645008636,9.507717107109649,15.66000462694404,15.00306458863025,9.136356091122703,16.91334698197543,2.2847427718279167,5.107067004578029,16.55952927004503,7.559880772523062,19.623631175876845,9.325065630556708,15.838712459275282,8.046140827647438,8.499070381248607,7.65766294568367,14.381512410216237,10.95035768119989,18.875562227367386,5.017806330682095,2.011254641668887,7.865229701984305,12.33425415293552,17.2159787383099,6.923937733606554,13.075735022489232,7.0039736204643805,12.344391659889162,17.696158940613017,4.6271528451881805,8.084832842140784,19.86530392859493,17.371140564989215,11.292797157924038,10.332551837085507,5.69200764609362,10.344188553870588,16.963629965598944,13.703490265555612,5.800880563559732,4.029278421070659,5.304170739936582,3.3951840278565304,1.9128139204743189,8.3827234888411,2.265992087965354,3.438251154542087,10.946493686789722,3.2919854739914944,1.277595348618057,6.347777000557704,4.40638197243935,10.306103759887534,2.0473416916641862,15.035415753659562,18.12467038870277,14.868703479123887,10.656540748027885,17.2133564357777,13.89836759563015,0.211022449003797,7.881803055490062,17.019037988136002,6.9171771595053855,0.70430347051047,14.923592771045444,16.04076540565737,3.211873900866171,10.746809936863624,3.839108779914515,14.384688380882936,5.431009103549713,6.324302451266601,16.899417072802027,9.526447044138086],\"xaxis\":\"x\",\"yaxis\":\"y\",\"type\":\"histogram\"}],                        {\"template\":{\"data\":{\"barpolar\":[{\"marker\":{\"line\":{\"color\":\"rgb(17,17,17)\",\"width\":0.5},\"pattern\":{\"fillmode\":\"overlay\",\"size\":10,\"solidity\":0.2}},\"type\":\"barpolar\"}],\"bar\":[{\"error_x\":{\"color\":\"#f2f5fa\"},\"error_y\":{\"color\":\"#f2f5fa\"},\"marker\":{\"line\":{\"color\":\"rgb(17,17,17)\",\"width\":0.5},\"pattern\":{\"fillmode\":\"overlay\",\"size\":10,\"solidity\":0.2}},\"type\":\"bar\"}],\"carpet\":[{\"aaxis\":{\"endlinecolor\":\"#A2B1C6\",\"gridcolor\":\"#506784\",\"linecolor\":\"#506784\",\"minorgridcolor\":\"#506784\",\"startlinecolor\":\"#A2B1C6\"},\"baxis\":{\"endlinecolor\":\"#A2B1C6\",\"gridcolor\":\"#506784\",\"linecolor\":\"#506784\",\"minorgridcolor\":\"#506784\",\"startlinecolor\":\"#A2B1C6\"},\"type\":\"carpet\"}],\"choropleth\":[{\"colorbar\":{\"outlinewidth\":0,\"ticks\":\"\"},\"type\":\"choropleth\"}],\"contourcarpet\":[{\"colorbar\":{\"outlinewidth\":0,\"ticks\":\"\"},\"type\":\"contourcarpet\"}],\"contour\":[{\"colorbar\":{\"outlinewidth\":0,\"ticks\":\"\"},\"colorscale\":[[0.0,\"#0d0887\"],[0.1111111111111111,\"#46039f\"],[0.2222222222222222,\"#7201a8\"],[0.3333333333333333,\"#9c179e\"],[0.4444444444444444,\"#bd3786\"],[0.5555555555555556,\"#d8576b\"],[0.6666666666666666,\"#ed7953\"],[0.7777777777777778,\"#fb9f3a\"],[0.8888888888888888,\"#fdca26\"],[1.0,\"#f0f921\"]],\"type\":\"contour\"}],\"heatmapgl\":[{\"colorbar\":{\"outlinewidth\":0,\"ticks\":\"\"},\"colorscale\":[[0.0,\"#0d0887\"],[0.1111111111111111,\"#46039f\"],[0.2222222222222222,\"#7201a8\"],[0.3333333333333333,\"#9c179e\"],[0.4444444444444444,\"#bd3786\"],[0.5555555555555556,\"#d8576b\"],[0.6666666666666666,\"#ed7953\"],[0.7777777777777778,\"#fb9f3a\"],[0.8888888888888888,\"#fdca26\"],[1.0,\"#f0f921\"]],\"type\":\"heatmapgl\"}],\"heatmap\":[{\"colorbar\":{\"outlinewidth\":0,\"ticks\":\"\"},\"colorscale\":[[0.0,\"#0d0887\"],[0.1111111111111111,\"#46039f\"],[0.2222222222222222,\"#7201a8\"],[0.3333333333333333,\"#9c179e\"],[0.4444444444444444,\"#bd3786\"],[0.5555555555555556,\"#d8576b\"],[0.6666666666666666,\"#ed7953\"],[0.7777777777777778,\"#fb9f3a\"],[0.8888888888888888,\"#fdca26\"],[1.0,\"#f0f921\"]],\"type\":\"heatmap\"}],\"histogram2dcontour\":[{\"colorbar\":{\"outlinewidth\":0,\"ticks\":\"\"},\"colorscale\":[[0.0,\"#0d0887\"],[0.1111111111111111,\"#46039f\"],[0.2222222222222222,\"#7201a8\"],[0.3333333333333333,\"#9c179e\"],[0.4444444444444444,\"#bd3786\"],[0.5555555555555556,\"#d8576b\"],[0.6666666666666666,\"#ed7953\"],[0.7777777777777778,\"#fb9f3a\"],[0.8888888888888888,\"#fdca26\"],[1.0,\"#f0f921\"]],\"type\":\"histogram2dcontour\"}],\"histogram2d\":[{\"colorbar\":{\"outlinewidth\":0,\"ticks\":\"\"},\"colorscale\":[[0.0,\"#0d0887\"],[0.1111111111111111,\"#46039f\"],[0.2222222222222222,\"#7201a8\"],[0.3333333333333333,\"#9c179e\"],[0.4444444444444444,\"#bd3786\"],[0.5555555555555556,\"#d8576b\"],[0.6666666666666666,\"#ed7953\"],[0.7777777777777778,\"#fb9f3a\"],[0.8888888888888888,\"#fdca26\"],[1.0,\"#f0f921\"]],\"type\":\"histogram2d\"}],\"histogram\":[{\"marker\":{\"pattern\":{\"fillmode\":\"overlay\",\"size\":10,\"solidity\":0.2}},\"type\":\"histogram\"}],\"mesh3d\":[{\"colorbar\":{\"outlinewidth\":0,\"ticks\":\"\"},\"type\":\"mesh3d\"}],\"parcoords\":[{\"line\":{\"colorbar\":{\"outlinewidth\":0,\"ticks\":\"\"}},\"type\":\"parcoords\"}],\"pie\":[{\"automargin\":true,\"type\":\"pie\"}],\"scatter3d\":[{\"line\":{\"colorbar\":{\"outlinewidth\":0,\"ticks\":\"\"}},\"marker\":{\"colorbar\":{\"outlinewidth\":0,\"ticks\":\"\"}},\"type\":\"scatter3d\"}],\"scattercarpet\":[{\"marker\":{\"colorbar\":{\"outlinewidth\":0,\"ticks\":\"\"}},\"type\":\"scattercarpet\"}],\"scattergeo\":[{\"marker\":{\"colorbar\":{\"outlinewidth\":0,\"ticks\":\"\"}},\"type\":\"scattergeo\"}],\"scattergl\":[{\"marker\":{\"line\":{\"color\":\"#283442\"}},\"type\":\"scattergl\"}],\"scattermapbox\":[{\"marker\":{\"colorbar\":{\"outlinewidth\":0,\"ticks\":\"\"}},\"type\":\"scattermapbox\"}],\"scatterpolargl\":[{\"marker\":{\"colorbar\":{\"outlinewidth\":0,\"ticks\":\"\"}},\"type\":\"scatterpolargl\"}],\"scatterpolar\":[{\"marker\":{\"colorbar\":{\"outlinewidth\":0,\"ticks\":\"\"}},\"type\":\"scatterpolar\"}],\"scatter\":[{\"marker\":{\"line\":{\"color\":\"#283442\"}},\"type\":\"scatter\"}],\"scatterternary\":[{\"marker\":{\"colorbar\":{\"outlinewidth\":0,\"ticks\":\"\"}},\"type\":\"scatterternary\"}],\"surface\":[{\"colorbar\":{\"outlinewidth\":0,\"ticks\":\"\"},\"colorscale\":[[0.0,\"#0d0887\"],[0.1111111111111111,\"#46039f\"],[0.2222222222222222,\"#7201a8\"],[0.3333333333333333,\"#9c179e\"],[0.4444444444444444,\"#bd3786\"],[0.5555555555555556,\"#d8576b\"],[0.6666666666666666,\"#ed7953\"],[0.7777777777777778,\"#fb9f3a\"],[0.8888888888888888,\"#fdca26\"],[1.0,\"#f0f921\"]],\"type\":\"surface\"}],\"table\":[{\"cells\":{\"fill\":{\"color\":\"#506784\"},\"line\":{\"color\":\"rgb(17,17,17)\"}},\"header\":{\"fill\":{\"color\":\"#2a3f5f\"},\"line\":{\"color\":\"rgb(17,17,17)\"}},\"type\":\"table\"}]},\"layout\":{\"annotationdefaults\":{\"arrowcolor\":\"#f2f5fa\",\"arrowhead\":0,\"arrowwidth\":1},\"autotypenumbers\":\"strict\",\"coloraxis\":{\"colorbar\":{\"outlinewidth\":0,\"ticks\":\"\"}},\"colorscale\":{\"diverging\":[[0,\"#8e0152\"],[0.1,\"#c51b7d\"],[0.2,\"#de77ae\"],[0.3,\"#f1b6da\"],[0.4,\"#fde0ef\"],[0.5,\"#f7f7f7\"],[0.6,\"#e6f5d0\"],[0.7,\"#b8e186\"],[0.8,\"#7fbc41\"],[0.9,\"#4d9221\"],[1,\"#276419\"]],\"sequential\":[[0.0,\"#0d0887\"],[0.1111111111111111,\"#46039f\"],[0.2222222222222222,\"#7201a8\"],[0.3333333333333333,\"#9c179e\"],[0.4444444444444444,\"#bd3786\"],[0.5555555555555556,\"#d8576b\"],[0.6666666666666666,\"#ed7953\"],[0.7777777777777778,\"#fb9f3a\"],[0.8888888888888888,\"#fdca26\"],[1.0,\"#f0f921\"]],\"sequentialminus\":[[0.0,\"#0d0887\"],[0.1111111111111111,\"#46039f\"],[0.2222222222222222,\"#7201a8\"],[0.3333333333333333,\"#9c179e\"],[0.4444444444444444,\"#bd3786\"],[0.5555555555555556,\"#d8576b\"],[0.6666666666666666,\"#ed7953\"],[0.7777777777777778,\"#fb9f3a\"],[0.8888888888888888,\"#fdca26\"],[1.0,\"#f0f921\"]]},\"colorway\":[\"#636efa\",\"#EF553B\",\"#00cc96\",\"#ab63fa\",\"#FFA15A\",\"#19d3f3\",\"#FF6692\",\"#B6E880\",\"#FF97FF\",\"#FECB52\"],\"font\":{\"color\":\"#f2f5fa\"},\"geo\":{\"bgcolor\":\"rgb(17,17,17)\",\"lakecolor\":\"rgb(17,17,17)\",\"landcolor\":\"rgb(17,17,17)\",\"showlakes\":true,\"showland\":true,\"subunitcolor\":\"#506784\"},\"hoverlabel\":{\"align\":\"left\"},\"hovermode\":\"closest\",\"mapbox\":{\"style\":\"dark\"},\"paper_bgcolor\":\"rgb(17,17,17)\",\"plot_bgcolor\":\"rgb(17,17,17)\",\"polar\":{\"angularaxis\":{\"gridcolor\":\"#506784\",\"linecolor\":\"#506784\",\"ticks\":\"\"},\"bgcolor\":\"rgb(17,17,17)\",\"radialaxis\":{\"gridcolor\":\"#506784\",\"linecolor\":\"#506784\",\"ticks\":\"\"}},\"scene\":{\"xaxis\":{\"backgroundcolor\":\"rgb(17,17,17)\",\"gridcolor\":\"#506784\",\"gridwidth\":2,\"linecolor\":\"#506784\",\"showbackground\":true,\"ticks\":\"\",\"zerolinecolor\":\"#C8D4E3\"},\"yaxis\":{\"backgroundcolor\":\"rgb(17,17,17)\",\"gridcolor\":\"#506784\",\"gridwidth\":2,\"linecolor\":\"#506784\",\"showbackground\":true,\"ticks\":\"\",\"zerolinecolor\":\"#C8D4E3\"},\"zaxis\":{\"backgroundcolor\":\"rgb(17,17,17)\",\"gridcolor\":\"#506784\",\"gridwidth\":2,\"linecolor\":\"#506784\",\"showbackground\":true,\"ticks\":\"\",\"zerolinecolor\":\"#C8D4E3\"}},\"shapedefaults\":{\"line\":{\"color\":\"#f2f5fa\"}},\"sliderdefaults\":{\"bgcolor\":\"#C8D4E3\",\"bordercolor\":\"rgb(17,17,17)\",\"borderwidth\":1,\"tickwidth\":0},\"ternary\":{\"aaxis\":{\"gridcolor\":\"#506784\",\"linecolor\":\"#506784\",\"ticks\":\"\"},\"baxis\":{\"gridcolor\":\"#506784\",\"linecolor\":\"#506784\",\"ticks\":\"\"},\"bgcolor\":\"rgb(17,17,17)\",\"caxis\":{\"gridcolor\":\"#506784\",\"linecolor\":\"#506784\",\"ticks\":\"\"}},\"title\":{\"x\":0.05},\"updatemenudefaults\":{\"bgcolor\":\"#506784\",\"borderwidth\":0},\"xaxis\":{\"automargin\":true,\"gridcolor\":\"#283442\",\"linecolor\":\"#506784\",\"ticks\":\"\",\"title\":{\"standoff\":15},\"zerolinecolor\":\"#283442\",\"zerolinewidth\":2},\"yaxis\":{\"automargin\":true,\"gridcolor\":\"#283442\",\"linecolor\":\"#506784\",\"ticks\":\"\",\"title\":{\"standoff\":15},\"zerolinecolor\":\"#283442\",\"zerolinewidth\":2}}},\"xaxis\":{\"anchor\":\"y\",\"domain\":[0.0,1.0],\"title\":{\"text\":\"AlcoholConsumption\"}},\"yaxis\":{\"anchor\":\"x\",\"domain\":[0.0,1.0],\"title\":{\"text\":\"count\"}},\"legend\":{\"tracegroupgap\":0},\"title\":{\"text\":\"AlcoholConsumption Distribution\",\"x\":0.5},\"barmode\":\"relative\",\"width\":800,\"height\":600},                        {\"responsive\": true}                    ).then(function(){\n",
       "                            \n",
       "var gd = document.getElementById('b43c3a11-13fc-42c4-b439-7d47e0ea6f60');\n",
       "var x = new MutationObserver(function (mutations, observer) {{\n",
       "        var display = window.getComputedStyle(gd).display;\n",
       "        if (!display || display === 'none') {{\n",
       "            console.log([gd, 'removed!']);\n",
       "            Plotly.purge(gd);\n",
       "            observer.disconnect();\n",
       "        }}\n",
       "}});\n",
       "\n",
       "// Listen for the removal of the full notebook cells\n",
       "var notebookContainer = gd.closest('#notebook-container');\n",
       "if (notebookContainer) {{\n",
       "    x.observe(notebookContainer, {childList: true});\n",
       "}}\n",
       "\n",
       "// Listen for the clearing of the current output cell\n",
       "var outputEl = gd.closest('.output');\n",
       "if (outputEl) {{\n",
       "    x.observe(outputEl, {childList: true});\n",
       "}}\n",
       "\n",
       "                        })                };                });            </script>        </div>"
      ]
     },
     "metadata": {},
     "output_type": "display_data"
    }
   ],
   "source": [
    "plt = px.histogram(data, x=\"AlcoholConsumption\", title=\"AlcoholConsumption Distribution\",text_auto=True, color_discrete_sequence=px.colors.sequential.thermal_r)\n",
    "plt.update_layout(\n",
    "    title_x=0.5,\n",
    "    template=\"plotly_dark\",  \n",
    "    width=800,              \n",
    "    height=600 \n",
    ")\n",
    "plt.show()"
   ]
  },
  {
   "cell_type": "code",
   "execution_count": 21,
   "id": "fcbfeacc",
   "metadata": {
    "execution": {
     "iopub.execute_input": "2024-09-05T23:23:06.018636Z",
     "iopub.status.busy": "2024-09-05T23:23:06.018325Z",
     "iopub.status.idle": "2024-09-05T23:23:06.031200Z",
     "shell.execute_reply": "2024-09-05T23:23:06.030390Z"
    },
    "papermill": {
     "duration": 0.041195,
     "end_time": "2024-09-05T23:23:06.033153",
     "exception": false,
     "start_time": "2024-09-05T23:23:05.991958",
     "status": "completed"
    },
    "tags": []
   },
   "outputs": [
    {
     "data": {
      "text/html": [
       "<div>\n",
       "<style scoped>\n",
       "    .dataframe tbody tr th:only-of-type {\n",
       "        vertical-align: middle;\n",
       "    }\n",
       "\n",
       "    .dataframe tbody tr th {\n",
       "        vertical-align: top;\n",
       "    }\n",
       "\n",
       "    .dataframe thead th {\n",
       "        text-align: right;\n",
       "    }\n",
       "</style>\n",
       "<table border=\"1\" class=\"dataframe\">\n",
       "  <thead>\n",
       "    <tr style=\"text-align: right;\">\n",
       "      <th></th>\n",
       "      <th>AlcoholConsumption</th>\n",
       "    </tr>\n",
       "    <tr>\n",
       "      <th>Gender</th>\n",
       "      <th></th>\n",
       "    </tr>\n",
       "  </thead>\n",
       "  <tbody>\n",
       "    <tr>\n",
       "      <th>0</th>\n",
       "      <td>9.852</td>\n",
       "    </tr>\n",
       "    <tr>\n",
       "      <th>1</th>\n",
       "      <td>9.813</td>\n",
       "    </tr>\n",
       "  </tbody>\n",
       "</table>\n",
       "</div>"
      ],
      "text/plain": [
       "        AlcoholConsumption\n",
       "Gender                    \n",
       "0                    9.852\n",
       "1                    9.813"
      ]
     },
     "execution_count": 21,
     "metadata": {},
     "output_type": "execute_result"
    }
   ],
   "source": [
    "### Average AlcoholConsumption VS Gender\n",
    "pivot = pd.pivot_table(data, values=\"AlcoholConsumption\", index=\"Gender\", aggfunc='mean')\n",
    "pivot"
   ]
  },
  {
   "cell_type": "code",
   "execution_count": 22,
   "id": "9d698fd4",
   "metadata": {
    "execution": {
     "iopub.execute_input": "2024-09-05T23:23:06.086248Z",
     "iopub.status.busy": "2024-09-05T23:23:06.085779Z",
     "iopub.status.idle": "2024-09-05T23:23:06.195876Z",
     "shell.execute_reply": "2024-09-05T23:23:06.195034Z"
    },
    "papermill": {
     "duration": 0.138992,
     "end_time": "2024-09-05T23:23:06.197945",
     "exception": false,
     "start_time": "2024-09-05T23:23:06.058953",
     "status": "completed"
    },
    "tags": []
   },
   "outputs": [
    {
     "data": {
      "text/html": [
       "<div>                            <div id=\"16045a24-7e75-4f54-8d54-2895691e07c0\" class=\"plotly-graph-div\" style=\"height:600px; width:800px;\"></div>            <script type=\"text/javascript\">                require([\"plotly\"], function(Plotly) {                    window.PLOTLYENV=window.PLOTLYENV || {};                                    if (document.getElementById(\"16045a24-7e75-4f54-8d54-2895691e07c0\")) {                    Plotly.newPlot(                        \"16045a24-7e75-4f54-8d54-2895691e07c0\",                        [{\"alignmentgroup\":\"True\",\"hovertemplate\":\"Gender=%{x}\\u003cbr\\u003eAlcoholConsumption=%{text}\\u003cextra\\u003e\\u003c\\u002fextra\\u003e\",\"legendgroup\":\"Female\",\"marker\":{\"color\":\"rgb(8,64,129)\",\"pattern\":{\"shape\":\"\"}},\"name\":\"Female\",\"offsetgroup\":\"Female\",\"orientation\":\"v\",\"showlegend\":true,\"text\":[9.851530831916076],\"textposition\":\"auto\",\"x\":[\"Female\"],\"xaxis\":\"x\",\"y\":[9.851530831916076],\"yaxis\":\"y\",\"type\":\"bar\"},{\"alignmentgroup\":\"True\",\"hovertemplate\":\"Gender=%{x}\\u003cbr\\u003eAlcoholConsumption=%{text}\\u003cextra\\u003e\\u003c\\u002fextra\\u003e\",\"legendgroup\":\"Male\",\"marker\":{\"color\":\"rgb(8,104,172)\",\"pattern\":{\"shape\":\"\"}},\"name\":\"Male\",\"offsetgroup\":\"Male\",\"orientation\":\"v\",\"showlegend\":true,\"text\":[9.81340213562095],\"textposition\":\"auto\",\"x\":[\"Male\"],\"xaxis\":\"x\",\"y\":[9.81340213562095],\"yaxis\":\"y\",\"type\":\"bar\"}],                        {\"template\":{\"data\":{\"barpolar\":[{\"marker\":{\"line\":{\"color\":\"rgb(17,17,17)\",\"width\":0.5},\"pattern\":{\"fillmode\":\"overlay\",\"size\":10,\"solidity\":0.2}},\"type\":\"barpolar\"}],\"bar\":[{\"error_x\":{\"color\":\"#f2f5fa\"},\"error_y\":{\"color\":\"#f2f5fa\"},\"marker\":{\"line\":{\"color\":\"rgb(17,17,17)\",\"width\":0.5},\"pattern\":{\"fillmode\":\"overlay\",\"size\":10,\"solidity\":0.2}},\"type\":\"bar\"}],\"carpet\":[{\"aaxis\":{\"endlinecolor\":\"#A2B1C6\",\"gridcolor\":\"#506784\",\"linecolor\":\"#506784\",\"minorgridcolor\":\"#506784\",\"startlinecolor\":\"#A2B1C6\"},\"baxis\":{\"endlinecolor\":\"#A2B1C6\",\"gridcolor\":\"#506784\",\"linecolor\":\"#506784\",\"minorgridcolor\":\"#506784\",\"startlinecolor\":\"#A2B1C6\"},\"type\":\"carpet\"}],\"choropleth\":[{\"colorbar\":{\"outlinewidth\":0,\"ticks\":\"\"},\"type\":\"choropleth\"}],\"contourcarpet\":[{\"colorbar\":{\"outlinewidth\":0,\"ticks\":\"\"},\"type\":\"contourcarpet\"}],\"contour\":[{\"colorbar\":{\"outlinewidth\":0,\"ticks\":\"\"},\"colorscale\":[[0.0,\"#0d0887\"],[0.1111111111111111,\"#46039f\"],[0.2222222222222222,\"#7201a8\"],[0.3333333333333333,\"#9c179e\"],[0.4444444444444444,\"#bd3786\"],[0.5555555555555556,\"#d8576b\"],[0.6666666666666666,\"#ed7953\"],[0.7777777777777778,\"#fb9f3a\"],[0.8888888888888888,\"#fdca26\"],[1.0,\"#f0f921\"]],\"type\":\"contour\"}],\"heatmapgl\":[{\"colorbar\":{\"outlinewidth\":0,\"ticks\":\"\"},\"colorscale\":[[0.0,\"#0d0887\"],[0.1111111111111111,\"#46039f\"],[0.2222222222222222,\"#7201a8\"],[0.3333333333333333,\"#9c179e\"],[0.4444444444444444,\"#bd3786\"],[0.5555555555555556,\"#d8576b\"],[0.6666666666666666,\"#ed7953\"],[0.7777777777777778,\"#fb9f3a\"],[0.8888888888888888,\"#fdca26\"],[1.0,\"#f0f921\"]],\"type\":\"heatmapgl\"}],\"heatmap\":[{\"colorbar\":{\"outlinewidth\":0,\"ticks\":\"\"},\"colorscale\":[[0.0,\"#0d0887\"],[0.1111111111111111,\"#46039f\"],[0.2222222222222222,\"#7201a8\"],[0.3333333333333333,\"#9c179e\"],[0.4444444444444444,\"#bd3786\"],[0.5555555555555556,\"#d8576b\"],[0.6666666666666666,\"#ed7953\"],[0.7777777777777778,\"#fb9f3a\"],[0.8888888888888888,\"#fdca26\"],[1.0,\"#f0f921\"]],\"type\":\"heatmap\"}],\"histogram2dcontour\":[{\"colorbar\":{\"outlinewidth\":0,\"ticks\":\"\"},\"colorscale\":[[0.0,\"#0d0887\"],[0.1111111111111111,\"#46039f\"],[0.2222222222222222,\"#7201a8\"],[0.3333333333333333,\"#9c179e\"],[0.4444444444444444,\"#bd3786\"],[0.5555555555555556,\"#d8576b\"],[0.6666666666666666,\"#ed7953\"],[0.7777777777777778,\"#fb9f3a\"],[0.8888888888888888,\"#fdca26\"],[1.0,\"#f0f921\"]],\"type\":\"histogram2dcontour\"}],\"histogram2d\":[{\"colorbar\":{\"outlinewidth\":0,\"ticks\":\"\"},\"colorscale\":[[0.0,\"#0d0887\"],[0.1111111111111111,\"#46039f\"],[0.2222222222222222,\"#7201a8\"],[0.3333333333333333,\"#9c179e\"],[0.4444444444444444,\"#bd3786\"],[0.5555555555555556,\"#d8576b\"],[0.6666666666666666,\"#ed7953\"],[0.7777777777777778,\"#fb9f3a\"],[0.8888888888888888,\"#fdca26\"],[1.0,\"#f0f921\"]],\"type\":\"histogram2d\"}],\"histogram\":[{\"marker\":{\"pattern\":{\"fillmode\":\"overlay\",\"size\":10,\"solidity\":0.2}},\"type\":\"histogram\"}],\"mesh3d\":[{\"colorbar\":{\"outlinewidth\":0,\"ticks\":\"\"},\"type\":\"mesh3d\"}],\"parcoords\":[{\"line\":{\"colorbar\":{\"outlinewidth\":0,\"ticks\":\"\"}},\"type\":\"parcoords\"}],\"pie\":[{\"automargin\":true,\"type\":\"pie\"}],\"scatter3d\":[{\"line\":{\"colorbar\":{\"outlinewidth\":0,\"ticks\":\"\"}},\"marker\":{\"colorbar\":{\"outlinewidth\":0,\"ticks\":\"\"}},\"type\":\"scatter3d\"}],\"scattercarpet\":[{\"marker\":{\"colorbar\":{\"outlinewidth\":0,\"ticks\":\"\"}},\"type\":\"scattercarpet\"}],\"scattergeo\":[{\"marker\":{\"colorbar\":{\"outlinewidth\":0,\"ticks\":\"\"}},\"type\":\"scattergeo\"}],\"scattergl\":[{\"marker\":{\"line\":{\"color\":\"#283442\"}},\"type\":\"scattergl\"}],\"scattermapbox\":[{\"marker\":{\"colorbar\":{\"outlinewidth\":0,\"ticks\":\"\"}},\"type\":\"scattermapbox\"}],\"scatterpolargl\":[{\"marker\":{\"colorbar\":{\"outlinewidth\":0,\"ticks\":\"\"}},\"type\":\"scatterpolargl\"}],\"scatterpolar\":[{\"marker\":{\"colorbar\":{\"outlinewidth\":0,\"ticks\":\"\"}},\"type\":\"scatterpolar\"}],\"scatter\":[{\"marker\":{\"line\":{\"color\":\"#283442\"}},\"type\":\"scatter\"}],\"scatterternary\":[{\"marker\":{\"colorbar\":{\"outlinewidth\":0,\"ticks\":\"\"}},\"type\":\"scatterternary\"}],\"surface\":[{\"colorbar\":{\"outlinewidth\":0,\"ticks\":\"\"},\"colorscale\":[[0.0,\"#0d0887\"],[0.1111111111111111,\"#46039f\"],[0.2222222222222222,\"#7201a8\"],[0.3333333333333333,\"#9c179e\"],[0.4444444444444444,\"#bd3786\"],[0.5555555555555556,\"#d8576b\"],[0.6666666666666666,\"#ed7953\"],[0.7777777777777778,\"#fb9f3a\"],[0.8888888888888888,\"#fdca26\"],[1.0,\"#f0f921\"]],\"type\":\"surface\"}],\"table\":[{\"cells\":{\"fill\":{\"color\":\"#506784\"},\"line\":{\"color\":\"rgb(17,17,17)\"}},\"header\":{\"fill\":{\"color\":\"#2a3f5f\"},\"line\":{\"color\":\"rgb(17,17,17)\"}},\"type\":\"table\"}]},\"layout\":{\"annotationdefaults\":{\"arrowcolor\":\"#f2f5fa\",\"arrowhead\":0,\"arrowwidth\":1},\"autotypenumbers\":\"strict\",\"coloraxis\":{\"colorbar\":{\"outlinewidth\":0,\"ticks\":\"\"}},\"colorscale\":{\"diverging\":[[0,\"#8e0152\"],[0.1,\"#c51b7d\"],[0.2,\"#de77ae\"],[0.3,\"#f1b6da\"],[0.4,\"#fde0ef\"],[0.5,\"#f7f7f7\"],[0.6,\"#e6f5d0\"],[0.7,\"#b8e186\"],[0.8,\"#7fbc41\"],[0.9,\"#4d9221\"],[1,\"#276419\"]],\"sequential\":[[0.0,\"#0d0887\"],[0.1111111111111111,\"#46039f\"],[0.2222222222222222,\"#7201a8\"],[0.3333333333333333,\"#9c179e\"],[0.4444444444444444,\"#bd3786\"],[0.5555555555555556,\"#d8576b\"],[0.6666666666666666,\"#ed7953\"],[0.7777777777777778,\"#fb9f3a\"],[0.8888888888888888,\"#fdca26\"],[1.0,\"#f0f921\"]],\"sequentialminus\":[[0.0,\"#0d0887\"],[0.1111111111111111,\"#46039f\"],[0.2222222222222222,\"#7201a8\"],[0.3333333333333333,\"#9c179e\"],[0.4444444444444444,\"#bd3786\"],[0.5555555555555556,\"#d8576b\"],[0.6666666666666666,\"#ed7953\"],[0.7777777777777778,\"#fb9f3a\"],[0.8888888888888888,\"#fdca26\"],[1.0,\"#f0f921\"]]},\"colorway\":[\"#636efa\",\"#EF553B\",\"#00cc96\",\"#ab63fa\",\"#FFA15A\",\"#19d3f3\",\"#FF6692\",\"#B6E880\",\"#FF97FF\",\"#FECB52\"],\"font\":{\"color\":\"#f2f5fa\"},\"geo\":{\"bgcolor\":\"rgb(17,17,17)\",\"lakecolor\":\"rgb(17,17,17)\",\"landcolor\":\"rgb(17,17,17)\",\"showlakes\":true,\"showland\":true,\"subunitcolor\":\"#506784\"},\"hoverlabel\":{\"align\":\"left\"},\"hovermode\":\"closest\",\"mapbox\":{\"style\":\"dark\"},\"paper_bgcolor\":\"rgb(17,17,17)\",\"plot_bgcolor\":\"rgb(17,17,17)\",\"polar\":{\"angularaxis\":{\"gridcolor\":\"#506784\",\"linecolor\":\"#506784\",\"ticks\":\"\"},\"bgcolor\":\"rgb(17,17,17)\",\"radialaxis\":{\"gridcolor\":\"#506784\",\"linecolor\":\"#506784\",\"ticks\":\"\"}},\"scene\":{\"xaxis\":{\"backgroundcolor\":\"rgb(17,17,17)\",\"gridcolor\":\"#506784\",\"gridwidth\":2,\"linecolor\":\"#506784\",\"showbackground\":true,\"ticks\":\"\",\"zerolinecolor\":\"#C8D4E3\"},\"yaxis\":{\"backgroundcolor\":\"rgb(17,17,17)\",\"gridcolor\":\"#506784\",\"gridwidth\":2,\"linecolor\":\"#506784\",\"showbackground\":true,\"ticks\":\"\",\"zerolinecolor\":\"#C8D4E3\"},\"zaxis\":{\"backgroundcolor\":\"rgb(17,17,17)\",\"gridcolor\":\"#506784\",\"gridwidth\":2,\"linecolor\":\"#506784\",\"showbackground\":true,\"ticks\":\"\",\"zerolinecolor\":\"#C8D4E3\"}},\"shapedefaults\":{\"line\":{\"color\":\"#f2f5fa\"}},\"sliderdefaults\":{\"bgcolor\":\"#C8D4E3\",\"bordercolor\":\"rgb(17,17,17)\",\"borderwidth\":1,\"tickwidth\":0},\"ternary\":{\"aaxis\":{\"gridcolor\":\"#506784\",\"linecolor\":\"#506784\",\"ticks\":\"\"},\"baxis\":{\"gridcolor\":\"#506784\",\"linecolor\":\"#506784\",\"ticks\":\"\"},\"bgcolor\":\"rgb(17,17,17)\",\"caxis\":{\"gridcolor\":\"#506784\",\"linecolor\":\"#506784\",\"ticks\":\"\"}},\"title\":{\"x\":0.05},\"updatemenudefaults\":{\"bgcolor\":\"#506784\",\"borderwidth\":0},\"xaxis\":{\"automargin\":true,\"gridcolor\":\"#283442\",\"linecolor\":\"#506784\",\"ticks\":\"\",\"title\":{\"standoff\":15},\"zerolinecolor\":\"#283442\",\"zerolinewidth\":2},\"yaxis\":{\"automargin\":true,\"gridcolor\":\"#283442\",\"linecolor\":\"#506784\",\"ticks\":\"\",\"title\":{\"standoff\":15},\"zerolinecolor\":\"#283442\",\"zerolinewidth\":2}}},\"xaxis\":{\"anchor\":\"y\",\"domain\":[0.0,1.0],\"title\":{\"text\":\"Gender\"},\"categoryorder\":\"array\",\"categoryarray\":[\"Female\",\"Male\"]},\"yaxis\":{\"anchor\":\"x\",\"domain\":[0.0,1.0],\"title\":{\"text\":\"Average AlcoholConsumption\"}},\"legend\":{\"title\":{\"text\":\"Gender\"},\"tracegroupgap\":0},\"title\":{\"text\":\"Average AlcoholConsumption by Gender\",\"x\":0.5},\"barmode\":\"relative\",\"width\":800,\"height\":600},                        {\"responsive\": true}                    ).then(function(){\n",
       "                            \n",
       "var gd = document.getElementById('16045a24-7e75-4f54-8d54-2895691e07c0');\n",
       "var x = new MutationObserver(function (mutations, observer) {{\n",
       "        var display = window.getComputedStyle(gd).display;\n",
       "        if (!display || display === 'none') {{\n",
       "            console.log([gd, 'removed!']);\n",
       "            Plotly.purge(gd);\n",
       "            observer.disconnect();\n",
       "        }}\n",
       "}});\n",
       "\n",
       "// Listen for the removal of the full notebook cells\n",
       "var notebookContainer = gd.closest('#notebook-container');\n",
       "if (notebookContainer) {{\n",
       "    x.observe(notebookContainer, {childList: true});\n",
       "}}\n",
       "\n",
       "// Listen for the clearing of the current output cell\n",
       "var outputEl = gd.closest('.output');\n",
       "if (outputEl) {{\n",
       "    x.observe(outputEl, {childList: true});\n",
       "}}\n",
       "\n",
       "                        })                };                });            </script>        </div>"
      ]
     },
     "metadata": {},
     "output_type": "display_data"
    }
   ],
   "source": [
    "pivot1 = pivot.reset_index()\n",
    "pivot1['Gender'] = pivot1['Gender'].map({0: 'Female', 1: 'Male'})\n",
    "plt = px.bar(pivot1, x=\"Gender\", y=\"AlcoholConsumption\", \n",
    "             title=\"Average AlcoholConsumption by Gender\",\n",
    "             color=\"Gender\",\n",
    "             text=\"AlcoholConsumption\", \n",
    "             color_discrete_sequence=px.colors.sequential.GnBu_r)\n",
    "plt.update_layout(\n",
    "    title_x=0.5,\n",
    "    template=\"plotly_dark\",  \n",
    "    width=800,              \n",
    "    height=600,\n",
    "    xaxis_title=\"Gender\",\n",
    "    yaxis_title=\"Average AlcoholConsumption\"\n",
    ")\n",
    "plt.show()"
   ]
  },
  {
   "cell_type": "code",
   "execution_count": 23,
   "id": "71c88ad0",
   "metadata": {
    "execution": {
     "iopub.execute_input": "2024-09-05T23:23:06.251461Z",
     "iopub.status.busy": "2024-09-05T23:23:06.250831Z",
     "iopub.status.idle": "2024-09-05T23:23:06.259318Z",
     "shell.execute_reply": "2024-09-05T23:23:06.258477Z"
    },
    "papermill": {
     "duration": 0.037269,
     "end_time": "2024-09-05T23:23:06.261466",
     "exception": false,
     "start_time": "2024-09-05T23:23:06.224197",
     "status": "completed"
    },
    "tags": []
   },
   "outputs": [
    {
     "data": {
      "text/html": [
       "<div>\n",
       "<style scoped>\n",
       "    .dataframe tbody tr th:only-of-type {\n",
       "        vertical-align: middle;\n",
       "    }\n",
       "\n",
       "    .dataframe tbody tr th {\n",
       "        vertical-align: top;\n",
       "    }\n",
       "\n",
       "    .dataframe thead th {\n",
       "        text-align: right;\n",
       "    }\n",
       "</style>\n",
       "<table border=\"1\" class=\"dataframe\">\n",
       "  <thead>\n",
       "    <tr style=\"text-align: right;\">\n",
       "      <th></th>\n",
       "      <th>count</th>\n",
       "    </tr>\n",
       "    <tr>\n",
       "      <th>Smoking</th>\n",
       "      <th></th>\n",
       "    </tr>\n",
       "  </thead>\n",
       "  <tbody>\n",
       "    <tr>\n",
       "      <th>0</th>\n",
       "      <td>1204</td>\n",
       "    </tr>\n",
       "    <tr>\n",
       "      <th>1</th>\n",
       "      <td>496</td>\n",
       "    </tr>\n",
       "  </tbody>\n",
       "</table>\n",
       "</div>"
      ],
      "text/plain": [
       "         count\n",
       "Smoking       \n",
       "0         1204\n",
       "1          496"
      ]
     },
     "execution_count": 23,
     "metadata": {},
     "output_type": "execute_result"
    }
   ],
   "source": [
    "### Smoking Distrbution\n",
    "data.Smoking.value_counts().to_frame()"
   ]
  },
  {
   "cell_type": "code",
   "execution_count": 24,
   "id": "5974b666",
   "metadata": {
    "execution": {
     "iopub.execute_input": "2024-09-05T23:23:06.317534Z",
     "iopub.status.busy": "2024-09-05T23:23:06.316888Z",
     "iopub.status.idle": "2024-09-05T23:23:06.390029Z",
     "shell.execute_reply": "2024-09-05T23:23:06.389014Z"
    },
    "papermill": {
     "duration": 0.103008,
     "end_time": "2024-09-05T23:23:06.391975",
     "exception": false,
     "start_time": "2024-09-05T23:23:06.288967",
     "status": "completed"
    },
    "tags": []
   },
   "outputs": [
    {
     "data": {
      "text/html": [
       "<div>                            <div id=\"f5c85495-6616-4dee-8f7b-ec291adc7fa3\" class=\"plotly-graph-div\" style=\"height:600px; width:800px;\"></div>            <script type=\"text/javascript\">                require([\"plotly\"], function(Plotly) {                    window.PLOTLYENV=window.PLOTLYENV || {};                                    if (document.getElementById(\"f5c85495-6616-4dee-8f7b-ec291adc7fa3\")) {                    Plotly.newPlot(                        \"f5c85495-6616-4dee-8f7b-ec291adc7fa3\",                        [{\"domain\":{\"x\":[0.0,1.0],\"y\":[0.0,1.0]},\"hovertemplate\":\"Smoking=%{label}\\u003cextra\\u003e\\u003c\\u002fextra\\u003e\",\"labels\":[0,0,0,0,0,0,0,0,1,1,0,0,0,1,0,1,0,1,1,1,0,0,0,0,0,0,0,0,0,0,1,0,0,0,1,0,0,0,0,0,1,1,0,0,0,0,0,0,1,1,0,0,0,0,0,0,1,1,0,0,0,0,0,0,0,0,1,0,0,0,0,0,1,1,0,0,0,0,1,0,0,0,0,1,0,1,0,1,0,0,1,0,0,0,1,0,1,0,0,1,0,1,1,0,0,0,1,1,0,0,0,1,0,0,0,1,0,0,0,0,1,1,0,0,0,0,1,0,0,0,0,0,0,0,1,0,0,1,0,1,0,0,0,0,0,1,0,0,0,0,0,0,1,1,0,0,1,1,0,1,0,1,0,0,1,0,0,0,1,1,1,0,1,0,0,1,0,0,0,0,1,0,1,0,0,0,1,0,1,0,0,0,1,1,0,0,0,1,0,1,1,0,1,0,0,0,0,1,0,0,0,0,0,0,0,1,1,0,1,0,0,0,0,0,1,0,1,0,1,0,0,0,0,0,1,0,1,0,1,0,0,1,0,0,0,0,0,1,0,0,0,0,0,1,0,1,0,0,0,0,0,0,1,0,1,0,1,1,0,1,0,1,0,0,1,0,0,1,0,0,0,0,1,0,0,0,1,0,0,1,0,0,0,0,0,0,1,0,1,0,1,1,0,0,0,1,1,0,0,0,1,0,0,0,0,1,0,0,0,0,0,1,1,0,0,1,0,0,1,1,1,1,1,0,0,0,0,0,0,0,0,0,0,0,1,0,0,1,0,0,0,0,1,0,0,0,0,0,0,0,0,0,0,0,1,0,0,0,0,1,0,1,0,1,0,1,0,0,0,0,1,0,0,0,0,0,0,0,1,0,0,1,0,0,0,0,0,1,0,0,1,1,0,0,0,1,1,0,0,0,1,0,0,1,0,0,0,0,0,0,0,1,0,0,0,1,1,0,0,0,0,0,1,1,0,1,1,0,0,1,0,1,1,0,1,1,0,0,0,0,0,0,0,0,1,1,1,0,1,1,0,0,0,1,0,0,0,0,0,0,0,1,0,0,0,0,0,0,1,1,1,0,0,1,0,0,0,0,0,1,0,0,1,1,0,0,1,1,0,1,0,0,0,0,1,0,0,0,0,0,0,0,1,0,0,1,0,0,1,0,0,0,0,1,0,1,1,0,0,0,0,0,1,1,0,0,1,0,1,0,0,1,0,1,1,0,0,1,1,0,1,0,0,1,0,1,0,0,0,0,0,0,0,0,0,1,0,0,0,0,0,0,0,1,1,0,0,0,0,0,0,0,0,0,0,0,0,0,0,0,0,0,0,0,0,0,0,0,1,0,0,1,1,0,0,0,0,0,0,0,1,1,0,0,0,1,0,0,0,0,0,1,0,0,0,0,1,1,1,1,0,0,0,1,0,0,1,0,0,0,0,0,1,0,1,0,0,1,0,0,1,0,0,0,0,0,0,1,1,0,0,0,0,0,1,1,0,0,0,0,0,1,0,1,0,0,0,0,0,0,1,0,0,1,1,1,0,1,0,0,0,0,0,0,0,0,0,1,1,0,1,0,0,0,0,1,0,0,0,0,1,1,0,1,0,1,0,0,0,0,0,0,0,1,0,0,0,1,0,1,1,0,0,0,0,1,1,0,0,1,0,0,0,0,1,0,0,1,0,1,0,0,1,0,0,0,0,0,1,1,1,0,0,0,1,0,0,1,0,0,1,1,0,0,1,0,0,0,0,0,0,0,0,1,1,1,0,0,0,1,0,0,1,0,0,1,1,0,1,0,1,0,0,0,1,0,0,0,1,0,0,0,0,0,0,0,0,1,0,0,1,0,1,0,0,0,1,0,0,1,0,0,0,1,0,0,0,0,1,1,1,1,0,0,1,0,0,1,0,1,0,0,0,0,1,0,0,0,0,0,1,0,1,1,0,0,1,0,0,0,1,1,1,0,0,0,0,0,1,1,0,0,0,0,1,1,0,0,0,0,0,0,0,1,0,0,0,0,0,0,0,0,1,0,1,0,0,0,0,1,1,1,1,0,0,0,1,1,0,1,0,0,0,0,1,0,0,0,0,0,0,0,0,0,1,0,0,0,0,0,1,1,1,0,0,1,0,0,1,0,0,0,0,0,0,0,0,0,1,0,0,0,1,0,0,0,1,0,0,0,0,1,1,0,1,0,0,0,0,1,0,0,0,0,0,0,1,0,0,1,1,0,1,0,0,0,1,0,0,0,1,0,0,0,1,1,0,0,1,0,1,1,0,0,0,0,0,0,0,0,0,0,1,0,1,0,0,1,0,0,0,0,0,0,0,0,0,0,0,0,1,0,0,0,1,0,1,0,0,1,0,0,1,1,0,0,1,0,1,0,0,1,0,0,0,0,0,1,0,0,1,0,0,0,1,0,0,0,0,0,0,0,1,0,0,0,0,0,0,0,1,0,0,0,0,0,0,0,1,0,0,0,0,0,1,0,1,1,0,0,0,0,1,0,1,0,1,1,0,0,0,1,1,1,0,0,1,0,1,0,0,0,0,0,0,0,0,0,1,1,1,1,0,0,0,1,0,0,1,0,0,0,0,0,0,0,0,1,1,0,1,0,0,0,0,0,0,0,1,0,0,0,0,0,0,0,1,0,1,0,0,0,0,0,0,1,1,0,0,0,0,1,1,1,0,0,0,1,0,0,0,1,0,0,1,1,0,0,1,1,0,0,0,1,0,0,0,1,0,0,0,0,0,1,0,1,0,0,0,0,0,1,1,0,1,0,1,0,0,1,0,0,0,0,1,0,1,0,0,1,0,1,0,0,0,0,0,1,0,0,0,0,0,1,1,1,1,0,1,0,0,0,0,1,0,1,0,0,1,0,0,0,0,0,0,1,1,1,1,0,0,0,0,1,0,0,0,0,0,0,0,0,0,0,1,0,0,1,0,1,1,0,1,1,0,0,1,1,0,0,1,0,0,1,0,0,1,1,0,0,0,1,0,0,0,1,0,0,0,1,0,0,0,1,0,0,0,1,0,1,1,0,0,0,0,0,0,1,0,1,0,0,1,0,1,0,0,1,0,0,1,0,1,1,1,0,0,1,0,0,0,0,1,1,0,0,1,0,1,0,0,0,1,0,0,0,1,1,0,0,0,0,0,0,0,0,0,1,0,0,0,0,0,1,0,0,0,1,0,0,0,0,1,1,0,0,1,0,0,1,1,0,0,0,1,0,0,0,0,0,0,0,0,1,0,1,1,0,0,1,0,0,0,0,1,1,1,0,0,0,0,0,0,0,0,0,0,0,0,0,1,1,1,0,0,0,1,0,1,0,1,1,0,0,0,0,0,0,0,0,0,0,0,0,1,0,1,0,0,0,0,0,0,0,0,0,1,0,0,1,0,1,0,0,1,0,1,0,0,1,0,1,0,0,0,1,0,0,1,1,0,0,0,0,0,0,0,1,1,0,0,0,0,1,0,0,0,0,0,0,0,0,1,1,0,0,0,0,0,0,0,0,0,0,1,0,0,0,1,1,1,0,0,1,0,0,1,0,0,0,0,0,0,1,0,1,0,0,1,1,0,1,1,1,0,1,1,1,0,0,0,0,1,0,0,1,0,0,0,0,0,1,0,0,0,0,0,0,0,1,0,0,1,0,0,0,0,0,0,0,0,0,0,1,1,1,0,0,0,0,0,0,0,0,1,0,0,0,0,0,0,0,1,1,1,1,0,0,0,0,0,1,0,0,0,1,0,1,1,1,1,1,0,0,0,0,1,0,1,0,0,1,0,0,0,0,0,0,0,1,1,0,0,1,0,0,0,1,0,0],\"legendgroup\":\"\",\"name\":\"\",\"showlegend\":true,\"type\":\"pie\"}],                        {\"template\":{\"data\":{\"barpolar\":[{\"marker\":{\"line\":{\"color\":\"rgb(17,17,17)\",\"width\":0.5},\"pattern\":{\"fillmode\":\"overlay\",\"size\":10,\"solidity\":0.2}},\"type\":\"barpolar\"}],\"bar\":[{\"error_x\":{\"color\":\"#f2f5fa\"},\"error_y\":{\"color\":\"#f2f5fa\"},\"marker\":{\"line\":{\"color\":\"rgb(17,17,17)\",\"width\":0.5},\"pattern\":{\"fillmode\":\"overlay\",\"size\":10,\"solidity\":0.2}},\"type\":\"bar\"}],\"carpet\":[{\"aaxis\":{\"endlinecolor\":\"#A2B1C6\",\"gridcolor\":\"#506784\",\"linecolor\":\"#506784\",\"minorgridcolor\":\"#506784\",\"startlinecolor\":\"#A2B1C6\"},\"baxis\":{\"endlinecolor\":\"#A2B1C6\",\"gridcolor\":\"#506784\",\"linecolor\":\"#506784\",\"minorgridcolor\":\"#506784\",\"startlinecolor\":\"#A2B1C6\"},\"type\":\"carpet\"}],\"choropleth\":[{\"colorbar\":{\"outlinewidth\":0,\"ticks\":\"\"},\"type\":\"choropleth\"}],\"contourcarpet\":[{\"colorbar\":{\"outlinewidth\":0,\"ticks\":\"\"},\"type\":\"contourcarpet\"}],\"contour\":[{\"colorbar\":{\"outlinewidth\":0,\"ticks\":\"\"},\"colorscale\":[[0.0,\"#0d0887\"],[0.1111111111111111,\"#46039f\"],[0.2222222222222222,\"#7201a8\"],[0.3333333333333333,\"#9c179e\"],[0.4444444444444444,\"#bd3786\"],[0.5555555555555556,\"#d8576b\"],[0.6666666666666666,\"#ed7953\"],[0.7777777777777778,\"#fb9f3a\"],[0.8888888888888888,\"#fdca26\"],[1.0,\"#f0f921\"]],\"type\":\"contour\"}],\"heatmapgl\":[{\"colorbar\":{\"outlinewidth\":0,\"ticks\":\"\"},\"colorscale\":[[0.0,\"#0d0887\"],[0.1111111111111111,\"#46039f\"],[0.2222222222222222,\"#7201a8\"],[0.3333333333333333,\"#9c179e\"],[0.4444444444444444,\"#bd3786\"],[0.5555555555555556,\"#d8576b\"],[0.6666666666666666,\"#ed7953\"],[0.7777777777777778,\"#fb9f3a\"],[0.8888888888888888,\"#fdca26\"],[1.0,\"#f0f921\"]],\"type\":\"heatmapgl\"}],\"heatmap\":[{\"colorbar\":{\"outlinewidth\":0,\"ticks\":\"\"},\"colorscale\":[[0.0,\"#0d0887\"],[0.1111111111111111,\"#46039f\"],[0.2222222222222222,\"#7201a8\"],[0.3333333333333333,\"#9c179e\"],[0.4444444444444444,\"#bd3786\"],[0.5555555555555556,\"#d8576b\"],[0.6666666666666666,\"#ed7953\"],[0.7777777777777778,\"#fb9f3a\"],[0.8888888888888888,\"#fdca26\"],[1.0,\"#f0f921\"]],\"type\":\"heatmap\"}],\"histogram2dcontour\":[{\"colorbar\":{\"outlinewidth\":0,\"ticks\":\"\"},\"colorscale\":[[0.0,\"#0d0887\"],[0.1111111111111111,\"#46039f\"],[0.2222222222222222,\"#7201a8\"],[0.3333333333333333,\"#9c179e\"],[0.4444444444444444,\"#bd3786\"],[0.5555555555555556,\"#d8576b\"],[0.6666666666666666,\"#ed7953\"],[0.7777777777777778,\"#fb9f3a\"],[0.8888888888888888,\"#fdca26\"],[1.0,\"#f0f921\"]],\"type\":\"histogram2dcontour\"}],\"histogram2d\":[{\"colorbar\":{\"outlinewidth\":0,\"ticks\":\"\"},\"colorscale\":[[0.0,\"#0d0887\"],[0.1111111111111111,\"#46039f\"],[0.2222222222222222,\"#7201a8\"],[0.3333333333333333,\"#9c179e\"],[0.4444444444444444,\"#bd3786\"],[0.5555555555555556,\"#d8576b\"],[0.6666666666666666,\"#ed7953\"],[0.7777777777777778,\"#fb9f3a\"],[0.8888888888888888,\"#fdca26\"],[1.0,\"#f0f921\"]],\"type\":\"histogram2d\"}],\"histogram\":[{\"marker\":{\"pattern\":{\"fillmode\":\"overlay\",\"size\":10,\"solidity\":0.2}},\"type\":\"histogram\"}],\"mesh3d\":[{\"colorbar\":{\"outlinewidth\":0,\"ticks\":\"\"},\"type\":\"mesh3d\"}],\"parcoords\":[{\"line\":{\"colorbar\":{\"outlinewidth\":0,\"ticks\":\"\"}},\"type\":\"parcoords\"}],\"pie\":[{\"automargin\":true,\"type\":\"pie\"}],\"scatter3d\":[{\"line\":{\"colorbar\":{\"outlinewidth\":0,\"ticks\":\"\"}},\"marker\":{\"colorbar\":{\"outlinewidth\":0,\"ticks\":\"\"}},\"type\":\"scatter3d\"}],\"scattercarpet\":[{\"marker\":{\"colorbar\":{\"outlinewidth\":0,\"ticks\":\"\"}},\"type\":\"scattercarpet\"}],\"scattergeo\":[{\"marker\":{\"colorbar\":{\"outlinewidth\":0,\"ticks\":\"\"}},\"type\":\"scattergeo\"}],\"scattergl\":[{\"marker\":{\"line\":{\"color\":\"#283442\"}},\"type\":\"scattergl\"}],\"scattermapbox\":[{\"marker\":{\"colorbar\":{\"outlinewidth\":0,\"ticks\":\"\"}},\"type\":\"scattermapbox\"}],\"scatterpolargl\":[{\"marker\":{\"colorbar\":{\"outlinewidth\":0,\"ticks\":\"\"}},\"type\":\"scatterpolargl\"}],\"scatterpolar\":[{\"marker\":{\"colorbar\":{\"outlinewidth\":0,\"ticks\":\"\"}},\"type\":\"scatterpolar\"}],\"scatter\":[{\"marker\":{\"line\":{\"color\":\"#283442\"}},\"type\":\"scatter\"}],\"scatterternary\":[{\"marker\":{\"colorbar\":{\"outlinewidth\":0,\"ticks\":\"\"}},\"type\":\"scatterternary\"}],\"surface\":[{\"colorbar\":{\"outlinewidth\":0,\"ticks\":\"\"},\"colorscale\":[[0.0,\"#0d0887\"],[0.1111111111111111,\"#46039f\"],[0.2222222222222222,\"#7201a8\"],[0.3333333333333333,\"#9c179e\"],[0.4444444444444444,\"#bd3786\"],[0.5555555555555556,\"#d8576b\"],[0.6666666666666666,\"#ed7953\"],[0.7777777777777778,\"#fb9f3a\"],[0.8888888888888888,\"#fdca26\"],[1.0,\"#f0f921\"]],\"type\":\"surface\"}],\"table\":[{\"cells\":{\"fill\":{\"color\":\"#506784\"},\"line\":{\"color\":\"rgb(17,17,17)\"}},\"header\":{\"fill\":{\"color\":\"#2a3f5f\"},\"line\":{\"color\":\"rgb(17,17,17)\"}},\"type\":\"table\"}]},\"layout\":{\"annotationdefaults\":{\"arrowcolor\":\"#f2f5fa\",\"arrowhead\":0,\"arrowwidth\":1},\"autotypenumbers\":\"strict\",\"coloraxis\":{\"colorbar\":{\"outlinewidth\":0,\"ticks\":\"\"}},\"colorscale\":{\"diverging\":[[0,\"#8e0152\"],[0.1,\"#c51b7d\"],[0.2,\"#de77ae\"],[0.3,\"#f1b6da\"],[0.4,\"#fde0ef\"],[0.5,\"#f7f7f7\"],[0.6,\"#e6f5d0\"],[0.7,\"#b8e186\"],[0.8,\"#7fbc41\"],[0.9,\"#4d9221\"],[1,\"#276419\"]],\"sequential\":[[0.0,\"#0d0887\"],[0.1111111111111111,\"#46039f\"],[0.2222222222222222,\"#7201a8\"],[0.3333333333333333,\"#9c179e\"],[0.4444444444444444,\"#bd3786\"],[0.5555555555555556,\"#d8576b\"],[0.6666666666666666,\"#ed7953\"],[0.7777777777777778,\"#fb9f3a\"],[0.8888888888888888,\"#fdca26\"],[1.0,\"#f0f921\"]],\"sequentialminus\":[[0.0,\"#0d0887\"],[0.1111111111111111,\"#46039f\"],[0.2222222222222222,\"#7201a8\"],[0.3333333333333333,\"#9c179e\"],[0.4444444444444444,\"#bd3786\"],[0.5555555555555556,\"#d8576b\"],[0.6666666666666666,\"#ed7953\"],[0.7777777777777778,\"#fb9f3a\"],[0.8888888888888888,\"#fdca26\"],[1.0,\"#f0f921\"]]},\"colorway\":[\"#636efa\",\"#EF553B\",\"#00cc96\",\"#ab63fa\",\"#FFA15A\",\"#19d3f3\",\"#FF6692\",\"#B6E880\",\"#FF97FF\",\"#FECB52\"],\"font\":{\"color\":\"#f2f5fa\"},\"geo\":{\"bgcolor\":\"rgb(17,17,17)\",\"lakecolor\":\"rgb(17,17,17)\",\"landcolor\":\"rgb(17,17,17)\",\"showlakes\":true,\"showland\":true,\"subunitcolor\":\"#506784\"},\"hoverlabel\":{\"align\":\"left\"},\"hovermode\":\"closest\",\"mapbox\":{\"style\":\"dark\"},\"paper_bgcolor\":\"rgb(17,17,17)\",\"plot_bgcolor\":\"rgb(17,17,17)\",\"polar\":{\"angularaxis\":{\"gridcolor\":\"#506784\",\"linecolor\":\"#506784\",\"ticks\":\"\"},\"bgcolor\":\"rgb(17,17,17)\",\"radialaxis\":{\"gridcolor\":\"#506784\",\"linecolor\":\"#506784\",\"ticks\":\"\"}},\"scene\":{\"xaxis\":{\"backgroundcolor\":\"rgb(17,17,17)\",\"gridcolor\":\"#506784\",\"gridwidth\":2,\"linecolor\":\"#506784\",\"showbackground\":true,\"ticks\":\"\",\"zerolinecolor\":\"#C8D4E3\"},\"yaxis\":{\"backgroundcolor\":\"rgb(17,17,17)\",\"gridcolor\":\"#506784\",\"gridwidth\":2,\"linecolor\":\"#506784\",\"showbackground\":true,\"ticks\":\"\",\"zerolinecolor\":\"#C8D4E3\"},\"zaxis\":{\"backgroundcolor\":\"rgb(17,17,17)\",\"gridcolor\":\"#506784\",\"gridwidth\":2,\"linecolor\":\"#506784\",\"showbackground\":true,\"ticks\":\"\",\"zerolinecolor\":\"#C8D4E3\"}},\"shapedefaults\":{\"line\":{\"color\":\"#f2f5fa\"}},\"sliderdefaults\":{\"bgcolor\":\"#C8D4E3\",\"bordercolor\":\"rgb(17,17,17)\",\"borderwidth\":1,\"tickwidth\":0},\"ternary\":{\"aaxis\":{\"gridcolor\":\"#506784\",\"linecolor\":\"#506784\",\"ticks\":\"\"},\"baxis\":{\"gridcolor\":\"#506784\",\"linecolor\":\"#506784\",\"ticks\":\"\"},\"bgcolor\":\"rgb(17,17,17)\",\"caxis\":{\"gridcolor\":\"#506784\",\"linecolor\":\"#506784\",\"ticks\":\"\"}},\"title\":{\"x\":0.05},\"updatemenudefaults\":{\"bgcolor\":\"#506784\",\"borderwidth\":0},\"xaxis\":{\"automargin\":true,\"gridcolor\":\"#283442\",\"linecolor\":\"#506784\",\"ticks\":\"\",\"title\":{\"standoff\":15},\"zerolinecolor\":\"#283442\",\"zerolinewidth\":2},\"yaxis\":{\"automargin\":true,\"gridcolor\":\"#283442\",\"linecolor\":\"#506784\",\"ticks\":\"\",\"title\":{\"standoff\":15},\"zerolinecolor\":\"#283442\",\"zerolinewidth\":2}}},\"legend\":{\"tracegroupgap\":0},\"title\":{\"text\":\"Smoking Distribution\",\"x\":0.5},\"piecolorway\":[\"#440154\",\"#482878\",\"#3e4989\",\"#31688e\",\"#26828e\",\"#1f9e89\",\"#35b779\",\"#6ece58\",\"#b5de2b\",\"#fde725\"],\"width\":800,\"height\":600},                        {\"responsive\": true}                    ).then(function(){\n",
       "                            \n",
       "var gd = document.getElementById('f5c85495-6616-4dee-8f7b-ec291adc7fa3');\n",
       "var x = new MutationObserver(function (mutations, observer) {{\n",
       "        var display = window.getComputedStyle(gd).display;\n",
       "        if (!display || display === 'none') {{\n",
       "            console.log([gd, 'removed!']);\n",
       "            Plotly.purge(gd);\n",
       "            observer.disconnect();\n",
       "        }}\n",
       "}});\n",
       "\n",
       "// Listen for the removal of the full notebook cells\n",
       "var notebookContainer = gd.closest('#notebook-container');\n",
       "if (notebookContainer) {{\n",
       "    x.observe(notebookContainer, {childList: true});\n",
       "}}\n",
       "\n",
       "// Listen for the clearing of the current output cell\n",
       "var outputEl = gd.closest('.output');\n",
       "if (outputEl) {{\n",
       "    x.observe(outputEl, {childList: true});\n",
       "}}\n",
       "\n",
       "                        })                };                });            </script>        </div>"
      ]
     },
     "metadata": {},
     "output_type": "display_data"
    }
   ],
   "source": [
    "plt = px.pie(data, names=\"Smoking\", title=\"Smoking Distribution\", color_discrete_sequence=px.colors.sequential.Viridis)\n",
    "plt.update_layout(\n",
    "    title_x=0.5,\n",
    "    template=\"plotly_dark\",  \n",
    "    width=800,              \n",
    "    height=600 \n",
    ")\n",
    "plt.show()"
   ]
  },
  {
   "cell_type": "code",
   "execution_count": 25,
   "id": "a6fff6c5",
   "metadata": {
    "execution": {
     "iopub.execute_input": "2024-09-05T23:23:06.484357Z",
     "iopub.status.busy": "2024-09-05T23:23:06.483624Z",
     "iopub.status.idle": "2024-09-05T23:23:06.493296Z",
     "shell.execute_reply": "2024-09-05T23:23:06.492403Z"
    },
    "papermill": {
     "duration": 0.076216,
     "end_time": "2024-09-05T23:23:06.495398",
     "exception": false,
     "start_time": "2024-09-05T23:23:06.419182",
     "status": "completed"
    },
    "tags": []
   },
   "outputs": [
    {
     "data": {
      "text/plain": [
       "Gender  Smoking\n",
       "0       0          588\n",
       "        1          255\n",
       "1       0          616\n",
       "        1          241\n",
       "Name: Smoking, dtype: int64"
      ]
     },
     "execution_count": 25,
     "metadata": {},
     "output_type": "execute_result"
    }
   ],
   "source": [
    "### Smoking VS Gender\n",
    "data.groupby(['Gender','Smoking'])['Smoking'].count()"
   ]
  },
  {
   "cell_type": "code",
   "execution_count": 26,
   "id": "f8697d5f",
   "metadata": {
    "execution": {
     "iopub.execute_input": "2024-09-05T23:23:06.550811Z",
     "iopub.status.busy": "2024-09-05T23:23:06.549967Z",
     "iopub.status.idle": "2024-09-05T23:23:06.647190Z",
     "shell.execute_reply": "2024-09-05T23:23:06.646269Z"
    },
    "papermill": {
     "duration": 0.126969,
     "end_time": "2024-09-05T23:23:06.649145",
     "exception": false,
     "start_time": "2024-09-05T23:23:06.522176",
     "status": "completed"
    },
    "tags": []
   },
   "outputs": [
    {
     "data": {
      "text/html": [
       "<div>                            <div id=\"16fdc10e-6b04-43b2-ab5d-188862048ce7\" class=\"plotly-graph-div\" style=\"height:600px; width:800px;\"></div>            <script type=\"text/javascript\">                require([\"plotly\"], function(Plotly) {                    window.PLOTLYENV=window.PLOTLYENV || {};                                    if (document.getElementById(\"16fdc10e-6b04-43b2-ab5d-188862048ce7\")) {                    Plotly.newPlot(                        \"16fdc10e-6b04-43b2-ab5d-188862048ce7\",                        [{\"alignmentgroup\":\"True\",\"bingroup\":\"x\",\"hovertemplate\":\"color=Female\\u003cbr\\u003ex=%{x}\\u003cbr\\u003ecount=%{y}\\u003cextra\\u003e\\u003c\\u002fextra\\u003e\",\"legendgroup\":\"Female\",\"marker\":{\"color\":\"rgb(253, 224, 197)\",\"pattern\":{\"shape\":\"\"}},\"name\":\"Female\",\"offsetgroup\":\"Female\",\"orientation\":\"v\",\"showlegend\":true,\"texttemplate\":\"%{value}\",\"x\":[\"NO\",\"NO\",\"NO\",\"NO\",\"YES\",\"NO\",\"NO\",\"NO\",\"YES\",\"NO\",\"YES\",\"NO\",\"NO\",\"NO\",\"NO\",\"YES\",\"NO\",\"YES\",\"NO\",\"NO\",\"NO\",\"YES\",\"NO\",\"NO\",\"NO\",\"NO\",\"YES\",\"NO\",\"NO\",\"NO\",\"YES\",\"NO\",\"NO\",\"NO\",\"NO\",\"YES\",\"NO\",\"YES\",\"NO\",\"YES\",\"NO\",\"NO\",\"YES\",\"NO\",\"YES\",\"NO\",\"NO\",\"YES\",\"YES\",\"YES\",\"NO\",\"NO\",\"NO\",\"YES\",\"NO\",\"NO\",\"YES\",\"YES\",\"NO\",\"NO\",\"NO\",\"NO\",\"NO\",\"NO\",\"YES\",\"NO\",\"YES\",\"NO\",\"NO\",\"NO\",\"NO\",\"NO\",\"NO\",\"YES\",\"YES\",\"NO\",\"YES\",\"YES\",\"NO\",\"YES\",\"NO\",\"YES\",\"NO\",\"NO\",\"NO\",\"YES\",\"NO\",\"YES\",\"NO\",\"YES\",\"NO\",\"NO\",\"NO\",\"YES\",\"NO\",\"YES\",\"NO\",\"NO\",\"YES\",\"YES\",\"NO\",\"NO\",\"YES\",\"YES\",\"NO\",\"NO\",\"NO\",\"NO\",\"NO\",\"NO\",\"YES\",\"YES\",\"YES\",\"NO\",\"NO\",\"NO\",\"YES\",\"NO\",\"NO\",\"NO\",\"YES\",\"NO\",\"YES\",\"NO\",\"YES\",\"NO\",\"NO\",\"NO\",\"NO\",\"NO\",\"NO\",\"NO\",\"NO\",\"YES\",\"NO\",\"NO\",\"YES\",\"YES\",\"NO\",\"YES\",\"YES\",\"NO\",\"NO\",\"NO\",\"NO\",\"YES\",\"NO\",\"NO\",\"YES\",\"NO\",\"YES\",\"NO\",\"NO\",\"NO\",\"YES\",\"NO\",\"YES\",\"NO\",\"NO\",\"YES\",\"NO\",\"NO\",\"NO\",\"NO\",\"NO\",\"NO\",\"YES\",\"YES\",\"NO\",\"YES\",\"NO\",\"YES\",\"YES\",\"YES\",\"NO\",\"NO\",\"NO\",\"NO\",\"YES\",\"NO\",\"NO\",\"YES\",\"NO\",\"YES\",\"NO\",\"NO\",\"NO\",\"NO\",\"NO\",\"NO\",\"NO\",\"NO\",\"YES\",\"NO\",\"YES\",\"NO\",\"NO\",\"NO\",\"YES\",\"NO\",\"NO\",\"NO\",\"YES\",\"NO\",\"YES\",\"NO\",\"NO\",\"YES\",\"NO\",\"NO\",\"YES\",\"YES\",\"NO\",\"YES\",\"YES\",\"NO\",\"NO\",\"NO\",\"NO\",\"NO\",\"NO\",\"YES\",\"NO\",\"NO\",\"YES\",\"NO\",\"NO\",\"NO\",\"YES\",\"NO\",\"YES\",\"YES\",\"NO\",\"YES\",\"YES\",\"YES\",\"YES\",\"NO\",\"NO\",\"NO\",\"YES\",\"YES\",\"NO\",\"YES\",\"NO\",\"NO\",\"NO\",\"NO\",\"NO\",\"NO\",\"NO\",\"NO\",\"NO\",\"YES\",\"NO\",\"NO\",\"NO\",\"YES\",\"YES\",\"NO\",\"YES\",\"YES\",\"NO\",\"YES\",\"NO\",\"NO\",\"YES\",\"NO\",\"NO\",\"NO\",\"NO\",\"YES\",\"NO\",\"NO\",\"YES\",\"NO\",\"NO\",\"NO\",\"YES\",\"NO\",\"NO\",\"NO\",\"NO\",\"YES\",\"NO\",\"YES\",\"NO\",\"YES\",\"NO\",\"YES\",\"YES\",\"NO\",\"NO\",\"NO\",\"NO\",\"NO\",\"NO\",\"NO\",\"YES\",\"NO\",\"NO\",\"NO\",\"NO\",\"NO\",\"NO\",\"NO\",\"NO\",\"NO\",\"YES\",\"NO\",\"NO\",\"YES\",\"NO\",\"NO\",\"NO\",\"NO\",\"NO\",\"YES\",\"NO\",\"NO\",\"NO\",\"NO\",\"NO\",\"YES\",\"NO\",\"NO\",\"NO\",\"YES\",\"NO\",\"YES\",\"NO\",\"NO\",\"NO\",\"NO\",\"YES\",\"YES\",\"NO\",\"NO\",\"NO\",\"YES\",\"NO\",\"NO\",\"NO\",\"YES\",\"NO\",\"NO\",\"NO\",\"NO\",\"NO\",\"NO\",\"NO\",\"NO\",\"NO\",\"NO\",\"NO\",\"YES\",\"YES\",\"YES\",\"NO\",\"NO\",\"NO\",\"NO\",\"YES\",\"YES\",\"NO\",\"NO\",\"NO\",\"YES\",\"NO\",\"YES\",\"NO\",\"NO\",\"NO\",\"NO\",\"YES\",\"NO\",\"NO\",\"YES\",\"YES\",\"NO\",\"NO\",\"NO\",\"YES\",\"NO\",\"YES\",\"YES\",\"YES\",\"YES\",\"YES\",\"NO\",\"YES\",\"NO\",\"NO\",\"YES\",\"NO\",\"NO\",\"NO\",\"YES\",\"NO\",\"YES\",\"NO\",\"YES\",\"NO\",\"NO\",\"YES\",\"YES\",\"NO\",\"YES\",\"NO\",\"NO\",\"NO\",\"NO\",\"NO\",\"NO\",\"NO\",\"NO\",\"YES\",\"NO\",\"NO\",\"NO\",\"NO\",\"YES\",\"YES\",\"YES\",\"NO\",\"NO\",\"NO\",\"NO\",\"YES\",\"NO\",\"NO\",\"NO\",\"NO\",\"YES\",\"YES\",\"NO\",\"NO\",\"NO\",\"NO\",\"YES\",\"YES\",\"NO\",\"NO\",\"NO\",\"NO\",\"YES\",\"NO\",\"NO\",\"NO\",\"NO\",\"NO\",\"NO\",\"NO\",\"NO\",\"NO\",\"YES\",\"YES\",\"NO\",\"YES\",\"NO\",\"YES\",\"NO\",\"NO\",\"YES\",\"NO\",\"NO\",\"NO\",\"NO\",\"NO\",\"YES\",\"YES\",\"NO\",\"NO\",\"NO\",\"NO\",\"NO\",\"NO\",\"NO\",\"YES\",\"NO\",\"YES\",\"NO\",\"NO\",\"NO\",\"YES\",\"YES\",\"YES\",\"NO\",\"YES\",\"NO\",\"NO\",\"NO\",\"YES\",\"NO\",\"NO\",\"NO\",\"NO\",\"NO\",\"NO\",\"YES\",\"NO\",\"NO\",\"NO\",\"YES\",\"NO\",\"NO\",\"NO\",\"NO\",\"NO\",\"NO\",\"YES\",\"NO\",\"YES\",\"YES\",\"NO\",\"NO\",\"NO\",\"NO\",\"NO\",\"NO\",\"NO\",\"NO\",\"NO\",\"NO\",\"NO\",\"YES\",\"NO\",\"NO\",\"YES\",\"YES\",\"NO\",\"NO\",\"NO\",\"YES\",\"NO\",\"NO\",\"YES\",\"NO\",\"NO\",\"NO\",\"NO\",\"NO\",\"NO\",\"NO\",\"NO\",\"NO\",\"NO\",\"YES\",\"NO\",\"NO\",\"NO\",\"NO\",\"YES\",\"YES\",\"NO\",\"NO\",\"NO\",\"YES\",\"NO\",\"YES\",\"NO\",\"YES\",\"NO\",\"YES\",\"NO\",\"NO\",\"NO\",\"NO\",\"NO\",\"NO\",\"NO\",\"NO\",\"YES\",\"YES\",\"NO\",\"NO\",\"NO\",\"NO\",\"NO\",\"NO\",\"NO\",\"NO\",\"YES\",\"NO\",\"NO\",\"NO\",\"NO\",\"NO\",\"YES\",\"NO\",\"NO\",\"NO\",\"NO\",\"NO\",\"NO\",\"NO\",\"YES\",\"NO\",\"NO\",\"NO\",\"YES\",\"YES\",\"NO\",\"NO\",\"NO\",\"YES\",\"NO\",\"YES\",\"NO\",\"NO\",\"NO\",\"NO\",\"NO\",\"NO\",\"NO\",\"YES\",\"NO\",\"YES\",\"NO\",\"NO\",\"NO\",\"YES\",\"NO\",\"YES\",\"NO\",\"NO\",\"NO\",\"NO\",\"NO\",\"YES\",\"YES\",\"NO\",\"YES\",\"NO\",\"NO\",\"NO\",\"YES\",\"NO\",\"YES\",\"NO\",\"NO\",\"YES\",\"NO\",\"YES\",\"NO\",\"YES\",\"NO\",\"YES\",\"NO\",\"NO\",\"NO\",\"NO\",\"NO\",\"NO\",\"NO\",\"NO\",\"NO\",\"NO\",\"YES\",\"NO\",\"YES\",\"NO\",\"NO\",\"YES\",\"YES\",\"NO\",\"NO\",\"NO\",\"NO\",\"NO\",\"NO\",\"NO\",\"YES\",\"NO\",\"YES\",\"NO\",\"NO\",\"NO\",\"YES\",\"YES\",\"NO\",\"NO\",\"NO\",\"NO\",\"YES\",\"NO\",\"YES\",\"NO\",\"NO\",\"YES\",\"NO\",\"YES\",\"YES\",\"YES\",\"NO\",\"NO\",\"YES\",\"NO\",\"NO\",\"YES\",\"YES\",\"NO\",\"NO\",\"YES\",\"NO\",\"NO\",\"NO\",\"NO\",\"NO\",\"NO\",\"NO\",\"NO\",\"YES\",\"NO\",\"NO\",\"YES\",\"NO\",\"NO\",\"NO\",\"YES\",\"NO\",\"YES\",\"NO\",\"YES\",\"YES\",\"NO\",\"NO\",\"NO\",\"YES\",\"NO\",\"NO\",\"NO\",\"NO\",\"NO\",\"YES\",\"YES\",\"NO\",\"NO\",\"NO\",\"NO\",\"NO\",\"YES\",\"NO\",\"NO\",\"NO\",\"NO\",\"NO\",\"NO\",\"YES\",\"NO\",\"NO\",\"YES\",\"NO\",\"NO\",\"NO\",\"YES\",\"YES\",\"NO\",\"YES\",\"YES\",\"NO\",\"NO\",\"NO\",\"NO\",\"NO\",\"NO\",\"NO\",\"NO\",\"NO\",\"YES\",\"NO\",\"NO\",\"NO\",\"YES\",\"NO\",\"YES\",\"YES\",\"NO\",\"NO\",\"NO\",\"NO\",\"NO\",\"NO\",\"YES\",\"NO\",\"YES\",\"NO\",\"YES\",\"NO\",\"NO\",\"NO\",\"NO\",\"NO\",\"NO\",\"NO\",\"NO\",\"NO\",\"NO\",\"NO\",\"YES\",\"YES\",\"NO\",\"NO\",\"NO\",\"NO\",\"NO\",\"NO\",\"YES\",\"YES\",\"YES\",\"NO\",\"NO\",\"NO\",\"NO\",\"NO\",\"NO\",\"NO\",\"YES\",\"YES\",\"NO\",\"YES\",\"NO\",\"NO\",\"NO\",\"YES\",\"YES\",\"YES\",\"NO\",\"YES\",\"NO\",\"YES\",\"NO\",\"NO\",\"NO\",\"NO\",\"YES\",\"YES\",\"NO\",\"NO\",\"NO\",\"YES\",\"NO\",\"NO\"],\"xaxis\":\"x\",\"yaxis\":\"y\",\"type\":\"histogram\"},{\"alignmentgroup\":\"True\",\"bingroup\":\"x\",\"hovertemplate\":\"color=Male\\u003cbr\\u003ex=%{x}\\u003cbr\\u003ecount=%{y}\\u003cextra\\u003e\\u003c\\u002fextra\\u003e\",\"legendgroup\":\"Male\",\"marker\":{\"color\":\"rgb(250, 203, 166)\",\"pattern\":{\"shape\":\"\"}},\"name\":\"Male\",\"offsetgroup\":\"Male\",\"orientation\":\"v\",\"showlegend\":true,\"texttemplate\":\"%{value}\",\"x\":[\"NO\",\"NO\",\"NO\",\"NO\",\"YES\",\"NO\",\"YES\",\"YES\",\"YES\",\"NO\",\"NO\",\"NO\",\"NO\",\"NO\",\"NO\",\"YES\",\"NO\",\"NO\",\"NO\",\"NO\",\"NO\",\"NO\",\"NO\",\"YES\",\"NO\",\"NO\",\"NO\",\"YES\",\"NO\",\"NO\",\"YES\",\"NO\",\"NO\",\"NO\",\"NO\",\"NO\",\"NO\",\"NO\",\"NO\",\"YES\",\"YES\",\"NO\",\"NO\",\"NO\",\"NO\",\"NO\",\"YES\",\"NO\",\"NO\",\"NO\",\"YES\",\"NO\",\"NO\",\"NO\",\"NO\",\"YES\",\"YES\",\"NO\",\"NO\",\"NO\",\"YES\",\"NO\",\"NO\",\"NO\",\"NO\",\"NO\",\"YES\",\"NO\",\"NO\",\"NO\",\"NO\",\"YES\",\"NO\",\"NO\",\"NO\",\"NO\",\"YES\",\"NO\",\"NO\",\"NO\",\"YES\",\"NO\",\"NO\",\"YES\",\"YES\",\"NO\",\"NO\",\"NO\",\"NO\",\"YES\",\"NO\",\"YES\",\"NO\",\"NO\",\"NO\",\"YES\",\"NO\",\"YES\",\"NO\",\"YES\",\"NO\",\"NO\",\"NO\",\"NO\",\"NO\",\"NO\",\"NO\",\"NO\",\"NO\",\"YES\",\"YES\",\"NO\",\"NO\",\"NO\",\"NO\",\"NO\",\"YES\",\"NO\",\"YES\",\"NO\",\"NO\",\"YES\",\"NO\",\"NO\",\"NO\",\"NO\",\"NO\",\"YES\",\"NO\",\"YES\",\"YES\",\"NO\",\"NO\",\"NO\",\"NO\",\"NO\",\"YES\",\"NO\",\"NO\",\"NO\",\"NO\",\"NO\",\"YES\",\"NO\",\"YES\",\"NO\",\"YES\",\"NO\",\"YES\",\"NO\",\"NO\",\"YES\",\"NO\",\"NO\",\"NO\",\"NO\",\"NO\",\"YES\",\"YES\",\"NO\",\"NO\",\"NO\",\"NO\",\"NO\",\"NO\",\"NO\",\"NO\",\"NO\",\"NO\",\"NO\",\"NO\",\"NO\",\"NO\",\"NO\",\"YES\",\"NO\",\"NO\",\"YES\",\"NO\",\"NO\",\"YES\",\"NO\",\"NO\",\"NO\",\"NO\",\"NO\",\"NO\",\"NO\",\"NO\",\"NO\",\"NO\",\"NO\",\"NO\",\"NO\",\"YES\",\"NO\",\"YES\",\"NO\",\"NO\",\"NO\",\"NO\",\"YES\",\"NO\",\"NO\",\"YES\",\"NO\",\"YES\",\"NO\",\"NO\",\"NO\",\"NO\",\"NO\",\"NO\",\"NO\",\"YES\",\"NO\",\"YES\",\"YES\",\"NO\",\"NO\",\"NO\",\"NO\",\"NO\",\"YES\",\"NO\",\"NO\",\"NO\",\"YES\",\"YES\",\"YES\",\"NO\",\"NO\",\"NO\",\"YES\",\"NO\",\"NO\",\"NO\",\"NO\",\"NO\",\"NO\",\"NO\",\"NO\",\"NO\",\"YES\",\"NO\",\"NO\",\"YES\",\"YES\",\"NO\",\"NO\",\"YES\",\"YES\",\"NO\",\"NO\",\"NO\",\"YES\",\"YES\",\"NO\",\"YES\",\"NO\",\"NO\",\"YES\",\"YES\",\"NO\",\"NO\",\"NO\",\"NO\",\"NO\",\"YES\",\"NO\",\"NO\",\"NO\",\"NO\",\"NO\",\"NO\",\"YES\",\"NO\",\"NO\",\"NO\",\"NO\",\"NO\",\"NO\",\"NO\",\"NO\",\"NO\",\"NO\",\"NO\",\"NO\",\"NO\",\"NO\",\"YES\",\"NO\",\"NO\",\"NO\",\"YES\",\"YES\",\"NO\",\"NO\",\"NO\",\"YES\",\"YES\",\"YES\",\"NO\",\"NO\",\"YES\",\"NO\",\"NO\",\"NO\",\"NO\",\"NO\",\"YES\",\"NO\",\"NO\",\"NO\",\"YES\",\"NO\",\"YES\",\"YES\",\"NO\",\"NO\",\"NO\",\"YES\",\"NO\",\"YES\",\"NO\",\"NO\",\"NO\",\"YES\",\"YES\",\"NO\",\"NO\",\"NO\",\"NO\",\"NO\",\"NO\",\"YES\",\"NO\",\"NO\",\"NO\",\"NO\",\"YES\",\"NO\",\"NO\",\"YES\",\"NO\",\"YES\",\"NO\",\"NO\",\"NO\",\"NO\",\"YES\",\"NO\",\"NO\",\"YES\",\"NO\",\"YES\",\"NO\",\"NO\",\"NO\",\"YES\",\"NO\",\"NO\",\"NO\",\"NO\",\"NO\",\"NO\",\"NO\",\"NO\",\"NO\",\"NO\",\"NO\",\"YES\",\"YES\",\"NO\",\"NO\",\"NO\",\"NO\",\"YES\",\"NO\",\"YES\",\"NO\",\"NO\",\"NO\",\"NO\",\"NO\",\"NO\",\"YES\",\"YES\",\"NO\",\"NO\",\"NO\",\"YES\",\"NO\",\"NO\",\"NO\",\"YES\",\"NO\",\"NO\",\"NO\",\"YES\",\"NO\",\"NO\",\"NO\",\"YES\",\"NO\",\"NO\",\"YES\",\"NO\",\"YES\",\"NO\",\"NO\",\"YES\",\"NO\",\"NO\",\"YES\",\"NO\",\"NO\",\"YES\",\"YES\",\"NO\",\"YES\",\"NO\",\"YES\",\"NO\",\"NO\",\"NO\",\"NO\",\"NO\",\"YES\",\"YES\",\"NO\",\"YES\",\"NO\",\"YES\",\"NO\",\"YES\",\"YES\",\"NO\",\"NO\",\"NO\",\"NO\",\"NO\",\"NO\",\"YES\",\"NO\",\"NO\",\"NO\",\"NO\",\"YES\",\"NO\",\"YES\",\"NO\",\"NO\",\"NO\",\"YES\",\"YES\",\"NO\",\"NO\",\"YES\",\"NO\",\"NO\",\"NO\",\"NO\",\"NO\",\"NO\",\"NO\",\"NO\",\"NO\",\"YES\",\"NO\",\"NO\",\"YES\",\"NO\",\"NO\",\"YES\",\"YES\",\"NO\",\"NO\",\"NO\",\"NO\",\"NO\",\"NO\",\"NO\",\"NO\",\"NO\",\"NO\",\"NO\",\"NO\",\"YES\",\"NO\",\"NO\",\"NO\",\"NO\",\"NO\",\"YES\",\"YES\",\"YES\",\"NO\",\"YES\",\"NO\",\"NO\",\"YES\",\"YES\",\"NO\",\"YES\",\"YES\",\"NO\",\"NO\",\"NO\",\"NO\",\"NO\",\"NO\",\"NO\",\"NO\",\"NO\",\"NO\",\"YES\",\"NO\",\"NO\",\"YES\",\"NO\",\"NO\",\"YES\",\"NO\",\"YES\",\"NO\",\"YES\",\"NO\",\"NO\",\"NO\",\"NO\",\"NO\",\"NO\",\"YES\",\"NO\",\"NO\",\"YES\",\"NO\",\"NO\",\"NO\",\"YES\",\"NO\",\"NO\",\"NO\",\"NO\",\"NO\",\"NO\",\"NO\",\"YES\",\"NO\",\"NO\",\"NO\",\"NO\",\"YES\",\"NO\",\"NO\",\"YES\",\"YES\",\"NO\",\"NO\",\"YES\",\"YES\",\"YES\",\"NO\",\"NO\",\"NO\",\"YES\",\"YES\",\"NO\",\"NO\",\"NO\",\"YES\",\"NO\",\"YES\",\"NO\",\"YES\",\"YES\",\"NO\",\"NO\",\"NO\",\"NO\",\"YES\",\"NO\",\"NO\",\"NO\",\"NO\",\"YES\",\"YES\",\"NO\",\"NO\",\"NO\",\"YES\",\"NO\",\"NO\",\"NO\",\"YES\",\"NO\",\"YES\",\"NO\",\"YES\",\"NO\",\"YES\",\"NO\",\"YES\",\"NO\",\"NO\",\"YES\",\"NO\",\"NO\",\"NO\",\"YES\",\"YES\",\"YES\",\"NO\",\"NO\",\"YES\",\"NO\",\"NO\",\"NO\",\"NO\",\"NO\",\"NO\",\"NO\",\"YES\",\"NO\",\"NO\",\"NO\",\"YES\",\"YES\",\"YES\",\"NO\",\"NO\",\"NO\",\"NO\",\"NO\",\"NO\",\"NO\",\"NO\",\"YES\",\"YES\",\"YES\",\"NO\",\"NO\",\"YES\",\"NO\",\"NO\",\"NO\",\"NO\",\"YES\",\"YES\",\"NO\",\"YES\",\"YES\",\"YES\",\"NO\",\"NO\",\"YES\",\"YES\",\"NO\",\"NO\",\"NO\",\"NO\",\"YES\",\"NO\",\"YES\",\"NO\",\"YES\",\"NO\",\"NO\",\"NO\",\"YES\",\"NO\",\"NO\",\"NO\",\"YES\",\"NO\",\"NO\",\"YES\",\"NO\",\"YES\",\"NO\",\"NO\",\"NO\",\"NO\",\"YES\",\"YES\",\"NO\",\"NO\",\"YES\",\"NO\",\"NO\",\"NO\",\"NO\",\"YES\",\"NO\",\"NO\",\"NO\",\"YES\",\"NO\",\"NO\",\"NO\",\"NO\",\"NO\",\"NO\",\"YES\",\"NO\",\"NO\",\"YES\",\"NO\",\"NO\",\"YES\",\"NO\",\"YES\",\"YES\",\"NO\",\"NO\",\"NO\",\"NO\",\"NO\",\"NO\",\"NO\",\"NO\",\"YES\",\"NO\",\"NO\",\"NO\",\"YES\",\"YES\",\"NO\",\"NO\",\"NO\",\"NO\",\"NO\",\"NO\",\"NO\",\"NO\",\"YES\",\"YES\",\"NO\",\"NO\",\"NO\",\"YES\",\"YES\",\"YES\",\"NO\",\"NO\",\"NO\",\"NO\",\"NO\",\"NO\",\"NO\",\"NO\",\"NO\",\"NO\",\"YES\",\"NO\",\"NO\",\"NO\",\"YES\",\"NO\",\"YES\",\"NO\",\"YES\",\"NO\",\"NO\",\"NO\",\"NO\",\"NO\",\"NO\",\"YES\",\"NO\",\"NO\",\"NO\",\"NO\",\"YES\",\"YES\",\"NO\",\"NO\",\"NO\",\"YES\",\"NO\",\"NO\",\"NO\",\"YES\",\"NO\",\"NO\",\"NO\",\"NO\",\"NO\",\"NO\",\"NO\",\"NO\",\"NO\",\"YES\",\"NO\",\"NO\",\"YES\",\"NO\",\"YES\",\"NO\",\"NO\",\"YES\",\"NO\",\"YES\",\"YES\",\"YES\",\"NO\",\"YES\",\"YES\",\"YES\",\"NO\",\"NO\",\"YES\",\"NO\",\"YES\",\"NO\",\"NO\",\"YES\",\"NO\",\"NO\",\"NO\",\"NO\",\"NO\",\"NO\",\"NO\",\"NO\",\"NO\",\"NO\",\"NO\",\"NO\",\"YES\",\"NO\",\"NO\",\"NO\",\"NO\",\"YES\",\"YES\",\"NO\",\"NO\",\"NO\",\"NO\",\"NO\",\"YES\",\"YES\",\"YES\",\"NO\",\"NO\",\"NO\",\"NO\",\"YES\",\"NO\",\"NO\",\"NO\",\"NO\",\"NO\",\"YES\",\"NO\"],\"xaxis\":\"x\",\"yaxis\":\"y\",\"type\":\"histogram\"}],                        {\"template\":{\"data\":{\"barpolar\":[{\"marker\":{\"line\":{\"color\":\"rgb(17,17,17)\",\"width\":0.5},\"pattern\":{\"fillmode\":\"overlay\",\"size\":10,\"solidity\":0.2}},\"type\":\"barpolar\"}],\"bar\":[{\"error_x\":{\"color\":\"#f2f5fa\"},\"error_y\":{\"color\":\"#f2f5fa\"},\"marker\":{\"line\":{\"color\":\"rgb(17,17,17)\",\"width\":0.5},\"pattern\":{\"fillmode\":\"overlay\",\"size\":10,\"solidity\":0.2}},\"type\":\"bar\"}],\"carpet\":[{\"aaxis\":{\"endlinecolor\":\"#A2B1C6\",\"gridcolor\":\"#506784\",\"linecolor\":\"#506784\",\"minorgridcolor\":\"#506784\",\"startlinecolor\":\"#A2B1C6\"},\"baxis\":{\"endlinecolor\":\"#A2B1C6\",\"gridcolor\":\"#506784\",\"linecolor\":\"#506784\",\"minorgridcolor\":\"#506784\",\"startlinecolor\":\"#A2B1C6\"},\"type\":\"carpet\"}],\"choropleth\":[{\"colorbar\":{\"outlinewidth\":0,\"ticks\":\"\"},\"type\":\"choropleth\"}],\"contourcarpet\":[{\"colorbar\":{\"outlinewidth\":0,\"ticks\":\"\"},\"type\":\"contourcarpet\"}],\"contour\":[{\"colorbar\":{\"outlinewidth\":0,\"ticks\":\"\"},\"colorscale\":[[0.0,\"#0d0887\"],[0.1111111111111111,\"#46039f\"],[0.2222222222222222,\"#7201a8\"],[0.3333333333333333,\"#9c179e\"],[0.4444444444444444,\"#bd3786\"],[0.5555555555555556,\"#d8576b\"],[0.6666666666666666,\"#ed7953\"],[0.7777777777777778,\"#fb9f3a\"],[0.8888888888888888,\"#fdca26\"],[1.0,\"#f0f921\"]],\"type\":\"contour\"}],\"heatmapgl\":[{\"colorbar\":{\"outlinewidth\":0,\"ticks\":\"\"},\"colorscale\":[[0.0,\"#0d0887\"],[0.1111111111111111,\"#46039f\"],[0.2222222222222222,\"#7201a8\"],[0.3333333333333333,\"#9c179e\"],[0.4444444444444444,\"#bd3786\"],[0.5555555555555556,\"#d8576b\"],[0.6666666666666666,\"#ed7953\"],[0.7777777777777778,\"#fb9f3a\"],[0.8888888888888888,\"#fdca26\"],[1.0,\"#f0f921\"]],\"type\":\"heatmapgl\"}],\"heatmap\":[{\"colorbar\":{\"outlinewidth\":0,\"ticks\":\"\"},\"colorscale\":[[0.0,\"#0d0887\"],[0.1111111111111111,\"#46039f\"],[0.2222222222222222,\"#7201a8\"],[0.3333333333333333,\"#9c179e\"],[0.4444444444444444,\"#bd3786\"],[0.5555555555555556,\"#d8576b\"],[0.6666666666666666,\"#ed7953\"],[0.7777777777777778,\"#fb9f3a\"],[0.8888888888888888,\"#fdca26\"],[1.0,\"#f0f921\"]],\"type\":\"heatmap\"}],\"histogram2dcontour\":[{\"colorbar\":{\"outlinewidth\":0,\"ticks\":\"\"},\"colorscale\":[[0.0,\"#0d0887\"],[0.1111111111111111,\"#46039f\"],[0.2222222222222222,\"#7201a8\"],[0.3333333333333333,\"#9c179e\"],[0.4444444444444444,\"#bd3786\"],[0.5555555555555556,\"#d8576b\"],[0.6666666666666666,\"#ed7953\"],[0.7777777777777778,\"#fb9f3a\"],[0.8888888888888888,\"#fdca26\"],[1.0,\"#f0f921\"]],\"type\":\"histogram2dcontour\"}],\"histogram2d\":[{\"colorbar\":{\"outlinewidth\":0,\"ticks\":\"\"},\"colorscale\":[[0.0,\"#0d0887\"],[0.1111111111111111,\"#46039f\"],[0.2222222222222222,\"#7201a8\"],[0.3333333333333333,\"#9c179e\"],[0.4444444444444444,\"#bd3786\"],[0.5555555555555556,\"#d8576b\"],[0.6666666666666666,\"#ed7953\"],[0.7777777777777778,\"#fb9f3a\"],[0.8888888888888888,\"#fdca26\"],[1.0,\"#f0f921\"]],\"type\":\"histogram2d\"}],\"histogram\":[{\"marker\":{\"pattern\":{\"fillmode\":\"overlay\",\"size\":10,\"solidity\":0.2}},\"type\":\"histogram\"}],\"mesh3d\":[{\"colorbar\":{\"outlinewidth\":0,\"ticks\":\"\"},\"type\":\"mesh3d\"}],\"parcoords\":[{\"line\":{\"colorbar\":{\"outlinewidth\":0,\"ticks\":\"\"}},\"type\":\"parcoords\"}],\"pie\":[{\"automargin\":true,\"type\":\"pie\"}],\"scatter3d\":[{\"line\":{\"colorbar\":{\"outlinewidth\":0,\"ticks\":\"\"}},\"marker\":{\"colorbar\":{\"outlinewidth\":0,\"ticks\":\"\"}},\"type\":\"scatter3d\"}],\"scattercarpet\":[{\"marker\":{\"colorbar\":{\"outlinewidth\":0,\"ticks\":\"\"}},\"type\":\"scattercarpet\"}],\"scattergeo\":[{\"marker\":{\"colorbar\":{\"outlinewidth\":0,\"ticks\":\"\"}},\"type\":\"scattergeo\"}],\"scattergl\":[{\"marker\":{\"line\":{\"color\":\"#283442\"}},\"type\":\"scattergl\"}],\"scattermapbox\":[{\"marker\":{\"colorbar\":{\"outlinewidth\":0,\"ticks\":\"\"}},\"type\":\"scattermapbox\"}],\"scatterpolargl\":[{\"marker\":{\"colorbar\":{\"outlinewidth\":0,\"ticks\":\"\"}},\"type\":\"scatterpolargl\"}],\"scatterpolar\":[{\"marker\":{\"colorbar\":{\"outlinewidth\":0,\"ticks\":\"\"}},\"type\":\"scatterpolar\"}],\"scatter\":[{\"marker\":{\"line\":{\"color\":\"#283442\"}},\"type\":\"scatter\"}],\"scatterternary\":[{\"marker\":{\"colorbar\":{\"outlinewidth\":0,\"ticks\":\"\"}},\"type\":\"scatterternary\"}],\"surface\":[{\"colorbar\":{\"outlinewidth\":0,\"ticks\":\"\"},\"colorscale\":[[0.0,\"#0d0887\"],[0.1111111111111111,\"#46039f\"],[0.2222222222222222,\"#7201a8\"],[0.3333333333333333,\"#9c179e\"],[0.4444444444444444,\"#bd3786\"],[0.5555555555555556,\"#d8576b\"],[0.6666666666666666,\"#ed7953\"],[0.7777777777777778,\"#fb9f3a\"],[0.8888888888888888,\"#fdca26\"],[1.0,\"#f0f921\"]],\"type\":\"surface\"}],\"table\":[{\"cells\":{\"fill\":{\"color\":\"#506784\"},\"line\":{\"color\":\"rgb(17,17,17)\"}},\"header\":{\"fill\":{\"color\":\"#2a3f5f\"},\"line\":{\"color\":\"rgb(17,17,17)\"}},\"type\":\"table\"}]},\"layout\":{\"annotationdefaults\":{\"arrowcolor\":\"#f2f5fa\",\"arrowhead\":0,\"arrowwidth\":1},\"autotypenumbers\":\"strict\",\"coloraxis\":{\"colorbar\":{\"outlinewidth\":0,\"ticks\":\"\"}},\"colorscale\":{\"diverging\":[[0,\"#8e0152\"],[0.1,\"#c51b7d\"],[0.2,\"#de77ae\"],[0.3,\"#f1b6da\"],[0.4,\"#fde0ef\"],[0.5,\"#f7f7f7\"],[0.6,\"#e6f5d0\"],[0.7,\"#b8e186\"],[0.8,\"#7fbc41\"],[0.9,\"#4d9221\"],[1,\"#276419\"]],\"sequential\":[[0.0,\"#0d0887\"],[0.1111111111111111,\"#46039f\"],[0.2222222222222222,\"#7201a8\"],[0.3333333333333333,\"#9c179e\"],[0.4444444444444444,\"#bd3786\"],[0.5555555555555556,\"#d8576b\"],[0.6666666666666666,\"#ed7953\"],[0.7777777777777778,\"#fb9f3a\"],[0.8888888888888888,\"#fdca26\"],[1.0,\"#f0f921\"]],\"sequentialminus\":[[0.0,\"#0d0887\"],[0.1111111111111111,\"#46039f\"],[0.2222222222222222,\"#7201a8\"],[0.3333333333333333,\"#9c179e\"],[0.4444444444444444,\"#bd3786\"],[0.5555555555555556,\"#d8576b\"],[0.6666666666666666,\"#ed7953\"],[0.7777777777777778,\"#fb9f3a\"],[0.8888888888888888,\"#fdca26\"],[1.0,\"#f0f921\"]]},\"colorway\":[\"#636efa\",\"#EF553B\",\"#00cc96\",\"#ab63fa\",\"#FFA15A\",\"#19d3f3\",\"#FF6692\",\"#B6E880\",\"#FF97FF\",\"#FECB52\"],\"font\":{\"color\":\"#f2f5fa\"},\"geo\":{\"bgcolor\":\"rgb(17,17,17)\",\"lakecolor\":\"rgb(17,17,17)\",\"landcolor\":\"rgb(17,17,17)\",\"showlakes\":true,\"showland\":true,\"subunitcolor\":\"#506784\"},\"hoverlabel\":{\"align\":\"left\"},\"hovermode\":\"closest\",\"mapbox\":{\"style\":\"dark\"},\"paper_bgcolor\":\"rgb(17,17,17)\",\"plot_bgcolor\":\"rgb(17,17,17)\",\"polar\":{\"angularaxis\":{\"gridcolor\":\"#506784\",\"linecolor\":\"#506784\",\"ticks\":\"\"},\"bgcolor\":\"rgb(17,17,17)\",\"radialaxis\":{\"gridcolor\":\"#506784\",\"linecolor\":\"#506784\",\"ticks\":\"\"}},\"scene\":{\"xaxis\":{\"backgroundcolor\":\"rgb(17,17,17)\",\"gridcolor\":\"#506784\",\"gridwidth\":2,\"linecolor\":\"#506784\",\"showbackground\":true,\"ticks\":\"\",\"zerolinecolor\":\"#C8D4E3\"},\"yaxis\":{\"backgroundcolor\":\"rgb(17,17,17)\",\"gridcolor\":\"#506784\",\"gridwidth\":2,\"linecolor\":\"#506784\",\"showbackground\":true,\"ticks\":\"\",\"zerolinecolor\":\"#C8D4E3\"},\"zaxis\":{\"backgroundcolor\":\"rgb(17,17,17)\",\"gridcolor\":\"#506784\",\"gridwidth\":2,\"linecolor\":\"#506784\",\"showbackground\":true,\"ticks\":\"\",\"zerolinecolor\":\"#C8D4E3\"}},\"shapedefaults\":{\"line\":{\"color\":\"#f2f5fa\"}},\"sliderdefaults\":{\"bgcolor\":\"#C8D4E3\",\"bordercolor\":\"rgb(17,17,17)\",\"borderwidth\":1,\"tickwidth\":0},\"ternary\":{\"aaxis\":{\"gridcolor\":\"#506784\",\"linecolor\":\"#506784\",\"ticks\":\"\"},\"baxis\":{\"gridcolor\":\"#506784\",\"linecolor\":\"#506784\",\"ticks\":\"\"},\"bgcolor\":\"rgb(17,17,17)\",\"caxis\":{\"gridcolor\":\"#506784\",\"linecolor\":\"#506784\",\"ticks\":\"\"}},\"title\":{\"x\":0.05},\"updatemenudefaults\":{\"bgcolor\":\"#506784\",\"borderwidth\":0},\"xaxis\":{\"automargin\":true,\"gridcolor\":\"#283442\",\"linecolor\":\"#506784\",\"ticks\":\"\",\"title\":{\"standoff\":15},\"zerolinecolor\":\"#283442\",\"zerolinewidth\":2},\"yaxis\":{\"automargin\":true,\"gridcolor\":\"#283442\",\"linecolor\":\"#506784\",\"ticks\":\"\",\"title\":{\"standoff\":15},\"zerolinecolor\":\"#283442\",\"zerolinewidth\":2}}},\"xaxis\":{\"anchor\":\"y\",\"domain\":[0.0,1.0],\"title\":{\"text\":\"Smoking\"}},\"yaxis\":{\"anchor\":\"x\",\"domain\":[0.0,1.0],\"title\":{\"text\":\"Count\"}},\"legend\":{\"title\":{\"text\":\"color\"},\"tracegroupgap\":0},\"title\":{\"text\":\"Smoking Distribution by Gender\",\"x\":0.5},\"barmode\":\"stack\",\"width\":800,\"height\":600},                        {\"responsive\": true}                    ).then(function(){\n",
       "                            \n",
       "var gd = document.getElementById('16fdc10e-6b04-43b2-ab5d-188862048ce7');\n",
       "var x = new MutationObserver(function (mutations, observer) {{\n",
       "        var display = window.getComputedStyle(gd).display;\n",
       "        if (!display || display === 'none') {{\n",
       "            console.log([gd, 'removed!']);\n",
       "            Plotly.purge(gd);\n",
       "            observer.disconnect();\n",
       "        }}\n",
       "}});\n",
       "\n",
       "// Listen for the removal of the full notebook cells\n",
       "var notebookContainer = gd.closest('#notebook-container');\n",
       "if (notebookContainer) {{\n",
       "    x.observe(notebookContainer, {childList: true});\n",
       "}}\n",
       "\n",
       "// Listen for the clearing of the current output cell\n",
       "var outputEl = gd.closest('.output');\n",
       "if (outputEl) {{\n",
       "    x.observe(outputEl, {childList: true});\n",
       "}}\n",
       "\n",
       "                        })                };                });            </script>        </div>"
      ]
     },
     "metadata": {},
     "output_type": "display_data"
    }
   ],
   "source": [
    "plt = px.histogram(x=data[\"Smoking\"].map({0: 'NO', 1: 'YES'}), color=data[\"Gender\"].map({0: 'Female', 1: 'Male'}), \n",
    "             title=\"Smoking Distribution by Gender\",\n",
    "             barmode='stack', \n",
    "             text_auto=True, \n",
    "             color_discrete_sequence=px.colors.sequential.Peach)\n",
    "plt.update_layout(\n",
    "    title_x=0.5,\n",
    "    template=\"plotly_dark\",  \n",
    "    width=800,              \n",
    "    height=600,\n",
    "    xaxis_title=\"Smoking\",\n",
    "    yaxis_title=\"Count\"\n",
    ")\n",
    "plt.show()"
   ]
  },
  {
   "cell_type": "code",
   "execution_count": 27,
   "id": "89ddafc2",
   "metadata": {
    "execution": {
     "iopub.execute_input": "2024-09-05T23:23:06.704099Z",
     "iopub.status.busy": "2024-09-05T23:23:06.703759Z",
     "iopub.status.idle": "2024-09-05T23:23:06.712708Z",
     "shell.execute_reply": "2024-09-05T23:23:06.711758Z"
    },
    "papermill": {
     "duration": 0.038564,
     "end_time": "2024-09-05T23:23:06.714912",
     "exception": false,
     "start_time": "2024-09-05T23:23:06.676348",
     "status": "completed"
    },
    "tags": []
   },
   "outputs": [
    {
     "data": {
      "text/html": [
       "<div>\n",
       "<style scoped>\n",
       "    .dataframe tbody tr th:only-of-type {\n",
       "        vertical-align: middle;\n",
       "    }\n",
       "\n",
       "    .dataframe tbody tr th {\n",
       "        vertical-align: top;\n",
       "    }\n",
       "\n",
       "    .dataframe thead th {\n",
       "        text-align: right;\n",
       "    }\n",
       "</style>\n",
       "<table border=\"1\" class=\"dataframe\">\n",
       "  <thead>\n",
       "    <tr style=\"text-align: right;\">\n",
       "      <th></th>\n",
       "      <th>count</th>\n",
       "    </tr>\n",
       "    <tr>\n",
       "      <th>GeneticRisk</th>\n",
       "      <th></th>\n",
       "    </tr>\n",
       "  </thead>\n",
       "  <tbody>\n",
       "    <tr>\n",
       "      <th>0</th>\n",
       "      <td>978</td>\n",
       "    </tr>\n",
       "    <tr>\n",
       "      <th>1</th>\n",
       "      <td>557</td>\n",
       "    </tr>\n",
       "    <tr>\n",
       "      <th>2</th>\n",
       "      <td>165</td>\n",
       "    </tr>\n",
       "  </tbody>\n",
       "</table>\n",
       "</div>"
      ],
      "text/plain": [
       "             count\n",
       "GeneticRisk       \n",
       "0              978\n",
       "1              557\n",
       "2              165"
      ]
     },
     "execution_count": 27,
     "metadata": {},
     "output_type": "execute_result"
    }
   ],
   "source": [
    "### GeneticRisk Distrbution\n",
    "data.GeneticRisk.value_counts().to_frame()"
   ]
  },
  {
   "cell_type": "code",
   "execution_count": 28,
   "id": "cc83387e",
   "metadata": {
    "execution": {
     "iopub.execute_input": "2024-09-05T23:23:06.771209Z",
     "iopub.status.busy": "2024-09-05T23:23:06.770834Z",
     "iopub.status.idle": "2024-09-05T23:23:06.843917Z",
     "shell.execute_reply": "2024-09-05T23:23:06.842991Z"
    },
    "papermill": {
     "duration": 0.103331,
     "end_time": "2024-09-05T23:23:06.845947",
     "exception": false,
     "start_time": "2024-09-05T23:23:06.742616",
     "status": "completed"
    },
    "tags": []
   },
   "outputs": [
    {
     "data": {
      "text/html": [
       "<div>                            <div id=\"a5a8040a-f9d5-4547-8f8c-58976423041c\" class=\"plotly-graph-div\" style=\"height:600px; width:800px;\"></div>            <script type=\"text/javascript\">                require([\"plotly\"], function(Plotly) {                    window.PLOTLYENV=window.PLOTLYENV || {};                                    if (document.getElementById(\"a5a8040a-f9d5-4547-8f8c-58976423041c\")) {                    Plotly.newPlot(                        \"a5a8040a-f9d5-4547-8f8c-58976423041c\",                        [{\"domain\":{\"x\":[0.0,1.0],\"y\":[0.0,1.0]},\"hovertemplate\":\"GeneticRisk=%{label}\\u003cextra\\u003e\\u003c\\u002fextra\\u003e\",\"labels\":[1,1,0,0,1,2,1,0,0,1,1,0,0,1,0,0,0,0,0,1,0,0,0,0,0,0,1,0,0,0,0,1,0,2,0,1,0,1,0,0,1,1,0,0,0,1,0,0,1,1,1,1,1,0,0,1,0,2,0,0,2,1,0,1,1,0,0,1,1,0,1,1,0,1,0,0,1,1,1,0,0,0,0,0,0,0,1,0,0,0,0,0,0,1,0,1,2,1,0,2,0,0,1,1,0,0,0,0,0,2,2,1,0,1,2,1,0,0,0,0,1,1,0,0,0,0,0,1,0,1,0,0,0,1,0,1,0,1,1,0,1,0,1,0,0,1,1,0,1,0,0,1,0,0,1,0,1,0,0,0,1,1,0,0,2,0,1,0,1,0,1,1,0,0,1,1,0,0,1,0,1,0,1,2,2,0,1,0,0,0,0,2,0,1,1,1,0,0,1,0,0,0,0,1,0,0,0,0,0,0,0,1,0,0,0,0,2,0,0,0,2,0,1,0,2,1,0,0,0,0,0,0,0,0,0,0,0,2,0,1,0,0,0,0,1,1,0,2,0,2,2,0,0,0,1,0,2,1,0,0,1,0,1,0,0,0,1,0,1,0,1,0,0,1,0,0,0,1,2,0,0,1,0,2,0,2,1,1,1,0,0,0,1,1,1,0,0,0,1,0,0,1,0,0,0,1,0,1,0,1,0,0,1,1,0,1,0,2,1,0,1,0,0,2,1,0,0,0,2,0,0,0,0,0,0,0,0,2,0,1,1,1,1,0,0,0,0,1,1,1,0,2,0,0,0,1,0,2,2,1,0,1,1,0,0,0,0,0,2,0,0,2,0,1,0,0,0,0,0,1,0,1,0,0,1,0,1,2,1,0,0,1,1,0,0,0,0,0,0,1,2,1,0,0,2,2,2,1,0,1,0,0,1,0,0,0,0,1,0,0,0,0,0,1,0,1,2,1,0,0,1,0,1,1,2,2,0,0,2,0,0,1,0,1,1,0,2,1,1,0,0,1,0,0,1,0,0,0,0,1,0,0,1,2,1,0,0,1,0,1,0,0,1,1,1,0,0,0,0,0,0,0,2,1,2,0,2,0,0,1,0,0,0,0,1,1,1,0,1,0,0,2,0,1,0,1,1,0,0,1,0,0,1,0,1,0,0,1,0,0,0,0,0,0,0,0,1,1,0,1,1,0,1,0,1,0,0,1,0,0,0,0,1,1,0,0,1,0,1,0,0,0,0,0,0,0,0,0,0,0,0,0,1,1,0,0,0,1,0,0,1,0,0,0,1,0,1,1,0,0,0,1,1,0,1,0,0,2,1,0,1,2,1,1,1,0,1,0,1,0,1,0,0,0,2,2,0,2,1,1,0,2,0,1,1,1,1,0,0,0,0,0,1,1,0,0,0,0,0,1,0,1,0,1,1,2,1,2,1,1,0,0,0,1,0,1,2,0,0,2,0,1,0,1,0,1,0,0,0,0,2,1,0,0,0,1,1,0,1,1,2,2,1,1,0,1,0,0,0,1,0,0,0,0,0,1,1,0,1,1,0,1,2,0,0,2,1,0,0,0,1,0,0,1,0,0,0,1,0,1,0,0,0,0,1,0,1,0,2,1,1,0,0,0,2,0,1,1,0,1,1,1,0,0,0,1,1,0,2,0,1,2,1,1,0,0,1,0,0,1,0,2,1,1,1,1,1,1,0,1,1,0,0,1,0,2,2,0,1,0,1,0,1,0,0,0,0,0,0,0,1,1,1,2,0,0,0,1,2,0,0,0,1,1,0,0,1,1,0,1,0,1,1,0,0,1,0,1,1,1,0,0,1,0,1,1,0,1,0,0,2,2,0,2,0,0,0,2,0,0,0,1,0,0,0,1,1,0,1,0,1,0,0,0,1,1,0,1,0,0,0,1,1,0,0,0,0,0,0,0,0,0,0,0,1,0,1,0,0,0,0,0,2,0,0,1,0,1,0,2,0,0,1,0,0,1,0,0,1,0,1,2,0,0,0,0,2,0,0,1,1,0,0,1,2,1,0,0,0,0,2,1,2,0,1,1,1,0,0,1,0,2,0,1,1,1,0,2,1,0,1,0,0,0,1,0,1,0,0,2,1,2,0,0,1,1,0,0,1,0,1,0,0,2,0,0,1,0,0,1,0,0,0,0,1,1,0,1,2,0,1,0,1,2,0,0,0,0,0,1,0,0,1,0,2,1,0,0,0,1,0,1,1,0,1,0,2,0,1,0,1,0,0,0,0,1,1,0,0,0,0,0,0,0,0,2,0,0,1,1,0,1,1,0,0,0,0,0,1,0,0,0,0,1,0,2,0,0,1,0,0,1,0,1,2,0,0,0,0,1,1,0,0,0,0,1,0,1,1,1,0,1,1,1,0,0,1,0,0,2,0,0,0,1,0,1,0,0,1,0,2,0,0,0,0,2,1,0,0,1,0,0,2,2,2,1,1,0,0,0,1,1,1,2,1,2,0,1,0,0,2,1,0,0,1,1,2,0,0,0,0,0,2,0,0,0,0,1,1,1,0,0,0,0,1,0,1,0,1,2,1,0,2,1,0,0,1,1,0,0,2,0,0,0,1,0,1,0,1,1,0,0,0,0,1,0,1,0,0,0,0,0,1,0,0,1,1,0,1,0,1,1,1,1,0,1,0,0,0,2,1,0,1,1,0,0,1,0,0,1,2,1,1,0,0,1,0,1,0,0,0,2,0,0,0,1,0,0,0,1,0,0,0,0,1,0,2,2,0,1,1,1,0,0,0,1,0,0,0,0,0,0,0,2,0,1,0,0,1,1,0,2,2,2,0,0,1,1,0,1,0,0,0,1,0,1,0,1,2,1,2,0,0,0,0,1,0,0,0,0,0,1,0,0,1,1,0,1,0,0,0,0,1,0,0,1,0,0,1,0,1,0,1,0,1,0,1,0,0,0,1,2,0,0,1,0,2,1,1,0,0,1,2,2,0,0,0,1,0,0,0,0,2,0,0,0,0,0,0,1,0,0,0,1,0,1,0,1,0,2,0,0,1,0,2,0,1,1,2,2,1,1,0,0,1,2,1,2,1,0,0,0,0,0,2,1,0,0,0,0,0,0,0,0,2,0,0,0,0,1,1,0,1,0,1,0,0,1,1,1,0,0,2,0,0,0,0,0,0,0,2,0,0,0,1,0,1,0,1,0,0,1,1,0,0,0,1,0,0,0,1,1,1,0,2,1,1,0,0,1,0,0,1,1,2,1,0,0,0,0,0,0,0,1,2,1,1,1,2,1,1,2,2,0,0,0,0,0,0,0,0,1,0,1,1,0,2,0,0,0,0,0,0,0,0,0,1,0,0,0,0,0,1,0,1,1,0,0,2,1,0,1,1,0,1,0,0,2,1,0,0,1,1,1,2,1,0,0,0,1,1,0,0,0,0,0,0,0,0,0,0,1,0,1,1,0,0,2,1,2,1,0,0,0,0,0,1,0,0,1,1,0,1,1,0,0,0,0,0,2,1,1,2,1,0,0,1,0,0,1,2,0,1,0,1,0,1,0,1,0,0,0,0,0,0,1,1,0,1,0,0,0,0,0,2,0,0,0,1,1,1,2,2,1,0,1,0,1,1,1,0,1,2,0,0,1,2,0,0,0,0,2,1,1,0,1,0,0,0,0,0,0,0,0,1,0,2,0,1,1,2,1,0,0,0,0,0,1,0,1,2,1,1,1,0,0,2,2,1,0,1,0,0,0,0,0,0,0,0,1,1,0,0,1,0,0,1,2,0,0,0,0,0,0,0,2,1,1,1,0,1,0,0,1,1,1,0,2,2,0],\"legendgroup\":\"\",\"name\":\"\",\"showlegend\":true,\"type\":\"pie\"}],                        {\"template\":{\"data\":{\"barpolar\":[{\"marker\":{\"line\":{\"color\":\"rgb(17,17,17)\",\"width\":0.5},\"pattern\":{\"fillmode\":\"overlay\",\"size\":10,\"solidity\":0.2}},\"type\":\"barpolar\"}],\"bar\":[{\"error_x\":{\"color\":\"#f2f5fa\"},\"error_y\":{\"color\":\"#f2f5fa\"},\"marker\":{\"line\":{\"color\":\"rgb(17,17,17)\",\"width\":0.5},\"pattern\":{\"fillmode\":\"overlay\",\"size\":10,\"solidity\":0.2}},\"type\":\"bar\"}],\"carpet\":[{\"aaxis\":{\"endlinecolor\":\"#A2B1C6\",\"gridcolor\":\"#506784\",\"linecolor\":\"#506784\",\"minorgridcolor\":\"#506784\",\"startlinecolor\":\"#A2B1C6\"},\"baxis\":{\"endlinecolor\":\"#A2B1C6\",\"gridcolor\":\"#506784\",\"linecolor\":\"#506784\",\"minorgridcolor\":\"#506784\",\"startlinecolor\":\"#A2B1C6\"},\"type\":\"carpet\"}],\"choropleth\":[{\"colorbar\":{\"outlinewidth\":0,\"ticks\":\"\"},\"type\":\"choropleth\"}],\"contourcarpet\":[{\"colorbar\":{\"outlinewidth\":0,\"ticks\":\"\"},\"type\":\"contourcarpet\"}],\"contour\":[{\"colorbar\":{\"outlinewidth\":0,\"ticks\":\"\"},\"colorscale\":[[0.0,\"#0d0887\"],[0.1111111111111111,\"#46039f\"],[0.2222222222222222,\"#7201a8\"],[0.3333333333333333,\"#9c179e\"],[0.4444444444444444,\"#bd3786\"],[0.5555555555555556,\"#d8576b\"],[0.6666666666666666,\"#ed7953\"],[0.7777777777777778,\"#fb9f3a\"],[0.8888888888888888,\"#fdca26\"],[1.0,\"#f0f921\"]],\"type\":\"contour\"}],\"heatmapgl\":[{\"colorbar\":{\"outlinewidth\":0,\"ticks\":\"\"},\"colorscale\":[[0.0,\"#0d0887\"],[0.1111111111111111,\"#46039f\"],[0.2222222222222222,\"#7201a8\"],[0.3333333333333333,\"#9c179e\"],[0.4444444444444444,\"#bd3786\"],[0.5555555555555556,\"#d8576b\"],[0.6666666666666666,\"#ed7953\"],[0.7777777777777778,\"#fb9f3a\"],[0.8888888888888888,\"#fdca26\"],[1.0,\"#f0f921\"]],\"type\":\"heatmapgl\"}],\"heatmap\":[{\"colorbar\":{\"outlinewidth\":0,\"ticks\":\"\"},\"colorscale\":[[0.0,\"#0d0887\"],[0.1111111111111111,\"#46039f\"],[0.2222222222222222,\"#7201a8\"],[0.3333333333333333,\"#9c179e\"],[0.4444444444444444,\"#bd3786\"],[0.5555555555555556,\"#d8576b\"],[0.6666666666666666,\"#ed7953\"],[0.7777777777777778,\"#fb9f3a\"],[0.8888888888888888,\"#fdca26\"],[1.0,\"#f0f921\"]],\"type\":\"heatmap\"}],\"histogram2dcontour\":[{\"colorbar\":{\"outlinewidth\":0,\"ticks\":\"\"},\"colorscale\":[[0.0,\"#0d0887\"],[0.1111111111111111,\"#46039f\"],[0.2222222222222222,\"#7201a8\"],[0.3333333333333333,\"#9c179e\"],[0.4444444444444444,\"#bd3786\"],[0.5555555555555556,\"#d8576b\"],[0.6666666666666666,\"#ed7953\"],[0.7777777777777778,\"#fb9f3a\"],[0.8888888888888888,\"#fdca26\"],[1.0,\"#f0f921\"]],\"type\":\"histogram2dcontour\"}],\"histogram2d\":[{\"colorbar\":{\"outlinewidth\":0,\"ticks\":\"\"},\"colorscale\":[[0.0,\"#0d0887\"],[0.1111111111111111,\"#46039f\"],[0.2222222222222222,\"#7201a8\"],[0.3333333333333333,\"#9c179e\"],[0.4444444444444444,\"#bd3786\"],[0.5555555555555556,\"#d8576b\"],[0.6666666666666666,\"#ed7953\"],[0.7777777777777778,\"#fb9f3a\"],[0.8888888888888888,\"#fdca26\"],[1.0,\"#f0f921\"]],\"type\":\"histogram2d\"}],\"histogram\":[{\"marker\":{\"pattern\":{\"fillmode\":\"overlay\",\"size\":10,\"solidity\":0.2}},\"type\":\"histogram\"}],\"mesh3d\":[{\"colorbar\":{\"outlinewidth\":0,\"ticks\":\"\"},\"type\":\"mesh3d\"}],\"parcoords\":[{\"line\":{\"colorbar\":{\"outlinewidth\":0,\"ticks\":\"\"}},\"type\":\"parcoords\"}],\"pie\":[{\"automargin\":true,\"type\":\"pie\"}],\"scatter3d\":[{\"line\":{\"colorbar\":{\"outlinewidth\":0,\"ticks\":\"\"}},\"marker\":{\"colorbar\":{\"outlinewidth\":0,\"ticks\":\"\"}},\"type\":\"scatter3d\"}],\"scattercarpet\":[{\"marker\":{\"colorbar\":{\"outlinewidth\":0,\"ticks\":\"\"}},\"type\":\"scattercarpet\"}],\"scattergeo\":[{\"marker\":{\"colorbar\":{\"outlinewidth\":0,\"ticks\":\"\"}},\"type\":\"scattergeo\"}],\"scattergl\":[{\"marker\":{\"line\":{\"color\":\"#283442\"}},\"type\":\"scattergl\"}],\"scattermapbox\":[{\"marker\":{\"colorbar\":{\"outlinewidth\":0,\"ticks\":\"\"}},\"type\":\"scattermapbox\"}],\"scatterpolargl\":[{\"marker\":{\"colorbar\":{\"outlinewidth\":0,\"ticks\":\"\"}},\"type\":\"scatterpolargl\"}],\"scatterpolar\":[{\"marker\":{\"colorbar\":{\"outlinewidth\":0,\"ticks\":\"\"}},\"type\":\"scatterpolar\"}],\"scatter\":[{\"marker\":{\"line\":{\"color\":\"#283442\"}},\"type\":\"scatter\"}],\"scatterternary\":[{\"marker\":{\"colorbar\":{\"outlinewidth\":0,\"ticks\":\"\"}},\"type\":\"scatterternary\"}],\"surface\":[{\"colorbar\":{\"outlinewidth\":0,\"ticks\":\"\"},\"colorscale\":[[0.0,\"#0d0887\"],[0.1111111111111111,\"#46039f\"],[0.2222222222222222,\"#7201a8\"],[0.3333333333333333,\"#9c179e\"],[0.4444444444444444,\"#bd3786\"],[0.5555555555555556,\"#d8576b\"],[0.6666666666666666,\"#ed7953\"],[0.7777777777777778,\"#fb9f3a\"],[0.8888888888888888,\"#fdca26\"],[1.0,\"#f0f921\"]],\"type\":\"surface\"}],\"table\":[{\"cells\":{\"fill\":{\"color\":\"#506784\"},\"line\":{\"color\":\"rgb(17,17,17)\"}},\"header\":{\"fill\":{\"color\":\"#2a3f5f\"},\"line\":{\"color\":\"rgb(17,17,17)\"}},\"type\":\"table\"}]},\"layout\":{\"annotationdefaults\":{\"arrowcolor\":\"#f2f5fa\",\"arrowhead\":0,\"arrowwidth\":1},\"autotypenumbers\":\"strict\",\"coloraxis\":{\"colorbar\":{\"outlinewidth\":0,\"ticks\":\"\"}},\"colorscale\":{\"diverging\":[[0,\"#8e0152\"],[0.1,\"#c51b7d\"],[0.2,\"#de77ae\"],[0.3,\"#f1b6da\"],[0.4,\"#fde0ef\"],[0.5,\"#f7f7f7\"],[0.6,\"#e6f5d0\"],[0.7,\"#b8e186\"],[0.8,\"#7fbc41\"],[0.9,\"#4d9221\"],[1,\"#276419\"]],\"sequential\":[[0.0,\"#0d0887\"],[0.1111111111111111,\"#46039f\"],[0.2222222222222222,\"#7201a8\"],[0.3333333333333333,\"#9c179e\"],[0.4444444444444444,\"#bd3786\"],[0.5555555555555556,\"#d8576b\"],[0.6666666666666666,\"#ed7953\"],[0.7777777777777778,\"#fb9f3a\"],[0.8888888888888888,\"#fdca26\"],[1.0,\"#f0f921\"]],\"sequentialminus\":[[0.0,\"#0d0887\"],[0.1111111111111111,\"#46039f\"],[0.2222222222222222,\"#7201a8\"],[0.3333333333333333,\"#9c179e\"],[0.4444444444444444,\"#bd3786\"],[0.5555555555555556,\"#d8576b\"],[0.6666666666666666,\"#ed7953\"],[0.7777777777777778,\"#fb9f3a\"],[0.8888888888888888,\"#fdca26\"],[1.0,\"#f0f921\"]]},\"colorway\":[\"#636efa\",\"#EF553B\",\"#00cc96\",\"#ab63fa\",\"#FFA15A\",\"#19d3f3\",\"#FF6692\",\"#B6E880\",\"#FF97FF\",\"#FECB52\"],\"font\":{\"color\":\"#f2f5fa\"},\"geo\":{\"bgcolor\":\"rgb(17,17,17)\",\"lakecolor\":\"rgb(17,17,17)\",\"landcolor\":\"rgb(17,17,17)\",\"showlakes\":true,\"showland\":true,\"subunitcolor\":\"#506784\"},\"hoverlabel\":{\"align\":\"left\"},\"hovermode\":\"closest\",\"mapbox\":{\"style\":\"dark\"},\"paper_bgcolor\":\"rgb(17,17,17)\",\"plot_bgcolor\":\"rgb(17,17,17)\",\"polar\":{\"angularaxis\":{\"gridcolor\":\"#506784\",\"linecolor\":\"#506784\",\"ticks\":\"\"},\"bgcolor\":\"rgb(17,17,17)\",\"radialaxis\":{\"gridcolor\":\"#506784\",\"linecolor\":\"#506784\",\"ticks\":\"\"}},\"scene\":{\"xaxis\":{\"backgroundcolor\":\"rgb(17,17,17)\",\"gridcolor\":\"#506784\",\"gridwidth\":2,\"linecolor\":\"#506784\",\"showbackground\":true,\"ticks\":\"\",\"zerolinecolor\":\"#C8D4E3\"},\"yaxis\":{\"backgroundcolor\":\"rgb(17,17,17)\",\"gridcolor\":\"#506784\",\"gridwidth\":2,\"linecolor\":\"#506784\",\"showbackground\":true,\"ticks\":\"\",\"zerolinecolor\":\"#C8D4E3\"},\"zaxis\":{\"backgroundcolor\":\"rgb(17,17,17)\",\"gridcolor\":\"#506784\",\"gridwidth\":2,\"linecolor\":\"#506784\",\"showbackground\":true,\"ticks\":\"\",\"zerolinecolor\":\"#C8D4E3\"}},\"shapedefaults\":{\"line\":{\"color\":\"#f2f5fa\"}},\"sliderdefaults\":{\"bgcolor\":\"#C8D4E3\",\"bordercolor\":\"rgb(17,17,17)\",\"borderwidth\":1,\"tickwidth\":0},\"ternary\":{\"aaxis\":{\"gridcolor\":\"#506784\",\"linecolor\":\"#506784\",\"ticks\":\"\"},\"baxis\":{\"gridcolor\":\"#506784\",\"linecolor\":\"#506784\",\"ticks\":\"\"},\"bgcolor\":\"rgb(17,17,17)\",\"caxis\":{\"gridcolor\":\"#506784\",\"linecolor\":\"#506784\",\"ticks\":\"\"}},\"title\":{\"x\":0.05},\"updatemenudefaults\":{\"bgcolor\":\"#506784\",\"borderwidth\":0},\"xaxis\":{\"automargin\":true,\"gridcolor\":\"#283442\",\"linecolor\":\"#506784\",\"ticks\":\"\",\"title\":{\"standoff\":15},\"zerolinecolor\":\"#283442\",\"zerolinewidth\":2},\"yaxis\":{\"automargin\":true,\"gridcolor\":\"#283442\",\"linecolor\":\"#506784\",\"ticks\":\"\",\"title\":{\"standoff\":15},\"zerolinecolor\":\"#283442\",\"zerolinewidth\":2}}},\"legend\":{\"tracegroupgap\":0},\"title\":{\"text\":\"GeneticRisk Distribution\",\"x\":0.5},\"piecolorway\":[\"rgb(36, 86, 104)\",\"rgb(15, 114, 121)\",\"rgb(13, 143, 129)\",\"rgb(57, 171, 126)\",\"rgb(110, 197, 116)\",\"rgb(169, 220, 103)\",\"rgb(237, 239, 93)\"],\"width\":800,\"height\":600},                        {\"responsive\": true}                    ).then(function(){\n",
       "                            \n",
       "var gd = document.getElementById('a5a8040a-f9d5-4547-8f8c-58976423041c');\n",
       "var x = new MutationObserver(function (mutations, observer) {{\n",
       "        var display = window.getComputedStyle(gd).display;\n",
       "        if (!display || display === 'none') {{\n",
       "            console.log([gd, 'removed!']);\n",
       "            Plotly.purge(gd);\n",
       "            observer.disconnect();\n",
       "        }}\n",
       "}});\n",
       "\n",
       "// Listen for the removal of the full notebook cells\n",
       "var notebookContainer = gd.closest('#notebook-container');\n",
       "if (notebookContainer) {{\n",
       "    x.observe(notebookContainer, {childList: true});\n",
       "}}\n",
       "\n",
       "// Listen for the clearing of the current output cell\n",
       "var outputEl = gd.closest('.output');\n",
       "if (outputEl) {{\n",
       "    x.observe(outputEl, {childList: true});\n",
       "}}\n",
       "\n",
       "                        })                };                });            </script>        </div>"
      ]
     },
     "metadata": {},
     "output_type": "display_data"
    }
   ],
   "source": [
    "plt = px.pie(data, names=\"GeneticRisk\", title=\"GeneticRisk Distribution\", color_discrete_sequence=px.colors.sequential.Aggrnyl)\n",
    "plt.update_layout(\n",
    "    title_x=0.5,\n",
    "    template=\"plotly_dark\",  \n",
    "    width=800,              \n",
    "    height=600 \n",
    ")\n",
    "plt.show()"
   ]
  },
  {
   "cell_type": "code",
   "execution_count": 29,
   "id": "6d368979",
   "metadata": {
    "execution": {
     "iopub.execute_input": "2024-09-05T23:23:06.902964Z",
     "iopub.status.busy": "2024-09-05T23:23:06.902624Z",
     "iopub.status.idle": "2024-09-05T23:23:06.911899Z",
     "shell.execute_reply": "2024-09-05T23:23:06.911035Z"
    },
    "papermill": {
     "duration": 0.039564,
     "end_time": "2024-09-05T23:23:06.913822",
     "exception": false,
     "start_time": "2024-09-05T23:23:06.874258",
     "status": "completed"
    },
    "tags": []
   },
   "outputs": [
    {
     "data": {
      "text/plain": [
       "Gender  GeneticRisk\n",
       "0       0              491\n",
       "        1              274\n",
       "        2               78\n",
       "1       0              487\n",
       "        1              283\n",
       "        2               87\n",
       "Name: GeneticRisk, dtype: int64"
      ]
     },
     "execution_count": 29,
     "metadata": {},
     "output_type": "execute_result"
    }
   ],
   "source": [
    "### GeneticRisk VS Gender\n",
    "data.groupby(['Gender','GeneticRisk'])['GeneticRisk'].count()"
   ]
  },
  {
   "cell_type": "code",
   "execution_count": 30,
   "id": "579d4df2",
   "metadata": {
    "execution": {
     "iopub.execute_input": "2024-09-05T23:23:06.970804Z",
     "iopub.status.busy": "2024-09-05T23:23:06.970421Z",
     "iopub.status.idle": "2024-09-05T23:23:07.059716Z",
     "shell.execute_reply": "2024-09-05T23:23:07.058792Z"
    },
    "papermill": {
     "duration": 0.120202,
     "end_time": "2024-09-05T23:23:07.061696",
     "exception": false,
     "start_time": "2024-09-05T23:23:06.941494",
     "status": "completed"
    },
    "tags": []
   },
   "outputs": [
    {
     "data": {
      "text/html": [
       "<div>                            <div id=\"5ce69efb-e061-4eca-b9b3-7d4464ba3b4c\" class=\"plotly-graph-div\" style=\"height:600px; width:800px;\"></div>            <script type=\"text/javascript\">                require([\"plotly\"], function(Plotly) {                    window.PLOTLYENV=window.PLOTLYENV || {};                                    if (document.getElementById(\"5ce69efb-e061-4eca-b9b3-7d4464ba3b4c\")) {                    Plotly.newPlot(                        \"5ce69efb-e061-4eca-b9b3-7d4464ba3b4c\",                        [{\"alignmentgroup\":\"True\",\"bingroup\":\"x\",\"hovertemplate\":\"color=Female\\u003cbr\\u003ex=%{x}\\u003cbr\\u003ecount=%{y}\\u003cextra\\u003e\\u003c\\u002fextra\\u003e\",\"legendgroup\":\"Female\",\"marker\":{\"color\":\"#0d0887\",\"pattern\":{\"shape\":\"\"}},\"name\":\"Female\",\"offsetgroup\":\"Female\",\"orientation\":\"v\",\"showlegend\":true,\"texttemplate\":\"%{value}\",\"x\":[1,0,1,0,0,1,0,0,0,0,1,0,0,1,0,0,0,1,0,1,0,1,1,1,0,0,2,0,1,0,0,1,1,0,1,1,0,0,0,0,0,0,0,0,2,1,0,2,0,1,0,1,2,1,0,0,1,1,0,0,1,0,1,0,0,1,0,0,0,1,0,0,0,0,0,1,1,0,1,1,0,2,0,1,0,1,1,0,0,1,1,2,2,1,0,0,0,0,0,1,1,1,0,0,1,0,0,0,1,0,0,2,0,0,0,1,0,0,0,0,0,0,0,2,0,0,0,1,0,2,2,0,1,0,1,0,1,0,0,1,0,1,0,1,0,1,0,0,0,0,0,0,1,0,0,0,1,0,0,0,0,1,0,1,2,1,0,0,2,0,0,2,0,0,0,1,1,1,0,0,0,1,1,0,0,1,0,2,0,1,0,0,0,0,1,0,0,1,0,1,1,1,1,0,1,0,0,0,0,1,2,1,2,2,2,0,1,0,0,0,0,0,0,1,2,0,0,0,1,2,2,0,0,1,0,1,0,2,1,1,1,0,0,2,0,0,1,0,1,1,0,0,2,1,2,0,0,0,0,1,1,0,1,0,0,1,0,0,0,1,0,1,0,1,0,0,0,0,0,0,1,0,1,0,1,0,0,0,1,0,0,0,0,0,0,1,1,0,0,1,0,0,1,0,1,1,0,0,1,0,1,0,0,2,0,1,1,1,1,0,0,0,0,0,1,1,0,0,0,1,1,2,0,0,0,0,1,0,2,0,1,0,1,0,0,2,0,0,0,2,0,1,0,0,1,0,0,1,1,1,0,1,0,1,0,0,1,0,1,0,1,0,0,2,1,1,0,1,1,0,1,1,0,1,0,1,1,0,0,2,0,1,0,0,1,0,0,0,1,0,0,1,1,0,1,0,1,0,1,1,0,1,1,0,0,0,0,2,1,1,0,1,0,1,0,0,0,0,0,0,1,0,0,0,0,1,0,0,0,0,0,0,0,1,0,0,0,0,0,0,0,2,0,0,0,2,2,0,1,0,1,0,1,1,1,0,0,0,2,2,0,0,0,1,0,0,1,0,0,1,0,0,1,1,0,0,1,2,0,0,0,1,0,0,0,1,0,1,0,1,0,0,0,1,1,0,0,0,0,0,1,0,0,0,1,0,0,0,1,0,2,0,0,1,1,0,0,1,0,0,0,1,1,1,0,0,0,1,0,0,1,2,0,0,1,0,1,0,2,0,1,1,1,0,0,2,1,0,1,0,0,0,1,1,1,0,0,0,1,0,1,0,1,0,1,2,0,0,0,1,0,1,0,0,0,0,1,0,0,0,0,1,0,0,1,0,1,1,1,1,0,1,1,2,1,0,1,0,2,0,0,1,0,0,0,0,1,0,2,0,1,1,0,0,1,0,0,0,2,0,1,0,2,2,0,0,1,1,2,1,0,0,0,1,0,0,0,1,0,1,0,1,0,0,1,0,0,1,1,2,2,1,0,2,0,0,0,0,0,0,0,0,1,0,1,0,1,0,2,0,1,2,1,2,2,1,0,2,1,2,0,0,0,2,1,0,0,0,0,0,1,0,0,0,1,1,0,2,0,0,0,0,0,1,1,0,0,1,1,2,1,1,2,1,0,0,0,1,2,1,2,0,0,0,1,2,0,0,0,0,0,1,0,2,0,1,0,0,0,2,1,0,0,1,0,1,0,0,0,0,0,1,0,0,0,0,0,1,1,1,0,1,1,0,1,0,2,0,0,1,0,0,0,0,1,0,0,0,1,1,0,0,1,0,0,1,2,0,0,0,1,1,0,0,0,0,0,0,1,0,2,0,1,0,0,1,1,1,1,2,0,0,0,0,1,1,0,0,1,2,0,0,0,2,1,0,1,0,1,0,2,2,0],\"xaxis\":\"x\",\"yaxis\":\"y\",\"type\":\"histogram\"},{\"alignmentgroup\":\"True\",\"bingroup\":\"x\",\"hovertemplate\":\"color=Male\\u003cbr\\u003ex=%{x}\\u003cbr\\u003ecount=%{y}\\u003cextra\\u003e\\u003c\\u002fextra\\u003e\",\"legendgroup\":\"Male\",\"marker\":{\"color\":\"#46039f\",\"pattern\":{\"shape\":\"\"}},\"name\":\"Male\",\"offsetgroup\":\"Male\",\"orientation\":\"v\",\"showlegend\":true,\"texttemplate\":\"%{value}\",\"x\":[1,0,1,2,1,0,1,0,0,0,0,0,0,0,0,0,1,0,2,1,0,1,0,1,0,0,0,1,1,1,0,0,0,2,1,1,1,0,1,0,1,0,1,0,0,0,0,1,0,1,0,1,0,1,0,0,0,0,2,2,1,0,0,0,0,0,0,0,0,1,0,1,1,1,1,0,1,1,1,0,0,0,0,1,0,1,0,0,0,1,0,1,0,2,0,0,1,0,0,0,0,0,0,0,0,0,2,1,0,2,0,0,0,0,1,0,0,1,2,0,0,0,2,0,1,0,0,0,1,0,0,0,2,1,2,2,1,1,1,0,1,1,1,0,0,0,1,1,0,1,0,1,0,0,1,1,0,0,0,0,0,0,0,2,1,0,1,0,2,0,2,1,1,0,0,0,2,2,0,0,0,0,0,0,0,2,0,1,0,0,0,0,1,1,0,0,0,0,1,0,0,1,1,1,1,2,0,0,1,1,0,0,0,0,0,0,0,1,0,1,1,0,1,0,1,0,0,0,0,0,0,2,0,1,0,1,2,0,1,1,0,0,1,0,0,0,0,1,1,1,1,0,0,0,1,1,0,0,1,0,0,0,0,0,0,0,0,0,0,0,1,0,0,1,0,1,0,1,0,0,1,1,1,0,0,2,1,2,1,1,0,2,2,1,0,2,0,1,0,0,0,1,0,1,1,2,1,1,1,2,0,0,1,0,0,1,0,1,1,1,1,2,1,1,0,0,0,0,0,1,0,1,2,0,2,0,0,0,1,0,0,1,0,0,0,0,1,0,2,1,0,0,1,1,0,1,0,0,2,0,2,1,0,0,0,2,1,1,1,1,1,1,1,0,0,1,2,1,0,0,0,0,0,1,1,1,2,0,0,2,0,0,1,1,0,0,1,0,1,1,1,0,0,1,0,0,2,2,0,2,0,0,0,0,0,0,1,0,1,1,1,1,0,0,0,0,0,0,0,1,0,2,1,2,1,0,1,0,1,0,1,2,0,0,0,0,1,1,0,1,2,1,0,0,0,1,1,1,0,0,2,0,2,1,0,1,0,0,1,0,1,1,0,1,1,1,0,0,2,0,0,0,1,2,0,1,0,0,1,0,0,0,2,1,1,0,1,0,2,0,1,0,0,0,0,0,0,2,1,1,0,1,0,0,0,0,0,1,0,2,0,0,1,0,0,1,1,1,1,0,1,0,2,0,0,0,0,1,0,0,0,2,0,0,2,2,1,1,0,0,1,2,2,1,0,0,1,2,0,0,0,2,0,0,0,0,2,1,2,1,0,0,1,0,0,0,1,1,0,1,0,1,0,1,1,0,1,0,0,0,2,1,0,0,1,0,0,1,0,1,0,0,0,0,1,0,0,0,2,1,0,0,0,0,0,0,1,0,1,2,0,0,1,1,0,1,0,1,0,0,2,0,0,0,1,0,0,1,1,0,0,0,0,0,1,0,0,1,1,0,0,0,0,0,1,0,1,0,1,2,0,0,1,0,0,2,0,0,0,0,1,0,0,0,1,1,0,1,1,0,0,0,0,0,0,0,2,0,0,1,1,0,1,1,0,0,0,0,0,2,0,1,0,1,0,0,0,1,0,0,1,0,0,1,0,1,1,0,0,1,0,0,0,0,0,0,1,1,2,1,1,2,0,0,0,0,0,0,1,1,0,0,0,0,0,0,0,1,0,0,0,1,0,1,0,1,1,1,1,1,2,1,0,0,1,0,0,0,0,0,1,0,1,0,2,1,2,1,0,0,0,1,0,1,0,0,0,0,2,1,2,0,0,1,0,1,0,1,1,0,0,1,0,1,0,0,2,0,0,0,1,2,2,1,1,1,1,1,2,0,0,2,1,0,0,0,1,1,2,0,0,0,1,0,2,0,0,2,1,0,1,0,0,0,0,1,0,0,0,0,0,0,1,1,0,1,1],\"xaxis\":\"x\",\"yaxis\":\"y\",\"type\":\"histogram\"}],                        {\"template\":{\"data\":{\"barpolar\":[{\"marker\":{\"line\":{\"color\":\"rgb(17,17,17)\",\"width\":0.5},\"pattern\":{\"fillmode\":\"overlay\",\"size\":10,\"solidity\":0.2}},\"type\":\"barpolar\"}],\"bar\":[{\"error_x\":{\"color\":\"#f2f5fa\"},\"error_y\":{\"color\":\"#f2f5fa\"},\"marker\":{\"line\":{\"color\":\"rgb(17,17,17)\",\"width\":0.5},\"pattern\":{\"fillmode\":\"overlay\",\"size\":10,\"solidity\":0.2}},\"type\":\"bar\"}],\"carpet\":[{\"aaxis\":{\"endlinecolor\":\"#A2B1C6\",\"gridcolor\":\"#506784\",\"linecolor\":\"#506784\",\"minorgridcolor\":\"#506784\",\"startlinecolor\":\"#A2B1C6\"},\"baxis\":{\"endlinecolor\":\"#A2B1C6\",\"gridcolor\":\"#506784\",\"linecolor\":\"#506784\",\"minorgridcolor\":\"#506784\",\"startlinecolor\":\"#A2B1C6\"},\"type\":\"carpet\"}],\"choropleth\":[{\"colorbar\":{\"outlinewidth\":0,\"ticks\":\"\"},\"type\":\"choropleth\"}],\"contourcarpet\":[{\"colorbar\":{\"outlinewidth\":0,\"ticks\":\"\"},\"type\":\"contourcarpet\"}],\"contour\":[{\"colorbar\":{\"outlinewidth\":0,\"ticks\":\"\"},\"colorscale\":[[0.0,\"#0d0887\"],[0.1111111111111111,\"#46039f\"],[0.2222222222222222,\"#7201a8\"],[0.3333333333333333,\"#9c179e\"],[0.4444444444444444,\"#bd3786\"],[0.5555555555555556,\"#d8576b\"],[0.6666666666666666,\"#ed7953\"],[0.7777777777777778,\"#fb9f3a\"],[0.8888888888888888,\"#fdca26\"],[1.0,\"#f0f921\"]],\"type\":\"contour\"}],\"heatmapgl\":[{\"colorbar\":{\"outlinewidth\":0,\"ticks\":\"\"},\"colorscale\":[[0.0,\"#0d0887\"],[0.1111111111111111,\"#46039f\"],[0.2222222222222222,\"#7201a8\"],[0.3333333333333333,\"#9c179e\"],[0.4444444444444444,\"#bd3786\"],[0.5555555555555556,\"#d8576b\"],[0.6666666666666666,\"#ed7953\"],[0.7777777777777778,\"#fb9f3a\"],[0.8888888888888888,\"#fdca26\"],[1.0,\"#f0f921\"]],\"type\":\"heatmapgl\"}],\"heatmap\":[{\"colorbar\":{\"outlinewidth\":0,\"ticks\":\"\"},\"colorscale\":[[0.0,\"#0d0887\"],[0.1111111111111111,\"#46039f\"],[0.2222222222222222,\"#7201a8\"],[0.3333333333333333,\"#9c179e\"],[0.4444444444444444,\"#bd3786\"],[0.5555555555555556,\"#d8576b\"],[0.6666666666666666,\"#ed7953\"],[0.7777777777777778,\"#fb9f3a\"],[0.8888888888888888,\"#fdca26\"],[1.0,\"#f0f921\"]],\"type\":\"heatmap\"}],\"histogram2dcontour\":[{\"colorbar\":{\"outlinewidth\":0,\"ticks\":\"\"},\"colorscale\":[[0.0,\"#0d0887\"],[0.1111111111111111,\"#46039f\"],[0.2222222222222222,\"#7201a8\"],[0.3333333333333333,\"#9c179e\"],[0.4444444444444444,\"#bd3786\"],[0.5555555555555556,\"#d8576b\"],[0.6666666666666666,\"#ed7953\"],[0.7777777777777778,\"#fb9f3a\"],[0.8888888888888888,\"#fdca26\"],[1.0,\"#f0f921\"]],\"type\":\"histogram2dcontour\"}],\"histogram2d\":[{\"colorbar\":{\"outlinewidth\":0,\"ticks\":\"\"},\"colorscale\":[[0.0,\"#0d0887\"],[0.1111111111111111,\"#46039f\"],[0.2222222222222222,\"#7201a8\"],[0.3333333333333333,\"#9c179e\"],[0.4444444444444444,\"#bd3786\"],[0.5555555555555556,\"#d8576b\"],[0.6666666666666666,\"#ed7953\"],[0.7777777777777778,\"#fb9f3a\"],[0.8888888888888888,\"#fdca26\"],[1.0,\"#f0f921\"]],\"type\":\"histogram2d\"}],\"histogram\":[{\"marker\":{\"pattern\":{\"fillmode\":\"overlay\",\"size\":10,\"solidity\":0.2}},\"type\":\"histogram\"}],\"mesh3d\":[{\"colorbar\":{\"outlinewidth\":0,\"ticks\":\"\"},\"type\":\"mesh3d\"}],\"parcoords\":[{\"line\":{\"colorbar\":{\"outlinewidth\":0,\"ticks\":\"\"}},\"type\":\"parcoords\"}],\"pie\":[{\"automargin\":true,\"type\":\"pie\"}],\"scatter3d\":[{\"line\":{\"colorbar\":{\"outlinewidth\":0,\"ticks\":\"\"}},\"marker\":{\"colorbar\":{\"outlinewidth\":0,\"ticks\":\"\"}},\"type\":\"scatter3d\"}],\"scattercarpet\":[{\"marker\":{\"colorbar\":{\"outlinewidth\":0,\"ticks\":\"\"}},\"type\":\"scattercarpet\"}],\"scattergeo\":[{\"marker\":{\"colorbar\":{\"outlinewidth\":0,\"ticks\":\"\"}},\"type\":\"scattergeo\"}],\"scattergl\":[{\"marker\":{\"line\":{\"color\":\"#283442\"}},\"type\":\"scattergl\"}],\"scattermapbox\":[{\"marker\":{\"colorbar\":{\"outlinewidth\":0,\"ticks\":\"\"}},\"type\":\"scattermapbox\"}],\"scatterpolargl\":[{\"marker\":{\"colorbar\":{\"outlinewidth\":0,\"ticks\":\"\"}},\"type\":\"scatterpolargl\"}],\"scatterpolar\":[{\"marker\":{\"colorbar\":{\"outlinewidth\":0,\"ticks\":\"\"}},\"type\":\"scatterpolar\"}],\"scatter\":[{\"marker\":{\"line\":{\"color\":\"#283442\"}},\"type\":\"scatter\"}],\"scatterternary\":[{\"marker\":{\"colorbar\":{\"outlinewidth\":0,\"ticks\":\"\"}},\"type\":\"scatterternary\"}],\"surface\":[{\"colorbar\":{\"outlinewidth\":0,\"ticks\":\"\"},\"colorscale\":[[0.0,\"#0d0887\"],[0.1111111111111111,\"#46039f\"],[0.2222222222222222,\"#7201a8\"],[0.3333333333333333,\"#9c179e\"],[0.4444444444444444,\"#bd3786\"],[0.5555555555555556,\"#d8576b\"],[0.6666666666666666,\"#ed7953\"],[0.7777777777777778,\"#fb9f3a\"],[0.8888888888888888,\"#fdca26\"],[1.0,\"#f0f921\"]],\"type\":\"surface\"}],\"table\":[{\"cells\":{\"fill\":{\"color\":\"#506784\"},\"line\":{\"color\":\"rgb(17,17,17)\"}},\"header\":{\"fill\":{\"color\":\"#2a3f5f\"},\"line\":{\"color\":\"rgb(17,17,17)\"}},\"type\":\"table\"}]},\"layout\":{\"annotationdefaults\":{\"arrowcolor\":\"#f2f5fa\",\"arrowhead\":0,\"arrowwidth\":1},\"autotypenumbers\":\"strict\",\"coloraxis\":{\"colorbar\":{\"outlinewidth\":0,\"ticks\":\"\"}},\"colorscale\":{\"diverging\":[[0,\"#8e0152\"],[0.1,\"#c51b7d\"],[0.2,\"#de77ae\"],[0.3,\"#f1b6da\"],[0.4,\"#fde0ef\"],[0.5,\"#f7f7f7\"],[0.6,\"#e6f5d0\"],[0.7,\"#b8e186\"],[0.8,\"#7fbc41\"],[0.9,\"#4d9221\"],[1,\"#276419\"]],\"sequential\":[[0.0,\"#0d0887\"],[0.1111111111111111,\"#46039f\"],[0.2222222222222222,\"#7201a8\"],[0.3333333333333333,\"#9c179e\"],[0.4444444444444444,\"#bd3786\"],[0.5555555555555556,\"#d8576b\"],[0.6666666666666666,\"#ed7953\"],[0.7777777777777778,\"#fb9f3a\"],[0.8888888888888888,\"#fdca26\"],[1.0,\"#f0f921\"]],\"sequentialminus\":[[0.0,\"#0d0887\"],[0.1111111111111111,\"#46039f\"],[0.2222222222222222,\"#7201a8\"],[0.3333333333333333,\"#9c179e\"],[0.4444444444444444,\"#bd3786\"],[0.5555555555555556,\"#d8576b\"],[0.6666666666666666,\"#ed7953\"],[0.7777777777777778,\"#fb9f3a\"],[0.8888888888888888,\"#fdca26\"],[1.0,\"#f0f921\"]]},\"colorway\":[\"#636efa\",\"#EF553B\",\"#00cc96\",\"#ab63fa\",\"#FFA15A\",\"#19d3f3\",\"#FF6692\",\"#B6E880\",\"#FF97FF\",\"#FECB52\"],\"font\":{\"color\":\"#f2f5fa\"},\"geo\":{\"bgcolor\":\"rgb(17,17,17)\",\"lakecolor\":\"rgb(17,17,17)\",\"landcolor\":\"rgb(17,17,17)\",\"showlakes\":true,\"showland\":true,\"subunitcolor\":\"#506784\"},\"hoverlabel\":{\"align\":\"left\"},\"hovermode\":\"closest\",\"mapbox\":{\"style\":\"dark\"},\"paper_bgcolor\":\"rgb(17,17,17)\",\"plot_bgcolor\":\"rgb(17,17,17)\",\"polar\":{\"angularaxis\":{\"gridcolor\":\"#506784\",\"linecolor\":\"#506784\",\"ticks\":\"\"},\"bgcolor\":\"rgb(17,17,17)\",\"radialaxis\":{\"gridcolor\":\"#506784\",\"linecolor\":\"#506784\",\"ticks\":\"\"}},\"scene\":{\"xaxis\":{\"backgroundcolor\":\"rgb(17,17,17)\",\"gridcolor\":\"#506784\",\"gridwidth\":2,\"linecolor\":\"#506784\",\"showbackground\":true,\"ticks\":\"\",\"zerolinecolor\":\"#C8D4E3\"},\"yaxis\":{\"backgroundcolor\":\"rgb(17,17,17)\",\"gridcolor\":\"#506784\",\"gridwidth\":2,\"linecolor\":\"#506784\",\"showbackground\":true,\"ticks\":\"\",\"zerolinecolor\":\"#C8D4E3\"},\"zaxis\":{\"backgroundcolor\":\"rgb(17,17,17)\",\"gridcolor\":\"#506784\",\"gridwidth\":2,\"linecolor\":\"#506784\",\"showbackground\":true,\"ticks\":\"\",\"zerolinecolor\":\"#C8D4E3\"}},\"shapedefaults\":{\"line\":{\"color\":\"#f2f5fa\"}},\"sliderdefaults\":{\"bgcolor\":\"#C8D4E3\",\"bordercolor\":\"rgb(17,17,17)\",\"borderwidth\":1,\"tickwidth\":0},\"ternary\":{\"aaxis\":{\"gridcolor\":\"#506784\",\"linecolor\":\"#506784\",\"ticks\":\"\"},\"baxis\":{\"gridcolor\":\"#506784\",\"linecolor\":\"#506784\",\"ticks\":\"\"},\"bgcolor\":\"rgb(17,17,17)\",\"caxis\":{\"gridcolor\":\"#506784\",\"linecolor\":\"#506784\",\"ticks\":\"\"}},\"title\":{\"x\":0.05},\"updatemenudefaults\":{\"bgcolor\":\"#506784\",\"borderwidth\":0},\"xaxis\":{\"automargin\":true,\"gridcolor\":\"#283442\",\"linecolor\":\"#506784\",\"ticks\":\"\",\"title\":{\"standoff\":15},\"zerolinecolor\":\"#283442\",\"zerolinewidth\":2},\"yaxis\":{\"automargin\":true,\"gridcolor\":\"#283442\",\"linecolor\":\"#506784\",\"ticks\":\"\",\"title\":{\"standoff\":15},\"zerolinecolor\":\"#283442\",\"zerolinewidth\":2}}},\"xaxis\":{\"anchor\":\"y\",\"domain\":[0.0,1.0],\"title\":{\"text\":\"GeneticRisk\"}},\"yaxis\":{\"anchor\":\"x\",\"domain\":[0.0,1.0],\"title\":{\"text\":\"Count\"}},\"legend\":{\"title\":{\"text\":\"color\"},\"tracegroupgap\":0},\"title\":{\"text\":\"GeneticRisk Distribution by Gender\",\"x\":0.5},\"barmode\":\"stack\",\"width\":800,\"height\":600},                        {\"responsive\": true}                    ).then(function(){\n",
       "                            \n",
       "var gd = document.getElementById('5ce69efb-e061-4eca-b9b3-7d4464ba3b4c');\n",
       "var x = new MutationObserver(function (mutations, observer) {{\n",
       "        var display = window.getComputedStyle(gd).display;\n",
       "        if (!display || display === 'none') {{\n",
       "            console.log([gd, 'removed!']);\n",
       "            Plotly.purge(gd);\n",
       "            observer.disconnect();\n",
       "        }}\n",
       "}});\n",
       "\n",
       "// Listen for the removal of the full notebook cells\n",
       "var notebookContainer = gd.closest('#notebook-container');\n",
       "if (notebookContainer) {{\n",
       "    x.observe(notebookContainer, {childList: true});\n",
       "}}\n",
       "\n",
       "// Listen for the clearing of the current output cell\n",
       "var outputEl = gd.closest('.output');\n",
       "if (outputEl) {{\n",
       "    x.observe(outputEl, {childList: true});\n",
       "}}\n",
       "\n",
       "                        })                };                });            </script>        </div>"
      ]
     },
     "metadata": {},
     "output_type": "display_data"
    }
   ],
   "source": [
    "plt = px.histogram(x=data[\"GeneticRisk\"], color=data[\"Gender\"].map({0: 'Female', 1: 'Male'}), \n",
    "             title=\"GeneticRisk Distribution by Gender\",\n",
    "             barmode='stack', \n",
    "             text_auto=True, \n",
    "             color_discrete_sequence=px.colors.sequential.Plasma)\n",
    "plt.update_layout(\n",
    "    title_x=0.5,\n",
    "    template=\"plotly_dark\",  \n",
    "    width=800,              \n",
    "    height=600,\n",
    "    xaxis_title=\"GeneticRisk\",\n",
    "    yaxis_title=\"Count\"\n",
    ")\n",
    "plt.show()"
   ]
  },
  {
   "cell_type": "code",
   "execution_count": 31,
   "id": "fe9276ad",
   "metadata": {
    "execution": {
     "iopub.execute_input": "2024-09-05T23:23:07.119293Z",
     "iopub.status.busy": "2024-09-05T23:23:07.118902Z",
     "iopub.status.idle": "2024-09-05T23:23:07.125348Z",
     "shell.execute_reply": "2024-09-05T23:23:07.124397Z"
    },
    "papermill": {
     "duration": 0.036982,
     "end_time": "2024-09-05T23:23:07.127226",
     "exception": false,
     "start_time": "2024-09-05T23:23:07.090244",
     "status": "completed"
    },
    "tags": []
   },
   "outputs": [
    {
     "name": "stdout",
     "output_type": "stream",
     "text": [
      "Minimum PhysicalActivity: 0.001851952954428\n",
      "Maximum PhysicalActivity: 9.994963504187217\n"
     ]
    }
   ],
   "source": [
    "### PhysicalActivity Distrbution\n",
    "min_bmi = data['PhysicalActivity'].min()\n",
    "max_bmi = data['PhysicalActivity'].max()\n",
    "# Print the results\n",
    "print(f\"Minimum PhysicalActivity: {min_bmi}\")\n",
    "print(f\"Maximum PhysicalActivity: {max_bmi}\")"
   ]
  },
  {
   "cell_type": "code",
   "execution_count": 32,
   "id": "b335fe95",
   "metadata": {
    "execution": {
     "iopub.execute_input": "2024-09-05T23:23:07.185269Z",
     "iopub.status.busy": "2024-09-05T23:23:07.184842Z",
     "iopub.status.idle": "2024-09-05T23:23:07.266190Z",
     "shell.execute_reply": "2024-09-05T23:23:07.265307Z"
    },
    "papermill": {
     "duration": 0.112035,
     "end_time": "2024-09-05T23:23:07.268175",
     "exception": false,
     "start_time": "2024-09-05T23:23:07.156140",
     "status": "completed"
    },
    "tags": []
   },
   "outputs": [
    {
     "data": {
      "text/html": [
       "<div>                            <div id=\"4b636f7d-b251-4d65-8174-4b254a19f76e\" class=\"plotly-graph-div\" style=\"height:600px; width:800px;\"></div>            <script type=\"text/javascript\">                require([\"plotly\"], function(Plotly) {                    window.PLOTLYENV=window.PLOTLYENV || {};                                    if (document.getElementById(\"4b636f7d-b251-4d65-8174-4b254a19f76e\")) {                    Plotly.newPlot(                        \"4b636f7d-b251-4d65-8174-4b254a19f76e\",                        [{\"alignmentgroup\":\"True\",\"bingroup\":\"x\",\"hovertemplate\":\"PhysicalActivity=%{x}\\u003cbr\\u003ecount=%{y}\\u003cextra\\u003e\\u003c\\u002fextra\\u003e\",\"legendgroup\":\"\",\"marker\":{\"color\":\"rgb(60, 9, 17)\",\"pattern\":{\"shape\":\"\"}},\"name\":\"\",\"offsetgroup\":\"\",\"orientation\":\"v\",\"showlegend\":false,\"texttemplate\":\"%{value}\",\"x\":[0.6589401821191965,1.670556694687857,9.92830825444697,5.630129431716631,3.5662179882605205,2.8820269385003883,2.5699173531094752,6.641527650544821,4.19387831519686,9.654106993686115,6.838430306453614,7.920445910489612,2.9274154858315997,0.7918640910862584,4.878228373818811,3.145815465462273,2.020831650079237,9.526421308008612,4.439882143420303,1.7470859204878564,1.9865065268113915,2.8070974246459404,9.993162681897129,2.680115005195973,3.2880180457845363,6.593281279840014,2.939613764102983,2.1580425105969336,1.586371866495987,3.1268266502779216,1.0591568962877351,0.1864658641478289,8.046416973346773,1.3789494241457656,7.759768498152423,7.975424789866597,5.379195263292431,3.0968195831295144,1.4503273374988843,7.368051067209991,6.013869859817859,6.554534564935642,0.0866908984513104,9.275170157078245,0.6629018744655024,3.668058851400057,4.027116496517003,0.0135552449794884,4.970893093507971,7.528089945110099,8.23268653114772,8.793969933058843,4.877188683153695,6.306361905296505,0.7951971329649876,4.880382242817499,1.548157548717353,3.6964311762252144,3.293053128645993,4.235405772415081,5.716366179741326,9.02876647062996,3.944846313475053,9.811311957115509,7.590280480512028,5.114810467883832,6.440264371119441,1.0222417113194449,8.445215313136549,5.823574550639659,9.860674802096018,6.364287437528491,8.34111583266325,7.997627427952398,3.4546115146826883,2.596106252332117,4.3049358343151,4.672413444088371,2.400847019366439,8.945978733509719,5.42547862300646,9.784443921535695,8.100177780462634,5.55704860391946,9.470402781443592,5.04874815095307,8.871065125186705,3.5814478119580557,3.786423834040941,4.181306829709311,5.466256459432461,5.534902701988241,4.963989216770842,3.0600097358316747,9.27206464790831,5.885860973492543,4.077392161915949,6.511769607436182,7.6796675780980515,9.607280882282431,4.995491622675826,1.120985103507588,4.407658014365413,4.789705614534714,8.969940781856739,3.948007684629531,9.533242648871385,4.851319077143348,9.73780500978929,0.0819832113096219,8.988153748063466,9.311204519433506,9.610209357652131,0.1307653417461485,1.71700836550309,6.537645030932362,0.2547269173510713,0.6360899617650073,2.2107887369344192,5.124397687438842,5.459025592668075,0.3426112279350435,1.7036725078153114,4.997056733346553,5.939406209434052,1.4840169648621535,3.9884141194697063,9.044014365169524,9.98899287046172,9.872144548311413,8.816745102868724,3.946600879499458,6.8657429207478415,4.165922277841987,6.4852702682420285,3.094324709694832,6.06202253610332,5.237584965528499,0.2448026581319995,7.907029037461138,0.1189783224515561,2.931559422533017,0.0592406545400236,3.7620141329519816,0.6316052816413931,9.135109668312412,4.156792951628686,4.5949577486441004,3.4985023609085486,6.275061542017663,7.844081166182038,6.481467430489779,7.482071183951275,9.059736635092603,8.635465316714287,6.740584527536958,2.146379629044286,6.377028510419288,5.060830957405109,7.172192310104201,8.32931648392915,7.427214971864174,8.465611699612852,0.6386637334102385,0.3162003823746395,2.5850056769959395,9.006660841086283,8.236592509839738,6.8272729779531165,7.007586674397159,7.266704692582126,9.42602700484747,8.321911523075576,6.233903870270475,6.657154352571405,2.13740262061122,6.5731882515627245,4.246790124184585,1.529618706057437,8.064028192465743,5.102470998031457,9.774250416894215,2.816793544745249,4.806701123050767,4.479954546688681,1.2077952243257872,4.261152788307795,2.875534564209249,1.603204713669344,2.821555840361393,2.33251691266392,7.34073531005878,0.3077517825916009,6.174627479132213,7.606613420236065,4.807234564689732,9.315649800079184,7.078806952365353,7.479236513114173,1.9693348744087025,7.772955758390735,8.320947360831148,3.612663884059896,2.1336306803297123,3.850506792036167,7.396079690001372,4.176390058687027,7.366518752247879,1.1356454097753763,8.060117104884844,2.532074816423574,2.489289877145937,5.903809652038607,0.7011804574698965,0.2629772668466856,2.6102866529344926,5.380675507348228,9.076163862252272,8.464351763073068,4.904464599209755,0.3705199369349277,5.352527346293091,7.047955999252955,3.3916453252503374,1.110633032816547,2.7856795320565944,7.71588864467814,3.512438322833283,8.119814906857101,3.195214518074758,1.635550384138181,4.358483595136082,4.52274512289139,0.1610821854933697,1.1704507270632614,1.8492601877281745,1.135873173786749,3.415260754213638,9.64622855617018,5.09222538327078,6.275560238706465,3.563864785230282,3.2348776164314605,0.2314677191500835,5.003336556760224,4.836090067516663,1.5783072618112304,7.643240002067037,4.92674330311003,3.3899397016157327,1.4690890902292697,5.521608269710124,7.528170260888097,2.819993526849717,2.1879435157672256,5.21934964064577,1.5534330251001691,6.666133865942849,6.053436279442304,0.8708204959142862,0.3652037938137387,6.202886525885849,2.942937739887408,0.8644575317339853,7.5942870495648656,3.140440030176441,4.595995496382236,2.3681292745376927,6.273170783579646,3.014884153543594,9.680209612276284,7.029475486169066,1.367222763734658,4.166948396734668,3.854210997298786,5.342471107203831,8.419306744792532,5.834220151830017,0.6155667759999928,6.554156968028551,0.0826529794585839,7.79960460540393,6.66636072411242,3.08785658352586,2.924418045895157,7.982729965463056,7.833366919246205,3.523023543767599,2.989477280797803,5.5982478888279,0.0836565998414418,0.8266703798654229,1.2616959014873674,1.854118178271742,5.120181266754691,9.92241914861122,6.526134017473535,0.6129879444922359,5.255793740622417,4.966452123895044,1.441678158180495,9.202723688024076,4.4076524767536895,9.945591406097398,4.200722952521643,6.079577026836093,1.0476253645144007,4.542278238068692,2.387658940039733,8.35564798571235,7.8391958486753985,8.241799996253585,7.236094377579514,8.326832236200513,2.008287501749209,4.520437765798016,6.918468799459681,6.373924979351349,7.16354482874087,2.242583831512317,0.9843470904498974,9.168065780747764,5.601718955673585,1.5382592450741095,7.934365818873616,9.149299366292826,1.6956351857110907,8.174124552691106,9.332250613191285,9.383616002960174,9.141564616535012,5.464210123601028,3.5621131725386923,0.0727280769400928,0.6091222687152709,4.288390152973907,3.993261463915103,1.847139095698832,3.954800280316568,1.746500654553681,8.487912527758406,2.9819487787559886,5.9856435015831,5.028430619990868,0.5188207759399222,9.422337194911664,5.272259782504833,3.250576433918153,1.5812656963306826,3.3852663472683577,0.205116030233895,3.635581553482977,5.314859273045048,8.718662458509447,6.873744176977976,1.115823131332414,1.477463244379611,4.281233678183747,1.9570775163878784,0.2784977758275575,8.050148801180702,0.1952257069799412,8.306896051980141,1.4410396303296602,9.74678410807116,6.038739118261901,7.349829716298954,1.1048362796806488,8.621040734514802,8.391923428715383,6.529927315417177,5.0227486459538735,7.214891731316725,0.0592821533687815,5.924407553984594,8.474061349292366,3.5689988717475485,1.0828935648291682,4.2087724974320615,7.271044490585069,1.0730121037067253,2.0604856021288995,1.4755184682869993,7.969477555752249,0.6289262245248683,6.865865021144329,3.6645692075319136,7.557912428853023,9.643834187840376,1.145452995864823,3.1438504106745846,8.10125427718857,2.6615838605117648,2.151205970460409,8.253779778689717,9.870823640059704,5.568805901479657,2.780487483333393,3.98565961600054,1.70130327383609,7.618872788907525,7.734740178227679,8.751209923824945,0.2660256359656388,5.619813416263792,2.142554343431844,3.408830154923571,7.849556152865075,1.9203365236149617,6.383417505810897,6.545661912235982,9.540939149023009,7.75160928528937,8.036351471536934,5.316007490178935,1.8678080716237069,4.255633657183516,5.494895735118204,6.784192517137123,6.077091118319272,3.9397782891724353,2.6531310699584143,1.682308432036831,6.938453862722663,6.45398674312485,6.873724657578066,3.7252745280279487,2.62407822570745,7.597213286809254,7.736473950553341,4.556163739668406,6.119040847673242,3.735196642317412,7.019472001198067,8.357215966478712,6.882332773356494,5.125826268471365,4.586579594923704,6.423196509757442,6.798108916013303,5.58729443524539,6.24942275107395,0.9658868249453224,9.517655161423267,7.90773063732034,3.739278697067838,5.6281261095363,0.4732453013642135,0.4122781399906039,2.507983351119627,6.897016423646233,8.521477478000117,5.591858799798484,5.321327395823524,4.02309533791466,1.6159795595802118,1.1835410132658752,7.60679761220966,9.275035512965756,4.582832163862731,6.594456587156382,9.144576508809411,0.9011363293414454,7.704814531190298,6.168168843755751,5.986371788298613,2.925404284815698,6.838933547776769,7.947977548207765,1.1285816494369716,5.335214309809838,1.0126518098740966,8.725740192976446,5.076367226563473,8.079656892607574,3.680856376662143,1.250782268163254,0.4149930438571148,2.815096207723755,2.4423370036407857,5.603519740199618,0.2173883806370735,5.205705442991734,3.917717420120032,5.771222699144421,7.024175281503647,6.34091945079839,9.846443693733663,1.3826534387687106,4.297370089297785,4.248307366433112,4.170532037029206,6.637983920426684,4.8982806054672245,5.174325598129631,4.323559921467647,9.916994610185624,9.27561348819042,3.0772418936437096,1.115939247666672,8.397647240386028,9.971702514257244,2.926088940396455,3.5778492584176624,9.416331814852027,7.111295180030899,2.956383317796361,5.810464912839151,9.44229579364256,8.118131069457785,7.418327137286597,7.369963117270224,1.7802032429227033,8.246812392279365,2.7611863244345813,9.303666579015296,3.6463999101378297,8.576603970422564,2.6623349451780145,5.145269365822404,1.0688529548906056,6.60118902996174,8.360792751668383,7.184472813024161,5.232585129386573,0.4511587860145949,9.334410071708584,7.054895485786346,7.45864238365333,7.946805755108071,7.477434259276107,4.4111616409833365,7.336218292879469,6.25026787810329,8.540163336687865,8.024598153373704,0.4137438246725988,3.788870903326053,0.3471615218389456,1.0207492476609792,6.014107220036113,8.738218211622534,1.1982475870926723,4.510892874668315,9.108789048064438,8.143009836715878,5.1966789646593,7.71571439328831,5.22693774044537,1.5809233728284875,1.247361132216791,1.8836823206706976,3.509220949656795,9.305292676740187,7.996784136536013,4.328015612263175,4.93076709787574,2.656094576664149,7.043529564721301,8.027656714620381,2.3890469566757657,0.4182162378646537,6.238889431629704,5.625121191353166,4.021311550288765,6.438939417732101,5.506132979851436,2.505815765941928,3.977289756227224,4.281135697472417,8.802479944755637,9.609041541289594,8.930013623964971,7.191780240519796,5.849927336058219,6.89261635465955,9.39109220732689,2.4999873522383176,5.351205076734049,6.89608019000408,6.792470013242746,2.5227895957683644,5.867315273897519,7.959131424201564,4.750789800502439,7.93298076698735,3.598825977545548,9.387601271637587,5.339284404991011,5.959479507926143,0.313615688045884,1.7026913712859426,6.329338804710448,4.1987037178227125,5.081637904581747,0.6297140873370044,8.341352384103843,7.845056022962172,1.8535397572184955,6.343293572573794,8.183152116542717,6.408541364155999,3.103980952958448,6.561111504781671,2.1046174768321224,3.1825499727942086,2.4006965310717865,5.569251023902066,1.082266467655486,9.333103803483386,3.335123536628668,2.1897012710580133,4.965498136018312,2.7699781845471607,5.349040863826443,3.4850914978208545,1.320668107690408,2.65895242027262,4.384398449615253,0.3029322647962562,7.70642527014762,6.218245645904158,6.013596072783543,5.46049931882766,5.903131723250685,9.346519527072203,0.0856921081074069,0.4779970965774927,1.9149340993080235,1.673013799931501,1.811944594691827,6.719438858486502,4.594833010501653,9.917788783346932,2.268859148029448,3.108301010274946,9.842407168016493,8.31758140802247,4.697992206785328,5.545968855459897,8.431779206528404,4.80980246046328,2.060237235820843,8.284445385543854,5.377724912756435,1.530425971638213,5.055858311843976,4.132033805968588,8.76842531881758,1.260554313607034,8.752098044480256,5.122110168102847,4.0436442998114766,1.6196718440294031,7.008179626386793,9.268067091100406,3.7537735389931983,2.415850006708334,5.54866916999157,7.961859484338703,0.0376769455053305,6.313774363954292,5.965160006986308,3.1815218580416005,4.514230036049703,2.4696322416182093,7.898857379518428,6.345349333661076,5.327116220389852,3.925261984178272,2.9138438602073213,8.227364860434314,4.5140767043356895,5.014474198416727,5.208287305407416,4.483669354315765,2.5608842623842376,1.2034044024305202,0.9853726716774068,7.574625233406886,2.2352782230151136,0.5567281495397558,7.97517406695886,1.54061652860648,6.2514609173335405,3.386432714478632,1.264802566913095,4.144809792543599,0.1480886113262514,8.410449825125603,5.134979613418572,1.3916001090796182,2.369803183889847,4.479751921385267,1.8886938281554864,2.6859916150108587,5.343855642352632,8.326090130383855,4.018396856899208,7.169752735535483,8.766842134606485,2.16300940296162,8.071919704021601,7.574021983310274,3.56937297948135,9.895199595008672,2.6257237143595704,2.548032660316956,7.722591646531978,4.346573180510842,3.3079499478104326,1.7866280533910297,7.65332430934544,7.86321806136077,5.665640032301404,9.573136131913728,3.1816327042265424,2.196190454793372,6.774667689344619,7.584086407997047,2.249059705518224,0.7661076426111324,8.10516486586372,9.765019736460124,6.446722860722844,2.778669001438941,9.96672608552792,8.932666362670775,5.133806462802939,8.253212848418338,8.158205232629669,9.347989696734995,8.4092384377346,6.436792359571645,6.093037189565074,4.673572883316117,6.264856399707574,7.952165865303828,9.690376263025533,4.672873581821201,5.736532029887571,4.448054950587817,6.6848862098340405,6.299205040612596,0.178337901936233,5.411615591006584,0.8848689569901402,0.2638361800553834,7.911971620846982,2.5864986215930053,3.4065507728729925,0.6408458760406621,1.7950026049435064,7.656048182577924,4.935308302326209,8.806684625501484,3.972421314668352,2.687007357542682,3.4759981445865096,7.127717935169045,5.550056723344861,9.041912075524278,6.021687693888833,4.930182084815032,7.857527238867329,9.475338507334452,3.5584591124497056,2.4987621016547767,6.162173962941392,4.98872821153881,9.891855748647837,4.6236178414773335,0.7433155136034586,9.77369060777636,8.4358694559354,1.7825014395796337,9.046052531128693,3.4066682082174458,3.7711198453444448,9.063914823621593,5.301155650353153,1.3776292939851964,3.69056159341804,7.220974462678807,1.7418418806801672,5.902311974063588,6.952741329444168,3.4385357554257934,6.938806887083223,8.842073518293187,4.721167442332409,3.829093281797857,2.511584013582857,6.042054798633042,8.79852048038716,3.2466126718519406,3.962355245373035,4.066255175499839,5.608123417775172,2.284089615674386,8.222111553077042,2.956022775042213,7.05362690896682,5.13215741779552,5.8589760335275685,1.7960873882730288,7.350231981781706,1.886205190426311,1.1347363762743912,5.4667949988878695,7.092971369176652,0.5003583643475673,0.6939531494054207,8.02679162705919,8.09032699507332,2.453047170590812,6.152282028002035,4.431800751446595,6.326960414035129,8.62879284099225,0.798564245822565,7.779844259884543,4.930291045210393,5.641269437619965,6.539313600171202,9.226231491291074,0.5671995355173787,0.2947635212444766,1.7826178148877347,9.864477260267364,7.150763673777757,6.146411190545019,0.470390534147479,8.791102238929648,8.127568532971596,6.648000438670849,3.391308154847027,0.7050495556825731,5.800384879009225,7.196945714608375,0.9424035047724744,6.337676597984959,2.863660678871586,7.642442212198118,5.39615850601837,1.290367878104367,5.26519447733236,3.9573686336671865,1.803559682816519,8.415157240621232,0.110284484991362,3.12128276878106,0.1259503816942675,0.9600694650615272,2.9709621917308104,0.5427118538937359,5.966305323571412,0.8686290798618279,7.017136340660953,0.5264211262716112,0.593088948010968,3.0532589903326635,8.965715249692774,6.413932487233165,7.701312919289194,1.4155210947710606,8.34125433247246,0.0814624819423515,2.1305735073300616,6.160923211499934,3.752464085940504,9.841933917185637,0.3033924681831823,9.985981679365432,6.23627832861316,5.587069945960965,0.5951244256397437,2.733288766658907,9.246626882915956,3.542460031892442,6.61653200467251,9.994963504187217,2.630697138335412,5.760808790144938,6.964377927022132,1.6462724656541516,1.486725636961821,4.563079116581733,3.8581252175928937,7.142154368573138,0.6950877144858625,9.721666237406904,0.1427698168583235,6.013168243361512,5.626325958673883,1.3471573086972577,1.509159827135298,7.926774877946268,8.87562458412683,2.830169658837696,4.379639639625684,3.5499504103835355,0.7254701298665189,6.732042460158095,8.251929348056901,3.0487935739120706,9.901757936307185,0.7585155728235493,6.61790713814521,4.48228014526089,4.466019011066559,4.576456160335402,2.5868177380142843,7.155628273322324,7.215765260850269,2.8239711010582704,8.353064608584502,3.1684494365033,7.250931239865422,1.2099976751206645,1.6870164280374569,3.157956445082512,5.938737676678615,6.455114854786993,3.963561719674749,0.7783915311051404,3.736346520927243,6.887675159591515,6.709954611303159,1.6019641320544276,0.0778397026896715,7.529816172961167,1.0636816638524371,0.823491439642855,0.0270121683416346,4.326013259569272,5.032639009008144,6.3766404614859065,2.9606384071258587,7.104247163867799,1.6933185740694157,8.319900531103473,5.718483288904456,5.838898233720484,2.0977541377910813,0.7410874930038824,4.647248030806715,6.15611951922359,0.950464586616856,9.505344745281668,9.804143602328068,5.454566953924919,9.50069155273406,1.794452375808531,0.2542068517952489,0.3940953529038993,5.875124794267791,0.6164188343682353,9.585456068240871,1.4193321075939858,3.047228060529786,8.225178019983485,2.187403231040931,2.429684584545706,6.423089557910182,2.7608608848926237,2.174476340077003,2.541777143056575,4.906474993407269,9.66099872731482,8.322379415612284,2.8461026456017717,3.633732084980977,4.645122505040774,9.789296470169903,1.723904683357157,3.5748310349188284,7.29426093982715,9.639437342689432,1.5567521276423768,2.2737995419434576,2.2569467439043023,0.2093202949207351,6.041156249809495,6.707030741458938,6.025258901252534,0.7132298941281434,0.692301257456317,2.1038655449412405,2.902945156989146,7.865436559100473,1.5939026574892112,0.4409221639753213,3.939875077130552,4.163921701419203,4.509073381889542,8.269035440269686,0.9800541487094172,7.039420824219621,3.379455710452908,3.0998013643547,9.3254312608598,2.4846852441674203,6.425318353393664,2.7512775737609205,5.071438826403851,7.862928925962779,8.817225235162606,8.386972402950503,5.821807361446398,2.4881631533822213,6.612333832618658,7.09905045779608,0.1069199011350141,4.392105109318746,8.432620428217643,4.895875962430473,3.113754421633211,8.717977710246627,1.5588069752980571,2.064452324162004,6.8737236693613335,3.52435941526575,7.130168357337789,1.5770362125949189,2.5226908960084597,1.5664737836363352,9.529103135635095,4.054039608509241,3.37219909910226,0.142021561707647,1.534175794108874,4.211358562424995,0.6850279257189407,5.107393295062169,4.550154384644478,7.67168140344352,6.598027014003166,4.459473053205738,2.246607001050714,7.268635660178063,7.078621034542042,1.532961605153874,9.147518314254029,0.6440511601504317,0.550377088927162,1.87350417662427,9.094607980487712,5.199981240369218,7.879409206729001,2.278431880765006,4.902219746537408,3.5828946362388225,8.278286070661927,0.2260443935922662,2.438427299661053,1.5257422430237877,8.591890387215694,4.675438496937657,4.042200438932162,4.494827621010798,9.719245507023352,8.502673943359241,7.063687718503076,2.904789592232546,1.6517299951844775,9.214336290244534,4.230755227964829,2.787557994686292,4.709208264176354,9.17847422820352,3.870673133912932,5.626409972480994,8.029663011085669,4.271325310483912,2.335418019263683,9.945257483830334,9.565708574521596,8.43479169125514,6.883738793859226,2.9486562806969694,9.13412938164032,2.7555667012122878,8.008094946768324,9.182581679413063,6.030038404299115,8.030562178911788,7.916950992017466,1.9315775112097988,6.679244735960847,0.9346793690444356,5.078501431374813,1.622355481405775,4.163494987964317,8.329820746984376,9.871678396302045,3.179598316596177,5.319556987831766,5.112980243704886,9.54401509831066,4.785837324327735,6.991062053996978,9.21789233108526,3.733785595368401,9.021222382453876,9.174562218910134,9.306625039671308,2.704461854714264,4.003555942699585,8.703959082257018,3.591618242804188,6.002530329335051,1.1805450726005196,0.5627498811124076,4.119939894921726,5.789165325927175,3.926991133589413,5.77735770160842,5.150843761717851,6.857072292860758,6.495324310653898,4.242457032065801,4.249952404198632,1.40778340012232,5.132385720964592,5.871791281356967,4.764893973538262,3.25707335086999,7.216485442517358,0.7466164464522407,9.144403697540472,0.2064343954579328,9.623501334382778,4.623556009346625,4.126699440035412,2.564440174631881,0.1007113483228316,2.747902644217998,1.0939992546033397,6.598208426933947,3.1907497232072624,7.671793284036616,2.0691618734611694,9.002348574321095,5.229815151058325,1.145061964689814,4.008452356534789,2.0676052406976164,1.996854261681792,5.063697376522089,6.718920156363726,9.11618205503428,5.021620107636534,9.658387750583302,9.416348520733688,8.650625299843604,4.999772649624186,1.4090394368798351,2.179044698153849,6.476700027119756,4.217549802841961,1.468016317539964,4.789939336393104,0.1743054550204592,7.338953708995932,0.7358129448969086,6.291136199121191,7.930103076255994,1.3264387445396553,5.186386906660125,7.790675143594696,2.6063345475700137,1.629165930016191,3.3681911096745685,5.546991765833158,5.7527959485475,1.30876333457687,4.575688476739717,2.6828219553948784,8.420242180649508,3.135751320640308,8.387045245338596,4.285646126017921,7.265857658264533,5.100602285441437,6.219626241309765,3.953565108613831,7.682067678074907,4.251893835736583,4.5746164658582185,5.176786682309572,8.318241183859834,6.5937892860146485,3.4916038656574977,6.703196339815428,6.424265730085773,9.310192758797044,8.4141643602535,6.474469237512482,3.415071106840436,7.795764488612695,5.75208293062801,9.852699881009016,2.4750612856980405,0.7965584093088696,0.6989181188794769,6.400303883516804,9.39260228911524,0.0193191429150518,7.257710469577773,6.570651825329454,7.323041922194658,3.554054067623356,8.20496444657855,0.4470693141886195,7.554311006220276,2.670719413490877,4.768377748580716,8.226362715572206,2.71359035191137,1.8520751164389349,6.813131853478842,5.333948915068046,5.144038687461845,2.5676951553791314,0.3488030582002766,4.102691383317168,1.0655948046776798,9.059891506492022,0.4125032347173052,4.316508541843814,0.5224558370082788,0.9554387456476632,6.5886666692202205,6.4711126097409455,0.3305219487943978,0.0113147512087019,0.78818077242784,7.629988977119422,5.845764727515071,0.381182451884916,4.880970158728273,7.120293570544513,8.689513946008063,9.340364906590104,3.2744056295406665,1.358324284132657,2.3692592073144745,7.761714920402237,9.714842150423106,4.663936173603806,3.053532135477898,4.291905819600345,3.0481314464513245,2.564875232071543,5.937507524071796,0.157359803735444,2.5955224866498816,6.61382077844989,0.3206269630680503,0.8320181650893499,2.933961447857848,8.778047986089849,7.648861601652962,0.2215662941624352,5.017128166884919,2.746874939874168,6.486456590620629,7.215538825934612,8.628625771292825,4.754162371040143,9.944500885455843,9.799861072871094,8.821667244710332,5.748694951580708,3.9800643750381504,3.6438631013978497,0.1212475008774482,2.491744972423665,7.188082349491646,6.036320998930665,9.164221891675336,0.5002226691655787,1.552766031773306,7.892437893521301,3.5850763119533378,1.1834533371787792,9.964505051000891,7.872503026693629,4.087410367581226,8.233474769461402,6.806038701191533,7.899747595698333,8.152063775656499,0.8472868329031791,6.229728876880957,0.0678555297682759,0.4345624630117062,9.039800090558408,5.275637213568055,7.359019858685248,8.38500990443146,9.49586767564585,8.69352847922796,4.833114486972939,3.3597030738051146,1.5449323620603816,4.003214824872799,3.6649357916116334,5.595748419558734,6.655094087572135,9.783254764450474,7.283861861007325,6.4374853244292325,3.3509243426834256,0.3450387649832598,2.8812512885469177,7.684479004596177,2.0527194080380173,7.121881936741144,5.797798425694158,1.7185686975046488,2.6162480629183,4.963036034864765,4.183747051078475,7.785638475467596,7.34404642543247,5.745745034730171,8.222747114729252,5.626695406843086,9.6438925665726,2.1722409915108143,7.141319936021527,3.69944132054468,2.7896619442019386,1.8038747596771287,5.525034762615438,2.1546943274921126,2.003508514484059,9.90531905083818,8.017474168457607,7.482768202543753,7.940606258827549,9.689228737187426,5.732766887532035,2.2024387740286056,8.622096407532391,7.427307294540901,4.1430831233417305,4.735694985746464,4.112523984788691,9.29942160229004,3.4353161149829416,9.634842786561723,9.102717712539498,6.305211422481733,5.798217731000746,3.700892800699709,0.1833838901064988,1.2762318623775326,7.542313233495487,4.715401265881653,1.498381341879681,2.63960854131871,9.478368998469996,3.671328353102651,9.076819452191534,3.046358322935767,5.432200943671609,0.2047708336219789,5.2187511037357694,6.369420106106302,2.34305099337178,5.78937176205357,6.471677720509855,6.868860783817565,7.764033220221032,3.113392429294165,5.6777695643187815,9.815790297645943,8.981441706651571,9.526654280983664,3.861363985285714,7.869281058966617,6.198979517603478,0.8273508306224109,8.239803891570654,6.771012763573646,1.989173595152668,0.7973855742946134,8.370221306483307,0.7890182949120106,0.9135386536643664,4.274082879043153,1.3479782841947707,9.136695974427194,4.702839362632368,5.691509806545715,9.281060894780875,5.302632256383486,3.5359114595731853,7.971551058158318,4.428501974752107,3.184694256023054,7.232294586055346,8.016056766130431,7.917161675842714,9.776744141287075,7.866669488749627,7.699334359486862,8.574852537362203,0.001851952954428,3.6243141118777062,7.376030960344221,5.997190111102774,1.7757200263161763,3.0373308908854533,3.367926110821068,5.678281111723161,8.315982964410765,9.3249177977768,7.50092412853639,8.429503901768099,4.700959584515161,3.897753196222874,3.9270853214421697,6.160385283399571,1.24236705555809,5.794941827902612,6.651328601837255,4.389087402062389,9.531671767711671,6.082132723795752,2.199994722366252,4.792162574335163,6.75404437135294,3.23629124580479,0.7964160628902317,5.83435634710885,9.4787016861968,4.850719855631738,9.06109080647038,8.35023588371694,1.4741278363398336,7.081699218355708,4.354655250719785,2.5024632526293686,6.86938355666703,7.426607186564214,1.798963187348388,9.144446820562084,7.511472439514409,9.333754991419688,3.1707321876369097,9.393350157429868,3.6851765783838086,0.5396976142739174,7.629693887090233,7.035081440883408,5.979109922633325,4.89893744384174,0.3216527032263139,6.245972515201544,4.168346152227937,5.60209402740945,4.293213419676363,9.66056132765199,6.041089011508472,7.492363306024671,9.363469474710833,5.9159932291673964,0.1206251782240075,0.3429167831054236,7.023384341018618,2.7908513615128347,5.793797273479488,2.022771810906689,2.7024887506171416,5.046410559480753,9.755694633560822,6.162704892091916,9.361481045130231,9.593798543869475,2.081099964205074,3.1119360246894443,7.699922812187041,8.667640022913439,5.192267441895277,9.932260672805493,0.1157219875527026,2.995926555852156,6.231617537445798,4.692899109374828,1.1660296642880077,3.677870854805636,0.2544714329503905,6.427460460752794,8.927425429963552,8.848741237834588,6.995444737655465,4.657701954979276,5.120316186914897,1.369188239956629,3.41017093119203,1.8772807549827364,8.212002033499546,9.147539013379598,5.36923261420117,7.277640405129441,1.2146477090712748,6.085346432772384,7.02791021377846,4.527681295114007,2.4327308447069864,8.773745205413913,7.429087199537224,8.998572818491951,8.184026474978234,9.903744295788623,1.9217273321444892,0.8674776780397409,3.370027913372585,1.290041750232589,5.231301129062244,6.330289054077425,5.782886151734036,2.592401353902701,9.088240309687968,0.2117236373537845,3.48013353763493,7.18992475398061,7.669289263491594,4.161185444318599,0.1690981325636709,6.180436791237374,0.6309468118321571,1.078557761535145,6.5025071964619,3.124883261428548,3.4803015270825286,4.868070769832435,9.78578394859374,9.654422207387103,4.162609993600751,2.654992172182822,3.0259215266411577,2.687812981616041,5.322458071417807,6.068598078009285,4.887793882296661,4.079943622481523,2.1128503756993777,4.825055913821133,3.4110271380245805,5.415954627983429,6.751894155116239,6.333121744366106,4.624902104055933,5.560524242799609,2.848561309607597,0.2424025902238968,6.250194541681041,2.525685591376869,6.689537100682745,7.470084995969594,9.159277461037812,9.58122795479613,0.1052604630970144,9.903742093546374,6.8301831849416095,6.4352416037418925,0.152130951953554,8.612334118867375,1.4549144724782637,8.37330153933041,0.15562546258716,6.459642624991613,4.3480153376982775,2.0076672905933517,1.0756139177043411,4.401276965463264,1.2330580532142477,4.864466116910475,6.252170586528523,8.273841936073582,6.786494371828667,0.6519976670615046,3.074325325478372,2.879786079325004,9.150324234710842,8.677820443927635,3.701479183504169,0.7115525588258109,8.941073178047334,8.881899529641872,8.54746132030725,8.450816377355016,4.802540010861547,1.7743165224959825,4.774880504624277,4.945977706694649,4.899317532448607,5.387725861151162,2.5765702299115514,3.6624118113361503,4.341865919634696,1.3112120951649986,4.553641345615005,8.104696170695929,8.280595427328763,4.115637719010303,5.188083120843535,0.3365033213505664,6.744325564685969,4.046058829468631,4.454776830833458,8.736727271797648,4.618344345606084,0.2119224622785276,2.274908908690624,4.75620614308259,4.243962927485358,8.603701372804807,5.421375093061666,6.89635741915121,4.693232970434701,4.396557340591649,4.462866684743513,4.109215696938389,5.385833858542034,2.504434017536037,8.910551938418209,3.3308554809387294,1.4752383417734682,0.9655047859774512,0.1342291512012761,4.228560785668615,1.8761098854542468,0.2164790258724791,5.200195462895238,6.799785486507615,0.8575105091110435,4.609207729196596,7.436286786007466,9.858068210084252,6.671903446425609,2.4483955080952056,7.165536397789996,5.9792942681983,2.117992885815477,8.511108258475547,4.274044272276009,9.619776547341258,7.229010074477779,6.445631546318221,7.283528374765619,4.780970188182216,5.05226477801674,8.51207385444744,6.809285366435028,8.972433251916417,8.908267535742686,9.764900340442493,7.002146588453342,5.0230171766174205,1.6631170020908237,7.053805596474173,2.915777167599307,2.8294756803733123,2.382877764480681,8.751220573514502,8.679644466821582,6.309704448700582,4.729809813707359,6.721144600987991,6.072294502983907,4.157342483233873,3.796308674856344,3.827943081453502,5.891334031560382,6.476693561208259,4.51741753515442,9.686914502130431,0.8384571800448104,3.47047025953777,4.190746831254409,0.1692134346494311,3.649571876682252,2.737099171728425,5.060362702274808,3.3641054718326924,7.261821349464612,5.099324954076485,1.2976223349626437,7.500613241443473,0.992288960826766,8.390491680793573,9.314221940862192,3.2244529018485397,9.26142633262931],\"xaxis\":\"x\",\"yaxis\":\"y\",\"type\":\"histogram\"}],                        {\"template\":{\"data\":{\"barpolar\":[{\"marker\":{\"line\":{\"color\":\"rgb(17,17,17)\",\"width\":0.5},\"pattern\":{\"fillmode\":\"overlay\",\"size\":10,\"solidity\":0.2}},\"type\":\"barpolar\"}],\"bar\":[{\"error_x\":{\"color\":\"#f2f5fa\"},\"error_y\":{\"color\":\"#f2f5fa\"},\"marker\":{\"line\":{\"color\":\"rgb(17,17,17)\",\"width\":0.5},\"pattern\":{\"fillmode\":\"overlay\",\"size\":10,\"solidity\":0.2}},\"type\":\"bar\"}],\"carpet\":[{\"aaxis\":{\"endlinecolor\":\"#A2B1C6\",\"gridcolor\":\"#506784\",\"linecolor\":\"#506784\",\"minorgridcolor\":\"#506784\",\"startlinecolor\":\"#A2B1C6\"},\"baxis\":{\"endlinecolor\":\"#A2B1C6\",\"gridcolor\":\"#506784\",\"linecolor\":\"#506784\",\"minorgridcolor\":\"#506784\",\"startlinecolor\":\"#A2B1C6\"},\"type\":\"carpet\"}],\"choropleth\":[{\"colorbar\":{\"outlinewidth\":0,\"ticks\":\"\"},\"type\":\"choropleth\"}],\"contourcarpet\":[{\"colorbar\":{\"outlinewidth\":0,\"ticks\":\"\"},\"type\":\"contourcarpet\"}],\"contour\":[{\"colorbar\":{\"outlinewidth\":0,\"ticks\":\"\"},\"colorscale\":[[0.0,\"#0d0887\"],[0.1111111111111111,\"#46039f\"],[0.2222222222222222,\"#7201a8\"],[0.3333333333333333,\"#9c179e\"],[0.4444444444444444,\"#bd3786\"],[0.5555555555555556,\"#d8576b\"],[0.6666666666666666,\"#ed7953\"],[0.7777777777777778,\"#fb9f3a\"],[0.8888888888888888,\"#fdca26\"],[1.0,\"#f0f921\"]],\"type\":\"contour\"}],\"heatmapgl\":[{\"colorbar\":{\"outlinewidth\":0,\"ticks\":\"\"},\"colorscale\":[[0.0,\"#0d0887\"],[0.1111111111111111,\"#46039f\"],[0.2222222222222222,\"#7201a8\"],[0.3333333333333333,\"#9c179e\"],[0.4444444444444444,\"#bd3786\"],[0.5555555555555556,\"#d8576b\"],[0.6666666666666666,\"#ed7953\"],[0.7777777777777778,\"#fb9f3a\"],[0.8888888888888888,\"#fdca26\"],[1.0,\"#f0f921\"]],\"type\":\"heatmapgl\"}],\"heatmap\":[{\"colorbar\":{\"outlinewidth\":0,\"ticks\":\"\"},\"colorscale\":[[0.0,\"#0d0887\"],[0.1111111111111111,\"#46039f\"],[0.2222222222222222,\"#7201a8\"],[0.3333333333333333,\"#9c179e\"],[0.4444444444444444,\"#bd3786\"],[0.5555555555555556,\"#d8576b\"],[0.6666666666666666,\"#ed7953\"],[0.7777777777777778,\"#fb9f3a\"],[0.8888888888888888,\"#fdca26\"],[1.0,\"#f0f921\"]],\"type\":\"heatmap\"}],\"histogram2dcontour\":[{\"colorbar\":{\"outlinewidth\":0,\"ticks\":\"\"},\"colorscale\":[[0.0,\"#0d0887\"],[0.1111111111111111,\"#46039f\"],[0.2222222222222222,\"#7201a8\"],[0.3333333333333333,\"#9c179e\"],[0.4444444444444444,\"#bd3786\"],[0.5555555555555556,\"#d8576b\"],[0.6666666666666666,\"#ed7953\"],[0.7777777777777778,\"#fb9f3a\"],[0.8888888888888888,\"#fdca26\"],[1.0,\"#f0f921\"]],\"type\":\"histogram2dcontour\"}],\"histogram2d\":[{\"colorbar\":{\"outlinewidth\":0,\"ticks\":\"\"},\"colorscale\":[[0.0,\"#0d0887\"],[0.1111111111111111,\"#46039f\"],[0.2222222222222222,\"#7201a8\"],[0.3333333333333333,\"#9c179e\"],[0.4444444444444444,\"#bd3786\"],[0.5555555555555556,\"#d8576b\"],[0.6666666666666666,\"#ed7953\"],[0.7777777777777778,\"#fb9f3a\"],[0.8888888888888888,\"#fdca26\"],[1.0,\"#f0f921\"]],\"type\":\"histogram2d\"}],\"histogram\":[{\"marker\":{\"pattern\":{\"fillmode\":\"overlay\",\"size\":10,\"solidity\":0.2}},\"type\":\"histogram\"}],\"mesh3d\":[{\"colorbar\":{\"outlinewidth\":0,\"ticks\":\"\"},\"type\":\"mesh3d\"}],\"parcoords\":[{\"line\":{\"colorbar\":{\"outlinewidth\":0,\"ticks\":\"\"}},\"type\":\"parcoords\"}],\"pie\":[{\"automargin\":true,\"type\":\"pie\"}],\"scatter3d\":[{\"line\":{\"colorbar\":{\"outlinewidth\":0,\"ticks\":\"\"}},\"marker\":{\"colorbar\":{\"outlinewidth\":0,\"ticks\":\"\"}},\"type\":\"scatter3d\"}],\"scattercarpet\":[{\"marker\":{\"colorbar\":{\"outlinewidth\":0,\"ticks\":\"\"}},\"type\":\"scattercarpet\"}],\"scattergeo\":[{\"marker\":{\"colorbar\":{\"outlinewidth\":0,\"ticks\":\"\"}},\"type\":\"scattergeo\"}],\"scattergl\":[{\"marker\":{\"line\":{\"color\":\"#283442\"}},\"type\":\"scattergl\"}],\"scattermapbox\":[{\"marker\":{\"colorbar\":{\"outlinewidth\":0,\"ticks\":\"\"}},\"type\":\"scattermapbox\"}],\"scatterpolargl\":[{\"marker\":{\"colorbar\":{\"outlinewidth\":0,\"ticks\":\"\"}},\"type\":\"scatterpolargl\"}],\"scatterpolar\":[{\"marker\":{\"colorbar\":{\"outlinewidth\":0,\"ticks\":\"\"}},\"type\":\"scatterpolar\"}],\"scatter\":[{\"marker\":{\"line\":{\"color\":\"#283442\"}},\"type\":\"scatter\"}],\"scatterternary\":[{\"marker\":{\"colorbar\":{\"outlinewidth\":0,\"ticks\":\"\"}},\"type\":\"scatterternary\"}],\"surface\":[{\"colorbar\":{\"outlinewidth\":0,\"ticks\":\"\"},\"colorscale\":[[0.0,\"#0d0887\"],[0.1111111111111111,\"#46039f\"],[0.2222222222222222,\"#7201a8\"],[0.3333333333333333,\"#9c179e\"],[0.4444444444444444,\"#bd3786\"],[0.5555555555555556,\"#d8576b\"],[0.6666666666666666,\"#ed7953\"],[0.7777777777777778,\"#fb9f3a\"],[0.8888888888888888,\"#fdca26\"],[1.0,\"#f0f921\"]],\"type\":\"surface\"}],\"table\":[{\"cells\":{\"fill\":{\"color\":\"#506784\"},\"line\":{\"color\":\"rgb(17,17,17)\"}},\"header\":{\"fill\":{\"color\":\"#2a3f5f\"},\"line\":{\"color\":\"rgb(17,17,17)\"}},\"type\":\"table\"}]},\"layout\":{\"annotationdefaults\":{\"arrowcolor\":\"#f2f5fa\",\"arrowhead\":0,\"arrowwidth\":1},\"autotypenumbers\":\"strict\",\"coloraxis\":{\"colorbar\":{\"outlinewidth\":0,\"ticks\":\"\"}},\"colorscale\":{\"diverging\":[[0,\"#8e0152\"],[0.1,\"#c51b7d\"],[0.2,\"#de77ae\"],[0.3,\"#f1b6da\"],[0.4,\"#fde0ef\"],[0.5,\"#f7f7f7\"],[0.6,\"#e6f5d0\"],[0.7,\"#b8e186\"],[0.8,\"#7fbc41\"],[0.9,\"#4d9221\"],[1,\"#276419\"]],\"sequential\":[[0.0,\"#0d0887\"],[0.1111111111111111,\"#46039f\"],[0.2222222222222222,\"#7201a8\"],[0.3333333333333333,\"#9c179e\"],[0.4444444444444444,\"#bd3786\"],[0.5555555555555556,\"#d8576b\"],[0.6666666666666666,\"#ed7953\"],[0.7777777777777778,\"#fb9f3a\"],[0.8888888888888888,\"#fdca26\"],[1.0,\"#f0f921\"]],\"sequentialminus\":[[0.0,\"#0d0887\"],[0.1111111111111111,\"#46039f\"],[0.2222222222222222,\"#7201a8\"],[0.3333333333333333,\"#9c179e\"],[0.4444444444444444,\"#bd3786\"],[0.5555555555555556,\"#d8576b\"],[0.6666666666666666,\"#ed7953\"],[0.7777777777777778,\"#fb9f3a\"],[0.8888888888888888,\"#fdca26\"],[1.0,\"#f0f921\"]]},\"colorway\":[\"#636efa\",\"#EF553B\",\"#00cc96\",\"#ab63fa\",\"#FFA15A\",\"#19d3f3\",\"#FF6692\",\"#B6E880\",\"#FF97FF\",\"#FECB52\"],\"font\":{\"color\":\"#f2f5fa\"},\"geo\":{\"bgcolor\":\"rgb(17,17,17)\",\"lakecolor\":\"rgb(17,17,17)\",\"landcolor\":\"rgb(17,17,17)\",\"showlakes\":true,\"showland\":true,\"subunitcolor\":\"#506784\"},\"hoverlabel\":{\"align\":\"left\"},\"hovermode\":\"closest\",\"mapbox\":{\"style\":\"dark\"},\"paper_bgcolor\":\"rgb(17,17,17)\",\"plot_bgcolor\":\"rgb(17,17,17)\",\"polar\":{\"angularaxis\":{\"gridcolor\":\"#506784\",\"linecolor\":\"#506784\",\"ticks\":\"\"},\"bgcolor\":\"rgb(17,17,17)\",\"radialaxis\":{\"gridcolor\":\"#506784\",\"linecolor\":\"#506784\",\"ticks\":\"\"}},\"scene\":{\"xaxis\":{\"backgroundcolor\":\"rgb(17,17,17)\",\"gridcolor\":\"#506784\",\"gridwidth\":2,\"linecolor\":\"#506784\",\"showbackground\":true,\"ticks\":\"\",\"zerolinecolor\":\"#C8D4E3\"},\"yaxis\":{\"backgroundcolor\":\"rgb(17,17,17)\",\"gridcolor\":\"#506784\",\"gridwidth\":2,\"linecolor\":\"#506784\",\"showbackground\":true,\"ticks\":\"\",\"zerolinecolor\":\"#C8D4E3\"},\"zaxis\":{\"backgroundcolor\":\"rgb(17,17,17)\",\"gridcolor\":\"#506784\",\"gridwidth\":2,\"linecolor\":\"#506784\",\"showbackground\":true,\"ticks\":\"\",\"zerolinecolor\":\"#C8D4E3\"}},\"shapedefaults\":{\"line\":{\"color\":\"#f2f5fa\"}},\"sliderdefaults\":{\"bgcolor\":\"#C8D4E3\",\"bordercolor\":\"rgb(17,17,17)\",\"borderwidth\":1,\"tickwidth\":0},\"ternary\":{\"aaxis\":{\"gridcolor\":\"#506784\",\"linecolor\":\"#506784\",\"ticks\":\"\"},\"baxis\":{\"gridcolor\":\"#506784\",\"linecolor\":\"#506784\",\"ticks\":\"\"},\"bgcolor\":\"rgb(17,17,17)\",\"caxis\":{\"gridcolor\":\"#506784\",\"linecolor\":\"#506784\",\"ticks\":\"\"}},\"title\":{\"x\":0.05},\"updatemenudefaults\":{\"bgcolor\":\"#506784\",\"borderwidth\":0},\"xaxis\":{\"automargin\":true,\"gridcolor\":\"#283442\",\"linecolor\":\"#506784\",\"ticks\":\"\",\"title\":{\"standoff\":15},\"zerolinecolor\":\"#283442\",\"zerolinewidth\":2},\"yaxis\":{\"automargin\":true,\"gridcolor\":\"#283442\",\"linecolor\":\"#506784\",\"ticks\":\"\",\"title\":{\"standoff\":15},\"zerolinecolor\":\"#283442\",\"zerolinewidth\":2}}},\"xaxis\":{\"anchor\":\"y\",\"domain\":[0.0,1.0],\"title\":{\"text\":\"PhysicalActivity\"}},\"yaxis\":{\"anchor\":\"x\",\"domain\":[0.0,1.0],\"title\":{\"text\":\"count\"}},\"legend\":{\"tracegroupgap\":0},\"title\":{\"text\":\"PhysicalActivity Distribution\",\"x\":0.5},\"barmode\":\"relative\",\"width\":800,\"height\":600},                        {\"responsive\": true}                    ).then(function(){\n",
       "                            \n",
       "var gd = document.getElementById('4b636f7d-b251-4d65-8174-4b254a19f76e');\n",
       "var x = new MutationObserver(function (mutations, observer) {{\n",
       "        var display = window.getComputedStyle(gd).display;\n",
       "        if (!display || display === 'none') {{\n",
       "            console.log([gd, 'removed!']);\n",
       "            Plotly.purge(gd);\n",
       "            observer.disconnect();\n",
       "        }}\n",
       "}});\n",
       "\n",
       "// Listen for the removal of the full notebook cells\n",
       "var notebookContainer = gd.closest('#notebook-container');\n",
       "if (notebookContainer) {{\n",
       "    x.observe(notebookContainer, {childList: true});\n",
       "}}\n",
       "\n",
       "// Listen for the clearing of the current output cell\n",
       "var outputEl = gd.closest('.output');\n",
       "if (outputEl) {{\n",
       "    x.observe(outputEl, {childList: true});\n",
       "}}\n",
       "\n",
       "                        })                };                });            </script>        </div>"
      ]
     },
     "metadata": {},
     "output_type": "display_data"
    }
   ],
   "source": [
    "plt = px.histogram(data, x=\"PhysicalActivity\", title=\"PhysicalActivity Distribution\",text_auto=True, color_discrete_sequence=px.colors.sequential.amp_r)\n",
    "plt.update_layout(\n",
    "    title_x=0.5,\n",
    "    template=\"plotly_dark\",  \n",
    "    width=800,              \n",
    "    height=600 \n",
    ")\n",
    "plt.show()"
   ]
  },
  {
   "cell_type": "code",
   "execution_count": 33,
   "id": "b8495fc8",
   "metadata": {
    "execution": {
     "iopub.execute_input": "2024-09-05T23:23:07.329033Z",
     "iopub.status.busy": "2024-09-05T23:23:07.328203Z",
     "iopub.status.idle": "2024-09-05T23:23:07.340997Z",
     "shell.execute_reply": "2024-09-05T23:23:07.340088Z"
    },
    "papermill": {
     "duration": 0.045295,
     "end_time": "2024-09-05T23:23:07.342955",
     "exception": false,
     "start_time": "2024-09-05T23:23:07.297660",
     "status": "completed"
    },
    "tags": []
   },
   "outputs": [
    {
     "data": {
      "text/html": [
       "<div>\n",
       "<style scoped>\n",
       "    .dataframe tbody tr th:only-of-type {\n",
       "        vertical-align: middle;\n",
       "    }\n",
       "\n",
       "    .dataframe tbody tr th {\n",
       "        vertical-align: top;\n",
       "    }\n",
       "\n",
       "    .dataframe thead th {\n",
       "        text-align: right;\n",
       "    }\n",
       "</style>\n",
       "<table border=\"1\" class=\"dataframe\">\n",
       "  <thead>\n",
       "    <tr style=\"text-align: right;\">\n",
       "      <th></th>\n",
       "      <th>PhysicalActivity</th>\n",
       "    </tr>\n",
       "    <tr>\n",
       "      <th>Gender</th>\n",
       "      <th></th>\n",
       "    </tr>\n",
       "  </thead>\n",
       "  <tbody>\n",
       "    <tr>\n",
       "      <th>0</th>\n",
       "      <td>4.974</td>\n",
       "    </tr>\n",
       "    <tr>\n",
       "      <th>1</th>\n",
       "      <td>5.027</td>\n",
       "    </tr>\n",
       "  </tbody>\n",
       "</table>\n",
       "</div>"
      ],
      "text/plain": [
       "        PhysicalActivity\n",
       "Gender                  \n",
       "0                  4.974\n",
       "1                  5.027"
      ]
     },
     "execution_count": 33,
     "metadata": {},
     "output_type": "execute_result"
    }
   ],
   "source": [
    "### Average PhysicalActivity VS Gender\n",
    "pivot = pd.pivot_table(data, values=\"PhysicalActivity\", index=\"Gender\", aggfunc='mean')\n",
    "pivot"
   ]
  },
  {
   "cell_type": "code",
   "execution_count": 34,
   "id": "a5aab6a5",
   "metadata": {
    "execution": {
     "iopub.execute_input": "2024-09-05T23:23:07.401853Z",
     "iopub.status.busy": "2024-09-05T23:23:07.401361Z",
     "iopub.status.idle": "2024-09-05T23:23:07.496459Z",
     "shell.execute_reply": "2024-09-05T23:23:07.495605Z"
    },
    "papermill": {
     "duration": 0.12681,
     "end_time": "2024-09-05T23:23:07.498651",
     "exception": false,
     "start_time": "2024-09-05T23:23:07.371841",
     "status": "completed"
    },
    "tags": []
   },
   "outputs": [
    {
     "data": {
      "text/html": [
       "<div>                            <div id=\"b7c1d524-ecae-44b3-a44a-71f2938ff01f\" class=\"plotly-graph-div\" style=\"height:600px; width:800px;\"></div>            <script type=\"text/javascript\">                require([\"plotly\"], function(Plotly) {                    window.PLOTLYENV=window.PLOTLYENV || {};                                    if (document.getElementById(\"b7c1d524-ecae-44b3-a44a-71f2938ff01f\")) {                    Plotly.newPlot(                        \"b7c1d524-ecae-44b3-a44a-71f2938ff01f\",                        [{\"alignmentgroup\":\"True\",\"hovertemplate\":\"Gender=%{x}\\u003cbr\\u003ePhysicalActivity=%{text}\\u003cextra\\u003e\\u003c\\u002fextra\\u003e\",\"legendgroup\":\"Female\",\"marker\":{\"color\":\"#30123b\",\"pattern\":{\"shape\":\"\"}},\"name\":\"Female\",\"offsetgroup\":\"Female\",\"orientation\":\"v\",\"showlegend\":true,\"text\":[4.974076642696633],\"textposition\":\"auto\",\"x\":[\"Female\"],\"xaxis\":\"x\",\"y\":[4.974076642696633],\"yaxis\":\"y\",\"type\":\"bar\"},{\"alignmentgroup\":\"True\",\"hovertemplate\":\"Gender=%{x}\\u003cbr\\u003ePhysicalActivity=%{text}\\u003cextra\\u003e\\u003c\\u002fextra\\u003e\",\"legendgroup\":\"Male\",\"marker\":{\"color\":\"#4145ab\",\"pattern\":{\"shape\":\"\"}},\"name\":\"Male\",\"offsetgroup\":\"Male\",\"orientation\":\"v\",\"showlegend\":true,\"text\":[5.027469603784203],\"textposition\":\"auto\",\"x\":[\"Male\"],\"xaxis\":\"x\",\"y\":[5.027469603784203],\"yaxis\":\"y\",\"type\":\"bar\"}],                        {\"template\":{\"data\":{\"barpolar\":[{\"marker\":{\"line\":{\"color\":\"rgb(17,17,17)\",\"width\":0.5},\"pattern\":{\"fillmode\":\"overlay\",\"size\":10,\"solidity\":0.2}},\"type\":\"barpolar\"}],\"bar\":[{\"error_x\":{\"color\":\"#f2f5fa\"},\"error_y\":{\"color\":\"#f2f5fa\"},\"marker\":{\"line\":{\"color\":\"rgb(17,17,17)\",\"width\":0.5},\"pattern\":{\"fillmode\":\"overlay\",\"size\":10,\"solidity\":0.2}},\"type\":\"bar\"}],\"carpet\":[{\"aaxis\":{\"endlinecolor\":\"#A2B1C6\",\"gridcolor\":\"#506784\",\"linecolor\":\"#506784\",\"minorgridcolor\":\"#506784\",\"startlinecolor\":\"#A2B1C6\"},\"baxis\":{\"endlinecolor\":\"#A2B1C6\",\"gridcolor\":\"#506784\",\"linecolor\":\"#506784\",\"minorgridcolor\":\"#506784\",\"startlinecolor\":\"#A2B1C6\"},\"type\":\"carpet\"}],\"choropleth\":[{\"colorbar\":{\"outlinewidth\":0,\"ticks\":\"\"},\"type\":\"choropleth\"}],\"contourcarpet\":[{\"colorbar\":{\"outlinewidth\":0,\"ticks\":\"\"},\"type\":\"contourcarpet\"}],\"contour\":[{\"colorbar\":{\"outlinewidth\":0,\"ticks\":\"\"},\"colorscale\":[[0.0,\"#0d0887\"],[0.1111111111111111,\"#46039f\"],[0.2222222222222222,\"#7201a8\"],[0.3333333333333333,\"#9c179e\"],[0.4444444444444444,\"#bd3786\"],[0.5555555555555556,\"#d8576b\"],[0.6666666666666666,\"#ed7953\"],[0.7777777777777778,\"#fb9f3a\"],[0.8888888888888888,\"#fdca26\"],[1.0,\"#f0f921\"]],\"type\":\"contour\"}],\"heatmapgl\":[{\"colorbar\":{\"outlinewidth\":0,\"ticks\":\"\"},\"colorscale\":[[0.0,\"#0d0887\"],[0.1111111111111111,\"#46039f\"],[0.2222222222222222,\"#7201a8\"],[0.3333333333333333,\"#9c179e\"],[0.4444444444444444,\"#bd3786\"],[0.5555555555555556,\"#d8576b\"],[0.6666666666666666,\"#ed7953\"],[0.7777777777777778,\"#fb9f3a\"],[0.8888888888888888,\"#fdca26\"],[1.0,\"#f0f921\"]],\"type\":\"heatmapgl\"}],\"heatmap\":[{\"colorbar\":{\"outlinewidth\":0,\"ticks\":\"\"},\"colorscale\":[[0.0,\"#0d0887\"],[0.1111111111111111,\"#46039f\"],[0.2222222222222222,\"#7201a8\"],[0.3333333333333333,\"#9c179e\"],[0.4444444444444444,\"#bd3786\"],[0.5555555555555556,\"#d8576b\"],[0.6666666666666666,\"#ed7953\"],[0.7777777777777778,\"#fb9f3a\"],[0.8888888888888888,\"#fdca26\"],[1.0,\"#f0f921\"]],\"type\":\"heatmap\"}],\"histogram2dcontour\":[{\"colorbar\":{\"outlinewidth\":0,\"ticks\":\"\"},\"colorscale\":[[0.0,\"#0d0887\"],[0.1111111111111111,\"#46039f\"],[0.2222222222222222,\"#7201a8\"],[0.3333333333333333,\"#9c179e\"],[0.4444444444444444,\"#bd3786\"],[0.5555555555555556,\"#d8576b\"],[0.6666666666666666,\"#ed7953\"],[0.7777777777777778,\"#fb9f3a\"],[0.8888888888888888,\"#fdca26\"],[1.0,\"#f0f921\"]],\"type\":\"histogram2dcontour\"}],\"histogram2d\":[{\"colorbar\":{\"outlinewidth\":0,\"ticks\":\"\"},\"colorscale\":[[0.0,\"#0d0887\"],[0.1111111111111111,\"#46039f\"],[0.2222222222222222,\"#7201a8\"],[0.3333333333333333,\"#9c179e\"],[0.4444444444444444,\"#bd3786\"],[0.5555555555555556,\"#d8576b\"],[0.6666666666666666,\"#ed7953\"],[0.7777777777777778,\"#fb9f3a\"],[0.8888888888888888,\"#fdca26\"],[1.0,\"#f0f921\"]],\"type\":\"histogram2d\"}],\"histogram\":[{\"marker\":{\"pattern\":{\"fillmode\":\"overlay\",\"size\":10,\"solidity\":0.2}},\"type\":\"histogram\"}],\"mesh3d\":[{\"colorbar\":{\"outlinewidth\":0,\"ticks\":\"\"},\"type\":\"mesh3d\"}],\"parcoords\":[{\"line\":{\"colorbar\":{\"outlinewidth\":0,\"ticks\":\"\"}},\"type\":\"parcoords\"}],\"pie\":[{\"automargin\":true,\"type\":\"pie\"}],\"scatter3d\":[{\"line\":{\"colorbar\":{\"outlinewidth\":0,\"ticks\":\"\"}},\"marker\":{\"colorbar\":{\"outlinewidth\":0,\"ticks\":\"\"}},\"type\":\"scatter3d\"}],\"scattercarpet\":[{\"marker\":{\"colorbar\":{\"outlinewidth\":0,\"ticks\":\"\"}},\"type\":\"scattercarpet\"}],\"scattergeo\":[{\"marker\":{\"colorbar\":{\"outlinewidth\":0,\"ticks\":\"\"}},\"type\":\"scattergeo\"}],\"scattergl\":[{\"marker\":{\"line\":{\"color\":\"#283442\"}},\"type\":\"scattergl\"}],\"scattermapbox\":[{\"marker\":{\"colorbar\":{\"outlinewidth\":0,\"ticks\":\"\"}},\"type\":\"scattermapbox\"}],\"scatterpolargl\":[{\"marker\":{\"colorbar\":{\"outlinewidth\":0,\"ticks\":\"\"}},\"type\":\"scatterpolargl\"}],\"scatterpolar\":[{\"marker\":{\"colorbar\":{\"outlinewidth\":0,\"ticks\":\"\"}},\"type\":\"scatterpolar\"}],\"scatter\":[{\"marker\":{\"line\":{\"color\":\"#283442\"}},\"type\":\"scatter\"}],\"scatterternary\":[{\"marker\":{\"colorbar\":{\"outlinewidth\":0,\"ticks\":\"\"}},\"type\":\"scatterternary\"}],\"surface\":[{\"colorbar\":{\"outlinewidth\":0,\"ticks\":\"\"},\"colorscale\":[[0.0,\"#0d0887\"],[0.1111111111111111,\"#46039f\"],[0.2222222222222222,\"#7201a8\"],[0.3333333333333333,\"#9c179e\"],[0.4444444444444444,\"#bd3786\"],[0.5555555555555556,\"#d8576b\"],[0.6666666666666666,\"#ed7953\"],[0.7777777777777778,\"#fb9f3a\"],[0.8888888888888888,\"#fdca26\"],[1.0,\"#f0f921\"]],\"type\":\"surface\"}],\"table\":[{\"cells\":{\"fill\":{\"color\":\"#506784\"},\"line\":{\"color\":\"rgb(17,17,17)\"}},\"header\":{\"fill\":{\"color\":\"#2a3f5f\"},\"line\":{\"color\":\"rgb(17,17,17)\"}},\"type\":\"table\"}]},\"layout\":{\"annotationdefaults\":{\"arrowcolor\":\"#f2f5fa\",\"arrowhead\":0,\"arrowwidth\":1},\"autotypenumbers\":\"strict\",\"coloraxis\":{\"colorbar\":{\"outlinewidth\":0,\"ticks\":\"\"}},\"colorscale\":{\"diverging\":[[0,\"#8e0152\"],[0.1,\"#c51b7d\"],[0.2,\"#de77ae\"],[0.3,\"#f1b6da\"],[0.4,\"#fde0ef\"],[0.5,\"#f7f7f7\"],[0.6,\"#e6f5d0\"],[0.7,\"#b8e186\"],[0.8,\"#7fbc41\"],[0.9,\"#4d9221\"],[1,\"#276419\"]],\"sequential\":[[0.0,\"#0d0887\"],[0.1111111111111111,\"#46039f\"],[0.2222222222222222,\"#7201a8\"],[0.3333333333333333,\"#9c179e\"],[0.4444444444444444,\"#bd3786\"],[0.5555555555555556,\"#d8576b\"],[0.6666666666666666,\"#ed7953\"],[0.7777777777777778,\"#fb9f3a\"],[0.8888888888888888,\"#fdca26\"],[1.0,\"#f0f921\"]],\"sequentialminus\":[[0.0,\"#0d0887\"],[0.1111111111111111,\"#46039f\"],[0.2222222222222222,\"#7201a8\"],[0.3333333333333333,\"#9c179e\"],[0.4444444444444444,\"#bd3786\"],[0.5555555555555556,\"#d8576b\"],[0.6666666666666666,\"#ed7953\"],[0.7777777777777778,\"#fb9f3a\"],[0.8888888888888888,\"#fdca26\"],[1.0,\"#f0f921\"]]},\"colorway\":[\"#636efa\",\"#EF553B\",\"#00cc96\",\"#ab63fa\",\"#FFA15A\",\"#19d3f3\",\"#FF6692\",\"#B6E880\",\"#FF97FF\",\"#FECB52\"],\"font\":{\"color\":\"#f2f5fa\"},\"geo\":{\"bgcolor\":\"rgb(17,17,17)\",\"lakecolor\":\"rgb(17,17,17)\",\"landcolor\":\"rgb(17,17,17)\",\"showlakes\":true,\"showland\":true,\"subunitcolor\":\"#506784\"},\"hoverlabel\":{\"align\":\"left\"},\"hovermode\":\"closest\",\"mapbox\":{\"style\":\"dark\"},\"paper_bgcolor\":\"rgb(17,17,17)\",\"plot_bgcolor\":\"rgb(17,17,17)\",\"polar\":{\"angularaxis\":{\"gridcolor\":\"#506784\",\"linecolor\":\"#506784\",\"ticks\":\"\"},\"bgcolor\":\"rgb(17,17,17)\",\"radialaxis\":{\"gridcolor\":\"#506784\",\"linecolor\":\"#506784\",\"ticks\":\"\"}},\"scene\":{\"xaxis\":{\"backgroundcolor\":\"rgb(17,17,17)\",\"gridcolor\":\"#506784\",\"gridwidth\":2,\"linecolor\":\"#506784\",\"showbackground\":true,\"ticks\":\"\",\"zerolinecolor\":\"#C8D4E3\"},\"yaxis\":{\"backgroundcolor\":\"rgb(17,17,17)\",\"gridcolor\":\"#506784\",\"gridwidth\":2,\"linecolor\":\"#506784\",\"showbackground\":true,\"ticks\":\"\",\"zerolinecolor\":\"#C8D4E3\"},\"zaxis\":{\"backgroundcolor\":\"rgb(17,17,17)\",\"gridcolor\":\"#506784\",\"gridwidth\":2,\"linecolor\":\"#506784\",\"showbackground\":true,\"ticks\":\"\",\"zerolinecolor\":\"#C8D4E3\"}},\"shapedefaults\":{\"line\":{\"color\":\"#f2f5fa\"}},\"sliderdefaults\":{\"bgcolor\":\"#C8D4E3\",\"bordercolor\":\"rgb(17,17,17)\",\"borderwidth\":1,\"tickwidth\":0},\"ternary\":{\"aaxis\":{\"gridcolor\":\"#506784\",\"linecolor\":\"#506784\",\"ticks\":\"\"},\"baxis\":{\"gridcolor\":\"#506784\",\"linecolor\":\"#506784\",\"ticks\":\"\"},\"bgcolor\":\"rgb(17,17,17)\",\"caxis\":{\"gridcolor\":\"#506784\",\"linecolor\":\"#506784\",\"ticks\":\"\"}},\"title\":{\"x\":0.05},\"updatemenudefaults\":{\"bgcolor\":\"#506784\",\"borderwidth\":0},\"xaxis\":{\"automargin\":true,\"gridcolor\":\"#283442\",\"linecolor\":\"#506784\",\"ticks\":\"\",\"title\":{\"standoff\":15},\"zerolinecolor\":\"#283442\",\"zerolinewidth\":2},\"yaxis\":{\"automargin\":true,\"gridcolor\":\"#283442\",\"linecolor\":\"#506784\",\"ticks\":\"\",\"title\":{\"standoff\":15},\"zerolinecolor\":\"#283442\",\"zerolinewidth\":2}}},\"xaxis\":{\"anchor\":\"y\",\"domain\":[0.0,1.0],\"title\":{\"text\":\"Gender\"},\"categoryorder\":\"array\",\"categoryarray\":[\"Female\",\"Male\"]},\"yaxis\":{\"anchor\":\"x\",\"domain\":[0.0,1.0],\"title\":{\"text\":\"Average PhysicalActivity\"}},\"legend\":{\"title\":{\"text\":\"Gender\"},\"tracegroupgap\":0},\"title\":{\"text\":\"Average PhysicalActivity by Gender\",\"x\":0.5},\"barmode\":\"relative\",\"width\":800,\"height\":600},                        {\"responsive\": true}                    ).then(function(){\n",
       "                            \n",
       "var gd = document.getElementById('b7c1d524-ecae-44b3-a44a-71f2938ff01f');\n",
       "var x = new MutationObserver(function (mutations, observer) {{\n",
       "        var display = window.getComputedStyle(gd).display;\n",
       "        if (!display || display === 'none') {{\n",
       "            console.log([gd, 'removed!']);\n",
       "            Plotly.purge(gd);\n",
       "            observer.disconnect();\n",
       "        }}\n",
       "}});\n",
       "\n",
       "// Listen for the removal of the full notebook cells\n",
       "var notebookContainer = gd.closest('#notebook-container');\n",
       "if (notebookContainer) {{\n",
       "    x.observe(notebookContainer, {childList: true});\n",
       "}}\n",
       "\n",
       "// Listen for the clearing of the current output cell\n",
       "var outputEl = gd.closest('.output');\n",
       "if (outputEl) {{\n",
       "    x.observe(outputEl, {childList: true});\n",
       "}}\n",
       "\n",
       "                        })                };                });            </script>        </div>"
      ]
     },
     "metadata": {},
     "output_type": "display_data"
    }
   ],
   "source": [
    "pivot1 = pivot.reset_index()\n",
    "pivot1['Gender'] = pivot1['Gender'].map({0: 'Female', 1: 'Male'})\n",
    "plt = px.bar(pivot1, x=\"Gender\", y=\"PhysicalActivity\", \n",
    "             title=\"Average PhysicalActivity by Gender\",\n",
    "             color=\"Gender\",\n",
    "             text=\"PhysicalActivity\", \n",
    "             color_discrete_sequence=px.colors.sequential.Turbo)\n",
    "plt.update_layout(\n",
    "    title_x=0.5,\n",
    "    template=\"plotly_dark\",  \n",
    "    width=800,              \n",
    "    height=600,\n",
    "    xaxis_title=\"Gender\",\n",
    "    yaxis_title=\"Average PhysicalActivity\"\n",
    ")\n",
    "plt.show()"
   ]
  },
  {
   "cell_type": "code",
   "execution_count": 35,
   "id": "1dffc763",
   "metadata": {
    "execution": {
     "iopub.execute_input": "2024-09-05T23:23:07.560533Z",
     "iopub.status.busy": "2024-09-05T23:23:07.559912Z",
     "iopub.status.idle": "2024-09-05T23:23:07.569050Z",
     "shell.execute_reply": "2024-09-05T23:23:07.568107Z"
    },
    "papermill": {
     "duration": 0.041589,
     "end_time": "2024-09-05T23:23:07.571024",
     "exception": false,
     "start_time": "2024-09-05T23:23:07.529435",
     "status": "completed"
    },
    "tags": []
   },
   "outputs": [
    {
     "data": {
      "text/html": [
       "<div>\n",
       "<style scoped>\n",
       "    .dataframe tbody tr th:only-of-type {\n",
       "        vertical-align: middle;\n",
       "    }\n",
       "\n",
       "    .dataframe tbody tr th {\n",
       "        vertical-align: top;\n",
       "    }\n",
       "\n",
       "    .dataframe thead th {\n",
       "        text-align: right;\n",
       "    }\n",
       "</style>\n",
       "<table border=\"1\" class=\"dataframe\">\n",
       "  <thead>\n",
       "    <tr style=\"text-align: right;\">\n",
       "      <th></th>\n",
       "      <th>count</th>\n",
       "    </tr>\n",
       "    <tr>\n",
       "      <th>Diabetes</th>\n",
       "      <th></th>\n",
       "    </tr>\n",
       "  </thead>\n",
       "  <tbody>\n",
       "    <tr>\n",
       "      <th>0</th>\n",
       "      <td>1458</td>\n",
       "    </tr>\n",
       "    <tr>\n",
       "      <th>1</th>\n",
       "      <td>242</td>\n",
       "    </tr>\n",
       "  </tbody>\n",
       "</table>\n",
       "</div>"
      ],
      "text/plain": [
       "          count\n",
       "Diabetes       \n",
       "0          1458\n",
       "1           242"
      ]
     },
     "execution_count": 35,
     "metadata": {},
     "output_type": "execute_result"
    }
   ],
   "source": [
    "### Diabetes Distrbution\n",
    "data.Diabetes.value_counts().to_frame()"
   ]
  },
  {
   "cell_type": "code",
   "execution_count": 36,
   "id": "279bdda4",
   "metadata": {
    "execution": {
     "iopub.execute_input": "2024-09-05T23:23:07.630705Z",
     "iopub.status.busy": "2024-09-05T23:23:07.630019Z",
     "iopub.status.idle": "2024-09-05T23:23:07.700731Z",
     "shell.execute_reply": "2024-09-05T23:23:07.699835Z"
    },
    "papermill": {
     "duration": 0.102409,
     "end_time": "2024-09-05T23:23:07.702816",
     "exception": false,
     "start_time": "2024-09-05T23:23:07.600407",
     "status": "completed"
    },
    "tags": []
   },
   "outputs": [
    {
     "data": {
      "text/html": [
       "<div>                            <div id=\"aa66cf0d-c5b5-4d73-98b0-781190a2a6b5\" class=\"plotly-graph-div\" style=\"height:600px; width:800px;\"></div>            <script type=\"text/javascript\">                require([\"plotly\"], function(Plotly) {                    window.PLOTLYENV=window.PLOTLYENV || {};                                    if (document.getElementById(\"aa66cf0d-c5b5-4d73-98b0-781190a2a6b5\")) {                    Plotly.newPlot(                        \"aa66cf0d-c5b5-4d73-98b0-781190a2a6b5\",                        [{\"domain\":{\"x\":[0.0,1.0],\"y\":[0.0,1.0]},\"hovertemplate\":\"Diabetes=%{label}\\u003cextra\\u003e\\u003c\\u002fextra\\u003e\",\"labels\":[0,1,0,0,1,0,0,0,0,0,0,1,0,1,1,0,0,0,0,0,0,0,0,0,0,0,0,0,1,0,0,0,1,0,0,1,0,0,0,1,0,0,0,0,0,0,0,0,0,0,0,0,0,0,0,0,0,0,0,1,0,0,1,0,0,0,0,0,0,0,0,0,1,0,0,0,0,0,0,0,0,0,0,1,1,0,0,0,0,1,0,0,1,1,0,0,0,0,0,0,0,0,0,0,0,0,0,0,0,0,0,0,0,0,0,0,0,0,1,0,0,0,0,0,0,0,0,0,1,0,0,0,0,0,0,0,0,0,0,0,0,1,0,0,0,0,0,0,1,0,0,0,0,0,0,0,0,1,0,1,0,0,0,0,0,0,0,0,0,0,0,0,0,0,0,0,0,0,1,1,0,1,0,0,0,0,0,0,1,0,0,0,0,0,0,1,0,0,0,0,1,0,0,0,0,0,0,0,0,0,0,0,0,1,0,0,0,0,0,0,0,0,0,1,0,0,1,0,0,0,0,0,0,0,0,0,0,0,0,0,0,0,0,0,0,0,0,0,0,0,0,0,0,0,1,0,0,0,0,0,0,0,0,0,0,1,0,1,0,1,0,0,0,1,0,0,1,0,0,1,0,0,0,0,0,1,0,0,0,0,0,0,0,0,0,0,0,0,0,0,0,0,0,0,0,0,0,0,0,0,1,0,1,0,0,0,0,0,0,0,0,0,0,0,0,1,0,0,0,1,0,0,0,0,0,0,1,0,0,0,0,0,0,0,0,0,0,0,0,1,0,0,1,0,1,0,0,0,1,0,1,0,0,0,0,1,1,0,0,0,0,0,0,0,0,0,0,0,0,0,0,0,0,0,1,0,0,0,0,0,0,0,0,0,0,0,1,0,0,0,1,0,0,0,0,0,0,0,0,0,0,0,0,0,0,0,0,0,0,0,0,0,0,0,0,0,1,0,0,0,0,1,0,0,0,0,0,1,0,0,0,0,1,0,0,0,0,0,0,0,0,0,0,0,0,0,0,0,0,0,0,1,0,0,1,0,0,1,0,0,1,0,1,0,0,0,1,0,0,0,0,0,1,0,0,0,0,0,0,0,0,0,0,0,0,0,0,0,0,0,0,0,0,0,0,0,0,0,1,1,0,0,0,0,0,1,0,1,0,0,0,1,0,0,0,0,0,0,0,0,0,0,0,0,0,1,1,0,0,0,0,0,0,0,0,0,0,0,0,0,1,0,0,0,0,0,0,0,0,0,0,0,1,0,0,0,0,0,0,0,0,0,0,0,0,0,0,1,0,0,1,0,0,0,0,0,0,0,0,0,0,0,0,0,0,0,1,0,0,1,0,0,0,0,0,0,0,0,0,0,0,0,0,0,0,0,0,0,0,1,1,0,0,0,0,0,1,0,0,0,0,0,0,0,0,0,0,0,0,0,0,0,0,0,0,0,1,0,0,0,0,0,0,0,0,1,0,0,0,0,0,0,0,0,0,0,0,0,1,0,0,0,0,0,1,0,0,0,0,0,0,0,1,0,0,1,0,0,0,0,1,1,1,0,0,1,1,0,0,0,0,0,1,1,0,0,0,0,0,0,1,1,0,0,1,0,0,0,0,0,0,1,0,1,1,0,0,0,0,0,0,0,0,1,0,0,0,0,0,0,0,0,0,0,0,0,1,0,1,0,0,0,0,0,1,0,1,0,0,1,0,0,1,0,0,1,0,1,0,0,0,0,0,0,0,0,0,0,0,0,0,0,0,0,0,0,0,1,1,0,0,1,0,0,0,0,0,0,0,0,1,0,0,0,0,0,0,0,0,0,0,0,0,0,0,0,0,0,0,1,1,0,0,0,0,0,0,0,0,0,0,0,0,0,0,0,0,0,0,0,0,0,0,1,0,0,0,1,0,0,0,1,0,0,0,0,1,0,0,1,1,0,0,0,0,1,1,0,1,0,0,0,1,0,0,1,0,0,1,0,1,1,0,0,0,0,0,0,0,0,0,0,0,0,0,0,0,0,0,0,0,0,0,0,0,0,1,0,0,1,0,0,0,0,0,0,0,0,0,0,0,0,0,0,0,0,0,0,0,0,0,0,0,0,0,1,0,0,0,0,0,0,0,0,0,0,0,0,0,0,0,1,0,0,0,0,1,1,0,0,0,0,0,0,0,0,1,0,0,0,0,0,0,0,0,0,0,0,0,0,0,0,0,0,0,0,0,0,0,0,0,0,0,0,1,0,0,0,1,1,0,0,1,0,0,0,0,0,0,0,0,0,0,0,0,0,1,0,0,0,0,0,1,0,0,0,0,0,0,0,1,0,0,0,0,0,0,0,1,0,0,1,0,0,0,0,0,0,0,0,0,0,0,0,1,1,0,0,0,0,0,0,0,0,0,0,0,0,1,0,0,0,0,0,0,0,0,0,0,0,1,0,0,0,0,0,0,1,1,0,0,0,0,0,0,0,0,0,0,1,0,0,0,0,0,1,0,0,0,0,0,0,1,0,0,0,0,0,0,0,0,0,0,0,1,0,1,0,0,0,0,0,0,0,0,0,1,0,0,0,1,0,0,0,0,0,0,1,1,0,0,0,0,0,0,1,0,0,0,0,0,0,0,0,0,0,0,0,0,0,0,0,0,0,0,0,0,0,0,0,0,1,0,1,0,0,1,0,0,0,1,0,0,0,0,0,0,0,0,0,0,0,0,0,0,0,0,0,0,0,0,0,1,0,0,0,0,0,0,0,0,0,0,0,1,0,0,0,0,0,0,0,1,0,0,0,1,0,0,1,0,0,0,1,0,0,0,0,1,0,0,1,0,0,1,0,0,0,0,1,0,0,0,0,0,0,1,0,0,0,0,0,0,0,0,0,1,0,0,0,0,0,0,0,0,0,0,0,0,0,0,0,0,0,0,0,1,0,0,0,0,0,0,0,0,0,0,0,0,0,0,0,0,0,0,0,1,0,0,0,0,0,1,0,1,0,0,0,0,0,0,0,0,0,0,1,0,0,1,0,0,0,0,0,0,0,0,1,0,0,0,0,1,0,1,0,0,0,1,0,0,0,0,1,0,0,0,0,0,0,0,0,0,0,0,0,0,0,0,0,0,0,0,1,0,0,0,0,0,0,1,1,0,0,0,0,0,0,0,0,1,0,0,0,0,0,0,0,0,1,1,0,0,0,0,1,0,0,1,0,1,0,0,0,0,0,0,0,1,0,0,0,0,0,0,0,0,0,0,0,1,1,0,0,0,0,1,0,0,1,0,0,0,0,0,0,0,0,0,0,0,0,0,0,0,0,0,0,0,0,0,0,1,0,0,0,0,0,0,0,0,1,0,0,1,0,1,0,0,0,0,1,0,0,1,0,1,0,0,0,0,0,1,1,0,0,1,0,0,0,1,0,0,0,0,1,1,0,0,1,0,0,1,0,0,0,0,0,0,1,0,0,0,0,0,0,0,0,0,0,0,0,0,0,0,0,1,0,0,0,0,1,0,0,0,0,0,1,0,0,0,0,0,0,0,0,0,0,0,0,1,0,0,0,0,0,1,0,0,0,1,0,0,1,0,0,0,0,0,0,0,0,0,0,0,1,1,1,0,0,1,1,0,0,0,0,0,0,0,0,0,0,1,0,0,0,0,0,0,0,0,0,0,0,1,0,0,0,0,0,0,0,0,1,1,0,0,0,0,0,0,0,0,0,0,0,0,0,0,0,0,0,1,1,0,0,0,0,1,0,1,0,0,0,0,0,0,0,0,0,0,0,0,0,0,1,0,0,0,0,0,0,0,0,0,0,1,1,0,0,0,0,0,0,0,0,0,0,0,0],\"legendgroup\":\"\",\"name\":\"\",\"showlegend\":true,\"type\":\"pie\"}],                        {\"template\":{\"data\":{\"barpolar\":[{\"marker\":{\"line\":{\"color\":\"rgb(17,17,17)\",\"width\":0.5},\"pattern\":{\"fillmode\":\"overlay\",\"size\":10,\"solidity\":0.2}},\"type\":\"barpolar\"}],\"bar\":[{\"error_x\":{\"color\":\"#f2f5fa\"},\"error_y\":{\"color\":\"#f2f5fa\"},\"marker\":{\"line\":{\"color\":\"rgb(17,17,17)\",\"width\":0.5},\"pattern\":{\"fillmode\":\"overlay\",\"size\":10,\"solidity\":0.2}},\"type\":\"bar\"}],\"carpet\":[{\"aaxis\":{\"endlinecolor\":\"#A2B1C6\",\"gridcolor\":\"#506784\",\"linecolor\":\"#506784\",\"minorgridcolor\":\"#506784\",\"startlinecolor\":\"#A2B1C6\"},\"baxis\":{\"endlinecolor\":\"#A2B1C6\",\"gridcolor\":\"#506784\",\"linecolor\":\"#506784\",\"minorgridcolor\":\"#506784\",\"startlinecolor\":\"#A2B1C6\"},\"type\":\"carpet\"}],\"choropleth\":[{\"colorbar\":{\"outlinewidth\":0,\"ticks\":\"\"},\"type\":\"choropleth\"}],\"contourcarpet\":[{\"colorbar\":{\"outlinewidth\":0,\"ticks\":\"\"},\"type\":\"contourcarpet\"}],\"contour\":[{\"colorbar\":{\"outlinewidth\":0,\"ticks\":\"\"},\"colorscale\":[[0.0,\"#0d0887\"],[0.1111111111111111,\"#46039f\"],[0.2222222222222222,\"#7201a8\"],[0.3333333333333333,\"#9c179e\"],[0.4444444444444444,\"#bd3786\"],[0.5555555555555556,\"#d8576b\"],[0.6666666666666666,\"#ed7953\"],[0.7777777777777778,\"#fb9f3a\"],[0.8888888888888888,\"#fdca26\"],[1.0,\"#f0f921\"]],\"type\":\"contour\"}],\"heatmapgl\":[{\"colorbar\":{\"outlinewidth\":0,\"ticks\":\"\"},\"colorscale\":[[0.0,\"#0d0887\"],[0.1111111111111111,\"#46039f\"],[0.2222222222222222,\"#7201a8\"],[0.3333333333333333,\"#9c179e\"],[0.4444444444444444,\"#bd3786\"],[0.5555555555555556,\"#d8576b\"],[0.6666666666666666,\"#ed7953\"],[0.7777777777777778,\"#fb9f3a\"],[0.8888888888888888,\"#fdca26\"],[1.0,\"#f0f921\"]],\"type\":\"heatmapgl\"}],\"heatmap\":[{\"colorbar\":{\"outlinewidth\":0,\"ticks\":\"\"},\"colorscale\":[[0.0,\"#0d0887\"],[0.1111111111111111,\"#46039f\"],[0.2222222222222222,\"#7201a8\"],[0.3333333333333333,\"#9c179e\"],[0.4444444444444444,\"#bd3786\"],[0.5555555555555556,\"#d8576b\"],[0.6666666666666666,\"#ed7953\"],[0.7777777777777778,\"#fb9f3a\"],[0.8888888888888888,\"#fdca26\"],[1.0,\"#f0f921\"]],\"type\":\"heatmap\"}],\"histogram2dcontour\":[{\"colorbar\":{\"outlinewidth\":0,\"ticks\":\"\"},\"colorscale\":[[0.0,\"#0d0887\"],[0.1111111111111111,\"#46039f\"],[0.2222222222222222,\"#7201a8\"],[0.3333333333333333,\"#9c179e\"],[0.4444444444444444,\"#bd3786\"],[0.5555555555555556,\"#d8576b\"],[0.6666666666666666,\"#ed7953\"],[0.7777777777777778,\"#fb9f3a\"],[0.8888888888888888,\"#fdca26\"],[1.0,\"#f0f921\"]],\"type\":\"histogram2dcontour\"}],\"histogram2d\":[{\"colorbar\":{\"outlinewidth\":0,\"ticks\":\"\"},\"colorscale\":[[0.0,\"#0d0887\"],[0.1111111111111111,\"#46039f\"],[0.2222222222222222,\"#7201a8\"],[0.3333333333333333,\"#9c179e\"],[0.4444444444444444,\"#bd3786\"],[0.5555555555555556,\"#d8576b\"],[0.6666666666666666,\"#ed7953\"],[0.7777777777777778,\"#fb9f3a\"],[0.8888888888888888,\"#fdca26\"],[1.0,\"#f0f921\"]],\"type\":\"histogram2d\"}],\"histogram\":[{\"marker\":{\"pattern\":{\"fillmode\":\"overlay\",\"size\":10,\"solidity\":0.2}},\"type\":\"histogram\"}],\"mesh3d\":[{\"colorbar\":{\"outlinewidth\":0,\"ticks\":\"\"},\"type\":\"mesh3d\"}],\"parcoords\":[{\"line\":{\"colorbar\":{\"outlinewidth\":0,\"ticks\":\"\"}},\"type\":\"parcoords\"}],\"pie\":[{\"automargin\":true,\"type\":\"pie\"}],\"scatter3d\":[{\"line\":{\"colorbar\":{\"outlinewidth\":0,\"ticks\":\"\"}},\"marker\":{\"colorbar\":{\"outlinewidth\":0,\"ticks\":\"\"}},\"type\":\"scatter3d\"}],\"scattercarpet\":[{\"marker\":{\"colorbar\":{\"outlinewidth\":0,\"ticks\":\"\"}},\"type\":\"scattercarpet\"}],\"scattergeo\":[{\"marker\":{\"colorbar\":{\"outlinewidth\":0,\"ticks\":\"\"}},\"type\":\"scattergeo\"}],\"scattergl\":[{\"marker\":{\"line\":{\"color\":\"#283442\"}},\"type\":\"scattergl\"}],\"scattermapbox\":[{\"marker\":{\"colorbar\":{\"outlinewidth\":0,\"ticks\":\"\"}},\"type\":\"scattermapbox\"}],\"scatterpolargl\":[{\"marker\":{\"colorbar\":{\"outlinewidth\":0,\"ticks\":\"\"}},\"type\":\"scatterpolargl\"}],\"scatterpolar\":[{\"marker\":{\"colorbar\":{\"outlinewidth\":0,\"ticks\":\"\"}},\"type\":\"scatterpolar\"}],\"scatter\":[{\"marker\":{\"line\":{\"color\":\"#283442\"}},\"type\":\"scatter\"}],\"scatterternary\":[{\"marker\":{\"colorbar\":{\"outlinewidth\":0,\"ticks\":\"\"}},\"type\":\"scatterternary\"}],\"surface\":[{\"colorbar\":{\"outlinewidth\":0,\"ticks\":\"\"},\"colorscale\":[[0.0,\"#0d0887\"],[0.1111111111111111,\"#46039f\"],[0.2222222222222222,\"#7201a8\"],[0.3333333333333333,\"#9c179e\"],[0.4444444444444444,\"#bd3786\"],[0.5555555555555556,\"#d8576b\"],[0.6666666666666666,\"#ed7953\"],[0.7777777777777778,\"#fb9f3a\"],[0.8888888888888888,\"#fdca26\"],[1.0,\"#f0f921\"]],\"type\":\"surface\"}],\"table\":[{\"cells\":{\"fill\":{\"color\":\"#506784\"},\"line\":{\"color\":\"rgb(17,17,17)\"}},\"header\":{\"fill\":{\"color\":\"#2a3f5f\"},\"line\":{\"color\":\"rgb(17,17,17)\"}},\"type\":\"table\"}]},\"layout\":{\"annotationdefaults\":{\"arrowcolor\":\"#f2f5fa\",\"arrowhead\":0,\"arrowwidth\":1},\"autotypenumbers\":\"strict\",\"coloraxis\":{\"colorbar\":{\"outlinewidth\":0,\"ticks\":\"\"}},\"colorscale\":{\"diverging\":[[0,\"#8e0152\"],[0.1,\"#c51b7d\"],[0.2,\"#de77ae\"],[0.3,\"#f1b6da\"],[0.4,\"#fde0ef\"],[0.5,\"#f7f7f7\"],[0.6,\"#e6f5d0\"],[0.7,\"#b8e186\"],[0.8,\"#7fbc41\"],[0.9,\"#4d9221\"],[1,\"#276419\"]],\"sequential\":[[0.0,\"#0d0887\"],[0.1111111111111111,\"#46039f\"],[0.2222222222222222,\"#7201a8\"],[0.3333333333333333,\"#9c179e\"],[0.4444444444444444,\"#bd3786\"],[0.5555555555555556,\"#d8576b\"],[0.6666666666666666,\"#ed7953\"],[0.7777777777777778,\"#fb9f3a\"],[0.8888888888888888,\"#fdca26\"],[1.0,\"#f0f921\"]],\"sequentialminus\":[[0.0,\"#0d0887\"],[0.1111111111111111,\"#46039f\"],[0.2222222222222222,\"#7201a8\"],[0.3333333333333333,\"#9c179e\"],[0.4444444444444444,\"#bd3786\"],[0.5555555555555556,\"#d8576b\"],[0.6666666666666666,\"#ed7953\"],[0.7777777777777778,\"#fb9f3a\"],[0.8888888888888888,\"#fdca26\"],[1.0,\"#f0f921\"]]},\"colorway\":[\"#636efa\",\"#EF553B\",\"#00cc96\",\"#ab63fa\",\"#FFA15A\",\"#19d3f3\",\"#FF6692\",\"#B6E880\",\"#FF97FF\",\"#FECB52\"],\"font\":{\"color\":\"#f2f5fa\"},\"geo\":{\"bgcolor\":\"rgb(17,17,17)\",\"lakecolor\":\"rgb(17,17,17)\",\"landcolor\":\"rgb(17,17,17)\",\"showlakes\":true,\"showland\":true,\"subunitcolor\":\"#506784\"},\"hoverlabel\":{\"align\":\"left\"},\"hovermode\":\"closest\",\"mapbox\":{\"style\":\"dark\"},\"paper_bgcolor\":\"rgb(17,17,17)\",\"plot_bgcolor\":\"rgb(17,17,17)\",\"polar\":{\"angularaxis\":{\"gridcolor\":\"#506784\",\"linecolor\":\"#506784\",\"ticks\":\"\"},\"bgcolor\":\"rgb(17,17,17)\",\"radialaxis\":{\"gridcolor\":\"#506784\",\"linecolor\":\"#506784\",\"ticks\":\"\"}},\"scene\":{\"xaxis\":{\"backgroundcolor\":\"rgb(17,17,17)\",\"gridcolor\":\"#506784\",\"gridwidth\":2,\"linecolor\":\"#506784\",\"showbackground\":true,\"ticks\":\"\",\"zerolinecolor\":\"#C8D4E3\"},\"yaxis\":{\"backgroundcolor\":\"rgb(17,17,17)\",\"gridcolor\":\"#506784\",\"gridwidth\":2,\"linecolor\":\"#506784\",\"showbackground\":true,\"ticks\":\"\",\"zerolinecolor\":\"#C8D4E3\"},\"zaxis\":{\"backgroundcolor\":\"rgb(17,17,17)\",\"gridcolor\":\"#506784\",\"gridwidth\":2,\"linecolor\":\"#506784\",\"showbackground\":true,\"ticks\":\"\",\"zerolinecolor\":\"#C8D4E3\"}},\"shapedefaults\":{\"line\":{\"color\":\"#f2f5fa\"}},\"sliderdefaults\":{\"bgcolor\":\"#C8D4E3\",\"bordercolor\":\"rgb(17,17,17)\",\"borderwidth\":1,\"tickwidth\":0},\"ternary\":{\"aaxis\":{\"gridcolor\":\"#506784\",\"linecolor\":\"#506784\",\"ticks\":\"\"},\"baxis\":{\"gridcolor\":\"#506784\",\"linecolor\":\"#506784\",\"ticks\":\"\"},\"bgcolor\":\"rgb(17,17,17)\",\"caxis\":{\"gridcolor\":\"#506784\",\"linecolor\":\"#506784\",\"ticks\":\"\"}},\"title\":{\"x\":0.05},\"updatemenudefaults\":{\"bgcolor\":\"#506784\",\"borderwidth\":0},\"xaxis\":{\"automargin\":true,\"gridcolor\":\"#283442\",\"linecolor\":\"#506784\",\"ticks\":\"\",\"title\":{\"standoff\":15},\"zerolinecolor\":\"#283442\",\"zerolinewidth\":2},\"yaxis\":{\"automargin\":true,\"gridcolor\":\"#283442\",\"linecolor\":\"#506784\",\"ticks\":\"\",\"title\":{\"standoff\":15},\"zerolinecolor\":\"#283442\",\"zerolinewidth\":2}}},\"legend\":{\"tracegroupgap\":0},\"title\":{\"text\":\"Diabetes Distribution\",\"x\":0.5},\"piecolorway\":[\"rgb(75, 41, 145)\",\"rgb(135, 44, 162)\",\"rgb(192, 54, 157)\",\"rgb(234, 79, 136)\",\"rgb(250, 120, 118)\",\"rgb(246, 169, 122)\",\"rgb(237, 217, 163)\"],\"width\":800,\"height\":600},                        {\"responsive\": true}                    ).then(function(){\n",
       "                            \n",
       "var gd = document.getElementById('aa66cf0d-c5b5-4d73-98b0-781190a2a6b5');\n",
       "var x = new MutationObserver(function (mutations, observer) {{\n",
       "        var display = window.getComputedStyle(gd).display;\n",
       "        if (!display || display === 'none') {{\n",
       "            console.log([gd, 'removed!']);\n",
       "            Plotly.purge(gd);\n",
       "            observer.disconnect();\n",
       "        }}\n",
       "}});\n",
       "\n",
       "// Listen for the removal of the full notebook cells\n",
       "var notebookContainer = gd.closest('#notebook-container');\n",
       "if (notebookContainer) {{\n",
       "    x.observe(notebookContainer, {childList: true});\n",
       "}}\n",
       "\n",
       "// Listen for the clearing of the current output cell\n",
       "var outputEl = gd.closest('.output');\n",
       "if (outputEl) {{\n",
       "    x.observe(outputEl, {childList: true});\n",
       "}}\n",
       "\n",
       "                        })                };                });            </script>        </div>"
      ]
     },
     "metadata": {},
     "output_type": "display_data"
    }
   ],
   "source": [
    "plt = px.pie(data, names=\"Diabetes\", title=\"Diabetes Distribution\", color_discrete_sequence=px.colors.sequential.Agsunset)\n",
    "plt.update_layout(\n",
    "    title_x=0.5,\n",
    "    template=\"plotly_dark\",  \n",
    "    width=800,              \n",
    "    height=600 \n",
    ")\n",
    "plt.show()"
   ]
  },
  {
   "cell_type": "code",
   "execution_count": 37,
   "id": "c9643b54",
   "metadata": {
    "execution": {
     "iopub.execute_input": "2024-09-05T23:23:07.765496Z",
     "iopub.status.busy": "2024-09-05T23:23:07.764671Z",
     "iopub.status.idle": "2024-09-05T23:23:07.774211Z",
     "shell.execute_reply": "2024-09-05T23:23:07.773275Z"
    },
    "papermill": {
     "duration": 0.042924,
     "end_time": "2024-09-05T23:23:07.776189",
     "exception": false,
     "start_time": "2024-09-05T23:23:07.733265",
     "status": "completed"
    },
    "tags": []
   },
   "outputs": [
    {
     "data": {
      "text/plain": [
       "Gender  Diabetes\n",
       "0       0           723\n",
       "        1           120\n",
       "1       0           735\n",
       "        1           122\n",
       "Name: Diabetes, dtype: int64"
      ]
     },
     "execution_count": 37,
     "metadata": {},
     "output_type": "execute_result"
    }
   ],
   "source": [
    "### Diabetes VS Gender\n",
    "data.groupby(['Gender','Diabetes'])['Diabetes'].count()"
   ]
  },
  {
   "cell_type": "code",
   "execution_count": 38,
   "id": "36e4b101",
   "metadata": {
    "execution": {
     "iopub.execute_input": "2024-09-05T23:23:07.837264Z",
     "iopub.status.busy": "2024-09-05T23:23:07.836843Z",
     "iopub.status.idle": "2024-09-05T23:23:07.930845Z",
     "shell.execute_reply": "2024-09-05T23:23:07.929955Z"
    },
    "papermill": {
     "duration": 0.126403,
     "end_time": "2024-09-05T23:23:07.932907",
     "exception": false,
     "start_time": "2024-09-05T23:23:07.806504",
     "status": "completed"
    },
    "tags": []
   },
   "outputs": [
    {
     "data": {
      "text/html": [
       "<div>                            <div id=\"a03e38b3-0171-45b0-9ef2-872c40161fb6\" class=\"plotly-graph-div\" style=\"height:600px; width:800px;\"></div>            <script type=\"text/javascript\">                require([\"plotly\"], function(Plotly) {                    window.PLOTLYENV=window.PLOTLYENV || {};                                    if (document.getElementById(\"a03e38b3-0171-45b0-9ef2-872c40161fb6\")) {                    Plotly.newPlot(                        \"a03e38b3-0171-45b0-9ef2-872c40161fb6\",                        [{\"alignmentgroup\":\"True\",\"bingroup\":\"x\",\"hovertemplate\":\"color=Female\\u003cbr\\u003ex=%{x}\\u003cbr\\u003ecount=%{y}\\u003cextra\\u003e\\u003c\\u002fextra\\u003e\",\"legendgroup\":\"Female\",\"marker\":{\"color\":\"rgb(18, 63, 90)\",\"pattern\":{\"shape\":\"\"}},\"name\":\"Female\",\"offsetgroup\":\"Female\",\"orientation\":\"v\",\"showlegend\":true,\"texttemplate\":\"%{value}\",\"x\":[\"NO\",\"NO\",\"NO\",\"NO\",\"NO\",\"NO\",\"NO\",\"YES\",\"NO\",\"NO\",\"NO\",\"NO\",\"NO\",\"NO\",\"YES\",\"NO\",\"NO\",\"NO\",\"NO\",\"NO\",\"NO\",\"NO\",\"NO\",\"NO\",\"NO\",\"NO\",\"NO\",\"YES\",\"NO\",\"NO\",\"NO\",\"NO\",\"NO\",\"NO\",\"NO\",\"NO\",\"NO\",\"YES\",\"YES\",\"NO\",\"NO\",\"YES\",\"NO\",\"YES\",\"NO\",\"NO\",\"NO\",\"NO\",\"NO\",\"NO\",\"NO\",\"NO\",\"NO\",\"NO\",\"NO\",\"YES\",\"NO\",\"NO\",\"NO\",\"NO\",\"NO\",\"YES\",\"NO\",\"NO\",\"NO\",\"NO\",\"NO\",\"YES\",\"NO\",\"NO\",\"NO\",\"NO\",\"NO\",\"NO\",\"NO\",\"NO\",\"NO\",\"YES\",\"NO\",\"NO\",\"NO\",\"NO\",\"NO\",\"NO\",\"NO\",\"NO\",\"NO\",\"NO\",\"NO\",\"NO\",\"YES\",\"NO\",\"NO\",\"NO\",\"NO\",\"YES\",\"NO\",\"NO\",\"NO\",\"NO\",\"NO\",\"YES\",\"YES\",\"NO\",\"NO\",\"NO\",\"NO\",\"NO\",\"NO\",\"YES\",\"NO\",\"NO\",\"NO\",\"NO\",\"NO\",\"NO\",\"YES\",\"NO\",\"NO\",\"NO\",\"NO\",\"NO\",\"NO\",\"NO\",\"NO\",\"NO\",\"NO\",\"NO\",\"NO\",\"NO\",\"NO\",\"NO\",\"YES\",\"NO\",\"NO\",\"NO\",\"NO\",\"NO\",\"YES\",\"NO\",\"YES\",\"NO\",\"NO\",\"YES\",\"NO\",\"NO\",\"YES\",\"NO\",\"NO\",\"NO\",\"NO\",\"NO\",\"NO\",\"NO\",\"NO\",\"NO\",\"NO\",\"NO\",\"NO\",\"NO\",\"NO\",\"NO\",\"NO\",\"NO\",\"NO\",\"NO\",\"NO\",\"NO\",\"NO\",\"YES\",\"NO\",\"NO\",\"YES\",\"NO\",\"NO\",\"NO\",\"NO\",\"NO\",\"NO\",\"NO\",\"NO\",\"NO\",\"NO\",\"YES\",\"YES\",\"NO\",\"NO\",\"NO\",\"YES\",\"NO\",\"YES\",\"NO\",\"NO\",\"NO\",\"NO\",\"NO\",\"NO\",\"NO\",\"NO\",\"NO\",\"YES\",\"NO\",\"NO\",\"NO\",\"NO\",\"NO\",\"NO\",\"NO\",\"NO\",\"NO\",\"YES\",\"NO\",\"NO\",\"NO\",\"NO\",\"NO\",\"NO\",\"NO\",\"NO\",\"NO\",\"NO\",\"NO\",\"NO\",\"NO\",\"YES\",\"NO\",\"NO\",\"YES\",\"NO\",\"NO\",\"NO\",\"NO\",\"YES\",\"NO\",\"YES\",\"NO\",\"NO\",\"NO\",\"NO\",\"NO\",\"NO\",\"NO\",\"NO\",\"NO\",\"NO\",\"NO\",\"YES\",\"YES\",\"NO\",\"NO\",\"YES\",\"NO\",\"YES\",\"NO\",\"NO\",\"NO\",\"NO\",\"NO\",\"NO\",\"NO\",\"NO\",\"NO\",\"NO\",\"NO\",\"NO\",\"NO\",\"NO\",\"NO\",\"YES\",\"YES\",\"NO\",\"NO\",\"NO\",\"NO\",\"YES\",\"NO\",\"NO\",\"NO\",\"NO\",\"NO\",\"NO\",\"NO\",\"NO\",\"YES\",\"NO\",\"NO\",\"NO\",\"NO\",\"NO\",\"NO\",\"YES\",\"NO\",\"NO\",\"NO\",\"NO\",\"YES\",\"NO\",\"NO\",\"NO\",\"NO\",\"NO\",\"NO\",\"NO\",\"NO\",\"NO\",\"NO\",\"NO\",\"NO\",\"NO\",\"YES\",\"NO\",\"NO\",\"NO\",\"NO\",\"NO\",\"NO\",\"NO\",\"NO\",\"NO\",\"NO\",\"NO\",\"YES\",\"YES\",\"NO\",\"NO\",\"NO\",\"NO\",\"NO\",\"NO\",\"NO\",\"NO\",\"NO\",\"NO\",\"NO\",\"NO\",\"NO\",\"NO\",\"NO\",\"NO\",\"NO\",\"NO\",\"NO\",\"NO\",\"NO\",\"NO\",\"NO\",\"NO\",\"NO\",\"NO\",\"NO\",\"YES\",\"NO\",\"NO\",\"NO\",\"NO\",\"NO\",\"NO\",\"YES\",\"NO\",\"NO\",\"NO\",\"YES\",\"NO\",\"NO\",\"NO\",\"NO\",\"NO\",\"YES\",\"YES\",\"NO\",\"NO\",\"YES\",\"NO\",\"YES\",\"NO\",\"NO\",\"NO\",\"NO\",\"NO\",\"NO\",\"NO\",\"NO\",\"NO\",\"YES\",\"NO\",\"NO\",\"NO\",\"NO\",\"NO\",\"NO\",\"YES\",\"NO\",\"NO\",\"NO\",\"NO\",\"NO\",\"NO\",\"NO\",\"YES\",\"NO\",\"YES\",\"NO\",\"NO\",\"NO\",\"NO\",\"NO\",\"NO\",\"YES\",\"NO\",\"NO\",\"NO\",\"NO\",\"NO\",\"NO\",\"NO\",\"NO\",\"NO\",\"NO\",\"NO\",\"NO\",\"NO\",\"NO\",\"NO\",\"NO\",\"NO\",\"YES\",\"NO\",\"NO\",\"NO\",\"NO\",\"YES\",\"NO\",\"NO\",\"YES\",\"NO\",\"NO\",\"YES\",\"YES\",\"NO\",\"NO\",\"NO\",\"NO\",\"NO\",\"YES\",\"NO\",\"YES\",\"YES\",\"YES\",\"NO\",\"NO\",\"NO\",\"NO\",\"NO\",\"NO\",\"YES\",\"NO\",\"NO\",\"NO\",\"NO\",\"NO\",\"NO\",\"NO\",\"NO\",\"NO\",\"NO\",\"NO\",\"NO\",\"NO\",\"NO\",\"NO\",\"NO\",\"NO\",\"NO\",\"NO\",\"YES\",\"NO\",\"YES\",\"YES\",\"NO\",\"NO\",\"NO\",\"NO\",\"NO\",\"NO\",\"YES\",\"NO\",\"NO\",\"NO\",\"NO\",\"NO\",\"NO\",\"NO\",\"NO\",\"NO\",\"NO\",\"NO\",\"NO\",\"YES\",\"YES\",\"NO\",\"NO\",\"YES\",\"NO\",\"NO\",\"NO\",\"NO\",\"NO\",\"NO\",\"YES\",\"NO\",\"YES\",\"NO\",\"NO\",\"NO\",\"NO\",\"NO\",\"YES\",\"NO\",\"NO\",\"NO\",\"NO\",\"NO\",\"NO\",\"YES\",\"NO\",\"NO\",\"NO\",\"NO\",\"NO\",\"NO\",\"YES\",\"YES\",\"NO\",\"NO\",\"NO\",\"NO\",\"NO\",\"NO\",\"NO\",\"NO\",\"NO\",\"YES\",\"NO\",\"NO\",\"NO\",\"YES\",\"NO\",\"NO\",\"NO\",\"NO\",\"NO\",\"NO\",\"NO\",\"NO\",\"NO\",\"NO\",\"NO\",\"YES\",\"NO\",\"NO\",\"NO\",\"YES\",\"NO\",\"NO\",\"NO\",\"NO\",\"NO\",\"NO\",\"NO\",\"NO\",\"YES\",\"NO\",\"NO\",\"NO\",\"NO\",\"NO\",\"NO\",\"NO\",\"NO\",\"NO\",\"YES\",\"NO\",\"NO\",\"NO\",\"NO\",\"NO\",\"NO\",\"NO\",\"NO\",\"NO\",\"NO\",\"NO\",\"NO\",\"NO\",\"NO\",\"NO\",\"NO\",\"NO\",\"YES\",\"YES\",\"NO\",\"NO\",\"NO\",\"NO\",\"NO\",\"NO\",\"NO\",\"NO\",\"NO\",\"YES\",\"NO\",\"NO\",\"NO\",\"NO\",\"NO\",\"NO\",\"YES\",\"NO\",\"NO\",\"NO\",\"NO\",\"NO\",\"NO\",\"NO\",\"NO\",\"NO\",\"NO\",\"NO\",\"YES\",\"NO\",\"NO\",\"NO\",\"YES\",\"NO\",\"NO\",\"NO\",\"NO\",\"NO\",\"NO\",\"NO\",\"NO\",\"NO\",\"NO\",\"NO\",\"YES\",\"NO\",\"NO\",\"NO\",\"NO\",\"NO\",\"NO\",\"NO\",\"YES\",\"NO\",\"NO\",\"NO\",\"NO\",\"NO\",\"NO\",\"NO\",\"YES\",\"NO\",\"NO\",\"NO\",\"NO\",\"NO\",\"NO\",\"NO\",\"NO\",\"NO\",\"NO\",\"YES\",\"NO\",\"NO\",\"NO\",\"NO\",\"NO\",\"NO\",\"NO\",\"NO\",\"YES\",\"YES\",\"NO\",\"YES\",\"NO\",\"NO\",\"NO\",\"NO\",\"NO\",\"NO\",\"NO\",\"NO\",\"NO\",\"NO\",\"NO\",\"NO\",\"NO\",\"NO\",\"NO\",\"NO\",\"NO\",\"NO\",\"NO\",\"NO\",\"NO\",\"NO\",\"NO\",\"NO\",\"NO\",\"NO\",\"YES\",\"NO\",\"NO\",\"YES\",\"NO\",\"NO\",\"NO\",\"NO\",\"NO\",\"NO\",\"NO\",\"NO\",\"NO\",\"NO\",\"YES\",\"NO\",\"NO\",\"NO\",\"NO\",\"NO\",\"NO\",\"NO\",\"NO\",\"NO\",\"NO\",\"NO\",\"NO\",\"NO\",\"NO\",\"NO\",\"NO\",\"YES\",\"NO\",\"NO\",\"NO\",\"YES\",\"YES\",\"NO\",\"YES\",\"NO\",\"NO\",\"NO\",\"YES\",\"NO\",\"NO\",\"YES\",\"NO\",\"YES\",\"NO\",\"YES\",\"NO\",\"NO\",\"NO\",\"NO\",\"NO\",\"NO\",\"NO\",\"NO\",\"NO\",\"NO\",\"NO\",\"NO\",\"NO\",\"NO\",\"NO\",\"NO\",\"YES\",\"NO\",\"NO\",\"NO\",\"NO\",\"NO\",\"NO\",\"YES\",\"NO\",\"NO\",\"NO\",\"NO\",\"NO\",\"YES\",\"NO\",\"NO\",\"NO\",\"NO\",\"NO\",\"NO\",\"NO\",\"NO\",\"NO\",\"NO\",\"NO\",\"NO\",\"NO\",\"NO\",\"NO\",\"NO\",\"NO\",\"YES\",\"YES\",\"NO\",\"NO\",\"NO\",\"NO\",\"NO\",\"NO\",\"NO\",\"NO\",\"YES\",\"YES\",\"NO\",\"NO\",\"NO\",\"NO\",\"NO\",\"NO\",\"NO\",\"NO\",\"NO\",\"NO\",\"NO\",\"NO\",\"NO\",\"NO\",\"NO\",\"YES\",\"NO\",\"NO\",\"NO\",\"NO\",\"NO\",\"NO\",\"NO\",\"NO\"],\"xaxis\":\"x\",\"yaxis\":\"y\",\"type\":\"histogram\"},{\"alignmentgroup\":\"True\",\"bingroup\":\"x\",\"hovertemplate\":\"color=Male\\u003cbr\\u003ex=%{x}\\u003cbr\\u003ecount=%{y}\\u003cextra\\u003e\\u003c\\u002fextra\\u003e\",\"legendgroup\":\"Male\",\"marker\":{\"color\":\"rgb(35, 93, 114)\",\"pattern\":{\"shape\":\"\"}},\"name\":\"Male\",\"offsetgroup\":\"Male\",\"orientation\":\"v\",\"showlegend\":true,\"texttemplate\":\"%{value}\",\"x\":[\"YES\",\"NO\",\"YES\",\"NO\",\"NO\",\"YES\",\"YES\",\"NO\",\"NO\",\"NO\",\"NO\",\"NO\",\"NO\",\"NO\",\"NO\",\"NO\",\"NO\",\"YES\",\"NO\",\"YES\",\"NO\",\"NO\",\"YES\",\"NO\",\"NO\",\"NO\",\"NO\",\"NO\",\"NO\",\"NO\",\"NO\",\"NO\",\"YES\",\"NO\",\"NO\",\"NO\",\"NO\",\"NO\",\"NO\",\"YES\",\"NO\",\"NO\",\"NO\",\"NO\",\"NO\",\"NO\",\"NO\",\"NO\",\"NO\",\"YES\",\"NO\",\"NO\",\"NO\",\"NO\",\"NO\",\"NO\",\"NO\",\"NO\",\"NO\",\"NO\",\"NO\",\"NO\",\"NO\",\"NO\",\"NO\",\"NO\",\"NO\",\"NO\",\"NO\",\"NO\",\"NO\",\"NO\",\"NO\",\"NO\",\"NO\",\"NO\",\"NO\",\"YES\",\"NO\",\"NO\",\"YES\",\"NO\",\"NO\",\"NO\",\"NO\",\"NO\",\"NO\",\"NO\",\"YES\",\"NO\",\"YES\",\"NO\",\"NO\",\"NO\",\"NO\",\"NO\",\"NO\",\"NO\",\"NO\",\"NO\",\"NO\",\"NO\",\"NO\",\"NO\",\"NO\",\"NO\",\"NO\",\"NO\",\"YES\",\"NO\",\"NO\",\"NO\",\"NO\",\"NO\",\"NO\",\"NO\",\"NO\",\"NO\",\"NO\",\"NO\",\"NO\",\"NO\",\"NO\",\"NO\",\"NO\",\"NO\",\"NO\",\"YES\",\"NO\",\"NO\",\"NO\",\"YES\",\"NO\",\"NO\",\"NO\",\"YES\",\"NO\",\"NO\",\"NO\",\"NO\",\"NO\",\"NO\",\"NO\",\"NO\",\"NO\",\"NO\",\"NO\",\"NO\",\"YES\",\"YES\",\"NO\",\"NO\",\"NO\",\"NO\",\"NO\",\"NO\",\"NO\",\"NO\",\"NO\",\"NO\",\"NO\",\"NO\",\"YES\",\"NO\",\"NO\",\"NO\",\"YES\",\"NO\",\"NO\",\"NO\",\"YES\",\"NO\",\"NO\",\"NO\",\"NO\",\"YES\",\"NO\",\"NO\",\"NO\",\"NO\",\"NO\",\"NO\",\"NO\",\"NO\",\"NO\",\"NO\",\"NO\",\"NO\",\"NO\",\"YES\",\"NO\",\"NO\",\"NO\",\"NO\",\"NO\",\"NO\",\"NO\",\"NO\",\"NO\",\"NO\",\"NO\",\"NO\",\"NO\",\"NO\",\"NO\",\"NO\",\"NO\",\"NO\",\"NO\",\"NO\",\"NO\",\"NO\",\"NO\",\"NO\",\"NO\",\"NO\",\"NO\",\"NO\",\"YES\",\"NO\",\"YES\",\"NO\",\"NO\",\"NO\",\"YES\",\"NO\",\"NO\",\"NO\",\"NO\",\"NO\",\"NO\",\"NO\",\"NO\",\"NO\",\"NO\",\"NO\",\"NO\",\"NO\",\"NO\",\"NO\",\"NO\",\"NO\",\"YES\",\"NO\",\"YES\",\"NO\",\"NO\",\"NO\",\"NO\",\"NO\",\"NO\",\"NO\",\"YES\",\"NO\",\"NO\",\"NO\",\"NO\",\"NO\",\"NO\",\"NO\",\"NO\",\"NO\",\"NO\",\"NO\",\"NO\",\"NO\",\"NO\",\"NO\",\"NO\",\"NO\",\"NO\",\"NO\",\"NO\",\"NO\",\"NO\",\"NO\",\"NO\",\"YES\",\"NO\",\"YES\",\"NO\",\"NO\",\"NO\",\"NO\",\"NO\",\"NO\",\"NO\",\"NO\",\"NO\",\"YES\",\"NO\",\"NO\",\"NO\",\"NO\",\"NO\",\"NO\",\"NO\",\"NO\",\"NO\",\"YES\",\"NO\",\"NO\",\"NO\",\"NO\",\"NO\",\"NO\",\"NO\",\"NO\",\"NO\",\"YES\",\"NO\",\"NO\",\"YES\",\"NO\",\"NO\",\"NO\",\"NO\",\"NO\",\"NO\",\"YES\",\"NO\",\"NO\",\"NO\",\"NO\",\"NO\",\"NO\",\"YES\",\"NO\",\"NO\",\"NO\",\"YES\",\"YES\",\"YES\",\"NO\",\"YES\",\"NO\",\"NO\",\"YES\",\"YES\",\"NO\",\"NO\",\"NO\",\"NO\",\"YES\",\"NO\",\"NO\",\"NO\",\"NO\",\"NO\",\"NO\",\"YES\",\"NO\",\"NO\",\"NO\",\"NO\",\"NO\",\"NO\",\"YES\",\"NO\",\"NO\",\"NO\",\"NO\",\"NO\",\"YES\",\"NO\",\"NO\",\"NO\",\"YES\",\"NO\",\"YES\",\"NO\",\"YES\",\"NO\",\"NO\",\"YES\",\"NO\",\"YES\",\"NO\",\"NO\",\"NO\",\"NO\",\"NO\",\"NO\",\"NO\",\"NO\",\"NO\",\"NO\",\"NO\",\"NO\",\"YES\",\"NO\",\"NO\",\"NO\",\"NO\",\"NO\",\"NO\",\"NO\",\"NO\",\"NO\",\"NO\",\"NO\",\"NO\",\"NO\",\"NO\",\"NO\",\"YES\",\"YES\",\"NO\",\"NO\",\"NO\",\"NO\",\"NO\",\"NO\",\"NO\",\"NO\",\"NO\",\"NO\",\"NO\",\"NO\",\"NO\",\"YES\",\"NO\",\"NO\",\"NO\",\"YES\",\"NO\",\"YES\",\"NO\",\"NO\",\"YES\",\"NO\",\"YES\",\"NO\",\"NO\",\"NO\",\"NO\",\"NO\",\"NO\",\"NO\",\"NO\",\"NO\",\"NO\",\"NO\",\"NO\",\"NO\",\"NO\",\"NO\",\"NO\",\"NO\",\"NO\",\"NO\",\"NO\",\"NO\",\"NO\",\"YES\",\"NO\",\"NO\",\"NO\",\"NO\",\"NO\",\"NO\",\"NO\",\"NO\",\"NO\",\"NO\",\"NO\",\"NO\",\"NO\",\"NO\",\"YES\",\"NO\",\"NO\",\"NO\",\"NO\",\"NO\",\"NO\",\"NO\",\"NO\",\"NO\",\"NO\",\"NO\",\"NO\",\"NO\",\"NO\",\"NO\",\"NO\",\"NO\",\"NO\",\"NO\",\"NO\",\"NO\",\"NO\",\"NO\",\"NO\",\"NO\",\"NO\",\"NO\",\"NO\",\"NO\",\"NO\",\"YES\",\"NO\",\"NO\",\"NO\",\"NO\",\"NO\",\"NO\",\"NO\",\"NO\",\"NO\",\"NO\",\"NO\",\"NO\",\"NO\",\"NO\",\"NO\",\"NO\",\"YES\",\"NO\",\"NO\",\"NO\",\"NO\",\"NO\",\"NO\",\"NO\",\"NO\",\"NO\",\"NO\",\"NO\",\"NO\",\"NO\",\"YES\",\"NO\",\"NO\",\"NO\",\"NO\",\"NO\",\"NO\",\"NO\",\"NO\",\"NO\",\"NO\",\"YES\",\"NO\",\"NO\",\"NO\",\"NO\",\"NO\",\"NO\",\"YES\",\"NO\",\"NO\",\"YES\",\"NO\",\"NO\",\"NO\",\"NO\",\"NO\",\"NO\",\"NO\",\"NO\",\"NO\",\"NO\",\"YES\",\"NO\",\"NO\",\"NO\",\"YES\",\"NO\",\"NO\",\"NO\",\"NO\",\"YES\",\"YES\",\"NO\",\"NO\",\"NO\",\"NO\",\"NO\",\"NO\",\"NO\",\"NO\",\"NO\",\"NO\",\"YES\",\"NO\",\"NO\",\"YES\",\"NO\",\"NO\",\"NO\",\"NO\",\"NO\",\"NO\",\"NO\",\"NO\",\"NO\",\"NO\",\"NO\",\"NO\",\"NO\",\"NO\",\"NO\",\"NO\",\"NO\",\"NO\",\"NO\",\"NO\",\"NO\",\"NO\",\"YES\",\"YES\",\"YES\",\"NO\",\"NO\",\"NO\",\"NO\",\"NO\",\"YES\",\"NO\",\"YES\",\"NO\",\"NO\",\"NO\",\"NO\",\"YES\",\"NO\",\"NO\",\"NO\",\"YES\",\"NO\",\"NO\",\"NO\",\"NO\",\"NO\",\"NO\",\"NO\",\"NO\",\"NO\",\"NO\",\"NO\",\"NO\",\"NO\",\"NO\",\"NO\",\"NO\",\"NO\",\"NO\",\"NO\",\"NO\",\"NO\",\"NO\",\"NO\",\"NO\",\"NO\",\"NO\",\"NO\",\"NO\",\"NO\",\"YES\",\"YES\",\"NO\",\"NO\",\"NO\",\"NO\",\"NO\",\"YES\",\"NO\",\"NO\",\"NO\",\"YES\",\"NO\",\"NO\",\"NO\",\"NO\",\"NO\",\"YES\",\"NO\",\"NO\",\"NO\",\"NO\",\"NO\",\"NO\",\"NO\",\"NO\",\"YES\",\"NO\",\"NO\",\"NO\",\"NO\",\"YES\",\"YES\",\"NO\",\"NO\",\"YES\",\"NO\",\"NO\",\"NO\",\"NO\",\"YES\",\"NO\",\"NO\",\"YES\",\"NO\",\"NO\",\"NO\",\"YES\",\"NO\",\"NO\",\"NO\",\"NO\",\"YES\",\"NO\",\"NO\",\"NO\",\"NO\",\"NO\",\"NO\",\"NO\",\"NO\",\"YES\",\"YES\",\"YES\",\"NO\",\"NO\",\"NO\",\"NO\",\"NO\",\"NO\",\"NO\",\"NO\",\"NO\",\"NO\",\"NO\",\"NO\",\"NO\",\"NO\",\"YES\",\"NO\",\"NO\",\"NO\",\"NO\",\"NO\",\"YES\",\"NO\",\"NO\",\"YES\",\"YES\",\"NO\",\"NO\",\"YES\",\"NO\",\"NO\",\"NO\",\"YES\",\"NO\",\"NO\",\"NO\",\"NO\",\"NO\",\"NO\",\"YES\",\"YES\",\"NO\",\"NO\",\"NO\",\"NO\",\"NO\",\"NO\",\"NO\",\"NO\",\"NO\",\"NO\",\"NO\",\"NO\",\"NO\",\"NO\",\"NO\",\"NO\",\"NO\",\"NO\",\"YES\",\"YES\",\"NO\",\"NO\",\"NO\",\"YES\",\"NO\",\"NO\",\"NO\",\"NO\",\"NO\",\"NO\",\"NO\",\"NO\",\"NO\",\"NO\",\"NO\",\"YES\",\"YES\",\"NO\",\"NO\",\"NO\",\"NO\",\"NO\",\"NO\",\"NO\",\"YES\",\"YES\",\"YES\",\"NO\",\"YES\",\"NO\",\"NO\",\"NO\",\"NO\",\"NO\",\"NO\",\"YES\",\"NO\",\"NO\",\"NO\",\"NO\",\"YES\",\"NO\",\"NO\",\"NO\",\"NO\",\"NO\",\"NO\",\"NO\",\"NO\",\"NO\",\"NO\",\"NO\",\"NO\",\"NO\",\"NO\",\"YES\",\"NO\",\"YES\",\"NO\",\"NO\",\"NO\",\"NO\",\"NO\",\"NO\",\"YES\",\"NO\",\"NO\",\"NO\",\"NO\",\"YES\",\"NO\",\"NO\",\"NO\",\"NO\"],\"xaxis\":\"x\",\"yaxis\":\"y\",\"type\":\"histogram\"}],                        {\"template\":{\"data\":{\"barpolar\":[{\"marker\":{\"line\":{\"color\":\"rgb(17,17,17)\",\"width\":0.5},\"pattern\":{\"fillmode\":\"overlay\",\"size\":10,\"solidity\":0.2}},\"type\":\"barpolar\"}],\"bar\":[{\"error_x\":{\"color\":\"#f2f5fa\"},\"error_y\":{\"color\":\"#f2f5fa\"},\"marker\":{\"line\":{\"color\":\"rgb(17,17,17)\",\"width\":0.5},\"pattern\":{\"fillmode\":\"overlay\",\"size\":10,\"solidity\":0.2}},\"type\":\"bar\"}],\"carpet\":[{\"aaxis\":{\"endlinecolor\":\"#A2B1C6\",\"gridcolor\":\"#506784\",\"linecolor\":\"#506784\",\"minorgridcolor\":\"#506784\",\"startlinecolor\":\"#A2B1C6\"},\"baxis\":{\"endlinecolor\":\"#A2B1C6\",\"gridcolor\":\"#506784\",\"linecolor\":\"#506784\",\"minorgridcolor\":\"#506784\",\"startlinecolor\":\"#A2B1C6\"},\"type\":\"carpet\"}],\"choropleth\":[{\"colorbar\":{\"outlinewidth\":0,\"ticks\":\"\"},\"type\":\"choropleth\"}],\"contourcarpet\":[{\"colorbar\":{\"outlinewidth\":0,\"ticks\":\"\"},\"type\":\"contourcarpet\"}],\"contour\":[{\"colorbar\":{\"outlinewidth\":0,\"ticks\":\"\"},\"colorscale\":[[0.0,\"#0d0887\"],[0.1111111111111111,\"#46039f\"],[0.2222222222222222,\"#7201a8\"],[0.3333333333333333,\"#9c179e\"],[0.4444444444444444,\"#bd3786\"],[0.5555555555555556,\"#d8576b\"],[0.6666666666666666,\"#ed7953\"],[0.7777777777777778,\"#fb9f3a\"],[0.8888888888888888,\"#fdca26\"],[1.0,\"#f0f921\"]],\"type\":\"contour\"}],\"heatmapgl\":[{\"colorbar\":{\"outlinewidth\":0,\"ticks\":\"\"},\"colorscale\":[[0.0,\"#0d0887\"],[0.1111111111111111,\"#46039f\"],[0.2222222222222222,\"#7201a8\"],[0.3333333333333333,\"#9c179e\"],[0.4444444444444444,\"#bd3786\"],[0.5555555555555556,\"#d8576b\"],[0.6666666666666666,\"#ed7953\"],[0.7777777777777778,\"#fb9f3a\"],[0.8888888888888888,\"#fdca26\"],[1.0,\"#f0f921\"]],\"type\":\"heatmapgl\"}],\"heatmap\":[{\"colorbar\":{\"outlinewidth\":0,\"ticks\":\"\"},\"colorscale\":[[0.0,\"#0d0887\"],[0.1111111111111111,\"#46039f\"],[0.2222222222222222,\"#7201a8\"],[0.3333333333333333,\"#9c179e\"],[0.4444444444444444,\"#bd3786\"],[0.5555555555555556,\"#d8576b\"],[0.6666666666666666,\"#ed7953\"],[0.7777777777777778,\"#fb9f3a\"],[0.8888888888888888,\"#fdca26\"],[1.0,\"#f0f921\"]],\"type\":\"heatmap\"}],\"histogram2dcontour\":[{\"colorbar\":{\"outlinewidth\":0,\"ticks\":\"\"},\"colorscale\":[[0.0,\"#0d0887\"],[0.1111111111111111,\"#46039f\"],[0.2222222222222222,\"#7201a8\"],[0.3333333333333333,\"#9c179e\"],[0.4444444444444444,\"#bd3786\"],[0.5555555555555556,\"#d8576b\"],[0.6666666666666666,\"#ed7953\"],[0.7777777777777778,\"#fb9f3a\"],[0.8888888888888888,\"#fdca26\"],[1.0,\"#f0f921\"]],\"type\":\"histogram2dcontour\"}],\"histogram2d\":[{\"colorbar\":{\"outlinewidth\":0,\"ticks\":\"\"},\"colorscale\":[[0.0,\"#0d0887\"],[0.1111111111111111,\"#46039f\"],[0.2222222222222222,\"#7201a8\"],[0.3333333333333333,\"#9c179e\"],[0.4444444444444444,\"#bd3786\"],[0.5555555555555556,\"#d8576b\"],[0.6666666666666666,\"#ed7953\"],[0.7777777777777778,\"#fb9f3a\"],[0.8888888888888888,\"#fdca26\"],[1.0,\"#f0f921\"]],\"type\":\"histogram2d\"}],\"histogram\":[{\"marker\":{\"pattern\":{\"fillmode\":\"overlay\",\"size\":10,\"solidity\":0.2}},\"type\":\"histogram\"}],\"mesh3d\":[{\"colorbar\":{\"outlinewidth\":0,\"ticks\":\"\"},\"type\":\"mesh3d\"}],\"parcoords\":[{\"line\":{\"colorbar\":{\"outlinewidth\":0,\"ticks\":\"\"}},\"type\":\"parcoords\"}],\"pie\":[{\"automargin\":true,\"type\":\"pie\"}],\"scatter3d\":[{\"line\":{\"colorbar\":{\"outlinewidth\":0,\"ticks\":\"\"}},\"marker\":{\"colorbar\":{\"outlinewidth\":0,\"ticks\":\"\"}},\"type\":\"scatter3d\"}],\"scattercarpet\":[{\"marker\":{\"colorbar\":{\"outlinewidth\":0,\"ticks\":\"\"}},\"type\":\"scattercarpet\"}],\"scattergeo\":[{\"marker\":{\"colorbar\":{\"outlinewidth\":0,\"ticks\":\"\"}},\"type\":\"scattergeo\"}],\"scattergl\":[{\"marker\":{\"line\":{\"color\":\"#283442\"}},\"type\":\"scattergl\"}],\"scattermapbox\":[{\"marker\":{\"colorbar\":{\"outlinewidth\":0,\"ticks\":\"\"}},\"type\":\"scattermapbox\"}],\"scatterpolargl\":[{\"marker\":{\"colorbar\":{\"outlinewidth\":0,\"ticks\":\"\"}},\"type\":\"scatterpolargl\"}],\"scatterpolar\":[{\"marker\":{\"colorbar\":{\"outlinewidth\":0,\"ticks\":\"\"}},\"type\":\"scatterpolar\"}],\"scatter\":[{\"marker\":{\"line\":{\"color\":\"#283442\"}},\"type\":\"scatter\"}],\"scatterternary\":[{\"marker\":{\"colorbar\":{\"outlinewidth\":0,\"ticks\":\"\"}},\"type\":\"scatterternary\"}],\"surface\":[{\"colorbar\":{\"outlinewidth\":0,\"ticks\":\"\"},\"colorscale\":[[0.0,\"#0d0887\"],[0.1111111111111111,\"#46039f\"],[0.2222222222222222,\"#7201a8\"],[0.3333333333333333,\"#9c179e\"],[0.4444444444444444,\"#bd3786\"],[0.5555555555555556,\"#d8576b\"],[0.6666666666666666,\"#ed7953\"],[0.7777777777777778,\"#fb9f3a\"],[0.8888888888888888,\"#fdca26\"],[1.0,\"#f0f921\"]],\"type\":\"surface\"}],\"table\":[{\"cells\":{\"fill\":{\"color\":\"#506784\"},\"line\":{\"color\":\"rgb(17,17,17)\"}},\"header\":{\"fill\":{\"color\":\"#2a3f5f\"},\"line\":{\"color\":\"rgb(17,17,17)\"}},\"type\":\"table\"}]},\"layout\":{\"annotationdefaults\":{\"arrowcolor\":\"#f2f5fa\",\"arrowhead\":0,\"arrowwidth\":1},\"autotypenumbers\":\"strict\",\"coloraxis\":{\"colorbar\":{\"outlinewidth\":0,\"ticks\":\"\"}},\"colorscale\":{\"diverging\":[[0,\"#8e0152\"],[0.1,\"#c51b7d\"],[0.2,\"#de77ae\"],[0.3,\"#f1b6da\"],[0.4,\"#fde0ef\"],[0.5,\"#f7f7f7\"],[0.6,\"#e6f5d0\"],[0.7,\"#b8e186\"],[0.8,\"#7fbc41\"],[0.9,\"#4d9221\"],[1,\"#276419\"]],\"sequential\":[[0.0,\"#0d0887\"],[0.1111111111111111,\"#46039f\"],[0.2222222222222222,\"#7201a8\"],[0.3333333333333333,\"#9c179e\"],[0.4444444444444444,\"#bd3786\"],[0.5555555555555556,\"#d8576b\"],[0.6666666666666666,\"#ed7953\"],[0.7777777777777778,\"#fb9f3a\"],[0.8888888888888888,\"#fdca26\"],[1.0,\"#f0f921\"]],\"sequentialminus\":[[0.0,\"#0d0887\"],[0.1111111111111111,\"#46039f\"],[0.2222222222222222,\"#7201a8\"],[0.3333333333333333,\"#9c179e\"],[0.4444444444444444,\"#bd3786\"],[0.5555555555555556,\"#d8576b\"],[0.6666666666666666,\"#ed7953\"],[0.7777777777777778,\"#fb9f3a\"],[0.8888888888888888,\"#fdca26\"],[1.0,\"#f0f921\"]]},\"colorway\":[\"#636efa\",\"#EF553B\",\"#00cc96\",\"#ab63fa\",\"#FFA15A\",\"#19d3f3\",\"#FF6692\",\"#B6E880\",\"#FF97FF\",\"#FECB52\"],\"font\":{\"color\":\"#f2f5fa\"},\"geo\":{\"bgcolor\":\"rgb(17,17,17)\",\"lakecolor\":\"rgb(17,17,17)\",\"landcolor\":\"rgb(17,17,17)\",\"showlakes\":true,\"showland\":true,\"subunitcolor\":\"#506784\"},\"hoverlabel\":{\"align\":\"left\"},\"hovermode\":\"closest\",\"mapbox\":{\"style\":\"dark\"},\"paper_bgcolor\":\"rgb(17,17,17)\",\"plot_bgcolor\":\"rgb(17,17,17)\",\"polar\":{\"angularaxis\":{\"gridcolor\":\"#506784\",\"linecolor\":\"#506784\",\"ticks\":\"\"},\"bgcolor\":\"rgb(17,17,17)\",\"radialaxis\":{\"gridcolor\":\"#506784\",\"linecolor\":\"#506784\",\"ticks\":\"\"}},\"scene\":{\"xaxis\":{\"backgroundcolor\":\"rgb(17,17,17)\",\"gridcolor\":\"#506784\",\"gridwidth\":2,\"linecolor\":\"#506784\",\"showbackground\":true,\"ticks\":\"\",\"zerolinecolor\":\"#C8D4E3\"},\"yaxis\":{\"backgroundcolor\":\"rgb(17,17,17)\",\"gridcolor\":\"#506784\",\"gridwidth\":2,\"linecolor\":\"#506784\",\"showbackground\":true,\"ticks\":\"\",\"zerolinecolor\":\"#C8D4E3\"},\"zaxis\":{\"backgroundcolor\":\"rgb(17,17,17)\",\"gridcolor\":\"#506784\",\"gridwidth\":2,\"linecolor\":\"#506784\",\"showbackground\":true,\"ticks\":\"\",\"zerolinecolor\":\"#C8D4E3\"}},\"shapedefaults\":{\"line\":{\"color\":\"#f2f5fa\"}},\"sliderdefaults\":{\"bgcolor\":\"#C8D4E3\",\"bordercolor\":\"rgb(17,17,17)\",\"borderwidth\":1,\"tickwidth\":0},\"ternary\":{\"aaxis\":{\"gridcolor\":\"#506784\",\"linecolor\":\"#506784\",\"ticks\":\"\"},\"baxis\":{\"gridcolor\":\"#506784\",\"linecolor\":\"#506784\",\"ticks\":\"\"},\"bgcolor\":\"rgb(17,17,17)\",\"caxis\":{\"gridcolor\":\"#506784\",\"linecolor\":\"#506784\",\"ticks\":\"\"}},\"title\":{\"x\":0.05},\"updatemenudefaults\":{\"bgcolor\":\"#506784\",\"borderwidth\":0},\"xaxis\":{\"automargin\":true,\"gridcolor\":\"#283442\",\"linecolor\":\"#506784\",\"ticks\":\"\",\"title\":{\"standoff\":15},\"zerolinecolor\":\"#283442\",\"zerolinewidth\":2},\"yaxis\":{\"automargin\":true,\"gridcolor\":\"#283442\",\"linecolor\":\"#506784\",\"ticks\":\"\",\"title\":{\"standoff\":15},\"zerolinecolor\":\"#283442\",\"zerolinewidth\":2}}},\"xaxis\":{\"anchor\":\"y\",\"domain\":[0.0,1.0],\"title\":{\"text\":\"Diabetes\"}},\"yaxis\":{\"anchor\":\"x\",\"domain\":[0.0,1.0],\"title\":{\"text\":\"Count\"}},\"legend\":{\"title\":{\"text\":\"color\"},\"tracegroupgap\":0},\"title\":{\"text\":\"Diabetes Distribution by Gender\",\"x\":0.5},\"barmode\":\"stack\",\"width\":800,\"height\":600},                        {\"responsive\": true}                    ).then(function(){\n",
       "                            \n",
       "var gd = document.getElementById('a03e38b3-0171-45b0-9ef2-872c40161fb6');\n",
       "var x = new MutationObserver(function (mutations, observer) {{\n",
       "        var display = window.getComputedStyle(gd).display;\n",
       "        if (!display || display === 'none') {{\n",
       "            console.log([gd, 'removed!']);\n",
       "            Plotly.purge(gd);\n",
       "            observer.disconnect();\n",
       "        }}\n",
       "}});\n",
       "\n",
       "// Listen for the removal of the full notebook cells\n",
       "var notebookContainer = gd.closest('#notebook-container');\n",
       "if (notebookContainer) {{\n",
       "    x.observe(notebookContainer, {childList: true});\n",
       "}}\n",
       "\n",
       "// Listen for the clearing of the current output cell\n",
       "var outputEl = gd.closest('.output');\n",
       "if (outputEl) {{\n",
       "    x.observe(outputEl, {childList: true});\n",
       "}}\n",
       "\n",
       "                        })                };                });            </script>        </div>"
      ]
     },
     "metadata": {},
     "output_type": "display_data"
    }
   ],
   "source": [
    "plt = px.histogram(x=data[\"Diabetes\"].map({0: 'NO', 1: 'YES'}), color=data[\"Gender\"].map({0: 'Female', 1: 'Male'}), \n",
    "             title=\"Diabetes Distribution by Gender\",\n",
    "             barmode='stack', \n",
    "             text_auto=True, \n",
    "             color_discrete_sequence=px.colors.sequential.Darkmint_r)\n",
    "plt.update_layout(\n",
    "    title_x=0.5,\n",
    "    template=\"plotly_dark\",  \n",
    "    width=800,              \n",
    "    height=600,\n",
    "    xaxis_title=\"Diabetes\",\n",
    "    yaxis_title=\"Count\"\n",
    ")\n",
    "plt.show()"
   ]
  },
  {
   "cell_type": "code",
   "execution_count": 39,
   "id": "cc9c3688",
   "metadata": {
    "execution": {
     "iopub.execute_input": "2024-09-05T23:23:08.000211Z",
     "iopub.status.busy": "2024-09-05T23:23:07.999483Z",
     "iopub.status.idle": "2024-09-05T23:23:08.008826Z",
     "shell.execute_reply": "2024-09-05T23:23:08.007878Z"
    },
    "papermill": {
     "duration": 0.046527,
     "end_time": "2024-09-05T23:23:08.010835",
     "exception": false,
     "start_time": "2024-09-05T23:23:07.964308",
     "status": "completed"
    },
    "tags": []
   },
   "outputs": [
    {
     "data": {
      "text/html": [
       "<div>\n",
       "<style scoped>\n",
       "    .dataframe tbody tr th:only-of-type {\n",
       "        vertical-align: middle;\n",
       "    }\n",
       "\n",
       "    .dataframe tbody tr th {\n",
       "        vertical-align: top;\n",
       "    }\n",
       "\n",
       "    .dataframe thead th {\n",
       "        text-align: right;\n",
       "    }\n",
       "</style>\n",
       "<table border=\"1\" class=\"dataframe\">\n",
       "  <thead>\n",
       "    <tr style=\"text-align: right;\">\n",
       "      <th></th>\n",
       "      <th>count</th>\n",
       "    </tr>\n",
       "    <tr>\n",
       "      <th>Hypertension</th>\n",
       "      <th></th>\n",
       "    </tr>\n",
       "  </thead>\n",
       "  <tbody>\n",
       "    <tr>\n",
       "      <th>0</th>\n",
       "      <td>1437</td>\n",
       "    </tr>\n",
       "    <tr>\n",
       "      <th>1</th>\n",
       "      <td>263</td>\n",
       "    </tr>\n",
       "  </tbody>\n",
       "</table>\n",
       "</div>"
      ],
      "text/plain": [
       "              count\n",
       "Hypertension       \n",
       "0              1437\n",
       "1               263"
      ]
     },
     "execution_count": 39,
     "metadata": {},
     "output_type": "execute_result"
    }
   ],
   "source": [
    "### Hypertension Distrbution\n",
    "data.Hypertension.value_counts().to_frame()"
   ]
  },
  {
   "cell_type": "code",
   "execution_count": 40,
   "id": "244de9a6",
   "metadata": {
    "execution": {
     "iopub.execute_input": "2024-09-05T23:23:08.073296Z",
     "iopub.status.busy": "2024-09-05T23:23:08.072670Z",
     "iopub.status.idle": "2024-09-05T23:23:08.143994Z",
     "shell.execute_reply": "2024-09-05T23:23:08.143115Z"
    },
    "papermill": {
     "duration": 0.103842,
     "end_time": "2024-09-05T23:23:08.145955",
     "exception": false,
     "start_time": "2024-09-05T23:23:08.042113",
     "status": "completed"
    },
    "tags": []
   },
   "outputs": [
    {
     "data": {
      "text/html": [
       "<div>                            <div id=\"49b5fd33-9fb0-4153-a8e3-04fa169b412d\" class=\"plotly-graph-div\" style=\"height:600px; width:800px;\"></div>            <script type=\"text/javascript\">                require([\"plotly\"], function(Plotly) {                    window.PLOTLYENV=window.PLOTLYENV || {};                                    if (document.getElementById(\"49b5fd33-9fb0-4153-a8e3-04fa169b412d\")) {                    Plotly.newPlot(                        \"49b5fd33-9fb0-4153-a8e3-04fa169b412d\",                        [{\"domain\":{\"x\":[0.0,1.0],\"y\":[0.0,1.0]},\"hovertemplate\":\"Hypertension=%{label}\\u003cextra\\u003e\\u003c\\u002fextra\\u003e\",\"labels\":[0,0,0,0,0,0,0,0,0,0,0,1,0,0,0,0,0,0,0,1,0,0,0,0,0,0,0,0,0,0,0,0,0,1,0,0,0,0,0,0,0,0,0,1,1,0,0,0,1,0,0,0,0,0,1,0,0,0,1,0,0,1,0,0,0,1,1,0,0,0,0,0,0,0,0,0,0,0,1,0,1,0,0,0,0,0,0,0,0,0,0,0,0,0,1,0,0,0,0,0,1,0,0,0,0,0,0,0,0,0,0,0,0,0,0,0,0,1,0,0,0,0,1,0,0,0,0,0,0,0,0,0,0,0,0,0,0,0,0,0,0,0,1,0,0,1,0,0,0,0,0,0,0,0,0,0,1,1,0,1,0,1,0,0,0,0,0,1,0,0,0,0,0,0,0,0,0,0,0,0,0,1,0,0,0,0,0,0,0,0,0,0,0,0,1,0,0,0,0,1,0,0,0,0,0,0,0,0,0,1,0,0,0,0,0,0,0,0,0,0,0,0,0,0,0,0,0,0,0,0,0,0,0,1,0,0,0,1,0,0,0,1,1,1,0,0,1,1,0,0,0,1,1,1,1,1,0,0,0,0,0,1,0,0,0,0,0,0,0,0,0,0,0,0,0,0,1,0,0,0,0,0,0,0,0,0,0,0,1,0,0,0,1,0,0,0,0,0,0,0,0,0,0,0,0,1,0,1,0,0,0,0,0,0,0,0,0,0,0,0,1,0,0,1,0,0,1,0,0,0,0,1,0,0,0,0,0,1,0,0,1,0,1,0,0,0,1,0,0,0,0,0,1,1,0,0,0,0,0,1,1,0,0,0,0,0,1,1,1,1,0,0,0,0,0,0,0,0,0,0,0,0,0,0,0,0,0,1,0,0,1,1,0,0,0,0,0,1,1,0,0,1,0,0,0,0,0,0,0,0,0,0,0,0,0,0,0,1,0,1,0,0,1,1,1,0,0,0,0,0,0,0,0,0,0,1,0,0,1,0,0,0,0,0,0,0,0,0,0,0,0,0,0,0,0,0,0,0,0,0,0,0,0,0,1,0,0,0,0,1,0,0,0,0,0,0,1,0,0,0,0,0,0,0,0,1,0,0,0,0,0,0,0,0,0,0,0,0,0,0,0,0,0,0,0,0,1,1,1,0,0,0,0,0,0,0,0,0,0,0,1,0,0,0,0,0,0,0,0,0,0,0,0,0,0,0,0,0,0,0,0,0,1,0,0,0,0,0,0,0,0,0,1,0,0,0,0,0,0,0,0,0,1,0,0,1,0,1,0,0,1,0,1,0,1,0,0,0,1,0,0,0,0,0,0,0,0,1,0,0,0,0,0,0,0,0,0,0,0,0,0,1,0,0,0,0,0,0,0,0,0,0,0,1,0,1,0,0,0,0,0,0,0,0,0,0,0,0,0,0,0,1,0,0,0,0,0,0,0,0,0,0,0,0,0,0,0,0,0,0,0,0,0,0,0,1,0,0,0,0,0,0,1,0,0,0,1,0,0,0,0,0,0,0,0,0,0,0,0,0,0,0,0,0,0,0,0,0,1,0,0,0,0,0,0,0,1,0,0,0,0,1,0,0,1,0,0,0,0,1,0,0,1,0,1,0,0,0,0,0,0,1,0,0,0,1,0,0,0,0,1,0,0,0,0,0,0,0,0,1,0,0,0,0,0,0,0,0,0,0,0,0,0,0,0,0,0,0,0,0,0,0,1,0,0,0,0,0,0,0,0,0,0,0,0,0,0,0,0,0,0,1,1,0,0,1,0,0,0,0,0,0,0,0,0,0,0,0,0,0,0,0,0,0,0,0,0,0,0,0,0,0,0,1,0,0,0,0,0,0,0,0,0,0,0,0,0,0,0,0,0,0,0,0,0,0,0,0,1,0,0,0,0,0,0,0,0,0,0,0,0,0,0,0,1,0,0,0,0,0,0,0,1,0,1,0,0,0,0,0,0,1,1,0,0,0,0,0,1,0,0,0,0,0,0,1,0,0,0,1,1,0,0,1,0,0,0,0,0,0,0,0,0,0,0,0,0,1,1,1,0,0,1,0,0,0,0,0,0,0,0,1,0,0,1,0,0,0,0,1,0,1,0,0,0,0,0,0,0,0,0,0,0,0,1,0,0,0,0,1,0,1,0,1,0,0,0,0,0,0,0,0,0,0,0,0,1,0,0,0,1,0,0,0,0,0,0,0,1,0,0,0,0,0,0,0,0,1,0,0,0,0,0,0,0,0,0,0,0,0,0,0,0,0,0,0,0,0,1,0,0,0,0,0,0,1,1,1,0,1,0,0,0,0,0,0,0,1,0,0,0,1,0,0,1,0,0,0,0,0,0,1,1,0,0,1,0,0,0,0,0,0,0,1,0,0,1,0,0,0,0,0,0,0,1,0,0,0,0,0,0,0,0,0,0,1,0,0,0,0,0,0,0,0,0,0,0,0,0,1,0,0,1,0,0,0,0,0,1,0,0,0,0,0,0,0,0,0,0,0,0,1,0,0,0,0,0,0,0,1,1,0,0,1,0,0,0,0,0,1,1,0,0,0,0,0,0,0,0,1,1,0,0,0,0,1,0,0,0,0,0,0,0,0,0,0,1,0,0,0,0,0,0,0,0,0,0,1,0,0,1,0,0,0,1,0,1,0,0,0,0,0,0,0,0,0,0,0,0,0,1,0,0,0,0,0,0,1,0,0,0,0,0,0,0,0,0,0,0,0,0,0,0,0,1,0,0,0,0,0,0,0,0,0,0,0,1,0,0,0,1,1,0,0,0,0,1,0,0,0,0,0,0,0,1,0,0,0,0,0,0,0,0,0,0,0,1,0,0,0,0,0,0,0,0,1,0,0,0,0,1,0,0,0,0,0,0,1,0,0,0,0,0,0,0,0,0,1,0,0,0,0,0,0,0,0,0,0,0,1,0,1,1,0,0,1,0,0,0,0,0,0,0,0,0,0,1,0,0,1,0,0,1,1,0,0,1,0,0,0,0,0,0,0,0,0,0,0,1,0,0,0,0,1,0,0,0,0,0,0,1,0,0,0,0,0,0,0,0,0,0,0,0,0,0,0,0,0,0,0,1,0,0,0,0,0,0,0,0,0,0,0,1,1,0,1,0,0,0,0,0,1,0,0,0,0,0,0,0,1,1,0,0,0,0,0,0,0,0,0,1,0,1,0,0,0,0,0,0,0,0,1,0,0,0,0,1,0,0,0,0,0,0,1,1,0,0,0,0,0,0,1,0,0,0,0,0,0,0,0,0,0,0,0,0,1,0,1,0,0,0,0,0,0,0,0,0,0,0,0,0,0,0,0,0,0,0,0,0,1,0,0,0,0,0,0,0,0,0,0,0,0,0,0,0,0,0,0,0,0,0,0,0,0,0,0,0,0,0,0,0,0,0,0,0,0,0,0,0,1,0,0,0,0,1,0,0,0,0,1,1,0,0,0,0,0,0,1,0,0,0,1,0,0,0,0,1,0,0,0,0,0,0,0,1,0,0,0,1,0,0,0,0,0,1,1,1,0,1,1,1,0,0,0,1,0,0,1,0,0,1,1,0,1,0,0,0,0,0,0,1,0,1,0,0,1,1,0,0,0,0,1,0,0,0,0,0,0,0,0,0,0,0,1,0,0,1,0,0,0,0,0,0,0,0,1,0,0,1,0,0,1,0,0,1,0,0,1,0,1,0,0,0,0,0,0,0,0,0,0,1,0,0,1,0,0,0,1,0,0,1,1,0,0,1,0,0,0,0,1,0,1,0,0,0,0,1,0,0,0,1,1,0,0,0,0,0,0,0,0,0,0,0,0,0,0,0,1,0,1],\"legendgroup\":\"\",\"name\":\"\",\"showlegend\":true,\"type\":\"pie\"}],                        {\"template\":{\"data\":{\"barpolar\":[{\"marker\":{\"line\":{\"color\":\"rgb(17,17,17)\",\"width\":0.5},\"pattern\":{\"fillmode\":\"overlay\",\"size\":10,\"solidity\":0.2}},\"type\":\"barpolar\"}],\"bar\":[{\"error_x\":{\"color\":\"#f2f5fa\"},\"error_y\":{\"color\":\"#f2f5fa\"},\"marker\":{\"line\":{\"color\":\"rgb(17,17,17)\",\"width\":0.5},\"pattern\":{\"fillmode\":\"overlay\",\"size\":10,\"solidity\":0.2}},\"type\":\"bar\"}],\"carpet\":[{\"aaxis\":{\"endlinecolor\":\"#A2B1C6\",\"gridcolor\":\"#506784\",\"linecolor\":\"#506784\",\"minorgridcolor\":\"#506784\",\"startlinecolor\":\"#A2B1C6\"},\"baxis\":{\"endlinecolor\":\"#A2B1C6\",\"gridcolor\":\"#506784\",\"linecolor\":\"#506784\",\"minorgridcolor\":\"#506784\",\"startlinecolor\":\"#A2B1C6\"},\"type\":\"carpet\"}],\"choropleth\":[{\"colorbar\":{\"outlinewidth\":0,\"ticks\":\"\"},\"type\":\"choropleth\"}],\"contourcarpet\":[{\"colorbar\":{\"outlinewidth\":0,\"ticks\":\"\"},\"type\":\"contourcarpet\"}],\"contour\":[{\"colorbar\":{\"outlinewidth\":0,\"ticks\":\"\"},\"colorscale\":[[0.0,\"#0d0887\"],[0.1111111111111111,\"#46039f\"],[0.2222222222222222,\"#7201a8\"],[0.3333333333333333,\"#9c179e\"],[0.4444444444444444,\"#bd3786\"],[0.5555555555555556,\"#d8576b\"],[0.6666666666666666,\"#ed7953\"],[0.7777777777777778,\"#fb9f3a\"],[0.8888888888888888,\"#fdca26\"],[1.0,\"#f0f921\"]],\"type\":\"contour\"}],\"heatmapgl\":[{\"colorbar\":{\"outlinewidth\":0,\"ticks\":\"\"},\"colorscale\":[[0.0,\"#0d0887\"],[0.1111111111111111,\"#46039f\"],[0.2222222222222222,\"#7201a8\"],[0.3333333333333333,\"#9c179e\"],[0.4444444444444444,\"#bd3786\"],[0.5555555555555556,\"#d8576b\"],[0.6666666666666666,\"#ed7953\"],[0.7777777777777778,\"#fb9f3a\"],[0.8888888888888888,\"#fdca26\"],[1.0,\"#f0f921\"]],\"type\":\"heatmapgl\"}],\"heatmap\":[{\"colorbar\":{\"outlinewidth\":0,\"ticks\":\"\"},\"colorscale\":[[0.0,\"#0d0887\"],[0.1111111111111111,\"#46039f\"],[0.2222222222222222,\"#7201a8\"],[0.3333333333333333,\"#9c179e\"],[0.4444444444444444,\"#bd3786\"],[0.5555555555555556,\"#d8576b\"],[0.6666666666666666,\"#ed7953\"],[0.7777777777777778,\"#fb9f3a\"],[0.8888888888888888,\"#fdca26\"],[1.0,\"#f0f921\"]],\"type\":\"heatmap\"}],\"histogram2dcontour\":[{\"colorbar\":{\"outlinewidth\":0,\"ticks\":\"\"},\"colorscale\":[[0.0,\"#0d0887\"],[0.1111111111111111,\"#46039f\"],[0.2222222222222222,\"#7201a8\"],[0.3333333333333333,\"#9c179e\"],[0.4444444444444444,\"#bd3786\"],[0.5555555555555556,\"#d8576b\"],[0.6666666666666666,\"#ed7953\"],[0.7777777777777778,\"#fb9f3a\"],[0.8888888888888888,\"#fdca26\"],[1.0,\"#f0f921\"]],\"type\":\"histogram2dcontour\"}],\"histogram2d\":[{\"colorbar\":{\"outlinewidth\":0,\"ticks\":\"\"},\"colorscale\":[[0.0,\"#0d0887\"],[0.1111111111111111,\"#46039f\"],[0.2222222222222222,\"#7201a8\"],[0.3333333333333333,\"#9c179e\"],[0.4444444444444444,\"#bd3786\"],[0.5555555555555556,\"#d8576b\"],[0.6666666666666666,\"#ed7953\"],[0.7777777777777778,\"#fb9f3a\"],[0.8888888888888888,\"#fdca26\"],[1.0,\"#f0f921\"]],\"type\":\"histogram2d\"}],\"histogram\":[{\"marker\":{\"pattern\":{\"fillmode\":\"overlay\",\"size\":10,\"solidity\":0.2}},\"type\":\"histogram\"}],\"mesh3d\":[{\"colorbar\":{\"outlinewidth\":0,\"ticks\":\"\"},\"type\":\"mesh3d\"}],\"parcoords\":[{\"line\":{\"colorbar\":{\"outlinewidth\":0,\"ticks\":\"\"}},\"type\":\"parcoords\"}],\"pie\":[{\"automargin\":true,\"type\":\"pie\"}],\"scatter3d\":[{\"line\":{\"colorbar\":{\"outlinewidth\":0,\"ticks\":\"\"}},\"marker\":{\"colorbar\":{\"outlinewidth\":0,\"ticks\":\"\"}},\"type\":\"scatter3d\"}],\"scattercarpet\":[{\"marker\":{\"colorbar\":{\"outlinewidth\":0,\"ticks\":\"\"}},\"type\":\"scattercarpet\"}],\"scattergeo\":[{\"marker\":{\"colorbar\":{\"outlinewidth\":0,\"ticks\":\"\"}},\"type\":\"scattergeo\"}],\"scattergl\":[{\"marker\":{\"line\":{\"color\":\"#283442\"}},\"type\":\"scattergl\"}],\"scattermapbox\":[{\"marker\":{\"colorbar\":{\"outlinewidth\":0,\"ticks\":\"\"}},\"type\":\"scattermapbox\"}],\"scatterpolargl\":[{\"marker\":{\"colorbar\":{\"outlinewidth\":0,\"ticks\":\"\"}},\"type\":\"scatterpolargl\"}],\"scatterpolar\":[{\"marker\":{\"colorbar\":{\"outlinewidth\":0,\"ticks\":\"\"}},\"type\":\"scatterpolar\"}],\"scatter\":[{\"marker\":{\"line\":{\"color\":\"#283442\"}},\"type\":\"scatter\"}],\"scatterternary\":[{\"marker\":{\"colorbar\":{\"outlinewidth\":0,\"ticks\":\"\"}},\"type\":\"scatterternary\"}],\"surface\":[{\"colorbar\":{\"outlinewidth\":0,\"ticks\":\"\"},\"colorscale\":[[0.0,\"#0d0887\"],[0.1111111111111111,\"#46039f\"],[0.2222222222222222,\"#7201a8\"],[0.3333333333333333,\"#9c179e\"],[0.4444444444444444,\"#bd3786\"],[0.5555555555555556,\"#d8576b\"],[0.6666666666666666,\"#ed7953\"],[0.7777777777777778,\"#fb9f3a\"],[0.8888888888888888,\"#fdca26\"],[1.0,\"#f0f921\"]],\"type\":\"surface\"}],\"table\":[{\"cells\":{\"fill\":{\"color\":\"#506784\"},\"line\":{\"color\":\"rgb(17,17,17)\"}},\"header\":{\"fill\":{\"color\":\"#2a3f5f\"},\"line\":{\"color\":\"rgb(17,17,17)\"}},\"type\":\"table\"}]},\"layout\":{\"annotationdefaults\":{\"arrowcolor\":\"#f2f5fa\",\"arrowhead\":0,\"arrowwidth\":1},\"autotypenumbers\":\"strict\",\"coloraxis\":{\"colorbar\":{\"outlinewidth\":0,\"ticks\":\"\"}},\"colorscale\":{\"diverging\":[[0,\"#8e0152\"],[0.1,\"#c51b7d\"],[0.2,\"#de77ae\"],[0.3,\"#f1b6da\"],[0.4,\"#fde0ef\"],[0.5,\"#f7f7f7\"],[0.6,\"#e6f5d0\"],[0.7,\"#b8e186\"],[0.8,\"#7fbc41\"],[0.9,\"#4d9221\"],[1,\"#276419\"]],\"sequential\":[[0.0,\"#0d0887\"],[0.1111111111111111,\"#46039f\"],[0.2222222222222222,\"#7201a8\"],[0.3333333333333333,\"#9c179e\"],[0.4444444444444444,\"#bd3786\"],[0.5555555555555556,\"#d8576b\"],[0.6666666666666666,\"#ed7953\"],[0.7777777777777778,\"#fb9f3a\"],[0.8888888888888888,\"#fdca26\"],[1.0,\"#f0f921\"]],\"sequentialminus\":[[0.0,\"#0d0887\"],[0.1111111111111111,\"#46039f\"],[0.2222222222222222,\"#7201a8\"],[0.3333333333333333,\"#9c179e\"],[0.4444444444444444,\"#bd3786\"],[0.5555555555555556,\"#d8576b\"],[0.6666666666666666,\"#ed7953\"],[0.7777777777777778,\"#fb9f3a\"],[0.8888888888888888,\"#fdca26\"],[1.0,\"#f0f921\"]]},\"colorway\":[\"#636efa\",\"#EF553B\",\"#00cc96\",\"#ab63fa\",\"#FFA15A\",\"#19d3f3\",\"#FF6692\",\"#B6E880\",\"#FF97FF\",\"#FECB52\"],\"font\":{\"color\":\"#f2f5fa\"},\"geo\":{\"bgcolor\":\"rgb(17,17,17)\",\"lakecolor\":\"rgb(17,17,17)\",\"landcolor\":\"rgb(17,17,17)\",\"showlakes\":true,\"showland\":true,\"subunitcolor\":\"#506784\"},\"hoverlabel\":{\"align\":\"left\"},\"hovermode\":\"closest\",\"mapbox\":{\"style\":\"dark\"},\"paper_bgcolor\":\"rgb(17,17,17)\",\"plot_bgcolor\":\"rgb(17,17,17)\",\"polar\":{\"angularaxis\":{\"gridcolor\":\"#506784\",\"linecolor\":\"#506784\",\"ticks\":\"\"},\"bgcolor\":\"rgb(17,17,17)\",\"radialaxis\":{\"gridcolor\":\"#506784\",\"linecolor\":\"#506784\",\"ticks\":\"\"}},\"scene\":{\"xaxis\":{\"backgroundcolor\":\"rgb(17,17,17)\",\"gridcolor\":\"#506784\",\"gridwidth\":2,\"linecolor\":\"#506784\",\"showbackground\":true,\"ticks\":\"\",\"zerolinecolor\":\"#C8D4E3\"},\"yaxis\":{\"backgroundcolor\":\"rgb(17,17,17)\",\"gridcolor\":\"#506784\",\"gridwidth\":2,\"linecolor\":\"#506784\",\"showbackground\":true,\"ticks\":\"\",\"zerolinecolor\":\"#C8D4E3\"},\"zaxis\":{\"backgroundcolor\":\"rgb(17,17,17)\",\"gridcolor\":\"#506784\",\"gridwidth\":2,\"linecolor\":\"#506784\",\"showbackground\":true,\"ticks\":\"\",\"zerolinecolor\":\"#C8D4E3\"}},\"shapedefaults\":{\"line\":{\"color\":\"#f2f5fa\"}},\"sliderdefaults\":{\"bgcolor\":\"#C8D4E3\",\"bordercolor\":\"rgb(17,17,17)\",\"borderwidth\":1,\"tickwidth\":0},\"ternary\":{\"aaxis\":{\"gridcolor\":\"#506784\",\"linecolor\":\"#506784\",\"ticks\":\"\"},\"baxis\":{\"gridcolor\":\"#506784\",\"linecolor\":\"#506784\",\"ticks\":\"\"},\"bgcolor\":\"rgb(17,17,17)\",\"caxis\":{\"gridcolor\":\"#506784\",\"linecolor\":\"#506784\",\"ticks\":\"\"}},\"title\":{\"x\":0.05},\"updatemenudefaults\":{\"bgcolor\":\"#506784\",\"borderwidth\":0},\"xaxis\":{\"automargin\":true,\"gridcolor\":\"#283442\",\"linecolor\":\"#506784\",\"ticks\":\"\",\"title\":{\"standoff\":15},\"zerolinecolor\":\"#283442\",\"zerolinewidth\":2},\"yaxis\":{\"automargin\":true,\"gridcolor\":\"#283442\",\"linecolor\":\"#506784\",\"ticks\":\"\",\"title\":{\"standoff\":15},\"zerolinecolor\":\"#283442\",\"zerolinewidth\":2}}},\"legend\":{\"tracegroupgap\":0},\"title\":{\"text\":\"Hypertension Distribution\",\"x\":0.5},\"piecolorway\":[\"rgb(0,0,0)\",\"rgb(230,0,0)\",\"rgb(230,210,0)\",\"rgb(255,255,255)\",\"rgb(160,200,255)\"],\"width\":800,\"height\":600},                        {\"responsive\": true}                    ).then(function(){\n",
       "                            \n",
       "var gd = document.getElementById('49b5fd33-9fb0-4153-a8e3-04fa169b412d');\n",
       "var x = new MutationObserver(function (mutations, observer) {{\n",
       "        var display = window.getComputedStyle(gd).display;\n",
       "        if (!display || display === 'none') {{\n",
       "            console.log([gd, 'removed!']);\n",
       "            Plotly.purge(gd);\n",
       "            observer.disconnect();\n",
       "        }}\n",
       "}});\n",
       "\n",
       "// Listen for the removal of the full notebook cells\n",
       "var notebookContainer = gd.closest('#notebook-container');\n",
       "if (notebookContainer) {{\n",
       "    x.observe(notebookContainer, {childList: true});\n",
       "}}\n",
       "\n",
       "// Listen for the clearing of the current output cell\n",
       "var outputEl = gd.closest('.output');\n",
       "if (outputEl) {{\n",
       "    x.observe(outputEl, {childList: true});\n",
       "}}\n",
       "\n",
       "                        })                };                });            </script>        </div>"
      ]
     },
     "metadata": {},
     "output_type": "display_data"
    }
   ],
   "source": [
    "plt = px.pie(data, names=\"Hypertension\", title=\"Hypertension Distribution\", color_discrete_sequence=px.colors.sequential.Blackbody)\n",
    "plt.update_layout(\n",
    "    title_x=0.5,\n",
    "    template=\"plotly_dark\",  \n",
    "    width=800,              \n",
    "    height=600 \n",
    ")\n",
    "plt.show()"
   ]
  },
  {
   "cell_type": "code",
   "execution_count": 41,
   "id": "69bd54b6",
   "metadata": {
    "execution": {
     "iopub.execute_input": "2024-09-05T23:23:08.209994Z",
     "iopub.status.busy": "2024-09-05T23:23:08.209272Z",
     "iopub.status.idle": "2024-09-05T23:23:08.218558Z",
     "shell.execute_reply": "2024-09-05T23:23:08.217644Z"
    },
    "papermill": {
     "duration": 0.043113,
     "end_time": "2024-09-05T23:23:08.220412",
     "exception": false,
     "start_time": "2024-09-05T23:23:08.177299",
     "status": "completed"
    },
    "tags": []
   },
   "outputs": [
    {
     "data": {
      "text/plain": [
       "Gender  Hypertension\n",
       "0       0               720\n",
       "        1               123\n",
       "1       0               717\n",
       "        1               140\n",
       "Name: Hypertension, dtype: int64"
      ]
     },
     "execution_count": 41,
     "metadata": {},
     "output_type": "execute_result"
    }
   ],
   "source": [
    "### Hypertension VS Gender\n",
    "data.groupby(['Gender','Hypertension'])['Hypertension'].count()"
   ]
  },
  {
   "cell_type": "code",
   "execution_count": 42,
   "id": "26f8c07e",
   "metadata": {
    "execution": {
     "iopub.execute_input": "2024-09-05T23:23:08.285438Z",
     "iopub.status.busy": "2024-09-05T23:23:08.284620Z",
     "iopub.status.idle": "2024-09-05T23:23:08.378412Z",
     "shell.execute_reply": "2024-09-05T23:23:08.377492Z"
    },
    "papermill": {
     "duration": 0.12837,
     "end_time": "2024-09-05T23:23:08.380589",
     "exception": false,
     "start_time": "2024-09-05T23:23:08.252219",
     "status": "completed"
    },
    "tags": []
   },
   "outputs": [
    {
     "data": {
      "text/html": [
       "<div>                            <div id=\"0cf93520-4b56-4b41-88d4-f6b9484a5b7a\" class=\"plotly-graph-div\" style=\"height:600px; width:800px;\"></div>            <script type=\"text/javascript\">                require([\"plotly\"], function(Plotly) {                    window.PLOTLYENV=window.PLOTLYENV || {};                                    if (document.getElementById(\"0cf93520-4b56-4b41-88d4-f6b9484a5b7a\")) {                    Plotly.newPlot(                        \"0cf93520-4b56-4b41-88d4-f6b9484a5b7a\",                        [{\"alignmentgroup\":\"True\",\"bingroup\":\"x\",\"hovertemplate\":\"color=Female\\u003cbr\\u003ex=%{x}\\u003cbr\\u003ecount=%{y}\\u003cextra\\u003e\\u003c\\u002fextra\\u003e\",\"legendgroup\":\"Female\",\"marker\":{\"color\":\"rgb(77,0,75)\",\"pattern\":{\"shape\":\"\"}},\"name\":\"Female\",\"offsetgroup\":\"Female\",\"orientation\":\"v\",\"showlegend\":true,\"texttemplate\":\"%{value}\",\"x\":[\"NO\",\"NO\",\"NO\",\"NO\",\"NO\",\"NO\",\"NO\",\"NO\",\"NO\",\"NO\",\"YES\",\"NO\",\"NO\",\"NO\",\"NO\",\"NO\",\"NO\",\"NO\",\"YES\",\"NO\",\"NO\",\"YES\",\"NO\",\"NO\",\"NO\",\"YES\",\"NO\",\"NO\",\"NO\",\"YES\",\"YES\",\"NO\",\"NO\",\"NO\",\"NO\",\"YES\",\"NO\",\"NO\",\"NO\",\"NO\",\"NO\",\"NO\",\"NO\",\"NO\",\"NO\",\"NO\",\"NO\",\"NO\",\"NO\",\"NO\",\"NO\",\"NO\",\"NO\",\"NO\",\"NO\",\"NO\",\"NO\",\"NO\",\"YES\",\"NO\",\"NO\",\"NO\",\"NO\",\"NO\",\"NO\",\"NO\",\"NO\",\"NO\",\"NO\",\"NO\",\"NO\",\"NO\",\"NO\",\"NO\",\"NO\",\"NO\",\"YES\",\"YES\",\"NO\",\"YES\",\"NO\",\"NO\",\"NO\",\"NO\",\"YES\",\"NO\",\"NO\",\"NO\",\"NO\",\"NO\",\"NO\",\"NO\",\"NO\",\"NO\",\"NO\",\"NO\",\"NO\",\"NO\",\"NO\",\"NO\",\"YES\",\"NO\",\"NO\",\"NO\",\"NO\",\"NO\",\"NO\",\"NO\",\"NO\",\"NO\",\"NO\",\"NO\",\"NO\",\"NO\",\"NO\",\"NO\",\"NO\",\"NO\",\"NO\",\"NO\",\"NO\",\"NO\",\"NO\",\"YES\",\"NO\",\"YES\",\"YES\",\"NO\",\"YES\",\"NO\",\"NO\",\"YES\",\"YES\",\"YES\",\"NO\",\"NO\",\"NO\",\"NO\",\"NO\",\"NO\",\"NO\",\"NO\",\"NO\",\"NO\",\"NO\",\"NO\",\"NO\",\"NO\",\"NO\",\"NO\",\"NO\",\"NO\",\"NO\",\"NO\",\"NO\",\"NO\",\"NO\",\"NO\",\"NO\",\"NO\",\"NO\",\"NO\",\"NO\",\"NO\",\"NO\",\"NO\",\"NO\",\"NO\",\"YES\",\"NO\",\"YES\",\"NO\",\"NO\",\"NO\",\"NO\",\"NO\",\"NO\",\"YES\",\"NO\",\"NO\",\"YES\",\"NO\",\"NO\",\"YES\",\"NO\",\"NO\",\"NO\",\"NO\",\"YES\",\"NO\",\"NO\",\"YES\",\"YES\",\"NO\",\"NO\",\"NO\",\"NO\",\"NO\",\"NO\",\"NO\",\"NO\",\"NO\",\"NO\",\"NO\",\"YES\",\"NO\",\"NO\",\"YES\",\"YES\",\"NO\",\"NO\",\"YES\",\"NO\",\"NO\",\"NO\",\"NO\",\"NO\",\"NO\",\"NO\",\"NO\",\"NO\",\"NO\",\"YES\",\"YES\",\"NO\",\"NO\",\"NO\",\"NO\",\"NO\",\"NO\",\"YES\",\"NO\",\"NO\",\"NO\",\"NO\",\"NO\",\"NO\",\"NO\",\"NO\",\"NO\",\"NO\",\"NO\",\"NO\",\"NO\",\"NO\",\"NO\",\"NO\",\"NO\",\"NO\",\"NO\",\"YES\",\"NO\",\"NO\",\"NO\",\"NO\",\"NO\",\"NO\",\"NO\",\"NO\",\"NO\",\"NO\",\"NO\",\"NO\",\"NO\",\"NO\",\"NO\",\"NO\",\"YES\",\"YES\",\"NO\",\"NO\",\"NO\",\"NO\",\"NO\",\"NO\",\"NO\",\"YES\",\"NO\",\"NO\",\"NO\",\"NO\",\"NO\",\"NO\",\"NO\",\"NO\",\"NO\",\"NO\",\"NO\",\"NO\",\"NO\",\"NO\",\"YES\",\"NO\",\"NO\",\"NO\",\"YES\",\"NO\",\"NO\",\"NO\",\"NO\",\"NO\",\"NO\",\"NO\",\"NO\",\"NO\",\"NO\",\"NO\",\"NO\",\"NO\",\"NO\",\"NO\",\"NO\",\"NO\",\"NO\",\"NO\",\"NO\",\"YES\",\"YES\",\"NO\",\"NO\",\"NO\",\"NO\",\"NO\",\"NO\",\"NO\",\"NO\",\"NO\",\"NO\",\"NO\",\"NO\",\"NO\",\"NO\",\"NO\",\"NO\",\"NO\",\"NO\",\"NO\",\"NO\",\"NO\",\"NO\",\"NO\",\"NO\",\"NO\",\"NO\",\"NO\",\"NO\",\"YES\",\"NO\",\"NO\",\"NO\",\"NO\",\"NO\",\"NO\",\"NO\",\"NO\",\"NO\",\"NO\",\"NO\",\"NO\",\"NO\",\"NO\",\"YES\",\"NO\",\"NO\",\"YES\",\"NO\",\"YES\",\"NO\",\"YES\",\"NO\",\"NO\",\"YES\",\"NO\",\"NO\",\"YES\",\"NO\",\"NO\",\"NO\",\"NO\",\"NO\",\"NO\",\"NO\",\"NO\",\"NO\",\"NO\",\"NO\",\"NO\",\"NO\",\"NO\",\"NO\",\"NO\",\"NO\",\"NO\",\"NO\",\"NO\",\"NO\",\"NO\",\"NO\",\"NO\",\"NO\",\"NO\",\"NO\",\"NO\",\"NO\",\"NO\",\"NO\",\"NO\",\"NO\",\"NO\",\"NO\",\"YES\",\"NO\",\"NO\",\"NO\",\"NO\",\"NO\",\"NO\",\"NO\",\"NO\",\"NO\",\"NO\",\"YES\",\"NO\",\"NO\",\"NO\",\"NO\",\"NO\",\"NO\",\"NO\",\"NO\",\"NO\",\"NO\",\"NO\",\"NO\",\"NO\",\"YES\",\"NO\",\"NO\",\"NO\",\"NO\",\"YES\",\"NO\",\"NO\",\"NO\",\"NO\",\"YES\",\"NO\",\"NO\",\"NO\",\"NO\",\"NO\",\"NO\",\"NO\",\"NO\",\"NO\",\"NO\",\"YES\",\"NO\",\"NO\",\"NO\",\"NO\",\"NO\",\"NO\",\"YES\",\"NO\",\"YES\",\"NO\",\"NO\",\"NO\",\"NO\",\"NO\",\"NO\",\"NO\",\"NO\",\"YES\",\"NO\",\"NO\",\"NO\",\"NO\",\"NO\",\"NO\",\"NO\",\"NO\",\"NO\",\"YES\",\"NO\",\"NO\",\"NO\",\"NO\",\"NO\",\"NO\",\"NO\",\"NO\",\"YES\",\"NO\",\"NO\",\"NO\",\"NO\",\"NO\",\"NO\",\"NO\",\"NO\",\"NO\",\"NO\",\"NO\",\"NO\",\"NO\",\"NO\",\"YES\",\"YES\",\"NO\",\"NO\",\"NO\",\"YES\",\"NO\",\"NO\",\"NO\",\"NO\",\"NO\",\"YES\",\"NO\",\"NO\",\"NO\",\"NO\",\"NO\",\"NO\",\"NO\",\"NO\",\"NO\",\"YES\",\"NO\",\"NO\",\"NO\",\"NO\",\"NO\",\"YES\",\"NO\",\"NO\",\"NO\",\"NO\",\"NO\",\"NO\",\"NO\",\"NO\",\"NO\",\"NO\",\"YES\",\"NO\",\"YES\",\"NO\",\"NO\",\"NO\",\"NO\",\"NO\",\"NO\",\"NO\",\"YES\",\"NO\",\"NO\",\"NO\",\"NO\",\"NO\",\"NO\",\"NO\",\"YES\",\"YES\",\"NO\",\"NO\",\"NO\",\"NO\",\"NO\",\"NO\",\"NO\",\"NO\",\"NO\",\"NO\",\"NO\",\"NO\",\"NO\",\"NO\",\"NO\",\"YES\",\"NO\",\"NO\",\"NO\",\"NO\",\"NO\",\"YES\",\"NO\",\"NO\",\"YES\",\"NO\",\"NO\",\"YES\",\"NO\",\"NO\",\"NO\",\"NO\",\"NO\",\"YES\",\"NO\",\"NO\",\"NO\",\"NO\",\"NO\",\"NO\",\"NO\",\"NO\",\"NO\",\"NO\",\"YES\",\"NO\",\"NO\",\"NO\",\"NO\",\"NO\",\"NO\",\"NO\",\"NO\",\"NO\",\"YES\",\"YES\",\"NO\",\"NO\",\"NO\",\"NO\",\"NO\",\"NO\",\"NO\",\"NO\",\"NO\",\"NO\",\"NO\",\"NO\",\"NO\",\"NO\",\"YES\",\"NO\",\"NO\",\"NO\",\"NO\",\"NO\",\"NO\",\"NO\",\"NO\",\"NO\",\"NO\",\"YES\",\"NO\",\"NO\",\"NO\",\"NO\",\"NO\",\"NO\",\"NO\",\"NO\",\"YES\",\"NO\",\"NO\",\"NO\",\"YES\",\"NO\",\"YES\",\"YES\",\"YES\",\"NO\",\"NO\",\"NO\",\"NO\",\"NO\",\"NO\",\"YES\",\"NO\",\"NO\",\"YES\",\"NO\",\"NO\",\"NO\",\"NO\",\"YES\",\"NO\",\"NO\",\"NO\",\"NO\",\"NO\",\"NO\",\"NO\",\"NO\",\"NO\",\"NO\",\"NO\",\"NO\",\"NO\",\"NO\",\"NO\",\"NO\",\"NO\",\"NO\",\"NO\",\"NO\",\"NO\",\"NO\",\"NO\",\"NO\",\"NO\",\"YES\",\"NO\",\"NO\",\"NO\",\"NO\",\"NO\",\"NO\",\"NO\",\"NO\",\"YES\",\"NO\",\"NO\",\"NO\",\"NO\",\"YES\",\"NO\",\"NO\",\"NO\",\"NO\",\"NO\",\"NO\",\"NO\",\"NO\",\"NO\",\"YES\",\"NO\",\"NO\",\"NO\",\"NO\",\"NO\",\"NO\",\"NO\",\"YES\",\"NO\",\"NO\",\"NO\",\"NO\",\"NO\",\"NO\",\"NO\",\"NO\",\"NO\",\"NO\",\"NO\",\"NO\",\"NO\",\"NO\",\"NO\",\"NO\",\"NO\",\"YES\",\"NO\",\"NO\",\"NO\",\"YES\",\"YES\",\"NO\",\"NO\",\"NO\",\"NO\",\"NO\",\"NO\",\"NO\",\"NO\",\"NO\",\"YES\",\"NO\",\"NO\",\"YES\",\"YES\",\"YES\",\"YES\",\"NO\",\"YES\",\"NO\",\"NO\",\"YES\",\"NO\",\"YES\",\"NO\",\"NO\",\"YES\",\"YES\",\"NO\",\"NO\",\"NO\",\"NO\",\"NO\",\"NO\",\"NO\",\"NO\",\"YES\",\"NO\",\"NO\",\"NO\",\"NO\",\"YES\",\"NO\",\"YES\",\"NO\",\"YES\",\"NO\",\"NO\",\"YES\",\"NO\",\"NO\",\"YES\",\"NO\",\"NO\",\"NO\",\"NO\",\"NO\",\"NO\",\"YES\",\"NO\",\"YES\",\"NO\",\"YES\",\"NO\",\"YES\",\"NO\",\"YES\",\"NO\",\"YES\",\"NO\",\"NO\",\"YES\",\"NO\",\"NO\",\"NO\",\"NO\",\"NO\",\"NO\",\"NO\",\"NO\",\"YES\",\"NO\",\"YES\"],\"xaxis\":\"x\",\"yaxis\":\"y\",\"type\":\"histogram\"},{\"alignmentgroup\":\"True\",\"bingroup\":\"x\",\"hovertemplate\":\"color=Male\\u003cbr\\u003ex=%{x}\\u003cbr\\u003ecount=%{y}\\u003cextra\\u003e\\u003c\\u002fextra\\u003e\",\"legendgroup\":\"Male\",\"marker\":{\"color\":\"rgb(129,15,124)\",\"pattern\":{\"shape\":\"\"}},\"name\":\"Male\",\"offsetgroup\":\"Male\",\"orientation\":\"v\",\"showlegend\":true,\"texttemplate\":\"%{value}\",\"x\":[\"NO\",\"NO\",\"NO\",\"NO\",\"NO\",\"YES\",\"NO\",\"NO\",\"NO\",\"NO\",\"NO\",\"NO\",\"NO\",\"NO\",\"NO\",\"NO\",\"NO\",\"NO\",\"YES\",\"NO\",\"NO\",\"NO\",\"NO\",\"NO\",\"NO\",\"YES\",\"NO\",\"NO\",\"NO\",\"NO\",\"NO\",\"YES\",\"NO\",\"NO\",\"YES\",\"NO\",\"NO\",\"NO\",\"NO\",\"NO\",\"NO\",\"NO\",\"NO\",\"YES\",\"NO\",\"NO\",\"NO\",\"NO\",\"NO\",\"NO\",\"YES\",\"NO\",\"YES\",\"NO\",\"NO\",\"NO\",\"NO\",\"NO\",\"NO\",\"NO\",\"NO\",\"NO\",\"YES\",\"NO\",\"NO\",\"NO\",\"NO\",\"NO\",\"NO\",\"NO\",\"NO\",\"NO\",\"NO\",\"NO\",\"YES\",\"NO\",\"YES\",\"NO\",\"NO\",\"NO\",\"YES\",\"NO\",\"NO\",\"NO\",\"NO\",\"NO\",\"NO\",\"NO\",\"NO\",\"NO\",\"YES\",\"NO\",\"NO\",\"NO\",\"NO\",\"NO\",\"NO\",\"YES\",\"NO\",\"NO\",\"NO\",\"YES\",\"NO\",\"NO\",\"NO\",\"NO\",\"NO\",\"NO\",\"NO\",\"NO\",\"NO\",\"NO\",\"NO\",\"YES\",\"NO\",\"NO\",\"YES\",\"NO\",\"YES\",\"NO\",\"YES\",\"YES\",\"NO\",\"NO\",\"NO\",\"YES\",\"NO\",\"NO\",\"NO\",\"NO\",\"NO\",\"YES\",\"NO\",\"NO\",\"NO\",\"NO\",\"NO\",\"NO\",\"YES\",\"NO\",\"YES\",\"NO\",\"NO\",\"NO\",\"NO\",\"NO\",\"YES\",\"YES\",\"NO\",\"NO\",\"NO\",\"NO\",\"NO\",\"NO\",\"YES\",\"NO\",\"NO\",\"YES\",\"NO\",\"NO\",\"NO\",\"NO\",\"NO\",\"YES\",\"YES\",\"NO\",\"NO\",\"NO\",\"NO\",\"YES\",\"NO\",\"YES\",\"NO\",\"NO\",\"NO\",\"YES\",\"YES\",\"NO\",\"NO\",\"NO\",\"NO\",\"NO\",\"NO\",\"NO\",\"NO\",\"YES\",\"YES\",\"NO\",\"NO\",\"NO\",\"NO\",\"NO\",\"NO\",\"NO\",\"NO\",\"NO\",\"NO\",\"NO\",\"YES\",\"YES\",\"YES\",\"NO\",\"NO\",\"NO\",\"NO\",\"YES\",\"NO\",\"NO\",\"NO\",\"NO\",\"NO\",\"NO\",\"NO\",\"NO\",\"NO\",\"NO\",\"NO\",\"NO\",\"NO\",\"NO\",\"YES\",\"NO\",\"YES\",\"NO\",\"NO\",\"NO\",\"NO\",\"NO\",\"NO\",\"NO\",\"YES\",\"NO\",\"NO\",\"NO\",\"NO\",\"NO\",\"NO\",\"NO\",\"NO\",\"YES\",\"NO\",\"NO\",\"NO\",\"NO\",\"NO\",\"NO\",\"NO\",\"NO\",\"NO\",\"NO\",\"NO\",\"NO\",\"NO\",\"NO\",\"YES\",\"NO\",\"NO\",\"NO\",\"NO\",\"NO\",\"NO\",\"NO\",\"NO\",\"NO\",\"NO\",\"NO\",\"NO\",\"NO\",\"YES\",\"NO\",\"YES\",\"NO\",\"NO\",\"YES\",\"YES\",\"YES\",\"NO\",\"NO\",\"YES\",\"NO\",\"NO\",\"NO\",\"NO\",\"NO\",\"NO\",\"YES\",\"NO\",\"NO\",\"NO\",\"NO\",\"YES\",\"NO\",\"NO\",\"NO\",\"NO\",\"NO\",\"NO\",\"NO\",\"NO\",\"NO\",\"NO\",\"NO\",\"NO\",\"YES\",\"NO\",\"NO\",\"NO\",\"NO\",\"NO\",\"NO\",\"NO\",\"NO\",\"YES\",\"NO\",\"NO\",\"NO\",\"NO\",\"NO\",\"YES\",\"NO\",\"NO\",\"NO\",\"NO\",\"NO\",\"NO\",\"NO\",\"NO\",\"NO\",\"NO\",\"YES\",\"NO\",\"NO\",\"NO\",\"NO\",\"NO\",\"NO\",\"NO\",\"NO\",\"NO\",\"YES\",\"NO\",\"NO\",\"NO\",\"NO\",\"YES\",\"NO\",\"NO\",\"NO\",\"NO\",\"NO\",\"NO\",\"YES\",\"NO\",\"NO\",\"NO\",\"NO\",\"NO\",\"NO\",\"NO\",\"YES\",\"NO\",\"NO\",\"NO\",\"NO\",\"NO\",\"NO\",\"NO\",\"NO\",\"NO\",\"NO\",\"NO\",\"NO\",\"NO\",\"NO\",\"YES\",\"NO\",\"NO\",\"NO\",\"NO\",\"NO\",\"NO\",\"NO\",\"NO\",\"NO\",\"YES\",\"YES\",\"NO\",\"YES\",\"NO\",\"NO\",\"NO\",\"NO\",\"NO\",\"NO\",\"NO\",\"NO\",\"NO\",\"NO\",\"NO\",\"NO\",\"NO\",\"NO\",\"NO\",\"NO\",\"NO\",\"NO\",\"NO\",\"NO\",\"NO\",\"NO\",\"NO\",\"NO\",\"NO\",\"NO\",\"NO\",\"NO\",\"NO\",\"NO\",\"NO\",\"NO\",\"NO\",\"NO\",\"YES\",\"NO\",\"NO\",\"NO\",\"NO\",\"NO\",\"YES\",\"NO\",\"NO\",\"YES\",\"NO\",\"NO\",\"NO\",\"NO\",\"YES\",\"NO\",\"NO\",\"YES\",\"YES\",\"NO\",\"NO\",\"YES\",\"NO\",\"NO\",\"NO\",\"NO\",\"NO\",\"NO\",\"NO\",\"NO\",\"YES\",\"YES\",\"YES\",\"NO\",\"NO\",\"NO\",\"NO\",\"NO\",\"YES\",\"NO\",\"NO\",\"NO\",\"YES\",\"NO\",\"NO\",\"NO\",\"NO\",\"NO\",\"NO\",\"NO\",\"NO\",\"YES\",\"NO\",\"NO\",\"YES\",\"NO\",\"YES\",\"NO\",\"NO\",\"NO\",\"NO\",\"NO\",\"NO\",\"YES\",\"NO\",\"YES\",\"NO\",\"NO\",\"NO\",\"NO\",\"NO\",\"NO\",\"NO\",\"NO\",\"NO\",\"NO\",\"NO\",\"NO\",\"NO\",\"NO\",\"YES\",\"NO\",\"NO\",\"NO\",\"NO\",\"YES\",\"NO\",\"YES\",\"NO\",\"NO\",\"NO\",\"NO\",\"YES\",\"NO\",\"NO\",\"YES\",\"YES\",\"NO\",\"YES\",\"NO\",\"NO\",\"NO\",\"YES\",\"NO\",\"NO\",\"NO\",\"NO\",\"NO\",\"NO\",\"NO\",\"NO\",\"NO\",\"NO\",\"NO\",\"NO\",\"YES\",\"NO\",\"NO\",\"NO\",\"NO\",\"NO\",\"NO\",\"NO\",\"NO\",\"NO\",\"NO\",\"YES\",\"NO\",\"NO\",\"NO\",\"NO\",\"NO\",\"NO\",\"NO\",\"NO\",\"NO\",\"YES\",\"YES\",\"NO\",\"NO\",\"YES\",\"NO\",\"NO\",\"NO\",\"YES\",\"YES\",\"NO\",\"NO\",\"NO\",\"YES\",\"NO\",\"NO\",\"NO\",\"NO\",\"NO\",\"NO\",\"NO\",\"NO\",\"NO\",\"YES\",\"NO\",\"NO\",\"NO\",\"NO\",\"NO\",\"NO\",\"NO\",\"NO\",\"NO\",\"NO\",\"NO\",\"NO\",\"NO\",\"YES\",\"NO\",\"NO\",\"NO\",\"NO\",\"NO\",\"NO\",\"NO\",\"NO\",\"NO\",\"NO\",\"NO\",\"NO\",\"YES\",\"NO\",\"NO\",\"YES\",\"NO\",\"NO\",\"NO\",\"YES\",\"NO\",\"NO\",\"NO\",\"NO\",\"NO\",\"NO\",\"YES\",\"NO\",\"NO\",\"NO\",\"NO\",\"NO\",\"NO\",\"NO\",\"YES\",\"NO\",\"YES\",\"NO\",\"NO\",\"NO\",\"NO\",\"NO\",\"NO\",\"NO\",\"NO\",\"NO\",\"NO\",\"NO\",\"NO\",\"YES\",\"YES\",\"YES\",\"NO\",\"NO\",\"NO\",\"NO\",\"NO\",\"NO\",\"NO\",\"NO\",\"NO\",\"NO\",\"NO\",\"YES\",\"NO\",\"NO\",\"NO\",\"NO\",\"NO\",\"NO\",\"NO\",\"NO\",\"NO\",\"NO\",\"NO\",\"NO\",\"NO\",\"NO\",\"NO\",\"NO\",\"NO\",\"NO\",\"NO\",\"YES\",\"NO\",\"NO\",\"NO\",\"NO\",\"YES\",\"YES\",\"NO\",\"YES\",\"NO\",\"NO\",\"NO\",\"YES\",\"NO\",\"NO\",\"YES\",\"NO\",\"NO\",\"NO\",\"NO\",\"YES\",\"YES\",\"NO\",\"NO\",\"NO\",\"NO\",\"NO\",\"NO\",\"NO\",\"NO\",\"NO\",\"YES\",\"NO\",\"NO\",\"NO\",\"YES\",\"NO\",\"NO\",\"NO\",\"NO\",\"NO\",\"NO\",\"YES\",\"NO\",\"NO\",\"NO\",\"NO\",\"YES\",\"NO\",\"NO\",\"NO\",\"NO\",\"NO\",\"NO\",\"NO\",\"NO\",\"NO\",\"NO\",\"NO\",\"NO\",\"NO\",\"NO\",\"NO\",\"NO\",\"NO\",\"NO\",\"NO\",\"NO\",\"NO\",\"NO\",\"NO\",\"NO\",\"NO\",\"NO\",\"NO\",\"NO\",\"NO\",\"NO\",\"NO\",\"NO\",\"NO\",\"NO\",\"NO\",\"NO\",\"NO\",\"NO\",\"NO\",\"YES\",\"NO\",\"NO\",\"NO\",\"NO\",\"NO\",\"NO\",\"NO\",\"YES\",\"NO\",\"NO\",\"NO\",\"YES\",\"NO\",\"NO\",\"YES\",\"NO\",\"NO\",\"NO\",\"NO\",\"NO\",\"YES\",\"NO\",\"NO\",\"NO\",\"YES\",\"NO\",\"YES\",\"NO\",\"NO\",\"NO\",\"YES\",\"NO\",\"YES\",\"NO\",\"NO\",\"NO\",\"NO\",\"NO\",\"NO\",\"NO\",\"YES\",\"YES\",\"NO\",\"NO\",\"YES\",\"NO\",\"NO\",\"NO\",\"NO\",\"NO\",\"NO\",\"NO\",\"YES\",\"NO\",\"NO\",\"NO\",\"NO\",\"NO\",\"NO\",\"NO\",\"YES\",\"NO\",\"NO\",\"NO\",\"NO\",\"NO\",\"NO\",\"YES\",\"NO\",\"NO\",\"YES\",\"NO\",\"NO\",\"YES\",\"NO\",\"NO\",\"NO\",\"NO\",\"NO\",\"NO\",\"NO\",\"NO\",\"YES\",\"NO\",\"NO\",\"NO\",\"NO\",\"NO\",\"NO\",\"NO\"],\"xaxis\":\"x\",\"yaxis\":\"y\",\"type\":\"histogram\"}],                        {\"template\":{\"data\":{\"barpolar\":[{\"marker\":{\"line\":{\"color\":\"rgb(17,17,17)\",\"width\":0.5},\"pattern\":{\"fillmode\":\"overlay\",\"size\":10,\"solidity\":0.2}},\"type\":\"barpolar\"}],\"bar\":[{\"error_x\":{\"color\":\"#f2f5fa\"},\"error_y\":{\"color\":\"#f2f5fa\"},\"marker\":{\"line\":{\"color\":\"rgb(17,17,17)\",\"width\":0.5},\"pattern\":{\"fillmode\":\"overlay\",\"size\":10,\"solidity\":0.2}},\"type\":\"bar\"}],\"carpet\":[{\"aaxis\":{\"endlinecolor\":\"#A2B1C6\",\"gridcolor\":\"#506784\",\"linecolor\":\"#506784\",\"minorgridcolor\":\"#506784\",\"startlinecolor\":\"#A2B1C6\"},\"baxis\":{\"endlinecolor\":\"#A2B1C6\",\"gridcolor\":\"#506784\",\"linecolor\":\"#506784\",\"minorgridcolor\":\"#506784\",\"startlinecolor\":\"#A2B1C6\"},\"type\":\"carpet\"}],\"choropleth\":[{\"colorbar\":{\"outlinewidth\":0,\"ticks\":\"\"},\"type\":\"choropleth\"}],\"contourcarpet\":[{\"colorbar\":{\"outlinewidth\":0,\"ticks\":\"\"},\"type\":\"contourcarpet\"}],\"contour\":[{\"colorbar\":{\"outlinewidth\":0,\"ticks\":\"\"},\"colorscale\":[[0.0,\"#0d0887\"],[0.1111111111111111,\"#46039f\"],[0.2222222222222222,\"#7201a8\"],[0.3333333333333333,\"#9c179e\"],[0.4444444444444444,\"#bd3786\"],[0.5555555555555556,\"#d8576b\"],[0.6666666666666666,\"#ed7953\"],[0.7777777777777778,\"#fb9f3a\"],[0.8888888888888888,\"#fdca26\"],[1.0,\"#f0f921\"]],\"type\":\"contour\"}],\"heatmapgl\":[{\"colorbar\":{\"outlinewidth\":0,\"ticks\":\"\"},\"colorscale\":[[0.0,\"#0d0887\"],[0.1111111111111111,\"#46039f\"],[0.2222222222222222,\"#7201a8\"],[0.3333333333333333,\"#9c179e\"],[0.4444444444444444,\"#bd3786\"],[0.5555555555555556,\"#d8576b\"],[0.6666666666666666,\"#ed7953\"],[0.7777777777777778,\"#fb9f3a\"],[0.8888888888888888,\"#fdca26\"],[1.0,\"#f0f921\"]],\"type\":\"heatmapgl\"}],\"heatmap\":[{\"colorbar\":{\"outlinewidth\":0,\"ticks\":\"\"},\"colorscale\":[[0.0,\"#0d0887\"],[0.1111111111111111,\"#46039f\"],[0.2222222222222222,\"#7201a8\"],[0.3333333333333333,\"#9c179e\"],[0.4444444444444444,\"#bd3786\"],[0.5555555555555556,\"#d8576b\"],[0.6666666666666666,\"#ed7953\"],[0.7777777777777778,\"#fb9f3a\"],[0.8888888888888888,\"#fdca26\"],[1.0,\"#f0f921\"]],\"type\":\"heatmap\"}],\"histogram2dcontour\":[{\"colorbar\":{\"outlinewidth\":0,\"ticks\":\"\"},\"colorscale\":[[0.0,\"#0d0887\"],[0.1111111111111111,\"#46039f\"],[0.2222222222222222,\"#7201a8\"],[0.3333333333333333,\"#9c179e\"],[0.4444444444444444,\"#bd3786\"],[0.5555555555555556,\"#d8576b\"],[0.6666666666666666,\"#ed7953\"],[0.7777777777777778,\"#fb9f3a\"],[0.8888888888888888,\"#fdca26\"],[1.0,\"#f0f921\"]],\"type\":\"histogram2dcontour\"}],\"histogram2d\":[{\"colorbar\":{\"outlinewidth\":0,\"ticks\":\"\"},\"colorscale\":[[0.0,\"#0d0887\"],[0.1111111111111111,\"#46039f\"],[0.2222222222222222,\"#7201a8\"],[0.3333333333333333,\"#9c179e\"],[0.4444444444444444,\"#bd3786\"],[0.5555555555555556,\"#d8576b\"],[0.6666666666666666,\"#ed7953\"],[0.7777777777777778,\"#fb9f3a\"],[0.8888888888888888,\"#fdca26\"],[1.0,\"#f0f921\"]],\"type\":\"histogram2d\"}],\"histogram\":[{\"marker\":{\"pattern\":{\"fillmode\":\"overlay\",\"size\":10,\"solidity\":0.2}},\"type\":\"histogram\"}],\"mesh3d\":[{\"colorbar\":{\"outlinewidth\":0,\"ticks\":\"\"},\"type\":\"mesh3d\"}],\"parcoords\":[{\"line\":{\"colorbar\":{\"outlinewidth\":0,\"ticks\":\"\"}},\"type\":\"parcoords\"}],\"pie\":[{\"automargin\":true,\"type\":\"pie\"}],\"scatter3d\":[{\"line\":{\"colorbar\":{\"outlinewidth\":0,\"ticks\":\"\"}},\"marker\":{\"colorbar\":{\"outlinewidth\":0,\"ticks\":\"\"}},\"type\":\"scatter3d\"}],\"scattercarpet\":[{\"marker\":{\"colorbar\":{\"outlinewidth\":0,\"ticks\":\"\"}},\"type\":\"scattercarpet\"}],\"scattergeo\":[{\"marker\":{\"colorbar\":{\"outlinewidth\":0,\"ticks\":\"\"}},\"type\":\"scattergeo\"}],\"scattergl\":[{\"marker\":{\"line\":{\"color\":\"#283442\"}},\"type\":\"scattergl\"}],\"scattermapbox\":[{\"marker\":{\"colorbar\":{\"outlinewidth\":0,\"ticks\":\"\"}},\"type\":\"scattermapbox\"}],\"scatterpolargl\":[{\"marker\":{\"colorbar\":{\"outlinewidth\":0,\"ticks\":\"\"}},\"type\":\"scatterpolargl\"}],\"scatterpolar\":[{\"marker\":{\"colorbar\":{\"outlinewidth\":0,\"ticks\":\"\"}},\"type\":\"scatterpolar\"}],\"scatter\":[{\"marker\":{\"line\":{\"color\":\"#283442\"}},\"type\":\"scatter\"}],\"scatterternary\":[{\"marker\":{\"colorbar\":{\"outlinewidth\":0,\"ticks\":\"\"}},\"type\":\"scatterternary\"}],\"surface\":[{\"colorbar\":{\"outlinewidth\":0,\"ticks\":\"\"},\"colorscale\":[[0.0,\"#0d0887\"],[0.1111111111111111,\"#46039f\"],[0.2222222222222222,\"#7201a8\"],[0.3333333333333333,\"#9c179e\"],[0.4444444444444444,\"#bd3786\"],[0.5555555555555556,\"#d8576b\"],[0.6666666666666666,\"#ed7953\"],[0.7777777777777778,\"#fb9f3a\"],[0.8888888888888888,\"#fdca26\"],[1.0,\"#f0f921\"]],\"type\":\"surface\"}],\"table\":[{\"cells\":{\"fill\":{\"color\":\"#506784\"},\"line\":{\"color\":\"rgb(17,17,17)\"}},\"header\":{\"fill\":{\"color\":\"#2a3f5f\"},\"line\":{\"color\":\"rgb(17,17,17)\"}},\"type\":\"table\"}]},\"layout\":{\"annotationdefaults\":{\"arrowcolor\":\"#f2f5fa\",\"arrowhead\":0,\"arrowwidth\":1},\"autotypenumbers\":\"strict\",\"coloraxis\":{\"colorbar\":{\"outlinewidth\":0,\"ticks\":\"\"}},\"colorscale\":{\"diverging\":[[0,\"#8e0152\"],[0.1,\"#c51b7d\"],[0.2,\"#de77ae\"],[0.3,\"#f1b6da\"],[0.4,\"#fde0ef\"],[0.5,\"#f7f7f7\"],[0.6,\"#e6f5d0\"],[0.7,\"#b8e186\"],[0.8,\"#7fbc41\"],[0.9,\"#4d9221\"],[1,\"#276419\"]],\"sequential\":[[0.0,\"#0d0887\"],[0.1111111111111111,\"#46039f\"],[0.2222222222222222,\"#7201a8\"],[0.3333333333333333,\"#9c179e\"],[0.4444444444444444,\"#bd3786\"],[0.5555555555555556,\"#d8576b\"],[0.6666666666666666,\"#ed7953\"],[0.7777777777777778,\"#fb9f3a\"],[0.8888888888888888,\"#fdca26\"],[1.0,\"#f0f921\"]],\"sequentialminus\":[[0.0,\"#0d0887\"],[0.1111111111111111,\"#46039f\"],[0.2222222222222222,\"#7201a8\"],[0.3333333333333333,\"#9c179e\"],[0.4444444444444444,\"#bd3786\"],[0.5555555555555556,\"#d8576b\"],[0.6666666666666666,\"#ed7953\"],[0.7777777777777778,\"#fb9f3a\"],[0.8888888888888888,\"#fdca26\"],[1.0,\"#f0f921\"]]},\"colorway\":[\"#636efa\",\"#EF553B\",\"#00cc96\",\"#ab63fa\",\"#FFA15A\",\"#19d3f3\",\"#FF6692\",\"#B6E880\",\"#FF97FF\",\"#FECB52\"],\"font\":{\"color\":\"#f2f5fa\"},\"geo\":{\"bgcolor\":\"rgb(17,17,17)\",\"lakecolor\":\"rgb(17,17,17)\",\"landcolor\":\"rgb(17,17,17)\",\"showlakes\":true,\"showland\":true,\"subunitcolor\":\"#506784\"},\"hoverlabel\":{\"align\":\"left\"},\"hovermode\":\"closest\",\"mapbox\":{\"style\":\"dark\"},\"paper_bgcolor\":\"rgb(17,17,17)\",\"plot_bgcolor\":\"rgb(17,17,17)\",\"polar\":{\"angularaxis\":{\"gridcolor\":\"#506784\",\"linecolor\":\"#506784\",\"ticks\":\"\"},\"bgcolor\":\"rgb(17,17,17)\",\"radialaxis\":{\"gridcolor\":\"#506784\",\"linecolor\":\"#506784\",\"ticks\":\"\"}},\"scene\":{\"xaxis\":{\"backgroundcolor\":\"rgb(17,17,17)\",\"gridcolor\":\"#506784\",\"gridwidth\":2,\"linecolor\":\"#506784\",\"showbackground\":true,\"ticks\":\"\",\"zerolinecolor\":\"#C8D4E3\"},\"yaxis\":{\"backgroundcolor\":\"rgb(17,17,17)\",\"gridcolor\":\"#506784\",\"gridwidth\":2,\"linecolor\":\"#506784\",\"showbackground\":true,\"ticks\":\"\",\"zerolinecolor\":\"#C8D4E3\"},\"zaxis\":{\"backgroundcolor\":\"rgb(17,17,17)\",\"gridcolor\":\"#506784\",\"gridwidth\":2,\"linecolor\":\"#506784\",\"showbackground\":true,\"ticks\":\"\",\"zerolinecolor\":\"#C8D4E3\"}},\"shapedefaults\":{\"line\":{\"color\":\"#f2f5fa\"}},\"sliderdefaults\":{\"bgcolor\":\"#C8D4E3\",\"bordercolor\":\"rgb(17,17,17)\",\"borderwidth\":1,\"tickwidth\":0},\"ternary\":{\"aaxis\":{\"gridcolor\":\"#506784\",\"linecolor\":\"#506784\",\"ticks\":\"\"},\"baxis\":{\"gridcolor\":\"#506784\",\"linecolor\":\"#506784\",\"ticks\":\"\"},\"bgcolor\":\"rgb(17,17,17)\",\"caxis\":{\"gridcolor\":\"#506784\",\"linecolor\":\"#506784\",\"ticks\":\"\"}},\"title\":{\"x\":0.05},\"updatemenudefaults\":{\"bgcolor\":\"#506784\",\"borderwidth\":0},\"xaxis\":{\"automargin\":true,\"gridcolor\":\"#283442\",\"linecolor\":\"#506784\",\"ticks\":\"\",\"title\":{\"standoff\":15},\"zerolinecolor\":\"#283442\",\"zerolinewidth\":2},\"yaxis\":{\"automargin\":true,\"gridcolor\":\"#283442\",\"linecolor\":\"#506784\",\"ticks\":\"\",\"title\":{\"standoff\":15},\"zerolinecolor\":\"#283442\",\"zerolinewidth\":2}}},\"xaxis\":{\"anchor\":\"y\",\"domain\":[0.0,1.0],\"title\":{\"text\":\"Hypertension\"}},\"yaxis\":{\"anchor\":\"x\",\"domain\":[0.0,1.0],\"title\":{\"text\":\"Count\"}},\"legend\":{\"title\":{\"text\":\"color\"},\"tracegroupgap\":0},\"title\":{\"text\":\"Hypertension Distribution by Gender\",\"x\":0.5},\"barmode\":\"stack\",\"width\":800,\"height\":600},                        {\"responsive\": true}                    ).then(function(){\n",
       "                            \n",
       "var gd = document.getElementById('0cf93520-4b56-4b41-88d4-f6b9484a5b7a');\n",
       "var x = new MutationObserver(function (mutations, observer) {{\n",
       "        var display = window.getComputedStyle(gd).display;\n",
       "        if (!display || display === 'none') {{\n",
       "            console.log([gd, 'removed!']);\n",
       "            Plotly.purge(gd);\n",
       "            observer.disconnect();\n",
       "        }}\n",
       "}});\n",
       "\n",
       "// Listen for the removal of the full notebook cells\n",
       "var notebookContainer = gd.closest('#notebook-container');\n",
       "if (notebookContainer) {{\n",
       "    x.observe(notebookContainer, {childList: true});\n",
       "}}\n",
       "\n",
       "// Listen for the clearing of the current output cell\n",
       "var outputEl = gd.closest('.output');\n",
       "if (outputEl) {{\n",
       "    x.observe(outputEl, {childList: true});\n",
       "}}\n",
       "\n",
       "                        })                };                });            </script>        </div>"
      ]
     },
     "metadata": {},
     "output_type": "display_data"
    }
   ],
   "source": [
    "plt = px.histogram(x=data[\"Hypertension\"].map({0: 'NO', 1: 'YES'}), color=data[\"Gender\"].map({0: 'Female', 1: 'Male'}), \n",
    "             title=\"Hypertension Distribution by Gender\",\n",
    "             barmode='stack', \n",
    "             text_auto=True, \n",
    "             color_discrete_sequence=px.colors.sequential.BuPu_r)\n",
    "plt.update_layout(\n",
    "    title_x=0.5,\n",
    "    template=\"plotly_dark\",  \n",
    "    width=800,              \n",
    "    height=600,\n",
    "    xaxis_title=\"Hypertension\",\n",
    "    yaxis_title=\"Count\"\n",
    ")\n",
    "plt.show()"
   ]
  },
  {
   "cell_type": "code",
   "execution_count": 43,
   "id": "e6368c4e",
   "metadata": {
    "execution": {
     "iopub.execute_input": "2024-09-05T23:23:08.445721Z",
     "iopub.status.busy": "2024-09-05T23:23:08.444869Z",
     "iopub.status.idle": "2024-09-05T23:23:08.451015Z",
     "shell.execute_reply": "2024-09-05T23:23:08.450076Z"
    },
    "papermill": {
     "duration": 0.040852,
     "end_time": "2024-09-05T23:23:08.453350",
     "exception": false,
     "start_time": "2024-09-05T23:23:08.412498",
     "status": "completed"
    },
    "tags": []
   },
   "outputs": [
    {
     "name": "stdout",
     "output_type": "stream",
     "text": [
      "Minimum LiverFunctionTest: 20.01925357943218\n",
      "Maximum LiverFunctionTest: 99.99141333640394\n"
     ]
    }
   ],
   "source": [
    "### LiverFunctionTest Distrbution\n",
    "min_bmi = data['LiverFunctionTest'].min()\n",
    "max_bmi = data['LiverFunctionTest'].max()\n",
    "# Print the results\n",
    "print(f\"Minimum LiverFunctionTest: {min_bmi}\")\n",
    "print(f\"Maximum LiverFunctionTest: {max_bmi}\")"
   ]
  },
  {
   "cell_type": "code",
   "execution_count": 44,
   "id": "b82731df",
   "metadata": {
    "execution": {
     "iopub.execute_input": "2024-09-05T23:23:08.519918Z",
     "iopub.status.busy": "2024-09-05T23:23:08.519305Z",
     "iopub.status.idle": "2024-09-05T23:23:08.599751Z",
     "shell.execute_reply": "2024-09-05T23:23:08.598864Z"
    },
    "papermill": {
     "duration": 0.114931,
     "end_time": "2024-09-05T23:23:08.601671",
     "exception": false,
     "start_time": "2024-09-05T23:23:08.486740",
     "status": "completed"
    },
    "tags": []
   },
   "outputs": [
    {
     "data": {
      "text/html": [
       "<div>                            <div id=\"0e65d4da-c139-4eed-b346-ae9022a8b3be\" class=\"plotly-graph-div\" style=\"height:600px; width:800px;\"></div>            <script type=\"text/javascript\">                require([\"plotly\"], function(Plotly) {                    window.PLOTLYENV=window.PLOTLYENV || {};                                    if (document.getElementById(\"0e65d4da-c139-4eed-b346-ae9022a8b3be\")) {                    Plotly.newPlot(                        \"0e65d4da-c139-4eed-b346-ae9022a8b3be\",                        [{\"alignmentgroup\":\"True\",\"bingroup\":\"x\",\"hovertemplate\":\"LiverFunctionTest=%{x}\\u003cbr\\u003ecount=%{y}\\u003cextra\\u003e\\u003c\\u002fextra\\u003e\",\"legendgroup\":\"\",\"marker\":{\"color\":\"rgb(3, 5, 18)\",\"pattern\":{\"shape\":\"\"}},\"name\":\"\",\"offsetgroup\":\"\",\"orientation\":\"v\",\"showlegend\":false,\"texttemplate\":\"%{value}\",\"x\":[42.73424003122099,67.30982160011246,63.73895583870944,64.55587349026104,77.86868893750503,50.53506445991968,45.52799705894845,88.22676585483818,37.60760322194162,34.419682984891445,21.248594932420872,36.846222562334944,61.482514665336666,63.080709841129085,40.35363929564275,25.78193360329599,79.5712637076165,80.63802788498398,99.82691170332492,92.00236564277742,94.0849651614114,83.85630605951535,69.24022827059993,30.28367660836084,69.78506379647021,24.47646883317013,90.82392890169538,58.5457068331358,75.79782655806402,24.17949309567712,62.73987383382603,44.101071828269,42.79746125897965,51.1724731762546,20.051156868842792,57.33287053761388,58.92533468863506,89.05047326712513,55.88204863059859,49.08450350941383,99.57976410899708,65.6970659681997,57.809056690731154,59.67486676387036,84.7345038007044,47.25410951761287,51.13283701487565,80.46986874699724,25.83869916910156,89.2135326514607,54.4162157174376,66.50343804045187,80.59809274078681,41.28415379514759,91.22513666565207,98.33799778052888,59.54194891248997,94.95498920261386,20.090289802158622,91.53902637084228,44.88362558010444,44.91963397820816,38.24710918159515,45.36111209207215,37.078766695890806,92.46952850479774,91.92189817706932,28.1769051936498,31.4286743093194,88.96149112085332,51.91502166981968,33.54173418714226,60.85355219492538,53.3334439936076,37.53292429903722,77.66017746221075,70.50314498661848,27.972929084435243,94.0309371460274,64.67759725840553,40.01635896508334,36.50334520578908,30.875838509776123,53.97099251122806,30.84328104726694,53.26531300761809,31.901634258729416,72.54460172191115,82.81936173490865,63.961819801820695,74.40454998839178,95.07029896672488,71.06972236564863,49.132655854710606,55.95841269399324,88.84201808576296,30.45762551600771,46.058961796034616,66.18240551763873,74.11116555267475,81.07992603453641,45.45654367968697,31.66873072073202,96.38713677412478,26.11137737056316,27.664428462950838,59.595403352157504,85.54168225148787,81.96032850842613,95.01594129552734,31.32820604903907,50.058180564994885,42.571370297736806,88.86960988437376,59.06836962249603,22.147834753253303,76.63715254707172,51.09584782612821,62.49174106968098,91.50299416079984,40.53902197062493,39.22117404897417,41.055400334407146,47.048639300776216,28.58831797168797,75.77757286468716,36.59189742633093,94.09165978164684,37.25490511278966,40.451362344702005,43.76161830486531,81.48304776091328,54.20851899536238,85.54676992244949,82.78829698846309,94.35923382139732,80.52833240832439,24.152893573525027,86.98250189592467,95.04580773643288,99.49513540397352,30.02140753059721,69.06186154612277,35.95669327073275,41.00077127300792,79.64674705782863,98.21341741592482,67.58844011704184,88.04675758577979,20.710704306306237,22.930531187969542,67.73794698606906,51.11864812803513,91.18062519785232,44.1585530468587,54.5640822003238,62.232735826525456,41.84310663089981,92.67958939626357,57.162686772647774,53.93244872952136,87.98024391474661,44.95827213183188,85.39722756087687,29.78182821770796,34.62308266919197,96.06733329373878,87.39579926461664,51.0319121165125,71.07651589736236,95.43761515447646,36.94871222912674,24.72083761784005,62.99744516042442,31.40775029308746,34.98552741691001,91.32313517852636,20.59227669159131,85.34560211710948,61.35606210684861,64.74355101162402,73.741436836509,54.51559938464083,29.248951055393174,28.225617904385903,80.34897593471541,37.68281146138279,22.248134689411536,98.36911112791528,98.43132154885546,50.25130698750239,22.04190756456906,78.18117268741997,86.48096483885354,30.001095209264783,30.836689192738906,85.77791997574325,93.75259109721878,83.26038693393197,36.05959593356236,52.92169755473768,68.06739406927312,32.823477905666294,36.84819941060066,42.6308857654844,60.76106162326692,60.86439097420381,85.14356154780421,80.24081605501004,93.09885400879536,86.63213782596772,40.310203864452376,46.50374154431999,60.0338594906027,21.141690765091568,92.31216050269772,23.547537004987134,45.7953016653309,65.53398329571253,61.42731108854926,72.35679142606998,62.20161402353672,38.32011405624275,36.08625502350975,92.57976552603988,41.1173389388474,42.47817871036108,53.03623168802757,31.15506617199792,60.58182755385923,73.20254093617052,82.88003936618935,76.91633934913833,31.810877126421097,56.48537159767392,23.08689606465428,21.42383973767594,55.210433461904046,40.23683955661032,74.66886358986902,77.93926294507301,91.63229796466044,80.8546010831231,23.859529850923337,49.72984082862141,41.841868140169765,50.8905959861729,32.80605271749613,27.81632829524748,61.67876340067205,77.63050486931155,76.15287215455542,56.075545774098174,61.78231890311569,61.30629780069131,75.3256302214445,23.834014076481928,76.79168870969791,66.576072060583,35.84869717372594,23.92470829970116,28.682223244631075,61.97530731354157,80.67268240730263,46.77258296996009,50.329912856417735,94.731713203689,37.04104672260608,28.29995396602813,47.47280910400144,79.6737695593819,70.08618328449055,53.26363514956554,97.18020262654645,78.79971506356586,24.948913950663503,79.57051550832387,21.923084472468663,72.02586584939243,36.8386269034127,75.71537672300462,44.78236533182369,89.84050463644519,46.95310692731684,69.57566843234375,42.87420477231906,93.37772361137426,82.47967848225379,39.46423010756825,95.90373700469276,48.57260716609826,72.149195813375,79.42825848915172,21.832172917192985,96.71738769257968,47.55530448698919,35.182311474497936,88.05662333827985,76.23194262587316,26.93946180986821,29.363566510141563,77.21534965229192,25.98266047672672,93.3740348099252,79.32321095581065,46.8393764773591,49.03510233802706,60.51968769632811,48.877553091883215,82.67748411506525,97.97895552812926,66.76172123505545,55.68298621340232,37.821931221457376,72.27467353982402,74.84614894523176,74.8152485611491,22.158802869479388,91.92976805283767,47.04852507433414,79.53326099852873,80.78455256802559,72.04439830497917,51.589321851543374,68.67073734532204,23.215895300630123,80.9516633750325,27.96709186626711,51.74007406396814,28.28950301319733,86.96595566552756,64.02419147487674,75.2764096135418,74.60657358740903,87.32849853268036,30.605552267610776,72.77825123239073,66.01072435229258,22.47176980570523,36.11383270582421,41.40572331025766,25.80451003433329,48.37758447190412,22.176200697238052,64.25467938061837,36.92007684638298,42.96024844073589,92.83773009370272,60.225347929882034,41.52111449955327,67.8769406598453,36.13371478939965,25.95165486113479,21.67250835202149,96.1223236301005,77.9688659314493,83.99585186339058,98.47341825430657,94.53029627307517,78.95305589100127,75.51896558554554,46.947999754830136,28.32138014360817,65.89780386940608,66.10026360708738,96.17898283325952,55.40566453293675,75.26460994448547,65.99765019173773,34.14081832808394,67.36514462039334,63.20933674902561,59.51247951274844,61.073834691877984,33.11903775670964,57.078218498453424,68.45226174572774,59.155935894843154,59.09489561009178,26.201416783438862,35.26193216133757,45.677815422040055,53.54775951407253,67.51499550868834,89.06760836184486,32.733179047092314,21.207042416855597,55.93897046207326,54.56823179293025,64.15209747961379,86.65774170972004,84.18884407859824,28.003462754400896,94.7196293341339,28.833151573955572,70.76564068273889,73.79250348764606,74.39019897784705,41.22809373403128,46.42760734119936,63.89415001195175,35.96699966400787,21.624837426668098,64.97155636068605,57.22228576096058,72.53849649787696,31.736046066692797,87.27399156718812,31.697719076842183,91.30748839040189,55.96169380765624,63.984420749815584,91.72650687711908,43.99304387816536,34.54615969929212,55.66012966555629,39.54937828221654,62.22751292322536,42.02062915554532,89.15916284763655,68.58596738061807,20.01925357943218,84.43789877438599,46.41698693809168,45.61663873239657,50.64502497075739,70.42100224672646,55.36485683153784,70.2908437255762,31.74245773086339,97.61315716192686,78.36850296670912,40.01656857427064,77.93359264598207,66.00203650093115,28.73511971228117,34.255714143050085,23.304651353717183,84.73904573397449,64.1363802076188,45.33989189201695,30.107592162256005,58.72367007683033,62.0209077374351,76.15588007844042,97.59497683576733,54.79564243258998,52.48273652754954,49.5944003672098,86.15391271734889,32.50537771193903,47.50503229080715,77.99766439003128,21.25559482739572,43.15045788845558,71.31577302037678,34.876167840064376,44.21684552994169,58.883605958658336,53.761885277574976,28.48217519643031,95.0588257804506,23.54341764656742,79.97942051382543,25.7138216872926,57.38366424200635,34.03290333243288,31.287823714314023,30.071838123338004,56.22293093562739,61.238792750983386,30.67075948342719,98.35165842129916,40.62127094897785,56.707307168222655,37.301564608152646,59.51381163596365,80.48132659721456,61.68816114355962,42.851909657444416,39.871728698715046,80.71475249816427,29.45905405810106,49.59731955246956,32.118617332310826,40.63806634355856,32.21465859879618,90.94180068339412,78.55233592104256,64.87417968354092,37.95401779964265,60.81814617593559,61.66665651580579,67.2322980523125,24.80681257781852,97.8321576957365,57.23511764802585,94.12254192792828,20.78464917711811,39.80467165082472,28.319645625066848,81.56929418838173,45.6100039675769,87.23940067325975,86.59082925726855,73.42358342452559,73.26254428351817,76.0127753658508,73.90110677038196,50.95266861474792,74.62621156548367,91.7925575353887,46.6058793501299,95.59112209719628,21.08652703190158,47.92660306121897,30.56787213829921,30.12958632360189,85.23435952092547,93.46946518000983,82.22066033863885,98.1292575194048,37.30631761330166,31.263992976775235,61.656302563169085,86.32300917940944,23.187127267044776,99.64525287999057,68.17967433642582,98.3153449745102,49.20653065870216,56.64190564268714,80.18891539179137,83.4160360449055,38.642644268019225,94.38408690461782,89.39384974677829,21.456424248255885,30.285448468414646,59.68776851256539,56.87644112905461,76.67126840278684,27.17691008424272,71.58842453577012,69.30959449076659,38.68956787824355,63.39151714147196,37.77657655967856,31.753842168048507,65.85079477232564,98.19794226404562,38.9546679337396,48.42689194841215,40.525858079203736,41.31678573171958,52.33537073493445,76.14844085204962,23.10436192247561,96.5699356548448,23.7023903591398,90.50025455556478,91.55024790095992,61.95913500732186,30.9597462895174,65.21167764455551,70.29057279222798,88.6207166245689,64.07163006156557,52.85675167226706,87.0632955083291,98.47614378820953,71.60825641263466,89.95096298422476,67.89880902632514,75.18303931282446,75.0533694039135,76.38295894722123,45.68107551429069,66.05291170173699,67.53084671790363,45.20573013705856,47.988189416293096,80.97974120133718,66.61790724937993,31.936891837053487,87.01095909462978,90.64914296594556,57.291291836625135,36.71259456183415,95.80851963239242,90.5815651615661,39.550539707347085,27.647498904215794,55.25228860392854,74.11175891949917,34.03108681759552,61.05701267453984,54.033239541801336,91.24409190155724,54.36533062457029,62.702111498803006,96.4228956801458,43.97534126996517,43.11927455535531,83.96760639536342,42.20311889151749,86.5492696058564,27.6428487489316,28.90089978475747,92.10586993302174,63.26498259859483,77.5051413355391,38.02311134900354,33.301949470568665,86.79634097861121,48.6898725618599,56.40260952975956,22.23775178202872,50.87045873543731,81.63502464999827,85.70201418289355,75.90038311060334,75.37437868349937,60.49914132777264,63.06634634078584,79.41053974505148,39.78414390621783,38.52136545968448,95.99398591312438,22.21519094070203,31.157237093214523,65.62659409609984,79.02678709586789,63.03128663880094,48.405119693190734,98.2380895482374,76.30821481062767,86.51126728536633,23.219749935056324,38.87360883787069,49.93368748732641,34.60811184658225,25.831941816731774,38.007333167574416,62.69085049896341,75.65961986853642,81.92167383720647,23.434892389417364,54.23889377700729,29.776926686829384,54.49603091557375,54.71806792962361,59.8569349369795,91.42645010105916,84.40764020992715,70.93766761091135,90.83258583468246,74.27748932036987,85.50839686104601,65.10226407873013,62.01746013047205,77.92777942179077,21.575144958060086,75.23020573051387,94.76145747234918,77.11536638614032,22.94349794377748,50.23085126181791,84.76650418170289,96.6886840035536,49.61306845091018,87.29552447015264,89.10479002412104,29.862911946084,87.66307733749498,45.9399916510892,67.4590177252334,63.11696954851368,73.04430909888964,79.23717207557843,55.2704878094864,91.06486577193058,84.7598737249249,82.83368741182878,56.65974735474335,23.00583086756881,59.38051251031556,91.87564273153464,35.236012448601514,98.60739776084702,84.6152496010537,76.78638338256519,74.17279663378565,66.962070554701,77.65362585993057,53.75244449754564,87.62304864161037,75.70767648762246,81.70024899036392,83.39899377327836,27.365603656712203,24.451261815019038,84.07886947877887,40.750721683059695,66.55758460094515,55.4968684175189,21.76313629341074,23.22250065330172,86.17001938230365,68.61420491909792,61.90744629894759,95.54816667774004,33.84920207430759,40.637667172703885,80.53912625885019,82.01881823663436,52.39177571513316,96.0782747715008,95.06036621721366,20.99277720481276,33.786232187258,85.6175553347097,46.81733478608066,27.63701429598627,82.7999339538867,56.36668044601676,59.39286293722975,34.9095511052937,72.87160431511423,64.0993054498094,36.53383502312607,47.22652067513654,67.75034298689377,93.9897804346728,93.63010802571934,43.03247235179864,78.84967822079079,82.04152644190475,84.70584799862358,65.6609827801184,20.840639847967022,80.93410283569989,28.527795986348004,29.349710897632143,68.44998421169223,98.68164168202414,39.40315786126399,71.6648704040966,44.29229165900808,91.89808908884235,67.48135136910912,36.59818621251767,40.97048403563426,54.59845843344968,29.76348496238501,26.29866946107853,74.40491165983649,52.57320496712963,78.09806334962217,28.80465603500972,68.78924383208766,55.46454346957923,24.639892356562285,63.58415826207815,26.62434197716366,86.21757982328064,70.5565972312023,64.55740270083587,30.677520357572725,42.99656908032664,59.43007177082394,70.66268109117505,34.658457499372446,20.709302250689877,47.58081498154365,58.62971636449949,34.75468044774424,59.37324046841646,47.07886868554149,56.407173288512624,47.79662004628752,70.277427982944,23.431760879485736,33.67242319554188,54.62006952887997,48.50373724414854,51.33055647630536,84.30085559043837,90.90653265978926,39.89350267980561,86.91128482290443,56.70318922322863,41.90564954289766,98.83648568037428,85.98414331473339,99.54026552692288,33.455262754260374,31.507413915828693,60.27023623553914,71.09150080276432,33.68480740266813,88.8344534470834,62.561078293069066,52.8753466576518,68.16429383416362,70.79629703778313,23.42266247870353,99.99141333640394,49.11356614435804,24.923411752791694,88.18585398204122,99.44149433698496,85.30868073728722,88.15059918878765,70.07480913755607,93.78604625767464,22.859084138197403,81.33790903633609,73.65681826672605,23.96679764192018,63.51788631811835,61.20482766062956,75.32273800615813,26.202512928733803,84.42230282627295,31.15227536092037,53.49316907694981,90.50304060013087,64.84252843963972,50.367273100378746,23.856179363666943,73.78188137613773,98.92374122454272,92.94371190067064,77.38368620587423,28.4234286604756,39.155207472031535,34.94792155626296,48.436931220451626,38.84137822332284,39.555155677735456,69.33839483003246,45.49621247691068,74.17303011779785,95.83117273169444,71.07823332905912,80.1325341768297,80.12643322262704,46.45622307194488,21.19663956747484,24.403837039537155,42.56482007076468,75.16345469260784,92.5346510918634,96.7038609752597,22.06789310720588,99.20697965062168,45.7997774685355,87.43649825880922,34.42363685574243,25.031860608548733,50.268433925015,88.71403108245543,37.665993270225286,32.31658606014737,92.78434631601525,95.06697620971671,21.003855935112718,78.19485899323853,44.73661892234613,49.97634959737517,57.52823799611919,54.14327761396156,61.19790279856842,66.5889372592013,57.24764038703394,76.1250832391614,77.48813302737136,55.22873579409561,31.397051846968687,71.25111370560981,81.83653698805671,71.04876169631598,67.04438126774525,38.3529592987685,71.61096326554066,46.78849716609696,93.5647090250628,72.29760742079847,42.25437413666421,57.83415274911441,87.72650207080355,46.8371160946118,62.03524561219049,74.3735978601218,80.36234710613934,33.91137400517959,65.21218437418312,92.97599203969612,97.46878252077552,72.49160340474866,98.69286433279883,65.65881991809127,55.40840238247466,64.12699671585968,29.256991541081767,52.13727357483102,56.6724042424423,87.89022389767825,80.69188741939578,68.11412681798406,47.7821787901016,34.96276685541257,47.82120167317024,74.38432567673055,41.04302392680265,54.15093565673328,50.94161879053456,81.24720510328481,90.70296498081154,75.94967654487816,47.32818087464273,54.65416391807098,31.468012324297717,33.44779582132879,33.1434054021212,30.446908604904817,34.36649828073041,36.21505620626861,28.947675503810636,71.22085775073816,99.23212276657596,90.33493957218047,23.6482179060869,53.844704735737984,88.74484633862178,30.773985439359716,87.81161173216341,67.41605102703194,94.50388420768894,90.08312914115402,74.1627457646974,72.62581278981564,37.05313619135265,29.340237372640683,53.23147439750387,34.926403159449976,28.193337414220714,44.18613866183148,88.83919542373188,21.3718523214689,43.41101453777405,53.92417481715938,60.845579969222925,34.52620067063914,97.1376159870425,66.30984348577516,61.76884376456353,20.70580711442729,58.85723035168056,87.01365035641473,37.57156344409942,48.09660547091304,21.645717175015644,98.1542011387036,25.332143770243263,91.85768991276557,45.03901713443638,67.00451215887028,74.34524319728027,31.26633339448916,55.50075022242684,46.03728801973139,24.528197248437227,86.65549235145446,23.61342051979822,72.26063675870934,45.12619011358776,35.370346176149326,73.36688410684363,65.96301716209646,45.22050058998639,61.036859860739135,39.69896809649676,89.09571672021538,45.105502426172926,39.61224236412251,80.1466968847721,21.40739903951319,41.440938566886025,50.03161765209385,90.57903694331054,96.03534420386754,77.31823735311599,59.40254248077278,71.2497239246151,53.12008413450664,43.90606654789343,96.05504545117029,29.231218320793904,47.71148544400872,91.92711679684746,77.85131444699334,22.328116105838127,21.84797387393977,61.32099700996597,58.74024449840174,55.43932309250546,44.18750094712071,98.93109758509112,41.75898583867052,59.20321651524496,52.391447745845305,33.619954076939365,36.20950553002229,93.46421936078184,88.66237782847641,35.92354446562819,90.05300991276108,36.7348904064674,70.12370573981576,26.502441865655506,90.42957010072944,24.12002395723736,64.39543114009093,82.3769220144308,29.346778912854496,52.35842140001508,23.35601211920401,74.62020618719674,44.59596759690815,64.7516195710776,94.61858163362892,44.468648639587386,23.890197730822216,74.05022141589603,82.9472907611334,96.62948479020608,32.624070162053265,51.37119400929198,87.53123680203798,84.54971146151036,69.983656586709,41.54948361621551,42.722823252062206,29.920239569931404,93.74829390287276,33.83452117115563,65.8309280943925,66.74811335856903,49.56843529562151,48.20147688043641,73.48707348466237,51.06382223588312,40.40923146704006,51.93053619200248,84.61296621324368,97.31827641049485,70.87601843630759,82.56809803872852,62.62598890500882,69.98585136747502,99.04693253892478,55.07350917615292,25.300375756335995,96.56055342554838,83.44493767228381,51.8648294290857,98.5916042898215,47.642860027890094,49.769615680642296,68.77850825519366,41.947790892428536,75.88571881045863,32.228024316040475,28.64202554865228,62.790240605132446,64.43949459155209,28.53240557037525,97.13410089049208,65.8629326085667,32.08279939975409,44.91540194658392,84.018737114653,61.85852222924255,35.05186788372445,28.22791776494438,54.46195297899878,46.99317669491474,72.47338819855787,94.01975895609324,39.8184228619327,88.41871466262761,93.63695827561604,92.16020795759212,96.16618639563482,87.36868977034203,67.47888043173361,52.78768789681935,59.3350228827017,89.80897399020682,44.1118701933746,32.74093554728755,31.26553745070361,86.15956879240004,80.91885490640782,59.81162728370733,41.98971424737225,74.20905404340891,23.074647794597585,65.45822525333291,51.87401349915709,98.22877070495748,60.60481992884208,64.18142019602143,76.98901307542553,58.76307849005173,37.96548954214011,62.98222772387584,95.54150967125764,52.79287905347775,74.37127639997385,98.2427351108548,86.39378503867924,72.7227306466659,78.87971906644114,94.918659841366,96.78016835202853,97.51745042575966,70.05133025620177,50.77693198921892,30.652250316503995,50.84384010723223,95.43643637884952,91.18376644739116,61.89277296503029,62.960582927513926,44.71362796759756,56.36063120563851,77.15587951515161,52.19445805182336,35.038709766082704,63.26876630600622,38.02695291634624,97.943004481008,51.22719312095633,92.7731977287293,38.04431972828994,35.13672042446211,69.352090323179,82.35032626426565,65.34116510819005,38.38365468842075,23.031549030719685,69.4631056952804,30.482978029243863,47.4541109625865,74.06278029369852,27.84187524663455,30.180118382716465,24.93329658459233,99.68633031254612,50.966141488126496,92.46361341877076,43.48685107394257,80.25620521123966,37.52532930499031,59.86597677186002,85.96925914366237,85.30675191160661,83.54245738901396,85.89875304308423,36.91778250447034,58.57730180483092,58.78971796777269,91.240198987833,43.751346351954304,94.51967147112386,56.06365890448792,73.5829602541935,41.51064898234675,52.823848546504585,76.78407456553123,61.019771348080745,94.4566409350667,78.96999727179819,65.15223404084799,90.93358053217663,73.24451110309954,71.78563787363458,39.70970665181018,51.58855724225688,74.66429220832171,91.34333691865262,45.24379789159322,37.23884975543878,67.49567830526846,25.37576784821705,77.16333611600041,76.25108346299847,48.39728247889241,91.41421226759212,60.1744913231302,71.66119605543494,36.76627855506703,53.3872268128,88.99340322158145,37.03516381058742,51.24595020739751,45.44612355425039,32.08881478918241,43.17743345020284,38.62178268601734,93.8874904369062,79.28630436342368,45.288126542625946,81.06712425941679,21.771196242709717,62.1219768616912,40.02676509877385,29.145765744681132,90.70068226707907,35.94724274100581,85.79128743570259,53.0578141993417,21.14326160325603,78.60262634408201,67.70878065754943,47.53375065342554,42.52367471410107,25.895300189634774,95.31404758682176,59.51879077536685,26.841961406088643,89.49437741955764,42.306653825425336,36.288217258772384,42.4749950673775,65.1657166885689,25.92451875976292,58.54055272981412,91.659475609945,35.05372766768991,46.49510177217951,51.68975720413222,66.8976569221796,93.54033972210492,51.56313665939404,25.53222725422109,47.83606891447939,35.20683300798758,72.14195830552826,22.34096873338657,43.35439768584587,63.6138805786096,42.18673648396434,64.07962266762033,29.176985774974654,95.4244390391698,43.272544586390936,93.84006715119068,46.06683516033164,82.54721529383902,39.69498859690024,73.58151219116809,45.89729710582137,60.732730336772704,73.90513166109446,67.11060041623685,66.10244746269555,25.254466852609383,39.926146573727344,65.74714318852332,21.46537657725801,40.05154040927837,38.33481915449574,39.98848881286676,62.8487599653323,66.55682832153539,92.7198395498249,50.882483922097535,94.12631337145008,72.15634759873362,93.01283167204446,86.67776813440386,75.006595472615,48.48847196151675,39.28883581481748,37.79131484096258,96.1739069965025,96.68590745034864,77.98650988194471,90.70367872611818,93.51969304632485,60.92449572154497,70.32477525001377,53.50035983361717,53.479261142821045,23.07431349156917,54.70571683878444,73.87918492105467,53.75857328852569,89.79277415015652,46.60503619256146,30.61456372486796,84.92469525832475,73.91583346628735,39.34555858564654,62.91610048337864,52.1481870875034,95.10878211485262,68.58656727365032,32.67114089495933,60.171876210958814,89.00454660190806,73.71973360259693,87.3961660878925,40.031945109251225,91.06811016380335,80.44890654593377,78.3131004350463,47.72328558108195,91.01264510084224,71.03835019145733,88.1471581490242,48.87771647890175,31.65216728514852,46.58697441762578,56.4211477900146,62.67259001163939,60.864737256923,63.684367394925154,87.3364612178358,33.6080996950536,45.28410361350967,91.08867923483612,64.83665636466642,66.67118962956577,58.24500356911618,63.917970798891126,35.846378444808096,63.74935195345026,99.77385023288934,65.28380583393474,23.55219724848243,83.71485154805278,51.71803429787101,32.29409188012495,89.0015844981353,35.83786044279741,93.66139118868266,55.34371923540844,79.42326677997599,63.75966802708164,40.53014431321823,73.6872139596735,96.63300407121184,81.570957343313,68.32143972601426,99.25024866126851,41.22613338741478,24.987319032755792,22.570469289274484,76.85503036470386,86.41858917873365,70.80804299876213,92.40212779545588,75.83808378719364,49.67637171272165,34.50066333039053,93.9717982847325,28.28777199979836,63.43907229971244,45.12063402188093,41.7132006015738,71.66678815335172,38.4989549912829,93.30920853939163,52.483512727929934,74.19002773837431,78.22045738628677,74.63533557002643,92.27201927144188,38.49046908847985,26.88436357488809,24.437255781203948,90.22753203800198,97.86296399513458,44.20212329637701,75.48111388599753,20.713022733739912,35.09052080927902,75.14195059692915,25.270971145218624,57.48080399358596,73.00666114991591,81.27665370444139,56.30527309794964,70.42272315970745,63.1660503649649,24.184461766665688,79.42437498078772,33.78895327083,22.544442498707305,56.09343330306978,89.25100698252082,32.06635501288229,21.028602729358,28.79833886123337,49.09272914652853,66.41374959930431,35.440970718871405,84.15712040180564,80.26376964392655,75.66908932789593,58.99758466524352,49.21735641071883,50.04692967718486,60.24564279645866,26.185174950612364,74.58443702936489,48.12060352074417,37.98070223509509,42.26616563989111,34.423542822897424,92.12544684222308,33.52300130900409,90.634089511589,65.7794716774761,89.39607643110881,57.92513735244097,94.21069755848588,36.91925948866802,64.37534022778196,30.067095241093533,55.77762281618915,65.59229573174738,68.45401777385376,49.24230375258233,26.106851373316225,72.42608571061221,59.074548836262224,30.950309330980552,94.87007755248796,96.45349297467546,88.52850238650952,87.5094640414078,27.89370206944449,99.47360876660542,52.03045438909853,33.04968926936908,84.96813825737769,38.05846147704463,62.09402565356732,30.241285216274907,57.97165786207108,64.65131947223539,55.67391679610742,25.55894598021224,58.795122446621065,57.51542747526527,40.92962218325391,93.72812797259492,53.42338661586049,89.1292636957108,28.77310637067535,45.510182736494514,34.1064683014432,52.6728630278554,28.93093497367029,55.28278446764964,48.30965947585891,37.865203781920414,71.3743529560252,96.07291905182656,36.56907788396695,76.94326719187603,79.39047114053943,59.84964131406899,91.81346768804536,97.3112052851872,48.97971616430795,72.08266384025501,72.97700943200897,52.290842100200365,45.34328595956914,94.69953585822508,83.19852394501402,29.15716527796353,29.59072572679096,93.80342150822612,26.512781202153956,75.07370769945327,38.14065975555294,22.814827419329493,24.771003686407216,49.88176829436497,26.207076135149173,67.73113599467632,71.78036090992606,49.87748575864392,79.43024605746805,59.203401613566186,54.41828027216657,52.559047103210006,54.48851898764299,97.43101199475348,74.51256480307501,45.216787772888,78.70878961644522,46.42139106583328,30.057192622774096,58.02882859645193,80.08190873107313,50.212792870985695,89.53393136378743,50.95621632702078,47.98712204053854,99.85951310906133,58.59776183920523,84.4176967770805,84.3990444847938,94.10954696793436,26.79160435602429,41.697622114147386,81.41984732371472,65.0081193918852,64.7691953883627,33.29722414961927,42.49224112911438,61.70672685733876,42.174509173969696,36.822623415897205,27.02048446159969,32.45808095386764,81.50942099935784,77.50233444677724,23.666694747896926,36.26272682752888,64.8364277386173,45.81022753894185,85.85996821436244,82.79914461297176,91.32644463664876,65.03449852040927,48.16611838472788,68.48517569479341,27.130934379636624,20.766881419317407,21.367481609628427,52.60343503473729,38.246207528245066,32.58701646400382,69.22608124945364,99.60760340905448,34.22025628924291,63.7137139371151,29.578201119991505,94.73891528577111,43.340413485646806,90.26718560347028,42.64611514003015,84.48419841493757,36.75050667566182,43.42315441227555,35.39802923229072,41.14079022797245,86.78926042666522,71.1225998037358,52.47037350697792,97.7216821665725,57.1889221703659,97.5807977007081,35.726953832868816,92.37107416919596,21.10577632779957,63.6242561892606,53.844191543361184,62.00702763775834,64.27558655581592,51.12250832541688,99.8558277508876,98.12057522405009,96.9396301363676,98.32680379012704,83.44099190155188,99.08723832210656,91.38881802201136,53.27461096259369,82.78216867067262,92.96542761005006,77.0084858869674,53.82258724524832,25.26321936131402,84.77575496484701,96.21942985011762,48.99706081839411,32.15248407911517,46.12030715764446,66.6097886542597,45.354320262578895,68.84949841570831,97.34817857957044,73.6587594646146,49.01274930284973,94.8602377177228,65.2508214960915,30.26979188260533,59.91848041550092,72.290915592804,87.06034926533908,94.9181429366118,45.39329069731082,32.44098912632295,25.90629137551059,79.06836821666262,83.61266021723455,52.74985015425335,51.67403257389032,96.33896253237056,93.3345060064262,38.661272153363456,82.46461181998458,69.8160316986352,32.337819129571194,48.541683766924834,34.1978353045986,43.61248310574709,69.22409406186813,50.02123768347517,51.52476158686858,63.17178340937518,26.97793110733782,79.10378318795318,52.1367626730672,58.43176705618561,97.94397830837052,47.54935106546032,71.85751487791404,51.400345383664856,91.54261749469426,87.74050135960316,39.32994174099075,75.33965700887205,25.21375967177656,97.0548311623912,47.9192086411326,86.54742180678136,45.4745092861848,70.62165929574977,98.68726335874652,90.13998905053042,32.829272792392594,63.7990746519577,47.882542569175214,54.74710813186334,46.81465033750149,46.87673985564105,63.40425950212891,35.357120729852205,62.99163401866917,42.31723497586408,43.11863233934397,79.09984232284982,22.367488284794863,50.47566101390457,52.602750412291606,58.80881117745382,73.5208819783631,49.57494261896692,37.050968344516406,90.78982724370468,98.48309013449696,21.601175453834625,63.71734808005584,47.33619032873585,42.15916603097674,46.85651126959484,71.11022051409606,35.25728081838359,93.02885693263602,57.28916199515807,46.04614665194627,81.24250652380792,21.30773321889541,54.54822925904295,48.42428808009839,47.05679279917875,46.965708967246655,22.501710219781398,32.169312240707185,31.350812744993156,99.08884038556177,21.77326047124894,33.36589250815986,97.93396069269576,70.26052750480034,56.05336964853851,26.30087464370959,73.57289293063013],\"xaxis\":\"x\",\"yaxis\":\"y\",\"type\":\"histogram\"}],                        {\"template\":{\"data\":{\"barpolar\":[{\"marker\":{\"line\":{\"color\":\"rgb(17,17,17)\",\"width\":0.5},\"pattern\":{\"fillmode\":\"overlay\",\"size\":10,\"solidity\":0.2}},\"type\":\"barpolar\"}],\"bar\":[{\"error_x\":{\"color\":\"#f2f5fa\"},\"error_y\":{\"color\":\"#f2f5fa\"},\"marker\":{\"line\":{\"color\":\"rgb(17,17,17)\",\"width\":0.5},\"pattern\":{\"fillmode\":\"overlay\",\"size\":10,\"solidity\":0.2}},\"type\":\"bar\"}],\"carpet\":[{\"aaxis\":{\"endlinecolor\":\"#A2B1C6\",\"gridcolor\":\"#506784\",\"linecolor\":\"#506784\",\"minorgridcolor\":\"#506784\",\"startlinecolor\":\"#A2B1C6\"},\"baxis\":{\"endlinecolor\":\"#A2B1C6\",\"gridcolor\":\"#506784\",\"linecolor\":\"#506784\",\"minorgridcolor\":\"#506784\",\"startlinecolor\":\"#A2B1C6\"},\"type\":\"carpet\"}],\"choropleth\":[{\"colorbar\":{\"outlinewidth\":0,\"ticks\":\"\"},\"type\":\"choropleth\"}],\"contourcarpet\":[{\"colorbar\":{\"outlinewidth\":0,\"ticks\":\"\"},\"type\":\"contourcarpet\"}],\"contour\":[{\"colorbar\":{\"outlinewidth\":0,\"ticks\":\"\"},\"colorscale\":[[0.0,\"#0d0887\"],[0.1111111111111111,\"#46039f\"],[0.2222222222222222,\"#7201a8\"],[0.3333333333333333,\"#9c179e\"],[0.4444444444444444,\"#bd3786\"],[0.5555555555555556,\"#d8576b\"],[0.6666666666666666,\"#ed7953\"],[0.7777777777777778,\"#fb9f3a\"],[0.8888888888888888,\"#fdca26\"],[1.0,\"#f0f921\"]],\"type\":\"contour\"}],\"heatmapgl\":[{\"colorbar\":{\"outlinewidth\":0,\"ticks\":\"\"},\"colorscale\":[[0.0,\"#0d0887\"],[0.1111111111111111,\"#46039f\"],[0.2222222222222222,\"#7201a8\"],[0.3333333333333333,\"#9c179e\"],[0.4444444444444444,\"#bd3786\"],[0.5555555555555556,\"#d8576b\"],[0.6666666666666666,\"#ed7953\"],[0.7777777777777778,\"#fb9f3a\"],[0.8888888888888888,\"#fdca26\"],[1.0,\"#f0f921\"]],\"type\":\"heatmapgl\"}],\"heatmap\":[{\"colorbar\":{\"outlinewidth\":0,\"ticks\":\"\"},\"colorscale\":[[0.0,\"#0d0887\"],[0.1111111111111111,\"#46039f\"],[0.2222222222222222,\"#7201a8\"],[0.3333333333333333,\"#9c179e\"],[0.4444444444444444,\"#bd3786\"],[0.5555555555555556,\"#d8576b\"],[0.6666666666666666,\"#ed7953\"],[0.7777777777777778,\"#fb9f3a\"],[0.8888888888888888,\"#fdca26\"],[1.0,\"#f0f921\"]],\"type\":\"heatmap\"}],\"histogram2dcontour\":[{\"colorbar\":{\"outlinewidth\":0,\"ticks\":\"\"},\"colorscale\":[[0.0,\"#0d0887\"],[0.1111111111111111,\"#46039f\"],[0.2222222222222222,\"#7201a8\"],[0.3333333333333333,\"#9c179e\"],[0.4444444444444444,\"#bd3786\"],[0.5555555555555556,\"#d8576b\"],[0.6666666666666666,\"#ed7953\"],[0.7777777777777778,\"#fb9f3a\"],[0.8888888888888888,\"#fdca26\"],[1.0,\"#f0f921\"]],\"type\":\"histogram2dcontour\"}],\"histogram2d\":[{\"colorbar\":{\"outlinewidth\":0,\"ticks\":\"\"},\"colorscale\":[[0.0,\"#0d0887\"],[0.1111111111111111,\"#46039f\"],[0.2222222222222222,\"#7201a8\"],[0.3333333333333333,\"#9c179e\"],[0.4444444444444444,\"#bd3786\"],[0.5555555555555556,\"#d8576b\"],[0.6666666666666666,\"#ed7953\"],[0.7777777777777778,\"#fb9f3a\"],[0.8888888888888888,\"#fdca26\"],[1.0,\"#f0f921\"]],\"type\":\"histogram2d\"}],\"histogram\":[{\"marker\":{\"pattern\":{\"fillmode\":\"overlay\",\"size\":10,\"solidity\":0.2}},\"type\":\"histogram\"}],\"mesh3d\":[{\"colorbar\":{\"outlinewidth\":0,\"ticks\":\"\"},\"type\":\"mesh3d\"}],\"parcoords\":[{\"line\":{\"colorbar\":{\"outlinewidth\":0,\"ticks\":\"\"}},\"type\":\"parcoords\"}],\"pie\":[{\"automargin\":true,\"type\":\"pie\"}],\"scatter3d\":[{\"line\":{\"colorbar\":{\"outlinewidth\":0,\"ticks\":\"\"}},\"marker\":{\"colorbar\":{\"outlinewidth\":0,\"ticks\":\"\"}},\"type\":\"scatter3d\"}],\"scattercarpet\":[{\"marker\":{\"colorbar\":{\"outlinewidth\":0,\"ticks\":\"\"}},\"type\":\"scattercarpet\"}],\"scattergeo\":[{\"marker\":{\"colorbar\":{\"outlinewidth\":0,\"ticks\":\"\"}},\"type\":\"scattergeo\"}],\"scattergl\":[{\"marker\":{\"line\":{\"color\":\"#283442\"}},\"type\":\"scattergl\"}],\"scattermapbox\":[{\"marker\":{\"colorbar\":{\"outlinewidth\":0,\"ticks\":\"\"}},\"type\":\"scattermapbox\"}],\"scatterpolargl\":[{\"marker\":{\"colorbar\":{\"outlinewidth\":0,\"ticks\":\"\"}},\"type\":\"scatterpolargl\"}],\"scatterpolar\":[{\"marker\":{\"colorbar\":{\"outlinewidth\":0,\"ticks\":\"\"}},\"type\":\"scatterpolar\"}],\"scatter\":[{\"marker\":{\"line\":{\"color\":\"#283442\"}},\"type\":\"scatter\"}],\"scatterternary\":[{\"marker\":{\"colorbar\":{\"outlinewidth\":0,\"ticks\":\"\"}},\"type\":\"scatterternary\"}],\"surface\":[{\"colorbar\":{\"outlinewidth\":0,\"ticks\":\"\"},\"colorscale\":[[0.0,\"#0d0887\"],[0.1111111111111111,\"#46039f\"],[0.2222222222222222,\"#7201a8\"],[0.3333333333333333,\"#9c179e\"],[0.4444444444444444,\"#bd3786\"],[0.5555555555555556,\"#d8576b\"],[0.6666666666666666,\"#ed7953\"],[0.7777777777777778,\"#fb9f3a\"],[0.8888888888888888,\"#fdca26\"],[1.0,\"#f0f921\"]],\"type\":\"surface\"}],\"table\":[{\"cells\":{\"fill\":{\"color\":\"#506784\"},\"line\":{\"color\":\"rgb(17,17,17)\"}},\"header\":{\"fill\":{\"color\":\"#2a3f5f\"},\"line\":{\"color\":\"rgb(17,17,17)\"}},\"type\":\"table\"}]},\"layout\":{\"annotationdefaults\":{\"arrowcolor\":\"#f2f5fa\",\"arrowhead\":0,\"arrowwidth\":1},\"autotypenumbers\":\"strict\",\"coloraxis\":{\"colorbar\":{\"outlinewidth\":0,\"ticks\":\"\"}},\"colorscale\":{\"diverging\":[[0,\"#8e0152\"],[0.1,\"#c51b7d\"],[0.2,\"#de77ae\"],[0.3,\"#f1b6da\"],[0.4,\"#fde0ef\"],[0.5,\"#f7f7f7\"],[0.6,\"#e6f5d0\"],[0.7,\"#b8e186\"],[0.8,\"#7fbc41\"],[0.9,\"#4d9221\"],[1,\"#276419\"]],\"sequential\":[[0.0,\"#0d0887\"],[0.1111111111111111,\"#46039f\"],[0.2222222222222222,\"#7201a8\"],[0.3333333333333333,\"#9c179e\"],[0.4444444444444444,\"#bd3786\"],[0.5555555555555556,\"#d8576b\"],[0.6666666666666666,\"#ed7953\"],[0.7777777777777778,\"#fb9f3a\"],[0.8888888888888888,\"#fdca26\"],[1.0,\"#f0f921\"]],\"sequentialminus\":[[0.0,\"#0d0887\"],[0.1111111111111111,\"#46039f\"],[0.2222222222222222,\"#7201a8\"],[0.3333333333333333,\"#9c179e\"],[0.4444444444444444,\"#bd3786\"],[0.5555555555555556,\"#d8576b\"],[0.6666666666666666,\"#ed7953\"],[0.7777777777777778,\"#fb9f3a\"],[0.8888888888888888,\"#fdca26\"],[1.0,\"#f0f921\"]]},\"colorway\":[\"#636efa\",\"#EF553B\",\"#00cc96\",\"#ab63fa\",\"#FFA15A\",\"#19d3f3\",\"#FF6692\",\"#B6E880\",\"#FF97FF\",\"#FECB52\"],\"font\":{\"color\":\"#f2f5fa\"},\"geo\":{\"bgcolor\":\"rgb(17,17,17)\",\"lakecolor\":\"rgb(17,17,17)\",\"landcolor\":\"rgb(17,17,17)\",\"showlakes\":true,\"showland\":true,\"subunitcolor\":\"#506784\"},\"hoverlabel\":{\"align\":\"left\"},\"hovermode\":\"closest\",\"mapbox\":{\"style\":\"dark\"},\"paper_bgcolor\":\"rgb(17,17,17)\",\"plot_bgcolor\":\"rgb(17,17,17)\",\"polar\":{\"angularaxis\":{\"gridcolor\":\"#506784\",\"linecolor\":\"#506784\",\"ticks\":\"\"},\"bgcolor\":\"rgb(17,17,17)\",\"radialaxis\":{\"gridcolor\":\"#506784\",\"linecolor\":\"#506784\",\"ticks\":\"\"}},\"scene\":{\"xaxis\":{\"backgroundcolor\":\"rgb(17,17,17)\",\"gridcolor\":\"#506784\",\"gridwidth\":2,\"linecolor\":\"#506784\",\"showbackground\":true,\"ticks\":\"\",\"zerolinecolor\":\"#C8D4E3\"},\"yaxis\":{\"backgroundcolor\":\"rgb(17,17,17)\",\"gridcolor\":\"#506784\",\"gridwidth\":2,\"linecolor\":\"#506784\",\"showbackground\":true,\"ticks\":\"\",\"zerolinecolor\":\"#C8D4E3\"},\"zaxis\":{\"backgroundcolor\":\"rgb(17,17,17)\",\"gridcolor\":\"#506784\",\"gridwidth\":2,\"linecolor\":\"#506784\",\"showbackground\":true,\"ticks\":\"\",\"zerolinecolor\":\"#C8D4E3\"}},\"shapedefaults\":{\"line\":{\"color\":\"#f2f5fa\"}},\"sliderdefaults\":{\"bgcolor\":\"#C8D4E3\",\"bordercolor\":\"rgb(17,17,17)\",\"borderwidth\":1,\"tickwidth\":0},\"ternary\":{\"aaxis\":{\"gridcolor\":\"#506784\",\"linecolor\":\"#506784\",\"ticks\":\"\"},\"baxis\":{\"gridcolor\":\"#506784\",\"linecolor\":\"#506784\",\"ticks\":\"\"},\"bgcolor\":\"rgb(17,17,17)\",\"caxis\":{\"gridcolor\":\"#506784\",\"linecolor\":\"#506784\",\"ticks\":\"\"}},\"title\":{\"x\":0.05},\"updatemenudefaults\":{\"bgcolor\":\"#506784\",\"borderwidth\":0},\"xaxis\":{\"automargin\":true,\"gridcolor\":\"#283442\",\"linecolor\":\"#506784\",\"ticks\":\"\",\"title\":{\"standoff\":15},\"zerolinecolor\":\"#283442\",\"zerolinewidth\":2},\"yaxis\":{\"automargin\":true,\"gridcolor\":\"#283442\",\"linecolor\":\"#506784\",\"ticks\":\"\",\"title\":{\"standoff\":15},\"zerolinecolor\":\"#283442\",\"zerolinewidth\":2}}},\"xaxis\":{\"anchor\":\"y\",\"domain\":[0.0,1.0],\"title\":{\"text\":\"LiverFunctionTest\"}},\"yaxis\":{\"anchor\":\"x\",\"domain\":[0.0,1.0],\"title\":{\"text\":\"count\"}},\"legend\":{\"tracegroupgap\":0},\"title\":{\"text\":\"LiverFunctionTest Distribution\",\"x\":0.5},\"barmode\":\"relative\",\"width\":800,\"height\":600},                        {\"responsive\": true}                    ).then(function(){\n",
       "                            \n",
       "var gd = document.getElementById('0e65d4da-c139-4eed-b346-ae9022a8b3be');\n",
       "var x = new MutationObserver(function (mutations, observer) {{\n",
       "        var display = window.getComputedStyle(gd).display;\n",
       "        if (!display || display === 'none') {{\n",
       "            console.log([gd, 'removed!']);\n",
       "            Plotly.purge(gd);\n",
       "            observer.disconnect();\n",
       "        }}\n",
       "}});\n",
       "\n",
       "// Listen for the removal of the full notebook cells\n",
       "var notebookContainer = gd.closest('#notebook-container');\n",
       "if (notebookContainer) {{\n",
       "    x.observe(notebookContainer, {childList: true});\n",
       "}}\n",
       "\n",
       "// Listen for the clearing of the current output cell\n",
       "var outputEl = gd.closest('.output');\n",
       "if (outputEl) {{\n",
       "    x.observe(outputEl, {childList: true});\n",
       "}}\n",
       "\n",
       "                        })                };                });            </script>        </div>"
      ]
     },
     "metadata": {},
     "output_type": "display_data"
    }
   ],
   "source": [
    "plt = px.histogram(data, x=\"LiverFunctionTest\", title=\"LiverFunctionTest Distribution\",text_auto=True, color_discrete_sequence=px.colors.sequential.ice)\n",
    "plt.update_layout(\n",
    "    title_x=0.5,\n",
    "    template=\"plotly_dark\",  \n",
    "    width=800,              \n",
    "    height=600 \n",
    ")\n",
    "plt.show()"
   ]
  },
  {
   "cell_type": "code",
   "execution_count": 45,
   "id": "2d3e34da",
   "metadata": {
    "execution": {
     "iopub.execute_input": "2024-09-05T23:23:08.672295Z",
     "iopub.status.busy": "2024-09-05T23:23:08.671463Z",
     "iopub.status.idle": "2024-09-05T23:23:08.680515Z",
     "shell.execute_reply": "2024-09-05T23:23:08.679666Z"
    },
    "papermill": {
     "duration": 0.04776,
     "end_time": "2024-09-05T23:23:08.682481",
     "exception": false,
     "start_time": "2024-09-05T23:23:08.634721",
     "status": "completed"
    },
    "tags": []
   },
   "outputs": [
    {
     "data": {
      "text/html": [
       "<div>\n",
       "<style scoped>\n",
       "    .dataframe tbody tr th:only-of-type {\n",
       "        vertical-align: middle;\n",
       "    }\n",
       "\n",
       "    .dataframe tbody tr th {\n",
       "        vertical-align: top;\n",
       "    }\n",
       "\n",
       "    .dataframe thead th {\n",
       "        text-align: right;\n",
       "    }\n",
       "</style>\n",
       "<table border=\"1\" class=\"dataframe\">\n",
       "  <thead>\n",
       "    <tr style=\"text-align: right;\">\n",
       "      <th></th>\n",
       "      <th>count</th>\n",
       "    </tr>\n",
       "    <tr>\n",
       "      <th>Diagnosis</th>\n",
       "      <th></th>\n",
       "    </tr>\n",
       "  </thead>\n",
       "  <tbody>\n",
       "    <tr>\n",
       "      <th>1</th>\n",
       "      <td>936</td>\n",
       "    </tr>\n",
       "    <tr>\n",
       "      <th>0</th>\n",
       "      <td>764</td>\n",
       "    </tr>\n",
       "  </tbody>\n",
       "</table>\n",
       "</div>"
      ],
      "text/plain": [
       "           count\n",
       "Diagnosis       \n",
       "1            936\n",
       "0            764"
      ]
     },
     "execution_count": 45,
     "metadata": {},
     "output_type": "execute_result"
    }
   ],
   "source": [
    "### Diagnosis Distrbution\n",
    "data.Diagnosis.value_counts().to_frame()"
   ]
  },
  {
   "cell_type": "code",
   "execution_count": 46,
   "id": "f4c1895c",
   "metadata": {
    "execution": {
     "iopub.execute_input": "2024-09-05T23:23:08.749246Z",
     "iopub.status.busy": "2024-09-05T23:23:08.748873Z",
     "iopub.status.idle": "2024-09-05T23:23:08.818903Z",
     "shell.execute_reply": "2024-09-05T23:23:08.817863Z"
    },
    "papermill": {
     "duration": 0.104809,
     "end_time": "2024-09-05T23:23:08.820791",
     "exception": false,
     "start_time": "2024-09-05T23:23:08.715982",
     "status": "completed"
    },
    "tags": []
   },
   "outputs": [
    {
     "data": {
      "text/html": [
       "<div>                            <div id=\"b2311058-beff-4054-9ff8-c9a90e974c8f\" class=\"plotly-graph-div\" style=\"height:600px; width:800px;\"></div>            <script type=\"text/javascript\">                require([\"plotly\"], function(Plotly) {                    window.PLOTLYENV=window.PLOTLYENV || {};                                    if (document.getElementById(\"b2311058-beff-4054-9ff8-c9a90e974c8f\")) {                    Plotly.newPlot(                        \"b2311058-beff-4054-9ff8-c9a90e974c8f\",                        [{\"domain\":{\"x\":[0.0,1.0],\"y\":[0.0,1.0]},\"hovertemplate\":\"Diagnosis=%{label}\\u003cextra\\u003e\\u003c\\u002fextra\\u003e\",\"labels\":[1,1,0,1,1,1,0,0,1,1,0,0,0,1,0,0,1,1,1,1,0,0,0,0,1,0,1,1,1,0,1,0,1,1,0,1,0,1,1,1,1,1,1,1,1,0,0,1,1,1,1,0,1,0,1,1,1,1,0,0,0,1,0,0,1,1,1,0,0,0,1,0,1,1,0,0,0,0,1,0,1,0,0,1,0,0,0,1,0,1,1,0,1,0,1,1,1,0,0,1,1,0,0,0,0,1,1,1,0,1,0,1,0,1,1,0,1,1,1,1,0,1,1,0,0,1,0,0,0,0,0,1,0,1,0,1,1,0,1,1,1,0,1,0,1,1,1,0,1,0,0,1,0,1,0,1,1,1,1,1,0,1,0,0,1,0,0,1,1,0,1,0,0,1,1,0,1,0,0,1,1,1,1,0,0,1,1,0,1,1,0,1,1,1,0,0,1,1,0,1,1,1,0,0,0,0,1,0,1,1,1,0,1,1,1,1,1,0,1,0,1,1,0,1,1,0,0,0,1,1,1,1,1,1,1,0,0,1,0,0,0,1,1,0,0,0,1,1,0,1,1,1,1,1,1,1,1,0,1,0,0,0,1,1,0,0,1,0,0,1,0,1,0,1,1,0,1,0,1,0,1,0,1,0,1,1,1,0,0,1,0,1,1,1,0,0,0,0,1,0,0,0,0,0,1,1,1,1,0,0,1,1,1,0,1,1,1,0,0,0,1,1,1,1,1,1,1,0,1,1,0,1,1,1,0,0,0,1,0,0,1,0,0,0,0,0,1,1,1,0,1,1,0,1,0,1,0,1,1,1,1,1,0,1,1,1,1,1,1,0,0,1,0,1,0,1,1,1,0,0,1,0,1,0,0,0,0,1,1,1,1,1,0,1,0,1,1,1,0,0,1,0,0,1,1,1,1,0,0,1,1,1,0,0,0,1,0,0,0,1,0,1,1,0,0,1,1,0,0,0,0,1,0,1,1,1,0,0,1,1,0,0,1,1,1,0,1,1,0,1,0,0,0,0,0,1,1,1,1,1,0,1,0,1,0,1,0,0,0,1,1,0,1,0,0,0,1,1,1,0,1,1,0,0,1,0,1,0,1,1,0,0,1,1,0,0,1,0,0,1,0,1,0,0,0,1,1,1,0,1,1,1,1,0,0,1,0,0,0,0,1,1,0,0,1,1,0,0,0,0,0,0,0,1,0,1,1,0,0,0,1,1,1,1,1,1,0,0,0,1,1,0,0,0,0,1,1,0,1,0,1,1,1,0,0,1,1,1,1,1,1,0,1,0,1,1,1,0,1,0,0,0,1,0,0,0,1,1,0,1,1,1,0,1,1,1,1,0,0,0,0,1,0,0,1,0,0,0,0,1,1,1,0,0,0,0,1,0,0,1,1,1,0,0,0,0,0,0,1,0,1,1,0,1,0,0,1,1,1,0,0,0,0,0,1,1,1,0,1,1,1,0,1,1,0,1,1,0,0,0,1,1,0,0,1,0,1,1,1,1,1,1,0,1,1,0,0,1,1,1,0,1,1,1,1,1,1,1,0,1,1,1,1,0,1,1,1,0,1,0,0,0,1,0,1,1,0,1,1,1,1,1,1,0,0,0,1,1,1,0,0,1,0,1,1,1,0,0,0,1,1,0,0,1,1,0,1,0,1,1,0,1,0,0,1,0,0,1,0,0,1,1,0,0,0,1,1,1,1,0,0,0,0,1,0,1,1,1,0,0,1,1,0,1,0,1,0,1,0,0,0,1,0,1,1,1,1,1,1,1,1,0,0,1,1,1,0,0,1,0,0,0,0,0,1,1,0,1,0,0,0,1,1,0,0,0,0,1,0,0,1,1,1,0,0,0,1,1,0,1,0,0,1,1,0,0,0,0,0,0,1,1,0,1,1,1,0,1,1,0,0,0,1,0,1,1,1,0,0,1,1,1,1,0,0,1,1,0,1,0,1,1,1,1,0,1,1,1,1,1,1,0,0,0,0,1,1,1,1,0,1,1,0,1,0,1,1,0,0,0,0,1,1,1,1,0,0,1,1,1,1,1,1,0,1,0,0,1,0,1,1,1,1,0,0,0,0,1,0,1,1,1,1,0,1,1,0,1,1,1,1,1,1,0,0,1,0,0,1,1,0,0,1,1,0,1,0,0,1,0,1,0,1,0,1,0,1,0,1,1,1,1,0,0,0,0,1,0,1,1,1,1,0,1,1,0,0,1,0,1,1,1,1,0,0,0,1,0,1,0,1,0,0,0,1,1,0,1,1,1,0,1,1,0,0,1,1,0,1,0,0,0,1,0,1,1,0,1,0,0,0,1,0,1,0,1,0,1,0,1,0,1,1,0,1,0,1,0,1,0,0,0,1,1,0,1,1,0,1,0,0,1,1,1,0,1,1,0,1,1,0,1,0,1,0,0,0,0,0,1,1,0,1,1,0,1,0,1,1,1,1,0,1,1,1,1,0,0,1,1,1,1,0,1,1,1,0,0,0,0,1,1,1,1,1,1,1,0,0,1,1,1,1,1,1,1,1,0,1,1,1,0,0,0,0,0,1,0,1,1,1,0,1,0,1,1,0,1,1,1,1,1,0,0,0,0,0,1,1,0,0,1,0,1,0,1,0,1,1,0,1,0,0,0,0,0,1,0,0,0,0,1,0,0,1,1,1,1,0,1,1,1,1,1,1,0,1,0,1,1,0,1,0,1,1,1,0,0,0,0,0,0,0,1,1,0,1,0,1,0,0,1,0,1,0,0,1,1,0,1,1,1,1,0,1,0,1,0,0,1,1,0,0,0,1,1,1,1,0,0,0,1,1,0,1,0,1,0,0,0,1,0,1,1,1,1,1,0,1,0,1,0,0,0,0,0,0,1,1,1,1,0,1,1,1,1,1,1,0,1,1,1,0,1,0,1,0,1,0,1,1,1,1,0,0,1,0,0,0,1,1,1,1,1,1,0,1,1,0,1,1,0,1,1,1,0,0,1,0,0,0,1,1,0,0,1,1,1,1,0,1,1,0,1,0,1,1,0,0,0,1,0,1,1,0,1,1,1,1,1,0,0,1,1,1,1,0,1,0,1,1,1,0,0,1,0,0,1,1,1,1,0,1,1,0,1,1,0,0,1,1,1,1,0,1,1,1,1,1,1,1,1,1,0,0,1,1,1,1,0,1,0,1,1,1,1,1,1,1,0,1,1,1,1,0,1,1,1,1,1,1,0,0,1,1,0,0,1,0,0,1,1,0,1,1,1,1,0,0,1,0,1,0,0,1,1,1,0,1,0,1,1,1,1,0,0,0,0,1,0,1,0,1,0,0,0,1,0,1,0,1,1,0,1,1,0,1,0,0,1,1,1,1,1,0,1,0,0,1,1,0,0,1,1,1,0,1,1,0,1,0,0,1,0,1,1,1,0,0,1,1,1,1,0,0,0,0,1,0,1,0,0,0,1,0,0,1,1,0,1,0,1,0,1,0,0,1,1,1,1,1,1,1,1,0,1,0,0,1,0,1,0,1,0,1,1,0,0,1,0,1,0,1,0,1,0,1,0,1,0,0,1,0,0,1,1,1,1,0,0,0,1,0,0,1,0,0,1,0,1,1,0,0,0,1,1,0,0,1,0,0,1,0,0,0,0,1,1,1,1,0,0,0,0,1,0,0,1,1,1,0,1,0,0,1,1,1,0,0,0,1,0,0,0,0,1,0,1,1,0,0,1,0,1,0,0,1,0,1,1,0,1,0,0,0,1,0,0,1,1,1,1,0,0,0,0,1,1,0,1,1,1,1,1,0,0,1,1,0,0,1,1,1,0,1,1,1,1,1,1],\"legendgroup\":\"\",\"name\":\"\",\"showlegend\":true,\"type\":\"pie\"}],                        {\"template\":{\"data\":{\"barpolar\":[{\"marker\":{\"line\":{\"color\":\"rgb(17,17,17)\",\"width\":0.5},\"pattern\":{\"fillmode\":\"overlay\",\"size\":10,\"solidity\":0.2}},\"type\":\"barpolar\"}],\"bar\":[{\"error_x\":{\"color\":\"#f2f5fa\"},\"error_y\":{\"color\":\"#f2f5fa\"},\"marker\":{\"line\":{\"color\":\"rgb(17,17,17)\",\"width\":0.5},\"pattern\":{\"fillmode\":\"overlay\",\"size\":10,\"solidity\":0.2}},\"type\":\"bar\"}],\"carpet\":[{\"aaxis\":{\"endlinecolor\":\"#A2B1C6\",\"gridcolor\":\"#506784\",\"linecolor\":\"#506784\",\"minorgridcolor\":\"#506784\",\"startlinecolor\":\"#A2B1C6\"},\"baxis\":{\"endlinecolor\":\"#A2B1C6\",\"gridcolor\":\"#506784\",\"linecolor\":\"#506784\",\"minorgridcolor\":\"#506784\",\"startlinecolor\":\"#A2B1C6\"},\"type\":\"carpet\"}],\"choropleth\":[{\"colorbar\":{\"outlinewidth\":0,\"ticks\":\"\"},\"type\":\"choropleth\"}],\"contourcarpet\":[{\"colorbar\":{\"outlinewidth\":0,\"ticks\":\"\"},\"type\":\"contourcarpet\"}],\"contour\":[{\"colorbar\":{\"outlinewidth\":0,\"ticks\":\"\"},\"colorscale\":[[0.0,\"#0d0887\"],[0.1111111111111111,\"#46039f\"],[0.2222222222222222,\"#7201a8\"],[0.3333333333333333,\"#9c179e\"],[0.4444444444444444,\"#bd3786\"],[0.5555555555555556,\"#d8576b\"],[0.6666666666666666,\"#ed7953\"],[0.7777777777777778,\"#fb9f3a\"],[0.8888888888888888,\"#fdca26\"],[1.0,\"#f0f921\"]],\"type\":\"contour\"}],\"heatmapgl\":[{\"colorbar\":{\"outlinewidth\":0,\"ticks\":\"\"},\"colorscale\":[[0.0,\"#0d0887\"],[0.1111111111111111,\"#46039f\"],[0.2222222222222222,\"#7201a8\"],[0.3333333333333333,\"#9c179e\"],[0.4444444444444444,\"#bd3786\"],[0.5555555555555556,\"#d8576b\"],[0.6666666666666666,\"#ed7953\"],[0.7777777777777778,\"#fb9f3a\"],[0.8888888888888888,\"#fdca26\"],[1.0,\"#f0f921\"]],\"type\":\"heatmapgl\"}],\"heatmap\":[{\"colorbar\":{\"outlinewidth\":0,\"ticks\":\"\"},\"colorscale\":[[0.0,\"#0d0887\"],[0.1111111111111111,\"#46039f\"],[0.2222222222222222,\"#7201a8\"],[0.3333333333333333,\"#9c179e\"],[0.4444444444444444,\"#bd3786\"],[0.5555555555555556,\"#d8576b\"],[0.6666666666666666,\"#ed7953\"],[0.7777777777777778,\"#fb9f3a\"],[0.8888888888888888,\"#fdca26\"],[1.0,\"#f0f921\"]],\"type\":\"heatmap\"}],\"histogram2dcontour\":[{\"colorbar\":{\"outlinewidth\":0,\"ticks\":\"\"},\"colorscale\":[[0.0,\"#0d0887\"],[0.1111111111111111,\"#46039f\"],[0.2222222222222222,\"#7201a8\"],[0.3333333333333333,\"#9c179e\"],[0.4444444444444444,\"#bd3786\"],[0.5555555555555556,\"#d8576b\"],[0.6666666666666666,\"#ed7953\"],[0.7777777777777778,\"#fb9f3a\"],[0.8888888888888888,\"#fdca26\"],[1.0,\"#f0f921\"]],\"type\":\"histogram2dcontour\"}],\"histogram2d\":[{\"colorbar\":{\"outlinewidth\":0,\"ticks\":\"\"},\"colorscale\":[[0.0,\"#0d0887\"],[0.1111111111111111,\"#46039f\"],[0.2222222222222222,\"#7201a8\"],[0.3333333333333333,\"#9c179e\"],[0.4444444444444444,\"#bd3786\"],[0.5555555555555556,\"#d8576b\"],[0.6666666666666666,\"#ed7953\"],[0.7777777777777778,\"#fb9f3a\"],[0.8888888888888888,\"#fdca26\"],[1.0,\"#f0f921\"]],\"type\":\"histogram2d\"}],\"histogram\":[{\"marker\":{\"pattern\":{\"fillmode\":\"overlay\",\"size\":10,\"solidity\":0.2}},\"type\":\"histogram\"}],\"mesh3d\":[{\"colorbar\":{\"outlinewidth\":0,\"ticks\":\"\"},\"type\":\"mesh3d\"}],\"parcoords\":[{\"line\":{\"colorbar\":{\"outlinewidth\":0,\"ticks\":\"\"}},\"type\":\"parcoords\"}],\"pie\":[{\"automargin\":true,\"type\":\"pie\"}],\"scatter3d\":[{\"line\":{\"colorbar\":{\"outlinewidth\":0,\"ticks\":\"\"}},\"marker\":{\"colorbar\":{\"outlinewidth\":0,\"ticks\":\"\"}},\"type\":\"scatter3d\"}],\"scattercarpet\":[{\"marker\":{\"colorbar\":{\"outlinewidth\":0,\"ticks\":\"\"}},\"type\":\"scattercarpet\"}],\"scattergeo\":[{\"marker\":{\"colorbar\":{\"outlinewidth\":0,\"ticks\":\"\"}},\"type\":\"scattergeo\"}],\"scattergl\":[{\"marker\":{\"line\":{\"color\":\"#283442\"}},\"type\":\"scattergl\"}],\"scattermapbox\":[{\"marker\":{\"colorbar\":{\"outlinewidth\":0,\"ticks\":\"\"}},\"type\":\"scattermapbox\"}],\"scatterpolargl\":[{\"marker\":{\"colorbar\":{\"outlinewidth\":0,\"ticks\":\"\"}},\"type\":\"scatterpolargl\"}],\"scatterpolar\":[{\"marker\":{\"colorbar\":{\"outlinewidth\":0,\"ticks\":\"\"}},\"type\":\"scatterpolar\"}],\"scatter\":[{\"marker\":{\"line\":{\"color\":\"#283442\"}},\"type\":\"scatter\"}],\"scatterternary\":[{\"marker\":{\"colorbar\":{\"outlinewidth\":0,\"ticks\":\"\"}},\"type\":\"scatterternary\"}],\"surface\":[{\"colorbar\":{\"outlinewidth\":0,\"ticks\":\"\"},\"colorscale\":[[0.0,\"#0d0887\"],[0.1111111111111111,\"#46039f\"],[0.2222222222222222,\"#7201a8\"],[0.3333333333333333,\"#9c179e\"],[0.4444444444444444,\"#bd3786\"],[0.5555555555555556,\"#d8576b\"],[0.6666666666666666,\"#ed7953\"],[0.7777777777777778,\"#fb9f3a\"],[0.8888888888888888,\"#fdca26\"],[1.0,\"#f0f921\"]],\"type\":\"surface\"}],\"table\":[{\"cells\":{\"fill\":{\"color\":\"#506784\"},\"line\":{\"color\":\"rgb(17,17,17)\"}},\"header\":{\"fill\":{\"color\":\"#2a3f5f\"},\"line\":{\"color\":\"rgb(17,17,17)\"}},\"type\":\"table\"}]},\"layout\":{\"annotationdefaults\":{\"arrowcolor\":\"#f2f5fa\",\"arrowhead\":0,\"arrowwidth\":1},\"autotypenumbers\":\"strict\",\"coloraxis\":{\"colorbar\":{\"outlinewidth\":0,\"ticks\":\"\"}},\"colorscale\":{\"diverging\":[[0,\"#8e0152\"],[0.1,\"#c51b7d\"],[0.2,\"#de77ae\"],[0.3,\"#f1b6da\"],[0.4,\"#fde0ef\"],[0.5,\"#f7f7f7\"],[0.6,\"#e6f5d0\"],[0.7,\"#b8e186\"],[0.8,\"#7fbc41\"],[0.9,\"#4d9221\"],[1,\"#276419\"]],\"sequential\":[[0.0,\"#0d0887\"],[0.1111111111111111,\"#46039f\"],[0.2222222222222222,\"#7201a8\"],[0.3333333333333333,\"#9c179e\"],[0.4444444444444444,\"#bd3786\"],[0.5555555555555556,\"#d8576b\"],[0.6666666666666666,\"#ed7953\"],[0.7777777777777778,\"#fb9f3a\"],[0.8888888888888888,\"#fdca26\"],[1.0,\"#f0f921\"]],\"sequentialminus\":[[0.0,\"#0d0887\"],[0.1111111111111111,\"#46039f\"],[0.2222222222222222,\"#7201a8\"],[0.3333333333333333,\"#9c179e\"],[0.4444444444444444,\"#bd3786\"],[0.5555555555555556,\"#d8576b\"],[0.6666666666666666,\"#ed7953\"],[0.7777777777777778,\"#fb9f3a\"],[0.8888888888888888,\"#fdca26\"],[1.0,\"#f0f921\"]]},\"colorway\":[\"#636efa\",\"#EF553B\",\"#00cc96\",\"#ab63fa\",\"#FFA15A\",\"#19d3f3\",\"#FF6692\",\"#B6E880\",\"#FF97FF\",\"#FECB52\"],\"font\":{\"color\":\"#f2f5fa\"},\"geo\":{\"bgcolor\":\"rgb(17,17,17)\",\"lakecolor\":\"rgb(17,17,17)\",\"landcolor\":\"rgb(17,17,17)\",\"showlakes\":true,\"showland\":true,\"subunitcolor\":\"#506784\"},\"hoverlabel\":{\"align\":\"left\"},\"hovermode\":\"closest\",\"mapbox\":{\"style\":\"dark\"},\"paper_bgcolor\":\"rgb(17,17,17)\",\"plot_bgcolor\":\"rgb(17,17,17)\",\"polar\":{\"angularaxis\":{\"gridcolor\":\"#506784\",\"linecolor\":\"#506784\",\"ticks\":\"\"},\"bgcolor\":\"rgb(17,17,17)\",\"radialaxis\":{\"gridcolor\":\"#506784\",\"linecolor\":\"#506784\",\"ticks\":\"\"}},\"scene\":{\"xaxis\":{\"backgroundcolor\":\"rgb(17,17,17)\",\"gridcolor\":\"#506784\",\"gridwidth\":2,\"linecolor\":\"#506784\",\"showbackground\":true,\"ticks\":\"\",\"zerolinecolor\":\"#C8D4E3\"},\"yaxis\":{\"backgroundcolor\":\"rgb(17,17,17)\",\"gridcolor\":\"#506784\",\"gridwidth\":2,\"linecolor\":\"#506784\",\"showbackground\":true,\"ticks\":\"\",\"zerolinecolor\":\"#C8D4E3\"},\"zaxis\":{\"backgroundcolor\":\"rgb(17,17,17)\",\"gridcolor\":\"#506784\",\"gridwidth\":2,\"linecolor\":\"#506784\",\"showbackground\":true,\"ticks\":\"\",\"zerolinecolor\":\"#C8D4E3\"}},\"shapedefaults\":{\"line\":{\"color\":\"#f2f5fa\"}},\"sliderdefaults\":{\"bgcolor\":\"#C8D4E3\",\"bordercolor\":\"rgb(17,17,17)\",\"borderwidth\":1,\"tickwidth\":0},\"ternary\":{\"aaxis\":{\"gridcolor\":\"#506784\",\"linecolor\":\"#506784\",\"ticks\":\"\"},\"baxis\":{\"gridcolor\":\"#506784\",\"linecolor\":\"#506784\",\"ticks\":\"\"},\"bgcolor\":\"rgb(17,17,17)\",\"caxis\":{\"gridcolor\":\"#506784\",\"linecolor\":\"#506784\",\"ticks\":\"\"}},\"title\":{\"x\":0.05},\"updatemenudefaults\":{\"bgcolor\":\"#506784\",\"borderwidth\":0},\"xaxis\":{\"automargin\":true,\"gridcolor\":\"#283442\",\"linecolor\":\"#506784\",\"ticks\":\"\",\"title\":{\"standoff\":15},\"zerolinecolor\":\"#283442\",\"zerolinewidth\":2},\"yaxis\":{\"automargin\":true,\"gridcolor\":\"#283442\",\"linecolor\":\"#506784\",\"ticks\":\"\",\"title\":{\"standoff\":15},\"zerolinecolor\":\"#283442\",\"zerolinewidth\":2}}},\"legend\":{\"tracegroupgap\":0},\"title\":{\"text\":\"Diagnosis Distribution\",\"x\":0.5},\"piecolorway\":[\"rgb(243, 203, 211)\",\"rgb(234, 169, 189)\",\"rgb(221, 136, 172)\",\"rgb(202, 105, 157)\",\"rgb(177, 77, 142)\",\"rgb(145, 53, 125)\",\"rgb(108, 33, 103)\"],\"width\":800,\"height\":600},                        {\"responsive\": true}                    ).then(function(){\n",
       "                            \n",
       "var gd = document.getElementById('b2311058-beff-4054-9ff8-c9a90e974c8f');\n",
       "var x = new MutationObserver(function (mutations, observer) {{\n",
       "        var display = window.getComputedStyle(gd).display;\n",
       "        if (!display || display === 'none') {{\n",
       "            console.log([gd, 'removed!']);\n",
       "            Plotly.purge(gd);\n",
       "            observer.disconnect();\n",
       "        }}\n",
       "}});\n",
       "\n",
       "// Listen for the removal of the full notebook cells\n",
       "var notebookContainer = gd.closest('#notebook-container');\n",
       "if (notebookContainer) {{\n",
       "    x.observe(notebookContainer, {childList: true});\n",
       "}}\n",
       "\n",
       "// Listen for the clearing of the current output cell\n",
       "var outputEl = gd.closest('.output');\n",
       "if (outputEl) {{\n",
       "    x.observe(outputEl, {childList: true});\n",
       "}}\n",
       "\n",
       "                        })                };                });            </script>        </div>"
      ]
     },
     "metadata": {},
     "output_type": "display_data"
    }
   ],
   "source": [
    "plt = px.pie(data, names=\"Diagnosis\", title=\"Diagnosis Distribution\", color_discrete_sequence=px.colors.sequential.Magenta)\n",
    "plt.update_layout(\n",
    "    title_x=0.5,\n",
    "    template=\"plotly_dark\",  \n",
    "    width=800,              \n",
    "    height=600 \n",
    ")\n",
    "plt.show()"
   ]
  },
  {
   "cell_type": "code",
   "execution_count": 47,
   "id": "07294c6b",
   "metadata": {
    "execution": {
     "iopub.execute_input": "2024-09-05T23:23:08.888097Z",
     "iopub.status.busy": "2024-09-05T23:23:08.887434Z",
     "iopub.status.idle": "2024-09-05T23:23:08.894823Z",
     "shell.execute_reply": "2024-09-05T23:23:08.893955Z"
    },
    "papermill": {
     "duration": 0.042884,
     "end_time": "2024-09-05T23:23:08.896690",
     "exception": false,
     "start_time": "2024-09-05T23:23:08.853806",
     "status": "completed"
    },
    "tags": []
   },
   "outputs": [
    {
     "data": {
      "text/plain": [
       "['Gender', 'Smoking', 'GeneticRisk', 'Diabetes', 'Hypertension', 'SegmentBMI']"
      ]
     },
     "execution_count": 47,
     "metadata": {},
     "output_type": "execute_result"
    }
   ],
   "source": [
    "### Show Columns VS Gender \n",
    "columns = data.select_dtypes(include=['category','int']).columns\n",
    "columns = list(columns[1:])\n",
    "columns.pop(-2)\n",
    "columns"
   ]
  },
  {
   "cell_type": "code",
   "execution_count": 48,
   "id": "ea696871",
   "metadata": {
    "execution": {
     "iopub.execute_input": "2024-09-05T23:23:08.966436Z",
     "iopub.status.busy": "2024-09-05T23:23:08.965680Z",
     "iopub.status.idle": "2024-09-05T23:23:08.982564Z",
     "shell.execute_reply": "2024-09-05T23:23:08.981543Z"
    },
    "papermill": {
     "duration": 0.053311,
     "end_time": "2024-09-05T23:23:08.984815",
     "exception": false,
     "start_time": "2024-09-05T23:23:08.931504",
     "status": "completed"
    },
    "tags": []
   },
   "outputs": [
    {
     "name": "stdout",
     "output_type": "stream",
     "text": [
      "Gender VS Diagnosis\n",
      "\n",
      "Diagnosis  Gender\n",
      "0          0         459\n",
      "           1         305\n",
      "1          0         384\n",
      "           1         552\n",
      "Name: Gender, dtype: int64\n",
      "\n",
      "****************************************\n",
      "\n",
      "Smoking VS Diagnosis\n",
      "\n",
      "Diagnosis  Smoking\n",
      "0          0          618\n",
      "           1          146\n",
      "1          0          586\n",
      "           1          350\n",
      "Name: Smoking, dtype: int64\n",
      "\n",
      "****************************************\n",
      "\n",
      "GeneticRisk VS Diagnosis\n",
      "\n",
      "Diagnosis  GeneticRisk\n",
      "0          0              459\n",
      "           1              278\n",
      "           2               27\n",
      "1          0              519\n",
      "           1              279\n",
      "           2              138\n",
      "Name: GeneticRisk, dtype: int64\n",
      "\n",
      "****************************************\n",
      "\n",
      "Diabetes VS Diagnosis\n",
      "\n",
      "Diagnosis  Diabetes\n",
      "0          0           687\n",
      "           1            77\n",
      "1          0           771\n",
      "           1           165\n",
      "Name: Diabetes, dtype: int64\n",
      "\n",
      "****************************************\n",
      "\n",
      "Hypertension VS Diagnosis\n",
      "\n",
      "Diagnosis  Hypertension\n",
      "0          0               698\n",
      "           1                66\n",
      "1          0               739\n",
      "           1               197\n",
      "Name: Hypertension, dtype: int64\n",
      "\n",
      "****************************************\n",
      "\n",
      "SegmentBMI VS Diagnosis\n",
      "\n",
      "Diagnosis  SegmentBMI    \n",
      "0          Underweight       146\n",
      "           Normal weight     215\n",
      "           Overweight        145\n",
      "           Obese             127\n",
      "           Extremly Obese    131\n",
      "1          Underweight        97\n",
      "           Normal weight     185\n",
      "           Overweight        215\n",
      "           Obese             220\n",
      "           Extremly Obese    219\n",
      "Name: SegmentBMI, dtype: int64\n",
      "\n",
      "****************************************\n",
      "\n"
     ]
    }
   ],
   "source": [
    "for col in columns:\n",
    "    print(f'{col} VS Diagnosis\\n')\n",
    "    print(data.groupby(['Diagnosis',col])[col].count())\n",
    "    print('\\n****************************************\\n')"
   ]
  },
  {
   "cell_type": "code",
   "execution_count": 49,
   "id": "9231b0a6",
   "metadata": {
    "execution": {
     "iopub.execute_input": "2024-09-05T23:23:09.053079Z",
     "iopub.status.busy": "2024-09-05T23:23:09.052745Z",
     "iopub.status.idle": "2024-09-05T23:23:09.221846Z",
     "shell.execute_reply": "2024-09-05T23:23:09.220853Z"
    },
    "papermill": {
     "duration": 0.205268,
     "end_time": "2024-09-05T23:23:09.224426",
     "exception": false,
     "start_time": "2024-09-05T23:23:09.019158",
     "status": "completed"
    },
    "tags": []
   },
   "outputs": [
    {
     "data": {
      "text/html": [
       "<div>                            <div id=\"0557024c-6f02-471b-82b1-352c30bcfe20\" class=\"plotly-graph-div\" style=\"height:900px; width:1000px;\"></div>            <script type=\"text/javascript\">                require([\"plotly\"], function(Plotly) {                    window.PLOTLYENV=window.PLOTLYENV || {};                                    if (document.getElementById(\"0557024c-6f02-471b-82b1-352c30bcfe20\")) {                    Plotly.newPlot(                        \"0557024c-6f02-471b-82b1-352c30bcfe20\",                        [{\"marker\":{\"color\":\"rgb(139, 48, 88)\"},\"name\":\"NO\",\"text\":[459.0,305.0],\"textposition\":\"auto\",\"x\":[\"Female\",\"Male\"],\"y\":[459,305],\"type\":\"bar\",\"xaxis\":\"x\",\"yaxis\":\"y\"},{\"marker\":{\"color\":\"rgb(103, 32, 68)\"},\"name\":\"YES\",\"text\":[384.0,552.0],\"textposition\":\"auto\",\"x\":[\"Female\",\"Male\"],\"y\":[384,552],\"type\":\"bar\",\"xaxis\":\"x\",\"yaxis\":\"y\"},{\"marker\":{\"color\":\"rgb(169, 63, 98)\"},\"name\":\"NO\",\"text\":[618.0,146.0],\"textposition\":\"auto\",\"x\":[\"NO\",\"YES\"],\"y\":[618,146],\"type\":\"bar\",\"xaxis\":\"x2\",\"yaxis\":\"y2\"},{\"marker\":{\"color\":\"rgb(133, 57, 88)\"},\"name\":\"YES\",\"text\":[586.0,350.0],\"textposition\":\"auto\",\"x\":[\"NO\",\"YES\"],\"y\":[586,350],\"type\":\"bar\",\"xaxis\":\"x2\",\"yaxis\":\"y2\"},{\"marker\":{\"color\":\"rgb(199, 78, 108)\"},\"name\":\"NO\",\"text\":[459.0,278.0,27.0],\"textposition\":\"auto\",\"x\":[0,1,2],\"y\":[459,278,27],\"type\":\"bar\",\"xaxis\":\"x3\",\"yaxis\":\"y3\"},{\"marker\":{\"color\":\"rgb(163, 82, 108)\"},\"name\":\"YES\",\"text\":[519.0,279.0,138.0],\"textposition\":\"auto\",\"x\":[0,1,2],\"y\":[519,279,138],\"type\":\"bar\",\"xaxis\":\"x3\",\"yaxis\":\"y3\"},{\"marker\":{\"color\":\"rgb(229, 93, 118)\"},\"name\":\"NO\",\"text\":[687.0,77.0],\"textposition\":\"auto\",\"x\":[\"NO\",\"YES\"],\"y\":[687,77],\"type\":\"bar\",\"xaxis\":\"x4\",\"yaxis\":\"y4\"},{\"marker\":{\"color\":\"rgb(193, 107, 128)\"},\"name\":\"YES\",\"text\":[771.0,165.0],\"textposition\":\"auto\",\"x\":[\"NO\",\"YES\"],\"y\":[771,165],\"type\":\"bar\",\"xaxis\":\"x4\",\"yaxis\":\"y4\"},{\"marker\":{\"color\":\"rgb(259, 108, 128)\"},\"name\":\"NO\",\"text\":[698.0,66.0],\"textposition\":\"auto\",\"x\":[\"NO\",\"YES\"],\"y\":[698,66],\"type\":\"bar\",\"xaxis\":\"x5\",\"yaxis\":\"y5\"},{\"marker\":{\"color\":\"rgb(223, 132, 148)\"},\"name\":\"YES\",\"text\":[739.0,197.0],\"textposition\":\"auto\",\"x\":[\"NO\",\"YES\"],\"y\":[739,197],\"type\":\"bar\",\"xaxis\":\"x5\",\"yaxis\":\"y5\"},{\"marker\":{\"color\":\"rgb(289, 123, 138)\"},\"name\":\"NO\",\"text\":[146.0,215.0,145.0,127.0,131.0],\"textposition\":\"auto\",\"x\":[\"Underweight\",\"Normal weight\",\"Overweight\",\"Obese\",\"Extremly Obese\"],\"y\":[146,215,145,127,131],\"type\":\"bar\",\"xaxis\":\"x6\",\"yaxis\":\"y6\"},{\"marker\":{\"color\":\"rgb(253, 157, 168)\"},\"name\":\"YES\",\"text\":[97.0,185.0,215.0,220.0,219.0],\"textposition\":\"auto\",\"x\":[\"Underweight\",\"Normal weight\",\"Overweight\",\"Obese\",\"Extremly Obese\"],\"y\":[97,185,215,220,219],\"type\":\"bar\",\"xaxis\":\"x6\",\"yaxis\":\"y6\"}],                        {\"template\":{\"data\":{\"barpolar\":[{\"marker\":{\"line\":{\"color\":\"rgb(17,17,17)\",\"width\":0.5},\"pattern\":{\"fillmode\":\"overlay\",\"size\":10,\"solidity\":0.2}},\"type\":\"barpolar\"}],\"bar\":[{\"error_x\":{\"color\":\"#f2f5fa\"},\"error_y\":{\"color\":\"#f2f5fa\"},\"marker\":{\"line\":{\"color\":\"rgb(17,17,17)\",\"width\":0.5},\"pattern\":{\"fillmode\":\"overlay\",\"size\":10,\"solidity\":0.2}},\"type\":\"bar\"}],\"carpet\":[{\"aaxis\":{\"endlinecolor\":\"#A2B1C6\",\"gridcolor\":\"#506784\",\"linecolor\":\"#506784\",\"minorgridcolor\":\"#506784\",\"startlinecolor\":\"#A2B1C6\"},\"baxis\":{\"endlinecolor\":\"#A2B1C6\",\"gridcolor\":\"#506784\",\"linecolor\":\"#506784\",\"minorgridcolor\":\"#506784\",\"startlinecolor\":\"#A2B1C6\"},\"type\":\"carpet\"}],\"choropleth\":[{\"colorbar\":{\"outlinewidth\":0,\"ticks\":\"\"},\"type\":\"choropleth\"}],\"contourcarpet\":[{\"colorbar\":{\"outlinewidth\":0,\"ticks\":\"\"},\"type\":\"contourcarpet\"}],\"contour\":[{\"colorbar\":{\"outlinewidth\":0,\"ticks\":\"\"},\"colorscale\":[[0.0,\"#0d0887\"],[0.1111111111111111,\"#46039f\"],[0.2222222222222222,\"#7201a8\"],[0.3333333333333333,\"#9c179e\"],[0.4444444444444444,\"#bd3786\"],[0.5555555555555556,\"#d8576b\"],[0.6666666666666666,\"#ed7953\"],[0.7777777777777778,\"#fb9f3a\"],[0.8888888888888888,\"#fdca26\"],[1.0,\"#f0f921\"]],\"type\":\"contour\"}],\"heatmapgl\":[{\"colorbar\":{\"outlinewidth\":0,\"ticks\":\"\"},\"colorscale\":[[0.0,\"#0d0887\"],[0.1111111111111111,\"#46039f\"],[0.2222222222222222,\"#7201a8\"],[0.3333333333333333,\"#9c179e\"],[0.4444444444444444,\"#bd3786\"],[0.5555555555555556,\"#d8576b\"],[0.6666666666666666,\"#ed7953\"],[0.7777777777777778,\"#fb9f3a\"],[0.8888888888888888,\"#fdca26\"],[1.0,\"#f0f921\"]],\"type\":\"heatmapgl\"}],\"heatmap\":[{\"colorbar\":{\"outlinewidth\":0,\"ticks\":\"\"},\"colorscale\":[[0.0,\"#0d0887\"],[0.1111111111111111,\"#46039f\"],[0.2222222222222222,\"#7201a8\"],[0.3333333333333333,\"#9c179e\"],[0.4444444444444444,\"#bd3786\"],[0.5555555555555556,\"#d8576b\"],[0.6666666666666666,\"#ed7953\"],[0.7777777777777778,\"#fb9f3a\"],[0.8888888888888888,\"#fdca26\"],[1.0,\"#f0f921\"]],\"type\":\"heatmap\"}],\"histogram2dcontour\":[{\"colorbar\":{\"outlinewidth\":0,\"ticks\":\"\"},\"colorscale\":[[0.0,\"#0d0887\"],[0.1111111111111111,\"#46039f\"],[0.2222222222222222,\"#7201a8\"],[0.3333333333333333,\"#9c179e\"],[0.4444444444444444,\"#bd3786\"],[0.5555555555555556,\"#d8576b\"],[0.6666666666666666,\"#ed7953\"],[0.7777777777777778,\"#fb9f3a\"],[0.8888888888888888,\"#fdca26\"],[1.0,\"#f0f921\"]],\"type\":\"histogram2dcontour\"}],\"histogram2d\":[{\"colorbar\":{\"outlinewidth\":0,\"ticks\":\"\"},\"colorscale\":[[0.0,\"#0d0887\"],[0.1111111111111111,\"#46039f\"],[0.2222222222222222,\"#7201a8\"],[0.3333333333333333,\"#9c179e\"],[0.4444444444444444,\"#bd3786\"],[0.5555555555555556,\"#d8576b\"],[0.6666666666666666,\"#ed7953\"],[0.7777777777777778,\"#fb9f3a\"],[0.8888888888888888,\"#fdca26\"],[1.0,\"#f0f921\"]],\"type\":\"histogram2d\"}],\"histogram\":[{\"marker\":{\"pattern\":{\"fillmode\":\"overlay\",\"size\":10,\"solidity\":0.2}},\"type\":\"histogram\"}],\"mesh3d\":[{\"colorbar\":{\"outlinewidth\":0,\"ticks\":\"\"},\"type\":\"mesh3d\"}],\"parcoords\":[{\"line\":{\"colorbar\":{\"outlinewidth\":0,\"ticks\":\"\"}},\"type\":\"parcoords\"}],\"pie\":[{\"automargin\":true,\"type\":\"pie\"}],\"scatter3d\":[{\"line\":{\"colorbar\":{\"outlinewidth\":0,\"ticks\":\"\"}},\"marker\":{\"colorbar\":{\"outlinewidth\":0,\"ticks\":\"\"}},\"type\":\"scatter3d\"}],\"scattercarpet\":[{\"marker\":{\"colorbar\":{\"outlinewidth\":0,\"ticks\":\"\"}},\"type\":\"scattercarpet\"}],\"scattergeo\":[{\"marker\":{\"colorbar\":{\"outlinewidth\":0,\"ticks\":\"\"}},\"type\":\"scattergeo\"}],\"scattergl\":[{\"marker\":{\"line\":{\"color\":\"#283442\"}},\"type\":\"scattergl\"}],\"scattermapbox\":[{\"marker\":{\"colorbar\":{\"outlinewidth\":0,\"ticks\":\"\"}},\"type\":\"scattermapbox\"}],\"scatterpolargl\":[{\"marker\":{\"colorbar\":{\"outlinewidth\":0,\"ticks\":\"\"}},\"type\":\"scatterpolargl\"}],\"scatterpolar\":[{\"marker\":{\"colorbar\":{\"outlinewidth\":0,\"ticks\":\"\"}},\"type\":\"scatterpolar\"}],\"scatter\":[{\"marker\":{\"line\":{\"color\":\"#283442\"}},\"type\":\"scatter\"}],\"scatterternary\":[{\"marker\":{\"colorbar\":{\"outlinewidth\":0,\"ticks\":\"\"}},\"type\":\"scatterternary\"}],\"surface\":[{\"colorbar\":{\"outlinewidth\":0,\"ticks\":\"\"},\"colorscale\":[[0.0,\"#0d0887\"],[0.1111111111111111,\"#46039f\"],[0.2222222222222222,\"#7201a8\"],[0.3333333333333333,\"#9c179e\"],[0.4444444444444444,\"#bd3786\"],[0.5555555555555556,\"#d8576b\"],[0.6666666666666666,\"#ed7953\"],[0.7777777777777778,\"#fb9f3a\"],[0.8888888888888888,\"#fdca26\"],[1.0,\"#f0f921\"]],\"type\":\"surface\"}],\"table\":[{\"cells\":{\"fill\":{\"color\":\"#506784\"},\"line\":{\"color\":\"rgb(17,17,17)\"}},\"header\":{\"fill\":{\"color\":\"#2a3f5f\"},\"line\":{\"color\":\"rgb(17,17,17)\"}},\"type\":\"table\"}]},\"layout\":{\"annotationdefaults\":{\"arrowcolor\":\"#f2f5fa\",\"arrowhead\":0,\"arrowwidth\":1},\"autotypenumbers\":\"strict\",\"coloraxis\":{\"colorbar\":{\"outlinewidth\":0,\"ticks\":\"\"}},\"colorscale\":{\"diverging\":[[0,\"#8e0152\"],[0.1,\"#c51b7d\"],[0.2,\"#de77ae\"],[0.3,\"#f1b6da\"],[0.4,\"#fde0ef\"],[0.5,\"#f7f7f7\"],[0.6,\"#e6f5d0\"],[0.7,\"#b8e186\"],[0.8,\"#7fbc41\"],[0.9,\"#4d9221\"],[1,\"#276419\"]],\"sequential\":[[0.0,\"#0d0887\"],[0.1111111111111111,\"#46039f\"],[0.2222222222222222,\"#7201a8\"],[0.3333333333333333,\"#9c179e\"],[0.4444444444444444,\"#bd3786\"],[0.5555555555555556,\"#d8576b\"],[0.6666666666666666,\"#ed7953\"],[0.7777777777777778,\"#fb9f3a\"],[0.8888888888888888,\"#fdca26\"],[1.0,\"#f0f921\"]],\"sequentialminus\":[[0.0,\"#0d0887\"],[0.1111111111111111,\"#46039f\"],[0.2222222222222222,\"#7201a8\"],[0.3333333333333333,\"#9c179e\"],[0.4444444444444444,\"#bd3786\"],[0.5555555555555556,\"#d8576b\"],[0.6666666666666666,\"#ed7953\"],[0.7777777777777778,\"#fb9f3a\"],[0.8888888888888888,\"#fdca26\"],[1.0,\"#f0f921\"]]},\"colorway\":[\"#636efa\",\"#EF553B\",\"#00cc96\",\"#ab63fa\",\"#FFA15A\",\"#19d3f3\",\"#FF6692\",\"#B6E880\",\"#FF97FF\",\"#FECB52\"],\"font\":{\"color\":\"#f2f5fa\"},\"geo\":{\"bgcolor\":\"rgb(17,17,17)\",\"lakecolor\":\"rgb(17,17,17)\",\"landcolor\":\"rgb(17,17,17)\",\"showlakes\":true,\"showland\":true,\"subunitcolor\":\"#506784\"},\"hoverlabel\":{\"align\":\"left\"},\"hovermode\":\"closest\",\"mapbox\":{\"style\":\"dark\"},\"paper_bgcolor\":\"rgb(17,17,17)\",\"plot_bgcolor\":\"rgb(17,17,17)\",\"polar\":{\"angularaxis\":{\"gridcolor\":\"#506784\",\"linecolor\":\"#506784\",\"ticks\":\"\"},\"bgcolor\":\"rgb(17,17,17)\",\"radialaxis\":{\"gridcolor\":\"#506784\",\"linecolor\":\"#506784\",\"ticks\":\"\"}},\"scene\":{\"xaxis\":{\"backgroundcolor\":\"rgb(17,17,17)\",\"gridcolor\":\"#506784\",\"gridwidth\":2,\"linecolor\":\"#506784\",\"showbackground\":true,\"ticks\":\"\",\"zerolinecolor\":\"#C8D4E3\"},\"yaxis\":{\"backgroundcolor\":\"rgb(17,17,17)\",\"gridcolor\":\"#506784\",\"gridwidth\":2,\"linecolor\":\"#506784\",\"showbackground\":true,\"ticks\":\"\",\"zerolinecolor\":\"#C8D4E3\"},\"zaxis\":{\"backgroundcolor\":\"rgb(17,17,17)\",\"gridcolor\":\"#506784\",\"gridwidth\":2,\"linecolor\":\"#506784\",\"showbackground\":true,\"ticks\":\"\",\"zerolinecolor\":\"#C8D4E3\"}},\"shapedefaults\":{\"line\":{\"color\":\"#f2f5fa\"}},\"sliderdefaults\":{\"bgcolor\":\"#C8D4E3\",\"bordercolor\":\"rgb(17,17,17)\",\"borderwidth\":1,\"tickwidth\":0},\"ternary\":{\"aaxis\":{\"gridcolor\":\"#506784\",\"linecolor\":\"#506784\",\"ticks\":\"\"},\"baxis\":{\"gridcolor\":\"#506784\",\"linecolor\":\"#506784\",\"ticks\":\"\"},\"bgcolor\":\"rgb(17,17,17)\",\"caxis\":{\"gridcolor\":\"#506784\",\"linecolor\":\"#506784\",\"ticks\":\"\"}},\"title\":{\"x\":0.05},\"updatemenudefaults\":{\"bgcolor\":\"#506784\",\"borderwidth\":0},\"xaxis\":{\"automargin\":true,\"gridcolor\":\"#283442\",\"linecolor\":\"#506784\",\"ticks\":\"\",\"title\":{\"standoff\":15},\"zerolinecolor\":\"#283442\",\"zerolinewidth\":2},\"yaxis\":{\"automargin\":true,\"gridcolor\":\"#283442\",\"linecolor\":\"#506784\",\"ticks\":\"\",\"title\":{\"standoff\":15},\"zerolinecolor\":\"#283442\",\"zerolinewidth\":2}}},\"xaxis\":{\"anchor\":\"y\",\"domain\":[0.0,0.2888888888888889],\"title\":{\"text\":\"Gender\"}},\"yaxis\":{\"anchor\":\"x\",\"domain\":[0.625,1.0],\"title\":{\"text\":\"Count\"}},\"xaxis2\":{\"anchor\":\"y2\",\"domain\":[0.35555555555555557,0.6444444444444445],\"title\":{\"text\":\"Smoking\"}},\"yaxis2\":{\"anchor\":\"x2\",\"domain\":[0.625,1.0],\"title\":{\"text\":\"\"}},\"xaxis3\":{\"anchor\":\"y3\",\"domain\":[0.7111111111111111,1.0],\"title\":{\"text\":\"GeneticRisk\"}},\"yaxis3\":{\"anchor\":\"x3\",\"domain\":[0.625,1.0],\"title\":{\"text\":\"\"}},\"xaxis4\":{\"anchor\":\"y4\",\"domain\":[0.0,0.2888888888888889],\"title\":{\"text\":\"Diabetes\"}},\"yaxis4\":{\"anchor\":\"x4\",\"domain\":[0.0,0.375],\"title\":{\"text\":\"Count\"}},\"xaxis5\":{\"anchor\":\"y5\",\"domain\":[0.35555555555555557,0.6444444444444445],\"title\":{\"text\":\"Hypertension\"}},\"yaxis5\":{\"anchor\":\"x5\",\"domain\":[0.0,0.375],\"title\":{\"text\":\"\"}},\"xaxis6\":{\"anchor\":\"y6\",\"domain\":[0.7111111111111111,1.0],\"title\":{\"text\":\"SegmentBMI\"}},\"yaxis6\":{\"anchor\":\"x6\",\"domain\":[0.0,0.375],\"title\":{\"text\":\"\"}},\"annotations\":[{\"font\":{\"size\":16},\"showarrow\":false,\"text\":\"Gender vs Diagnosis\",\"x\":0.14444444444444446,\"xanchor\":\"center\",\"xref\":\"paper\",\"y\":1.0,\"yanchor\":\"bottom\",\"yref\":\"paper\"},{\"font\":{\"size\":16},\"showarrow\":false,\"text\":\"Smoking vs Diagnosis\",\"x\":0.5,\"xanchor\":\"center\",\"xref\":\"paper\",\"y\":1.0,\"yanchor\":\"bottom\",\"yref\":\"paper\"},{\"font\":{\"size\":16},\"showarrow\":false,\"text\":\"GeneticRisk vs Diagnosis\",\"x\":0.8555555555555556,\"xanchor\":\"center\",\"xref\":\"paper\",\"y\":1.0,\"yanchor\":\"bottom\",\"yref\":\"paper\"},{\"font\":{\"size\":16},\"showarrow\":false,\"text\":\"Diabetes vs Diagnosis\",\"x\":0.14444444444444446,\"xanchor\":\"center\",\"xref\":\"paper\",\"y\":0.375,\"yanchor\":\"bottom\",\"yref\":\"paper\"},{\"font\":{\"size\":16},\"showarrow\":false,\"text\":\"Hypertension vs Diagnosis\",\"x\":0.5,\"xanchor\":\"center\",\"xref\":\"paper\",\"y\":0.375,\"yanchor\":\"bottom\",\"yref\":\"paper\"},{\"font\":{\"size\":16},\"showarrow\":false,\"text\":\"SegmentBMI vs Diagnosis\",\"x\":0.8555555555555556,\"xanchor\":\"center\",\"xref\":\"paper\",\"y\":0.375,\"yanchor\":\"bottom\",\"yref\":\"paper\"}],\"barmode\":\"stack\",\"height\":900,\"width\":1000,\"showlegend\":true},                        {\"responsive\": true}                    ).then(function(){\n",
       "                            \n",
       "var gd = document.getElementById('0557024c-6f02-471b-82b1-352c30bcfe20');\n",
       "var x = new MutationObserver(function (mutations, observer) {{\n",
       "        var display = window.getComputedStyle(gd).display;\n",
       "        if (!display || display === 'none') {{\n",
       "            console.log([gd, 'removed!']);\n",
       "            Plotly.purge(gd);\n",
       "            observer.disconnect();\n",
       "        }}\n",
       "}});\n",
       "\n",
       "// Listen for the removal of the full notebook cells\n",
       "var notebookContainer = gd.closest('#notebook-container');\n",
       "if (notebookContainer) {{\n",
       "    x.observe(notebookContainer, {childList: true});\n",
       "}}\n",
       "\n",
       "// Listen for the clearing of the current output cell\n",
       "var outputEl = gd.closest('.output');\n",
       "if (outputEl) {{\n",
       "    x.observe(outputEl, {childList: true});\n",
       "}}\n",
       "\n",
       "                        })                };                });            </script>        </div>"
      ]
     },
     "metadata": {},
     "output_type": "display_data"
    }
   ],
   "source": [
    "data1 = data[columns].copy()\n",
    "data1.Gender = data1.Gender.map({0: 'Female', 1: 'Male'})\n",
    "data1.Smoking = data1.Smoking.map({0: 'NO', 1: 'YES'})\n",
    "data1.Diabetes = data1.Diabetes.map({0: 'NO', 1: 'YES'})\n",
    "data1.Hypertension = data1.Hypertension.map({0: 'NO', 1: 'YES'})\n",
    "fig = make_subplots(rows=2, cols=3, subplot_titles=[f\"{col} vs Diagnosis\" for col in columns])\n",
    "x1,x2,y1,y2,z1,z2=139,103,48,32,88,68\n",
    "for i, col in enumerate(columns):\n",
    "    row = i // 3 + 1\n",
    "    col_num = i % 3 + 1\n",
    "    # Count values\n",
    "    count_no = data1[data[\"Diagnosis\"] == 0][col].value_counts().sort_index()\n",
    "    count_yes = data1[data[\"Diagnosis\"] == 1][col].value_counts().sort_index()\n",
    "    trace_no = go.Bar(\n",
    "        x=count_no.index,\n",
    "        y=count_no,\n",
    "        name='NO',\n",
    "        marker_color=f'rgb({x1}, {y1}, {z1})',\n",
    "        text=count_no,\n",
    "        textposition='auto' \n",
    "    )\n",
    "    trace_yes = go.Bar(\n",
    "        x=count_yes.index,\n",
    "        y=count_yes,\n",
    "        name='YES',\n",
    "        marker_color=f'rgb({x2}, {y2}, {z2})',\n",
    "        text=count_yes,\n",
    "        textposition='auto'  \n",
    "    )\n",
    "    fig.add_trace(trace_no, row=row, col=col_num)\n",
    "    fig.add_trace(trace_yes, row=row, col=col_num)\n",
    "    fig.update_xaxes(title_text=col, row=row, col=col_num)\n",
    "    # Only add y-axis title for the first plot in each row\n",
    "    if col_num == 1:\n",
    "        fig.update_yaxes(title_text='Count', row=row, col=col_num)\n",
    "    else:\n",
    "        fig.update_yaxes(title_text='', row=row, col=col_num)\n",
    "    x1,x2,y1,y2,z1,z2=x1+30,x2+30,y1+15,y2+25,z1+10,z2+20\n",
    "fig.update_layout(\n",
    "    barmode='stack',\n",
    "    template=\"plotly_dark\",\n",
    "    height=900,\n",
    "    width=1000,\n",
    "    showlegend=True\n",
    ")\n",
    "fig.show()"
   ]
  },
  {
   "cell_type": "code",
   "execution_count": 50,
   "id": "1661198e",
   "metadata": {
    "execution": {
     "iopub.execute_input": "2024-09-05T23:23:09.307884Z",
     "iopub.status.busy": "2024-09-05T23:23:09.307209Z",
     "iopub.status.idle": "2024-09-05T23:23:09.314355Z",
     "shell.execute_reply": "2024-09-05T23:23:09.313529Z"
    },
    "papermill": {
     "duration": 0.04972,
     "end_time": "2024-09-05T23:23:09.316232",
     "exception": false,
     "start_time": "2024-09-05T23:23:09.266512",
     "status": "completed"
    },
    "tags": []
   },
   "outputs": [
    {
     "data": {
      "text/plain": [
       "['AlcoholConsumption', 'PhysicalActivity', 'LiverFunctionTest', 'Age']"
      ]
     },
     "execution_count": 50,
     "metadata": {},
     "output_type": "execute_result"
    }
   ],
   "source": [
    "### Check Outliers Values for Numerical Columns\n",
    "columns = list(data.select_dtypes(include='float64').columns)\n",
    "columns.append('Age')\n",
    "columns"
   ]
  },
  {
   "cell_type": "code",
   "execution_count": 51,
   "id": "f1734665",
   "metadata": {
    "execution": {
     "iopub.execute_input": "2024-09-05T23:23:09.386885Z",
     "iopub.status.busy": "2024-09-05T23:23:09.386022Z",
     "iopub.status.idle": "2024-09-05T23:23:09.458894Z",
     "shell.execute_reply": "2024-09-05T23:23:09.458083Z"
    },
    "papermill": {
     "duration": 0.111103,
     "end_time": "2024-09-05T23:23:09.461591",
     "exception": false,
     "start_time": "2024-09-05T23:23:09.350488",
     "status": "completed"
    },
    "tags": []
   },
   "outputs": [
    {
     "data": {
      "text/html": [
       "<div>                            <div id=\"a933070a-fdac-414e-be58-2544739458d4\" class=\"plotly-graph-div\" style=\"height:600px; width:1000px;\"></div>            <script type=\"text/javascript\">                require([\"plotly\"], function(Plotly) {                    window.PLOTLYENV=window.PLOTLYENV || {};                                    if (document.getElementById(\"a933070a-fdac-414e-be58-2544739458d4\")) {                    Plotly.newPlot(                        \"a933070a-fdac-414e-be58-2544739458d4\",                        [{\"boxmean\":true,\"name\":\"AlcoholConsumption\",\"y\":[17.27282842593232,2.2012656840223044,18.50094350686029,12.632870301657832,1.0878149704462237,12.885134473016231,19.48495308289512,1.3960130922925784,11.093754195601726,14.955886995187448,16.205171733990625,8.276549306415916,4.0833311833648605,0.8468455754476767,11.594523141944496,9.058221405352215,18.97488790299422,1.2120981542981957,13.707906868920114,0.4993244424011434,3.4286835342108546,9.071579998456684,9.097448856057364,13.71401085867288,18.20426069735513,12.780643178298416,19.070701957030177,17.63231279755995,11.689995910615805,16.675839018376546,12.85155220647268,1.571156618474543,14.8112944651902,1.898168825346924,11.881655611394248,14.052804117164577,1.3305521642171048,4.615893078530635,18.313444645233,12.326289844657929,4.925720376210632,13.813595422960132,11.935528399233792,10.031513998358967,19.523739499761675,13.66907554815018,7.508822193358253,16.00146864153736,17.691665858423754,2.5044111903366284,4.01105955690533,4.3245401825555945,13.824236187730808,12.060791101065666,12.379831293971764,18.81546599379002,15.51823065614612,2.558738490235664,6.950141648503621,8.707872923514712,7.919231774952098,13.386172183237584,17.83786206513125,6.12102927045576,11.037542728423713,15.788188438271714,8.324361176906987,3.362362567985917,9.499019305274963,1.1044504148605694,18.847669080045534,1.4964241038994608,8.769134305011564,10.597625221770524,19.70607664574571,3.3204364728572155,2.2886303722471717,0.1741229412508715,3.111428737386046,4.145459581353352,12.611618831661849,4.394135807828008,0.4104162945865042,16.532366910049774,7.311914020079335,7.073933731614678,6.049580583358532,19.50746554292842,3.4023083461856296,17.964761279064703,15.53606664279776,1.5295991099862616,19.734582030016973,5.427319270780211,1.9716585404482467,16.58628468251519,14.133510673553998,12.344376117558015,3.119617273978663,9.569922325119238,15.611120537744275,6.0724787628768055,6.233796570300829,0.0628181209624423,3.484868032907591,17.508112502436685,8.834929832754142,19.68468998468868,7.914159271475851,14.303729095604824,5.638380858094583,7.27619282281867,3.814519751817893,6.9412473699879,10.944750408412862,19.83545761958499,13.284034261435714,3.984919088166281,0.8992288318310226,2.527129626290212,11.251104025460949,15.303206576335327,18.808384146014937,0.3164634399364163,10.455202831237395,9.417347124463536,13.12110043951408,11.19157708930684,13.740783011649611,13.161651694983806,2.340234497158924,15.994358272374392,2.464651514326497,13.970612504182744,8.322907352812134,10.277014691531958,18.06596028751421,17.79767452946973,16.35712611310059,10.202967609126466,14.724796202676664,10.257941110376189,17.39212164949555,8.055516664657997,19.404706888297536,18.646455164577556,14.83205238903571,5.58831768352144,2.633071775865168,17.09406900186395,3.306045722759225,17.085215779946715,9.81530013424721,8.131135676162085,18.063815576688583,12.07701965080556,11.532280142594356,11.175318892487953,7.423390320390628,15.712862070582544,5.05596888031546,18.7778992008255,17.879704100939215,6.749606513497963,14.589275396633274,11.46446388899183,6.752986039984692,19.77043295990893,0.5047469169652841,5.0529206124257335,10.401481222223008,10.439060069571278,11.778661498911283,15.033523440458383,12.469556610385927,12.00562921056074,1.070289258260866,7.530605755785967,4.64111479402312,5.307402232039509,11.086749486806898,3.9901062985921687,5.878982020337951,4.741694170346802,18.970058864363896,18.893314643421903,12.198831171921034,18.490449374638,15.716252909367462,11.798957656036176,0.1287042299359142,15.45032572158808,14.049766831769375,12.30507306564828,15.208486233649436,10.258443295495317,14.08166542642678,18.703441734529868,7.516100316921726,14.162436698012508,9.513756360219174,13.487993036279631,15.25786671108728,0.9090500087159192,12.93200887897324,4.534823688138891,13.400650756151336,9.36660371867627,15.471054837297745,2.4680163041119285,12.5264470331239,5.569414578551046,17.059639906611828,18.567670112726148,19.92796587358111,15.920148048545666,15.07468140856009,4.310015177351021,6.720141179802175,9.313650835245593,15.467620955644994,18.299317301559373,3.782782000459693,18.447349693402057,13.91249304708116,12.215414613700773,3.9968254256387903,1.110500656183011,11.369297970158796,13.030313666577849,4.215628987093765,11.129124116509129,17.12986805525147,16.7013189091004,18.547103611725944,7.317716191137609,6.360991451018374,14.988520119616172,8.6222481019401,1.7509732805556122,5.656022613409995,8.371645710629782,5.85032850952504,6.644111418946432,5.875518123487815,0.8299833436615889,12.74189401648885,11.945848407069386,13.067669969573611,3.846197920672549,5.913090832249706,12.392318538898444,11.992551369198427,10.126606187085356,7.008265000203949,18.2586200954938,6.795404845976876,9.112383128745032,13.562276619084177,10.860428617335282,6.937719527287712,8.712895809130197,15.88961635707012,5.562583109732248,2.8451047955363085,6.263264036595542,16.990684309758027,1.7797942971269332,19.83392146744904,10.820057978553251,19.69691487934188,18.77992844171955,9.056274284218336,3.969821492106982,3.297695531302769,4.79978727739915,14.202652811290744,5.458999894629757,6.828505392085966,8.975576079892296,18.26465360842913,3.787868357696922,0.1005310521960622,1.201928207563403,18.09532683360236,12.950329296867263,5.460812386556135,3.543850020223822,5.885334732742287,2.295938545025602,18.83065820568882,15.684123487305335,9.247823538250817,17.299252102304038,4.989164085864646,14.34241136944387,17.12264998027487,7.135374232465452,15.149288909014354,5.901446985286187,5.977142705180616,2.141143571083721,8.801160930187974,14.594238129948444,18.8044161114257,12.075939838581922,17.26271075471478,16.449892985804542,3.466861059505617,9.71634857825263,2.338470710507829,13.643063231232698,18.99799336492152,2.74178916157513,14.677662616050826,12.64476301735722,11.672100740161994,7.802404693766785,7.102632955076251,0.9049837803777572,4.358174165040269,0.3035376457365379,11.62834211164041,2.117064717558177,17.460387880594322,10.462860413943304,13.993798181174167,8.21714183680993,11.211596180020972,18.85318353933261,1.6546807924734153,5.078755438473923,15.599766538210886,1.974744137653317,1.513222078082217,7.230827975080771,1.8433591694486464,11.70156884412406,4.525505016331996,17.913959263987447,15.670001616905134,13.994104121989524,12.33888054769004,17.269314606829266,4.461241230855137,17.462176855284554,15.789845968481046,14.963216527753712,11.225113561498482,4.924883219412002,8.470958319837926,15.871413090776032,0.6355696871464889,15.641015385275166,4.80141480975133,2.8861840144320605,2.314026363606043,0.5450002390163022,10.47172970442906,4.36519745387459,19.788635315592632,11.488735117444117,2.7577053871202084,13.775250816227306,17.954871330194507,14.903589907392288,1.5287972207889533,17.91768362385319,15.878587717199297,3.166078002112287,1.0357177746563373,11.14621150628617,3.120716226799538,16.69181905190544,7.1666931334334745,18.25784889473151,11.313763442820116,3.653447684793363,2.791977347196002,11.529448751155078,15.237672237248878,15.630112954843645,5.515148088825626,4.08493517824335,0.3351260898476482,13.583983024023388,1.5313651686707797,8.415224035318516,12.033643280365922,18.74217889839354,6.236042739115373,4.995443248930396,13.08320308572197,12.384780641071632,6.642195666162492,18.56203671019573,16.897246549792655,4.479650917301623,4.782850908690463,10.246006937741612,15.471442034614409,0.8808075877692878,13.866703074694133,12.96471794764194,4.629601918259764,13.627060264826977,18.803663825041653,0.9357168994353704,6.393041105841251,8.763534333327105,17.98520717849379,19.24522893218313,8.882304929926645,15.000568242843825,10.63322047528966,10.755658694827533,5.561990301327128,4.339124917277591,5.760106918480823,11.126560145141584,0.5831037204417799,18.144978887128115,3.1256741909955243,4.401773537427731,10.365523528952927,14.202295326745586,1.914581094887946,6.353893950943244,19.373492111487145,5.246859335618915,6.261002901262938,16.72996981236067,1.004288633809105,9.292263376179417,7.592335289033405,6.331735198173023,5.713991880895291,1.827482097208184,6.2965165870329765,0.8610480543133714,15.619277272888706,7.964555879160233,8.878076646398231,17.87189172900263,13.161099677224415,0.1611820668423957,18.8634964592257,4.742889319554225,2.152283695197177,15.362563567617643,10.009546317334364,8.67541132036035,4.990061593654835,10.949429797246372,5.4876921040517495,18.031660105741352,4.304089594663855,17.68710300911507,11.18810851454714,16.56976267790482,14.2569199172191,13.933902228734972,6.486916153901115,4.6779386294440695,4.217724553615763,17.143833141191774,16.4085364051804,8.811470560246146,2.648092269929092,7.645045039549167,12.386869082738228,9.088063089599055,15.6037853696599,19.952456445027707,3.822641768977937,9.19301639319145,8.61967803841644,6.089850654979017,3.961910334405792,1.3138423297931845,17.742386344473967,8.396973953726352,9.937910370000978,18.33884096401832,15.525809550318955,2.610025282343684,11.308399352154847,8.845045530391182,15.944221451575256,14.484650952238985,13.80811443822144,6.810896709597937,16.09927460798509,1.0478259118972244,3.1924980286433446,6.712465459558235,1.5361488213856256,4.699885550693832,16.603019659958363,18.965030755801585,6.09204711548381,5.2903160797767645,5.597853044928538,5.554381747016876,0.7186036437194598,18.53832692662216,4.273962831406568,8.4000814816281,0.1937376548193548,17.159101818301142,14.623146889098344,18.935120703474063,15.63230958392798,6.274130241041305,4.957467174568473,13.954326151065858,7.282255500209988,11.324300315052332,0.1251494205294046,1.237714033609505,10.707358823633024,11.321432928963302,15.029058889186873,2.639306392479235,10.263661675135577,3.888952888633772,1.8639223912538936,8.209915881211092,3.2667329617811447,4.435639563846372,6.351091597390035,5.187768014863925,1.751825948118928,1.7983248971940458,3.8649883046833633,1.011183759190779,12.529140393538542,5.746534330178039,5.59491935538142,6.639965884755304,13.255925484194432,17.412677629669812,15.181738651112768,14.5505846045019,9.687823712016986,13.876111139348236,11.055247360671665,4.325010563730578,4.171767354821014,5.927840137505669,18.216053419396264,10.948296807594517,14.678107540037388,6.931175196330952,8.154315413304506,2.5113115727450275,3.425899156433408,16.54713109652291,11.69677263377764,6.750649317676379,16.05702417991092,4.93039811275966,19.52065397200408,6.896352154923395,6.746219083024552,6.2382381107341045,2.4422303184857586,2.222742946640248,12.962100690682467,17.50236089116094,15.81041020543347,2.822151880427022,10.91164243584133,2.1118309195328,0.9058928722615488,13.127717187695344,10.703046673607004,1.640473704229417,0.6987849281197689,19.79512826818669,0.6004266429814376,8.890565061003192,10.09238049215391,2.345602956008901,3.381235568794325,7.03610012820705,15.233517524273251,10.141648481205332,12.75803749105923,19.70349110181349,15.360108706264192,8.687229962824354,8.928838435930974,12.3754415408201,13.307304168378089,10.014218516733424,12.8972244562996,0.4706498882819754,8.592457277936882,5.578761521469535,2.583488904862208,1.990930256175503,12.06384331229335,10.472010943052236,5.071682339927383,9.41900117545029,9.844646303648164,3.900179608772316,13.041861237633013,15.618387127721808,15.82927081779038,12.0493966140691,10.23277165038028,1.220142860107898,5.756625977032117,1.865428935563398,19.27646321756947,2.701602924515214,3.035508197022041,17.791532366609843,18.87856566952916,15.316580784698196,0.1080984734533974,0.0269254191312739,7.562015395749015,2.8679074002178506,0.3677228430319457,9.281333788090096,18.861237948139436,6.476391498048628,13.22281356857393,13.044707062648817,5.021602073303355,13.008504976477289,4.246679485737825,2.440148271537781,14.0276657111938,2.2688163420783347,19.938184371787106,3.6690480230045854,11.88283725512915,8.227491428251788,2.527728448113342,0.5568781515482679,12.454645645856663,16.135151275782523,16.840313230134882,9.65426946153869,15.54910934364771,13.456942669770894,14.485090549982663,9.851980104436285,12.66823480484254,16.11051827152114,7.957683511140461,16.119578017351675,11.840336855781256,3.318020487415725,0.4936831444916922,7.255072007983041,10.933926565926797,16.796407044069767,2.549713602804924,16.004126953671584,17.26018092134454,3.013749740016676,17.03188638608438,19.82907135685584,14.536776620964751,15.69539363649976,19.88830535117747,12.109625010518908,6.157727640324988,16.750616681521112,12.289715550232623,11.623908474419132,5.072711110280766,15.126685391657732,1.6333455172019251,18.485741415893223,6.516469215409694,2.555493055799809,8.847330662048376,0.8493981851306631,13.692523885299329,18.05411020890712,16.745260142770174,2.547389468957621,2.525422742154637,16.26868964648528,18.48508549206232,9.213396596669783,9.979422338275318,6.365240827714517,17.88530236512828,12.898058105847118,5.765031543347369,5.975657421085032,17.824001461272047,0.2726804781164293,6.454531454532768,11.08713362432738,2.9643492419864925,1.841975083991796,16.3055266218112,17.888087772970145,16.472128415963788,17.975757794746954,11.06223942116743,16.24516241980684,7.680852767822008,13.32535722958077,19.776710627783288,4.514554476782548,7.797994925821612,9.600947546201713,2.7603097404010346,1.6207722093011356,16.594457326432487,19.535887456551723,8.094501276593174,1.7529967238930655,1.3162352138115296,17.826364127205974,9.2762849945536,6.400546331247838,9.52922542478799,6.366081893846946,9.7807155061524,17.191127938358736,11.846027421241914,13.893075456203508,7.2934135246867315,14.770117570210374,13.332341697587449,2.391239955041129,11.452857062311692,5.13486992619516,16.081913392671858,8.51875416933879,19.893683303929745,1.850008758779276,15.60695725480317,13.474034670843128,15.349976611814109,6.150595909809127,9.841089787648013,15.930170394474167,4.6508266324171,4.520663935773042,11.021019065898647,10.471271590597116,5.645249408258657,5.961513010496455,5.55690326413131,15.430241239969751,13.038017311249211,16.648343668205055,19.50946056628044,9.483285925439729,1.333877628108977,0.9618462082407088,5.913300785432383,18.65089178704902,10.4642610994175,5.435730321602583,7.983335890220391,11.971902148093417,13.058993162756844,3.078390195658101,19.54063353090352,10.895444539655776,2.713766355845586,17.872705066922673,1.492768621588576,18.15470866355025,19.93131312577965,14.008635983130077,15.408944421479797,6.746056729349728,18.83153705467868,10.594279322167353,14.647768931951097,18.48215431822559,19.503599519510168,16.66408713193349,6.0603501396406,19.33095033104165,12.562390624871435,18.612849527039195,13.522100516287036,6.14477923695441,7.400490482856319,11.00943554205881,15.80029683119764,6.359651026806699,11.59462332268384,6.912499871528031,16.315388092702143,9.33456187535901,1.5344565370577046,3.3210504296307275,1.2220933523926458,9.986058920286505,2.1267459469645438,2.282799386192642,18.820965200767542,17.45310144352111,9.04173193622732,19.71610641700412,0.0037305634132622,12.279589125467876,12.3285635474374,9.148861117397765,7.938959458685857,9.107662709612152,8.29920872159361,14.609849549645988,2.707108699465681,3.952784411822603,3.610364567848472,5.249411702425291,10.505168375631666,2.2241749467643745,17.363385906530084,5.947230626169446,3.250759749374157,13.512426191964868,0.7617260119863856,12.399371297483285,13.963968613529996,4.298330627734384,0.8392814688726857,7.272907178388992,1.9718846048387293,2.329556993466741,5.085224628897292,5.909358492535186,10.599406820428412,13.567837710060262,11.855418817403695,2.967206745790336,3.4417206490525287,17.57538499585829,11.167046301282271,17.39875665795378,7.430930226397487,12.288000148626477,10.473268321092217,6.382469796409252,9.398307440671909,10.04981753653864,4.015419495133572,6.300207447534632,15.828195010139511,18.315764789082543,7.195881870905989,6.139445644180364,3.9039432914376495,13.569823373011625,6.461994033326746,19.75499078198377,6.513696041279065,7.882720935652562,12.066683924240696,16.0336858638261,9.390373306912672,8.453120675779166,19.912756671896165,0.2098728227988888,17.901305777024916,2.9828165187947486,15.718505524178267,12.35863119692596,6.836945709961841,17.477499110420368,0.2581445596198395,4.533813041498473,11.33785592499072,7.03084520099396,12.207549906366552,0.4822038681733365,2.3291786096342504,2.5419248043687848,3.7856729183201887,9.186628816010856,15.042573990871425,18.110776758578023,16.707450605684922,3.9377574355136713,8.823011044612647,3.9882319551707,5.289436333343815,10.070939630237724,1.3621804944704508,4.363486591865464,18.707563226142344,9.32232585316978,8.907730519557443,0.291343095025578,4.947994941166916,17.325848719643627,3.292568565173375,8.302498790694422,0.286618117340025,9.566709633411117,0.420422134524343,16.392191061315998,16.497075349742072,15.754843766047395,5.6672813778223645,16.74474436443636,10.859962652105386,7.476162177340049,12.50659919408466,0.2468209212074801,2.859217552015043,14.845870763405255,4.8832321743230604,11.960182346574992,7.702052056460593,17.09611557598523,19.04830611993287,17.67129456740381,5.4123998938719335,3.883257380921645,9.4886978724147,0.1466830167236055,0.5161878572636347,11.06581279246,10.40898808330572,19.8916397807052,4.036836707275162,5.162078583209368,2.270812846525734,18.35086019307489,15.556224889169014,16.44678222913695,18.055275759290176,10.497999734516766,9.023863829014472,6.60782947331233,11.78429228695711,9.085567935796451,9.031311732111504,18.738557274622774,19.6806302855826,15.929687786591614,15.135161804938566,13.61116323558203,3.3214970466702742,1.1821164175130905,13.814526302265262,14.57572444513152,0.939459821962796,18.56103500457696,1.8228127888935508,5.718010675424048,13.44779625597409,3.3974518880895266,1.1083177688448886,6.622929783282996,15.31943149710358,8.273573579705207,13.059458438158789,11.592381944562732,0.4443696405116082,19.77079974091413,0.8285617763877551,19.3560547529697,10.997283567287964,19.26318054130133,2.295071988276709,9.808170383710264,3.3900818373211727,1.0194975404488482,12.35058230124623,4.1556684192338285,11.75394036575092,2.247289638979713,6.639729428654055,15.632651161064944,8.741030436843753,12.554908297946728,12.94915881491092,16.875100879745872,6.498455888132826,13.745911251650352,19.232316140923317,14.604866687157362,9.797409534354893,12.614348889838585,14.793657955262162,12.245515313877448,0.333516269796783,3.895469953744517,16.20936434430932,5.453012946249693,14.631242391222678,7.442404304833974,10.437686563158865,1.359465996388074,3.624511220994191,19.14393927038469,17.80276106893828,13.045502217981005,9.192891947714749,13.515225857904476,12.37220578187878,11.371045112092242,1.1835414372708364,12.656052213230138,15.378400891423368,19.88163309291151,0.2215710518861935,14.603469066213531,11.43578631871961,8.681043521619134,2.551403491427417,8.181702972697524,7.087543659722706,6.056597779574844,14.617592466444156,14.014510425685277,11.78040181961823,18.773296265867444,6.997087683617089,4.876038754203592,13.118066261967993,3.976281218748059,6.300210143668492,4.492048801497697,1.3830713543700246,16.549974832713467,5.090810858433224,9.460550066860414,0.866305465086239,13.98678932505286,6.611220046125816,14.8947345565842,8.248061209357322,3.915112128112492,10.263501645640718,2.610091192748796,8.810783197459894,6.34610954840973,18.239191683992665,1.218574434414399,13.88034828211484,3.655023319748718,6.380901486644797,8.310281261241318,18.160301787499485,4.851565321476503,1.8261760508934044,6.373792079810472,2.093519410710667,2.57192971921105,11.477011959500532,1.2180386619898664,0.6186176278713207,14.288282029409956,7.23294189682089,2.5075069846774656,5.072255417194165,12.84173014704798,5.510731342817024,9.89042250240816,2.4339061345334456,11.76187275210894,6.321553676865282,12.539368690574332,16.16789764608046,12.232928387799848,5.914951251900414,5.114874030966008,6.54841917466896,3.292410264730097,3.6234370170004015,15.81382203800336,7.694651530148899,8.719903611411716,11.880989311336222,11.793069903030952,1.3475374304385146,16.630815726753312,3.5465310644787884,14.461432720993376,15.453419762563332,14.297990681826274,11.579552931082905,0.2921799421776572,7.207509847263413,12.096788587251623,7.749025918450774,17.26959789825626,6.176045506992307,5.870695849173209,5.319953861853159,6.65561737921591,11.148099286283744,14.140305885451816,13.251358354775702,16.15435639962959,17.7182799099485,16.321580846867025,0.3789080674870915,14.718359071039774,4.167991472366632,2.658560854159653,12.76977569598271,6.394863908153898,1.1423432674088652,2.752594687967227,0.0185883373992212,18.064472546894145,0.4923596768247718,4.189115390190221,8.325255613758147,7.131426519016381,18.234517538255517,0.8057789146908423,10.24429415354103,13.60958925048748,18.633959473623374,12.40742504247442,16.075104720235252,1.674498756906968,7.7187902187385475,7.478942689581349,17.72576432911435,3.0274234252654986,3.0377234467326053,6.57116299771597,1.0893209473367516,3.649160813049801,19.304192770914703,8.563678797343456,12.640384168448728,14.522225186892738,7.33922814014401,2.94454148821034,4.131620324435616,6.265329531612207,12.721368407044514,7.965610981781088,0.1362939580025624,10.468143701349437,18.43026783814836,16.24155222017358,16.50422742519262,15.901160352122623,6.474616512208473,15.30387667508784,2.86322715622386,13.15432294551907,12.831371333699888,0.5113959817946934,15.759402671818632,18.06496210190261,5.348305569442154,16.24781448372302,1.648119437238964,11.99935716522132,9.712937306685545,10.91847066618,18.5241040376869,17.42630494493707,15.70167314479514,5.47396915356742,18.236372573721837,1.950153849277505,17.066584331175754,6.563201447072156,1.0754462332396677,13.387139684814963,4.625598566319109,4.871422517292638,6.12094332457543,1.2736953500503343,3.5425428839650808,0.102792551711206,8.908190422115736,1.6851075483594258,13.65305210088398,4.712457023832968,18.871482880703542,17.425032547973053,5.788817899364165,15.664309093133577,16.064898093296126,19.73126228228821,11.956799736913698,1.6393146928732438,12.93674457852762,12.499594967520704,12.767011548408636,6.14291296208423,17.193591701606657,19.18944365910824,4.354250259563031,1.763043162732889,3.8907006633696817,16.411042785114375,13.53289269639695,12.720946846782532,8.03586270218849,11.556559430228717,6.157482505487348,9.544001588359226,15.86126056741312,19.624831949109243,18.64977847179604,18.677318856924977,8.044474696942247,9.37579761013582,14.112707927379631,18.44383856102569,2.839885187041693,6.084837276543915,2.7849368918821904,12.240170599189106,6.126019937750751,6.522157050251469,1.4183191897595848,6.995921236151839,17.24993014803171,4.661456237816699,13.903749324201314,12.592566898771851,17.269692167382306,2.645758953020765,19.551799206900863,11.652572920807312,19.909483046936288,18.230294517317017,4.430345442262116,1.123240198066262,5.112781875907231,10.551272979988395,3.4319273413038,3.34919489035977,9.251870942103062,0.6653594233871685,2.437761650645409,8.317226788158951,1.2625981841593292,7.935101129110587,9.480125318968902,9.025332281462289,17.383497148061746,10.601249101034648,9.359609249560869,8.214184907833324,16.35246756608972,17.901132079996664,17.064849383942352,13.470931562627817,2.7472349193734846,5.537399389840245,0.9212612736395488,18.616481499802283,13.215970593818207,14.92725768626483,6.231434791644579,16.913070445546847,5.19206567416957,0.0328751422489936,7.528299250413879,11.415229619181469,9.574097159310451,17.24152285153194,2.1081057191233388,11.076468812674513,10.259586996418149,5.62785964344326,16.444562251540212,15.056973117644128,14.65718374663662,17.52384956539112,14.455692012430424,4.6368258342945285,14.111254232993822,6.154056267796877,4.84349300694941,1.4600718579925465,14.880571606953534,14.220019238996224,4.689989553481874,14.98758033448312,18.356817661871062,2.160579149831585,4.652732767735499,15.00521588174631,5.490133470141565,12.493279485674336,1.6232844892742904,9.044049582070777,14.781828439859062,13.73027886086505,16.301442013516137,17.54904253206338,15.463670025175166,13.43175485877852,0.634449836320623,10.69933346818888,0.7539544982970559,16.161356342320452,6.414490489199151,11.24858748235842,5.5889061463780525,15.650002887605872,17.73005053283805,7.972849884261279,17.25844787021978,5.341500149126648,10.693218461510476,17.17522859677408,6.517626852315807,19.08084530156172,2.4375900356276725,0.3655013944701246,18.08270705156381,1.3729733229574448,19.837783918949835,19.027937239582123,2.7404182007264133,10.751692513851316,3.698405949342887,8.563103460602397,1.2285025851966536,4.47849175593179,7.265455927977991,8.772950004921096,19.549925164177864,16.157312913679625,14.748198886238924,10.740826294839485,16.799955212086868,6.786456713114221,14.177982255466322,19.87567950756344,6.292578178703976,13.480350697679349,16.88629728304765,18.316151667013443,14.358653818802036,5.672158468342725,6.525643031378929,0.4151606424792842,15.217719553430191,0.8547921212390275,17.293047092054913,2.373212289490776,3.437530242718485,9.530529416644749,14.757608303374848,2.7800441039815538,8.801421501329969,9.657025488202096,4.245712833371826,2.3111675336126347,16.728418459712792,10.04931299525531,0.2876247196830594,16.059626026182077,19.615876108291697,12.118523908284946,10.074167741681414,17.568317260899235,19.05033579369197,15.09073831804921,8.909058594685757,11.844427986628808,14.018707300359983,3.885471420036029,8.944020644328761,16.5964252943457,13.09450696996886,8.224081344237081,13.267250680293628,2.3644482414491974,8.029952211297527,15.862570759261128,4.41017574273296,3.719230151148354,19.01637319832863,4.197952591724614,5.218371593003361,19.39231877808676,14.694171405300514,13.991930660470564,17.058527677091625,2.316461644735885,14.119124731600143,10.073772186564778,16.5830128056828,10.162834373303886,12.404827085378242,9.55484252799072,9.56317847111688,15.35939956123663,12.571328012945663,12.665264032188208,9.005649676630515,10.62218992675055,14.914353324095746,16.518818382238365,13.931228042880925,18.481459776913663,16.40648176294402,11.237275796190367,13.428121452874738,18.52616553842392,12.383360884861167,16.496138959596614,13.776210071799742,11.03872722120933,4.836763908307063,8.519950389368562,19.354856496674312,13.155307665452,11.287907606779791,18.659132510564547,11.730235620748974,10.52165036834806,15.186217103004104,14.25331237973089,3.8632001681686554,9.426165491482424,9.450308856391704,7.564490304866895,10.345869643045065,8.262147954542884,3.986909789423663,8.247329745493621,1.445538951463532,11.515717255488232,17.07309097882224,14.505741687091104,7.207880801082225,1.7414241115461635,4.042987984505415,10.909806809896716,4.141141667660657,10.87946222569935,4.631980495277979,16.978477389521455,7.945429456809194,4.911012518889821,16.24652360494123,6.856779296109014,2.2297537567756387,11.408189828072832,11.631284088759774,14.293913504714684,4.804388664167711,8.8754267818449,5.647358380853125,1.6190747223137625,17.53227654031783,14.577396089766824,6.0292611891760135,11.987459857439726,4.025275762689448,17.80473243591542,2.298126867238206,0.0767429101560179,10.040163954783644,11.662556469057384,11.579306405916087,1.0902385487565258,6.280876138368649,9.983978936826636,4.331583712544818,17.452517709717927,1.7421857892286807,9.747688833440858,13.82832115026304,5.235022002689648,12.484814739950362,16.58770300284749,3.806739501900951,18.344411836497255,11.07117065324716,5.984640086021211,8.617165507645414,6.243837675727759,14.50222319866632,15.926013268302643,16.65874784637322,19.71536499171482,15.82568584993367,12.027681413771267,6.784405967835676,10.891908974214989,0.8213634558081084,14.89650151059826,8.919110901842036,0.4004645946437524,1.250138830208216,7.749329276435133,11.6684303803687,9.284078979042532,12.384086345843098,9.605885175827115,13.234076909626936,4.382521293416017,2.256863743672428,11.9286790925132,9.69379033872615,0.5373530808987059,7.609637709860717,2.1225117098199098,10.627136635053905,7.915553593208616,12.26303822206036,16.112044375404764,5.993373676829816,19.24204208330055,10.712690011751487,12.36581597509576,13.61344746451474,13.334630597151795,10.219414860901242,8.57528582229367,1.075639283547558,0.4417169060235948,7.1592238906552925,6.673217812673853,7.753903096780135,2.7673640177638004,14.763365410736872,17.13928829552478,18.7742927074807,9.847246070392517,14.017313982508572,17.11102246871745,8.365822221869719,6.188255897408888,18.7344911170698,10.31353102154146,9.94507773181756,3.5683219312699155,2.163100291467135,16.842137249670234,12.282663523750362,6.516491680388974,3.8347243478053294,11.109945603392628,11.678385785222709,4.139872024901163,17.02811495782948,1.6852873231170218,7.121861703328434,13.607688275250442,5.482407276384014,16.553503895625436,14.79735653200807,15.780456890962684,2.3821307175343254,2.8109425599108584,5.7294747548916725,10.361543303951224,14.960321533988049,16.730617815218068,14.086706319143609,18.57193763061277,14.774870192318604,6.125357740092294,5.301625686771452,13.923849006021795,3.8574113737922855,1.8542962162053975,10.644457497123875,16.432831395579107,2.0275968493972707,15.837826475914586,16.23144008703096,9.64548000163087,1.1462062002097362,3.491797024943728,14.148525503238648,14.23555889981899,17.967105503353306,11.653722931091655,2.482147354275548,2.4282981100994427,14.422647147136471,3.675693302158023,6.567709992332107,9.74424013843828,0.495297551523024,4.976380540398637,8.157792170145601,5.592726369864125,2.7274065493513167,14.560245155923948,16.2629531033597,5.149579522874497,15.488389892126069,7.711071288026277,10.133715817080056,17.120021497863057,14.999073636048156,16.102337026323553,2.7369033317271363,1.3943885166745895,17.868094581759742,7.756685391421887,5.757593561393617,14.49392508523649,16.728311931597133,17.24979243796602,6.319942822504547,17.04424782403348,0.8186788874869078,0.9932298291943776,12.47038390348309,1.2621273823109247,6.492183370203231,13.45511972493848,6.745337921084527,3.5919956288019184,5.627012437076832,9.151506645008636,9.507717107109649,15.66000462694404,15.00306458863025,9.136356091122703,16.91334698197543,2.2847427718279167,5.107067004578029,16.55952927004503,7.559880772523062,19.623631175876845,9.325065630556708,15.838712459275282,8.046140827647438,8.499070381248607,7.65766294568367,14.381512410216237,10.95035768119989,18.875562227367386,5.017806330682095,2.011254641668887,7.865229701984305,12.33425415293552,17.2159787383099,6.923937733606554,13.075735022489232,7.0039736204643805,12.344391659889162,17.696158940613017,4.6271528451881805,8.084832842140784,19.86530392859493,17.371140564989215,11.292797157924038,10.332551837085507,5.69200764609362,10.344188553870588,16.963629965598944,13.703490265555612,5.800880563559732,4.029278421070659,5.304170739936582,3.3951840278565304,1.9128139204743189,8.3827234888411,2.265992087965354,3.438251154542087,10.946493686789722,3.2919854739914944,1.277595348618057,6.347777000557704,4.40638197243935,10.306103759887534,2.0473416916641862,15.035415753659562,18.12467038870277,14.868703479123887,10.656540748027885,17.2133564357777,13.89836759563015,0.211022449003797,7.881803055490062,17.019037988136002,6.9171771595053855,0.70430347051047,14.923592771045444,16.04076540565737,3.211873900866171,10.746809936863624,3.839108779914515,14.384688380882936,5.431009103549713,6.324302451266601,16.899417072802027,9.526447044138086],\"type\":\"box\",\"xaxis\":\"x\",\"yaxis\":\"y\"},{\"boxmean\":true,\"name\":\"PhysicalActivity\",\"y\":[0.6589401821191965,1.670556694687857,9.92830825444697,5.630129431716631,3.5662179882605205,2.8820269385003883,2.5699173531094752,6.641527650544821,4.19387831519686,9.654106993686115,6.838430306453614,7.920445910489612,2.9274154858315997,0.7918640910862584,4.878228373818811,3.145815465462273,2.020831650079237,9.526421308008612,4.439882143420303,1.7470859204878564,1.9865065268113915,2.8070974246459404,9.993162681897129,2.680115005195973,3.2880180457845363,6.593281279840014,2.939613764102983,2.1580425105969336,1.586371866495987,3.1268266502779216,1.0591568962877351,0.1864658641478289,8.046416973346773,1.3789494241457656,7.759768498152423,7.975424789866597,5.379195263292431,3.0968195831295144,1.4503273374988843,7.368051067209991,6.013869859817859,6.554534564935642,0.0866908984513104,9.275170157078245,0.6629018744655024,3.668058851400057,4.027116496517003,0.0135552449794884,4.970893093507971,7.528089945110099,8.23268653114772,8.793969933058843,4.877188683153695,6.306361905296505,0.7951971329649876,4.880382242817499,1.548157548717353,3.6964311762252144,3.293053128645993,4.235405772415081,5.716366179741326,9.02876647062996,3.944846313475053,9.811311957115509,7.590280480512028,5.114810467883832,6.440264371119441,1.0222417113194449,8.445215313136549,5.823574550639659,9.860674802096018,6.364287437528491,8.34111583266325,7.997627427952398,3.4546115146826883,2.596106252332117,4.3049358343151,4.672413444088371,2.400847019366439,8.945978733509719,5.42547862300646,9.784443921535695,8.100177780462634,5.55704860391946,9.470402781443592,5.04874815095307,8.871065125186705,3.5814478119580557,3.786423834040941,4.181306829709311,5.466256459432461,5.534902701988241,4.963989216770842,3.0600097358316747,9.27206464790831,5.885860973492543,4.077392161915949,6.511769607436182,7.6796675780980515,9.607280882282431,4.995491622675826,1.120985103507588,4.407658014365413,4.789705614534714,8.969940781856739,3.948007684629531,9.533242648871385,4.851319077143348,9.73780500978929,0.0819832113096219,8.988153748063466,9.311204519433506,9.610209357652131,0.1307653417461485,1.71700836550309,6.537645030932362,0.2547269173510713,0.6360899617650073,2.2107887369344192,5.124397687438842,5.459025592668075,0.3426112279350435,1.7036725078153114,4.997056733346553,5.939406209434052,1.4840169648621535,3.9884141194697063,9.044014365169524,9.98899287046172,9.872144548311413,8.816745102868724,3.946600879499458,6.8657429207478415,4.165922277841987,6.4852702682420285,3.094324709694832,6.06202253610332,5.237584965528499,0.2448026581319995,7.907029037461138,0.1189783224515561,2.931559422533017,0.0592406545400236,3.7620141329519816,0.6316052816413931,9.135109668312412,4.156792951628686,4.5949577486441004,3.4985023609085486,6.275061542017663,7.844081166182038,6.481467430489779,7.482071183951275,9.059736635092603,8.635465316714287,6.740584527536958,2.146379629044286,6.377028510419288,5.060830957405109,7.172192310104201,8.32931648392915,7.427214971864174,8.465611699612852,0.6386637334102385,0.3162003823746395,2.5850056769959395,9.006660841086283,8.236592509839738,6.8272729779531165,7.007586674397159,7.266704692582126,9.42602700484747,8.321911523075576,6.233903870270475,6.657154352571405,2.13740262061122,6.5731882515627245,4.246790124184585,1.529618706057437,8.064028192465743,5.102470998031457,9.774250416894215,2.816793544745249,4.806701123050767,4.479954546688681,1.2077952243257872,4.261152788307795,2.875534564209249,1.603204713669344,2.821555840361393,2.33251691266392,7.34073531005878,0.3077517825916009,6.174627479132213,7.606613420236065,4.807234564689732,9.315649800079184,7.078806952365353,7.479236513114173,1.9693348744087025,7.772955758390735,8.320947360831148,3.612663884059896,2.1336306803297123,3.850506792036167,7.396079690001372,4.176390058687027,7.366518752247879,1.1356454097753763,8.060117104884844,2.532074816423574,2.489289877145937,5.903809652038607,0.7011804574698965,0.2629772668466856,2.6102866529344926,5.380675507348228,9.076163862252272,8.464351763073068,4.904464599209755,0.3705199369349277,5.352527346293091,7.047955999252955,3.3916453252503374,1.110633032816547,2.7856795320565944,7.71588864467814,3.512438322833283,8.119814906857101,3.195214518074758,1.635550384138181,4.358483595136082,4.52274512289139,0.1610821854933697,1.1704507270632614,1.8492601877281745,1.135873173786749,3.415260754213638,9.64622855617018,5.09222538327078,6.275560238706465,3.563864785230282,3.2348776164314605,0.2314677191500835,5.003336556760224,4.836090067516663,1.5783072618112304,7.643240002067037,4.92674330311003,3.3899397016157327,1.4690890902292697,5.521608269710124,7.528170260888097,2.819993526849717,2.1879435157672256,5.21934964064577,1.5534330251001691,6.666133865942849,6.053436279442304,0.8708204959142862,0.3652037938137387,6.202886525885849,2.942937739887408,0.8644575317339853,7.5942870495648656,3.140440030176441,4.595995496382236,2.3681292745376927,6.273170783579646,3.014884153543594,9.680209612276284,7.029475486169066,1.367222763734658,4.166948396734668,3.854210997298786,5.342471107203831,8.419306744792532,5.834220151830017,0.6155667759999928,6.554156968028551,0.0826529794585839,7.79960460540393,6.66636072411242,3.08785658352586,2.924418045895157,7.982729965463056,7.833366919246205,3.523023543767599,2.989477280797803,5.5982478888279,0.0836565998414418,0.8266703798654229,1.2616959014873674,1.854118178271742,5.120181266754691,9.92241914861122,6.526134017473535,0.6129879444922359,5.255793740622417,4.966452123895044,1.441678158180495,9.202723688024076,4.4076524767536895,9.945591406097398,4.200722952521643,6.079577026836093,1.0476253645144007,4.542278238068692,2.387658940039733,8.35564798571235,7.8391958486753985,8.241799996253585,7.236094377579514,8.326832236200513,2.008287501749209,4.520437765798016,6.918468799459681,6.373924979351349,7.16354482874087,2.242583831512317,0.9843470904498974,9.168065780747764,5.601718955673585,1.5382592450741095,7.934365818873616,9.149299366292826,1.6956351857110907,8.174124552691106,9.332250613191285,9.383616002960174,9.141564616535012,5.464210123601028,3.5621131725386923,0.0727280769400928,0.6091222687152709,4.288390152973907,3.993261463915103,1.847139095698832,3.954800280316568,1.746500654553681,8.487912527758406,2.9819487787559886,5.9856435015831,5.028430619990868,0.5188207759399222,9.422337194911664,5.272259782504833,3.250576433918153,1.5812656963306826,3.3852663472683577,0.205116030233895,3.635581553482977,5.314859273045048,8.718662458509447,6.873744176977976,1.115823131332414,1.477463244379611,4.281233678183747,1.9570775163878784,0.2784977758275575,8.050148801180702,0.1952257069799412,8.306896051980141,1.4410396303296602,9.74678410807116,6.038739118261901,7.349829716298954,1.1048362796806488,8.621040734514802,8.391923428715383,6.529927315417177,5.0227486459538735,7.214891731316725,0.0592821533687815,5.924407553984594,8.474061349292366,3.5689988717475485,1.0828935648291682,4.2087724974320615,7.271044490585069,1.0730121037067253,2.0604856021288995,1.4755184682869993,7.969477555752249,0.6289262245248683,6.865865021144329,3.6645692075319136,7.557912428853023,9.643834187840376,1.145452995864823,3.1438504106745846,8.10125427718857,2.6615838605117648,2.151205970460409,8.253779778689717,9.870823640059704,5.568805901479657,2.780487483333393,3.98565961600054,1.70130327383609,7.618872788907525,7.734740178227679,8.751209923824945,0.2660256359656388,5.619813416263792,2.142554343431844,3.408830154923571,7.849556152865075,1.9203365236149617,6.383417505810897,6.545661912235982,9.540939149023009,7.75160928528937,8.036351471536934,5.316007490178935,1.8678080716237069,4.255633657183516,5.494895735118204,6.784192517137123,6.077091118319272,3.9397782891724353,2.6531310699584143,1.682308432036831,6.938453862722663,6.45398674312485,6.873724657578066,3.7252745280279487,2.62407822570745,7.597213286809254,7.736473950553341,4.556163739668406,6.119040847673242,3.735196642317412,7.019472001198067,8.357215966478712,6.882332773356494,5.125826268471365,4.586579594923704,6.423196509757442,6.798108916013303,5.58729443524539,6.24942275107395,0.9658868249453224,9.517655161423267,7.90773063732034,3.739278697067838,5.6281261095363,0.4732453013642135,0.4122781399906039,2.507983351119627,6.897016423646233,8.521477478000117,5.591858799798484,5.321327395823524,4.02309533791466,1.6159795595802118,1.1835410132658752,7.60679761220966,9.275035512965756,4.582832163862731,6.594456587156382,9.144576508809411,0.9011363293414454,7.704814531190298,6.168168843755751,5.986371788298613,2.925404284815698,6.838933547776769,7.947977548207765,1.1285816494369716,5.335214309809838,1.0126518098740966,8.725740192976446,5.076367226563473,8.079656892607574,3.680856376662143,1.250782268163254,0.4149930438571148,2.815096207723755,2.4423370036407857,5.603519740199618,0.2173883806370735,5.205705442991734,3.917717420120032,5.771222699144421,7.024175281503647,6.34091945079839,9.846443693733663,1.3826534387687106,4.297370089297785,4.248307366433112,4.170532037029206,6.637983920426684,4.8982806054672245,5.174325598129631,4.323559921467647,9.916994610185624,9.27561348819042,3.0772418936437096,1.115939247666672,8.397647240386028,9.971702514257244,2.926088940396455,3.5778492584176624,9.416331814852027,7.111295180030899,2.956383317796361,5.810464912839151,9.44229579364256,8.118131069457785,7.418327137286597,7.369963117270224,1.7802032429227033,8.246812392279365,2.7611863244345813,9.303666579015296,3.6463999101378297,8.576603970422564,2.6623349451780145,5.145269365822404,1.0688529548906056,6.60118902996174,8.360792751668383,7.184472813024161,5.232585129386573,0.4511587860145949,9.334410071708584,7.054895485786346,7.45864238365333,7.946805755108071,7.477434259276107,4.4111616409833365,7.336218292879469,6.25026787810329,8.540163336687865,8.024598153373704,0.4137438246725988,3.788870903326053,0.3471615218389456,1.0207492476609792,6.014107220036113,8.738218211622534,1.1982475870926723,4.510892874668315,9.108789048064438,8.143009836715878,5.1966789646593,7.71571439328831,5.22693774044537,1.5809233728284875,1.247361132216791,1.8836823206706976,3.509220949656795,9.305292676740187,7.996784136536013,4.328015612263175,4.93076709787574,2.656094576664149,7.043529564721301,8.027656714620381,2.3890469566757657,0.4182162378646537,6.238889431629704,5.625121191353166,4.021311550288765,6.438939417732101,5.506132979851436,2.505815765941928,3.977289756227224,4.281135697472417,8.802479944755637,9.609041541289594,8.930013623964971,7.191780240519796,5.849927336058219,6.89261635465955,9.39109220732689,2.4999873522383176,5.351205076734049,6.89608019000408,6.792470013242746,2.5227895957683644,5.867315273897519,7.959131424201564,4.750789800502439,7.93298076698735,3.598825977545548,9.387601271637587,5.339284404991011,5.959479507926143,0.313615688045884,1.7026913712859426,6.329338804710448,4.1987037178227125,5.081637904581747,0.6297140873370044,8.341352384103843,7.845056022962172,1.8535397572184955,6.343293572573794,8.183152116542717,6.408541364155999,3.103980952958448,6.561111504781671,2.1046174768321224,3.1825499727942086,2.4006965310717865,5.569251023902066,1.082266467655486,9.333103803483386,3.335123536628668,2.1897012710580133,4.965498136018312,2.7699781845471607,5.349040863826443,3.4850914978208545,1.320668107690408,2.65895242027262,4.384398449615253,0.3029322647962562,7.70642527014762,6.218245645904158,6.013596072783543,5.46049931882766,5.903131723250685,9.346519527072203,0.0856921081074069,0.4779970965774927,1.9149340993080235,1.673013799931501,1.811944594691827,6.719438858486502,4.594833010501653,9.917788783346932,2.268859148029448,3.108301010274946,9.842407168016493,8.31758140802247,4.697992206785328,5.545968855459897,8.431779206528404,4.80980246046328,2.060237235820843,8.284445385543854,5.377724912756435,1.530425971638213,5.055858311843976,4.132033805968588,8.76842531881758,1.260554313607034,8.752098044480256,5.122110168102847,4.0436442998114766,1.6196718440294031,7.008179626386793,9.268067091100406,3.7537735389931983,2.415850006708334,5.54866916999157,7.961859484338703,0.0376769455053305,6.313774363954292,5.965160006986308,3.1815218580416005,4.514230036049703,2.4696322416182093,7.898857379518428,6.345349333661076,5.327116220389852,3.925261984178272,2.9138438602073213,8.227364860434314,4.5140767043356895,5.014474198416727,5.208287305407416,4.483669354315765,2.5608842623842376,1.2034044024305202,0.9853726716774068,7.574625233406886,2.2352782230151136,0.5567281495397558,7.97517406695886,1.54061652860648,6.2514609173335405,3.386432714478632,1.264802566913095,4.144809792543599,0.1480886113262514,8.410449825125603,5.134979613418572,1.3916001090796182,2.369803183889847,4.479751921385267,1.8886938281554864,2.6859916150108587,5.343855642352632,8.326090130383855,4.018396856899208,7.169752735535483,8.766842134606485,2.16300940296162,8.071919704021601,7.574021983310274,3.56937297948135,9.895199595008672,2.6257237143595704,2.548032660316956,7.722591646531978,4.346573180510842,3.3079499478104326,1.7866280533910297,7.65332430934544,7.86321806136077,5.665640032301404,9.573136131913728,3.1816327042265424,2.196190454793372,6.774667689344619,7.584086407997047,2.249059705518224,0.7661076426111324,8.10516486586372,9.765019736460124,6.446722860722844,2.778669001438941,9.96672608552792,8.932666362670775,5.133806462802939,8.253212848418338,8.158205232629669,9.347989696734995,8.4092384377346,6.436792359571645,6.093037189565074,4.673572883316117,6.264856399707574,7.952165865303828,9.690376263025533,4.672873581821201,5.736532029887571,4.448054950587817,6.6848862098340405,6.299205040612596,0.178337901936233,5.411615591006584,0.8848689569901402,0.2638361800553834,7.911971620846982,2.5864986215930053,3.4065507728729925,0.6408458760406621,1.7950026049435064,7.656048182577924,4.935308302326209,8.806684625501484,3.972421314668352,2.687007357542682,3.4759981445865096,7.127717935169045,5.550056723344861,9.041912075524278,6.021687693888833,4.930182084815032,7.857527238867329,9.475338507334452,3.5584591124497056,2.4987621016547767,6.162173962941392,4.98872821153881,9.891855748647837,4.6236178414773335,0.7433155136034586,9.77369060777636,8.4358694559354,1.7825014395796337,9.046052531128693,3.4066682082174458,3.7711198453444448,9.063914823621593,5.301155650353153,1.3776292939851964,3.69056159341804,7.220974462678807,1.7418418806801672,5.902311974063588,6.952741329444168,3.4385357554257934,6.938806887083223,8.842073518293187,4.721167442332409,3.829093281797857,2.511584013582857,6.042054798633042,8.79852048038716,3.2466126718519406,3.962355245373035,4.066255175499839,5.608123417775172,2.284089615674386,8.222111553077042,2.956022775042213,7.05362690896682,5.13215741779552,5.8589760335275685,1.7960873882730288,7.350231981781706,1.886205190426311,1.1347363762743912,5.4667949988878695,7.092971369176652,0.5003583643475673,0.6939531494054207,8.02679162705919,8.09032699507332,2.453047170590812,6.152282028002035,4.431800751446595,6.326960414035129,8.62879284099225,0.798564245822565,7.779844259884543,4.930291045210393,5.641269437619965,6.539313600171202,9.226231491291074,0.5671995355173787,0.2947635212444766,1.7826178148877347,9.864477260267364,7.150763673777757,6.146411190545019,0.470390534147479,8.791102238929648,8.127568532971596,6.648000438670849,3.391308154847027,0.7050495556825731,5.800384879009225,7.196945714608375,0.9424035047724744,6.337676597984959,2.863660678871586,7.642442212198118,5.39615850601837,1.290367878104367,5.26519447733236,3.9573686336671865,1.803559682816519,8.415157240621232,0.110284484991362,3.12128276878106,0.1259503816942675,0.9600694650615272,2.9709621917308104,0.5427118538937359,5.966305323571412,0.8686290798618279,7.017136340660953,0.5264211262716112,0.593088948010968,3.0532589903326635,8.965715249692774,6.413932487233165,7.701312919289194,1.4155210947710606,8.34125433247246,0.0814624819423515,2.1305735073300616,6.160923211499934,3.752464085940504,9.841933917185637,0.3033924681831823,9.985981679365432,6.23627832861316,5.587069945960965,0.5951244256397437,2.733288766658907,9.246626882915956,3.542460031892442,6.61653200467251,9.994963504187217,2.630697138335412,5.760808790144938,6.964377927022132,1.6462724656541516,1.486725636961821,4.563079116581733,3.8581252175928937,7.142154368573138,0.6950877144858625,9.721666237406904,0.1427698168583235,6.013168243361512,5.626325958673883,1.3471573086972577,1.509159827135298,7.926774877946268,8.87562458412683,2.830169658837696,4.379639639625684,3.5499504103835355,0.7254701298665189,6.732042460158095,8.251929348056901,3.0487935739120706,9.901757936307185,0.7585155728235493,6.61790713814521,4.48228014526089,4.466019011066559,4.576456160335402,2.5868177380142843,7.155628273322324,7.215765260850269,2.8239711010582704,8.353064608584502,3.1684494365033,7.250931239865422,1.2099976751206645,1.6870164280374569,3.157956445082512,5.938737676678615,6.455114854786993,3.963561719674749,0.7783915311051404,3.736346520927243,6.887675159591515,6.709954611303159,1.6019641320544276,0.0778397026896715,7.529816172961167,1.0636816638524371,0.823491439642855,0.0270121683416346,4.326013259569272,5.032639009008144,6.3766404614859065,2.9606384071258587,7.104247163867799,1.6933185740694157,8.319900531103473,5.718483288904456,5.838898233720484,2.0977541377910813,0.7410874930038824,4.647248030806715,6.15611951922359,0.950464586616856,9.505344745281668,9.804143602328068,5.454566953924919,9.50069155273406,1.794452375808531,0.2542068517952489,0.3940953529038993,5.875124794267791,0.6164188343682353,9.585456068240871,1.4193321075939858,3.047228060529786,8.225178019983485,2.187403231040931,2.429684584545706,6.423089557910182,2.7608608848926237,2.174476340077003,2.541777143056575,4.906474993407269,9.66099872731482,8.322379415612284,2.8461026456017717,3.633732084980977,4.645122505040774,9.789296470169903,1.723904683357157,3.5748310349188284,7.29426093982715,9.639437342689432,1.5567521276423768,2.2737995419434576,2.2569467439043023,0.2093202949207351,6.041156249809495,6.707030741458938,6.025258901252534,0.7132298941281434,0.692301257456317,2.1038655449412405,2.902945156989146,7.865436559100473,1.5939026574892112,0.4409221639753213,3.939875077130552,4.163921701419203,4.509073381889542,8.269035440269686,0.9800541487094172,7.039420824219621,3.379455710452908,3.0998013643547,9.3254312608598,2.4846852441674203,6.425318353393664,2.7512775737609205,5.071438826403851,7.862928925962779,8.817225235162606,8.386972402950503,5.821807361446398,2.4881631533822213,6.612333832618658,7.09905045779608,0.1069199011350141,4.392105109318746,8.432620428217643,4.895875962430473,3.113754421633211,8.717977710246627,1.5588069752980571,2.064452324162004,6.8737236693613335,3.52435941526575,7.130168357337789,1.5770362125949189,2.5226908960084597,1.5664737836363352,9.529103135635095,4.054039608509241,3.37219909910226,0.142021561707647,1.534175794108874,4.211358562424995,0.6850279257189407,5.107393295062169,4.550154384644478,7.67168140344352,6.598027014003166,4.459473053205738,2.246607001050714,7.268635660178063,7.078621034542042,1.532961605153874,9.147518314254029,0.6440511601504317,0.550377088927162,1.87350417662427,9.094607980487712,5.199981240369218,7.879409206729001,2.278431880765006,4.902219746537408,3.5828946362388225,8.278286070661927,0.2260443935922662,2.438427299661053,1.5257422430237877,8.591890387215694,4.675438496937657,4.042200438932162,4.494827621010798,9.719245507023352,8.502673943359241,7.063687718503076,2.904789592232546,1.6517299951844775,9.214336290244534,4.230755227964829,2.787557994686292,4.709208264176354,9.17847422820352,3.870673133912932,5.626409972480994,8.029663011085669,4.271325310483912,2.335418019263683,9.945257483830334,9.565708574521596,8.43479169125514,6.883738793859226,2.9486562806969694,9.13412938164032,2.7555667012122878,8.008094946768324,9.182581679413063,6.030038404299115,8.030562178911788,7.916950992017466,1.9315775112097988,6.679244735960847,0.9346793690444356,5.078501431374813,1.622355481405775,4.163494987964317,8.329820746984376,9.871678396302045,3.179598316596177,5.319556987831766,5.112980243704886,9.54401509831066,4.785837324327735,6.991062053996978,9.21789233108526,3.733785595368401,9.021222382453876,9.174562218910134,9.306625039671308,2.704461854714264,4.003555942699585,8.703959082257018,3.591618242804188,6.002530329335051,1.1805450726005196,0.5627498811124076,4.119939894921726,5.789165325927175,3.926991133589413,5.77735770160842,5.150843761717851,6.857072292860758,6.495324310653898,4.242457032065801,4.249952404198632,1.40778340012232,5.132385720964592,5.871791281356967,4.764893973538262,3.25707335086999,7.216485442517358,0.7466164464522407,9.144403697540472,0.2064343954579328,9.623501334382778,4.623556009346625,4.126699440035412,2.564440174631881,0.1007113483228316,2.747902644217998,1.0939992546033397,6.598208426933947,3.1907497232072624,7.671793284036616,2.0691618734611694,9.002348574321095,5.229815151058325,1.145061964689814,4.008452356534789,2.0676052406976164,1.996854261681792,5.063697376522089,6.718920156363726,9.11618205503428,5.021620107636534,9.658387750583302,9.416348520733688,8.650625299843604,4.999772649624186,1.4090394368798351,2.179044698153849,6.476700027119756,4.217549802841961,1.468016317539964,4.789939336393104,0.1743054550204592,7.338953708995932,0.7358129448969086,6.291136199121191,7.930103076255994,1.3264387445396553,5.186386906660125,7.790675143594696,2.6063345475700137,1.629165930016191,3.3681911096745685,5.546991765833158,5.7527959485475,1.30876333457687,4.575688476739717,2.6828219553948784,8.420242180649508,3.135751320640308,8.387045245338596,4.285646126017921,7.265857658264533,5.100602285441437,6.219626241309765,3.953565108613831,7.682067678074907,4.251893835736583,4.5746164658582185,5.176786682309572,8.318241183859834,6.5937892860146485,3.4916038656574977,6.703196339815428,6.424265730085773,9.310192758797044,8.4141643602535,6.474469237512482,3.415071106840436,7.795764488612695,5.75208293062801,9.852699881009016,2.4750612856980405,0.7965584093088696,0.6989181188794769,6.400303883516804,9.39260228911524,0.0193191429150518,7.257710469577773,6.570651825329454,7.323041922194658,3.554054067623356,8.20496444657855,0.4470693141886195,7.554311006220276,2.670719413490877,4.768377748580716,8.226362715572206,2.71359035191137,1.8520751164389349,6.813131853478842,5.333948915068046,5.144038687461845,2.5676951553791314,0.3488030582002766,4.102691383317168,1.0655948046776798,9.059891506492022,0.4125032347173052,4.316508541843814,0.5224558370082788,0.9554387456476632,6.5886666692202205,6.4711126097409455,0.3305219487943978,0.0113147512087019,0.78818077242784,7.629988977119422,5.845764727515071,0.381182451884916,4.880970158728273,7.120293570544513,8.689513946008063,9.340364906590104,3.2744056295406665,1.358324284132657,2.3692592073144745,7.761714920402237,9.714842150423106,4.663936173603806,3.053532135477898,4.291905819600345,3.0481314464513245,2.564875232071543,5.937507524071796,0.157359803735444,2.5955224866498816,6.61382077844989,0.3206269630680503,0.8320181650893499,2.933961447857848,8.778047986089849,7.648861601652962,0.2215662941624352,5.017128166884919,2.746874939874168,6.486456590620629,7.215538825934612,8.628625771292825,4.754162371040143,9.944500885455843,9.799861072871094,8.821667244710332,5.748694951580708,3.9800643750381504,3.6438631013978497,0.1212475008774482,2.491744972423665,7.188082349491646,6.036320998930665,9.164221891675336,0.5002226691655787,1.552766031773306,7.892437893521301,3.5850763119533378,1.1834533371787792,9.964505051000891,7.872503026693629,4.087410367581226,8.233474769461402,6.806038701191533,7.899747595698333,8.152063775656499,0.8472868329031791,6.229728876880957,0.0678555297682759,0.4345624630117062,9.039800090558408,5.275637213568055,7.359019858685248,8.38500990443146,9.49586767564585,8.69352847922796,4.833114486972939,3.3597030738051146,1.5449323620603816,4.003214824872799,3.6649357916116334,5.595748419558734,6.655094087572135,9.783254764450474,7.283861861007325,6.4374853244292325,3.3509243426834256,0.3450387649832598,2.8812512885469177,7.684479004596177,2.0527194080380173,7.121881936741144,5.797798425694158,1.7185686975046488,2.6162480629183,4.963036034864765,4.183747051078475,7.785638475467596,7.34404642543247,5.745745034730171,8.222747114729252,5.626695406843086,9.6438925665726,2.1722409915108143,7.141319936021527,3.69944132054468,2.7896619442019386,1.8038747596771287,5.525034762615438,2.1546943274921126,2.003508514484059,9.90531905083818,8.017474168457607,7.482768202543753,7.940606258827549,9.689228737187426,5.732766887532035,2.2024387740286056,8.622096407532391,7.427307294540901,4.1430831233417305,4.735694985746464,4.112523984788691,9.29942160229004,3.4353161149829416,9.634842786561723,9.102717712539498,6.305211422481733,5.798217731000746,3.700892800699709,0.1833838901064988,1.2762318623775326,7.542313233495487,4.715401265881653,1.498381341879681,2.63960854131871,9.478368998469996,3.671328353102651,9.076819452191534,3.046358322935767,5.432200943671609,0.2047708336219789,5.2187511037357694,6.369420106106302,2.34305099337178,5.78937176205357,6.471677720509855,6.868860783817565,7.764033220221032,3.113392429294165,5.6777695643187815,9.815790297645943,8.981441706651571,9.526654280983664,3.861363985285714,7.869281058966617,6.198979517603478,0.8273508306224109,8.239803891570654,6.771012763573646,1.989173595152668,0.7973855742946134,8.370221306483307,0.7890182949120106,0.9135386536643664,4.274082879043153,1.3479782841947707,9.136695974427194,4.702839362632368,5.691509806545715,9.281060894780875,5.302632256383486,3.5359114595731853,7.971551058158318,4.428501974752107,3.184694256023054,7.232294586055346,8.016056766130431,7.917161675842714,9.776744141287075,7.866669488749627,7.699334359486862,8.574852537362203,0.001851952954428,3.6243141118777062,7.376030960344221,5.997190111102774,1.7757200263161763,3.0373308908854533,3.367926110821068,5.678281111723161,8.315982964410765,9.3249177977768,7.50092412853639,8.429503901768099,4.700959584515161,3.897753196222874,3.9270853214421697,6.160385283399571,1.24236705555809,5.794941827902612,6.651328601837255,4.389087402062389,9.531671767711671,6.082132723795752,2.199994722366252,4.792162574335163,6.75404437135294,3.23629124580479,0.7964160628902317,5.83435634710885,9.4787016861968,4.850719855631738,9.06109080647038,8.35023588371694,1.4741278363398336,7.081699218355708,4.354655250719785,2.5024632526293686,6.86938355666703,7.426607186564214,1.798963187348388,9.144446820562084,7.511472439514409,9.333754991419688,3.1707321876369097,9.393350157429868,3.6851765783838086,0.5396976142739174,7.629693887090233,7.035081440883408,5.979109922633325,4.89893744384174,0.3216527032263139,6.245972515201544,4.168346152227937,5.60209402740945,4.293213419676363,9.66056132765199,6.041089011508472,7.492363306024671,9.363469474710833,5.9159932291673964,0.1206251782240075,0.3429167831054236,7.023384341018618,2.7908513615128347,5.793797273479488,2.022771810906689,2.7024887506171416,5.046410559480753,9.755694633560822,6.162704892091916,9.361481045130231,9.593798543869475,2.081099964205074,3.1119360246894443,7.699922812187041,8.667640022913439,5.192267441895277,9.932260672805493,0.1157219875527026,2.995926555852156,6.231617537445798,4.692899109374828,1.1660296642880077,3.677870854805636,0.2544714329503905,6.427460460752794,8.927425429963552,8.848741237834588,6.995444737655465,4.657701954979276,5.120316186914897,1.369188239956629,3.41017093119203,1.8772807549827364,8.212002033499546,9.147539013379598,5.36923261420117,7.277640405129441,1.2146477090712748,6.085346432772384,7.02791021377846,4.527681295114007,2.4327308447069864,8.773745205413913,7.429087199537224,8.998572818491951,8.184026474978234,9.903744295788623,1.9217273321444892,0.8674776780397409,3.370027913372585,1.290041750232589,5.231301129062244,6.330289054077425,5.782886151734036,2.592401353902701,9.088240309687968,0.2117236373537845,3.48013353763493,7.18992475398061,7.669289263491594,4.161185444318599,0.1690981325636709,6.180436791237374,0.6309468118321571,1.078557761535145,6.5025071964619,3.124883261428548,3.4803015270825286,4.868070769832435,9.78578394859374,9.654422207387103,4.162609993600751,2.654992172182822,3.0259215266411577,2.687812981616041,5.322458071417807,6.068598078009285,4.887793882296661,4.079943622481523,2.1128503756993777,4.825055913821133,3.4110271380245805,5.415954627983429,6.751894155116239,6.333121744366106,4.624902104055933,5.560524242799609,2.848561309607597,0.2424025902238968,6.250194541681041,2.525685591376869,6.689537100682745,7.470084995969594,9.159277461037812,9.58122795479613,0.1052604630970144,9.903742093546374,6.8301831849416095,6.4352416037418925,0.152130951953554,8.612334118867375,1.4549144724782637,8.37330153933041,0.15562546258716,6.459642624991613,4.3480153376982775,2.0076672905933517,1.0756139177043411,4.401276965463264,1.2330580532142477,4.864466116910475,6.252170586528523,8.273841936073582,6.786494371828667,0.6519976670615046,3.074325325478372,2.879786079325004,9.150324234710842,8.677820443927635,3.701479183504169,0.7115525588258109,8.941073178047334,8.881899529641872,8.54746132030725,8.450816377355016,4.802540010861547,1.7743165224959825,4.774880504624277,4.945977706694649,4.899317532448607,5.387725861151162,2.5765702299115514,3.6624118113361503,4.341865919634696,1.3112120951649986,4.553641345615005,8.104696170695929,8.280595427328763,4.115637719010303,5.188083120843535,0.3365033213505664,6.744325564685969,4.046058829468631,4.454776830833458,8.736727271797648,4.618344345606084,0.2119224622785276,2.274908908690624,4.75620614308259,4.243962927485358,8.603701372804807,5.421375093061666,6.89635741915121,4.693232970434701,4.396557340591649,4.462866684743513,4.109215696938389,5.385833858542034,2.504434017536037,8.910551938418209,3.3308554809387294,1.4752383417734682,0.9655047859774512,0.1342291512012761,4.228560785668615,1.8761098854542468,0.2164790258724791,5.200195462895238,6.799785486507615,0.8575105091110435,4.609207729196596,7.436286786007466,9.858068210084252,6.671903446425609,2.4483955080952056,7.165536397789996,5.9792942681983,2.117992885815477,8.511108258475547,4.274044272276009,9.619776547341258,7.229010074477779,6.445631546318221,7.283528374765619,4.780970188182216,5.05226477801674,8.51207385444744,6.809285366435028,8.972433251916417,8.908267535742686,9.764900340442493,7.002146588453342,5.0230171766174205,1.6631170020908237,7.053805596474173,2.915777167599307,2.8294756803733123,2.382877764480681,8.751220573514502,8.679644466821582,6.309704448700582,4.729809813707359,6.721144600987991,6.072294502983907,4.157342483233873,3.796308674856344,3.827943081453502,5.891334031560382,6.476693561208259,4.51741753515442,9.686914502130431,0.8384571800448104,3.47047025953777,4.190746831254409,0.1692134346494311,3.649571876682252,2.737099171728425,5.060362702274808,3.3641054718326924,7.261821349464612,5.099324954076485,1.2976223349626437,7.500613241443473,0.992288960826766,8.390491680793573,9.314221940862192,3.2244529018485397,9.26142633262931],\"type\":\"box\",\"xaxis\":\"x2\",\"yaxis\":\"y2\"},{\"boxmean\":true,\"name\":\"LiverFunctionTest\",\"y\":[42.73424003122099,67.30982160011246,63.73895583870944,64.55587349026104,77.86868893750503,50.53506445991968,45.52799705894845,88.22676585483818,37.60760322194162,34.419682984891445,21.248594932420872,36.846222562334944,61.482514665336666,63.080709841129085,40.35363929564275,25.78193360329599,79.5712637076165,80.63802788498398,99.82691170332492,92.00236564277742,94.0849651614114,83.85630605951535,69.24022827059993,30.28367660836084,69.78506379647021,24.47646883317013,90.82392890169538,58.5457068331358,75.79782655806402,24.17949309567712,62.73987383382603,44.101071828269,42.79746125897965,51.1724731762546,20.051156868842792,57.33287053761388,58.92533468863506,89.05047326712513,55.88204863059859,49.08450350941383,99.57976410899708,65.6970659681997,57.809056690731154,59.67486676387036,84.7345038007044,47.25410951761287,51.13283701487565,80.46986874699724,25.83869916910156,89.2135326514607,54.4162157174376,66.50343804045187,80.59809274078681,41.28415379514759,91.22513666565207,98.33799778052888,59.54194891248997,94.95498920261386,20.090289802158622,91.53902637084228,44.88362558010444,44.91963397820816,38.24710918159515,45.36111209207215,37.078766695890806,92.46952850479774,91.92189817706932,28.1769051936498,31.4286743093194,88.96149112085332,51.91502166981968,33.54173418714226,60.85355219492538,53.3334439936076,37.53292429903722,77.66017746221075,70.50314498661848,27.972929084435243,94.0309371460274,64.67759725840553,40.01635896508334,36.50334520578908,30.875838509776123,53.97099251122806,30.84328104726694,53.26531300761809,31.901634258729416,72.54460172191115,82.81936173490865,63.961819801820695,74.40454998839178,95.07029896672488,71.06972236564863,49.132655854710606,55.95841269399324,88.84201808576296,30.45762551600771,46.058961796034616,66.18240551763873,74.11116555267475,81.07992603453641,45.45654367968697,31.66873072073202,96.38713677412478,26.11137737056316,27.664428462950838,59.595403352157504,85.54168225148787,81.96032850842613,95.01594129552734,31.32820604903907,50.058180564994885,42.571370297736806,88.86960988437376,59.06836962249603,22.147834753253303,76.63715254707172,51.09584782612821,62.49174106968098,91.50299416079984,40.53902197062493,39.22117404897417,41.055400334407146,47.048639300776216,28.58831797168797,75.77757286468716,36.59189742633093,94.09165978164684,37.25490511278966,40.451362344702005,43.76161830486531,81.48304776091328,54.20851899536238,85.54676992244949,82.78829698846309,94.35923382139732,80.52833240832439,24.152893573525027,86.98250189592467,95.04580773643288,99.49513540397352,30.02140753059721,69.06186154612277,35.95669327073275,41.00077127300792,79.64674705782863,98.21341741592482,67.58844011704184,88.04675758577979,20.710704306306237,22.930531187969542,67.73794698606906,51.11864812803513,91.18062519785232,44.1585530468587,54.5640822003238,62.232735826525456,41.84310663089981,92.67958939626357,57.162686772647774,53.93244872952136,87.98024391474661,44.95827213183188,85.39722756087687,29.78182821770796,34.62308266919197,96.06733329373878,87.39579926461664,51.0319121165125,71.07651589736236,95.43761515447646,36.94871222912674,24.72083761784005,62.99744516042442,31.40775029308746,34.98552741691001,91.32313517852636,20.59227669159131,85.34560211710948,61.35606210684861,64.74355101162402,73.741436836509,54.51559938464083,29.248951055393174,28.225617904385903,80.34897593471541,37.68281146138279,22.248134689411536,98.36911112791528,98.43132154885546,50.25130698750239,22.04190756456906,78.18117268741997,86.48096483885354,30.001095209264783,30.836689192738906,85.77791997574325,93.75259109721878,83.26038693393197,36.05959593356236,52.92169755473768,68.06739406927312,32.823477905666294,36.84819941060066,42.6308857654844,60.76106162326692,60.86439097420381,85.14356154780421,80.24081605501004,93.09885400879536,86.63213782596772,40.310203864452376,46.50374154431999,60.0338594906027,21.141690765091568,92.31216050269772,23.547537004987134,45.7953016653309,65.53398329571253,61.42731108854926,72.35679142606998,62.20161402353672,38.32011405624275,36.08625502350975,92.57976552603988,41.1173389388474,42.47817871036108,53.03623168802757,31.15506617199792,60.58182755385923,73.20254093617052,82.88003936618935,76.91633934913833,31.810877126421097,56.48537159767392,23.08689606465428,21.42383973767594,55.210433461904046,40.23683955661032,74.66886358986902,77.93926294507301,91.63229796466044,80.8546010831231,23.859529850923337,49.72984082862141,41.841868140169765,50.8905959861729,32.80605271749613,27.81632829524748,61.67876340067205,77.63050486931155,76.15287215455542,56.075545774098174,61.78231890311569,61.30629780069131,75.3256302214445,23.834014076481928,76.79168870969791,66.576072060583,35.84869717372594,23.92470829970116,28.682223244631075,61.97530731354157,80.67268240730263,46.77258296996009,50.329912856417735,94.731713203689,37.04104672260608,28.29995396602813,47.47280910400144,79.6737695593819,70.08618328449055,53.26363514956554,97.18020262654645,78.79971506356586,24.948913950663503,79.57051550832387,21.923084472468663,72.02586584939243,36.8386269034127,75.71537672300462,44.78236533182369,89.84050463644519,46.95310692731684,69.57566843234375,42.87420477231906,93.37772361137426,82.47967848225379,39.46423010756825,95.90373700469276,48.57260716609826,72.149195813375,79.42825848915172,21.832172917192985,96.71738769257968,47.55530448698919,35.182311474497936,88.05662333827985,76.23194262587316,26.93946180986821,29.363566510141563,77.21534965229192,25.98266047672672,93.3740348099252,79.32321095581065,46.8393764773591,49.03510233802706,60.51968769632811,48.877553091883215,82.67748411506525,97.97895552812926,66.76172123505545,55.68298621340232,37.821931221457376,72.27467353982402,74.84614894523176,74.8152485611491,22.158802869479388,91.92976805283767,47.04852507433414,79.53326099852873,80.78455256802559,72.04439830497917,51.589321851543374,68.67073734532204,23.215895300630123,80.9516633750325,27.96709186626711,51.74007406396814,28.28950301319733,86.96595566552756,64.02419147487674,75.2764096135418,74.60657358740903,87.32849853268036,30.605552267610776,72.77825123239073,66.01072435229258,22.47176980570523,36.11383270582421,41.40572331025766,25.80451003433329,48.37758447190412,22.176200697238052,64.25467938061837,36.92007684638298,42.96024844073589,92.83773009370272,60.225347929882034,41.52111449955327,67.8769406598453,36.13371478939965,25.95165486113479,21.67250835202149,96.1223236301005,77.9688659314493,83.99585186339058,98.47341825430657,94.53029627307517,78.95305589100127,75.51896558554554,46.947999754830136,28.32138014360817,65.89780386940608,66.10026360708738,96.17898283325952,55.40566453293675,75.26460994448547,65.99765019173773,34.14081832808394,67.36514462039334,63.20933674902561,59.51247951274844,61.073834691877984,33.11903775670964,57.078218498453424,68.45226174572774,59.155935894843154,59.09489561009178,26.201416783438862,35.26193216133757,45.677815422040055,53.54775951407253,67.51499550868834,89.06760836184486,32.733179047092314,21.207042416855597,55.93897046207326,54.56823179293025,64.15209747961379,86.65774170972004,84.18884407859824,28.003462754400896,94.7196293341339,28.833151573955572,70.76564068273889,73.79250348764606,74.39019897784705,41.22809373403128,46.42760734119936,63.89415001195175,35.96699966400787,21.624837426668098,64.97155636068605,57.22228576096058,72.53849649787696,31.736046066692797,87.27399156718812,31.697719076842183,91.30748839040189,55.96169380765624,63.984420749815584,91.72650687711908,43.99304387816536,34.54615969929212,55.66012966555629,39.54937828221654,62.22751292322536,42.02062915554532,89.15916284763655,68.58596738061807,20.01925357943218,84.43789877438599,46.41698693809168,45.61663873239657,50.64502497075739,70.42100224672646,55.36485683153784,70.2908437255762,31.74245773086339,97.61315716192686,78.36850296670912,40.01656857427064,77.93359264598207,66.00203650093115,28.73511971228117,34.255714143050085,23.304651353717183,84.73904573397449,64.1363802076188,45.33989189201695,30.107592162256005,58.72367007683033,62.0209077374351,76.15588007844042,97.59497683576733,54.79564243258998,52.48273652754954,49.5944003672098,86.15391271734889,32.50537771193903,47.50503229080715,77.99766439003128,21.25559482739572,43.15045788845558,71.31577302037678,34.876167840064376,44.21684552994169,58.883605958658336,53.761885277574976,28.48217519643031,95.0588257804506,23.54341764656742,79.97942051382543,25.7138216872926,57.38366424200635,34.03290333243288,31.287823714314023,30.071838123338004,56.22293093562739,61.238792750983386,30.67075948342719,98.35165842129916,40.62127094897785,56.707307168222655,37.301564608152646,59.51381163596365,80.48132659721456,61.68816114355962,42.851909657444416,39.871728698715046,80.71475249816427,29.45905405810106,49.59731955246956,32.118617332310826,40.63806634355856,32.21465859879618,90.94180068339412,78.55233592104256,64.87417968354092,37.95401779964265,60.81814617593559,61.66665651580579,67.2322980523125,24.80681257781852,97.8321576957365,57.23511764802585,94.12254192792828,20.78464917711811,39.80467165082472,28.319645625066848,81.56929418838173,45.6100039675769,87.23940067325975,86.59082925726855,73.42358342452559,73.26254428351817,76.0127753658508,73.90110677038196,50.95266861474792,74.62621156548367,91.7925575353887,46.6058793501299,95.59112209719628,21.08652703190158,47.92660306121897,30.56787213829921,30.12958632360189,85.23435952092547,93.46946518000983,82.22066033863885,98.1292575194048,37.30631761330166,31.263992976775235,61.656302563169085,86.32300917940944,23.187127267044776,99.64525287999057,68.17967433642582,98.3153449745102,49.20653065870216,56.64190564268714,80.18891539179137,83.4160360449055,38.642644268019225,94.38408690461782,89.39384974677829,21.456424248255885,30.285448468414646,59.68776851256539,56.87644112905461,76.67126840278684,27.17691008424272,71.58842453577012,69.30959449076659,38.68956787824355,63.39151714147196,37.77657655967856,31.753842168048507,65.85079477232564,98.19794226404562,38.9546679337396,48.42689194841215,40.525858079203736,41.31678573171958,52.33537073493445,76.14844085204962,23.10436192247561,96.5699356548448,23.7023903591398,90.50025455556478,91.55024790095992,61.95913500732186,30.9597462895174,65.21167764455551,70.29057279222798,88.6207166245689,64.07163006156557,52.85675167226706,87.0632955083291,98.47614378820953,71.60825641263466,89.95096298422476,67.89880902632514,75.18303931282446,75.0533694039135,76.38295894722123,45.68107551429069,66.05291170173699,67.53084671790363,45.20573013705856,47.988189416293096,80.97974120133718,66.61790724937993,31.936891837053487,87.01095909462978,90.64914296594556,57.291291836625135,36.71259456183415,95.80851963239242,90.5815651615661,39.550539707347085,27.647498904215794,55.25228860392854,74.11175891949917,34.03108681759552,61.05701267453984,54.033239541801336,91.24409190155724,54.36533062457029,62.702111498803006,96.4228956801458,43.97534126996517,43.11927455535531,83.96760639536342,42.20311889151749,86.5492696058564,27.6428487489316,28.90089978475747,92.10586993302174,63.26498259859483,77.5051413355391,38.02311134900354,33.301949470568665,86.79634097861121,48.6898725618599,56.40260952975956,22.23775178202872,50.87045873543731,81.63502464999827,85.70201418289355,75.90038311060334,75.37437868349937,60.49914132777264,63.06634634078584,79.41053974505148,39.78414390621783,38.52136545968448,95.99398591312438,22.21519094070203,31.157237093214523,65.62659409609984,79.02678709586789,63.03128663880094,48.405119693190734,98.2380895482374,76.30821481062767,86.51126728536633,23.219749935056324,38.87360883787069,49.93368748732641,34.60811184658225,25.831941816731774,38.007333167574416,62.69085049896341,75.65961986853642,81.92167383720647,23.434892389417364,54.23889377700729,29.776926686829384,54.49603091557375,54.71806792962361,59.8569349369795,91.42645010105916,84.40764020992715,70.93766761091135,90.83258583468246,74.27748932036987,85.50839686104601,65.10226407873013,62.01746013047205,77.92777942179077,21.575144958060086,75.23020573051387,94.76145747234918,77.11536638614032,22.94349794377748,50.23085126181791,84.76650418170289,96.6886840035536,49.61306845091018,87.29552447015264,89.10479002412104,29.862911946084,87.66307733749498,45.9399916510892,67.4590177252334,63.11696954851368,73.04430909888964,79.23717207557843,55.2704878094864,91.06486577193058,84.7598737249249,82.83368741182878,56.65974735474335,23.00583086756881,59.38051251031556,91.87564273153464,35.236012448601514,98.60739776084702,84.6152496010537,76.78638338256519,74.17279663378565,66.962070554701,77.65362585993057,53.75244449754564,87.62304864161037,75.70767648762246,81.70024899036392,83.39899377327836,27.365603656712203,24.451261815019038,84.07886947877887,40.750721683059695,66.55758460094515,55.4968684175189,21.76313629341074,23.22250065330172,86.17001938230365,68.61420491909792,61.90744629894759,95.54816667774004,33.84920207430759,40.637667172703885,80.53912625885019,82.01881823663436,52.39177571513316,96.0782747715008,95.06036621721366,20.99277720481276,33.786232187258,85.6175553347097,46.81733478608066,27.63701429598627,82.7999339538867,56.36668044601676,59.39286293722975,34.9095511052937,72.87160431511423,64.0993054498094,36.53383502312607,47.22652067513654,67.75034298689377,93.9897804346728,93.63010802571934,43.03247235179864,78.84967822079079,82.04152644190475,84.70584799862358,65.6609827801184,20.840639847967022,80.93410283569989,28.527795986348004,29.349710897632143,68.44998421169223,98.68164168202414,39.40315786126399,71.6648704040966,44.29229165900808,91.89808908884235,67.48135136910912,36.59818621251767,40.97048403563426,54.59845843344968,29.76348496238501,26.29866946107853,74.40491165983649,52.57320496712963,78.09806334962217,28.80465603500972,68.78924383208766,55.46454346957923,24.639892356562285,63.58415826207815,26.62434197716366,86.21757982328064,70.5565972312023,64.55740270083587,30.677520357572725,42.99656908032664,59.43007177082394,70.66268109117505,34.658457499372446,20.709302250689877,47.58081498154365,58.62971636449949,34.75468044774424,59.37324046841646,47.07886868554149,56.407173288512624,47.79662004628752,70.277427982944,23.431760879485736,33.67242319554188,54.62006952887997,48.50373724414854,51.33055647630536,84.30085559043837,90.90653265978926,39.89350267980561,86.91128482290443,56.70318922322863,41.90564954289766,98.83648568037428,85.98414331473339,99.54026552692288,33.455262754260374,31.507413915828693,60.27023623553914,71.09150080276432,33.68480740266813,88.8344534470834,62.561078293069066,52.8753466576518,68.16429383416362,70.79629703778313,23.42266247870353,99.99141333640394,49.11356614435804,24.923411752791694,88.18585398204122,99.44149433698496,85.30868073728722,88.15059918878765,70.07480913755607,93.78604625767464,22.859084138197403,81.33790903633609,73.65681826672605,23.96679764192018,63.51788631811835,61.20482766062956,75.32273800615813,26.202512928733803,84.42230282627295,31.15227536092037,53.49316907694981,90.50304060013087,64.84252843963972,50.367273100378746,23.856179363666943,73.78188137613773,98.92374122454272,92.94371190067064,77.38368620587423,28.4234286604756,39.155207472031535,34.94792155626296,48.436931220451626,38.84137822332284,39.555155677735456,69.33839483003246,45.49621247691068,74.17303011779785,95.83117273169444,71.07823332905912,80.1325341768297,80.12643322262704,46.45622307194488,21.19663956747484,24.403837039537155,42.56482007076468,75.16345469260784,92.5346510918634,96.7038609752597,22.06789310720588,99.20697965062168,45.7997774685355,87.43649825880922,34.42363685574243,25.031860608548733,50.268433925015,88.71403108245543,37.665993270225286,32.31658606014737,92.78434631601525,95.06697620971671,21.003855935112718,78.19485899323853,44.73661892234613,49.97634959737517,57.52823799611919,54.14327761396156,61.19790279856842,66.5889372592013,57.24764038703394,76.1250832391614,77.48813302737136,55.22873579409561,31.397051846968687,71.25111370560981,81.83653698805671,71.04876169631598,67.04438126774525,38.3529592987685,71.61096326554066,46.78849716609696,93.5647090250628,72.29760742079847,42.25437413666421,57.83415274911441,87.72650207080355,46.8371160946118,62.03524561219049,74.3735978601218,80.36234710613934,33.91137400517959,65.21218437418312,92.97599203969612,97.46878252077552,72.49160340474866,98.69286433279883,65.65881991809127,55.40840238247466,64.12699671585968,29.256991541081767,52.13727357483102,56.6724042424423,87.89022389767825,80.69188741939578,68.11412681798406,47.7821787901016,34.96276685541257,47.82120167317024,74.38432567673055,41.04302392680265,54.15093565673328,50.94161879053456,81.24720510328481,90.70296498081154,75.94967654487816,47.32818087464273,54.65416391807098,31.468012324297717,33.44779582132879,33.1434054021212,30.446908604904817,34.36649828073041,36.21505620626861,28.947675503810636,71.22085775073816,99.23212276657596,90.33493957218047,23.6482179060869,53.844704735737984,88.74484633862178,30.773985439359716,87.81161173216341,67.41605102703194,94.50388420768894,90.08312914115402,74.1627457646974,72.62581278981564,37.05313619135265,29.340237372640683,53.23147439750387,34.926403159449976,28.193337414220714,44.18613866183148,88.83919542373188,21.3718523214689,43.41101453777405,53.92417481715938,60.845579969222925,34.52620067063914,97.1376159870425,66.30984348577516,61.76884376456353,20.70580711442729,58.85723035168056,87.01365035641473,37.57156344409942,48.09660547091304,21.645717175015644,98.1542011387036,25.332143770243263,91.85768991276557,45.03901713443638,67.00451215887028,74.34524319728027,31.26633339448916,55.50075022242684,46.03728801973139,24.528197248437227,86.65549235145446,23.61342051979822,72.26063675870934,45.12619011358776,35.370346176149326,73.36688410684363,65.96301716209646,45.22050058998639,61.036859860739135,39.69896809649676,89.09571672021538,45.105502426172926,39.61224236412251,80.1466968847721,21.40739903951319,41.440938566886025,50.03161765209385,90.57903694331054,96.03534420386754,77.31823735311599,59.40254248077278,71.2497239246151,53.12008413450664,43.90606654789343,96.05504545117029,29.231218320793904,47.71148544400872,91.92711679684746,77.85131444699334,22.328116105838127,21.84797387393977,61.32099700996597,58.74024449840174,55.43932309250546,44.18750094712071,98.93109758509112,41.75898583867052,59.20321651524496,52.391447745845305,33.619954076939365,36.20950553002229,93.46421936078184,88.66237782847641,35.92354446562819,90.05300991276108,36.7348904064674,70.12370573981576,26.502441865655506,90.42957010072944,24.12002395723736,64.39543114009093,82.3769220144308,29.346778912854496,52.35842140001508,23.35601211920401,74.62020618719674,44.59596759690815,64.7516195710776,94.61858163362892,44.468648639587386,23.890197730822216,74.05022141589603,82.9472907611334,96.62948479020608,32.624070162053265,51.37119400929198,87.53123680203798,84.54971146151036,69.983656586709,41.54948361621551,42.722823252062206,29.920239569931404,93.74829390287276,33.83452117115563,65.8309280943925,66.74811335856903,49.56843529562151,48.20147688043641,73.48707348466237,51.06382223588312,40.40923146704006,51.93053619200248,84.61296621324368,97.31827641049485,70.87601843630759,82.56809803872852,62.62598890500882,69.98585136747502,99.04693253892478,55.07350917615292,25.300375756335995,96.56055342554838,83.44493767228381,51.8648294290857,98.5916042898215,47.642860027890094,49.769615680642296,68.77850825519366,41.947790892428536,75.88571881045863,32.228024316040475,28.64202554865228,62.790240605132446,64.43949459155209,28.53240557037525,97.13410089049208,65.8629326085667,32.08279939975409,44.91540194658392,84.018737114653,61.85852222924255,35.05186788372445,28.22791776494438,54.46195297899878,46.99317669491474,72.47338819855787,94.01975895609324,39.8184228619327,88.41871466262761,93.63695827561604,92.16020795759212,96.16618639563482,87.36868977034203,67.47888043173361,52.78768789681935,59.3350228827017,89.80897399020682,44.1118701933746,32.74093554728755,31.26553745070361,86.15956879240004,80.91885490640782,59.81162728370733,41.98971424737225,74.20905404340891,23.074647794597585,65.45822525333291,51.87401349915709,98.22877070495748,60.60481992884208,64.18142019602143,76.98901307542553,58.76307849005173,37.96548954214011,62.98222772387584,95.54150967125764,52.79287905347775,74.37127639997385,98.2427351108548,86.39378503867924,72.7227306466659,78.87971906644114,94.918659841366,96.78016835202853,97.51745042575966,70.05133025620177,50.77693198921892,30.652250316503995,50.84384010723223,95.43643637884952,91.18376644739116,61.89277296503029,62.960582927513926,44.71362796759756,56.36063120563851,77.15587951515161,52.19445805182336,35.038709766082704,63.26876630600622,38.02695291634624,97.943004481008,51.22719312095633,92.7731977287293,38.04431972828994,35.13672042446211,69.352090323179,82.35032626426565,65.34116510819005,38.38365468842075,23.031549030719685,69.4631056952804,30.482978029243863,47.4541109625865,74.06278029369852,27.84187524663455,30.180118382716465,24.93329658459233,99.68633031254612,50.966141488126496,92.46361341877076,43.48685107394257,80.25620521123966,37.52532930499031,59.86597677186002,85.96925914366237,85.30675191160661,83.54245738901396,85.89875304308423,36.91778250447034,58.57730180483092,58.78971796777269,91.240198987833,43.751346351954304,94.51967147112386,56.06365890448792,73.5829602541935,41.51064898234675,52.823848546504585,76.78407456553123,61.019771348080745,94.4566409350667,78.96999727179819,65.15223404084799,90.93358053217663,73.24451110309954,71.78563787363458,39.70970665181018,51.58855724225688,74.66429220832171,91.34333691865262,45.24379789159322,37.23884975543878,67.49567830526846,25.37576784821705,77.16333611600041,76.25108346299847,48.39728247889241,91.41421226759212,60.1744913231302,71.66119605543494,36.76627855506703,53.3872268128,88.99340322158145,37.03516381058742,51.24595020739751,45.44612355425039,32.08881478918241,43.17743345020284,38.62178268601734,93.8874904369062,79.28630436342368,45.288126542625946,81.06712425941679,21.771196242709717,62.1219768616912,40.02676509877385,29.145765744681132,90.70068226707907,35.94724274100581,85.79128743570259,53.0578141993417,21.14326160325603,78.60262634408201,67.70878065754943,47.53375065342554,42.52367471410107,25.895300189634774,95.31404758682176,59.51879077536685,26.841961406088643,89.49437741955764,42.306653825425336,36.288217258772384,42.4749950673775,65.1657166885689,25.92451875976292,58.54055272981412,91.659475609945,35.05372766768991,46.49510177217951,51.68975720413222,66.8976569221796,93.54033972210492,51.56313665939404,25.53222725422109,47.83606891447939,35.20683300798758,72.14195830552826,22.34096873338657,43.35439768584587,63.6138805786096,42.18673648396434,64.07962266762033,29.176985774974654,95.4244390391698,43.272544586390936,93.84006715119068,46.06683516033164,82.54721529383902,39.69498859690024,73.58151219116809,45.89729710582137,60.732730336772704,73.90513166109446,67.11060041623685,66.10244746269555,25.254466852609383,39.926146573727344,65.74714318852332,21.46537657725801,40.05154040927837,38.33481915449574,39.98848881286676,62.8487599653323,66.55682832153539,92.7198395498249,50.882483922097535,94.12631337145008,72.15634759873362,93.01283167204446,86.67776813440386,75.006595472615,48.48847196151675,39.28883581481748,37.79131484096258,96.1739069965025,96.68590745034864,77.98650988194471,90.70367872611818,93.51969304632485,60.92449572154497,70.32477525001377,53.50035983361717,53.479261142821045,23.07431349156917,54.70571683878444,73.87918492105467,53.75857328852569,89.79277415015652,46.60503619256146,30.61456372486796,84.92469525832475,73.91583346628735,39.34555858564654,62.91610048337864,52.1481870875034,95.10878211485262,68.58656727365032,32.67114089495933,60.171876210958814,89.00454660190806,73.71973360259693,87.3961660878925,40.031945109251225,91.06811016380335,80.44890654593377,78.3131004350463,47.72328558108195,91.01264510084224,71.03835019145733,88.1471581490242,48.87771647890175,31.65216728514852,46.58697441762578,56.4211477900146,62.67259001163939,60.864737256923,63.684367394925154,87.3364612178358,33.6080996950536,45.28410361350967,91.08867923483612,64.83665636466642,66.67118962956577,58.24500356911618,63.917970798891126,35.846378444808096,63.74935195345026,99.77385023288934,65.28380583393474,23.55219724848243,83.71485154805278,51.71803429787101,32.29409188012495,89.0015844981353,35.83786044279741,93.66139118868266,55.34371923540844,79.42326677997599,63.75966802708164,40.53014431321823,73.6872139596735,96.63300407121184,81.570957343313,68.32143972601426,99.25024866126851,41.22613338741478,24.987319032755792,22.570469289274484,76.85503036470386,86.41858917873365,70.80804299876213,92.40212779545588,75.83808378719364,49.67637171272165,34.50066333039053,93.9717982847325,28.28777199979836,63.43907229971244,45.12063402188093,41.7132006015738,71.66678815335172,38.4989549912829,93.30920853939163,52.483512727929934,74.19002773837431,78.22045738628677,74.63533557002643,92.27201927144188,38.49046908847985,26.88436357488809,24.437255781203948,90.22753203800198,97.86296399513458,44.20212329637701,75.48111388599753,20.713022733739912,35.09052080927902,75.14195059692915,25.270971145218624,57.48080399358596,73.00666114991591,81.27665370444139,56.30527309794964,70.42272315970745,63.1660503649649,24.184461766665688,79.42437498078772,33.78895327083,22.544442498707305,56.09343330306978,89.25100698252082,32.06635501288229,21.028602729358,28.79833886123337,49.09272914652853,66.41374959930431,35.440970718871405,84.15712040180564,80.26376964392655,75.66908932789593,58.99758466524352,49.21735641071883,50.04692967718486,60.24564279645866,26.185174950612364,74.58443702936489,48.12060352074417,37.98070223509509,42.26616563989111,34.423542822897424,92.12544684222308,33.52300130900409,90.634089511589,65.7794716774761,89.39607643110881,57.92513735244097,94.21069755848588,36.91925948866802,64.37534022778196,30.067095241093533,55.77762281618915,65.59229573174738,68.45401777385376,49.24230375258233,26.106851373316225,72.42608571061221,59.074548836262224,30.950309330980552,94.87007755248796,96.45349297467546,88.52850238650952,87.5094640414078,27.89370206944449,99.47360876660542,52.03045438909853,33.04968926936908,84.96813825737769,38.05846147704463,62.09402565356732,30.241285216274907,57.97165786207108,64.65131947223539,55.67391679610742,25.55894598021224,58.795122446621065,57.51542747526527,40.92962218325391,93.72812797259492,53.42338661586049,89.1292636957108,28.77310637067535,45.510182736494514,34.1064683014432,52.6728630278554,28.93093497367029,55.28278446764964,48.30965947585891,37.865203781920414,71.3743529560252,96.07291905182656,36.56907788396695,76.94326719187603,79.39047114053943,59.84964131406899,91.81346768804536,97.3112052851872,48.97971616430795,72.08266384025501,72.97700943200897,52.290842100200365,45.34328595956914,94.69953585822508,83.19852394501402,29.15716527796353,29.59072572679096,93.80342150822612,26.512781202153956,75.07370769945327,38.14065975555294,22.814827419329493,24.771003686407216,49.88176829436497,26.207076135149173,67.73113599467632,71.78036090992606,49.87748575864392,79.43024605746805,59.203401613566186,54.41828027216657,52.559047103210006,54.48851898764299,97.43101199475348,74.51256480307501,45.216787772888,78.70878961644522,46.42139106583328,30.057192622774096,58.02882859645193,80.08190873107313,50.212792870985695,89.53393136378743,50.95621632702078,47.98712204053854,99.85951310906133,58.59776183920523,84.4176967770805,84.3990444847938,94.10954696793436,26.79160435602429,41.697622114147386,81.41984732371472,65.0081193918852,64.7691953883627,33.29722414961927,42.49224112911438,61.70672685733876,42.174509173969696,36.822623415897205,27.02048446159969,32.45808095386764,81.50942099935784,77.50233444677724,23.666694747896926,36.26272682752888,64.8364277386173,45.81022753894185,85.85996821436244,82.79914461297176,91.32644463664876,65.03449852040927,48.16611838472788,68.48517569479341,27.130934379636624,20.766881419317407,21.367481609628427,52.60343503473729,38.246207528245066,32.58701646400382,69.22608124945364,99.60760340905448,34.22025628924291,63.7137139371151,29.578201119991505,94.73891528577111,43.340413485646806,90.26718560347028,42.64611514003015,84.48419841493757,36.75050667566182,43.42315441227555,35.39802923229072,41.14079022797245,86.78926042666522,71.1225998037358,52.47037350697792,97.7216821665725,57.1889221703659,97.5807977007081,35.726953832868816,92.37107416919596,21.10577632779957,63.6242561892606,53.844191543361184,62.00702763775834,64.27558655581592,51.12250832541688,99.8558277508876,98.12057522405009,96.9396301363676,98.32680379012704,83.44099190155188,99.08723832210656,91.38881802201136,53.27461096259369,82.78216867067262,92.96542761005006,77.0084858869674,53.82258724524832,25.26321936131402,84.77575496484701,96.21942985011762,48.99706081839411,32.15248407911517,46.12030715764446,66.6097886542597,45.354320262578895,68.84949841570831,97.34817857957044,73.6587594646146,49.01274930284973,94.8602377177228,65.2508214960915,30.26979188260533,59.91848041550092,72.290915592804,87.06034926533908,94.9181429366118,45.39329069731082,32.44098912632295,25.90629137551059,79.06836821666262,83.61266021723455,52.74985015425335,51.67403257389032,96.33896253237056,93.3345060064262,38.661272153363456,82.46461181998458,69.8160316986352,32.337819129571194,48.541683766924834,34.1978353045986,43.61248310574709,69.22409406186813,50.02123768347517,51.52476158686858,63.17178340937518,26.97793110733782,79.10378318795318,52.1367626730672,58.43176705618561,97.94397830837052,47.54935106546032,71.85751487791404,51.400345383664856,91.54261749469426,87.74050135960316,39.32994174099075,75.33965700887205,25.21375967177656,97.0548311623912,47.9192086411326,86.54742180678136,45.4745092861848,70.62165929574977,98.68726335874652,90.13998905053042,32.829272792392594,63.7990746519577,47.882542569175214,54.74710813186334,46.81465033750149,46.87673985564105,63.40425950212891,35.357120729852205,62.99163401866917,42.31723497586408,43.11863233934397,79.09984232284982,22.367488284794863,50.47566101390457,52.602750412291606,58.80881117745382,73.5208819783631,49.57494261896692,37.050968344516406,90.78982724370468,98.48309013449696,21.601175453834625,63.71734808005584,47.33619032873585,42.15916603097674,46.85651126959484,71.11022051409606,35.25728081838359,93.02885693263602,57.28916199515807,46.04614665194627,81.24250652380792,21.30773321889541,54.54822925904295,48.42428808009839,47.05679279917875,46.965708967246655,22.501710219781398,32.169312240707185,31.350812744993156,99.08884038556177,21.77326047124894,33.36589250815986,97.93396069269576,70.26052750480034,56.05336964853851,26.30087464370959,73.57289293063013],\"type\":\"box\",\"xaxis\":\"x3\",\"yaxis\":\"y3\"},{\"boxmean\":true,\"name\":\"Age\",\"y\":[58,71,48,34,62,27,80,40,58,77,38,42,30,30,43,72,55,59,43,22,41,72,21,43,63,49,57,21,79,40,52,31,77,41,80,63,44,68,46,78,61,47,79,35,34,66,70,63,74,71,76,22,56,70,26,40,28,58,37,23,44,79,33,69,77,28,45,72,21,39,47,66,79,26,63,80,27,66,54,33,36,55,69,59,23,21,25,73,61,23,73,48,37,45,63,53,29,55,33,50,67,34,27,33,42,79,76,59,40,35,64,37,66,72,43,45,44,79,79,79,64,60,48,34,64,20,44,26,28,43,20,63,27,43,30,70,36,27,54,54,52,78,24,61,58,77,60,47,26,28,27,31,53,52,67,74,42,43,56,54,63,59,41,46,54,20,54,56,66,33,22,20,24,45,74,33,58,46,28,34,34,45,61,79,32,70,51,58,68,71,80,51,23,49,56,42,58,64,34,62,48,55,32,51,26,78,70,41,47,21,61,64,76,72,25,47,47,63,63,39,49,30,77,74,47,44,58,52,20,76,46,76,71,32,60,22,58,25,27,46,28,56,52,70,61,63,43,34,78,73,51,51,43,60,71,68,68,77,71,31,58,21,22,68,56,68,75,36,78,68,21,21,47,73,42,56,51,52,20,38,21,72,63,45,51,25,51,74,23,74,30,75,78,36,57,43,24,71,53,25,41,30,67,35,52,28,79,78,25,35,48,22,39,79,78,55,38,45,22,38,39,51,26,71,60,52,59,58,37,59,20,30,47,76,44,69,42,50,49,61,54,26,79,35,45,67,76,71,79,68,21,20,67,31,24,56,51,78,74,28,60,54,38,67,35,22,39,43,73,75,52,43,71,30,68,27,55,57,59,39,54,67,44,54,44,48,37,65,37,21,73,54,35,80,60,55,52,23,52,33,40,67,39,75,27,26,22,36,52,67,31,78,70,41,74,41,65,49,57,57,64,70,73,27,46,46,53,40,49,52,47,66,52,24,79,80,67,38,23,54,68,36,63,47,49,48,65,72,25,54,79,60,56,43,48,68,65,72,50,54,79,52,71,80,40,51,42,52,22,37,44,61,50,73,77,22,59,65,43,69,51,66,41,42,21,46,61,21,45,36,59,52,28,62,73,67,58,48,61,74,45,54,69,44,43,32,79,77,26,76,55,64,39,20,27,65,35,33,31,70,42,34,47,53,21,51,42,41,70,44,77,80,41,77,77,41,68,71,61,25,34,73,62,79,56,52,27,72,79,63,63,24,58,23,25,64,51,71,49,66,54,74,59,71,35,32,69,79,61,49,38,36,75,38,47,77,74,45,56,45,72,42,28,31,72,20,77,77,20,66,53,51,73,67,44,59,64,72,20,35,80,58,24,41,48,74,22,31,45,35,70,56,41,76,48,33,47,24,66,68,49,65,71,24,31,35,45,45,67,40,58,55,52,49,56,42,77,29,73,24,55,53,71,50,29,77,38,77,51,20,75,24,64,23,35,43,35,74,21,68,47,51,46,39,43,31,69,54,79,52,52,80,70,62,56,31,22,20,52,59,29,62,63,48,32,31,50,65,21,80,70,69,54,42,36,45,27,48,45,29,45,53,70,60,26,23,77,72,69,64,30,48,75,55,44,40,80,76,55,29,56,28,43,54,68,54,67,55,37,68,58,51,43,42,51,56,31,68,74,32,42,44,54,60,49,36,68,39,67,44,41,32,78,38,68,55,31,80,60,38,31,28,26,47,33,50,71,38,77,66,35,72,24,54,31,44,71,78,40,55,72,42,35,76,58,64,72,61,77,58,33,50,77,24,54,42,48,62,30,37,66,31,28,29,77,63,36,80,57,26,65,32,59,61,28,69,46,77,21,24,48,56,57,38,27,67,64,20,41,71,36,26,44,64,23,55,25,79,50,38,80,63,73,58,46,29,45,38,58,22,64,32,69,47,77,39,47,27,80,60,58,20,22,32,47,76,79,68,44,75,52,57,72,25,77,63,64,51,64,80,66,40,35,73,40,30,79,56,55,54,38,39,76,37,66,60,68,33,34,50,20,72,73,73,22,35,42,76,30,31,29,51,35,27,57,31,43,47,72,27,77,47,55,45,27,77,79,69,47,47,56,60,55,46,73,36,28,52,72,39,32,47,67,48,32,65,54,80,25,37,70,24,66,44,21,29,75,49,69,78,64,24,74,75,52,73,20,37,51,66,68,30,40,45,44,41,78,46,68,32,52,53,60,54,20,40,67,74,25,47,36,24,50,24,57,22,72,42,56,72,56,29,29,38,36,40,33,28,65,20,70,64,32,23,20,68,59,51,53,47,50,27,58,45,77,53,73,73,22,78,69,31,20,73,63,24,49,49,78,76,36,67,66,42,34,56,40,33,21,30,70,58,57,79,53,57,69,53,37,49,34,46,70,53,71,76,57,52,43,34,79,49,74,61,70,36,24,48,23,29,75,36,29,36,79,39,43,24,53,25,72,21,32,62,62,67,30,70,66,76,42,74,35,50,30,73,35,27,23,59,23,75,44,22,51,22,46,48,51,69,80,77,70,38,40,24,37,47,61,80,41,40,25,20,24,60,31,45,65,53,68,33,45,64,46,28,45,76,66,76,41,66,75,49,62,67,80,36,45,55,20,27,68,54,80,71,34,66,75,41,33,45,47,42,33,43,21,64,45,33,78,75,70,26,22,66,42,65,62,66,79,64,37,77,57,54,70,34,44,74,56,47,29,58,76,36,58,41,45,63,44,36,32,39,44,23,29,22,60,64,37,66,55,66,41,53,66,27,59,68,63,38,61,60,56,25,71,45,53,78,75,78,64,25,56,76,52,72,41,40,25,25,74,67,23,49,30,49,50,43,74,28,74,22,70,50,59,56,55,43,50,25,21,39,47,30,23,34,25,73,68,49,75,57,70,76,21,34,30,27,45,70,64,63,24,25,45,73,23,38,39,52,39,68,31,66,20,45,33,57,56,30,55,32,62,22,52,25,69,75,29,24,42,29,63,21,32,59,21,39,20,56,28,36,28,30,34,43,57,74,54,49,50,68,24,79,63,69,33,72,75,30,28,53,31,54,54,20,59,41,79,48,27,30,60,56,33,79,49,54,40,56,24,38,78,33,45,23,44,64,61,44,37,59,27,58,59,33,51,70,80,57,52,42,34,52,44,36,52,66,74,21,33,72,59,59,70,58,70,25,25,22,26,70,27,61,71,34,66,48,52,71,49,58,46,55,48,57,76,52,80,56,46,74,52,23,41,21,29,24,78,29,52,73,57,32,50,66,55,64,43,71,75,34,48,27,24,48,66,23,31,64,21,46,50,70,70,55,55,45,62,46,24,39,30,29,59,57,25,27,42,66,45,65,62,31,45,32,59,37,44,52,66,59,79,62,31,63,55,67,23,24,75,56,27,61,68,47,50,77,28,73,70,48,33,59,60,41,30,42,20,65,56,40,45,65,55,73,42,76,20,73,74,70,59,34,40,66,28,72,28,29,71,76,72,45,60,54,71,44,45,30,57,21,26,37,46,53,46,36,62,78,63,78,70,73,43,44,26,71,25,72,43,52,68,48,62,41,45,47,69,40,68,26,36,39,60,68,39,73,41,47,80,59,68,26,20,51,32,49,42,70,78,75,38,51,49,48,68,64,48,49,35,59,38,37,20,33,70,66,69,21,73,47,68,69,49,57,70,23,20,27,48,74,58,22,51,29,29,38,65,53,79,52,42,74,47,51,69,26,48,27,20,76,74,22,43,42,78,80,27,73,76,66,56,22,70,52,47,66,27,53,54,51,43,33,51,75,65,62,35,23,71,56,73,40,33,50,74,67,37,26,29,26,52,42,40,38,67,80],\"type\":\"box\",\"xaxis\":\"x4\",\"yaxis\":\"y4\"}],                        {\"template\":{\"data\":{\"barpolar\":[{\"marker\":{\"line\":{\"color\":\"rgb(17,17,17)\",\"width\":0.5},\"pattern\":{\"fillmode\":\"overlay\",\"size\":10,\"solidity\":0.2}},\"type\":\"barpolar\"}],\"bar\":[{\"error_x\":{\"color\":\"#f2f5fa\"},\"error_y\":{\"color\":\"#f2f5fa\"},\"marker\":{\"line\":{\"color\":\"rgb(17,17,17)\",\"width\":0.5},\"pattern\":{\"fillmode\":\"overlay\",\"size\":10,\"solidity\":0.2}},\"type\":\"bar\"}],\"carpet\":[{\"aaxis\":{\"endlinecolor\":\"#A2B1C6\",\"gridcolor\":\"#506784\",\"linecolor\":\"#506784\",\"minorgridcolor\":\"#506784\",\"startlinecolor\":\"#A2B1C6\"},\"baxis\":{\"endlinecolor\":\"#A2B1C6\",\"gridcolor\":\"#506784\",\"linecolor\":\"#506784\",\"minorgridcolor\":\"#506784\",\"startlinecolor\":\"#A2B1C6\"},\"type\":\"carpet\"}],\"choropleth\":[{\"colorbar\":{\"outlinewidth\":0,\"ticks\":\"\"},\"type\":\"choropleth\"}],\"contourcarpet\":[{\"colorbar\":{\"outlinewidth\":0,\"ticks\":\"\"},\"type\":\"contourcarpet\"}],\"contour\":[{\"colorbar\":{\"outlinewidth\":0,\"ticks\":\"\"},\"colorscale\":[[0.0,\"#0d0887\"],[0.1111111111111111,\"#46039f\"],[0.2222222222222222,\"#7201a8\"],[0.3333333333333333,\"#9c179e\"],[0.4444444444444444,\"#bd3786\"],[0.5555555555555556,\"#d8576b\"],[0.6666666666666666,\"#ed7953\"],[0.7777777777777778,\"#fb9f3a\"],[0.8888888888888888,\"#fdca26\"],[1.0,\"#f0f921\"]],\"type\":\"contour\"}],\"heatmapgl\":[{\"colorbar\":{\"outlinewidth\":0,\"ticks\":\"\"},\"colorscale\":[[0.0,\"#0d0887\"],[0.1111111111111111,\"#46039f\"],[0.2222222222222222,\"#7201a8\"],[0.3333333333333333,\"#9c179e\"],[0.4444444444444444,\"#bd3786\"],[0.5555555555555556,\"#d8576b\"],[0.6666666666666666,\"#ed7953\"],[0.7777777777777778,\"#fb9f3a\"],[0.8888888888888888,\"#fdca26\"],[1.0,\"#f0f921\"]],\"type\":\"heatmapgl\"}],\"heatmap\":[{\"colorbar\":{\"outlinewidth\":0,\"ticks\":\"\"},\"colorscale\":[[0.0,\"#0d0887\"],[0.1111111111111111,\"#46039f\"],[0.2222222222222222,\"#7201a8\"],[0.3333333333333333,\"#9c179e\"],[0.4444444444444444,\"#bd3786\"],[0.5555555555555556,\"#d8576b\"],[0.6666666666666666,\"#ed7953\"],[0.7777777777777778,\"#fb9f3a\"],[0.8888888888888888,\"#fdca26\"],[1.0,\"#f0f921\"]],\"type\":\"heatmap\"}],\"histogram2dcontour\":[{\"colorbar\":{\"outlinewidth\":0,\"ticks\":\"\"},\"colorscale\":[[0.0,\"#0d0887\"],[0.1111111111111111,\"#46039f\"],[0.2222222222222222,\"#7201a8\"],[0.3333333333333333,\"#9c179e\"],[0.4444444444444444,\"#bd3786\"],[0.5555555555555556,\"#d8576b\"],[0.6666666666666666,\"#ed7953\"],[0.7777777777777778,\"#fb9f3a\"],[0.8888888888888888,\"#fdca26\"],[1.0,\"#f0f921\"]],\"type\":\"histogram2dcontour\"}],\"histogram2d\":[{\"colorbar\":{\"outlinewidth\":0,\"ticks\":\"\"},\"colorscale\":[[0.0,\"#0d0887\"],[0.1111111111111111,\"#46039f\"],[0.2222222222222222,\"#7201a8\"],[0.3333333333333333,\"#9c179e\"],[0.4444444444444444,\"#bd3786\"],[0.5555555555555556,\"#d8576b\"],[0.6666666666666666,\"#ed7953\"],[0.7777777777777778,\"#fb9f3a\"],[0.8888888888888888,\"#fdca26\"],[1.0,\"#f0f921\"]],\"type\":\"histogram2d\"}],\"histogram\":[{\"marker\":{\"pattern\":{\"fillmode\":\"overlay\",\"size\":10,\"solidity\":0.2}},\"type\":\"histogram\"}],\"mesh3d\":[{\"colorbar\":{\"outlinewidth\":0,\"ticks\":\"\"},\"type\":\"mesh3d\"}],\"parcoords\":[{\"line\":{\"colorbar\":{\"outlinewidth\":0,\"ticks\":\"\"}},\"type\":\"parcoords\"}],\"pie\":[{\"automargin\":true,\"type\":\"pie\"}],\"scatter3d\":[{\"line\":{\"colorbar\":{\"outlinewidth\":0,\"ticks\":\"\"}},\"marker\":{\"colorbar\":{\"outlinewidth\":0,\"ticks\":\"\"}},\"type\":\"scatter3d\"}],\"scattercarpet\":[{\"marker\":{\"colorbar\":{\"outlinewidth\":0,\"ticks\":\"\"}},\"type\":\"scattercarpet\"}],\"scattergeo\":[{\"marker\":{\"colorbar\":{\"outlinewidth\":0,\"ticks\":\"\"}},\"type\":\"scattergeo\"}],\"scattergl\":[{\"marker\":{\"line\":{\"color\":\"#283442\"}},\"type\":\"scattergl\"}],\"scattermapbox\":[{\"marker\":{\"colorbar\":{\"outlinewidth\":0,\"ticks\":\"\"}},\"type\":\"scattermapbox\"}],\"scatterpolargl\":[{\"marker\":{\"colorbar\":{\"outlinewidth\":0,\"ticks\":\"\"}},\"type\":\"scatterpolargl\"}],\"scatterpolar\":[{\"marker\":{\"colorbar\":{\"outlinewidth\":0,\"ticks\":\"\"}},\"type\":\"scatterpolar\"}],\"scatter\":[{\"marker\":{\"line\":{\"color\":\"#283442\"}},\"type\":\"scatter\"}],\"scatterternary\":[{\"marker\":{\"colorbar\":{\"outlinewidth\":0,\"ticks\":\"\"}},\"type\":\"scatterternary\"}],\"surface\":[{\"colorbar\":{\"outlinewidth\":0,\"ticks\":\"\"},\"colorscale\":[[0.0,\"#0d0887\"],[0.1111111111111111,\"#46039f\"],[0.2222222222222222,\"#7201a8\"],[0.3333333333333333,\"#9c179e\"],[0.4444444444444444,\"#bd3786\"],[0.5555555555555556,\"#d8576b\"],[0.6666666666666666,\"#ed7953\"],[0.7777777777777778,\"#fb9f3a\"],[0.8888888888888888,\"#fdca26\"],[1.0,\"#f0f921\"]],\"type\":\"surface\"}],\"table\":[{\"cells\":{\"fill\":{\"color\":\"#506784\"},\"line\":{\"color\":\"rgb(17,17,17)\"}},\"header\":{\"fill\":{\"color\":\"#2a3f5f\"},\"line\":{\"color\":\"rgb(17,17,17)\"}},\"type\":\"table\"}]},\"layout\":{\"annotationdefaults\":{\"arrowcolor\":\"#f2f5fa\",\"arrowhead\":0,\"arrowwidth\":1},\"autotypenumbers\":\"strict\",\"coloraxis\":{\"colorbar\":{\"outlinewidth\":0,\"ticks\":\"\"}},\"colorscale\":{\"diverging\":[[0,\"#8e0152\"],[0.1,\"#c51b7d\"],[0.2,\"#de77ae\"],[0.3,\"#f1b6da\"],[0.4,\"#fde0ef\"],[0.5,\"#f7f7f7\"],[0.6,\"#e6f5d0\"],[0.7,\"#b8e186\"],[0.8,\"#7fbc41\"],[0.9,\"#4d9221\"],[1,\"#276419\"]],\"sequential\":[[0.0,\"#0d0887\"],[0.1111111111111111,\"#46039f\"],[0.2222222222222222,\"#7201a8\"],[0.3333333333333333,\"#9c179e\"],[0.4444444444444444,\"#bd3786\"],[0.5555555555555556,\"#d8576b\"],[0.6666666666666666,\"#ed7953\"],[0.7777777777777778,\"#fb9f3a\"],[0.8888888888888888,\"#fdca26\"],[1.0,\"#f0f921\"]],\"sequentialminus\":[[0.0,\"#0d0887\"],[0.1111111111111111,\"#46039f\"],[0.2222222222222222,\"#7201a8\"],[0.3333333333333333,\"#9c179e\"],[0.4444444444444444,\"#bd3786\"],[0.5555555555555556,\"#d8576b\"],[0.6666666666666666,\"#ed7953\"],[0.7777777777777778,\"#fb9f3a\"],[0.8888888888888888,\"#fdca26\"],[1.0,\"#f0f921\"]]},\"colorway\":[\"#636efa\",\"#EF553B\",\"#00cc96\",\"#ab63fa\",\"#FFA15A\",\"#19d3f3\",\"#FF6692\",\"#B6E880\",\"#FF97FF\",\"#FECB52\"],\"font\":{\"color\":\"#f2f5fa\"},\"geo\":{\"bgcolor\":\"rgb(17,17,17)\",\"lakecolor\":\"rgb(17,17,17)\",\"landcolor\":\"rgb(17,17,17)\",\"showlakes\":true,\"showland\":true,\"subunitcolor\":\"#506784\"},\"hoverlabel\":{\"align\":\"left\"},\"hovermode\":\"closest\",\"mapbox\":{\"style\":\"dark\"},\"paper_bgcolor\":\"rgb(17,17,17)\",\"plot_bgcolor\":\"rgb(17,17,17)\",\"polar\":{\"angularaxis\":{\"gridcolor\":\"#506784\",\"linecolor\":\"#506784\",\"ticks\":\"\"},\"bgcolor\":\"rgb(17,17,17)\",\"radialaxis\":{\"gridcolor\":\"#506784\",\"linecolor\":\"#506784\",\"ticks\":\"\"}},\"scene\":{\"xaxis\":{\"backgroundcolor\":\"rgb(17,17,17)\",\"gridcolor\":\"#506784\",\"gridwidth\":2,\"linecolor\":\"#506784\",\"showbackground\":true,\"ticks\":\"\",\"zerolinecolor\":\"#C8D4E3\"},\"yaxis\":{\"backgroundcolor\":\"rgb(17,17,17)\",\"gridcolor\":\"#506784\",\"gridwidth\":2,\"linecolor\":\"#506784\",\"showbackground\":true,\"ticks\":\"\",\"zerolinecolor\":\"#C8D4E3\"},\"zaxis\":{\"backgroundcolor\":\"rgb(17,17,17)\",\"gridcolor\":\"#506784\",\"gridwidth\":2,\"linecolor\":\"#506784\",\"showbackground\":true,\"ticks\":\"\",\"zerolinecolor\":\"#C8D4E3\"}},\"shapedefaults\":{\"line\":{\"color\":\"#f2f5fa\"}},\"sliderdefaults\":{\"bgcolor\":\"#C8D4E3\",\"bordercolor\":\"rgb(17,17,17)\",\"borderwidth\":1,\"tickwidth\":0},\"ternary\":{\"aaxis\":{\"gridcolor\":\"#506784\",\"linecolor\":\"#506784\",\"ticks\":\"\"},\"baxis\":{\"gridcolor\":\"#506784\",\"linecolor\":\"#506784\",\"ticks\":\"\"},\"bgcolor\":\"rgb(17,17,17)\",\"caxis\":{\"gridcolor\":\"#506784\",\"linecolor\":\"#506784\",\"ticks\":\"\"}},\"title\":{\"x\":0.05},\"updatemenudefaults\":{\"bgcolor\":\"#506784\",\"borderwidth\":0},\"xaxis\":{\"automargin\":true,\"gridcolor\":\"#283442\",\"linecolor\":\"#506784\",\"ticks\":\"\",\"title\":{\"standoff\":15},\"zerolinecolor\":\"#283442\",\"zerolinewidth\":2},\"yaxis\":{\"automargin\":true,\"gridcolor\":\"#283442\",\"linecolor\":\"#506784\",\"ticks\":\"\",\"title\":{\"standoff\":15},\"zerolinecolor\":\"#283442\",\"zerolinewidth\":2}}},\"xaxis\":{\"anchor\":\"y\",\"domain\":[0.0,0.2125]},\"yaxis\":{\"anchor\":\"x\",\"domain\":[0.0,1.0]},\"xaxis2\":{\"anchor\":\"y2\",\"domain\":[0.2625,0.475]},\"yaxis2\":{\"anchor\":\"x2\",\"domain\":[0.0,1.0]},\"xaxis3\":{\"anchor\":\"y3\",\"domain\":[0.525,0.7375]},\"yaxis3\":{\"anchor\":\"x3\",\"domain\":[0.0,1.0]},\"xaxis4\":{\"anchor\":\"y4\",\"domain\":[0.7875,1.0]},\"yaxis4\":{\"anchor\":\"x4\",\"domain\":[0.0,1.0]},\"annotations\":[{\"font\":{\"size\":16},\"showarrow\":false,\"text\":\"AlcoholConsumption\",\"x\":0.10625,\"xanchor\":\"center\",\"xref\":\"paper\",\"y\":1.0,\"yanchor\":\"bottom\",\"yref\":\"paper\"},{\"font\":{\"size\":16},\"showarrow\":false,\"text\":\"PhysicalActivity\",\"x\":0.36875,\"xanchor\":\"center\",\"xref\":\"paper\",\"y\":1.0,\"yanchor\":\"bottom\",\"yref\":\"paper\"},{\"font\":{\"size\":16},\"showarrow\":false,\"text\":\"LiverFunctionTest\",\"x\":0.6312500000000001,\"xanchor\":\"center\",\"xref\":\"paper\",\"y\":1.0,\"yanchor\":\"bottom\",\"yref\":\"paper\"},{\"font\":{\"size\":16},\"showarrow\":false,\"text\":\"Age\",\"x\":0.89375,\"xanchor\":\"center\",\"xref\":\"paper\",\"y\":1.0,\"yanchor\":\"bottom\",\"yref\":\"paper\"}],\"title\":{\"text\":\"Check Outliers Values for Numerical Columns\",\"x\":0.5},\"width\":1000,\"height\":600,\"showlegend\":false},                        {\"responsive\": true}                    ).then(function(){\n",
       "                            \n",
       "var gd = document.getElementById('a933070a-fdac-414e-be58-2544739458d4');\n",
       "var x = new MutationObserver(function (mutations, observer) {{\n",
       "        var display = window.getComputedStyle(gd).display;\n",
       "        if (!display || display === 'none') {{\n",
       "            console.log([gd, 'removed!']);\n",
       "            Plotly.purge(gd);\n",
       "            observer.disconnect();\n",
       "        }}\n",
       "}});\n",
       "\n",
       "// Listen for the removal of the full notebook cells\n",
       "var notebookContainer = gd.closest('#notebook-container');\n",
       "if (notebookContainer) {{\n",
       "    x.observe(notebookContainer, {childList: true});\n",
       "}}\n",
       "\n",
       "// Listen for the clearing of the current output cell\n",
       "var outputEl = gd.closest('.output');\n",
       "if (outputEl) {{\n",
       "    x.observe(outputEl, {childList: true});\n",
       "}}\n",
       "\n",
       "                        })                };                });            </script>        </div>"
      ]
     },
     "metadata": {},
     "output_type": "display_data"
    }
   ],
   "source": [
    "fig = make_subplots(rows=1, cols=len(columns), subplot_titles=columns)\n",
    "for i, column in enumerate(columns):\n",
    "    fig.add_trace(\n",
    "        go.Box(y=data[column], name=column, boxmean=True), \n",
    "        row=1, col=i+1\n",
    "    )\n",
    "fig.update_layout(\n",
    "    title_text=\"Check Outliers Values for Numerical Columns\",\n",
    "    title_x=0.5,\n",
    "    template=\"plotly_dark\",  \n",
    "    width=1000,              \n",
    "    height=600,\n",
    "    showlegend=False\n",
    ")\n",
    "fig.show()"
   ]
  },
  {
   "cell_type": "markdown",
   "id": "b7a19983",
   "metadata": {
    "papermill": {
     "duration": 0.03412,
     "end_time": "2024-09-05T23:23:09.530999",
     "exception": false,
     "start_time": "2024-09-05T23:23:09.496879",
     "status": "completed"
    },
    "tags": []
   },
   "source": [
    "<!-- from IPython.core.display import display, HTML\n",
    "\n",
    "html_code = \"\"\" -->\n",
    "<style>\n",
    "@keyframes colorChange {\n",
    "    0% { background-color: #ffdd99; border-color: #ff66f6; color: #660000; }\n",
    "    25% { background-color: #99ccff; border-color: #3399ff; color: #003366; }\n",
    "    50% { background-color: #99fd99; border-color: #33cc33; color: #006600; }\n",
    "    75% { background-color: #fffc99; border-color: #cccc33; color: #666600; }\n",
    "    100% { background-color: #ff9999; border-color: #ff6666; color: #660000; }\n",
    "}\n",
    "\n",
    ".fancy-card {\n",
    "    font-family: 'Courier New', Courier, monospace;\n",
    "    font-size: 2em;\n",
    "    padding: 20px;\n",
    "    margin: 20px;\n",
    "    border: 5px solid;\n",
    "    border-radius: 15px;\n",
    "    text-align: center;\n",
    "    animation: colorChange 10s infinite;\n",
    "}\n",
    "</style>\n",
    "<div class=\"fancy-card\">\n",
    "Preprocessing\n",
    "</div>\n",
    "<!-- \"\"\" -->\n",
    "\n",
    "<!-- display(HTML(html_code))  -->\n"
   ]
  },
  {
   "cell_type": "code",
   "execution_count": 52,
   "id": "64b378bb",
   "metadata": {
    "execution": {
     "iopub.execute_input": "2024-09-05T23:23:09.603370Z",
     "iopub.status.busy": "2024-09-05T23:23:09.602529Z",
     "iopub.status.idle": "2024-09-05T23:23:09.609504Z",
     "shell.execute_reply": "2024-09-05T23:23:09.608643Z"
    },
    "papermill": {
     "duration": 0.045576,
     "end_time": "2024-09-05T23:23:09.611443",
     "exception": false,
     "start_time": "2024-09-05T23:23:09.565867",
     "status": "completed"
    },
    "tags": []
   },
   "outputs": [
    {
     "data": {
      "text/plain": [
       "Index(['SegmentBMI'], dtype='object')"
      ]
     },
     "execution_count": 52,
     "metadata": {},
     "output_type": "execute_result"
    }
   ],
   "source": [
    "columns = data.select_dtypes(include=['category','object']).columns\n",
    "columns"
   ]
  },
  {
   "cell_type": "code",
   "execution_count": 53,
   "id": "9529d85e",
   "metadata": {
    "execution": {
     "iopub.execute_input": "2024-09-05T23:23:09.683588Z",
     "iopub.status.busy": "2024-09-05T23:23:09.682783Z",
     "iopub.status.idle": "2024-09-05T23:23:09.696308Z",
     "shell.execute_reply": "2024-09-05T23:23:09.695453Z"
    },
    "papermill": {
     "duration": 0.050889,
     "end_time": "2024-09-05T23:23:09.698179",
     "exception": false,
     "start_time": "2024-09-05T23:23:09.647290",
     "status": "completed"
    },
    "tags": []
   },
   "outputs": [
    {
     "data": {
      "text/html": [
       "<div>\n",
       "<style scoped>\n",
       "    .dataframe tbody tr th:only-of-type {\n",
       "        vertical-align: middle;\n",
       "    }\n",
       "\n",
       "    .dataframe tbody tr th {\n",
       "        vertical-align: top;\n",
       "    }\n",
       "\n",
       "    .dataframe thead th {\n",
       "        text-align: right;\n",
       "    }\n",
       "</style>\n",
       "<table border=\"1\" class=\"dataframe\">\n",
       "  <thead>\n",
       "    <tr style=\"text-align: right;\">\n",
       "      <th></th>\n",
       "      <th>Age</th>\n",
       "      <th>Gender</th>\n",
       "      <th>AlcoholConsumption</th>\n",
       "      <th>Smoking</th>\n",
       "      <th>GeneticRisk</th>\n",
       "      <th>PhysicalActivity</th>\n",
       "      <th>Diabetes</th>\n",
       "      <th>Hypertension</th>\n",
       "      <th>LiverFunctionTest</th>\n",
       "      <th>Diagnosis</th>\n",
       "      <th>SegmentBMI</th>\n",
       "    </tr>\n",
       "  </thead>\n",
       "  <tbody>\n",
       "    <tr>\n",
       "      <th>0</th>\n",
       "      <td>58</td>\n",
       "      <td>0</td>\n",
       "      <td>17.273</td>\n",
       "      <td>0</td>\n",
       "      <td>1</td>\n",
       "      <td>0.659</td>\n",
       "      <td>0</td>\n",
       "      <td>0</td>\n",
       "      <td>42.734</td>\n",
       "      <td>1</td>\n",
       "      <td>0</td>\n",
       "    </tr>\n",
       "    <tr>\n",
       "      <th>1</th>\n",
       "      <td>71</td>\n",
       "      <td>1</td>\n",
       "      <td>2.201</td>\n",
       "      <td>0</td>\n",
       "      <td>1</td>\n",
       "      <td>1.671</td>\n",
       "      <td>1</td>\n",
       "      <td>0</td>\n",
       "      <td>67.310</td>\n",
       "      <td>1</td>\n",
       "      <td>2</td>\n",
       "    </tr>\n",
       "    <tr>\n",
       "      <th>2</th>\n",
       "      <td>48</td>\n",
       "      <td>0</td>\n",
       "      <td>18.501</td>\n",
       "      <td>0</td>\n",
       "      <td>0</td>\n",
       "      <td>9.928</td>\n",
       "      <td>0</td>\n",
       "      <td>0</td>\n",
       "      <td>63.739</td>\n",
       "      <td>0</td>\n",
       "      <td>1</td>\n",
       "    </tr>\n",
       "    <tr>\n",
       "      <th>3</th>\n",
       "      <td>34</td>\n",
       "      <td>1</td>\n",
       "      <td>12.633</td>\n",
       "      <td>0</td>\n",
       "      <td>0</td>\n",
       "      <td>5.630</td>\n",
       "      <td>0</td>\n",
       "      <td>0</td>\n",
       "      <td>64.556</td>\n",
       "      <td>1</td>\n",
       "      <td>4</td>\n",
       "    </tr>\n",
       "    <tr>\n",
       "      <th>4</th>\n",
       "      <td>62</td>\n",
       "      <td>1</td>\n",
       "      <td>1.088</td>\n",
       "      <td>0</td>\n",
       "      <td>1</td>\n",
       "      <td>3.566</td>\n",
       "      <td>1</td>\n",
       "      <td>0</td>\n",
       "      <td>77.869</td>\n",
       "      <td>1</td>\n",
       "      <td>4</td>\n",
       "    </tr>\n",
       "  </tbody>\n",
       "</table>\n",
       "</div>"
      ],
      "text/plain": [
       "   Age  Gender  AlcoholConsumption  Smoking  GeneticRisk  PhysicalActivity  Diabetes  Hypertension  LiverFunctionTest  Diagnosis  SegmentBMI\n",
       "0   58       0              17.273        0            1             0.659         0             0             42.734          1           0\n",
       "1   71       1               2.201        0            1             1.671         1             0             67.310          1           2\n",
       "2   48       0              18.501        0            0             9.928         0             0             63.739          0           1\n",
       "3   34       1              12.633        0            0             5.630         0             0             64.556          1           4\n",
       "4   62       1               1.088        0            1             3.566         1             0             77.869          1           4"
      ]
     },
     "execution_count": 53,
     "metadata": {},
     "output_type": "execute_result"
    }
   ],
   "source": [
    "### Transform Object Columns into Numbers\n",
    "label = LabelEncoder()\n",
    "data.SegmentBMI = label.fit_transform(data.SegmentBMI)\n",
    "data.head()"
   ]
  },
  {
   "cell_type": "code",
   "execution_count": 54,
   "id": "66fbe1a4",
   "metadata": {
    "execution": {
     "iopub.execute_input": "2024-09-05T23:23:09.771517Z",
     "iopub.status.busy": "2024-09-05T23:23:09.770677Z",
     "iopub.status.idle": "2024-09-05T23:23:09.785185Z",
     "shell.execute_reply": "2024-09-05T23:23:09.784255Z"
    },
    "papermill": {
     "duration": 0.052912,
     "end_time": "2024-09-05T23:23:09.787137",
     "exception": false,
     "start_time": "2024-09-05T23:23:09.734225",
     "status": "completed"
    },
    "tags": []
   },
   "outputs": [
    {
     "data": {
      "text/html": [
       "<div>\n",
       "<style scoped>\n",
       "    .dataframe tbody tr th:only-of-type {\n",
       "        vertical-align: middle;\n",
       "    }\n",
       "\n",
       "    .dataframe tbody tr th {\n",
       "        vertical-align: top;\n",
       "    }\n",
       "\n",
       "    .dataframe thead th {\n",
       "        text-align: right;\n",
       "    }\n",
       "</style>\n",
       "<table border=\"1\" class=\"dataframe\">\n",
       "  <thead>\n",
       "    <tr style=\"text-align: right;\">\n",
       "      <th></th>\n",
       "      <th>Age</th>\n",
       "      <th>Gender</th>\n",
       "      <th>AlcoholConsumption</th>\n",
       "      <th>Smoking</th>\n",
       "      <th>GeneticRisk</th>\n",
       "      <th>PhysicalActivity</th>\n",
       "      <th>Diabetes</th>\n",
       "      <th>Hypertension</th>\n",
       "      <th>LiverFunctionTest</th>\n",
       "      <th>Diagnosis</th>\n",
       "      <th>SegmentBMI</th>\n",
       "    </tr>\n",
       "  </thead>\n",
       "  <tbody>\n",
       "    <tr>\n",
       "      <th>Age</th>\n",
       "      <td>1.000</td>\n",
       "      <td>-0.009</td>\n",
       "      <td>0.008</td>\n",
       "      <td>-0.014</td>\n",
       "      <td>-0.013</td>\n",
       "      <td>-0.015</td>\n",
       "      <td>0.024</td>\n",
       "      <td>0.001</td>\n",
       "      <td>-0.013</td>\n",
       "      <td>0.156</td>\n",
       "      <td>-0.023</td>\n",
       "    </tr>\n",
       "    <tr>\n",
       "      <th>Gender</th>\n",
       "      <td>-0.009</td>\n",
       "      <td>1.000</td>\n",
       "      <td>-0.003</td>\n",
       "      <td>-0.023</td>\n",
       "      <td>0.017</td>\n",
       "      <td>0.009</td>\n",
       "      <td>0.000</td>\n",
       "      <td>0.024</td>\n",
       "      <td>0.025</td>\n",
       "      <td>0.190</td>\n",
       "      <td>0.019</td>\n",
       "    </tr>\n",
       "    <tr>\n",
       "      <th>AlcoholConsumption</th>\n",
       "      <td>0.008</td>\n",
       "      <td>-0.003</td>\n",
       "      <td>1.000</td>\n",
       "      <td>-0.014</td>\n",
       "      <td>-0.017</td>\n",
       "      <td>-0.024</td>\n",
       "      <td>0.013</td>\n",
       "      <td>0.017</td>\n",
       "      <td>-0.043</td>\n",
       "      <td>0.350</td>\n",
       "      <td>0.015</td>\n",
       "    </tr>\n",
       "    <tr>\n",
       "      <th>Smoking</th>\n",
       "      <td>-0.014</td>\n",
       "      <td>-0.023</td>\n",
       "      <td>-0.014</td>\n",
       "      <td>1.000</td>\n",
       "      <td>-0.007</td>\n",
       "      <td>0.007</td>\n",
       "      <td>0.001</td>\n",
       "      <td>0.040</td>\n",
       "      <td>0.001</td>\n",
       "      <td>0.200</td>\n",
       "      <td>0.006</td>\n",
       "    </tr>\n",
       "    <tr>\n",
       "      <th>GeneticRisk</th>\n",
       "      <td>-0.013</td>\n",
       "      <td>0.017</td>\n",
       "      <td>-0.017</td>\n",
       "      <td>-0.007</td>\n",
       "      <td>1.000</td>\n",
       "      <td>-0.012</td>\n",
       "      <td>-0.011</td>\n",
       "      <td>0.019</td>\n",
       "      <td>-0.008</td>\n",
       "      <td>0.118</td>\n",
       "      <td>0.000</td>\n",
       "    </tr>\n",
       "    <tr>\n",
       "      <th>PhysicalActivity</th>\n",
       "      <td>-0.015</td>\n",
       "      <td>0.009</td>\n",
       "      <td>-0.024</td>\n",
       "      <td>0.007</td>\n",
       "      <td>-0.012</td>\n",
       "      <td>1.000</td>\n",
       "      <td>-0.007</td>\n",
       "      <td>0.019</td>\n",
       "      <td>-0.010</td>\n",
       "      <td>-0.117</td>\n",
       "      <td>0.021</td>\n",
       "    </tr>\n",
       "    <tr>\n",
       "      <th>Diabetes</th>\n",
       "      <td>0.024</td>\n",
       "      <td>0.000</td>\n",
       "      <td>0.013</td>\n",
       "      <td>0.001</td>\n",
       "      <td>-0.011</td>\n",
       "      <td>-0.007</td>\n",
       "      <td>1.000</td>\n",
       "      <td>0.049</td>\n",
       "      <td>0.018</td>\n",
       "      <td>0.107</td>\n",
       "      <td>-0.043</td>\n",
       "    </tr>\n",
       "    <tr>\n",
       "      <th>Hypertension</th>\n",
       "      <td>0.001</td>\n",
       "      <td>0.024</td>\n",
       "      <td>0.017</td>\n",
       "      <td>0.040</td>\n",
       "      <td>0.019</td>\n",
       "      <td>0.019</td>\n",
       "      <td>0.049</td>\n",
       "      <td>1.000</td>\n",
       "      <td>0.008</td>\n",
       "      <td>0.171</td>\n",
       "      <td>-0.004</td>\n",
       "    </tr>\n",
       "    <tr>\n",
       "      <th>LiverFunctionTest</th>\n",
       "      <td>-0.013</td>\n",
       "      <td>0.025</td>\n",
       "      <td>-0.043</td>\n",
       "      <td>0.001</td>\n",
       "      <td>-0.008</td>\n",
       "      <td>-0.010</td>\n",
       "      <td>0.018</td>\n",
       "      <td>0.008</td>\n",
       "      <td>1.000</td>\n",
       "      <td>0.354</td>\n",
       "      <td>-0.044</td>\n",
       "    </tr>\n",
       "    <tr>\n",
       "      <th>Diagnosis</th>\n",
       "      <td>0.156</td>\n",
       "      <td>0.190</td>\n",
       "      <td>0.350</td>\n",
       "      <td>0.200</td>\n",
       "      <td>0.118</td>\n",
       "      <td>-0.117</td>\n",
       "      <td>0.107</td>\n",
       "      <td>0.171</td>\n",
       "      <td>0.354</td>\n",
       "      <td>1.000</td>\n",
       "      <td>-0.065</td>\n",
       "    </tr>\n",
       "    <tr>\n",
       "      <th>SegmentBMI</th>\n",
       "      <td>-0.023</td>\n",
       "      <td>0.019</td>\n",
       "      <td>0.015</td>\n",
       "      <td>0.006</td>\n",
       "      <td>0.000</td>\n",
       "      <td>0.021</td>\n",
       "      <td>-0.043</td>\n",
       "      <td>-0.004</td>\n",
       "      <td>-0.044</td>\n",
       "      <td>-0.065</td>\n",
       "      <td>1.000</td>\n",
       "    </tr>\n",
       "  </tbody>\n",
       "</table>\n",
       "</div>"
      ],
      "text/plain": [
       "                      Age  Gender  AlcoholConsumption  Smoking  GeneticRisk  PhysicalActivity  Diabetes  Hypertension  LiverFunctionTest  Diagnosis  SegmentBMI\n",
       "Age                 1.000  -0.009               0.008   -0.014       -0.013            -0.015     0.024         0.001             -0.013      0.156      -0.023\n",
       "Gender             -0.009   1.000              -0.003   -0.023        0.017             0.009     0.000         0.024              0.025      0.190       0.019\n",
       "AlcoholConsumption  0.008  -0.003               1.000   -0.014       -0.017            -0.024     0.013         0.017             -0.043      0.350       0.015\n",
       "Smoking            -0.014  -0.023              -0.014    1.000       -0.007             0.007     0.001         0.040              0.001      0.200       0.006\n",
       "GeneticRisk        -0.013   0.017              -0.017   -0.007        1.000            -0.012    -0.011         0.019             -0.008      0.118       0.000\n",
       "PhysicalActivity   -0.015   0.009              -0.024    0.007       -0.012             1.000    -0.007         0.019             -0.010     -0.117       0.021\n",
       "Diabetes            0.024   0.000               0.013    0.001       -0.011            -0.007     1.000         0.049              0.018      0.107      -0.043\n",
       "Hypertension        0.001   0.024               0.017    0.040        0.019             0.019     0.049         1.000              0.008      0.171      -0.004\n",
       "LiverFunctionTest  -0.013   0.025              -0.043    0.001       -0.008            -0.010     0.018         0.008              1.000      0.354      -0.044\n",
       "Diagnosis           0.156   0.190               0.350    0.200        0.118            -0.117     0.107         0.171              0.354      1.000      -0.065\n",
       "SegmentBMI         -0.023   0.019               0.015    0.006        0.000             0.021    -0.043        -0.004             -0.044     -0.065       1.000"
      ]
     },
     "execution_count": 54,
     "metadata": {},
     "output_type": "execute_result"
    }
   ],
   "source": [
    "### Show Correlation\n",
    "corr = data.corr()\n",
    "corr"
   ]
  },
  {
   "cell_type": "code",
   "execution_count": 55,
   "id": "f1380e40",
   "metadata": {
    "execution": {
     "iopub.execute_input": "2024-09-05T23:23:09.861327Z",
     "iopub.status.busy": "2024-09-05T23:23:09.860612Z",
     "iopub.status.idle": "2024-09-05T23:23:10.041809Z",
     "shell.execute_reply": "2024-09-05T23:23:10.040874Z"
    },
    "papermill": {
     "duration": 0.220105,
     "end_time": "2024-09-05T23:23:10.043785",
     "exception": false,
     "start_time": "2024-09-05T23:23:09.823680",
     "status": "completed"
    },
    "tags": []
   },
   "outputs": [
    {
     "data": {
      "text/html": [
       "<div>                            <div id=\"f2195bcf-fee3-47eb-9fda-708cbc00bfb6\" class=\"plotly-graph-div\" style=\"height:1000px; width:1100px;\"></div>            <script type=\"text/javascript\">                require([\"plotly\"], function(Plotly) {                    window.PLOTLYENV=window.PLOTLYENV || {};                                    if (document.getElementById(\"f2195bcf-fee3-47eb-9fda-708cbc00bfb6\")) {                    Plotly.newPlot(                        \"f2195bcf-fee3-47eb-9fda-708cbc00bfb6\",                        [{\"colorscale\":[[0.0,\"rgb(103,0,31)\"],[0.1,\"rgb(178,24,43)\"],[0.2,\"rgb(214,96,77)\"],[0.3,\"rgb(244,165,130)\"],[0.4,\"rgb(253,219,199)\"],[0.5,\"rgb(247,247,247)\"],[0.6,\"rgb(209,229,240)\"],[0.7,\"rgb(146,197,222)\"],[0.8,\"rgb(67,147,195)\"],[0.9,\"rgb(33,102,172)\"],[1.0,\"rgb(5,48,97)\"]],\"hoverinfo\":\"none\",\"reversescale\":false,\"showscale\":true,\"x\":[\"Age\",\"Gender\",\"AlcoholConsumption\",\"Smoking\",\"GeneticRisk\",\"PhysicalActivity\",\"Diabetes\",\"Hypertension\",\"LiverFunctionTest\",\"Diagnosis\",\"SegmentBMI\"],\"xgap\":1,\"y\":[\"Age\",\"Gender\",\"AlcoholConsumption\",\"Smoking\",\"GeneticRisk\",\"PhysicalActivity\",\"Diabetes\",\"Hypertension\",\"LiverFunctionTest\",\"Diagnosis\",\"SegmentBMI\"],\"ygap\":1,\"z\":[[null,null,null,null,null,null,null,null,null,null,null],[-0.01,null,null,null,null,null,null,null,null,null,null],[0.01,-0.0,null,null,null,null,null,null,null,null,null],[-0.01,-0.02,-0.01,null,null,null,null,null,null,null,null],[-0.01,0.02,-0.02,-0.01,null,null,null,null,null,null,null],[-0.02,0.01,-0.02,0.01,-0.01,null,null,null,null,null,null],[0.02,0.0,0.01,0.0,-0.01,-0.01,null,null,null,null,null],[0.0,0.02,0.02,0.04,0.02,0.02,0.05,null,null,null,null],[-0.01,0.02,-0.04,0.0,-0.01,-0.01,0.02,0.01,null,null,null],[0.16,0.19,0.35,0.2,0.12,-0.12,0.11,0.17,0.35,null,null],[-0.02,0.02,0.02,0.01,0.0,0.02,-0.04,-0.0,-0.04,-0.06,null]],\"type\":\"heatmap\"}],                        {\"annotations\":[{\"font\":{\"color\":\"#FFFFFF\"},\"showarrow\":false,\"text\":\"\",\"x\":\"Age\",\"xref\":\"x\",\"y\":\"Age\",\"yref\":\"y\"},{\"font\":{\"color\":\"#FFFFFF\"},\"showarrow\":false,\"text\":\"\",\"x\":\"Gender\",\"xref\":\"x\",\"y\":\"Age\",\"yref\":\"y\"},{\"font\":{\"color\":\"#FFFFFF\"},\"showarrow\":false,\"text\":\"\",\"x\":\"AlcoholConsumption\",\"xref\":\"x\",\"y\":\"Age\",\"yref\":\"y\"},{\"font\":{\"color\":\"#FFFFFF\"},\"showarrow\":false,\"text\":\"\",\"x\":\"Smoking\",\"xref\":\"x\",\"y\":\"Age\",\"yref\":\"y\"},{\"font\":{\"color\":\"#FFFFFF\"},\"showarrow\":false,\"text\":\"\",\"x\":\"GeneticRisk\",\"xref\":\"x\",\"y\":\"Age\",\"yref\":\"y\"},{\"font\":{\"color\":\"#FFFFFF\"},\"showarrow\":false,\"text\":\"\",\"x\":\"PhysicalActivity\",\"xref\":\"x\",\"y\":\"Age\",\"yref\":\"y\"},{\"font\":{\"color\":\"#FFFFFF\"},\"showarrow\":false,\"text\":\"\",\"x\":\"Diabetes\",\"xref\":\"x\",\"y\":\"Age\",\"yref\":\"y\"},{\"font\":{\"color\":\"#FFFFFF\"},\"showarrow\":false,\"text\":\"\",\"x\":\"Hypertension\",\"xref\":\"x\",\"y\":\"Age\",\"yref\":\"y\"},{\"font\":{\"color\":\"#FFFFFF\"},\"showarrow\":false,\"text\":\"\",\"x\":\"LiverFunctionTest\",\"xref\":\"x\",\"y\":\"Age\",\"yref\":\"y\"},{\"font\":{\"color\":\"#FFFFFF\"},\"showarrow\":false,\"text\":\"\",\"x\":\"Diagnosis\",\"xref\":\"x\",\"y\":\"Age\",\"yref\":\"y\"},{\"font\":{\"color\":\"#FFFFFF\"},\"showarrow\":false,\"text\":\"\",\"x\":\"SegmentBMI\",\"xref\":\"x\",\"y\":\"Age\",\"yref\":\"y\"},{\"font\":{\"color\":\"#FFFFFF\"},\"showarrow\":false,\"text\":\"-0.01\",\"x\":\"Age\",\"xref\":\"x\",\"y\":\"Gender\",\"yref\":\"y\"},{\"font\":{\"color\":\"#FFFFFF\"},\"showarrow\":false,\"text\":\"\",\"x\":\"Gender\",\"xref\":\"x\",\"y\":\"Gender\",\"yref\":\"y\"},{\"font\":{\"color\":\"#FFFFFF\"},\"showarrow\":false,\"text\":\"\",\"x\":\"AlcoholConsumption\",\"xref\":\"x\",\"y\":\"Gender\",\"yref\":\"y\"},{\"font\":{\"color\":\"#FFFFFF\"},\"showarrow\":false,\"text\":\"\",\"x\":\"Smoking\",\"xref\":\"x\",\"y\":\"Gender\",\"yref\":\"y\"},{\"font\":{\"color\":\"#FFFFFF\"},\"showarrow\":false,\"text\":\"\",\"x\":\"GeneticRisk\",\"xref\":\"x\",\"y\":\"Gender\",\"yref\":\"y\"},{\"font\":{\"color\":\"#FFFFFF\"},\"showarrow\":false,\"text\":\"\",\"x\":\"PhysicalActivity\",\"xref\":\"x\",\"y\":\"Gender\",\"yref\":\"y\"},{\"font\":{\"color\":\"#FFFFFF\"},\"showarrow\":false,\"text\":\"\",\"x\":\"Diabetes\",\"xref\":\"x\",\"y\":\"Gender\",\"yref\":\"y\"},{\"font\":{\"color\":\"#FFFFFF\"},\"showarrow\":false,\"text\":\"\",\"x\":\"Hypertension\",\"xref\":\"x\",\"y\":\"Gender\",\"yref\":\"y\"},{\"font\":{\"color\":\"#FFFFFF\"},\"showarrow\":false,\"text\":\"\",\"x\":\"LiverFunctionTest\",\"xref\":\"x\",\"y\":\"Gender\",\"yref\":\"y\"},{\"font\":{\"color\":\"#FFFFFF\"},\"showarrow\":false,\"text\":\"\",\"x\":\"Diagnosis\",\"xref\":\"x\",\"y\":\"Gender\",\"yref\":\"y\"},{\"font\":{\"color\":\"#FFFFFF\"},\"showarrow\":false,\"text\":\"\",\"x\":\"SegmentBMI\",\"xref\":\"x\",\"y\":\"Gender\",\"yref\":\"y\"},{\"font\":{\"color\":\"#FFFFFF\"},\"showarrow\":false,\"text\":\"0.01\",\"x\":\"Age\",\"xref\":\"x\",\"y\":\"AlcoholConsumption\",\"yref\":\"y\"},{\"font\":{\"color\":\"#FFFFFF\"},\"showarrow\":false,\"text\":\"-0.0\",\"x\":\"Gender\",\"xref\":\"x\",\"y\":\"AlcoholConsumption\",\"yref\":\"y\"},{\"font\":{\"color\":\"#FFFFFF\"},\"showarrow\":false,\"text\":\"\",\"x\":\"AlcoholConsumption\",\"xref\":\"x\",\"y\":\"AlcoholConsumption\",\"yref\":\"y\"},{\"font\":{\"color\":\"#FFFFFF\"},\"showarrow\":false,\"text\":\"\",\"x\":\"Smoking\",\"xref\":\"x\",\"y\":\"AlcoholConsumption\",\"yref\":\"y\"},{\"font\":{\"color\":\"#FFFFFF\"},\"showarrow\":false,\"text\":\"\",\"x\":\"GeneticRisk\",\"xref\":\"x\",\"y\":\"AlcoholConsumption\",\"yref\":\"y\"},{\"font\":{\"color\":\"#FFFFFF\"},\"showarrow\":false,\"text\":\"\",\"x\":\"PhysicalActivity\",\"xref\":\"x\",\"y\":\"AlcoholConsumption\",\"yref\":\"y\"},{\"font\":{\"color\":\"#FFFFFF\"},\"showarrow\":false,\"text\":\"\",\"x\":\"Diabetes\",\"xref\":\"x\",\"y\":\"AlcoholConsumption\",\"yref\":\"y\"},{\"font\":{\"color\":\"#FFFFFF\"},\"showarrow\":false,\"text\":\"\",\"x\":\"Hypertension\",\"xref\":\"x\",\"y\":\"AlcoholConsumption\",\"yref\":\"y\"},{\"font\":{\"color\":\"#FFFFFF\"},\"showarrow\":false,\"text\":\"\",\"x\":\"LiverFunctionTest\",\"xref\":\"x\",\"y\":\"AlcoholConsumption\",\"yref\":\"y\"},{\"font\":{\"color\":\"#FFFFFF\"},\"showarrow\":false,\"text\":\"\",\"x\":\"Diagnosis\",\"xref\":\"x\",\"y\":\"AlcoholConsumption\",\"yref\":\"y\"},{\"font\":{\"color\":\"#FFFFFF\"},\"showarrow\":false,\"text\":\"\",\"x\":\"SegmentBMI\",\"xref\":\"x\",\"y\":\"AlcoholConsumption\",\"yref\":\"y\"},{\"font\":{\"color\":\"#FFFFFF\"},\"showarrow\":false,\"text\":\"-0.01\",\"x\":\"Age\",\"xref\":\"x\",\"y\":\"Smoking\",\"yref\":\"y\"},{\"font\":{\"color\":\"#FFFFFF\"},\"showarrow\":false,\"text\":\"-0.02\",\"x\":\"Gender\",\"xref\":\"x\",\"y\":\"Smoking\",\"yref\":\"y\"},{\"font\":{\"color\":\"#FFFFFF\"},\"showarrow\":false,\"text\":\"-0.01\",\"x\":\"AlcoholConsumption\",\"xref\":\"x\",\"y\":\"Smoking\",\"yref\":\"y\"},{\"font\":{\"color\":\"#FFFFFF\"},\"showarrow\":false,\"text\":\"\",\"x\":\"Smoking\",\"xref\":\"x\",\"y\":\"Smoking\",\"yref\":\"y\"},{\"font\":{\"color\":\"#FFFFFF\"},\"showarrow\":false,\"text\":\"\",\"x\":\"GeneticRisk\",\"xref\":\"x\",\"y\":\"Smoking\",\"yref\":\"y\"},{\"font\":{\"color\":\"#FFFFFF\"},\"showarrow\":false,\"text\":\"\",\"x\":\"PhysicalActivity\",\"xref\":\"x\",\"y\":\"Smoking\",\"yref\":\"y\"},{\"font\":{\"color\":\"#FFFFFF\"},\"showarrow\":false,\"text\":\"\",\"x\":\"Diabetes\",\"xref\":\"x\",\"y\":\"Smoking\",\"yref\":\"y\"},{\"font\":{\"color\":\"#FFFFFF\"},\"showarrow\":false,\"text\":\"\",\"x\":\"Hypertension\",\"xref\":\"x\",\"y\":\"Smoking\",\"yref\":\"y\"},{\"font\":{\"color\":\"#FFFFFF\"},\"showarrow\":false,\"text\":\"\",\"x\":\"LiverFunctionTest\",\"xref\":\"x\",\"y\":\"Smoking\",\"yref\":\"y\"},{\"font\":{\"color\":\"#FFFFFF\"},\"showarrow\":false,\"text\":\"\",\"x\":\"Diagnosis\",\"xref\":\"x\",\"y\":\"Smoking\",\"yref\":\"y\"},{\"font\":{\"color\":\"#FFFFFF\"},\"showarrow\":false,\"text\":\"\",\"x\":\"SegmentBMI\",\"xref\":\"x\",\"y\":\"Smoking\",\"yref\":\"y\"},{\"font\":{\"color\":\"#FFFFFF\"},\"showarrow\":false,\"text\":\"-0.01\",\"x\":\"Age\",\"xref\":\"x\",\"y\":\"GeneticRisk\",\"yref\":\"y\"},{\"font\":{\"color\":\"#FFFFFF\"},\"showarrow\":false,\"text\":\"0.02\",\"x\":\"Gender\",\"xref\":\"x\",\"y\":\"GeneticRisk\",\"yref\":\"y\"},{\"font\":{\"color\":\"#FFFFFF\"},\"showarrow\":false,\"text\":\"-0.02\",\"x\":\"AlcoholConsumption\",\"xref\":\"x\",\"y\":\"GeneticRisk\",\"yref\":\"y\"},{\"font\":{\"color\":\"#FFFFFF\"},\"showarrow\":false,\"text\":\"-0.01\",\"x\":\"Smoking\",\"xref\":\"x\",\"y\":\"GeneticRisk\",\"yref\":\"y\"},{\"font\":{\"color\":\"#FFFFFF\"},\"showarrow\":false,\"text\":\"\",\"x\":\"GeneticRisk\",\"xref\":\"x\",\"y\":\"GeneticRisk\",\"yref\":\"y\"},{\"font\":{\"color\":\"#FFFFFF\"},\"showarrow\":false,\"text\":\"\",\"x\":\"PhysicalActivity\",\"xref\":\"x\",\"y\":\"GeneticRisk\",\"yref\":\"y\"},{\"font\":{\"color\":\"#FFFFFF\"},\"showarrow\":false,\"text\":\"\",\"x\":\"Diabetes\",\"xref\":\"x\",\"y\":\"GeneticRisk\",\"yref\":\"y\"},{\"font\":{\"color\":\"#FFFFFF\"},\"showarrow\":false,\"text\":\"\",\"x\":\"Hypertension\",\"xref\":\"x\",\"y\":\"GeneticRisk\",\"yref\":\"y\"},{\"font\":{\"color\":\"#FFFFFF\"},\"showarrow\":false,\"text\":\"\",\"x\":\"LiverFunctionTest\",\"xref\":\"x\",\"y\":\"GeneticRisk\",\"yref\":\"y\"},{\"font\":{\"color\":\"#FFFFFF\"},\"showarrow\":false,\"text\":\"\",\"x\":\"Diagnosis\",\"xref\":\"x\",\"y\":\"GeneticRisk\",\"yref\":\"y\"},{\"font\":{\"color\":\"#FFFFFF\"},\"showarrow\":false,\"text\":\"\",\"x\":\"SegmentBMI\",\"xref\":\"x\",\"y\":\"GeneticRisk\",\"yref\":\"y\"},{\"font\":{\"color\":\"#FFFFFF\"},\"showarrow\":false,\"text\":\"-0.02\",\"x\":\"Age\",\"xref\":\"x\",\"y\":\"PhysicalActivity\",\"yref\":\"y\"},{\"font\":{\"color\":\"#FFFFFF\"},\"showarrow\":false,\"text\":\"0.01\",\"x\":\"Gender\",\"xref\":\"x\",\"y\":\"PhysicalActivity\",\"yref\":\"y\"},{\"font\":{\"color\":\"#FFFFFF\"},\"showarrow\":false,\"text\":\"-0.02\",\"x\":\"AlcoholConsumption\",\"xref\":\"x\",\"y\":\"PhysicalActivity\",\"yref\":\"y\"},{\"font\":{\"color\":\"#FFFFFF\"},\"showarrow\":false,\"text\":\"0.01\",\"x\":\"Smoking\",\"xref\":\"x\",\"y\":\"PhysicalActivity\",\"yref\":\"y\"},{\"font\":{\"color\":\"#FFFFFF\"},\"showarrow\":false,\"text\":\"-0.01\",\"x\":\"GeneticRisk\",\"xref\":\"x\",\"y\":\"PhysicalActivity\",\"yref\":\"y\"},{\"font\":{\"color\":\"#FFFFFF\"},\"showarrow\":false,\"text\":\"\",\"x\":\"PhysicalActivity\",\"xref\":\"x\",\"y\":\"PhysicalActivity\",\"yref\":\"y\"},{\"font\":{\"color\":\"#FFFFFF\"},\"showarrow\":false,\"text\":\"\",\"x\":\"Diabetes\",\"xref\":\"x\",\"y\":\"PhysicalActivity\",\"yref\":\"y\"},{\"font\":{\"color\":\"#FFFFFF\"},\"showarrow\":false,\"text\":\"\",\"x\":\"Hypertension\",\"xref\":\"x\",\"y\":\"PhysicalActivity\",\"yref\":\"y\"},{\"font\":{\"color\":\"#FFFFFF\"},\"showarrow\":false,\"text\":\"\",\"x\":\"LiverFunctionTest\",\"xref\":\"x\",\"y\":\"PhysicalActivity\",\"yref\":\"y\"},{\"font\":{\"color\":\"#FFFFFF\"},\"showarrow\":false,\"text\":\"\",\"x\":\"Diagnosis\",\"xref\":\"x\",\"y\":\"PhysicalActivity\",\"yref\":\"y\"},{\"font\":{\"color\":\"#FFFFFF\"},\"showarrow\":false,\"text\":\"\",\"x\":\"SegmentBMI\",\"xref\":\"x\",\"y\":\"PhysicalActivity\",\"yref\":\"y\"},{\"font\":{\"color\":\"#FFFFFF\"},\"showarrow\":false,\"text\":\"0.02\",\"x\":\"Age\",\"xref\":\"x\",\"y\":\"Diabetes\",\"yref\":\"y\"},{\"font\":{\"color\":\"#FFFFFF\"},\"showarrow\":false,\"text\":\"0.0\",\"x\":\"Gender\",\"xref\":\"x\",\"y\":\"Diabetes\",\"yref\":\"y\"},{\"font\":{\"color\":\"#FFFFFF\"},\"showarrow\":false,\"text\":\"0.01\",\"x\":\"AlcoholConsumption\",\"xref\":\"x\",\"y\":\"Diabetes\",\"yref\":\"y\"},{\"font\":{\"color\":\"#FFFFFF\"},\"showarrow\":false,\"text\":\"0.0\",\"x\":\"Smoking\",\"xref\":\"x\",\"y\":\"Diabetes\",\"yref\":\"y\"},{\"font\":{\"color\":\"#FFFFFF\"},\"showarrow\":false,\"text\":\"-0.01\",\"x\":\"GeneticRisk\",\"xref\":\"x\",\"y\":\"Diabetes\",\"yref\":\"y\"},{\"font\":{\"color\":\"#FFFFFF\"},\"showarrow\":false,\"text\":\"-0.01\",\"x\":\"PhysicalActivity\",\"xref\":\"x\",\"y\":\"Diabetes\",\"yref\":\"y\"},{\"font\":{\"color\":\"#FFFFFF\"},\"showarrow\":false,\"text\":\"\",\"x\":\"Diabetes\",\"xref\":\"x\",\"y\":\"Diabetes\",\"yref\":\"y\"},{\"font\":{\"color\":\"#FFFFFF\"},\"showarrow\":false,\"text\":\"\",\"x\":\"Hypertension\",\"xref\":\"x\",\"y\":\"Diabetes\",\"yref\":\"y\"},{\"font\":{\"color\":\"#FFFFFF\"},\"showarrow\":false,\"text\":\"\",\"x\":\"LiverFunctionTest\",\"xref\":\"x\",\"y\":\"Diabetes\",\"yref\":\"y\"},{\"font\":{\"color\":\"#FFFFFF\"},\"showarrow\":false,\"text\":\"\",\"x\":\"Diagnosis\",\"xref\":\"x\",\"y\":\"Diabetes\",\"yref\":\"y\"},{\"font\":{\"color\":\"#FFFFFF\"},\"showarrow\":false,\"text\":\"\",\"x\":\"SegmentBMI\",\"xref\":\"x\",\"y\":\"Diabetes\",\"yref\":\"y\"},{\"font\":{\"color\":\"#FFFFFF\"},\"showarrow\":false,\"text\":\"0.0\",\"x\":\"Age\",\"xref\":\"x\",\"y\":\"Hypertension\",\"yref\":\"y\"},{\"font\":{\"color\":\"#FFFFFF\"},\"showarrow\":false,\"text\":\"0.02\",\"x\":\"Gender\",\"xref\":\"x\",\"y\":\"Hypertension\",\"yref\":\"y\"},{\"font\":{\"color\":\"#FFFFFF\"},\"showarrow\":false,\"text\":\"0.02\",\"x\":\"AlcoholConsumption\",\"xref\":\"x\",\"y\":\"Hypertension\",\"yref\":\"y\"},{\"font\":{\"color\":\"#FFFFFF\"},\"showarrow\":false,\"text\":\"0.04\",\"x\":\"Smoking\",\"xref\":\"x\",\"y\":\"Hypertension\",\"yref\":\"y\"},{\"font\":{\"color\":\"#FFFFFF\"},\"showarrow\":false,\"text\":\"0.02\",\"x\":\"GeneticRisk\",\"xref\":\"x\",\"y\":\"Hypertension\",\"yref\":\"y\"},{\"font\":{\"color\":\"#FFFFFF\"},\"showarrow\":false,\"text\":\"0.02\",\"x\":\"PhysicalActivity\",\"xref\":\"x\",\"y\":\"Hypertension\",\"yref\":\"y\"},{\"font\":{\"color\":\"#FFFFFF\"},\"showarrow\":false,\"text\":\"0.05\",\"x\":\"Diabetes\",\"xref\":\"x\",\"y\":\"Hypertension\",\"yref\":\"y\"},{\"font\":{\"color\":\"#FFFFFF\"},\"showarrow\":false,\"text\":\"\",\"x\":\"Hypertension\",\"xref\":\"x\",\"y\":\"Hypertension\",\"yref\":\"y\"},{\"font\":{\"color\":\"#FFFFFF\"},\"showarrow\":false,\"text\":\"\",\"x\":\"LiverFunctionTest\",\"xref\":\"x\",\"y\":\"Hypertension\",\"yref\":\"y\"},{\"font\":{\"color\":\"#FFFFFF\"},\"showarrow\":false,\"text\":\"\",\"x\":\"Diagnosis\",\"xref\":\"x\",\"y\":\"Hypertension\",\"yref\":\"y\"},{\"font\":{\"color\":\"#FFFFFF\"},\"showarrow\":false,\"text\":\"\",\"x\":\"SegmentBMI\",\"xref\":\"x\",\"y\":\"Hypertension\",\"yref\":\"y\"},{\"font\":{\"color\":\"#FFFFFF\"},\"showarrow\":false,\"text\":\"-0.01\",\"x\":\"Age\",\"xref\":\"x\",\"y\":\"LiverFunctionTest\",\"yref\":\"y\"},{\"font\":{\"color\":\"#FFFFFF\"},\"showarrow\":false,\"text\":\"0.02\",\"x\":\"Gender\",\"xref\":\"x\",\"y\":\"LiverFunctionTest\",\"yref\":\"y\"},{\"font\":{\"color\":\"#FFFFFF\"},\"showarrow\":false,\"text\":\"-0.04\",\"x\":\"AlcoholConsumption\",\"xref\":\"x\",\"y\":\"LiverFunctionTest\",\"yref\":\"y\"},{\"font\":{\"color\":\"#FFFFFF\"},\"showarrow\":false,\"text\":\"0.0\",\"x\":\"Smoking\",\"xref\":\"x\",\"y\":\"LiverFunctionTest\",\"yref\":\"y\"},{\"font\":{\"color\":\"#FFFFFF\"},\"showarrow\":false,\"text\":\"-0.01\",\"x\":\"GeneticRisk\",\"xref\":\"x\",\"y\":\"LiverFunctionTest\",\"yref\":\"y\"},{\"font\":{\"color\":\"#FFFFFF\"},\"showarrow\":false,\"text\":\"-0.01\",\"x\":\"PhysicalActivity\",\"xref\":\"x\",\"y\":\"LiverFunctionTest\",\"yref\":\"y\"},{\"font\":{\"color\":\"#FFFFFF\"},\"showarrow\":false,\"text\":\"0.02\",\"x\":\"Diabetes\",\"xref\":\"x\",\"y\":\"LiverFunctionTest\",\"yref\":\"y\"},{\"font\":{\"color\":\"#FFFFFF\"},\"showarrow\":false,\"text\":\"0.01\",\"x\":\"Hypertension\",\"xref\":\"x\",\"y\":\"LiverFunctionTest\",\"yref\":\"y\"},{\"font\":{\"color\":\"#FFFFFF\"},\"showarrow\":false,\"text\":\"\",\"x\":\"LiverFunctionTest\",\"xref\":\"x\",\"y\":\"LiverFunctionTest\",\"yref\":\"y\"},{\"font\":{\"color\":\"#FFFFFF\"},\"showarrow\":false,\"text\":\"\",\"x\":\"Diagnosis\",\"xref\":\"x\",\"y\":\"LiverFunctionTest\",\"yref\":\"y\"},{\"font\":{\"color\":\"#FFFFFF\"},\"showarrow\":false,\"text\":\"\",\"x\":\"SegmentBMI\",\"xref\":\"x\",\"y\":\"LiverFunctionTest\",\"yref\":\"y\"},{\"font\":{\"color\":\"#FFFFFF\"},\"showarrow\":false,\"text\":\"0.16\",\"x\":\"Age\",\"xref\":\"x\",\"y\":\"Diagnosis\",\"yref\":\"y\"},{\"font\":{\"color\":\"#FFFFFF\"},\"showarrow\":false,\"text\":\"0.19\",\"x\":\"Gender\",\"xref\":\"x\",\"y\":\"Diagnosis\",\"yref\":\"y\"},{\"font\":{\"color\":\"#FFFFFF\"},\"showarrow\":false,\"text\":\"0.35\",\"x\":\"AlcoholConsumption\",\"xref\":\"x\",\"y\":\"Diagnosis\",\"yref\":\"y\"},{\"font\":{\"color\":\"#FFFFFF\"},\"showarrow\":false,\"text\":\"0.2\",\"x\":\"Smoking\",\"xref\":\"x\",\"y\":\"Diagnosis\",\"yref\":\"y\"},{\"font\":{\"color\":\"#FFFFFF\"},\"showarrow\":false,\"text\":\"0.12\",\"x\":\"GeneticRisk\",\"xref\":\"x\",\"y\":\"Diagnosis\",\"yref\":\"y\"},{\"font\":{\"color\":\"#FFFFFF\"},\"showarrow\":false,\"text\":\"-0.12\",\"x\":\"PhysicalActivity\",\"xref\":\"x\",\"y\":\"Diagnosis\",\"yref\":\"y\"},{\"font\":{\"color\":\"#FFFFFF\"},\"showarrow\":false,\"text\":\"0.11\",\"x\":\"Diabetes\",\"xref\":\"x\",\"y\":\"Diagnosis\",\"yref\":\"y\"},{\"font\":{\"color\":\"#FFFFFF\"},\"showarrow\":false,\"text\":\"0.17\",\"x\":\"Hypertension\",\"xref\":\"x\",\"y\":\"Diagnosis\",\"yref\":\"y\"},{\"font\":{\"color\":\"#FFFFFF\"},\"showarrow\":false,\"text\":\"0.35\",\"x\":\"LiverFunctionTest\",\"xref\":\"x\",\"y\":\"Diagnosis\",\"yref\":\"y\"},{\"font\":{\"color\":\"#FFFFFF\"},\"showarrow\":false,\"text\":\"\",\"x\":\"Diagnosis\",\"xref\":\"x\",\"y\":\"Diagnosis\",\"yref\":\"y\"},{\"font\":{\"color\":\"#FFFFFF\"},\"showarrow\":false,\"text\":\"\",\"x\":\"SegmentBMI\",\"xref\":\"x\",\"y\":\"Diagnosis\",\"yref\":\"y\"},{\"font\":{\"color\":\"#FFFFFF\"},\"showarrow\":false,\"text\":\"-0.02\",\"x\":\"Age\",\"xref\":\"x\",\"y\":\"SegmentBMI\",\"yref\":\"y\"},{\"font\":{\"color\":\"#FFFFFF\"},\"showarrow\":false,\"text\":\"0.02\",\"x\":\"Gender\",\"xref\":\"x\",\"y\":\"SegmentBMI\",\"yref\":\"y\"},{\"font\":{\"color\":\"#FFFFFF\"},\"showarrow\":false,\"text\":\"0.02\",\"x\":\"AlcoholConsumption\",\"xref\":\"x\",\"y\":\"SegmentBMI\",\"yref\":\"y\"},{\"font\":{\"color\":\"#FFFFFF\"},\"showarrow\":false,\"text\":\"0.01\",\"x\":\"Smoking\",\"xref\":\"x\",\"y\":\"SegmentBMI\",\"yref\":\"y\"},{\"font\":{\"color\":\"#FFFFFF\"},\"showarrow\":false,\"text\":\"0.0\",\"x\":\"GeneticRisk\",\"xref\":\"x\",\"y\":\"SegmentBMI\",\"yref\":\"y\"},{\"font\":{\"color\":\"#FFFFFF\"},\"showarrow\":false,\"text\":\"0.02\",\"x\":\"PhysicalActivity\",\"xref\":\"x\",\"y\":\"SegmentBMI\",\"yref\":\"y\"},{\"font\":{\"color\":\"#FFFFFF\"},\"showarrow\":false,\"text\":\"-0.04\",\"x\":\"Diabetes\",\"xref\":\"x\",\"y\":\"SegmentBMI\",\"yref\":\"y\"},{\"font\":{\"color\":\"#FFFFFF\"},\"showarrow\":false,\"text\":\"-0.0\",\"x\":\"Hypertension\",\"xref\":\"x\",\"y\":\"SegmentBMI\",\"yref\":\"y\"},{\"font\":{\"color\":\"#FFFFFF\"},\"showarrow\":false,\"text\":\"-0.04\",\"x\":\"LiverFunctionTest\",\"xref\":\"x\",\"y\":\"SegmentBMI\",\"yref\":\"y\"},{\"font\":{\"color\":\"#FFFFFF\"},\"showarrow\":false,\"text\":\"-0.06\",\"x\":\"Diagnosis\",\"xref\":\"x\",\"y\":\"SegmentBMI\",\"yref\":\"y\"},{\"font\":{\"color\":\"#FFFFFF\"},\"showarrow\":false,\"text\":\"\",\"x\":\"SegmentBMI\",\"xref\":\"x\",\"y\":\"SegmentBMI\",\"yref\":\"y\"}],\"xaxis\":{\"dtick\":1,\"gridcolor\":\"rgb(0, 0, 0)\",\"side\":\"bottom\",\"ticks\":\"\",\"showgrid\":true},\"yaxis\":{\"dtick\":1,\"ticks\":\"\",\"ticksuffix\":\"  \",\"showgrid\":true,\"autorange\":\"reversed\"},\"template\":{\"data\":{\"barpolar\":[{\"marker\":{\"line\":{\"color\":\"rgb(17,17,17)\",\"width\":0.5},\"pattern\":{\"fillmode\":\"overlay\",\"size\":10,\"solidity\":0.2}},\"type\":\"barpolar\"}],\"bar\":[{\"error_x\":{\"color\":\"#f2f5fa\"},\"error_y\":{\"color\":\"#f2f5fa\"},\"marker\":{\"line\":{\"color\":\"rgb(17,17,17)\",\"width\":0.5},\"pattern\":{\"fillmode\":\"overlay\",\"size\":10,\"solidity\":0.2}},\"type\":\"bar\"}],\"carpet\":[{\"aaxis\":{\"endlinecolor\":\"#A2B1C6\",\"gridcolor\":\"#506784\",\"linecolor\":\"#506784\",\"minorgridcolor\":\"#506784\",\"startlinecolor\":\"#A2B1C6\"},\"baxis\":{\"endlinecolor\":\"#A2B1C6\",\"gridcolor\":\"#506784\",\"linecolor\":\"#506784\",\"minorgridcolor\":\"#506784\",\"startlinecolor\":\"#A2B1C6\"},\"type\":\"carpet\"}],\"choropleth\":[{\"colorbar\":{\"outlinewidth\":0,\"ticks\":\"\"},\"type\":\"choropleth\"}],\"contourcarpet\":[{\"colorbar\":{\"outlinewidth\":0,\"ticks\":\"\"},\"type\":\"contourcarpet\"}],\"contour\":[{\"colorbar\":{\"outlinewidth\":0,\"ticks\":\"\"},\"colorscale\":[[0.0,\"#0d0887\"],[0.1111111111111111,\"#46039f\"],[0.2222222222222222,\"#7201a8\"],[0.3333333333333333,\"#9c179e\"],[0.4444444444444444,\"#bd3786\"],[0.5555555555555556,\"#d8576b\"],[0.6666666666666666,\"#ed7953\"],[0.7777777777777778,\"#fb9f3a\"],[0.8888888888888888,\"#fdca26\"],[1.0,\"#f0f921\"]],\"type\":\"contour\"}],\"heatmapgl\":[{\"colorbar\":{\"outlinewidth\":0,\"ticks\":\"\"},\"colorscale\":[[0.0,\"#0d0887\"],[0.1111111111111111,\"#46039f\"],[0.2222222222222222,\"#7201a8\"],[0.3333333333333333,\"#9c179e\"],[0.4444444444444444,\"#bd3786\"],[0.5555555555555556,\"#d8576b\"],[0.6666666666666666,\"#ed7953\"],[0.7777777777777778,\"#fb9f3a\"],[0.8888888888888888,\"#fdca26\"],[1.0,\"#f0f921\"]],\"type\":\"heatmapgl\"}],\"heatmap\":[{\"colorbar\":{\"outlinewidth\":0,\"ticks\":\"\"},\"colorscale\":[[0.0,\"#0d0887\"],[0.1111111111111111,\"#46039f\"],[0.2222222222222222,\"#7201a8\"],[0.3333333333333333,\"#9c179e\"],[0.4444444444444444,\"#bd3786\"],[0.5555555555555556,\"#d8576b\"],[0.6666666666666666,\"#ed7953\"],[0.7777777777777778,\"#fb9f3a\"],[0.8888888888888888,\"#fdca26\"],[1.0,\"#f0f921\"]],\"type\":\"heatmap\"}],\"histogram2dcontour\":[{\"colorbar\":{\"outlinewidth\":0,\"ticks\":\"\"},\"colorscale\":[[0.0,\"#0d0887\"],[0.1111111111111111,\"#46039f\"],[0.2222222222222222,\"#7201a8\"],[0.3333333333333333,\"#9c179e\"],[0.4444444444444444,\"#bd3786\"],[0.5555555555555556,\"#d8576b\"],[0.6666666666666666,\"#ed7953\"],[0.7777777777777778,\"#fb9f3a\"],[0.8888888888888888,\"#fdca26\"],[1.0,\"#f0f921\"]],\"type\":\"histogram2dcontour\"}],\"histogram2d\":[{\"colorbar\":{\"outlinewidth\":0,\"ticks\":\"\"},\"colorscale\":[[0.0,\"#0d0887\"],[0.1111111111111111,\"#46039f\"],[0.2222222222222222,\"#7201a8\"],[0.3333333333333333,\"#9c179e\"],[0.4444444444444444,\"#bd3786\"],[0.5555555555555556,\"#d8576b\"],[0.6666666666666666,\"#ed7953\"],[0.7777777777777778,\"#fb9f3a\"],[0.8888888888888888,\"#fdca26\"],[1.0,\"#f0f921\"]],\"type\":\"histogram2d\"}],\"histogram\":[{\"marker\":{\"pattern\":{\"fillmode\":\"overlay\",\"size\":10,\"solidity\":0.2}},\"type\":\"histogram\"}],\"mesh3d\":[{\"colorbar\":{\"outlinewidth\":0,\"ticks\":\"\"},\"type\":\"mesh3d\"}],\"parcoords\":[{\"line\":{\"colorbar\":{\"outlinewidth\":0,\"ticks\":\"\"}},\"type\":\"parcoords\"}],\"pie\":[{\"automargin\":true,\"type\":\"pie\"}],\"scatter3d\":[{\"line\":{\"colorbar\":{\"outlinewidth\":0,\"ticks\":\"\"}},\"marker\":{\"colorbar\":{\"outlinewidth\":0,\"ticks\":\"\"}},\"type\":\"scatter3d\"}],\"scattercarpet\":[{\"marker\":{\"colorbar\":{\"outlinewidth\":0,\"ticks\":\"\"}},\"type\":\"scattercarpet\"}],\"scattergeo\":[{\"marker\":{\"colorbar\":{\"outlinewidth\":0,\"ticks\":\"\"}},\"type\":\"scattergeo\"}],\"scattergl\":[{\"marker\":{\"line\":{\"color\":\"#283442\"}},\"type\":\"scattergl\"}],\"scattermapbox\":[{\"marker\":{\"colorbar\":{\"outlinewidth\":0,\"ticks\":\"\"}},\"type\":\"scattermapbox\"}],\"scatterpolargl\":[{\"marker\":{\"colorbar\":{\"outlinewidth\":0,\"ticks\":\"\"}},\"type\":\"scatterpolargl\"}],\"scatterpolar\":[{\"marker\":{\"colorbar\":{\"outlinewidth\":0,\"ticks\":\"\"}},\"type\":\"scatterpolar\"}],\"scatter\":[{\"marker\":{\"line\":{\"color\":\"#283442\"}},\"type\":\"scatter\"}],\"scatterternary\":[{\"marker\":{\"colorbar\":{\"outlinewidth\":0,\"ticks\":\"\"}},\"type\":\"scatterternary\"}],\"surface\":[{\"colorbar\":{\"outlinewidth\":0,\"ticks\":\"\"},\"colorscale\":[[0.0,\"#0d0887\"],[0.1111111111111111,\"#46039f\"],[0.2222222222222222,\"#7201a8\"],[0.3333333333333333,\"#9c179e\"],[0.4444444444444444,\"#bd3786\"],[0.5555555555555556,\"#d8576b\"],[0.6666666666666666,\"#ed7953\"],[0.7777777777777778,\"#fb9f3a\"],[0.8888888888888888,\"#fdca26\"],[1.0,\"#f0f921\"]],\"type\":\"surface\"}],\"table\":[{\"cells\":{\"fill\":{\"color\":\"#506784\"},\"line\":{\"color\":\"rgb(17,17,17)\"}},\"header\":{\"fill\":{\"color\":\"#2a3f5f\"},\"line\":{\"color\":\"rgb(17,17,17)\"}},\"type\":\"table\"}]},\"layout\":{\"annotationdefaults\":{\"arrowcolor\":\"#f2f5fa\",\"arrowhead\":0,\"arrowwidth\":1},\"autotypenumbers\":\"strict\",\"coloraxis\":{\"colorbar\":{\"outlinewidth\":0,\"ticks\":\"\"}},\"colorscale\":{\"diverging\":[[0,\"#8e0152\"],[0.1,\"#c51b7d\"],[0.2,\"#de77ae\"],[0.3,\"#f1b6da\"],[0.4,\"#fde0ef\"],[0.5,\"#f7f7f7\"],[0.6,\"#e6f5d0\"],[0.7,\"#b8e186\"],[0.8,\"#7fbc41\"],[0.9,\"#4d9221\"],[1,\"#276419\"]],\"sequential\":[[0.0,\"#0d0887\"],[0.1111111111111111,\"#46039f\"],[0.2222222222222222,\"#7201a8\"],[0.3333333333333333,\"#9c179e\"],[0.4444444444444444,\"#bd3786\"],[0.5555555555555556,\"#d8576b\"],[0.6666666666666666,\"#ed7953\"],[0.7777777777777778,\"#fb9f3a\"],[0.8888888888888888,\"#fdca26\"],[1.0,\"#f0f921\"]],\"sequentialminus\":[[0.0,\"#0d0887\"],[0.1111111111111111,\"#46039f\"],[0.2222222222222222,\"#7201a8\"],[0.3333333333333333,\"#9c179e\"],[0.4444444444444444,\"#bd3786\"],[0.5555555555555556,\"#d8576b\"],[0.6666666666666666,\"#ed7953\"],[0.7777777777777778,\"#fb9f3a\"],[0.8888888888888888,\"#fdca26\"],[1.0,\"#f0f921\"]]},\"colorway\":[\"#636efa\",\"#EF553B\",\"#00cc96\",\"#ab63fa\",\"#FFA15A\",\"#19d3f3\",\"#FF6692\",\"#B6E880\",\"#FF97FF\",\"#FECB52\"],\"font\":{\"color\":\"#f2f5fa\"},\"geo\":{\"bgcolor\":\"rgb(17,17,17)\",\"lakecolor\":\"rgb(17,17,17)\",\"landcolor\":\"rgb(17,17,17)\",\"showlakes\":true,\"showland\":true,\"subunitcolor\":\"#506784\"},\"hoverlabel\":{\"align\":\"left\"},\"hovermode\":\"closest\",\"mapbox\":{\"style\":\"dark\"},\"paper_bgcolor\":\"rgb(17,17,17)\",\"plot_bgcolor\":\"rgb(17,17,17)\",\"polar\":{\"angularaxis\":{\"gridcolor\":\"#506784\",\"linecolor\":\"#506784\",\"ticks\":\"\"},\"bgcolor\":\"rgb(17,17,17)\",\"radialaxis\":{\"gridcolor\":\"#506784\",\"linecolor\":\"#506784\",\"ticks\":\"\"}},\"scene\":{\"xaxis\":{\"backgroundcolor\":\"rgb(17,17,17)\",\"gridcolor\":\"#506784\",\"gridwidth\":2,\"linecolor\":\"#506784\",\"showbackground\":true,\"ticks\":\"\",\"zerolinecolor\":\"#C8D4E3\"},\"yaxis\":{\"backgroundcolor\":\"rgb(17,17,17)\",\"gridcolor\":\"#506784\",\"gridwidth\":2,\"linecolor\":\"#506784\",\"showbackground\":true,\"ticks\":\"\",\"zerolinecolor\":\"#C8D4E3\"},\"zaxis\":{\"backgroundcolor\":\"rgb(17,17,17)\",\"gridcolor\":\"#506784\",\"gridwidth\":2,\"linecolor\":\"#506784\",\"showbackground\":true,\"ticks\":\"\",\"zerolinecolor\":\"#C8D4E3\"}},\"shapedefaults\":{\"line\":{\"color\":\"#f2f5fa\"}},\"sliderdefaults\":{\"bgcolor\":\"#C8D4E3\",\"bordercolor\":\"rgb(17,17,17)\",\"borderwidth\":1,\"tickwidth\":0},\"ternary\":{\"aaxis\":{\"gridcolor\":\"#506784\",\"linecolor\":\"#506784\",\"ticks\":\"\"},\"baxis\":{\"gridcolor\":\"#506784\",\"linecolor\":\"#506784\",\"ticks\":\"\"},\"bgcolor\":\"rgb(17,17,17)\",\"caxis\":{\"gridcolor\":\"#506784\",\"linecolor\":\"#506784\",\"ticks\":\"\"}},\"title\":{\"x\":0.05},\"updatemenudefaults\":{\"bgcolor\":\"#506784\",\"borderwidth\":0},\"xaxis\":{\"automargin\":true,\"gridcolor\":\"#283442\",\"linecolor\":\"#506784\",\"ticks\":\"\",\"title\":{\"standoff\":15},\"zerolinecolor\":\"#283442\",\"zerolinewidth\":2},\"yaxis\":{\"automargin\":true,\"gridcolor\":\"#283442\",\"linecolor\":\"#506784\",\"ticks\":\"\",\"title\":{\"standoff\":15},\"zerolinecolor\":\"#283442\",\"zerolinewidth\":2}}},\"title\":{\"text\":\"Heatmap\",\"x\":0.5},\"width\":1100,\"height\":1000},                        {\"responsive\": true}                    ).then(function(){\n",
       "                            \n",
       "var gd = document.getElementById('f2195bcf-fee3-47eb-9fda-708cbc00bfb6');\n",
       "var x = new MutationObserver(function (mutations, observer) {{\n",
       "        var display = window.getComputedStyle(gd).display;\n",
       "        if (!display || display === 'none') {{\n",
       "            console.log([gd, 'removed!']);\n",
       "            Plotly.purge(gd);\n",
       "            observer.disconnect();\n",
       "        }}\n",
       "}});\n",
       "\n",
       "// Listen for the removal of the full notebook cells\n",
       "var notebookContainer = gd.closest('#notebook-container');\n",
       "if (notebookContainer) {{\n",
       "    x.observe(notebookContainer, {childList: true});\n",
       "}}\n",
       "\n",
       "// Listen for the clearing of the current output cell\n",
       "var outputEl = gd.closest('.output');\n",
       "if (outputEl) {{\n",
       "    x.observe(outputEl, {childList: true});\n",
       "}}\n",
       "\n",
       "                        })                };                });            </script>        </div>"
      ]
     },
     "metadata": {},
     "output_type": "display_data"
    }
   ],
   "source": [
    "mask = np.triu(np.ones_like(corr, dtype=bool))\n",
    "df_mask = corr.mask(mask)\n",
    "df_mask_rounded = df_mask.round(2)\n",
    "fig = ff.create_annotated_heatmap(z=df_mask_rounded.values, \n",
    "                                  x=df_mask_rounded.columns.tolist(),\n",
    "                                  y=df_mask_rounded.columns.tolist(),\n",
    "                                  colorscale='RdBu',  \n",
    "                                  hoverinfo='none',  \n",
    "                                  showscale=True,\n",
    "                                  ygap=1,\n",
    "                                  xgap=1\n",
    "                                 )\n",
    "fig.update_xaxes(side='bottom')\n",
    "fig.update_layout(\n",
    "    title_text='Heatmap', \n",
    "    title_x=0.5, \n",
    "    width=1100, \n",
    "    height=1000,\n",
    "    xaxis=dict(showgrid=True),\n",
    "    yaxis=dict(showgrid=True, autorange='reversed'),\n",
    "    template='plotly_dark'\n",
    ")\n",
    "for annotation in fig.layout.annotations:\n",
    "    if annotation.text == 'nan':\n",
    "        annotation.text = \"\"\n",
    "fig.show()"
   ]
  },
  {
   "cell_type": "code",
   "execution_count": 56,
   "id": "c186bbbb",
   "metadata": {
    "execution": {
     "iopub.execute_input": "2024-09-05T23:23:10.119386Z",
     "iopub.status.busy": "2024-09-05T23:23:10.118677Z",
     "iopub.status.idle": "2024-09-05T23:23:10.132065Z",
     "shell.execute_reply": "2024-09-05T23:23:10.131082Z"
    },
    "papermill": {
     "duration": 0.05269,
     "end_time": "2024-09-05T23:23:10.134123",
     "exception": false,
     "start_time": "2024-09-05T23:23:10.081433",
     "status": "completed"
    },
    "tags": []
   },
   "outputs": [
    {
     "data": {
      "text/html": [
       "<div>\n",
       "<style scoped>\n",
       "    .dataframe tbody tr th:only-of-type {\n",
       "        vertical-align: middle;\n",
       "    }\n",
       "\n",
       "    .dataframe tbody tr th {\n",
       "        vertical-align: top;\n",
       "    }\n",
       "\n",
       "    .dataframe thead th {\n",
       "        text-align: right;\n",
       "    }\n",
       "</style>\n",
       "<table border=\"1\" class=\"dataframe\">\n",
       "  <thead>\n",
       "    <tr style=\"text-align: right;\">\n",
       "      <th></th>\n",
       "      <th>Age</th>\n",
       "      <th>Gender</th>\n",
       "      <th>AlcoholConsumption</th>\n",
       "      <th>Smoking</th>\n",
       "      <th>GeneticRisk</th>\n",
       "      <th>PhysicalActivity</th>\n",
       "      <th>Diabetes</th>\n",
       "      <th>Hypertension</th>\n",
       "      <th>LiverFunctionTest</th>\n",
       "      <th>SegmentBMI</th>\n",
       "    </tr>\n",
       "  </thead>\n",
       "  <tbody>\n",
       "    <tr>\n",
       "      <th>0</th>\n",
       "      <td>58</td>\n",
       "      <td>0</td>\n",
       "      <td>17.273</td>\n",
       "      <td>0</td>\n",
       "      <td>1</td>\n",
       "      <td>0.659</td>\n",
       "      <td>0</td>\n",
       "      <td>0</td>\n",
       "      <td>42.734</td>\n",
       "      <td>0</td>\n",
       "    </tr>\n",
       "    <tr>\n",
       "      <th>1</th>\n",
       "      <td>71</td>\n",
       "      <td>1</td>\n",
       "      <td>2.201</td>\n",
       "      <td>0</td>\n",
       "      <td>1</td>\n",
       "      <td>1.671</td>\n",
       "      <td>1</td>\n",
       "      <td>0</td>\n",
       "      <td>67.310</td>\n",
       "      <td>2</td>\n",
       "    </tr>\n",
       "    <tr>\n",
       "      <th>2</th>\n",
       "      <td>48</td>\n",
       "      <td>0</td>\n",
       "      <td>18.501</td>\n",
       "      <td>0</td>\n",
       "      <td>0</td>\n",
       "      <td>9.928</td>\n",
       "      <td>0</td>\n",
       "      <td>0</td>\n",
       "      <td>63.739</td>\n",
       "      <td>1</td>\n",
       "    </tr>\n",
       "    <tr>\n",
       "      <th>3</th>\n",
       "      <td>34</td>\n",
       "      <td>1</td>\n",
       "      <td>12.633</td>\n",
       "      <td>0</td>\n",
       "      <td>0</td>\n",
       "      <td>5.630</td>\n",
       "      <td>0</td>\n",
       "      <td>0</td>\n",
       "      <td>64.556</td>\n",
       "      <td>4</td>\n",
       "    </tr>\n",
       "    <tr>\n",
       "      <th>4</th>\n",
       "      <td>62</td>\n",
       "      <td>1</td>\n",
       "      <td>1.088</td>\n",
       "      <td>0</td>\n",
       "      <td>1</td>\n",
       "      <td>3.566</td>\n",
       "      <td>1</td>\n",
       "      <td>0</td>\n",
       "      <td>77.869</td>\n",
       "      <td>4</td>\n",
       "    </tr>\n",
       "  </tbody>\n",
       "</table>\n",
       "</div>"
      ],
      "text/plain": [
       "   Age  Gender  AlcoholConsumption  Smoking  GeneticRisk  PhysicalActivity  Diabetes  Hypertension  LiverFunctionTest  SegmentBMI\n",
       "0   58       0              17.273        0            1             0.659         0             0             42.734           0\n",
       "1   71       1               2.201        0            1             1.671         1             0             67.310           2\n",
       "2   48       0              18.501        0            0             9.928         0             0             63.739           1\n",
       "3   34       1              12.633        0            0             5.630         0             0             64.556           4\n",
       "4   62       1               1.088        0            1             3.566         1             0             77.869           4"
      ]
     },
     "execution_count": 56,
     "metadata": {},
     "output_type": "execute_result"
    }
   ],
   "source": [
    "### Split \n",
    "X = data.drop('Diagnosis',axis=1)\n",
    "y = data['Diagnosis']\n",
    "keys = X.columns\n",
    "X.head()"
   ]
  },
  {
   "cell_type": "code",
   "execution_count": 57,
   "id": "4e5b11e4",
   "metadata": {
    "execution": {
     "iopub.execute_input": "2024-09-05T23:23:10.208865Z",
     "iopub.status.busy": "2024-09-05T23:23:10.208269Z",
     "iopub.status.idle": "2024-09-05T23:23:10.214948Z",
     "shell.execute_reply": "2024-09-05T23:23:10.214045Z"
    },
    "papermill": {
     "duration": 0.045068,
     "end_time": "2024-09-05T23:23:10.216868",
     "exception": false,
     "start_time": "2024-09-05T23:23:10.171800",
     "status": "completed"
    },
    "tags": []
   },
   "outputs": [
    {
     "data": {
      "text/plain": [
       "0    1\n",
       "1    1\n",
       "2    0\n",
       "3    1\n",
       "4    1\n",
       "Name: Diagnosis, dtype: int64"
      ]
     },
     "execution_count": 57,
     "metadata": {},
     "output_type": "execute_result"
    }
   ],
   "source": [
    "y.head()"
   ]
  },
  {
   "cell_type": "code",
   "execution_count": 58,
   "id": "23393dfb",
   "metadata": {
    "execution": {
     "iopub.execute_input": "2024-09-05T23:23:10.293107Z",
     "iopub.status.busy": "2024-09-05T23:23:10.292262Z",
     "iopub.status.idle": "2024-09-05T23:23:10.308610Z",
     "shell.execute_reply": "2024-09-05T23:23:10.307645Z"
    },
    "papermill": {
     "duration": 0.056643,
     "end_time": "2024-09-05T23:23:10.310583",
     "exception": false,
     "start_time": "2024-09-05T23:23:10.253940",
     "status": "completed"
    },
    "tags": []
   },
   "outputs": [
    {
     "data": {
      "text/html": [
       "<div>\n",
       "<style scoped>\n",
       "    .dataframe tbody tr th:only-of-type {\n",
       "        vertical-align: middle;\n",
       "    }\n",
       "\n",
       "    .dataframe tbody tr th {\n",
       "        vertical-align: top;\n",
       "    }\n",
       "\n",
       "    .dataframe thead th {\n",
       "        text-align: right;\n",
       "    }\n",
       "</style>\n",
       "<table border=\"1\" class=\"dataframe\">\n",
       "  <thead>\n",
       "    <tr style=\"text-align: right;\">\n",
       "      <th></th>\n",
       "      <th>Age</th>\n",
       "      <th>Gender</th>\n",
       "      <th>AlcoholConsumption</th>\n",
       "      <th>Smoking</th>\n",
       "      <th>GeneticRisk</th>\n",
       "      <th>PhysicalActivity</th>\n",
       "      <th>Diabetes</th>\n",
       "      <th>Hypertension</th>\n",
       "      <th>LiverFunctionTest</th>\n",
       "      <th>SegmentBMI</th>\n",
       "    </tr>\n",
       "  </thead>\n",
       "  <tbody>\n",
       "    <tr>\n",
       "      <th>0</th>\n",
       "      <td>0.633</td>\n",
       "      <td>0.000</td>\n",
       "      <td>0.866</td>\n",
       "      <td>0.000</td>\n",
       "      <td>0.500</td>\n",
       "      <td>0.066</td>\n",
       "      <td>0.000</td>\n",
       "      <td>0.000</td>\n",
       "      <td>0.284</td>\n",
       "      <td>0.000</td>\n",
       "    </tr>\n",
       "    <tr>\n",
       "      <th>1</th>\n",
       "      <td>0.850</td>\n",
       "      <td>1.000</td>\n",
       "      <td>0.110</td>\n",
       "      <td>0.000</td>\n",
       "      <td>0.500</td>\n",
       "      <td>0.167</td>\n",
       "      <td>1.000</td>\n",
       "      <td>0.000</td>\n",
       "      <td>0.591</td>\n",
       "      <td>0.500</td>\n",
       "    </tr>\n",
       "    <tr>\n",
       "      <th>2</th>\n",
       "      <td>0.467</td>\n",
       "      <td>0.000</td>\n",
       "      <td>0.927</td>\n",
       "      <td>0.000</td>\n",
       "      <td>0.000</td>\n",
       "      <td>0.993</td>\n",
       "      <td>0.000</td>\n",
       "      <td>0.000</td>\n",
       "      <td>0.547</td>\n",
       "      <td>0.250</td>\n",
       "    </tr>\n",
       "    <tr>\n",
       "      <th>3</th>\n",
       "      <td>0.233</td>\n",
       "      <td>1.000</td>\n",
       "      <td>0.633</td>\n",
       "      <td>0.000</td>\n",
       "      <td>0.000</td>\n",
       "      <td>0.563</td>\n",
       "      <td>0.000</td>\n",
       "      <td>0.000</td>\n",
       "      <td>0.557</td>\n",
       "      <td>1.000</td>\n",
       "    </tr>\n",
       "    <tr>\n",
       "      <th>4</th>\n",
       "      <td>0.700</td>\n",
       "      <td>1.000</td>\n",
       "      <td>0.054</td>\n",
       "      <td>0.000</td>\n",
       "      <td>0.500</td>\n",
       "      <td>0.357</td>\n",
       "      <td>1.000</td>\n",
       "      <td>0.000</td>\n",
       "      <td>0.723</td>\n",
       "      <td>1.000</td>\n",
       "    </tr>\n",
       "  </tbody>\n",
       "</table>\n",
       "</div>"
      ],
      "text/plain": [
       "    Age  Gender  AlcoholConsumption  Smoking  GeneticRisk  PhysicalActivity  Diabetes  Hypertension  LiverFunctionTest  SegmentBMI\n",
       "0 0.633   0.000               0.866    0.000        0.500             0.066     0.000         0.000              0.284       0.000\n",
       "1 0.850   1.000               0.110    0.000        0.500             0.167     1.000         0.000              0.591       0.500\n",
       "2 0.467   0.000               0.927    0.000        0.000             0.993     0.000         0.000              0.547       0.250\n",
       "3 0.233   1.000               0.633    0.000        0.000             0.563     0.000         0.000              0.557       1.000\n",
       "4 0.700   1.000               0.054    0.000        0.500             0.357     1.000         0.000              0.723       1.000"
      ]
     },
     "execution_count": 58,
     "metadata": {},
     "output_type": "execute_result"
    }
   ],
   "source": [
    "### Scaling\n",
    "scale = MinMaxScaler()\n",
    "X = scale.fit_transform(X)\n",
    "X = pd.DataFrame(X,columns=keys)\n",
    "X.head()"
   ]
  },
  {
   "cell_type": "code",
   "execution_count": 59,
   "id": "1105d658",
   "metadata": {
    "execution": {
     "iopub.execute_input": "2024-09-05T23:23:10.386969Z",
     "iopub.status.busy": "2024-09-05T23:23:10.386620Z",
     "iopub.status.idle": "2024-09-05T23:23:10.396738Z",
     "shell.execute_reply": "2024-09-05T23:23:10.395856Z"
    },
    "papermill": {
     "duration": 0.049456,
     "end_time": "2024-09-05T23:23:10.398632",
     "exception": false,
     "start_time": "2024-09-05T23:23:10.349176",
     "status": "completed"
    },
    "tags": []
   },
   "outputs": [
    {
     "name": "stdout",
     "output_type": "stream",
     "text": [
      "X_train shape is  (1360, 10)\n",
      "X_test shape is  (340, 10)\n",
      "y_train shape is  (1360,)\n",
      "y_test shape is  (340,)\n"
     ]
    }
   ],
   "source": [
    "X_train, X_test, y_train, y_test = train_test_split(X, y, test_size=0.20, random_state=42, shuffle =True,stratify=y)\n",
    "print('X_train shape is ' , X_train.shape)\n",
    "print('X_test shape is ' , X_test.shape)\n",
    "print('y_train shape is ' , y_train.shape)\n",
    "print('y_test shape is ' , y_test.shape)"
   ]
  },
  {
   "cell_type": "markdown",
   "id": "128461e5",
   "metadata": {
    "papermill": {
     "duration": 0.036888,
     "end_time": "2024-09-05T23:23:10.472448",
     "exception": false,
     "start_time": "2024-09-05T23:23:10.435560",
     "status": "completed"
    },
    "tags": []
   },
   "source": [
    "<!-- from IPython.core.display import display, HTML\n",
    "\n",
    "html_code = \"\"\" -->\n",
    "<style>\n",
    "@keyframes colorChange {\n",
    "    0% { background-color: #ffdd99; border-color: #ff66f6; color: #660000; }\n",
    "    25% { background-color: #99ccff; border-color: #33c9ff; color: #003366; }\n",
    "    50% { background-color: #99fd9d; border-color: #33cc33; color: #006600; }\n",
    "    75% { background-color: #fffc99; border-color: #cccc33; color: #6f6600; }\n",
    "    100% { background-color: #ff9999; border-color: #ff6d66; color: #660000; }\n",
    "}\n",
    "\n",
    ".fancy-card {\n",
    "    font-family: 'Courier New', Courier, monospace;\n",
    "    font-size: 2em;\n",
    "    padding: 20px;\n",
    "    margin: 20px;\n",
    "    border: 5px solid;\n",
    "    border-radius: 15px;\n",
    "    text-align: center;\n",
    "    animation: colorChange 10s infinite;\n",
    "}\n",
    "</style>\n",
    "<div class=\"fancy-card\">\n",
    "ML Models\n",
    "</div>\n",
    "<!-- \"\"\" -->\n",
    "\n",
    "<!-- display(HTML(html_code))  -->\n"
   ]
  },
  {
   "cell_type": "code",
   "execution_count": 60,
   "id": "7bb902f9",
   "metadata": {
    "execution": {
     "iopub.execute_input": "2024-09-05T23:23:10.550621Z",
     "iopub.status.busy": "2024-09-05T23:23:10.549791Z",
     "iopub.status.idle": "2024-09-05T23:23:25.777301Z",
     "shell.execute_reply": "2024-09-05T23:23:25.776062Z"
    },
    "papermill": {
     "duration": 15.269836,
     "end_time": "2024-09-05T23:23:25.779862",
     "exception": false,
     "start_time": "2024-09-05T23:23:10.510026",
     "status": "completed"
    },
    "tags": []
   },
   "outputs": [
    {
     "name": "stdout",
     "output_type": "stream",
     "text": [
      "Cross-validating RandomForest...\n",
      "Mean accuracy for RandomForest: 0.8706\n",
      "Cross-validating XGBoost...\n",
      "Mean accuracy for XGBoost: 0.8838\n",
      "Cross-validating LGBM...\n",
      "Mean accuracy for LGBM: 0.8890\n",
      "Cross-validating DecisionTree...\n",
      "Mean accuracy for DecisionTree: 0.7926\n",
      "Cross-validating KNN...\n",
      "Mean accuracy for KNN: 0.7765\n",
      "Cross-validating SVC...\n",
      "Mean accuracy for SVC: 0.8162\n",
      "Cross-validating LogisticRegression...\n",
      "Mean accuracy for LogisticRegression: 0.8081\n",
      "Cross-validating CatBoost...\n",
      "Mean accuracy for CatBoost: 0.9125\n"
     ]
    }
   ],
   "source": [
    "models = {\n",
    "    'RandomForest': RandomForestClassifier(),\n",
    "    'XGBoost': XGBClassifier(),\n",
    "    'LGBM': LGBMClassifier(verbose=-1),\n",
    "    'DecisionTree': DecisionTreeClassifier(),\n",
    "    'KNN': KNeighborsClassifier(),\n",
    "    'SVC': SVC(),\n",
    "    'LogisticRegression': LogisticRegression(),\n",
    "    'CatBoost': CatBoostClassifier(logging_level='Silent')\n",
    "}\n",
    "### Validation Score\n",
    "cv_results = {}\n",
    "for model_name, model in models.items():\n",
    "    print(f\"Cross-validating {model_name}...\")\n",
    "    cv_scores = cross_val_score(model, X_train, y_train, cv=5, scoring='accuracy', n_jobs=-1,verbose=0)\n",
    "    cv_results[model_name] = cv_scores.mean()\n",
    "    print(f\"Mean accuracy for {model_name}: {cv_scores.mean():.4f}\")"
   ]
  },
  {
   "cell_type": "code",
   "execution_count": 61,
   "id": "9570a183",
   "metadata": {
    "execution": {
     "iopub.execute_input": "2024-09-05T23:23:25.858829Z",
     "iopub.status.busy": "2024-09-05T23:23:25.858082Z",
     "iopub.status.idle": "2024-09-05T23:23:25.870679Z",
     "shell.execute_reply": "2024-09-05T23:23:25.869796Z"
    },
    "papermill": {
     "duration": 0.053916,
     "end_time": "2024-09-05T23:23:25.872886",
     "exception": false,
     "start_time": "2024-09-05T23:23:25.818970",
     "status": "completed"
    },
    "tags": []
   },
   "outputs": [
    {
     "data": {
      "text/html": [
       "<div>\n",
       "<style scoped>\n",
       "    .dataframe tbody tr th:only-of-type {\n",
       "        vertical-align: middle;\n",
       "    }\n",
       "\n",
       "    .dataframe tbody tr th {\n",
       "        vertical-align: top;\n",
       "    }\n",
       "\n",
       "    .dataframe thead th {\n",
       "        text-align: right;\n",
       "    }\n",
       "</style>\n",
       "<table border=\"1\" class=\"dataframe\">\n",
       "  <thead>\n",
       "    <tr style=\"text-align: right;\">\n",
       "      <th></th>\n",
       "      <th>Model</th>\n",
       "      <th>Mean Accuracy</th>\n",
       "    </tr>\n",
       "  </thead>\n",
       "  <tbody>\n",
       "    <tr>\n",
       "      <th>7</th>\n",
       "      <td>CatBoost</td>\n",
       "      <td>0.912</td>\n",
       "    </tr>\n",
       "    <tr>\n",
       "      <th>2</th>\n",
       "      <td>LGBM</td>\n",
       "      <td>0.889</td>\n",
       "    </tr>\n",
       "    <tr>\n",
       "      <th>1</th>\n",
       "      <td>XGBoost</td>\n",
       "      <td>0.884</td>\n",
       "    </tr>\n",
       "    <tr>\n",
       "      <th>0</th>\n",
       "      <td>RandomForest</td>\n",
       "      <td>0.871</td>\n",
       "    </tr>\n",
       "    <tr>\n",
       "      <th>5</th>\n",
       "      <td>SVC</td>\n",
       "      <td>0.816</td>\n",
       "    </tr>\n",
       "    <tr>\n",
       "      <th>6</th>\n",
       "      <td>LogisticRegression</td>\n",
       "      <td>0.808</td>\n",
       "    </tr>\n",
       "    <tr>\n",
       "      <th>3</th>\n",
       "      <td>DecisionTree</td>\n",
       "      <td>0.793</td>\n",
       "    </tr>\n",
       "    <tr>\n",
       "      <th>4</th>\n",
       "      <td>KNN</td>\n",
       "      <td>0.776</td>\n",
       "    </tr>\n",
       "  </tbody>\n",
       "</table>\n",
       "</div>"
      ],
      "text/plain": [
       "                Model  Mean Accuracy\n",
       "7            CatBoost          0.912\n",
       "2                LGBM          0.889\n",
       "1             XGBoost          0.884\n",
       "0        RandomForest          0.871\n",
       "5                 SVC          0.816\n",
       "6  LogisticRegression          0.808\n",
       "3        DecisionTree          0.793\n",
       "4                 KNN          0.776"
      ]
     },
     "execution_count": 61,
     "metadata": {},
     "output_type": "execute_result"
    }
   ],
   "source": [
    "cv_results_df = pd.DataFrame(list(cv_results.items()), columns=['Model', 'Mean Accuracy'])\n",
    "cv_results_df = cv_results_df.sort_values(by='Mean Accuracy', ascending=False)\n",
    "cv_results_df"
   ]
  },
  {
   "cell_type": "code",
   "execution_count": 62,
   "id": "5c79b06e",
   "metadata": {
    "execution": {
     "iopub.execute_input": "2024-09-05T23:23:25.949137Z",
     "iopub.status.busy": "2024-09-05T23:23:25.948817Z",
     "iopub.status.idle": "2024-09-05T23:23:25.953820Z",
     "shell.execute_reply": "2024-09-05T23:23:25.952960Z"
    },
    "papermill": {
     "duration": 0.044873,
     "end_time": "2024-09-05T23:23:25.955859",
     "exception": false,
     "start_time": "2024-09-05T23:23:25.910986",
     "status": "completed"
    },
    "tags": []
   },
   "outputs": [
    {
     "name": "stdout",
     "output_type": "stream",
     "text": [
      "\n",
      "Best model from CV: CatBoost\n"
     ]
    }
   ],
   "source": [
    "best_model_name = cv_results_df.iloc[0]['Model']\n",
    "print(f\"\\nBest model from CV: {best_model_name}\")"
   ]
  },
  {
   "cell_type": "code",
   "execution_count": 63,
   "id": "6c5c0be3",
   "metadata": {
    "execution": {
     "iopub.execute_input": "2024-09-05T23:23:26.033217Z",
     "iopub.status.busy": "2024-09-05T23:23:26.032831Z",
     "iopub.status.idle": "2024-09-05T23:23:26.136971Z",
     "shell.execute_reply": "2024-09-05T23:23:26.136076Z"
    },
    "papermill": {
     "duration": 0.145259,
     "end_time": "2024-09-05T23:23:26.139024",
     "exception": false,
     "start_time": "2024-09-05T23:23:25.993765",
     "status": "completed"
    },
    "tags": []
   },
   "outputs": [
    {
     "data": {
      "text/html": [
       "<div>                            <div id=\"6c1b8bcf-08ea-4a30-bc6c-4afbb2c20635\" class=\"plotly-graph-div\" style=\"height:600px; width:800px;\"></div>            <script type=\"text/javascript\">                require([\"plotly\"], function(Plotly) {                    window.PLOTLYENV=window.PLOTLYENV || {};                                    if (document.getElementById(\"6c1b8bcf-08ea-4a30-bc6c-4afbb2c20635\")) {                    Plotly.newPlot(                        \"6c1b8bcf-08ea-4a30-bc6c-4afbb2c20635\",                        [{\"alignmentgroup\":\"True\",\"hovertemplate\":\"Model=%{x}\\u003cbr\\u003eMean Accuracy=%{marker.color}\\u003cextra\\u003e\\u003c\\u002fextra\\u003e\",\"legendgroup\":\"\",\"marker\":{\"color\":[0.9125,0.8889705882352942,0.8838235294117647,0.8705882352941178,0.8161764705882353,0.8080882352941176,0.7926470588235294,0.776470588235294],\"coloraxis\":\"coloraxis\",\"pattern\":{\"shape\":\"\"}},\"name\":\"\",\"offsetgroup\":\"\",\"orientation\":\"v\",\"showlegend\":false,\"textposition\":\"auto\",\"texttemplate\":\"%{y}\",\"x\":[\"CatBoost\",\"LGBM\",\"XGBoost\",\"RandomForest\",\"SVC\",\"LogisticRegression\",\"DecisionTree\",\"KNN\"],\"xaxis\":\"x\",\"y\":[0.9125,0.8889705882352942,0.8838235294117647,0.8705882352941178,0.8161764705882353,0.8080882352941176,0.7926470588235294,0.776470588235294],\"yaxis\":\"y\",\"type\":\"bar\"}],                        {\"template\":{\"data\":{\"barpolar\":[{\"marker\":{\"line\":{\"color\":\"rgb(17,17,17)\",\"width\":0.5},\"pattern\":{\"fillmode\":\"overlay\",\"size\":10,\"solidity\":0.2}},\"type\":\"barpolar\"}],\"bar\":[{\"error_x\":{\"color\":\"#f2f5fa\"},\"error_y\":{\"color\":\"#f2f5fa\"},\"marker\":{\"line\":{\"color\":\"rgb(17,17,17)\",\"width\":0.5},\"pattern\":{\"fillmode\":\"overlay\",\"size\":10,\"solidity\":0.2}},\"type\":\"bar\"}],\"carpet\":[{\"aaxis\":{\"endlinecolor\":\"#A2B1C6\",\"gridcolor\":\"#506784\",\"linecolor\":\"#506784\",\"minorgridcolor\":\"#506784\",\"startlinecolor\":\"#A2B1C6\"},\"baxis\":{\"endlinecolor\":\"#A2B1C6\",\"gridcolor\":\"#506784\",\"linecolor\":\"#506784\",\"minorgridcolor\":\"#506784\",\"startlinecolor\":\"#A2B1C6\"},\"type\":\"carpet\"}],\"choropleth\":[{\"colorbar\":{\"outlinewidth\":0,\"ticks\":\"\"},\"type\":\"choropleth\"}],\"contourcarpet\":[{\"colorbar\":{\"outlinewidth\":0,\"ticks\":\"\"},\"type\":\"contourcarpet\"}],\"contour\":[{\"colorbar\":{\"outlinewidth\":0,\"ticks\":\"\"},\"colorscale\":[[0.0,\"#0d0887\"],[0.1111111111111111,\"#46039f\"],[0.2222222222222222,\"#7201a8\"],[0.3333333333333333,\"#9c179e\"],[0.4444444444444444,\"#bd3786\"],[0.5555555555555556,\"#d8576b\"],[0.6666666666666666,\"#ed7953\"],[0.7777777777777778,\"#fb9f3a\"],[0.8888888888888888,\"#fdca26\"],[1.0,\"#f0f921\"]],\"type\":\"contour\"}],\"heatmapgl\":[{\"colorbar\":{\"outlinewidth\":0,\"ticks\":\"\"},\"colorscale\":[[0.0,\"#0d0887\"],[0.1111111111111111,\"#46039f\"],[0.2222222222222222,\"#7201a8\"],[0.3333333333333333,\"#9c179e\"],[0.4444444444444444,\"#bd3786\"],[0.5555555555555556,\"#d8576b\"],[0.6666666666666666,\"#ed7953\"],[0.7777777777777778,\"#fb9f3a\"],[0.8888888888888888,\"#fdca26\"],[1.0,\"#f0f921\"]],\"type\":\"heatmapgl\"}],\"heatmap\":[{\"colorbar\":{\"outlinewidth\":0,\"ticks\":\"\"},\"colorscale\":[[0.0,\"#0d0887\"],[0.1111111111111111,\"#46039f\"],[0.2222222222222222,\"#7201a8\"],[0.3333333333333333,\"#9c179e\"],[0.4444444444444444,\"#bd3786\"],[0.5555555555555556,\"#d8576b\"],[0.6666666666666666,\"#ed7953\"],[0.7777777777777778,\"#fb9f3a\"],[0.8888888888888888,\"#fdca26\"],[1.0,\"#f0f921\"]],\"type\":\"heatmap\"}],\"histogram2dcontour\":[{\"colorbar\":{\"outlinewidth\":0,\"ticks\":\"\"},\"colorscale\":[[0.0,\"#0d0887\"],[0.1111111111111111,\"#46039f\"],[0.2222222222222222,\"#7201a8\"],[0.3333333333333333,\"#9c179e\"],[0.4444444444444444,\"#bd3786\"],[0.5555555555555556,\"#d8576b\"],[0.6666666666666666,\"#ed7953\"],[0.7777777777777778,\"#fb9f3a\"],[0.8888888888888888,\"#fdca26\"],[1.0,\"#f0f921\"]],\"type\":\"histogram2dcontour\"}],\"histogram2d\":[{\"colorbar\":{\"outlinewidth\":0,\"ticks\":\"\"},\"colorscale\":[[0.0,\"#0d0887\"],[0.1111111111111111,\"#46039f\"],[0.2222222222222222,\"#7201a8\"],[0.3333333333333333,\"#9c179e\"],[0.4444444444444444,\"#bd3786\"],[0.5555555555555556,\"#d8576b\"],[0.6666666666666666,\"#ed7953\"],[0.7777777777777778,\"#fb9f3a\"],[0.8888888888888888,\"#fdca26\"],[1.0,\"#f0f921\"]],\"type\":\"histogram2d\"}],\"histogram\":[{\"marker\":{\"pattern\":{\"fillmode\":\"overlay\",\"size\":10,\"solidity\":0.2}},\"type\":\"histogram\"}],\"mesh3d\":[{\"colorbar\":{\"outlinewidth\":0,\"ticks\":\"\"},\"type\":\"mesh3d\"}],\"parcoords\":[{\"line\":{\"colorbar\":{\"outlinewidth\":0,\"ticks\":\"\"}},\"type\":\"parcoords\"}],\"pie\":[{\"automargin\":true,\"type\":\"pie\"}],\"scatter3d\":[{\"line\":{\"colorbar\":{\"outlinewidth\":0,\"ticks\":\"\"}},\"marker\":{\"colorbar\":{\"outlinewidth\":0,\"ticks\":\"\"}},\"type\":\"scatter3d\"}],\"scattercarpet\":[{\"marker\":{\"colorbar\":{\"outlinewidth\":0,\"ticks\":\"\"}},\"type\":\"scattercarpet\"}],\"scattergeo\":[{\"marker\":{\"colorbar\":{\"outlinewidth\":0,\"ticks\":\"\"}},\"type\":\"scattergeo\"}],\"scattergl\":[{\"marker\":{\"line\":{\"color\":\"#283442\"}},\"type\":\"scattergl\"}],\"scattermapbox\":[{\"marker\":{\"colorbar\":{\"outlinewidth\":0,\"ticks\":\"\"}},\"type\":\"scattermapbox\"}],\"scatterpolargl\":[{\"marker\":{\"colorbar\":{\"outlinewidth\":0,\"ticks\":\"\"}},\"type\":\"scatterpolargl\"}],\"scatterpolar\":[{\"marker\":{\"colorbar\":{\"outlinewidth\":0,\"ticks\":\"\"}},\"type\":\"scatterpolar\"}],\"scatter\":[{\"marker\":{\"line\":{\"color\":\"#283442\"}},\"type\":\"scatter\"}],\"scatterternary\":[{\"marker\":{\"colorbar\":{\"outlinewidth\":0,\"ticks\":\"\"}},\"type\":\"scatterternary\"}],\"surface\":[{\"colorbar\":{\"outlinewidth\":0,\"ticks\":\"\"},\"colorscale\":[[0.0,\"#0d0887\"],[0.1111111111111111,\"#46039f\"],[0.2222222222222222,\"#7201a8\"],[0.3333333333333333,\"#9c179e\"],[0.4444444444444444,\"#bd3786\"],[0.5555555555555556,\"#d8576b\"],[0.6666666666666666,\"#ed7953\"],[0.7777777777777778,\"#fb9f3a\"],[0.8888888888888888,\"#fdca26\"],[1.0,\"#f0f921\"]],\"type\":\"surface\"}],\"table\":[{\"cells\":{\"fill\":{\"color\":\"#506784\"},\"line\":{\"color\":\"rgb(17,17,17)\"}},\"header\":{\"fill\":{\"color\":\"#2a3f5f\"},\"line\":{\"color\":\"rgb(17,17,17)\"}},\"type\":\"table\"}]},\"layout\":{\"annotationdefaults\":{\"arrowcolor\":\"#f2f5fa\",\"arrowhead\":0,\"arrowwidth\":1},\"autotypenumbers\":\"strict\",\"coloraxis\":{\"colorbar\":{\"outlinewidth\":0,\"ticks\":\"\"}},\"colorscale\":{\"diverging\":[[0,\"#8e0152\"],[0.1,\"#c51b7d\"],[0.2,\"#de77ae\"],[0.3,\"#f1b6da\"],[0.4,\"#fde0ef\"],[0.5,\"#f7f7f7\"],[0.6,\"#e6f5d0\"],[0.7,\"#b8e186\"],[0.8,\"#7fbc41\"],[0.9,\"#4d9221\"],[1,\"#276419\"]],\"sequential\":[[0.0,\"#0d0887\"],[0.1111111111111111,\"#46039f\"],[0.2222222222222222,\"#7201a8\"],[0.3333333333333333,\"#9c179e\"],[0.4444444444444444,\"#bd3786\"],[0.5555555555555556,\"#d8576b\"],[0.6666666666666666,\"#ed7953\"],[0.7777777777777778,\"#fb9f3a\"],[0.8888888888888888,\"#fdca26\"],[1.0,\"#f0f921\"]],\"sequentialminus\":[[0.0,\"#0d0887\"],[0.1111111111111111,\"#46039f\"],[0.2222222222222222,\"#7201a8\"],[0.3333333333333333,\"#9c179e\"],[0.4444444444444444,\"#bd3786\"],[0.5555555555555556,\"#d8576b\"],[0.6666666666666666,\"#ed7953\"],[0.7777777777777778,\"#fb9f3a\"],[0.8888888888888888,\"#fdca26\"],[1.0,\"#f0f921\"]]},\"colorway\":[\"#636efa\",\"#EF553B\",\"#00cc96\",\"#ab63fa\",\"#FFA15A\",\"#19d3f3\",\"#FF6692\",\"#B6E880\",\"#FF97FF\",\"#FECB52\"],\"font\":{\"color\":\"#f2f5fa\"},\"geo\":{\"bgcolor\":\"rgb(17,17,17)\",\"lakecolor\":\"rgb(17,17,17)\",\"landcolor\":\"rgb(17,17,17)\",\"showlakes\":true,\"showland\":true,\"subunitcolor\":\"#506784\"},\"hoverlabel\":{\"align\":\"left\"},\"hovermode\":\"closest\",\"mapbox\":{\"style\":\"dark\"},\"paper_bgcolor\":\"rgb(17,17,17)\",\"plot_bgcolor\":\"rgb(17,17,17)\",\"polar\":{\"angularaxis\":{\"gridcolor\":\"#506784\",\"linecolor\":\"#506784\",\"ticks\":\"\"},\"bgcolor\":\"rgb(17,17,17)\",\"radialaxis\":{\"gridcolor\":\"#506784\",\"linecolor\":\"#506784\",\"ticks\":\"\"}},\"scene\":{\"xaxis\":{\"backgroundcolor\":\"rgb(17,17,17)\",\"gridcolor\":\"#506784\",\"gridwidth\":2,\"linecolor\":\"#506784\",\"showbackground\":true,\"ticks\":\"\",\"zerolinecolor\":\"#C8D4E3\"},\"yaxis\":{\"backgroundcolor\":\"rgb(17,17,17)\",\"gridcolor\":\"#506784\",\"gridwidth\":2,\"linecolor\":\"#506784\",\"showbackground\":true,\"ticks\":\"\",\"zerolinecolor\":\"#C8D4E3\"},\"zaxis\":{\"backgroundcolor\":\"rgb(17,17,17)\",\"gridcolor\":\"#506784\",\"gridwidth\":2,\"linecolor\":\"#506784\",\"showbackground\":true,\"ticks\":\"\",\"zerolinecolor\":\"#C8D4E3\"}},\"shapedefaults\":{\"line\":{\"color\":\"#f2f5fa\"}},\"sliderdefaults\":{\"bgcolor\":\"#C8D4E3\",\"bordercolor\":\"rgb(17,17,17)\",\"borderwidth\":1,\"tickwidth\":0},\"ternary\":{\"aaxis\":{\"gridcolor\":\"#506784\",\"linecolor\":\"#506784\",\"ticks\":\"\"},\"baxis\":{\"gridcolor\":\"#506784\",\"linecolor\":\"#506784\",\"ticks\":\"\"},\"bgcolor\":\"rgb(17,17,17)\",\"caxis\":{\"gridcolor\":\"#506784\",\"linecolor\":\"#506784\",\"ticks\":\"\"}},\"title\":{\"x\":0.05},\"updatemenudefaults\":{\"bgcolor\":\"#506784\",\"borderwidth\":0},\"xaxis\":{\"automargin\":true,\"gridcolor\":\"#283442\",\"linecolor\":\"#506784\",\"ticks\":\"\",\"title\":{\"standoff\":15},\"zerolinecolor\":\"#283442\",\"zerolinewidth\":2},\"yaxis\":{\"automargin\":true,\"gridcolor\":\"#283442\",\"linecolor\":\"#506784\",\"ticks\":\"\",\"title\":{\"standoff\":15},\"zerolinecolor\":\"#283442\",\"zerolinewidth\":2}}},\"xaxis\":{\"anchor\":\"y\",\"domain\":[0.0,1.0],\"title\":{\"text\":\"Model\"}},\"yaxis\":{\"anchor\":\"x\",\"domain\":[0.0,1.0],\"title\":{\"text\":\"Mean Accuracy\"}},\"coloraxis\":{\"colorbar\":{\"title\":{\"text\":\"Mean Accuracy\"}},\"colorscale\":[[0.0,\"#0d0887\"],[0.1111111111111111,\"#46039f\"],[0.2222222222222222,\"#7201a8\"],[0.3333333333333333,\"#9c179e\"],[0.4444444444444444,\"#bd3786\"],[0.5555555555555556,\"#d8576b\"],[0.6666666666666666,\"#ed7953\"],[0.7777777777777778,\"#fb9f3a\"],[0.8888888888888888,\"#fdca26\"],[1.0,\"#f0f921\"]]},\"legend\":{\"tracegroupgap\":0},\"title\":{\"text\":\"Cross-Validation Accuracy for Different Models\",\"x\":0.5},\"barmode\":\"relative\",\"width\":800,\"height\":600},                        {\"responsive\": true}                    ).then(function(){\n",
       "                            \n",
       "var gd = document.getElementById('6c1b8bcf-08ea-4a30-bc6c-4afbb2c20635');\n",
       "var x = new MutationObserver(function (mutations, observer) {{\n",
       "        var display = window.getComputedStyle(gd).display;\n",
       "        if (!display || display === 'none') {{\n",
       "            console.log([gd, 'removed!']);\n",
       "            Plotly.purge(gd);\n",
       "            observer.disconnect();\n",
       "        }}\n",
       "}});\n",
       "\n",
       "// Listen for the removal of the full notebook cells\n",
       "var notebookContainer = gd.closest('#notebook-container');\n",
       "if (notebookContainer) {{\n",
       "    x.observe(notebookContainer, {childList: true});\n",
       "}}\n",
       "\n",
       "// Listen for the clearing of the current output cell\n",
       "var outputEl = gd.closest('.output');\n",
       "if (outputEl) {{\n",
       "    x.observe(outputEl, {childList: true});\n",
       "}}\n",
       "\n",
       "                        })                };                });            </script>        </div>"
      ]
     },
     "metadata": {},
     "output_type": "display_data"
    }
   ],
   "source": [
    "fig = px.bar(cv_results_df, x='Model', y='Mean Accuracy', title='Cross-Validation Accuracy for Different Models',text_auto=True,\n",
    "             labels={'Mean Accuracy': 'Mean Accuracy'}, color='Mean Accuracy')\n",
    "fig.update_layout(\n",
    "    title_x=0.5,\n",
    "    template=\"plotly_dark\",  \n",
    "    width=800,              \n",
    "    height=600 \n",
    ")\n",
    "fig.show()"
   ]
  },
  {
   "cell_type": "code",
   "execution_count": 64,
   "id": "b29d666e",
   "metadata": {
    "execution": {
     "iopub.execute_input": "2024-09-05T23:23:26.219964Z",
     "iopub.status.busy": "2024-09-05T23:23:26.219243Z",
     "iopub.status.idle": "2024-09-05T23:36:15.761699Z",
     "shell.execute_reply": "2024-09-05T23:36:15.760343Z"
    },
    "papermill": {
     "duration": 769.625025,
     "end_time": "2024-09-05T23:36:15.803348",
     "exception": false,
     "start_time": "2024-09-05T23:23:26.178323",
     "status": "completed"
    },
    "tags": []
   },
   "outputs": [
    {
     "name": "stdout",
     "output_type": "stream",
     "text": [
      "\n",
      "Performing GridSearchCV for RandomForest...\n",
      "\n",
      "Best parameters for RandomForest: {'max_depth': 20, 'min_samples_split': 5, 'n_estimators': 30}\n",
      "Best cross-validation score for RandomForest: 0.8743\n",
      "\n",
      "Performing GridSearchCV for XGBoost...\n",
      "\n",
      "Best parameters for XGBoost: {'learning_rate': 0.2, 'max_depth': 3, 'n_estimators': 60, 'subsample': 1}\n",
      "Best cross-validation score for XGBoost: 0.9110\n",
      "\n",
      "Performing GridSearchCV for LGBM...\n",
      "\n",
      "Best parameters for LGBM: {'learning_rate': 0.05, 'max_depth': 5, 'n_estimators': 100}\n",
      "Best cross-validation score for LGBM: 0.8978\n",
      "\n",
      "Performing GridSearchCV for DecisionTree...\n",
      "\n",
      "Best parameters for DecisionTree: {'max_depth': None, 'min_samples_split': 10}\n",
      "Best cross-validation score for DecisionTree: 0.8074\n",
      "\n",
      "Performing GridSearchCV for KNN...\n",
      "\n",
      "Best parameters for KNN: {'n_neighbors': 5, 'p': 1, 'weights': 'distance'}\n",
      "Best cross-validation score for KNN: 0.8022\n",
      "\n",
      "Performing GridSearchCV for SVC...\n",
      "\n",
      "Best parameters for SVC: {'C': 10, 'gamma': 'scale', 'kernel': 'rbf'}\n",
      "Best cross-validation score for SVC: 0.8265\n",
      "\n",
      "Performing GridSearchCV for LogisticRegression...\n",
      "\n",
      "Best parameters for LogisticRegression: {'C': 0.1, 'penalty': 'l1', 'solver': 'saga'}\n",
      "Best cross-validation score for LogisticRegression: 0.8140\n",
      "\n",
      "Performing GridSearchCV for CatBoost...\n",
      "\n",
      "Best parameters for CatBoost: {'depth': 6, 'iterations': 200, 'learning_rate': 0.1}\n",
      "Best cross-validation score for CatBoost: 0.9140\n"
     ]
    }
   ],
   "source": [
    "### Search best Parameters\n",
    "param_grids = {\n",
    "    'RandomForest': {'n_estimators': [10, 20, 30, 40], 'max_depth': [None, 10, 20, 30, 40], 'min_samples_split': [2, 5, 10]},\n",
    "    'XGBoost': {'max_depth': [3, 5, 7], 'n_estimators': [50, 60, 70], 'subsample': [0.6, 0.8, 1], 'learning_rate': [0.01, 0.1, 0.2]},\n",
    "    'LGBM': {'n_estimators': [50, 100, 150], 'max_depth': [-1, 5, 10], 'learning_rate': [0.01, 0.05, 0.1]},\n",
    "    'DecisionTree': {'max_depth': [None, 10, 20, 30], 'min_samples_split': [2, 5, 10]},\n",
    "    'KNN': {'n_neighbors': [3, 5, 7], 'weights': ['uniform', 'distance'], 'p': [1, 2]},\n",
    "    'SVC': {'C': [0.1, 1, 10], 'kernel': ['linear', 'rbf', 'poly'], 'gamma': ['scale', 'auto']},\n",
    "    'LogisticRegression': {'C': [0.01, 0.1, 1, 10], 'penalty': ['l1', 'l2'], 'solver': ['liblinear', 'saga']},\n",
    "    'CatBoost': {'iterations': [100, 200], 'learning_rate': [0.01, 0.1], 'depth': [6, 10,15,20,25,30,40]}\n",
    "}\n",
    "best_results = []\n",
    "for model_name, model in models.items():\n",
    "    print(f\"\\nPerforming GridSearchCV for {model_name}...\")\n",
    "    grid_search = GridSearchCV(estimator=model, param_grid=param_grids[model_name], cv=5, scoring='accuracy', verbose=0, n_jobs=-1)\n",
    "    grid_search.fit(X_train, y_train)\n",
    "    best_params = grid_search.best_params_\n",
    "    best_score = grid_search.best_score_\n",
    "    # Store the best score and parameters\n",
    "    best_results.append({'Model': model_name, 'Best Score': best_score, 'Best Params': best_params})\n",
    "    print(f\"\\nBest parameters for {model_name}: {best_params}\")\n",
    "    print(f\"Best cross-validation score for {model_name}: {best_score:.4f}\")"
   ]
  },
  {
   "cell_type": "code",
   "execution_count": 65,
   "id": "420d54eb",
   "metadata": {
    "execution": {
     "iopub.execute_input": "2024-09-05T23:36:15.883446Z",
     "iopub.status.busy": "2024-09-05T23:36:15.882665Z",
     "iopub.status.idle": "2024-09-05T23:36:15.898615Z",
     "shell.execute_reply": "2024-09-05T23:36:15.897802Z"
    },
    "papermill": {
     "duration": 0.058234,
     "end_time": "2024-09-05T23:36:15.900609",
     "exception": false,
     "start_time": "2024-09-05T23:36:15.842375",
     "status": "completed"
    },
    "tags": []
   },
   "outputs": [
    {
     "data": {
      "text/html": [
       "<div>\n",
       "<style scoped>\n",
       "    .dataframe tbody tr th:only-of-type {\n",
       "        vertical-align: middle;\n",
       "    }\n",
       "\n",
       "    .dataframe tbody tr th {\n",
       "        vertical-align: top;\n",
       "    }\n",
       "\n",
       "    .dataframe thead th {\n",
       "        text-align: right;\n",
       "    }\n",
       "</style>\n",
       "<table border=\"1\" class=\"dataframe\">\n",
       "  <thead>\n",
       "    <tr style=\"text-align: right;\">\n",
       "      <th></th>\n",
       "      <th>Model</th>\n",
       "      <th>Best Score</th>\n",
       "      <th>Best Params</th>\n",
       "    </tr>\n",
       "  </thead>\n",
       "  <tbody>\n",
       "    <tr>\n",
       "      <th>7</th>\n",
       "      <td>CatBoost</td>\n",
       "      <td>0.914</td>\n",
       "      <td>{'depth': 6, 'iterations': 200, 'learning_rate...</td>\n",
       "    </tr>\n",
       "    <tr>\n",
       "      <th>1</th>\n",
       "      <td>XGBoost</td>\n",
       "      <td>0.911</td>\n",
       "      <td>{'learning_rate': 0.2, 'max_depth': 3, 'n_esti...</td>\n",
       "    </tr>\n",
       "    <tr>\n",
       "      <th>2</th>\n",
       "      <td>LGBM</td>\n",
       "      <td>0.898</td>\n",
       "      <td>{'learning_rate': 0.05, 'max_depth': 5, 'n_est...</td>\n",
       "    </tr>\n",
       "    <tr>\n",
       "      <th>0</th>\n",
       "      <td>RandomForest</td>\n",
       "      <td>0.874</td>\n",
       "      <td>{'max_depth': 20, 'min_samples_split': 5, 'n_e...</td>\n",
       "    </tr>\n",
       "    <tr>\n",
       "      <th>5</th>\n",
       "      <td>SVC</td>\n",
       "      <td>0.826</td>\n",
       "      <td>{'C': 10, 'gamma': 'scale', 'kernel': 'rbf'}</td>\n",
       "    </tr>\n",
       "    <tr>\n",
       "      <th>6</th>\n",
       "      <td>LogisticRegression</td>\n",
       "      <td>0.814</td>\n",
       "      <td>{'C': 0.1, 'penalty': 'l1', 'solver': 'saga'}</td>\n",
       "    </tr>\n",
       "    <tr>\n",
       "      <th>3</th>\n",
       "      <td>DecisionTree</td>\n",
       "      <td>0.807</td>\n",
       "      <td>{'max_depth': None, 'min_samples_split': 10}</td>\n",
       "    </tr>\n",
       "    <tr>\n",
       "      <th>4</th>\n",
       "      <td>KNN</td>\n",
       "      <td>0.802</td>\n",
       "      <td>{'n_neighbors': 5, 'p': 1, 'weights': 'distance'}</td>\n",
       "    </tr>\n",
       "  </tbody>\n",
       "</table>\n",
       "</div>"
      ],
      "text/plain": [
       "                Model  Best Score                                        Best Params\n",
       "7            CatBoost       0.914  {'depth': 6, 'iterations': 200, 'learning_rate...\n",
       "1             XGBoost       0.911  {'learning_rate': 0.2, 'max_depth': 3, 'n_esti...\n",
       "2                LGBM       0.898  {'learning_rate': 0.05, 'max_depth': 5, 'n_est...\n",
       "0        RandomForest       0.874  {'max_depth': 20, 'min_samples_split': 5, 'n_e...\n",
       "5                 SVC       0.826       {'C': 10, 'gamma': 'scale', 'kernel': 'rbf'}\n",
       "6  LogisticRegression       0.814      {'C': 0.1, 'penalty': 'l1', 'solver': 'saga'}\n",
       "3        DecisionTree       0.807       {'max_depth': None, 'min_samples_split': 10}\n",
       "4                 KNN       0.802  {'n_neighbors': 5, 'p': 1, 'weights': 'distance'}"
      ]
     },
     "execution_count": 65,
     "metadata": {},
     "output_type": "execute_result"
    }
   ],
   "source": [
    "best_results_df = pd.DataFrame(best_results)\n",
    "best_results_df = best_results_df.sort_values(by='Best Score', ascending=False)\n",
    "best_results_df"
   ]
  },
  {
   "cell_type": "code",
   "execution_count": 66,
   "id": "d2db4875",
   "metadata": {
    "execution": {
     "iopub.execute_input": "2024-09-05T23:36:15.980030Z",
     "iopub.status.busy": "2024-09-05T23:36:15.979692Z",
     "iopub.status.idle": "2024-09-05T23:36:15.985290Z",
     "shell.execute_reply": "2024-09-05T23:36:15.984382Z"
    },
    "papermill": {
     "duration": 0.047966,
     "end_time": "2024-09-05T23:36:15.987602",
     "exception": false,
     "start_time": "2024-09-05T23:36:15.939636",
     "status": "completed"
    },
    "tags": []
   },
   "outputs": [
    {
     "name": "stdout",
     "output_type": "stream",
     "text": [
      "\n",
      "Best model : CatBoost\n",
      "\n",
      "Best Parameters : {'depth': 6, 'iterations': 200, 'learning_rate': 0.1}\n"
     ]
    }
   ],
   "source": [
    "best_model_name, best_model_param = best_results_df.iloc[0]['Model'],best_results_df.iloc[0]['Best Params']\n",
    "print(f\"\\nBest model : {best_model_name}\")\n",
    "print(f\"\\nBest Parameters : {best_model_param}\")"
   ]
  },
  {
   "cell_type": "code",
   "execution_count": 67,
   "id": "8dfbffa4",
   "metadata": {
    "execution": {
     "iopub.execute_input": "2024-09-05T23:36:16.068293Z",
     "iopub.status.busy": "2024-09-05T23:36:16.067802Z",
     "iopub.status.idle": "2024-09-05T23:36:16.156229Z",
     "shell.execute_reply": "2024-09-05T23:36:16.155343Z"
    },
    "papermill": {
     "duration": 0.130947,
     "end_time": "2024-09-05T23:36:16.158078",
     "exception": false,
     "start_time": "2024-09-05T23:36:16.027131",
     "status": "completed"
    },
    "tags": []
   },
   "outputs": [
    {
     "data": {
      "text/html": [
       "<div>                            <div id=\"179dddd5-88b7-4dd2-a6fe-e52b5deeee31\" class=\"plotly-graph-div\" style=\"height:600px; width:800px;\"></div>            <script type=\"text/javascript\">                require([\"plotly\"], function(Plotly) {                    window.PLOTLYENV=window.PLOTLYENV || {};                                    if (document.getElementById(\"179dddd5-88b7-4dd2-a6fe-e52b5deeee31\")) {                    Plotly.newPlot(                        \"179dddd5-88b7-4dd2-a6fe-e52b5deeee31\",                        [{\"alignmentgroup\":\"True\",\"hovertemplate\":\"Model=%{x}\\u003cbr\\u003eBest Cross-Validation Score=%{marker.color}\\u003cextra\\u003e\\u003c\\u002fextra\\u003e\",\"legendgroup\":\"\",\"marker\":{\"color\":[0.9139705882352942,0.9110294117647058,0.8977941176470589,0.8742647058823529,0.8264705882352942,0.8139705882352942,0.8073529411764706,0.8022058823529411],\"coloraxis\":\"coloraxis\",\"pattern\":{\"shape\":\"\"}},\"name\":\"\",\"offsetgroup\":\"\",\"orientation\":\"v\",\"showlegend\":false,\"textposition\":\"auto\",\"texttemplate\":\"%{y}\",\"x\":[\"CatBoost\",\"XGBoost\",\"LGBM\",\"RandomForest\",\"SVC\",\"LogisticRegression\",\"DecisionTree\",\"KNN\"],\"xaxis\":\"x\",\"y\":[0.9139705882352942,0.9110294117647058,0.8977941176470589,0.8742647058823529,0.8264705882352942,0.8139705882352942,0.8073529411764706,0.8022058823529411],\"yaxis\":\"y\",\"type\":\"bar\"}],                        {\"template\":{\"data\":{\"barpolar\":[{\"marker\":{\"line\":{\"color\":\"rgb(17,17,17)\",\"width\":0.5},\"pattern\":{\"fillmode\":\"overlay\",\"size\":10,\"solidity\":0.2}},\"type\":\"barpolar\"}],\"bar\":[{\"error_x\":{\"color\":\"#f2f5fa\"},\"error_y\":{\"color\":\"#f2f5fa\"},\"marker\":{\"line\":{\"color\":\"rgb(17,17,17)\",\"width\":0.5},\"pattern\":{\"fillmode\":\"overlay\",\"size\":10,\"solidity\":0.2}},\"type\":\"bar\"}],\"carpet\":[{\"aaxis\":{\"endlinecolor\":\"#A2B1C6\",\"gridcolor\":\"#506784\",\"linecolor\":\"#506784\",\"minorgridcolor\":\"#506784\",\"startlinecolor\":\"#A2B1C6\"},\"baxis\":{\"endlinecolor\":\"#A2B1C6\",\"gridcolor\":\"#506784\",\"linecolor\":\"#506784\",\"minorgridcolor\":\"#506784\",\"startlinecolor\":\"#A2B1C6\"},\"type\":\"carpet\"}],\"choropleth\":[{\"colorbar\":{\"outlinewidth\":0,\"ticks\":\"\"},\"type\":\"choropleth\"}],\"contourcarpet\":[{\"colorbar\":{\"outlinewidth\":0,\"ticks\":\"\"},\"type\":\"contourcarpet\"}],\"contour\":[{\"colorbar\":{\"outlinewidth\":0,\"ticks\":\"\"},\"colorscale\":[[0.0,\"#0d0887\"],[0.1111111111111111,\"#46039f\"],[0.2222222222222222,\"#7201a8\"],[0.3333333333333333,\"#9c179e\"],[0.4444444444444444,\"#bd3786\"],[0.5555555555555556,\"#d8576b\"],[0.6666666666666666,\"#ed7953\"],[0.7777777777777778,\"#fb9f3a\"],[0.8888888888888888,\"#fdca26\"],[1.0,\"#f0f921\"]],\"type\":\"contour\"}],\"heatmapgl\":[{\"colorbar\":{\"outlinewidth\":0,\"ticks\":\"\"},\"colorscale\":[[0.0,\"#0d0887\"],[0.1111111111111111,\"#46039f\"],[0.2222222222222222,\"#7201a8\"],[0.3333333333333333,\"#9c179e\"],[0.4444444444444444,\"#bd3786\"],[0.5555555555555556,\"#d8576b\"],[0.6666666666666666,\"#ed7953\"],[0.7777777777777778,\"#fb9f3a\"],[0.8888888888888888,\"#fdca26\"],[1.0,\"#f0f921\"]],\"type\":\"heatmapgl\"}],\"heatmap\":[{\"colorbar\":{\"outlinewidth\":0,\"ticks\":\"\"},\"colorscale\":[[0.0,\"#0d0887\"],[0.1111111111111111,\"#46039f\"],[0.2222222222222222,\"#7201a8\"],[0.3333333333333333,\"#9c179e\"],[0.4444444444444444,\"#bd3786\"],[0.5555555555555556,\"#d8576b\"],[0.6666666666666666,\"#ed7953\"],[0.7777777777777778,\"#fb9f3a\"],[0.8888888888888888,\"#fdca26\"],[1.0,\"#f0f921\"]],\"type\":\"heatmap\"}],\"histogram2dcontour\":[{\"colorbar\":{\"outlinewidth\":0,\"ticks\":\"\"},\"colorscale\":[[0.0,\"#0d0887\"],[0.1111111111111111,\"#46039f\"],[0.2222222222222222,\"#7201a8\"],[0.3333333333333333,\"#9c179e\"],[0.4444444444444444,\"#bd3786\"],[0.5555555555555556,\"#d8576b\"],[0.6666666666666666,\"#ed7953\"],[0.7777777777777778,\"#fb9f3a\"],[0.8888888888888888,\"#fdca26\"],[1.0,\"#f0f921\"]],\"type\":\"histogram2dcontour\"}],\"histogram2d\":[{\"colorbar\":{\"outlinewidth\":0,\"ticks\":\"\"},\"colorscale\":[[0.0,\"#0d0887\"],[0.1111111111111111,\"#46039f\"],[0.2222222222222222,\"#7201a8\"],[0.3333333333333333,\"#9c179e\"],[0.4444444444444444,\"#bd3786\"],[0.5555555555555556,\"#d8576b\"],[0.6666666666666666,\"#ed7953\"],[0.7777777777777778,\"#fb9f3a\"],[0.8888888888888888,\"#fdca26\"],[1.0,\"#f0f921\"]],\"type\":\"histogram2d\"}],\"histogram\":[{\"marker\":{\"pattern\":{\"fillmode\":\"overlay\",\"size\":10,\"solidity\":0.2}},\"type\":\"histogram\"}],\"mesh3d\":[{\"colorbar\":{\"outlinewidth\":0,\"ticks\":\"\"},\"type\":\"mesh3d\"}],\"parcoords\":[{\"line\":{\"colorbar\":{\"outlinewidth\":0,\"ticks\":\"\"}},\"type\":\"parcoords\"}],\"pie\":[{\"automargin\":true,\"type\":\"pie\"}],\"scatter3d\":[{\"line\":{\"colorbar\":{\"outlinewidth\":0,\"ticks\":\"\"}},\"marker\":{\"colorbar\":{\"outlinewidth\":0,\"ticks\":\"\"}},\"type\":\"scatter3d\"}],\"scattercarpet\":[{\"marker\":{\"colorbar\":{\"outlinewidth\":0,\"ticks\":\"\"}},\"type\":\"scattercarpet\"}],\"scattergeo\":[{\"marker\":{\"colorbar\":{\"outlinewidth\":0,\"ticks\":\"\"}},\"type\":\"scattergeo\"}],\"scattergl\":[{\"marker\":{\"line\":{\"color\":\"#283442\"}},\"type\":\"scattergl\"}],\"scattermapbox\":[{\"marker\":{\"colorbar\":{\"outlinewidth\":0,\"ticks\":\"\"}},\"type\":\"scattermapbox\"}],\"scatterpolargl\":[{\"marker\":{\"colorbar\":{\"outlinewidth\":0,\"ticks\":\"\"}},\"type\":\"scatterpolargl\"}],\"scatterpolar\":[{\"marker\":{\"colorbar\":{\"outlinewidth\":0,\"ticks\":\"\"}},\"type\":\"scatterpolar\"}],\"scatter\":[{\"marker\":{\"line\":{\"color\":\"#283442\"}},\"type\":\"scatter\"}],\"scatterternary\":[{\"marker\":{\"colorbar\":{\"outlinewidth\":0,\"ticks\":\"\"}},\"type\":\"scatterternary\"}],\"surface\":[{\"colorbar\":{\"outlinewidth\":0,\"ticks\":\"\"},\"colorscale\":[[0.0,\"#0d0887\"],[0.1111111111111111,\"#46039f\"],[0.2222222222222222,\"#7201a8\"],[0.3333333333333333,\"#9c179e\"],[0.4444444444444444,\"#bd3786\"],[0.5555555555555556,\"#d8576b\"],[0.6666666666666666,\"#ed7953\"],[0.7777777777777778,\"#fb9f3a\"],[0.8888888888888888,\"#fdca26\"],[1.0,\"#f0f921\"]],\"type\":\"surface\"}],\"table\":[{\"cells\":{\"fill\":{\"color\":\"#506784\"},\"line\":{\"color\":\"rgb(17,17,17)\"}},\"header\":{\"fill\":{\"color\":\"#2a3f5f\"},\"line\":{\"color\":\"rgb(17,17,17)\"}},\"type\":\"table\"}]},\"layout\":{\"annotationdefaults\":{\"arrowcolor\":\"#f2f5fa\",\"arrowhead\":0,\"arrowwidth\":1},\"autotypenumbers\":\"strict\",\"coloraxis\":{\"colorbar\":{\"outlinewidth\":0,\"ticks\":\"\"}},\"colorscale\":{\"diverging\":[[0,\"#8e0152\"],[0.1,\"#c51b7d\"],[0.2,\"#de77ae\"],[0.3,\"#f1b6da\"],[0.4,\"#fde0ef\"],[0.5,\"#f7f7f7\"],[0.6,\"#e6f5d0\"],[0.7,\"#b8e186\"],[0.8,\"#7fbc41\"],[0.9,\"#4d9221\"],[1,\"#276419\"]],\"sequential\":[[0.0,\"#0d0887\"],[0.1111111111111111,\"#46039f\"],[0.2222222222222222,\"#7201a8\"],[0.3333333333333333,\"#9c179e\"],[0.4444444444444444,\"#bd3786\"],[0.5555555555555556,\"#d8576b\"],[0.6666666666666666,\"#ed7953\"],[0.7777777777777778,\"#fb9f3a\"],[0.8888888888888888,\"#fdca26\"],[1.0,\"#f0f921\"]],\"sequentialminus\":[[0.0,\"#0d0887\"],[0.1111111111111111,\"#46039f\"],[0.2222222222222222,\"#7201a8\"],[0.3333333333333333,\"#9c179e\"],[0.4444444444444444,\"#bd3786\"],[0.5555555555555556,\"#d8576b\"],[0.6666666666666666,\"#ed7953\"],[0.7777777777777778,\"#fb9f3a\"],[0.8888888888888888,\"#fdca26\"],[1.0,\"#f0f921\"]]},\"colorway\":[\"#636efa\",\"#EF553B\",\"#00cc96\",\"#ab63fa\",\"#FFA15A\",\"#19d3f3\",\"#FF6692\",\"#B6E880\",\"#FF97FF\",\"#FECB52\"],\"font\":{\"color\":\"#f2f5fa\"},\"geo\":{\"bgcolor\":\"rgb(17,17,17)\",\"lakecolor\":\"rgb(17,17,17)\",\"landcolor\":\"rgb(17,17,17)\",\"showlakes\":true,\"showland\":true,\"subunitcolor\":\"#506784\"},\"hoverlabel\":{\"align\":\"left\"},\"hovermode\":\"closest\",\"mapbox\":{\"style\":\"dark\"},\"paper_bgcolor\":\"rgb(17,17,17)\",\"plot_bgcolor\":\"rgb(17,17,17)\",\"polar\":{\"angularaxis\":{\"gridcolor\":\"#506784\",\"linecolor\":\"#506784\",\"ticks\":\"\"},\"bgcolor\":\"rgb(17,17,17)\",\"radialaxis\":{\"gridcolor\":\"#506784\",\"linecolor\":\"#506784\",\"ticks\":\"\"}},\"scene\":{\"xaxis\":{\"backgroundcolor\":\"rgb(17,17,17)\",\"gridcolor\":\"#506784\",\"gridwidth\":2,\"linecolor\":\"#506784\",\"showbackground\":true,\"ticks\":\"\",\"zerolinecolor\":\"#C8D4E3\"},\"yaxis\":{\"backgroundcolor\":\"rgb(17,17,17)\",\"gridcolor\":\"#506784\",\"gridwidth\":2,\"linecolor\":\"#506784\",\"showbackground\":true,\"ticks\":\"\",\"zerolinecolor\":\"#C8D4E3\"},\"zaxis\":{\"backgroundcolor\":\"rgb(17,17,17)\",\"gridcolor\":\"#506784\",\"gridwidth\":2,\"linecolor\":\"#506784\",\"showbackground\":true,\"ticks\":\"\",\"zerolinecolor\":\"#C8D4E3\"}},\"shapedefaults\":{\"line\":{\"color\":\"#f2f5fa\"}},\"sliderdefaults\":{\"bgcolor\":\"#C8D4E3\",\"bordercolor\":\"rgb(17,17,17)\",\"borderwidth\":1,\"tickwidth\":0},\"ternary\":{\"aaxis\":{\"gridcolor\":\"#506784\",\"linecolor\":\"#506784\",\"ticks\":\"\"},\"baxis\":{\"gridcolor\":\"#506784\",\"linecolor\":\"#506784\",\"ticks\":\"\"},\"bgcolor\":\"rgb(17,17,17)\",\"caxis\":{\"gridcolor\":\"#506784\",\"linecolor\":\"#506784\",\"ticks\":\"\"}},\"title\":{\"x\":0.05},\"updatemenudefaults\":{\"bgcolor\":\"#506784\",\"borderwidth\":0},\"xaxis\":{\"automargin\":true,\"gridcolor\":\"#283442\",\"linecolor\":\"#506784\",\"ticks\":\"\",\"title\":{\"standoff\":15},\"zerolinecolor\":\"#283442\",\"zerolinewidth\":2},\"yaxis\":{\"automargin\":true,\"gridcolor\":\"#283442\",\"linecolor\":\"#506784\",\"ticks\":\"\",\"title\":{\"standoff\":15},\"zerolinecolor\":\"#283442\",\"zerolinewidth\":2}}},\"xaxis\":{\"anchor\":\"y\",\"domain\":[0.0,1.0],\"title\":{\"text\":\"Model\"}},\"yaxis\":{\"anchor\":\"x\",\"domain\":[0.0,1.0],\"title\":{\"text\":\"Best Cross-Validation Score\"}},\"coloraxis\":{\"colorbar\":{\"title\":{\"text\":\"Best Cross-Validation Score\"}},\"colorscale\":[[0.0,\"#0d0887\"],[0.1111111111111111,\"#46039f\"],[0.2222222222222222,\"#7201a8\"],[0.3333333333333333,\"#9c179e\"],[0.4444444444444444,\"#bd3786\"],[0.5555555555555556,\"#d8576b\"],[0.6666666666666666,\"#ed7953\"],[0.7777777777777778,\"#fb9f3a\"],[0.8888888888888888,\"#fdca26\"],[1.0,\"#f0f921\"]]},\"legend\":{\"tracegroupgap\":0},\"title\":{\"text\":\"Best Cross-Validation Scores for All Models\",\"x\":0.5},\"barmode\":\"relative\",\"width\":800,\"height\":600},                        {\"responsive\": true}                    ).then(function(){\n",
       "                            \n",
       "var gd = document.getElementById('179dddd5-88b7-4dd2-a6fe-e52b5deeee31');\n",
       "var x = new MutationObserver(function (mutations, observer) {{\n",
       "        var display = window.getComputedStyle(gd).display;\n",
       "        if (!display || display === 'none') {{\n",
       "            console.log([gd, 'removed!']);\n",
       "            Plotly.purge(gd);\n",
       "            observer.disconnect();\n",
       "        }}\n",
       "}});\n",
       "\n",
       "// Listen for the removal of the full notebook cells\n",
       "var notebookContainer = gd.closest('#notebook-container');\n",
       "if (notebookContainer) {{\n",
       "    x.observe(notebookContainer, {childList: true});\n",
       "}}\n",
       "\n",
       "// Listen for the clearing of the current output cell\n",
       "var outputEl = gd.closest('.output');\n",
       "if (outputEl) {{\n",
       "    x.observe(outputEl, {childList: true});\n",
       "}}\n",
       "\n",
       "                        })                };                });            </script>        </div>"
      ]
     },
     "metadata": {},
     "output_type": "display_data"
    }
   ],
   "source": [
    "fig = px.bar(best_results_df, x='Model', y='Best Score',title='Best Cross-Validation Scores for All Models',text_auto=True,\n",
    "             labels={'Best Score': 'Best Cross-Validation Score'}, color='Best Score')\n",
    "fig.update_layout(\n",
    "    title_x=0.5,\n",
    "    template=\"plotly_dark\",  \n",
    "    width=800,              \n",
    "    height=600 \n",
    ")\n",
    "fig.show()"
   ]
  },
  {
   "cell_type": "code",
   "execution_count": 68,
   "id": "d572f300",
   "metadata": {
    "execution": {
     "iopub.execute_input": "2024-09-05T23:36:16.239953Z",
     "iopub.status.busy": "2024-09-05T23:36:16.239581Z",
     "iopub.status.idle": "2024-09-05T23:36:16.578359Z",
     "shell.execute_reply": "2024-09-05T23:36:16.577381Z"
    },
    "papermill": {
     "duration": 0.381601,
     "end_time": "2024-09-05T23:36:16.580547",
     "exception": false,
     "start_time": "2024-09-05T23:36:16.198946",
     "status": "completed"
    },
    "tags": []
   },
   "outputs": [
    {
     "data": {
      "text/plain": [
       "<catboost.core.CatBoostClassifier at 0x78f1b9546f20>"
      ]
     },
     "execution_count": 68,
     "metadata": {},
     "output_type": "execute_result"
    }
   ],
   "source": [
    "########## Best Model Training\n",
    "model = CatBoostClassifier(logging_level= \"Silent\",depth = 6, iterations = 200, learning_rate = .1)\n",
    "model.fit(X_train, y_train)"
   ]
  },
  {
   "cell_type": "code",
   "execution_count": 69,
   "id": "e1a09b84",
   "metadata": {
    "execution": {
     "iopub.execute_input": "2024-09-05T23:36:16.661732Z",
     "iopub.status.busy": "2024-09-05T23:36:16.661370Z",
     "iopub.status.idle": "2024-09-05T23:36:16.686049Z",
     "shell.execute_reply": "2024-09-05T23:36:16.685118Z"
    },
    "papermill": {
     "duration": 0.067464,
     "end_time": "2024-09-05T23:36:16.688179",
     "exception": false,
     "start_time": "2024-09-05T23:36:16.620715",
     "status": "completed"
    },
    "tags": []
   },
   "outputs": [
    {
     "name": "stdout",
     "output_type": "stream",
     "text": [
      "Training Accuracy: 0.99\n",
      "Training Precision: 1.00\n",
      "Training Recall: 0.99\n",
      "Training F1-Score: 0.99\n",
      "---\n",
      "Test Accuracy: 0.89\n",
      "Test Precision: 0.92\n",
      "Test Recall: 0.88\n",
      "Test F1-Score: 0.90\n"
     ]
    }
   ],
   "source": [
    "### Evaluate the model\n",
    "y_train_pred = model.predict(X_train)\n",
    "y_test_pred = model.predict(X_test)\n",
    "train_accuracy = accuracy_score(y_train, y_train_pred)\n",
    "train_precision = precision_score(y_train, y_train_pred)  \n",
    "train_recall = recall_score(y_train, y_train_pred)  \n",
    "train_f1 = f1_score(y_train, y_train_pred)  \n",
    "test_accuracy = accuracy_score(y_test, y_test_pred)\n",
    "test_precision = precision_score(y_test, y_test_pred) \n",
    "test_recall = recall_score(y_test, y_test_pred)  \n",
    "test_f1 = f1_score(y_test, y_test_pred) \n",
    "print(f'Training Accuracy: {train_accuracy:.2f}')\n",
    "print(f'Training Precision: {train_precision:.2f}')\n",
    "print(f'Training Recall: {train_recall:.2f}')\n",
    "print(f'Training F1-Score: {train_f1:.2f}')\n",
    "print('---')\n",
    "print(f'Test Accuracy: {test_accuracy:.2f}')\n",
    "print(f'Test Precision: {test_precision:.2f}')\n",
    "print(f'Test Recall: {test_recall:.2f}')\n",
    "print(f'Test F1-Score: {test_f1:.2f}')"
   ]
  },
  {
   "cell_type": "code",
   "execution_count": 70,
   "id": "cf27d51b",
   "metadata": {
    "execution": {
     "iopub.execute_input": "2024-09-05T23:36:16.772216Z",
     "iopub.status.busy": "2024-09-05T23:36:16.771468Z",
     "iopub.status.idle": "2024-09-05T23:36:17.086523Z",
     "shell.execute_reply": "2024-09-05T23:36:17.085602Z"
    },
    "papermill": {
     "duration": 0.358685,
     "end_time": "2024-09-05T23:36:17.088672",
     "exception": false,
     "start_time": "2024-09-05T23:36:16.729987",
     "status": "completed"
    },
    "tags": []
   },
   "outputs": [
    {
     "name": "stdout",
     "output_type": "stream",
     "text": [
      "Confusion Matrix is : \n",
      " [[139  14]\n",
      " [ 22 165]]\n"
     ]
    },
    {
     "data": {
      "image/png": "[encoded data removed]",
      "text/plain": [
       "<Figure size 800x500 with 2 Axes>"
      ]
     },
     "metadata": {},
     "output_type": "display_data"
    }
   ],
   "source": [
    "### Check model\n",
    "CM = confusion_matrix(y_test, y_test_pred)\n",
    "print('Confusion Matrix is : \\n', CM)\n",
    "plt_.figure(figsize=(8,5))\n",
    "sns.heatmap(data=CM, annot=True,fmt='g', cmap=\"Blues\", xticklabels=['NO', 'YES'], yticklabels=['NO', 'YES'])\n",
    "plt_.xlabel('Predicted values')\n",
    "plt_.ylabel('Actual values')\n",
    "plt_.title(f'Confusion Matrix for {best_model_name} Algorithm')\n",
    "plt_.show()"
   ]
  },
  {
   "cell_type": "code",
   "execution_count": 71,
   "id": "a16c447b",
   "metadata": {
    "execution": {
     "iopub.execute_input": "2024-09-05T23:36:17.172618Z",
     "iopub.status.busy": "2024-09-05T23:36:17.171741Z",
     "iopub.status.idle": "2024-09-05T23:36:17.184832Z",
     "shell.execute_reply": "2024-09-05T23:36:17.183822Z"
    },
    "papermill": {
     "duration": 0.056706,
     "end_time": "2024-09-05T23:36:17.186725",
     "exception": false,
     "start_time": "2024-09-05T23:36:17.130019",
     "status": "completed"
    },
    "tags": []
   },
   "outputs": [
    {
     "name": "stdout",
     "output_type": "stream",
     "text": [
      "Classification Report is :                precision    recall  f1-score   support\n",
      "\n",
      "          NO       0.86      0.91      0.89       153\n",
      "         YES       0.92      0.88      0.90       187\n",
      "\n",
      "    accuracy                           0.89       340\n",
      "   macro avg       0.89      0.90      0.89       340\n",
      "weighted avg       0.90      0.89      0.89       340\n",
      "\n"
     ]
    }
   ],
   "source": [
    "ClassificationReport = classification_report(y_test,y_test_pred,target_names=['NO', 'YES'])\n",
    "print('Classification Report is : ', ClassificationReport )"
   ]
  },
  {
   "cell_type": "markdown",
   "id": "8b344f4f",
   "metadata": {
    "papermill": {
     "duration": 0.039397,
     "end_time": "2024-09-05T23:36:17.267486",
     "exception": false,
     "start_time": "2024-09-05T23:36:17.228089",
     "status": "completed"
    },
    "tags": []
   },
   "source": [
    "<h1><b><p style=\"background-image: url(https://i.postimg.cc/0Qwf8YX6/2927262.jpg);font-family:camtasia;font-size:110%;color:white;text-align:center;border-radius:15px 50px; padding:7px; border:solid 2px #09375b; box-shadow: 10px 10px 10px #042b4c\">Like this? Upvote and comment! 🌊 End</p></b></h1>"
   ]
  }
 ],
 "metadata": {
  "kaggle": {
   "accelerator": "gpu",
   "dataSources": [
    {
     "datasetId": 5182578,
     "sourceId": 8652019,
     "sourceType": "datasetVersion"
    }
   ],
   "dockerImageVersionId": 30762,
   "isGpuEnabled": true,
   "isInternetEnabled": true,
   "language": "python",
   "sourceType": "notebook"
  },
  "kernelspec": {
   "display_name": "Python 3",
   "language": "python",
   "name": "python3"
  },
  "language_info": {
   "codemirror_mode": {
    "name": "ipython",
    "version": 3
   },
   "file_extension": ".py",
   "mimetype": "text/x-python",
   "name": "python",
   "nbconvert_exporter": "python",
   "pygments_lexer": "ipython3",
   "version": "3.10.14"
  },
  "papermill": {
   "default_parameters": {},
   "duration": 807.687421,
   "end_time": "2024-09-05T23:36:19.928303",
   "environment_variables": {},
   "exception": null,
   "input_path": "__notebook__.ipynb",
   "output_path": "__notebook__.ipynb",
   "parameters": {},
   "start_time": "2024-09-05T23:22:52.240882",
   "version": "2.6.0"
  }
 },
 "nbformat": 4,
 "nbformat_minor": 5
}
