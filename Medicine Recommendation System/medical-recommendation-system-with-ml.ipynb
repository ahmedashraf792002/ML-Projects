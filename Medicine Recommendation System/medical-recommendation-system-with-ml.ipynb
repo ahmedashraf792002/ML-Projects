{
 "cells": [
  {
   "cell_type": "markdown",
   "id": "0da374b1",
   "metadata": {
    "papermill": {
     "duration": 0.015215,
     "end_time": "2024-09-11T19:04:19.129371",
     "exception": false,
     "start_time": "2024-09-11T19:04:19.114156",
     "status": "completed"
    },
    "tags": []
   },
   "source": [
    "<h1><b><p style=\"background-image: url(https://i.postimg.cc/0Qwf8YX6/2927262.jpg);font-family:camtasia;font-size:110%;color:white;text-align:center;border-radius:15px 50px; padding:7px; border:solid 2px #09375b; box-shadow: 10px 10px 10px #042b4c\">Project Title: Medical Recommendation System with Machine Learning</p></b></h1>\n",
    "\n",
    "### Tabel of Contents:\n",
    "\n",
    "* [Import Libraries](#1)\n",
    "* [Load Dataset](#2)\n",
    "* [Preprocessing](#3)\n",
    "* [ML Models](#4)\n",
    "* [Logic for Recommendations](#5)\n",
    "* [Like this? Upvote and comment! 🌊 End](#6)"
   ]
  },
  {
   "cell_type": "markdown",
   "id": "cbeae693",
   "metadata": {
    "papermill": {
     "duration": 0.013992,
     "end_time": "2024-09-11T19:04:19.157428",
     "exception": false,
     "start_time": "2024-09-11T19:04:19.143436",
     "status": "completed"
    },
    "tags": []
   },
   "source": [
    "**<a id=\"1\"></a>\n",
    "<h1><b><p style=\"background-image: url(https://i.postimg.cc/0Qwf8YX6/2927262.jpg);font-family:camtasia;font-size:110%;color:white;text-align:center;border-radius:15px 50px; padding:7px; border:solid 2px #09375b; box-shadow: 10px 10px 10px #042b4c\">Import Libraries</p></b></h1>\n",
    "<a class=\"btn\" href=\"#home\">Tabel of Contents</a>"
   ]
  },
  {
   "cell_type": "code",
   "execution_count": 1,
   "id": "1057bb4a",
   "metadata": {
    "execution": {
     "iopub.execute_input": "2024-09-11T19:04:19.186986Z",
     "iopub.status.busy": "2024-09-11T19:04:19.186560Z",
     "iopub.status.idle": "2024-09-11T19:04:25.102691Z",
     "shell.execute_reply": "2024-09-11T19:04:25.101670Z"
    },
    "papermill": {
     "duration": 5.933775,
     "end_time": "2024-09-11T19:04:25.105172",
     "exception": false,
     "start_time": "2024-09-11T19:04:19.171397",
     "status": "completed"
    },
    "tags": []
   },
   "outputs": [],
   "source": [
    "import pandas as pd\n",
    "import numpy as np\n",
    "import matplotlib.pyplot as plt\n",
    "import seaborn as sns\n",
    "# Libraries for Machine Learning\n",
    "from sklearn.model_selection import train_test_split\n",
    "from sklearn.preprocessing import LabelEncoder\n",
    "from sklearn.model_selection import cross_val_score,GridSearchCV\n",
    "from sklearn.metrics import confusion_matrix,classification_report, accuracy_score, f1_score, precision_score, recall_score\n",
    "import pickle\n",
    "# Models\n",
    "from sklearn.ensemble import RandomForestClassifier\n",
    "from xgboost import XGBClassifier\n",
    "from lightgbm import LGBMClassifier\n",
    "from lightgbm import LGBMClassifier\n",
    "from sklearn.tree import DecisionTreeClassifier\n",
    "from sklearn.neighbors import KNeighborsClassifier\n",
    "from sklearn.svm import SVC\n",
    "from sklearn.linear_model import LogisticRegression\n",
    "# ignore warning\n",
    "import warnings\n",
    "warnings.filterwarnings('ignore')"
   ]
  },
  {
   "cell_type": "markdown",
   "id": "4028c7f2",
   "metadata": {
    "papermill": {
     "duration": 0.014406,
     "end_time": "2024-09-11T19:04:25.134044",
     "exception": false,
     "start_time": "2024-09-11T19:04:25.119638",
     "status": "completed"
    },
    "tags": []
   },
   "source": [
    "**<a id=\"2\"></a>\n",
    "<h1><b><p style=\"background-image: url(https://i.postimg.cc/0Qwf8YX6/2927262.jpg);font-family:camtasia;font-size:110%;color:white;text-align:center;border-radius:15px 50px; padding:7px; border:solid 2px #09375b; box-shadow: 10px 10px 10px #042b4c\">Load Dataset</p></b></h1>\n",
    "<a class=\"btn\" href=\"#home\">Tabel of Contents</a>"
   ]
  },
  {
   "cell_type": "code",
   "execution_count": 2,
   "id": "9e803bd5",
   "metadata": {
    "execution": {
     "iopub.execute_input": "2024-09-11T19:04:25.165097Z",
     "iopub.status.busy": "2024-09-11T19:04:25.164375Z",
     "iopub.status.idle": "2024-09-11T19:04:25.285291Z",
     "shell.execute_reply": "2024-09-11T19:04:25.284348Z"
    },
    "papermill": {
     "duration": 0.138987,
     "end_time": "2024-09-11T19:04:25.287489",
     "exception": false,
     "start_time": "2024-09-11T19:04:25.148502",
     "status": "completed"
    },
    "tags": []
   },
   "outputs": [
    {
     "data": {
      "text/html": [
       "<div>\n",
       "<style scoped>\n",
       "    .dataframe tbody tr th:only-of-type {\n",
       "        vertical-align: middle;\n",
       "    }\n",
       "\n",
       "    .dataframe tbody tr th {\n",
       "        vertical-align: top;\n",
       "    }\n",
       "\n",
       "    .dataframe thead th {\n",
       "        text-align: right;\n",
       "    }\n",
       "</style>\n",
       "<table border=\"1\" class=\"dataframe\">\n",
       "  <thead>\n",
       "    <tr style=\"text-align: right;\">\n",
       "      <th></th>\n",
       "      <th>itching</th>\n",
       "      <th>skin_rash</th>\n",
       "      <th>nodal_skin_eruptions</th>\n",
       "      <th>continuous_sneezing</th>\n",
       "      <th>shivering</th>\n",
       "      <th>chills</th>\n",
       "      <th>joint_pain</th>\n",
       "      <th>stomach_pain</th>\n",
       "      <th>acidity</th>\n",
       "      <th>ulcers_on_tongue</th>\n",
       "      <th>...</th>\n",
       "      <th>blackheads</th>\n",
       "      <th>scurring</th>\n",
       "      <th>skin_peeling</th>\n",
       "      <th>silver_like_dusting</th>\n",
       "      <th>small_dents_in_nails</th>\n",
       "      <th>inflammatory_nails</th>\n",
       "      <th>blister</th>\n",
       "      <th>red_sore_around_nose</th>\n",
       "      <th>yellow_crust_ooze</th>\n",
       "      <th>prognosis</th>\n",
       "    </tr>\n",
       "  </thead>\n",
       "  <tbody>\n",
       "    <tr>\n",
       "      <th>0</th>\n",
       "      <td>1</td>\n",
       "      <td>1</td>\n",
       "      <td>1</td>\n",
       "      <td>0</td>\n",
       "      <td>0</td>\n",
       "      <td>0</td>\n",
       "      <td>0</td>\n",
       "      <td>0</td>\n",
       "      <td>0</td>\n",
       "      <td>0</td>\n",
       "      <td>...</td>\n",
       "      <td>0</td>\n",
       "      <td>0</td>\n",
       "      <td>0</td>\n",
       "      <td>0</td>\n",
       "      <td>0</td>\n",
       "      <td>0</td>\n",
       "      <td>0</td>\n",
       "      <td>0</td>\n",
       "      <td>0</td>\n",
       "      <td>Fungal infection</td>\n",
       "    </tr>\n",
       "    <tr>\n",
       "      <th>1</th>\n",
       "      <td>0</td>\n",
       "      <td>1</td>\n",
       "      <td>1</td>\n",
       "      <td>0</td>\n",
       "      <td>0</td>\n",
       "      <td>0</td>\n",
       "      <td>0</td>\n",
       "      <td>0</td>\n",
       "      <td>0</td>\n",
       "      <td>0</td>\n",
       "      <td>...</td>\n",
       "      <td>0</td>\n",
       "      <td>0</td>\n",
       "      <td>0</td>\n",
       "      <td>0</td>\n",
       "      <td>0</td>\n",
       "      <td>0</td>\n",
       "      <td>0</td>\n",
       "      <td>0</td>\n",
       "      <td>0</td>\n",
       "      <td>Fungal infection</td>\n",
       "    </tr>\n",
       "    <tr>\n",
       "      <th>2</th>\n",
       "      <td>1</td>\n",
       "      <td>0</td>\n",
       "      <td>1</td>\n",
       "      <td>0</td>\n",
       "      <td>0</td>\n",
       "      <td>0</td>\n",
       "      <td>0</td>\n",
       "      <td>0</td>\n",
       "      <td>0</td>\n",
       "      <td>0</td>\n",
       "      <td>...</td>\n",
       "      <td>0</td>\n",
       "      <td>0</td>\n",
       "      <td>0</td>\n",
       "      <td>0</td>\n",
       "      <td>0</td>\n",
       "      <td>0</td>\n",
       "      <td>0</td>\n",
       "      <td>0</td>\n",
       "      <td>0</td>\n",
       "      <td>Fungal infection</td>\n",
       "    </tr>\n",
       "    <tr>\n",
       "      <th>3</th>\n",
       "      <td>1</td>\n",
       "      <td>1</td>\n",
       "      <td>0</td>\n",
       "      <td>0</td>\n",
       "      <td>0</td>\n",
       "      <td>0</td>\n",
       "      <td>0</td>\n",
       "      <td>0</td>\n",
       "      <td>0</td>\n",
       "      <td>0</td>\n",
       "      <td>...</td>\n",
       "      <td>0</td>\n",
       "      <td>0</td>\n",
       "      <td>0</td>\n",
       "      <td>0</td>\n",
       "      <td>0</td>\n",
       "      <td>0</td>\n",
       "      <td>0</td>\n",
       "      <td>0</td>\n",
       "      <td>0</td>\n",
       "      <td>Fungal infection</td>\n",
       "    </tr>\n",
       "    <tr>\n",
       "      <th>4</th>\n",
       "      <td>1</td>\n",
       "      <td>1</td>\n",
       "      <td>1</td>\n",
       "      <td>0</td>\n",
       "      <td>0</td>\n",
       "      <td>0</td>\n",
       "      <td>0</td>\n",
       "      <td>0</td>\n",
       "      <td>0</td>\n",
       "      <td>0</td>\n",
       "      <td>...</td>\n",
       "      <td>0</td>\n",
       "      <td>0</td>\n",
       "      <td>0</td>\n",
       "      <td>0</td>\n",
       "      <td>0</td>\n",
       "      <td>0</td>\n",
       "      <td>0</td>\n",
       "      <td>0</td>\n",
       "      <td>0</td>\n",
       "      <td>Fungal infection</td>\n",
       "    </tr>\n",
       "  </tbody>\n",
       "</table>\n",
       "<p>5 rows × 133 columns</p>\n",
       "</div>"
      ],
      "text/plain": [
       "   itching  skin_rash  nodal_skin_eruptions  continuous_sneezing  shivering  \\\n",
       "0        1          1                     1                    0          0   \n",
       "1        0          1                     1                    0          0   \n",
       "2        1          0                     1                    0          0   \n",
       "3        1          1                     0                    0          0   \n",
       "4        1          1                     1                    0          0   \n",
       "\n",
       "   chills  joint_pain  stomach_pain  acidity  ulcers_on_tongue  ...  \\\n",
       "0       0           0             0        0                 0  ...   \n",
       "1       0           0             0        0                 0  ...   \n",
       "2       0           0             0        0                 0  ...   \n",
       "3       0           0             0        0                 0  ...   \n",
       "4       0           0             0        0                 0  ...   \n",
       "\n",
       "   blackheads  scurring  skin_peeling  silver_like_dusting  \\\n",
       "0           0         0             0                    0   \n",
       "1           0         0             0                    0   \n",
       "2           0         0             0                    0   \n",
       "3           0         0             0                    0   \n",
       "4           0         0             0                    0   \n",
       "\n",
       "   small_dents_in_nails  inflammatory_nails  blister  red_sore_around_nose  \\\n",
       "0                     0                   0        0                     0   \n",
       "1                     0                   0        0                     0   \n",
       "2                     0                   0        0                     0   \n",
       "3                     0                   0        0                     0   \n",
       "4                     0                   0        0                     0   \n",
       "\n",
       "   yellow_crust_ooze         prognosis  \n",
       "0                  0  Fungal infection  \n",
       "1                  0  Fungal infection  \n",
       "2                  0  Fungal infection  \n",
       "3                  0  Fungal infection  \n",
       "4                  0  Fungal infection  \n",
       "\n",
       "[5 rows x 133 columns]"
      ]
     },
     "execution_count": 2,
     "metadata": {},
     "output_type": "execute_result"
    }
   ],
   "source": [
    "dataset = pd.read_csv('/kaggle/input/medicine-recommendation-system-dataset/Training.csv')\n",
    "dataset.head()"
   ]
  },
  {
   "cell_type": "code",
   "execution_count": 3,
   "id": "fda0388b",
   "metadata": {
    "execution": {
     "iopub.execute_input": "2024-09-11T19:04:25.319530Z",
     "iopub.status.busy": "2024-09-11T19:04:25.319122Z",
     "iopub.status.idle": "2024-09-11T19:04:25.325192Z",
     "shell.execute_reply": "2024-09-11T19:04:25.324292Z"
    },
    "papermill": {
     "duration": 0.024163,
     "end_time": "2024-09-11T19:04:25.327269",
     "exception": false,
     "start_time": "2024-09-11T19:04:25.303106",
     "status": "completed"
    },
    "tags": []
   },
   "outputs": [
    {
     "data": {
      "text/plain": [
       "(4920, 133)"
      ]
     },
     "execution_count": 3,
     "metadata": {},
     "output_type": "execute_result"
    }
   ],
   "source": [
    "dataset.shape"
   ]
  },
  {
   "cell_type": "code",
   "execution_count": 4,
   "id": "c7243cf9",
   "metadata": {
    "execution": {
     "iopub.execute_input": "2024-09-11T19:04:25.360255Z",
     "iopub.status.busy": "2024-09-11T19:04:25.359871Z",
     "iopub.status.idle": "2024-09-11T19:04:25.384954Z",
     "shell.execute_reply": "2024-09-11T19:04:25.383733Z"
    },
    "papermill": {
     "duration": 0.043759,
     "end_time": "2024-09-11T19:04:25.387119",
     "exception": false,
     "start_time": "2024-09-11T19:04:25.343360",
     "status": "completed"
    },
    "tags": []
   },
   "outputs": [
    {
     "name": "stdout",
     "output_type": "stream",
     "text": [
      "<class 'pandas.core.frame.DataFrame'>\n",
      "RangeIndex: 4920 entries, 0 to 4919\n",
      "Columns: 133 entries, itching to prognosis\n",
      "dtypes: int64(132), object(1)\n",
      "memory usage: 5.0+ MB\n"
     ]
    }
   ],
   "source": [
    "dataset.info()"
   ]
  },
  {
   "cell_type": "code",
   "execution_count": 5,
   "id": "2a6bc163",
   "metadata": {
    "execution": {
     "iopub.execute_input": "2024-09-11T19:04:25.419476Z",
     "iopub.status.busy": "2024-09-11T19:04:25.418582Z",
     "iopub.status.idle": "2024-09-11T19:04:25.437005Z",
     "shell.execute_reply": "2024-09-11T19:04:25.436036Z"
    },
    "papermill": {
     "duration": 0.037183,
     "end_time": "2024-09-11T19:04:25.439402",
     "exception": false,
     "start_time": "2024-09-11T19:04:25.402219",
     "status": "completed"
    },
    "tags": []
   },
   "outputs": [
    {
     "data": {
      "text/html": [
       "<div>\n",
       "<style scoped>\n",
       "    .dataframe tbody tr th:only-of-type {\n",
       "        vertical-align: middle;\n",
       "    }\n",
       "\n",
       "    .dataframe tbody tr th {\n",
       "        vertical-align: top;\n",
       "    }\n",
       "\n",
       "    .dataframe thead th {\n",
       "        text-align: right;\n",
       "    }\n",
       "</style>\n",
       "<table border=\"1\" class=\"dataframe\">\n",
       "  <thead>\n",
       "    <tr style=\"text-align: right;\">\n",
       "      <th></th>\n",
       "      <th>Disease</th>\n",
       "      <th>Description</th>\n",
       "    </tr>\n",
       "  </thead>\n",
       "  <tbody>\n",
       "    <tr>\n",
       "      <th>0</th>\n",
       "      <td>Fungal infection</td>\n",
       "      <td>Fungal infection is a common skin condition ca...</td>\n",
       "    </tr>\n",
       "    <tr>\n",
       "      <th>1</th>\n",
       "      <td>Allergy</td>\n",
       "      <td>Allergy is an immune system reaction to a subs...</td>\n",
       "    </tr>\n",
       "    <tr>\n",
       "      <th>2</th>\n",
       "      <td>GERD</td>\n",
       "      <td>GERD (Gastroesophageal Reflux Disease) is a di...</td>\n",
       "    </tr>\n",
       "    <tr>\n",
       "      <th>3</th>\n",
       "      <td>Chronic cholestasis</td>\n",
       "      <td>Chronic cholestasis is a condition where bile ...</td>\n",
       "    </tr>\n",
       "    <tr>\n",
       "      <th>4</th>\n",
       "      <td>Drug Reaction</td>\n",
       "      <td>Drug Reaction occurs when the body reacts adve...</td>\n",
       "    </tr>\n",
       "  </tbody>\n",
       "</table>\n",
       "</div>"
      ],
      "text/plain": [
       "               Disease                                        Description\n",
       "0     Fungal infection  Fungal infection is a common skin condition ca...\n",
       "1              Allergy  Allergy is an immune system reaction to a subs...\n",
       "2                 GERD  GERD (Gastroesophageal Reflux Disease) is a di...\n",
       "3  Chronic cholestasis  Chronic cholestasis is a condition where bile ...\n",
       "4        Drug Reaction  Drug Reaction occurs when the body reacts adve..."
      ]
     },
     "execution_count": 5,
     "metadata": {},
     "output_type": "execute_result"
    }
   ],
   "source": [
    "description = pd.read_csv('/kaggle/input/medicine-recommendation-system-dataset/description.csv')\n",
    "description.head()"
   ]
  },
  {
   "cell_type": "code",
   "execution_count": 6,
   "id": "d631a815",
   "metadata": {
    "execution": {
     "iopub.execute_input": "2024-09-11T19:04:25.472253Z",
     "iopub.status.busy": "2024-09-11T19:04:25.471870Z",
     "iopub.status.idle": "2024-09-11T19:04:25.477830Z",
     "shell.execute_reply": "2024-09-11T19:04:25.476941Z"
    },
    "papermill": {
     "duration": 0.024581,
     "end_time": "2024-09-11T19:04:25.479876",
     "exception": false,
     "start_time": "2024-09-11T19:04:25.455295",
     "status": "completed"
    },
    "tags": []
   },
   "outputs": [
    {
     "data": {
      "text/plain": [
       "(41, 2)"
      ]
     },
     "execution_count": 6,
     "metadata": {},
     "output_type": "execute_result"
    }
   ],
   "source": [
    "description.shape"
   ]
  },
  {
   "cell_type": "code",
   "execution_count": 7,
   "id": "468fbf97",
   "metadata": {
    "execution": {
     "iopub.execute_input": "2024-09-11T19:04:25.512607Z",
     "iopub.status.busy": "2024-09-11T19:04:25.511968Z",
     "iopub.status.idle": "2024-09-11T19:04:25.521470Z",
     "shell.execute_reply": "2024-09-11T19:04:25.520576Z"
    },
    "papermill": {
     "duration": 0.028548,
     "end_time": "2024-09-11T19:04:25.523748",
     "exception": false,
     "start_time": "2024-09-11T19:04:25.495200",
     "status": "completed"
    },
    "tags": []
   },
   "outputs": [
    {
     "name": "stdout",
     "output_type": "stream",
     "text": [
      "<class 'pandas.core.frame.DataFrame'>\n",
      "RangeIndex: 41 entries, 0 to 40\n",
      "Data columns (total 2 columns):\n",
      " #   Column       Non-Null Count  Dtype \n",
      "---  ------       --------------  ----- \n",
      " 0   Disease      41 non-null     object\n",
      " 1   Description  41 non-null     object\n",
      "dtypes: object(2)\n",
      "memory usage: 784.0+ bytes\n"
     ]
    }
   ],
   "source": [
    "description.info()"
   ]
  },
  {
   "cell_type": "code",
   "execution_count": 8,
   "id": "3aee69c8",
   "metadata": {
    "execution": {
     "iopub.execute_input": "2024-09-11T19:04:25.557225Z",
     "iopub.status.busy": "2024-09-11T19:04:25.556298Z",
     "iopub.status.idle": "2024-09-11T19:04:25.576765Z",
     "shell.execute_reply": "2024-09-11T19:04:25.575823Z"
    },
    "papermill": {
     "duration": 0.039407,
     "end_time": "2024-09-11T19:04:25.579097",
     "exception": false,
     "start_time": "2024-09-11T19:04:25.539690",
     "status": "completed"
    },
    "tags": []
   },
   "outputs": [
    {
     "data": {
      "text/html": [
       "<div>\n",
       "<style scoped>\n",
       "    .dataframe tbody tr th:only-of-type {\n",
       "        vertical-align: middle;\n",
       "    }\n",
       "\n",
       "    .dataframe tbody tr th {\n",
       "        vertical-align: top;\n",
       "    }\n",
       "\n",
       "    .dataframe thead th {\n",
       "        text-align: right;\n",
       "    }\n",
       "</style>\n",
       "<table border=\"1\" class=\"dataframe\">\n",
       "  <thead>\n",
       "    <tr style=\"text-align: right;\">\n",
       "      <th></th>\n",
       "      <th>Disease</th>\n",
       "      <th>Medication</th>\n",
       "    </tr>\n",
       "  </thead>\n",
       "  <tbody>\n",
       "    <tr>\n",
       "      <th>0</th>\n",
       "      <td>Fungal infection</td>\n",
       "      <td>['Antifungal Cream', 'Fluconazole', 'Terbinafi...</td>\n",
       "    </tr>\n",
       "    <tr>\n",
       "      <th>1</th>\n",
       "      <td>Allergy</td>\n",
       "      <td>['Antihistamines', 'Decongestants', 'Epinephri...</td>\n",
       "    </tr>\n",
       "    <tr>\n",
       "      <th>2</th>\n",
       "      <td>GERD</td>\n",
       "      <td>['Proton Pump Inhibitors (PPIs)', 'H2 Blockers...</td>\n",
       "    </tr>\n",
       "    <tr>\n",
       "      <th>3</th>\n",
       "      <td>Chronic cholestasis</td>\n",
       "      <td>['Ursodeoxycholic acid', 'Cholestyramine', 'Me...</td>\n",
       "    </tr>\n",
       "    <tr>\n",
       "      <th>4</th>\n",
       "      <td>Drug Reaction</td>\n",
       "      <td>['Antihistamines', 'Epinephrine', 'Corticoster...</td>\n",
       "    </tr>\n",
       "  </tbody>\n",
       "</table>\n",
       "</div>"
      ],
      "text/plain": [
       "               Disease                                         Medication\n",
       "0     Fungal infection  ['Antifungal Cream', 'Fluconazole', 'Terbinafi...\n",
       "1              Allergy  ['Antihistamines', 'Decongestants', 'Epinephri...\n",
       "2                 GERD  ['Proton Pump Inhibitors (PPIs)', 'H2 Blockers...\n",
       "3  Chronic cholestasis  ['Ursodeoxycholic acid', 'Cholestyramine', 'Me...\n",
       "4        Drug Reaction  ['Antihistamines', 'Epinephrine', 'Corticoster..."
      ]
     },
     "execution_count": 8,
     "metadata": {},
     "output_type": "execute_result"
    }
   ],
   "source": [
    "medications = pd.read_csv('/kaggle/input/medicine-recommendation-system-dataset/medications.csv')\n",
    "medications.head()"
   ]
  },
  {
   "cell_type": "code",
   "execution_count": 9,
   "id": "546c4bd3",
   "metadata": {
    "execution": {
     "iopub.execute_input": "2024-09-11T19:04:25.613886Z",
     "iopub.status.busy": "2024-09-11T19:04:25.613470Z",
     "iopub.status.idle": "2024-09-11T19:04:25.619788Z",
     "shell.execute_reply": "2024-09-11T19:04:25.618806Z"
    },
    "papermill": {
     "duration": 0.025461,
     "end_time": "2024-09-11T19:04:25.621887",
     "exception": false,
     "start_time": "2024-09-11T19:04:25.596426",
     "status": "completed"
    },
    "tags": []
   },
   "outputs": [
    {
     "data": {
      "text/plain": [
       "(41, 2)"
      ]
     },
     "execution_count": 9,
     "metadata": {},
     "output_type": "execute_result"
    }
   ],
   "source": [
    "medications.shape"
   ]
  },
  {
   "cell_type": "code",
   "execution_count": 10,
   "id": "19935f45",
   "metadata": {
    "execution": {
     "iopub.execute_input": "2024-09-11T19:04:25.655411Z",
     "iopub.status.busy": "2024-09-11T19:04:25.655019Z",
     "iopub.status.idle": "2024-09-11T19:04:25.664987Z",
     "shell.execute_reply": "2024-09-11T19:04:25.664048Z"
    },
    "papermill": {
     "duration": 0.030458,
     "end_time": "2024-09-11T19:04:25.668041",
     "exception": false,
     "start_time": "2024-09-11T19:04:25.637583",
     "status": "completed"
    },
    "tags": []
   },
   "outputs": [
    {
     "name": "stdout",
     "output_type": "stream",
     "text": [
      "<class 'pandas.core.frame.DataFrame'>\n",
      "RangeIndex: 41 entries, 0 to 40\n",
      "Data columns (total 2 columns):\n",
      " #   Column      Non-Null Count  Dtype \n",
      "---  ------      --------------  ----- \n",
      " 0   Disease     41 non-null     object\n",
      " 1   Medication  41 non-null     object\n",
      "dtypes: object(2)\n",
      "memory usage: 784.0+ bytes\n"
     ]
    }
   ],
   "source": [
    "medications.info()"
   ]
  },
  {
   "cell_type": "code",
   "execution_count": 11,
   "id": "42d4a7f6",
   "metadata": {
    "execution": {
     "iopub.execute_input": "2024-09-11T19:04:25.703618Z",
     "iopub.status.busy": "2024-09-11T19:04:25.703228Z",
     "iopub.status.idle": "2024-09-11T19:04:25.737023Z",
     "shell.execute_reply": "2024-09-11T19:04:25.735980Z"
    },
    "papermill": {
     "duration": 0.05353,
     "end_time": "2024-09-11T19:04:25.739396",
     "exception": false,
     "start_time": "2024-09-11T19:04:25.685866",
     "status": "completed"
    },
    "tags": []
   },
   "outputs": [
    {
     "data": {
      "text/html": [
       "<div>\n",
       "<style scoped>\n",
       "    .dataframe tbody tr th:only-of-type {\n",
       "        vertical-align: middle;\n",
       "    }\n",
       "\n",
       "    .dataframe tbody tr th {\n",
       "        vertical-align: top;\n",
       "    }\n",
       "\n",
       "    .dataframe thead th {\n",
       "        text-align: right;\n",
       "    }\n",
       "</style>\n",
       "<table border=\"1\" class=\"dataframe\">\n",
       "  <thead>\n",
       "    <tr style=\"text-align: right;\">\n",
       "      <th></th>\n",
       "      <th>Disease</th>\n",
       "      <th>Symptom_1</th>\n",
       "      <th>Symptom_2</th>\n",
       "      <th>Symptom_3</th>\n",
       "      <th>Symptom_4</th>\n",
       "    </tr>\n",
       "  </thead>\n",
       "  <tbody>\n",
       "    <tr>\n",
       "      <th>0</th>\n",
       "      <td>Fungal infection</td>\n",
       "      <td>itching</td>\n",
       "      <td>skin_rash</td>\n",
       "      <td>nodal_skin_eruptions</td>\n",
       "      <td>dischromic _patches</td>\n",
       "    </tr>\n",
       "    <tr>\n",
       "      <th>1</th>\n",
       "      <td>Fungal infection</td>\n",
       "      <td>skin_rash</td>\n",
       "      <td>nodal_skin_eruptions</td>\n",
       "      <td>dischromic _patches</td>\n",
       "      <td>NaN</td>\n",
       "    </tr>\n",
       "    <tr>\n",
       "      <th>2</th>\n",
       "      <td>Fungal infection</td>\n",
       "      <td>itching</td>\n",
       "      <td>nodal_skin_eruptions</td>\n",
       "      <td>dischromic _patches</td>\n",
       "      <td>NaN</td>\n",
       "    </tr>\n",
       "    <tr>\n",
       "      <th>3</th>\n",
       "      <td>Fungal infection</td>\n",
       "      <td>itching</td>\n",
       "      <td>skin_rash</td>\n",
       "      <td>dischromic _patches</td>\n",
       "      <td>NaN</td>\n",
       "    </tr>\n",
       "    <tr>\n",
       "      <th>4</th>\n",
       "      <td>Fungal infection</td>\n",
       "      <td>itching</td>\n",
       "      <td>skin_rash</td>\n",
       "      <td>nodal_skin_eruptions</td>\n",
       "      <td>NaN</td>\n",
       "    </tr>\n",
       "  </tbody>\n",
       "</table>\n",
       "</div>"
      ],
      "text/plain": [
       "            Disease   Symptom_1              Symptom_2              Symptom_3  \\\n",
       "0  Fungal infection     itching              skin_rash   nodal_skin_eruptions   \n",
       "1  Fungal infection   skin_rash   nodal_skin_eruptions    dischromic _patches   \n",
       "2  Fungal infection     itching   nodal_skin_eruptions    dischromic _patches   \n",
       "3  Fungal infection     itching              skin_rash    dischromic _patches   \n",
       "4  Fungal infection     itching              skin_rash   nodal_skin_eruptions   \n",
       "\n",
       "              Symptom_4  \n",
       "0   dischromic _patches  \n",
       "1                   NaN  \n",
       "2                   NaN  \n",
       "3                   NaN  \n",
       "4                   NaN  "
      ]
     },
     "execution_count": 11,
     "metadata": {},
     "output_type": "execute_result"
    }
   ],
   "source": [
    "symtoms_df = pd.read_csv('/kaggle/input/medicine-recommendation-system-dataset/symtoms_df.csv')\n",
    "symtoms_df.drop('Unnamed: 0',axis=1,inplace=True)\n",
    "symtoms_df.head()"
   ]
  },
  {
   "cell_type": "code",
   "execution_count": 12,
   "id": "876e41d8",
   "metadata": {
    "execution": {
     "iopub.execute_input": "2024-09-11T19:04:25.775537Z",
     "iopub.status.busy": "2024-09-11T19:04:25.774647Z",
     "iopub.status.idle": "2024-09-11T19:04:25.781569Z",
     "shell.execute_reply": "2024-09-11T19:04:25.780518Z"
    },
    "papermill": {
     "duration": 0.027605,
     "end_time": "2024-09-11T19:04:25.783857",
     "exception": false,
     "start_time": "2024-09-11T19:04:25.756252",
     "status": "completed"
    },
    "tags": []
   },
   "outputs": [
    {
     "data": {
      "text/plain": [
       "(4920, 5)"
      ]
     },
     "execution_count": 12,
     "metadata": {},
     "output_type": "execute_result"
    }
   ],
   "source": [
    "symtoms_df.shape"
   ]
  },
  {
   "cell_type": "code",
   "execution_count": 13,
   "id": "5d2ae5a4",
   "metadata": {
    "execution": {
     "iopub.execute_input": "2024-09-11T19:04:25.818268Z",
     "iopub.status.busy": "2024-09-11T19:04:25.817940Z",
     "iopub.status.idle": "2024-09-11T19:04:25.830204Z",
     "shell.execute_reply": "2024-09-11T19:04:25.829263Z"
    },
    "papermill": {
     "duration": 0.032294,
     "end_time": "2024-09-11T19:04:25.832981",
     "exception": false,
     "start_time": "2024-09-11T19:04:25.800687",
     "status": "completed"
    },
    "tags": []
   },
   "outputs": [
    {
     "name": "stdout",
     "output_type": "stream",
     "text": [
      "<class 'pandas.core.frame.DataFrame'>\n",
      "RangeIndex: 4920 entries, 0 to 4919\n",
      "Data columns (total 5 columns):\n",
      " #   Column     Non-Null Count  Dtype \n",
      "---  ------     --------------  ----- \n",
      " 0   Disease    4920 non-null   object\n",
      " 1   Symptom_1  4920 non-null   object\n",
      " 2   Symptom_2  4920 non-null   object\n",
      " 3   Symptom_3  4920 non-null   object\n",
      " 4   Symptom_4  4572 non-null   object\n",
      "dtypes: object(5)\n",
      "memory usage: 192.3+ KB\n"
     ]
    }
   ],
   "source": [
    "symtoms_df.info()"
   ]
  },
  {
   "cell_type": "code",
   "execution_count": 14,
   "id": "8bbca085",
   "metadata": {
    "execution": {
     "iopub.execute_input": "2024-09-11T19:04:25.869101Z",
     "iopub.status.busy": "2024-09-11T19:04:25.868424Z",
     "iopub.status.idle": "2024-09-11T19:04:25.887362Z",
     "shell.execute_reply": "2024-09-11T19:04:25.886397Z"
    },
    "papermill": {
     "duration": 0.039042,
     "end_time": "2024-09-11T19:04:25.889647",
     "exception": false,
     "start_time": "2024-09-11T19:04:25.850605",
     "status": "completed"
    },
    "tags": []
   },
   "outputs": [
    {
     "data": {
      "text/html": [
       "<div>\n",
       "<style scoped>\n",
       "    .dataframe tbody tr th:only-of-type {\n",
       "        vertical-align: middle;\n",
       "    }\n",
       "\n",
       "    .dataframe tbody tr th {\n",
       "        vertical-align: top;\n",
       "    }\n",
       "\n",
       "    .dataframe thead th {\n",
       "        text-align: right;\n",
       "    }\n",
       "</style>\n",
       "<table border=\"1\" class=\"dataframe\">\n",
       "  <thead>\n",
       "    <tr style=\"text-align: right;\">\n",
       "      <th></th>\n",
       "      <th>Symptom</th>\n",
       "      <th>weight</th>\n",
       "    </tr>\n",
       "  </thead>\n",
       "  <tbody>\n",
       "    <tr>\n",
       "      <th>0</th>\n",
       "      <td>itching</td>\n",
       "      <td>1</td>\n",
       "    </tr>\n",
       "    <tr>\n",
       "      <th>1</th>\n",
       "      <td>skin_rash</td>\n",
       "      <td>3</td>\n",
       "    </tr>\n",
       "    <tr>\n",
       "      <th>2</th>\n",
       "      <td>nodal_skin_eruptions</td>\n",
       "      <td>4</td>\n",
       "    </tr>\n",
       "    <tr>\n",
       "      <th>3</th>\n",
       "      <td>continuous_sneezing</td>\n",
       "      <td>4</td>\n",
       "    </tr>\n",
       "    <tr>\n",
       "      <th>4</th>\n",
       "      <td>shivering</td>\n",
       "      <td>5</td>\n",
       "    </tr>\n",
       "  </tbody>\n",
       "</table>\n",
       "</div>"
      ],
      "text/plain": [
       "                Symptom  weight\n",
       "0               itching       1\n",
       "1             skin_rash       3\n",
       "2  nodal_skin_eruptions       4\n",
       "3   continuous_sneezing       4\n",
       "4             shivering       5"
      ]
     },
     "execution_count": 14,
     "metadata": {},
     "output_type": "execute_result"
    }
   ],
   "source": [
    "symptom_severity = pd.read_csv('/kaggle/input/medicine-recommendation-system-dataset/Symptom-severity.csv')\n",
    "symptom_severity.head()"
   ]
  },
  {
   "cell_type": "code",
   "execution_count": 15,
   "id": "2c00b38c",
   "metadata": {
    "execution": {
     "iopub.execute_input": "2024-09-11T19:04:25.926137Z",
     "iopub.status.busy": "2024-09-11T19:04:25.925742Z",
     "iopub.status.idle": "2024-09-11T19:04:25.931888Z",
     "shell.execute_reply": "2024-09-11T19:04:25.931043Z"
    },
    "papermill": {
     "duration": 0.026352,
     "end_time": "2024-09-11T19:04:25.933867",
     "exception": false,
     "start_time": "2024-09-11T19:04:25.907515",
     "status": "completed"
    },
    "tags": []
   },
   "outputs": [
    {
     "data": {
      "text/plain": [
       "(133, 2)"
      ]
     },
     "execution_count": 15,
     "metadata": {},
     "output_type": "execute_result"
    }
   ],
   "source": [
    "symptom_severity.shape"
   ]
  },
  {
   "cell_type": "code",
   "execution_count": 16,
   "id": "f4e8c76d",
   "metadata": {
    "execution": {
     "iopub.execute_input": "2024-09-11T19:04:25.968573Z",
     "iopub.status.busy": "2024-09-11T19:04:25.968161Z",
     "iopub.status.idle": "2024-09-11T19:04:25.978475Z",
     "shell.execute_reply": "2024-09-11T19:04:25.977264Z"
    },
    "papermill": {
     "duration": 0.02983,
     "end_time": "2024-09-11T19:04:25.980451",
     "exception": false,
     "start_time": "2024-09-11T19:04:25.950621",
     "status": "completed"
    },
    "tags": []
   },
   "outputs": [
    {
     "name": "stdout",
     "output_type": "stream",
     "text": [
      "<class 'pandas.core.frame.DataFrame'>\n",
      "RangeIndex: 133 entries, 0 to 132\n",
      "Data columns (total 2 columns):\n",
      " #   Column   Non-Null Count  Dtype \n",
      "---  ------   --------------  ----- \n",
      " 0   Symptom  133 non-null    object\n",
      " 1   weight   133 non-null    int64 \n",
      "dtypes: int64(1), object(1)\n",
      "memory usage: 2.2+ KB\n"
     ]
    }
   ],
   "source": [
    "symptom_severity.info()"
   ]
  },
  {
   "cell_type": "code",
   "execution_count": 17,
   "id": "3d70d201",
   "metadata": {
    "execution": {
     "iopub.execute_input": "2024-09-11T19:04:26.015574Z",
     "iopub.status.busy": "2024-09-11T19:04:26.015188Z",
     "iopub.status.idle": "2024-09-11T19:04:26.037627Z",
     "shell.execute_reply": "2024-09-11T19:04:26.036738Z"
    },
    "papermill": {
     "duration": 0.042605,
     "end_time": "2024-09-11T19:04:26.039785",
     "exception": false,
     "start_time": "2024-09-11T19:04:25.997180",
     "status": "completed"
    },
    "tags": []
   },
   "outputs": [
    {
     "data": {
      "text/html": [
       "<div>\n",
       "<style scoped>\n",
       "    .dataframe tbody tr th:only-of-type {\n",
       "        vertical-align: middle;\n",
       "    }\n",
       "\n",
       "    .dataframe tbody tr th {\n",
       "        vertical-align: top;\n",
       "    }\n",
       "\n",
       "    .dataframe thead th {\n",
       "        text-align: right;\n",
       "    }\n",
       "</style>\n",
       "<table border=\"1\" class=\"dataframe\">\n",
       "  <thead>\n",
       "    <tr style=\"text-align: right;\">\n",
       "      <th></th>\n",
       "      <th>Disease</th>\n",
       "      <th>Precaution_1</th>\n",
       "      <th>Precaution_2</th>\n",
       "      <th>Precaution_3</th>\n",
       "      <th>Precaution_4</th>\n",
       "    </tr>\n",
       "  </thead>\n",
       "  <tbody>\n",
       "    <tr>\n",
       "      <th>0</th>\n",
       "      <td>Drug Reaction</td>\n",
       "      <td>stop irritation</td>\n",
       "      <td>consult nearest hospital</td>\n",
       "      <td>stop taking drug</td>\n",
       "      <td>follow up</td>\n",
       "    </tr>\n",
       "    <tr>\n",
       "      <th>1</th>\n",
       "      <td>Malaria</td>\n",
       "      <td>Consult nearest hospital</td>\n",
       "      <td>avoid oily food</td>\n",
       "      <td>avoid non veg food</td>\n",
       "      <td>keep mosquitos out</td>\n",
       "    </tr>\n",
       "    <tr>\n",
       "      <th>2</th>\n",
       "      <td>Allergy</td>\n",
       "      <td>apply calamine</td>\n",
       "      <td>cover area with bandage</td>\n",
       "      <td>NaN</td>\n",
       "      <td>use ice to compress itching</td>\n",
       "    </tr>\n",
       "    <tr>\n",
       "      <th>3</th>\n",
       "      <td>Hypothyroidism</td>\n",
       "      <td>reduce stress</td>\n",
       "      <td>exercise</td>\n",
       "      <td>eat healthy</td>\n",
       "      <td>get proper sleep</td>\n",
       "    </tr>\n",
       "    <tr>\n",
       "      <th>4</th>\n",
       "      <td>Psoriasis</td>\n",
       "      <td>wash hands with warm soapy water</td>\n",
       "      <td>stop bleeding using pressure</td>\n",
       "      <td>consult doctor</td>\n",
       "      <td>salt baths</td>\n",
       "    </tr>\n",
       "  </tbody>\n",
       "</table>\n",
       "</div>"
      ],
      "text/plain": [
       "          Disease                      Precaution_1  \\\n",
       "0   Drug Reaction                   stop irritation   \n",
       "1         Malaria          Consult nearest hospital   \n",
       "2         Allergy                    apply calamine   \n",
       "3  Hypothyroidism                     reduce stress   \n",
       "4       Psoriasis  wash hands with warm soapy water   \n",
       "\n",
       "                   Precaution_2        Precaution_3  \\\n",
       "0      consult nearest hospital    stop taking drug   \n",
       "1               avoid oily food  avoid non veg food   \n",
       "2       cover area with bandage                 NaN   \n",
       "3                      exercise         eat healthy   \n",
       "4  stop bleeding using pressure      consult doctor   \n",
       "\n",
       "                  Precaution_4  \n",
       "0                    follow up  \n",
       "1           keep mosquitos out  \n",
       "2  use ice to compress itching  \n",
       "3             get proper sleep  \n",
       "4                   salt baths  "
      ]
     },
     "execution_count": 17,
     "metadata": {},
     "output_type": "execute_result"
    }
   ],
   "source": [
    "precautions_df = pd.read_csv('/kaggle/input/medicine-recommendation-system-dataset/precautions_df.csv')\n",
    "precautions_df.drop('Unnamed: 0',axis=1,inplace=True)\n",
    "precautions_df.head()"
   ]
  },
  {
   "cell_type": "code",
   "execution_count": 18,
   "id": "2634dbc2",
   "metadata": {
    "execution": {
     "iopub.execute_input": "2024-09-11T19:04:26.075593Z",
     "iopub.status.busy": "2024-09-11T19:04:26.075199Z",
     "iopub.status.idle": "2024-09-11T19:04:26.081056Z",
     "shell.execute_reply": "2024-09-11T19:04:26.080226Z"
    },
    "papermill": {
     "duration": 0.026424,
     "end_time": "2024-09-11T19:04:26.083142",
     "exception": false,
     "start_time": "2024-09-11T19:04:26.056718",
     "status": "completed"
    },
    "tags": []
   },
   "outputs": [
    {
     "data": {
      "text/plain": [
       "(41, 5)"
      ]
     },
     "execution_count": 18,
     "metadata": {},
     "output_type": "execute_result"
    }
   ],
   "source": [
    "precautions_df.shape"
   ]
  },
  {
   "cell_type": "code",
   "execution_count": 19,
   "id": "f9187198",
   "metadata": {
    "execution": {
     "iopub.execute_input": "2024-09-11T19:04:26.118922Z",
     "iopub.status.busy": "2024-09-11T19:04:26.118521Z",
     "iopub.status.idle": "2024-09-11T19:04:26.129245Z",
     "shell.execute_reply": "2024-09-11T19:04:26.128103Z"
    },
    "papermill": {
     "duration": 0.03146,
     "end_time": "2024-09-11T19:04:26.131531",
     "exception": false,
     "start_time": "2024-09-11T19:04:26.100071",
     "status": "completed"
    },
    "tags": []
   },
   "outputs": [
    {
     "name": "stdout",
     "output_type": "stream",
     "text": [
      "<class 'pandas.core.frame.DataFrame'>\n",
      "RangeIndex: 41 entries, 0 to 40\n",
      "Data columns (total 5 columns):\n",
      " #   Column        Non-Null Count  Dtype \n",
      "---  ------        --------------  ----- \n",
      " 0   Disease       41 non-null     object\n",
      " 1   Precaution_1  41 non-null     object\n",
      " 2   Precaution_2  41 non-null     object\n",
      " 3   Precaution_3  40 non-null     object\n",
      " 4   Precaution_4  40 non-null     object\n",
      "dtypes: object(5)\n",
      "memory usage: 1.7+ KB\n"
     ]
    }
   ],
   "source": [
    "precautions_df.info()"
   ]
  },
  {
   "cell_type": "code",
   "execution_count": 20,
   "id": "edbedeb9",
   "metadata": {
    "execution": {
     "iopub.execute_input": "2024-09-11T19:04:26.168636Z",
     "iopub.status.busy": "2024-09-11T19:04:26.168285Z",
     "iopub.status.idle": "2024-09-11T19:04:26.186179Z",
     "shell.execute_reply": "2024-09-11T19:04:26.185214Z"
    },
    "papermill": {
     "duration": 0.038439,
     "end_time": "2024-09-11T19:04:26.188523",
     "exception": false,
     "start_time": "2024-09-11T19:04:26.150084",
     "status": "completed"
    },
    "tags": []
   },
   "outputs": [
    {
     "data": {
      "text/html": [
       "<div>\n",
       "<style scoped>\n",
       "    .dataframe tbody tr th:only-of-type {\n",
       "        vertical-align: middle;\n",
       "    }\n",
       "\n",
       "    .dataframe tbody tr th {\n",
       "        vertical-align: top;\n",
       "    }\n",
       "\n",
       "    .dataframe thead th {\n",
       "        text-align: right;\n",
       "    }\n",
       "</style>\n",
       "<table border=\"1\" class=\"dataframe\">\n",
       "  <thead>\n",
       "    <tr style=\"text-align: right;\">\n",
       "      <th></th>\n",
       "      <th>Disease</th>\n",
       "      <th>Diet</th>\n",
       "    </tr>\n",
       "  </thead>\n",
       "  <tbody>\n",
       "    <tr>\n",
       "      <th>0</th>\n",
       "      <td>Fungal infection</td>\n",
       "      <td>['Antifungal Diet', 'Probiotics', 'Garlic', 'C...</td>\n",
       "    </tr>\n",
       "    <tr>\n",
       "      <th>1</th>\n",
       "      <td>Allergy</td>\n",
       "      <td>['Elimination Diet', 'Omega-3-rich foods', 'Vi...</td>\n",
       "    </tr>\n",
       "    <tr>\n",
       "      <th>2</th>\n",
       "      <td>GERD</td>\n",
       "      <td>['Low-Acid Diet', 'Fiber-rich foods', 'Ginger'...</td>\n",
       "    </tr>\n",
       "    <tr>\n",
       "      <th>3</th>\n",
       "      <td>Chronic cholestasis</td>\n",
       "      <td>['Low-Fat Diet', 'High-Fiber Diet', 'Lean prot...</td>\n",
       "    </tr>\n",
       "    <tr>\n",
       "      <th>4</th>\n",
       "      <td>Drug Reaction</td>\n",
       "      <td>['Antihistamine Diet', 'Omega-3-rich foods', '...</td>\n",
       "    </tr>\n",
       "  </tbody>\n",
       "</table>\n",
       "</div>"
      ],
      "text/plain": [
       "               Disease                                               Diet\n",
       "0     Fungal infection  ['Antifungal Diet', 'Probiotics', 'Garlic', 'C...\n",
       "1              Allergy  ['Elimination Diet', 'Omega-3-rich foods', 'Vi...\n",
       "2                 GERD  ['Low-Acid Diet', 'Fiber-rich foods', 'Ginger'...\n",
       "3  Chronic cholestasis  ['Low-Fat Diet', 'High-Fiber Diet', 'Lean prot...\n",
       "4        Drug Reaction  ['Antihistamine Diet', 'Omega-3-rich foods', '..."
      ]
     },
     "execution_count": 20,
     "metadata": {},
     "output_type": "execute_result"
    }
   ],
   "source": [
    "diets = pd.read_csv('/kaggle/input/medicine-recommendation-system-dataset/diets.csv')\n",
    "diets.head()"
   ]
  },
  {
   "cell_type": "code",
   "execution_count": 21,
   "id": "89b68c9e",
   "metadata": {
    "execution": {
     "iopub.execute_input": "2024-09-11T19:04:26.226675Z",
     "iopub.status.busy": "2024-09-11T19:04:26.226315Z",
     "iopub.status.idle": "2024-09-11T19:04:26.232706Z",
     "shell.execute_reply": "2024-09-11T19:04:26.231717Z"
    },
    "papermill": {
     "duration": 0.027003,
     "end_time": "2024-09-11T19:04:26.234655",
     "exception": false,
     "start_time": "2024-09-11T19:04:26.207652",
     "status": "completed"
    },
    "tags": []
   },
   "outputs": [
    {
     "data": {
      "text/plain": [
       "(41, 2)"
      ]
     },
     "execution_count": 21,
     "metadata": {},
     "output_type": "execute_result"
    }
   ],
   "source": [
    "diets.shape"
   ]
  },
  {
   "cell_type": "code",
   "execution_count": 22,
   "id": "508603dd",
   "metadata": {
    "execution": {
     "iopub.execute_input": "2024-09-11T19:04:26.270873Z",
     "iopub.status.busy": "2024-09-11T19:04:26.270480Z",
     "iopub.status.idle": "2024-09-11T19:04:26.279822Z",
     "shell.execute_reply": "2024-09-11T19:04:26.278825Z"
    },
    "papermill": {
     "duration": 0.030245,
     "end_time": "2024-09-11T19:04:26.282296",
     "exception": false,
     "start_time": "2024-09-11T19:04:26.252051",
     "status": "completed"
    },
    "tags": []
   },
   "outputs": [
    {
     "name": "stdout",
     "output_type": "stream",
     "text": [
      "<class 'pandas.core.frame.DataFrame'>\n",
      "RangeIndex: 41 entries, 0 to 40\n",
      "Data columns (total 2 columns):\n",
      " #   Column   Non-Null Count  Dtype \n",
      "---  ------   --------------  ----- \n",
      " 0   Disease  41 non-null     object\n",
      " 1   Diet     41 non-null     object\n",
      "dtypes: object(2)\n",
      "memory usage: 784.0+ bytes\n"
     ]
    }
   ],
   "source": [
    "diets.info()"
   ]
  },
  {
   "cell_type": "code",
   "execution_count": 23,
   "id": "31da9afb",
   "metadata": {
    "execution": {
     "iopub.execute_input": "2024-09-11T19:04:26.320492Z",
     "iopub.status.busy": "2024-09-11T19:04:26.319752Z",
     "iopub.status.idle": "2024-09-11T19:04:26.340041Z",
     "shell.execute_reply": "2024-09-11T19:04:26.338090Z"
    },
    "papermill": {
     "duration": 0.042279,
     "end_time": "2024-09-11T19:04:26.343221",
     "exception": false,
     "start_time": "2024-09-11T19:04:26.300942",
     "status": "completed"
    },
    "tags": []
   },
   "outputs": [
    {
     "data": {
      "text/html": [
       "<div>\n",
       "<style scoped>\n",
       "    .dataframe tbody tr th:only-of-type {\n",
       "        vertical-align: middle;\n",
       "    }\n",
       "\n",
       "    .dataframe tbody tr th {\n",
       "        vertical-align: top;\n",
       "    }\n",
       "\n",
       "    .dataframe thead th {\n",
       "        text-align: right;\n",
       "    }\n",
       "</style>\n",
       "<table border=\"1\" class=\"dataframe\">\n",
       "  <thead>\n",
       "    <tr style=\"text-align: right;\">\n",
       "      <th></th>\n",
       "      <th>disease</th>\n",
       "      <th>workout</th>\n",
       "    </tr>\n",
       "  </thead>\n",
       "  <tbody>\n",
       "    <tr>\n",
       "      <th>0</th>\n",
       "      <td>Fungal infection</td>\n",
       "      <td>Avoid sugary foods</td>\n",
       "    </tr>\n",
       "    <tr>\n",
       "      <th>1</th>\n",
       "      <td>Fungal infection</td>\n",
       "      <td>Consume probiotics</td>\n",
       "    </tr>\n",
       "    <tr>\n",
       "      <th>2</th>\n",
       "      <td>Fungal infection</td>\n",
       "      <td>Increase intake of garlic</td>\n",
       "    </tr>\n",
       "    <tr>\n",
       "      <th>3</th>\n",
       "      <td>Fungal infection</td>\n",
       "      <td>Include yogurt in diet</td>\n",
       "    </tr>\n",
       "    <tr>\n",
       "      <th>4</th>\n",
       "      <td>Fungal infection</td>\n",
       "      <td>Limit processed foods</td>\n",
       "    </tr>\n",
       "  </tbody>\n",
       "</table>\n",
       "</div>"
      ],
      "text/plain": [
       "            disease                    workout\n",
       "0  Fungal infection         Avoid sugary foods\n",
       "1  Fungal infection         Consume probiotics\n",
       "2  Fungal infection  Increase intake of garlic\n",
       "3  Fungal infection     Include yogurt in diet\n",
       "4  Fungal infection      Limit processed foods"
      ]
     },
     "execution_count": 23,
     "metadata": {},
     "output_type": "execute_result"
    }
   ],
   "source": [
    "workout_df = pd.read_csv('/kaggle/input/medicine-recommendation-system-dataset/workout_df.csv',usecols=[2,3])\n",
    "workout_df.head()"
   ]
  },
  {
   "cell_type": "code",
   "execution_count": 24,
   "id": "25200628",
   "metadata": {
    "execution": {
     "iopub.execute_input": "2024-09-11T19:04:26.382664Z",
     "iopub.status.busy": "2024-09-11T19:04:26.381786Z",
     "iopub.status.idle": "2024-09-11T19:04:26.388301Z",
     "shell.execute_reply": "2024-09-11T19:04:26.387377Z"
    },
    "papermill": {
     "duration": 0.027251,
     "end_time": "2024-09-11T19:04:26.390241",
     "exception": false,
     "start_time": "2024-09-11T19:04:26.362990",
     "status": "completed"
    },
    "tags": []
   },
   "outputs": [
    {
     "data": {
      "text/plain": [
       "(410, 2)"
      ]
     },
     "execution_count": 24,
     "metadata": {},
     "output_type": "execute_result"
    }
   ],
   "source": [
    "workout_df.shape"
   ]
  },
  {
   "cell_type": "code",
   "execution_count": 25,
   "id": "70458fba",
   "metadata": {
    "execution": {
     "iopub.execute_input": "2024-09-11T19:04:26.428571Z",
     "iopub.status.busy": "2024-09-11T19:04:26.427676Z",
     "iopub.status.idle": "2024-09-11T19:04:26.437305Z",
     "shell.execute_reply": "2024-09-11T19:04:26.436357Z"
    },
    "papermill": {
     "duration": 0.031027,
     "end_time": "2024-09-11T19:04:26.439314",
     "exception": false,
     "start_time": "2024-09-11T19:04:26.408287",
     "status": "completed"
    },
    "tags": []
   },
   "outputs": [
    {
     "name": "stdout",
     "output_type": "stream",
     "text": [
      "<class 'pandas.core.frame.DataFrame'>\n",
      "RangeIndex: 410 entries, 0 to 409\n",
      "Data columns (total 2 columns):\n",
      " #   Column   Non-Null Count  Dtype \n",
      "---  ------   --------------  ----- \n",
      " 0   disease  410 non-null    object\n",
      " 1   workout  410 non-null    object\n",
      "dtypes: object(2)\n",
      "memory usage: 6.5+ KB\n"
     ]
    }
   ],
   "source": [
    "workout_df.info()"
   ]
  },
  {
   "cell_type": "code",
   "execution_count": 26,
   "id": "d200c6c0",
   "metadata": {
    "execution": {
     "iopub.execute_input": "2024-09-11T19:04:26.477003Z",
     "iopub.status.busy": "2024-09-11T19:04:26.476118Z",
     "iopub.status.idle": "2024-09-11T19:04:26.483522Z",
     "shell.execute_reply": "2024-09-11T19:04:26.482658Z"
    },
    "papermill": {
     "duration": 0.028326,
     "end_time": "2024-09-11T19:04:26.485489",
     "exception": false,
     "start_time": "2024-09-11T19:04:26.457163",
     "status": "completed"
    },
    "tags": []
   },
   "outputs": [
    {
     "data": {
      "text/plain": [
       "array(['Fungal infection', 'Allergy', 'GERD', 'Chronic cholestasis',\n",
       "       'Drug Reaction', 'Peptic ulcer diseae', 'AIDS', 'Diabetes ',\n",
       "       'Gastroenteritis', 'Bronchial Asthma', 'Hypertension ', 'Migraine',\n",
       "       'Cervical spondylosis', 'Paralysis (brain hemorrhage)', 'Jaundice',\n",
       "       'Malaria', 'Chicken pox', 'Dengue', 'Typhoid', 'hepatitis A',\n",
       "       'Hepatitis B', 'Hepatitis C', 'Hepatitis D', 'Hepatitis E',\n",
       "       'Alcoholic hepatitis', 'Tuberculosis', 'Common Cold', 'Pneumonia',\n",
       "       'Dimorphic hemmorhoids(piles)', 'Heart attack', 'Varicose veins',\n",
       "       'Hypothyroidism', 'Hyperthyroidism', 'Hypoglycemia',\n",
       "       'Osteoarthristis', 'Arthritis',\n",
       "       '(vertigo) Paroymsal  Positional Vertigo', 'Acne',\n",
       "       'Urinary tract infection', 'Psoriasis', 'Impetigo'], dtype=object)"
      ]
     },
     "execution_count": 26,
     "metadata": {},
     "output_type": "execute_result"
    }
   ],
   "source": [
    "names = dataset.prognosis.unique()\n",
    "names"
   ]
  },
  {
   "cell_type": "code",
   "execution_count": 27,
   "id": "048ba51a",
   "metadata": {
    "execution": {
     "iopub.execute_input": "2024-09-11T19:04:26.523289Z",
     "iopub.status.busy": "2024-09-11T19:04:26.522577Z",
     "iopub.status.idle": "2024-09-11T19:04:26.529373Z",
     "shell.execute_reply": "2024-09-11T19:04:26.528485Z"
    },
    "papermill": {
     "duration": 0.027864,
     "end_time": "2024-09-11T19:04:26.531321",
     "exception": false,
     "start_time": "2024-09-11T19:04:26.503457",
     "status": "completed"
    },
    "tags": []
   },
   "outputs": [
    {
     "data": {
      "text/plain": [
       "41"
      ]
     },
     "execution_count": 27,
     "metadata": {},
     "output_type": "execute_result"
    }
   ],
   "source": [
    "len(dataset.prognosis.unique())"
   ]
  },
  {
   "cell_type": "code",
   "execution_count": 28,
   "id": "bb2464e4",
   "metadata": {
    "execution": {
     "iopub.execute_input": "2024-09-11T19:04:26.569477Z",
     "iopub.status.busy": "2024-09-11T19:04:26.568513Z",
     "iopub.status.idle": "2024-09-11T19:04:26.577972Z",
     "shell.execute_reply": "2024-09-11T19:04:26.577074Z"
    },
    "papermill": {
     "duration": 0.030694,
     "end_time": "2024-09-11T19:04:26.580042",
     "exception": false,
     "start_time": "2024-09-11T19:04:26.549348",
     "status": "completed"
    },
    "tags": []
   },
   "outputs": [
    {
     "data": {
      "text/plain": [
       "prognosis\n",
       "Fungal infection                           120\n",
       "Allergy                                    120\n",
       "GERD                                       120\n",
       "Chronic cholestasis                        120\n",
       "Drug Reaction                              120\n",
       "Peptic ulcer diseae                        120\n",
       "AIDS                                       120\n",
       "Diabetes                                   120\n",
       "Gastroenteritis                            120\n",
       "Bronchial Asthma                           120\n",
       "Hypertension                               120\n",
       "Migraine                                   120\n",
       "Cervical spondylosis                       120\n",
       "Paralysis (brain hemorrhage)               120\n",
       "Jaundice                                   120\n",
       "Malaria                                    120\n",
       "Chicken pox                                120\n",
       "Dengue                                     120\n",
       "Typhoid                                    120\n",
       "hepatitis A                                120\n",
       "Hepatitis B                                120\n",
       "Hepatitis C                                120\n",
       "Hepatitis D                                120\n",
       "Hepatitis E                                120\n",
       "Alcoholic hepatitis                        120\n",
       "Tuberculosis                               120\n",
       "Common Cold                                120\n",
       "Pneumonia                                  120\n",
       "Dimorphic hemmorhoids(piles)               120\n",
       "Heart attack                               120\n",
       "Varicose veins                             120\n",
       "Hypothyroidism                             120\n",
       "Hyperthyroidism                            120\n",
       "Hypoglycemia                               120\n",
       "Osteoarthristis                            120\n",
       "Arthritis                                  120\n",
       "(vertigo) Paroymsal  Positional Vertigo    120\n",
       "Acne                                       120\n",
       "Urinary tract infection                    120\n",
       "Psoriasis                                  120\n",
       "Impetigo                                   120\n",
       "Name: count, dtype: int64"
      ]
     },
     "execution_count": 28,
     "metadata": {},
     "output_type": "execute_result"
    }
   ],
   "source": [
    "value_counts = dataset.prognosis.value_counts()\n",
    "value_counts "
   ]
  },
  {
   "cell_type": "markdown",
   "id": "5094c9a2",
   "metadata": {
    "papermill": {
     "duration": 0.017905,
     "end_time": "2024-09-11T19:04:26.616389",
     "exception": false,
     "start_time": "2024-09-11T19:04:26.598484",
     "status": "completed"
    },
    "tags": []
   },
   "source": [
    "**<a id=\"3\"></a>\n",
    "<h1><b><p style=\"background-image: url(https://i.postimg.cc/0Qwf8YX6/2927262.jpg);font-family:camtasia;font-size:110%;color:white;text-align:center;border-radius:15px 50px; padding:7px; border:solid 2px #09375b; box-shadow: 10px 10px 10px #042b4c\">Preprocessing</p></b></h1>\n",
    "<a class=\"btn\" href=\"#home\">Tabel of Contents</a>"
   ]
  },
  {
   "cell_type": "code",
   "execution_count": 29,
   "id": "5349f921",
   "metadata": {
    "execution": {
     "iopub.execute_input": "2024-09-11T19:04:26.655454Z",
     "iopub.status.busy": "2024-09-11T19:04:26.654561Z",
     "iopub.status.idle": "2024-09-11T19:04:26.676543Z",
     "shell.execute_reply": "2024-09-11T19:04:26.675593Z"
    },
    "papermill": {
     "duration": 0.043591,
     "end_time": "2024-09-11T19:04:26.678644",
     "exception": false,
     "start_time": "2024-09-11T19:04:26.635053",
     "status": "completed"
    },
    "tags": []
   },
   "outputs": [
    {
     "data": {
      "text/html": [
       "<div>\n",
       "<style scoped>\n",
       "    .dataframe tbody tr th:only-of-type {\n",
       "        vertical-align: middle;\n",
       "    }\n",
       "\n",
       "    .dataframe tbody tr th {\n",
       "        vertical-align: top;\n",
       "    }\n",
       "\n",
       "    .dataframe thead th {\n",
       "        text-align: right;\n",
       "    }\n",
       "</style>\n",
       "<table border=\"1\" class=\"dataframe\">\n",
       "  <thead>\n",
       "    <tr style=\"text-align: right;\">\n",
       "      <th></th>\n",
       "      <th>itching</th>\n",
       "      <th>skin_rash</th>\n",
       "      <th>nodal_skin_eruptions</th>\n",
       "      <th>continuous_sneezing</th>\n",
       "      <th>shivering</th>\n",
       "      <th>chills</th>\n",
       "      <th>joint_pain</th>\n",
       "      <th>stomach_pain</th>\n",
       "      <th>acidity</th>\n",
       "      <th>ulcers_on_tongue</th>\n",
       "      <th>...</th>\n",
       "      <th>blackheads</th>\n",
       "      <th>scurring</th>\n",
       "      <th>skin_peeling</th>\n",
       "      <th>silver_like_dusting</th>\n",
       "      <th>small_dents_in_nails</th>\n",
       "      <th>inflammatory_nails</th>\n",
       "      <th>blister</th>\n",
       "      <th>red_sore_around_nose</th>\n",
       "      <th>yellow_crust_ooze</th>\n",
       "      <th>prognosis</th>\n",
       "    </tr>\n",
       "  </thead>\n",
       "  <tbody>\n",
       "    <tr>\n",
       "      <th>0</th>\n",
       "      <td>1</td>\n",
       "      <td>1</td>\n",
       "      <td>1</td>\n",
       "      <td>0</td>\n",
       "      <td>0</td>\n",
       "      <td>0</td>\n",
       "      <td>0</td>\n",
       "      <td>0</td>\n",
       "      <td>0</td>\n",
       "      <td>0</td>\n",
       "      <td>...</td>\n",
       "      <td>0</td>\n",
       "      <td>0</td>\n",
       "      <td>0</td>\n",
       "      <td>0</td>\n",
       "      <td>0</td>\n",
       "      <td>0</td>\n",
       "      <td>0</td>\n",
       "      <td>0</td>\n",
       "      <td>0</td>\n",
       "      <td>15</td>\n",
       "    </tr>\n",
       "    <tr>\n",
       "      <th>1</th>\n",
       "      <td>0</td>\n",
       "      <td>1</td>\n",
       "      <td>1</td>\n",
       "      <td>0</td>\n",
       "      <td>0</td>\n",
       "      <td>0</td>\n",
       "      <td>0</td>\n",
       "      <td>0</td>\n",
       "      <td>0</td>\n",
       "      <td>0</td>\n",
       "      <td>...</td>\n",
       "      <td>0</td>\n",
       "      <td>0</td>\n",
       "      <td>0</td>\n",
       "      <td>0</td>\n",
       "      <td>0</td>\n",
       "      <td>0</td>\n",
       "      <td>0</td>\n",
       "      <td>0</td>\n",
       "      <td>0</td>\n",
       "      <td>15</td>\n",
       "    </tr>\n",
       "    <tr>\n",
       "      <th>2</th>\n",
       "      <td>1</td>\n",
       "      <td>0</td>\n",
       "      <td>1</td>\n",
       "      <td>0</td>\n",
       "      <td>0</td>\n",
       "      <td>0</td>\n",
       "      <td>0</td>\n",
       "      <td>0</td>\n",
       "      <td>0</td>\n",
       "      <td>0</td>\n",
       "      <td>...</td>\n",
       "      <td>0</td>\n",
       "      <td>0</td>\n",
       "      <td>0</td>\n",
       "      <td>0</td>\n",
       "      <td>0</td>\n",
       "      <td>0</td>\n",
       "      <td>0</td>\n",
       "      <td>0</td>\n",
       "      <td>0</td>\n",
       "      <td>15</td>\n",
       "    </tr>\n",
       "    <tr>\n",
       "      <th>3</th>\n",
       "      <td>1</td>\n",
       "      <td>1</td>\n",
       "      <td>0</td>\n",
       "      <td>0</td>\n",
       "      <td>0</td>\n",
       "      <td>0</td>\n",
       "      <td>0</td>\n",
       "      <td>0</td>\n",
       "      <td>0</td>\n",
       "      <td>0</td>\n",
       "      <td>...</td>\n",
       "      <td>0</td>\n",
       "      <td>0</td>\n",
       "      <td>0</td>\n",
       "      <td>0</td>\n",
       "      <td>0</td>\n",
       "      <td>0</td>\n",
       "      <td>0</td>\n",
       "      <td>0</td>\n",
       "      <td>0</td>\n",
       "      <td>15</td>\n",
       "    </tr>\n",
       "    <tr>\n",
       "      <th>4</th>\n",
       "      <td>1</td>\n",
       "      <td>1</td>\n",
       "      <td>1</td>\n",
       "      <td>0</td>\n",
       "      <td>0</td>\n",
       "      <td>0</td>\n",
       "      <td>0</td>\n",
       "      <td>0</td>\n",
       "      <td>0</td>\n",
       "      <td>0</td>\n",
       "      <td>...</td>\n",
       "      <td>0</td>\n",
       "      <td>0</td>\n",
       "      <td>0</td>\n",
       "      <td>0</td>\n",
       "      <td>0</td>\n",
       "      <td>0</td>\n",
       "      <td>0</td>\n",
       "      <td>0</td>\n",
       "      <td>0</td>\n",
       "      <td>15</td>\n",
       "    </tr>\n",
       "  </tbody>\n",
       "</table>\n",
       "<p>5 rows × 133 columns</p>\n",
       "</div>"
      ],
      "text/plain": [
       "   itching  skin_rash  nodal_skin_eruptions  continuous_sneezing  shivering  \\\n",
       "0        1          1                     1                    0          0   \n",
       "1        0          1                     1                    0          0   \n",
       "2        1          0                     1                    0          0   \n",
       "3        1          1                     0                    0          0   \n",
       "4        1          1                     1                    0          0   \n",
       "\n",
       "   chills  joint_pain  stomach_pain  acidity  ulcers_on_tongue  ...  \\\n",
       "0       0           0             0        0                 0  ...   \n",
       "1       0           0             0        0                 0  ...   \n",
       "2       0           0             0        0                 0  ...   \n",
       "3       0           0             0        0                 0  ...   \n",
       "4       0           0             0        0                 0  ...   \n",
       "\n",
       "   blackheads  scurring  skin_peeling  silver_like_dusting  \\\n",
       "0           0         0             0                    0   \n",
       "1           0         0             0                    0   \n",
       "2           0         0             0                    0   \n",
       "3           0         0             0                    0   \n",
       "4           0         0             0                    0   \n",
       "\n",
       "   small_dents_in_nails  inflammatory_nails  blister  red_sore_around_nose  \\\n",
       "0                     0                   0        0                     0   \n",
       "1                     0                   0        0                     0   \n",
       "2                     0                   0        0                     0   \n",
       "3                     0                   0        0                     0   \n",
       "4                     0                   0        0                     0   \n",
       "\n",
       "   yellow_crust_ooze  prognosis  \n",
       "0                  0         15  \n",
       "1                  0         15  \n",
       "2                  0         15  \n",
       "3                  0         15  \n",
       "4                  0         15  \n",
       "\n",
       "[5 rows x 133 columns]"
      ]
     },
     "execution_count": 29,
     "metadata": {},
     "output_type": "execute_result"
    }
   ],
   "source": [
    "### Transform Object Columns into Numbers\n",
    "label = LabelEncoder()\n",
    "dataset.prognosis = label.fit_transform(dataset.prognosis)\n",
    "dataset.head()"
   ]
  },
  {
   "cell_type": "code",
   "execution_count": 30,
   "id": "af9f0aac",
   "metadata": {
    "execution": {
     "iopub.execute_input": "2024-09-11T19:04:26.718811Z",
     "iopub.status.busy": "2024-09-11T19:04:26.718399Z",
     "iopub.status.idle": "2024-09-11T19:04:26.741282Z",
     "shell.execute_reply": "2024-09-11T19:04:26.739911Z"
    },
    "papermill": {
     "duration": 0.04677,
     "end_time": "2024-09-11T19:04:26.745139",
     "exception": false,
     "start_time": "2024-09-11T19:04:26.698369",
     "status": "completed"
    },
    "tags": []
   },
   "outputs": [
    {
     "data": {
      "text/html": [
       "<div>\n",
       "<style scoped>\n",
       "    .dataframe tbody tr th:only-of-type {\n",
       "        vertical-align: middle;\n",
       "    }\n",
       "\n",
       "    .dataframe tbody tr th {\n",
       "        vertical-align: top;\n",
       "    }\n",
       "\n",
       "    .dataframe thead th {\n",
       "        text-align: right;\n",
       "    }\n",
       "</style>\n",
       "<table border=\"1\" class=\"dataframe\">\n",
       "  <thead>\n",
       "    <tr style=\"text-align: right;\">\n",
       "      <th></th>\n",
       "      <th>itching</th>\n",
       "      <th>skin_rash</th>\n",
       "      <th>nodal_skin_eruptions</th>\n",
       "      <th>continuous_sneezing</th>\n",
       "      <th>shivering</th>\n",
       "      <th>chills</th>\n",
       "      <th>joint_pain</th>\n",
       "      <th>stomach_pain</th>\n",
       "      <th>acidity</th>\n",
       "      <th>ulcers_on_tongue</th>\n",
       "      <th>...</th>\n",
       "      <th>pus_filled_pimples</th>\n",
       "      <th>blackheads</th>\n",
       "      <th>scurring</th>\n",
       "      <th>skin_peeling</th>\n",
       "      <th>silver_like_dusting</th>\n",
       "      <th>small_dents_in_nails</th>\n",
       "      <th>inflammatory_nails</th>\n",
       "      <th>blister</th>\n",
       "      <th>red_sore_around_nose</th>\n",
       "      <th>yellow_crust_ooze</th>\n",
       "    </tr>\n",
       "  </thead>\n",
       "  <tbody>\n",
       "    <tr>\n",
       "      <th>0</th>\n",
       "      <td>1</td>\n",
       "      <td>1</td>\n",
       "      <td>1</td>\n",
       "      <td>0</td>\n",
       "      <td>0</td>\n",
       "      <td>0</td>\n",
       "      <td>0</td>\n",
       "      <td>0</td>\n",
       "      <td>0</td>\n",
       "      <td>0</td>\n",
       "      <td>...</td>\n",
       "      <td>0</td>\n",
       "      <td>0</td>\n",
       "      <td>0</td>\n",
       "      <td>0</td>\n",
       "      <td>0</td>\n",
       "      <td>0</td>\n",
       "      <td>0</td>\n",
       "      <td>0</td>\n",
       "      <td>0</td>\n",
       "      <td>0</td>\n",
       "    </tr>\n",
       "    <tr>\n",
       "      <th>1</th>\n",
       "      <td>0</td>\n",
       "      <td>1</td>\n",
       "      <td>1</td>\n",
       "      <td>0</td>\n",
       "      <td>0</td>\n",
       "      <td>0</td>\n",
       "      <td>0</td>\n",
       "      <td>0</td>\n",
       "      <td>0</td>\n",
       "      <td>0</td>\n",
       "      <td>...</td>\n",
       "      <td>0</td>\n",
       "      <td>0</td>\n",
       "      <td>0</td>\n",
       "      <td>0</td>\n",
       "      <td>0</td>\n",
       "      <td>0</td>\n",
       "      <td>0</td>\n",
       "      <td>0</td>\n",
       "      <td>0</td>\n",
       "      <td>0</td>\n",
       "    </tr>\n",
       "    <tr>\n",
       "      <th>2</th>\n",
       "      <td>1</td>\n",
       "      <td>0</td>\n",
       "      <td>1</td>\n",
       "      <td>0</td>\n",
       "      <td>0</td>\n",
       "      <td>0</td>\n",
       "      <td>0</td>\n",
       "      <td>0</td>\n",
       "      <td>0</td>\n",
       "      <td>0</td>\n",
       "      <td>...</td>\n",
       "      <td>0</td>\n",
       "      <td>0</td>\n",
       "      <td>0</td>\n",
       "      <td>0</td>\n",
       "      <td>0</td>\n",
       "      <td>0</td>\n",
       "      <td>0</td>\n",
       "      <td>0</td>\n",
       "      <td>0</td>\n",
       "      <td>0</td>\n",
       "    </tr>\n",
       "    <tr>\n",
       "      <th>3</th>\n",
       "      <td>1</td>\n",
       "      <td>1</td>\n",
       "      <td>0</td>\n",
       "      <td>0</td>\n",
       "      <td>0</td>\n",
       "      <td>0</td>\n",
       "      <td>0</td>\n",
       "      <td>0</td>\n",
       "      <td>0</td>\n",
       "      <td>0</td>\n",
       "      <td>...</td>\n",
       "      <td>0</td>\n",
       "      <td>0</td>\n",
       "      <td>0</td>\n",
       "      <td>0</td>\n",
       "      <td>0</td>\n",
       "      <td>0</td>\n",
       "      <td>0</td>\n",
       "      <td>0</td>\n",
       "      <td>0</td>\n",
       "      <td>0</td>\n",
       "    </tr>\n",
       "    <tr>\n",
       "      <th>4</th>\n",
       "      <td>1</td>\n",
       "      <td>1</td>\n",
       "      <td>1</td>\n",
       "      <td>0</td>\n",
       "      <td>0</td>\n",
       "      <td>0</td>\n",
       "      <td>0</td>\n",
       "      <td>0</td>\n",
       "      <td>0</td>\n",
       "      <td>0</td>\n",
       "      <td>...</td>\n",
       "      <td>0</td>\n",
       "      <td>0</td>\n",
       "      <td>0</td>\n",
       "      <td>0</td>\n",
       "      <td>0</td>\n",
       "      <td>0</td>\n",
       "      <td>0</td>\n",
       "      <td>0</td>\n",
       "      <td>0</td>\n",
       "      <td>0</td>\n",
       "    </tr>\n",
       "  </tbody>\n",
       "</table>\n",
       "<p>5 rows × 132 columns</p>\n",
       "</div>"
      ],
      "text/plain": [
       "   itching  skin_rash  nodal_skin_eruptions  continuous_sneezing  shivering  \\\n",
       "0        1          1                     1                    0          0   \n",
       "1        0          1                     1                    0          0   \n",
       "2        1          0                     1                    0          0   \n",
       "3        1          1                     0                    0          0   \n",
       "4        1          1                     1                    0          0   \n",
       "\n",
       "   chills  joint_pain  stomach_pain  acidity  ulcers_on_tongue  ...  \\\n",
       "0       0           0             0        0                 0  ...   \n",
       "1       0           0             0        0                 0  ...   \n",
       "2       0           0             0        0                 0  ...   \n",
       "3       0           0             0        0                 0  ...   \n",
       "4       0           0             0        0                 0  ...   \n",
       "\n",
       "   pus_filled_pimples  blackheads  scurring  skin_peeling  \\\n",
       "0                   0           0         0             0   \n",
       "1                   0           0         0             0   \n",
       "2                   0           0         0             0   \n",
       "3                   0           0         0             0   \n",
       "4                   0           0         0             0   \n",
       "\n",
       "   silver_like_dusting  small_dents_in_nails  inflammatory_nails  blister  \\\n",
       "0                    0                     0                   0        0   \n",
       "1                    0                     0                   0        0   \n",
       "2                    0                     0                   0        0   \n",
       "3                    0                     0                   0        0   \n",
       "4                    0                     0                   0        0   \n",
       "\n",
       "   red_sore_around_nose  yellow_crust_ooze  \n",
       "0                     0                  0  \n",
       "1                     0                  0  \n",
       "2                     0                  0  \n",
       "3                     0                  0  \n",
       "4                     0                  0  \n",
       "\n",
       "[5 rows x 132 columns]"
      ]
     },
     "execution_count": 30,
     "metadata": {},
     "output_type": "execute_result"
    }
   ],
   "source": [
    "### Split \n",
    "X = dataset.drop('prognosis',axis=1)\n",
    "y = dataset['prognosis']\n",
    "keys = X.columns\n",
    "X.head()"
   ]
  },
  {
   "cell_type": "code",
   "execution_count": 31,
   "id": "cfd2fd58",
   "metadata": {
    "execution": {
     "iopub.execute_input": "2024-09-11T19:04:26.787436Z",
     "iopub.status.busy": "2024-09-11T19:04:26.787047Z",
     "iopub.status.idle": "2024-09-11T19:04:26.794075Z",
     "shell.execute_reply": "2024-09-11T19:04:26.792986Z"
    },
    "papermill": {
     "duration": 0.029042,
     "end_time": "2024-09-11T19:04:26.796041",
     "exception": false,
     "start_time": "2024-09-11T19:04:26.766999",
     "status": "completed"
    },
    "tags": []
   },
   "outputs": [
    {
     "data": {
      "text/plain": [
       "0    15\n",
       "1    15\n",
       "2    15\n",
       "3    15\n",
       "4    15\n",
       "Name: prognosis, dtype: int64"
      ]
     },
     "execution_count": 31,
     "metadata": {},
     "output_type": "execute_result"
    }
   ],
   "source": [
    "y.head()"
   ]
  },
  {
   "cell_type": "code",
   "execution_count": 32,
   "id": "0b14055c",
   "metadata": {
    "execution": {
     "iopub.execute_input": "2024-09-11T19:04:26.884108Z",
     "iopub.status.busy": "2024-09-11T19:04:26.883241Z",
     "iopub.status.idle": "2024-09-11T19:04:26.900477Z",
     "shell.execute_reply": "2024-09-11T19:04:26.899384Z"
    },
    "papermill": {
     "duration": 0.039667,
     "end_time": "2024-09-11T19:04:26.902544",
     "exception": false,
     "start_time": "2024-09-11T19:04:26.862877",
     "status": "completed"
    },
    "tags": []
   },
   "outputs": [
    {
     "name": "stdout",
     "output_type": "stream",
     "text": [
      "X_train shape is  (3936, 132)\n",
      "X_test shape is  (984, 132)\n",
      "y_train shape is  (3936,)\n",
      "y_test shape is  (984,)\n"
     ]
    }
   ],
   "source": [
    "X_train, X_test, y_train, y_test = train_test_split(X, y, test_size=0.20, random_state=41, shuffle =True,stratify=y)\n",
    "print('X_train shape is ' , X_train.shape)\n",
    "print('X_test shape is ' , X_test.shape)\n",
    "print('y_train shape is ' , y_train.shape)\n",
    "print('y_test shape is ' , y_test.shape)"
   ]
  },
  {
   "cell_type": "markdown",
   "id": "931240df",
   "metadata": {
    "papermill": {
     "duration": 0.01901,
     "end_time": "2024-09-11T19:04:26.940831",
     "exception": false,
     "start_time": "2024-09-11T19:04:26.921821",
     "status": "completed"
    },
    "tags": []
   },
   "source": [
    "**<a id=\"4\"></a>\n",
    "<h1><b><p style=\"background-image: url(https://i.postimg.cc/0Qwf8YX6/2927262.jpg);font-family:camtasia;font-size:110%;color:white;text-align:center;border-radius:15px 50px; padding:7px; border:solid 2px #09375b; box-shadow: 10px 10px 10px #042b4c\">ML Models</p></b></h1>\n",
    "<a class=\"btn\" href=\"#home\">Tabel of Contents</a>"
   ]
  },
  {
   "cell_type": "code",
   "execution_count": 33,
   "id": "9442154b",
   "metadata": {
    "execution": {
     "iopub.execute_input": "2024-09-11T19:04:26.981323Z",
     "iopub.status.busy": "2024-09-11T19:04:26.980945Z",
     "iopub.status.idle": "2024-09-11T19:04:59.764591Z",
     "shell.execute_reply": "2024-09-11T19:04:59.763364Z"
    },
    "papermill": {
     "duration": 32.806438,
     "end_time": "2024-09-11T19:04:59.766711",
     "exception": false,
     "start_time": "2024-09-11T19:04:26.960273",
     "status": "completed"
    },
    "tags": []
   },
   "outputs": [
    {
     "name": "stdout",
     "output_type": "stream",
     "text": [
      "Cross-validating RandomForest...\n",
      "Mean accuracy for RandomForest: 1.0000\n",
      "Cross-validating XGBoost...\n",
      "Mean accuracy for XGBoost: 1.0000\n",
      "Cross-validating LGBM...\n",
      "Mean accuracy for LGBM: 1.0000\n",
      "Cross-validating DecisionTree...\n",
      "Mean accuracy for DecisionTree: 0.9982\n",
      "Cross-validating KNN...\n",
      "Mean accuracy for KNN: 1.0000\n",
      "Cross-validating SVC...\n",
      "Mean accuracy for SVC: 1.0000\n",
      "Cross-validating LogisticRegression...\n",
      "Mean accuracy for LogisticRegression: 1.0000\n"
     ]
    }
   ],
   "source": [
    "models = {\n",
    "    'RandomForest': RandomForestClassifier(),\n",
    "    'XGBoost': XGBClassifier(),\n",
    "    'LGBM': LGBMClassifier(verbose=-1),\n",
    "    'DecisionTree': DecisionTreeClassifier(),\n",
    "    'KNN': KNeighborsClassifier(),\n",
    "    'SVC': SVC(),\n",
    "    'LogisticRegression': LogisticRegression()\n",
    "}\n",
    "### Validation Score\n",
    "cv_results = {}\n",
    "for model_name, model in models.items():\n",
    "    print(f\"Cross-validating {model_name}...\")\n",
    "    cv_scores = cross_val_score(model, X_train, y_train, cv=5, scoring='accuracy', n_jobs=-1)\n",
    "    cv_results[model_name] = cv_scores.mean()\n",
    "    print(f\"Mean accuracy for {model_name}: {cv_scores.mean():.4f}\")"
   ]
  },
  {
   "cell_type": "code",
   "execution_count": 34,
   "id": "23ba6c1a",
   "metadata": {
    "execution": {
     "iopub.execute_input": "2024-09-11T19:04:59.808629Z",
     "iopub.status.busy": "2024-09-11T19:04:59.807942Z",
     "iopub.status.idle": "2024-09-11T19:04:59.823670Z",
     "shell.execute_reply": "2024-09-11T19:04:59.822764Z"
    },
    "papermill": {
     "duration": 0.038875,
     "end_time": "2024-09-11T19:04:59.825669",
     "exception": false,
     "start_time": "2024-09-11T19:04:59.786794",
     "status": "completed"
    },
    "tags": []
   },
   "outputs": [
    {
     "data": {
      "text/html": [
       "<div>\n",
       "<style scoped>\n",
       "    .dataframe tbody tr th:only-of-type {\n",
       "        vertical-align: middle;\n",
       "    }\n",
       "\n",
       "    .dataframe tbody tr th {\n",
       "        vertical-align: top;\n",
       "    }\n",
       "\n",
       "    .dataframe thead th {\n",
       "        text-align: right;\n",
       "    }\n",
       "</style>\n",
       "<table border=\"1\" class=\"dataframe\">\n",
       "  <thead>\n",
       "    <tr style=\"text-align: right;\">\n",
       "      <th></th>\n",
       "      <th>Model</th>\n",
       "      <th>Mean Accuracy</th>\n",
       "    </tr>\n",
       "  </thead>\n",
       "  <tbody>\n",
       "    <tr>\n",
       "      <th>0</th>\n",
       "      <td>RandomForest</td>\n",
       "      <td>1.000000</td>\n",
       "    </tr>\n",
       "    <tr>\n",
       "      <th>1</th>\n",
       "      <td>XGBoost</td>\n",
       "      <td>1.000000</td>\n",
       "    </tr>\n",
       "    <tr>\n",
       "      <th>2</th>\n",
       "      <td>LGBM</td>\n",
       "      <td>1.000000</td>\n",
       "    </tr>\n",
       "    <tr>\n",
       "      <th>4</th>\n",
       "      <td>KNN</td>\n",
       "      <td>1.000000</td>\n",
       "    </tr>\n",
       "    <tr>\n",
       "      <th>5</th>\n",
       "      <td>SVC</td>\n",
       "      <td>1.000000</td>\n",
       "    </tr>\n",
       "    <tr>\n",
       "      <th>6</th>\n",
       "      <td>LogisticRegression</td>\n",
       "      <td>1.000000</td>\n",
       "    </tr>\n",
       "    <tr>\n",
       "      <th>3</th>\n",
       "      <td>DecisionTree</td>\n",
       "      <td>0.998221</td>\n",
       "    </tr>\n",
       "  </tbody>\n",
       "</table>\n",
       "</div>"
      ],
      "text/plain": [
       "                Model  Mean Accuracy\n",
       "0        RandomForest       1.000000\n",
       "1             XGBoost       1.000000\n",
       "2                LGBM       1.000000\n",
       "4                 KNN       1.000000\n",
       "5                 SVC       1.000000\n",
       "6  LogisticRegression       1.000000\n",
       "3        DecisionTree       0.998221"
      ]
     },
     "execution_count": 34,
     "metadata": {},
     "output_type": "execute_result"
    }
   ],
   "source": [
    "cv_results_df = pd.DataFrame(list(cv_results.items()), columns=['Model', 'Mean Accuracy'])\n",
    "cv_results_df = cv_results_df.sort_values(by='Mean Accuracy', ascending=False)\n",
    "cv_results_df"
   ]
  },
  {
   "cell_type": "code",
   "execution_count": 35,
   "id": "6fbc73a5",
   "metadata": {
    "execution": {
     "iopub.execute_input": "2024-09-11T19:04:59.867729Z",
     "iopub.status.busy": "2024-09-11T19:04:59.866990Z",
     "iopub.status.idle": "2024-09-11T19:04:59.872439Z",
     "shell.execute_reply": "2024-09-11T19:04:59.871575Z"
    },
    "papermill": {
     "duration": 0.028747,
     "end_time": "2024-09-11T19:04:59.874529",
     "exception": false,
     "start_time": "2024-09-11T19:04:59.845782",
     "status": "completed"
    },
    "tags": []
   },
   "outputs": [
    {
     "name": "stdout",
     "output_type": "stream",
     "text": [
      "\n",
      "Best model from CV: RandomForest\n"
     ]
    }
   ],
   "source": [
    "best_model_name = cv_results_df.iloc[0]['Model']\n",
    "print(f\"\\nBest model from CV: {best_model_name}\")"
   ]
  },
  {
   "cell_type": "code",
   "execution_count": 36,
   "id": "12f43a6a",
   "metadata": {
    "execution": {
     "iopub.execute_input": "2024-09-11T19:04:59.916435Z",
     "iopub.status.busy": "2024-09-11T19:04:59.915718Z",
     "iopub.status.idle": "2024-09-11T19:05:00.332806Z",
     "shell.execute_reply": "2024-09-11T19:05:00.331859Z"
    },
    "papermill": {
     "duration": 0.440752,
     "end_time": "2024-09-11T19:05:00.335334",
     "exception": false,
     "start_time": "2024-09-11T19:04:59.894582",
     "status": "completed"
    },
    "tags": []
   },
   "outputs": [
    {
     "data": {
      "image/png": "[encoded data removed]",
      "text/plain": [
       "<Figure size 1000x600 with 1 Axes>"
      ]
     },
     "metadata": {},
     "output_type": "display_data"
    }
   ],
   "source": [
    "plt.style.use('dark_background')\n",
    "plt.figure(figsize=(10, 6))\n",
    "sns.barplot(data=cv_results_df, x='Model', y='Mean Accuracy', palette=\"Set1\")\n",
    "plt.title('Cross-Validation Accuracy for Different Models', fontsize=16, color='white')\n",
    "plt.xlabel('Model', color='white')\n",
    "plt.ylabel('Mean Accuracy', color='white')\n",
    "for index, row in cv_results_df.iterrows():\n",
    "    plt.text(index, row['Mean Accuracy'] - 0.02, f'{row[\"Mean Accuracy\"]:.4f}', \n",
    "             color='white', ha=\"center\", va=\"center\", fontsize=12)\n",
    "plt.tight_layout()\n",
    "plt.show()"
   ]
  },
  {
   "cell_type": "code",
   "execution_count": 37,
   "id": "3642ac13",
   "metadata": {
    "execution": {
     "iopub.execute_input": "2024-09-11T19:05:00.378774Z",
     "iopub.status.busy": "2024-09-11T19:05:00.378048Z",
     "iopub.status.idle": "2024-09-11T19:21:49.693584Z",
     "shell.execute_reply": "2024-09-11T19:21:49.692460Z"
    },
    "papermill": {
     "duration": 1009.339021,
     "end_time": "2024-09-11T19:21:49.695572",
     "exception": false,
     "start_time": "2024-09-11T19:05:00.356551",
     "status": "completed"
    },
    "tags": []
   },
   "outputs": [
    {
     "name": "stdout",
     "output_type": "stream",
     "text": [
      "\n",
      "Performing GridSearchCV for RandomForest...\n",
      "Fitting 5 folds for each of 60 candidates, totalling 300 fits\n",
      "\n",
      "Best parameters for RandomForest: {'max_depth': None, 'min_samples_split': 2, 'n_estimators': 10}\n",
      "Best cross-validation score for RandomForest: 1.0000\n",
      "\n",
      "Performing GridSearchCV for XGBoost...\n",
      "Fitting 5 folds for each of 81 candidates, totalling 405 fits\n",
      "\n",
      "Best parameters for XGBoost: {'learning_rate': 0.1, 'max_depth': 3, 'n_estimators': 50, 'subsample': 0.6}\n",
      "Best cross-validation score for XGBoost: 1.0000\n",
      "\n",
      "Performing GridSearchCV for LGBM...\n",
      "Fitting 5 folds for each of 27 candidates, totalling 135 fits\n",
      "\n",
      "Best parameters for LGBM: {'learning_rate': 0.01, 'max_depth': -1, 'n_estimators': 50}\n",
      "Best cross-validation score for LGBM: 1.0000\n",
      "\n",
      "Performing GridSearchCV for DecisionTree...\n",
      "Fitting 5 folds for each of 12 candidates, totalling 60 fits\n",
      "\n",
      "Best parameters for DecisionTree: {'max_depth': None, 'min_samples_split': 2}\n",
      "Best cross-validation score for DecisionTree: 0.9982\n",
      "\n",
      "Performing GridSearchCV for KNN...\n",
      "Fitting 5 folds for each of 12 candidates, totalling 60 fits\n",
      "\n",
      "Best parameters for KNN: {'n_neighbors': 3, 'p': 1, 'weights': 'uniform'}\n",
      "Best cross-validation score for KNN: 1.0000\n",
      "\n",
      "Performing GridSearchCV for SVC...\n",
      "Fitting 5 folds for each of 18 candidates, totalling 90 fits\n",
      "\n",
      "Best parameters for SVC: {'C': 0.1, 'gamma': 'scale', 'kernel': 'linear'}\n",
      "Best cross-validation score for SVC: 1.0000\n",
      "\n",
      "Performing GridSearchCV for LogisticRegression...\n",
      "Fitting 5 folds for each of 16 candidates, totalling 80 fits\n"
     ]
    },
    {
     "name": "stderr",
     "output_type": "stream",
     "text": [
      "/opt/conda/lib/python3.10/site-packages/sklearn/linear_model/_sag.py:350: ConvergenceWarning: The max_iter was reached which means the coef_ did not converge\n",
      "  warnings.warn(\n",
      "/opt/conda/lib/python3.10/site-packages/sklearn/linear_model/_sag.py:350: ConvergenceWarning: The max_iter was reached which means the coef_ did not converge\n",
      "  warnings.warn(\n",
      "/opt/conda/lib/python3.10/site-packages/sklearn/linear_model/_sag.py:350: ConvergenceWarning: The max_iter was reached which means the coef_ did not converge\n",
      "  warnings.warn(\n",
      "/opt/conda/lib/python3.10/site-packages/sklearn/linear_model/_sag.py:350: ConvergenceWarning: The max_iter was reached which means the coef_ did not converge\n",
      "  warnings.warn(\n",
      "/opt/conda/lib/python3.10/site-packages/sklearn/linear_model/_sag.py:350: ConvergenceWarning: The max_iter was reached which means the coef_ did not converge\n",
      "  warnings.warn(\n",
      "/opt/conda/lib/python3.10/site-packages/sklearn/linear_model/_sag.py:350: ConvergenceWarning: The max_iter was reached which means the coef_ did not converge\n",
      "  warnings.warn(\n",
      "/opt/conda/lib/python3.10/site-packages/sklearn/linear_model/_sag.py:350: ConvergenceWarning: The max_iter was reached which means the coef_ did not converge\n",
      "  warnings.warn(\n",
      "/opt/conda/lib/python3.10/site-packages/sklearn/linear_model/_sag.py:350: ConvergenceWarning: The max_iter was reached which means the coef_ did not converge\n",
      "  warnings.warn(\n",
      "/opt/conda/lib/python3.10/site-packages/sklearn/linear_model/_sag.py:350: ConvergenceWarning: The max_iter was reached which means the coef_ did not converge\n",
      "  warnings.warn(\n",
      "/opt/conda/lib/python3.10/site-packages/sklearn/linear_model/_sag.py:350: ConvergenceWarning: The max_iter was reached which means the coef_ did not converge\n",
      "  warnings.warn(\n",
      "/opt/conda/lib/python3.10/site-packages/sklearn/linear_model/_sag.py:350: ConvergenceWarning: The max_iter was reached which means the coef_ did not converge\n",
      "  warnings.warn(\n",
      "/opt/conda/lib/python3.10/site-packages/sklearn/linear_model/_sag.py:350: ConvergenceWarning: The max_iter was reached which means the coef_ did not converge\n",
      "  warnings.warn(\n",
      "/opt/conda/lib/python3.10/site-packages/sklearn/linear_model/_sag.py:350: ConvergenceWarning: The max_iter was reached which means the coef_ did not converge\n",
      "  warnings.warn(\n",
      "/opt/conda/lib/python3.10/site-packages/sklearn/linear_model/_sag.py:350: ConvergenceWarning: The max_iter was reached which means the coef_ did not converge\n",
      "  warnings.warn(\n",
      "/opt/conda/lib/python3.10/site-packages/sklearn/linear_model/_sag.py:350: ConvergenceWarning: The max_iter was reached which means the coef_ did not converge\n",
      "  warnings.warn(\n",
      "/opt/conda/lib/python3.10/site-packages/sklearn/linear_model/_sag.py:350: ConvergenceWarning: The max_iter was reached which means the coef_ did not converge\n",
      "  warnings.warn(\n",
      "/opt/conda/lib/python3.10/site-packages/sklearn/linear_model/_sag.py:350: ConvergenceWarning: The max_iter was reached which means the coef_ did not converge\n",
      "  warnings.warn(\n",
      "/opt/conda/lib/python3.10/site-packages/sklearn/linear_model/_sag.py:350: ConvergenceWarning: The max_iter was reached which means the coef_ did not converge\n",
      "  warnings.warn(\n",
      "/opt/conda/lib/python3.10/site-packages/sklearn/linear_model/_sag.py:350: ConvergenceWarning: The max_iter was reached which means the coef_ did not converge\n",
      "  warnings.warn(\n",
      "/opt/conda/lib/python3.10/site-packages/sklearn/linear_model/_sag.py:350: ConvergenceWarning: The max_iter was reached which means the coef_ did not converge\n",
      "  warnings.warn(\n",
      "/opt/conda/lib/python3.10/site-packages/sklearn/linear_model/_sag.py:350: ConvergenceWarning: The max_iter was reached which means the coef_ did not converge\n",
      "  warnings.warn(\n"
     ]
    },
    {
     "name": "stdout",
     "output_type": "stream",
     "text": [
      "\n",
      "Best parameters for LogisticRegression: {'C': 0.01, 'penalty': 'l2', 'solver': 'liblinear'}\n",
      "Best cross-validation score for LogisticRegression: 1.0000\n"
     ]
    }
   ],
   "source": [
    "### Search best Parameters\n",
    "param_grids = {\n",
    "    'RandomForest': {'n_estimators': [10, 20, 30, 40], 'max_depth': [None, 10, 20, 30, 40], 'min_samples_split': [2, 5, 10]},\n",
    "    'XGBoost': {'max_depth': [3, 5, 7], 'n_estimators': [50, 60, 70], 'subsample': [0.6, 0.8, 1], 'learning_rate': [0.01, 0.1, 0.2]},\n",
    "    'LGBM': {'n_estimators': [50, 100, 150], 'max_depth': [-1, 5, 10], 'learning_rate': [0.01, 0.05, 0.1]},\n",
    "    'DecisionTree': {'max_depth': [None, 10, 20, 30], 'min_samples_split': [2, 5, 10]},\n",
    "    'KNN': {'n_neighbors': [3, 5, 7], 'weights': ['uniform', 'distance'], 'p': [1, 2]},\n",
    "    'SVC': {'C': [0.1, 1, 10], 'kernel': ['linear', 'rbf', 'poly'], 'gamma': ['scale', 'auto']},\n",
    "    'LogisticRegression': {'C': [0.01, 0.1, 1, 10], 'penalty': ['l1', 'l2'], 'solver': ['liblinear', 'saga']}\n",
    "}\n",
    "best_results = []\n",
    "for model_name, model in models.items():\n",
    "    print(f\"\\nPerforming GridSearchCV for {model_name}...\")\n",
    "    grid_search = GridSearchCV(estimator=model, param_grid=param_grids[model_name], cv=5, scoring='accuracy', verbose=1, n_jobs=-1)\n",
    "    grid_search.fit(X_train, y_train)\n",
    "    best_params = grid_search.best_params_\n",
    "    best_score = grid_search.best_score_\n",
    "    # Store the best score and parameters\n",
    "    best_results.append({'Model': model_name, 'Best Score': best_score, 'Best Params': best_params})\n",
    "    print(f\"\\nBest parameters for {model_name}: {best_params}\")\n",
    "    print(f\"Best cross-validation score for {model_name}: {best_score:.4f}\")"
   ]
  },
  {
   "cell_type": "code",
   "execution_count": 38,
   "id": "5dfb42f7",
   "metadata": {
    "execution": {
     "iopub.execute_input": "2024-09-11T19:21:49.742391Z",
     "iopub.status.busy": "2024-09-11T19:21:49.742095Z",
     "iopub.status.idle": "2024-09-11T19:21:49.756671Z",
     "shell.execute_reply": "2024-09-11T19:21:49.755826Z"
    },
    "papermill": {
     "duration": 0.039978,
     "end_time": "2024-09-11T19:21:49.758773",
     "exception": false,
     "start_time": "2024-09-11T19:21:49.718795",
     "status": "completed"
    },
    "tags": []
   },
   "outputs": [
    {
     "data": {
      "text/html": [
       "<div>\n",
       "<style scoped>\n",
       "    .dataframe tbody tr th:only-of-type {\n",
       "        vertical-align: middle;\n",
       "    }\n",
       "\n",
       "    .dataframe tbody tr th {\n",
       "        vertical-align: top;\n",
       "    }\n",
       "\n",
       "    .dataframe thead th {\n",
       "        text-align: right;\n",
       "    }\n",
       "</style>\n",
       "<table border=\"1\" class=\"dataframe\">\n",
       "  <thead>\n",
       "    <tr style=\"text-align: right;\">\n",
       "      <th></th>\n",
       "      <th>Model</th>\n",
       "      <th>Best Score</th>\n",
       "      <th>Best Params</th>\n",
       "    </tr>\n",
       "  </thead>\n",
       "  <tbody>\n",
       "    <tr>\n",
       "      <th>0</th>\n",
       "      <td>RandomForest</td>\n",
       "      <td>1.000000</td>\n",
       "      <td>{'max_depth': None, 'min_samples_split': 2, 'n...</td>\n",
       "    </tr>\n",
       "    <tr>\n",
       "      <th>1</th>\n",
       "      <td>XGBoost</td>\n",
       "      <td>1.000000</td>\n",
       "      <td>{'learning_rate': 0.1, 'max_depth': 3, 'n_esti...</td>\n",
       "    </tr>\n",
       "    <tr>\n",
       "      <th>2</th>\n",
       "      <td>LGBM</td>\n",
       "      <td>1.000000</td>\n",
       "      <td>{'learning_rate': 0.01, 'max_depth': -1, 'n_es...</td>\n",
       "    </tr>\n",
       "    <tr>\n",
       "      <th>4</th>\n",
       "      <td>KNN</td>\n",
       "      <td>1.000000</td>\n",
       "      <td>{'n_neighbors': 3, 'p': 1, 'weights': 'uniform'}</td>\n",
       "    </tr>\n",
       "    <tr>\n",
       "      <th>5</th>\n",
       "      <td>SVC</td>\n",
       "      <td>1.000000</td>\n",
       "      <td>{'C': 0.1, 'gamma': 'scale', 'kernel': 'linear'}</td>\n",
       "    </tr>\n",
       "    <tr>\n",
       "      <th>6</th>\n",
       "      <td>LogisticRegression</td>\n",
       "      <td>1.000000</td>\n",
       "      <td>{'C': 0.01, 'penalty': 'l2', 'solver': 'liblin...</td>\n",
       "    </tr>\n",
       "    <tr>\n",
       "      <th>3</th>\n",
       "      <td>DecisionTree</td>\n",
       "      <td>0.998221</td>\n",
       "      <td>{'max_depth': None, 'min_samples_split': 2}</td>\n",
       "    </tr>\n",
       "  </tbody>\n",
       "</table>\n",
       "</div>"
      ],
      "text/plain": [
       "                Model  Best Score  \\\n",
       "0        RandomForest    1.000000   \n",
       "1             XGBoost    1.000000   \n",
       "2                LGBM    1.000000   \n",
       "4                 KNN    1.000000   \n",
       "5                 SVC    1.000000   \n",
       "6  LogisticRegression    1.000000   \n",
       "3        DecisionTree    0.998221   \n",
       "\n",
       "                                         Best Params  \n",
       "0  {'max_depth': None, 'min_samples_split': 2, 'n...  \n",
       "1  {'learning_rate': 0.1, 'max_depth': 3, 'n_esti...  \n",
       "2  {'learning_rate': 0.01, 'max_depth': -1, 'n_es...  \n",
       "4   {'n_neighbors': 3, 'p': 1, 'weights': 'uniform'}  \n",
       "5   {'C': 0.1, 'gamma': 'scale', 'kernel': 'linear'}  \n",
       "6  {'C': 0.01, 'penalty': 'l2', 'solver': 'liblin...  \n",
       "3        {'max_depth': None, 'min_samples_split': 2}  "
      ]
     },
     "execution_count": 38,
     "metadata": {},
     "output_type": "execute_result"
    }
   ],
   "source": [
    "best_results_df = pd.DataFrame(best_results)\n",
    "best_results_df = best_results_df.sort_values(by='Best Score', ascending=False)\n",
    "best_results_df"
   ]
  },
  {
   "cell_type": "code",
   "execution_count": 39,
   "id": "cdd49cbb",
   "metadata": {
    "execution": {
     "iopub.execute_input": "2024-09-11T19:21:49.805797Z",
     "iopub.status.busy": "2024-09-11T19:21:49.805485Z",
     "iopub.status.idle": "2024-09-11T19:21:49.810665Z",
     "shell.execute_reply": "2024-09-11T19:21:49.809846Z"
    },
    "papermill": {
     "duration": 0.030716,
     "end_time": "2024-09-11T19:21:49.812728",
     "exception": false,
     "start_time": "2024-09-11T19:21:49.782012",
     "status": "completed"
    },
    "tags": []
   },
   "outputs": [
    {
     "name": "stdout",
     "output_type": "stream",
     "text": [
      "\n",
      "Best model : RandomForest\n",
      "\n",
      "Best Parameters : {'max_depth': None, 'min_samples_split': 2, 'n_estimators': 10}\n"
     ]
    }
   ],
   "source": [
    "best_model_name, best_model_param = best_results_df.iloc[0]['Model'],best_results_df.iloc[0]['Best Params']\n",
    "print(f\"\\nBest model : {best_model_name}\")\n",
    "print(f\"\\nBest Parameters : {best_model_param}\")"
   ]
  },
  {
   "cell_type": "code",
   "execution_count": 40,
   "id": "8c4f24bb",
   "metadata": {
    "execution": {
     "iopub.execute_input": "2024-09-11T19:21:49.858995Z",
     "iopub.status.busy": "2024-09-11T19:21:49.858729Z",
     "iopub.status.idle": "2024-09-11T19:21:50.207050Z",
     "shell.execute_reply": "2024-09-11T19:21:50.205961Z"
    },
    "papermill": {
     "duration": 0.374133,
     "end_time": "2024-09-11T19:21:50.209369",
     "exception": false,
     "start_time": "2024-09-11T19:21:49.835236",
     "status": "completed"
    },
    "tags": []
   },
   "outputs": [
    {
     "data": {
      "image/png": "[encoded data removed]",
      "text/plain": [
       "<Figure size 1000x600 with 1 Axes>"
      ]
     },
     "metadata": {},
     "output_type": "display_data"
    }
   ],
   "source": [
    "plt.style.use('dark_background')\n",
    "plt.figure(figsize=(10, 6))\n",
    "sns.barplot(data=best_results_df, x='Model', y='Best Score', palette=\"Set1\")\n",
    "plt.title('Best Cross-Validation Scores for All Models', fontsize=16, color='white')\n",
    "plt.xlabel('Model', color='white')\n",
    "plt.ylabel('Best Score', color='white')\n",
    "for index, row in best_results_df.iterrows():\n",
    "    plt.text(index, row['Best Score'] - 0.02, f'{row[\"Best Score\"]:.4f}', \n",
    "             color='white', ha=\"center\", va=\"center\", fontsize=12)\n",
    "plt.tight_layout()\n",
    "plt.show()"
   ]
  },
  {
   "cell_type": "code",
   "execution_count": 41,
   "id": "5ac82479",
   "metadata": {
    "execution": {
     "iopub.execute_input": "2024-09-11T19:21:50.260216Z",
     "iopub.status.busy": "2024-09-11T19:21:50.259412Z",
     "iopub.status.idle": "2024-09-11T19:21:50.320766Z",
     "shell.execute_reply": "2024-09-11T19:21:50.319773Z"
    },
    "papermill": {
     "duration": 0.088556,
     "end_time": "2024-09-11T19:21:50.323013",
     "exception": false,
     "start_time": "2024-09-11T19:21:50.234457",
     "status": "completed"
    },
    "tags": []
   },
   "outputs": [
    {
     "data": {
      "text/html": [
       "<style>#sk-container-id-1 {color: black;background-color: white;}#sk-container-id-1 pre{padding: 0;}#sk-container-id-1 div.sk-toggleable {background-color: white;}#sk-container-id-1 label.sk-toggleable__label {cursor: pointer;display: block;width: 100%;margin-bottom: 0;padding: 0.3em;box-sizing: border-box;text-align: center;}#sk-container-id-1 label.sk-toggleable__label-arrow:before {content: \"▸\";float: left;margin-right: 0.25em;color: #696969;}#sk-container-id-1 label.sk-toggleable__label-arrow:hover:before {color: black;}#sk-container-id-1 div.sk-estimator:hover label.sk-toggleable__label-arrow:before {color: black;}#sk-container-id-1 div.sk-toggleable__content {max-height: 0;max-width: 0;overflow: hidden;text-align: left;background-color: #f0f8ff;}#sk-container-id-1 div.sk-toggleable__content pre {margin: 0.2em;color: black;border-radius: 0.25em;background-color: #f0f8ff;}#sk-container-id-1 input.sk-toggleable__control:checked~div.sk-toggleable__content {max-height: 200px;max-width: 100%;overflow: auto;}#sk-container-id-1 input.sk-toggleable__control:checked~label.sk-toggleable__label-arrow:before {content: \"▾\";}#sk-container-id-1 div.sk-estimator input.sk-toggleable__control:checked~label.sk-toggleable__label {background-color: #d4ebff;}#sk-container-id-1 div.sk-label input.sk-toggleable__control:checked~label.sk-toggleable__label {background-color: #d4ebff;}#sk-container-id-1 input.sk-hidden--visually {border: 0;clip: rect(1px 1px 1px 1px);clip: rect(1px, 1px, 1px, 1px);height: 1px;margin: -1px;overflow: hidden;padding: 0;position: absolute;width: 1px;}#sk-container-id-1 div.sk-estimator {font-family: monospace;background-color: #f0f8ff;border: 1px dotted black;border-radius: 0.25em;box-sizing: border-box;margin-bottom: 0.5em;}#sk-container-id-1 div.sk-estimator:hover {background-color: #d4ebff;}#sk-container-id-1 div.sk-parallel-item::after {content: \"\";width: 100%;border-bottom: 1px solid gray;flex-grow: 1;}#sk-container-id-1 div.sk-label:hover label.sk-toggleable__label {background-color: #d4ebff;}#sk-container-id-1 div.sk-serial::before {content: \"\";position: absolute;border-left: 1px solid gray;box-sizing: border-box;top: 0;bottom: 0;left: 50%;z-index: 0;}#sk-container-id-1 div.sk-serial {display: flex;flex-direction: column;align-items: center;background-color: white;padding-right: 0.2em;padding-left: 0.2em;position: relative;}#sk-container-id-1 div.sk-item {position: relative;z-index: 1;}#sk-container-id-1 div.sk-parallel {display: flex;align-items: stretch;justify-content: center;background-color: white;position: relative;}#sk-container-id-1 div.sk-item::before, #sk-container-id-1 div.sk-parallel-item::before {content: \"\";position: absolute;border-left: 1px solid gray;box-sizing: border-box;top: 0;bottom: 0;left: 50%;z-index: -1;}#sk-container-id-1 div.sk-parallel-item {display: flex;flex-direction: column;z-index: 1;position: relative;background-color: white;}#sk-container-id-1 div.sk-parallel-item:first-child::after {align-self: flex-end;width: 50%;}#sk-container-id-1 div.sk-parallel-item:last-child::after {align-self: flex-start;width: 50%;}#sk-container-id-1 div.sk-parallel-item:only-child::after {width: 0;}#sk-container-id-1 div.sk-dashed-wrapped {border: 1px dashed gray;margin: 0 0.4em 0.5em 0.4em;box-sizing: border-box;padding-bottom: 0.4em;background-color: white;}#sk-container-id-1 div.sk-label label {font-family: monospace;font-weight: bold;display: inline-block;line-height: 1.2em;}#sk-container-id-1 div.sk-label-container {text-align: center;}#sk-container-id-1 div.sk-container {/* jupyter's `normalize.less` sets `[hidden] { display: none; }` but bootstrap.min.css set `[hidden] { display: none !important; }` so we also need the `!important` here to be able to override the default hidden behavior on the sphinx rendered scikit-learn.org. See: https://github.com/scikit-learn/scikit-learn/issues/21755 */display: inline-block !important;position: relative;}#sk-container-id-1 div.sk-text-repr-fallback {display: none;}</style><div id=\"sk-container-id-1\" class=\"sk-top-container\"><div class=\"sk-text-repr-fallback\"><pre>RandomForestClassifier(n_estimators=10)</pre><b>In a Jupyter environment, please rerun this cell to show the HTML representation or trust the notebook. <br />On GitHub, the HTML representation is unable to render, please try loading this page with nbviewer.org.</b></div><div class=\"sk-container\" hidden><div class=\"sk-item\"><div class=\"sk-estimator sk-toggleable\"><input class=\"sk-toggleable__control sk-hidden--visually\" id=\"sk-estimator-id-1\" type=\"checkbox\" checked><label for=\"sk-estimator-id-1\" class=\"sk-toggleable__label sk-toggleable__label-arrow\">RandomForestClassifier</label><div class=\"sk-toggleable__content\"><pre>RandomForestClassifier(n_estimators=10)</pre></div></div></div></div></div>"
      ],
      "text/plain": [
       "RandomForestClassifier(n_estimators=10)"
      ]
     },
     "execution_count": 41,
     "metadata": {},
     "output_type": "execute_result"
    }
   ],
   "source": [
    "########## Best Model Training\n",
    "model = RandomForestClassifier(max_depth = None, min_samples_split = 2, n_estimators = 10)\n",
    "model.fit(X_train, y_train)"
   ]
  },
  {
   "cell_type": "code",
   "execution_count": 42,
   "id": "7082a481",
   "metadata": {
    "execution": {
     "iopub.execute_input": "2024-09-11T19:21:50.372205Z",
     "iopub.status.busy": "2024-09-11T19:21:50.371466Z",
     "iopub.status.idle": "2024-09-11T19:21:50.414011Z",
     "shell.execute_reply": "2024-09-11T19:21:50.413067Z"
    },
    "papermill": {
     "duration": 0.069215,
     "end_time": "2024-09-11T19:21:50.415967",
     "exception": false,
     "start_time": "2024-09-11T19:21:50.346752",
     "status": "completed"
    },
    "tags": []
   },
   "outputs": [
    {
     "name": "stdout",
     "output_type": "stream",
     "text": [
      "Training Accuracy: 1.00\n",
      "Training Precision: 1.00\n",
      "Training Recall: 1.00\n",
      "Training F1-Score: 1.00\n",
      "---\n",
      "Test Accuracy: 1.00\n",
      "Test Precision: 1.00\n",
      "Test Recall: 1.00\n",
      "Test F1-Score: 1.00\n"
     ]
    }
   ],
   "source": [
    "### Evaluate the model\n",
    "y_train_pred = model.predict(X_train)\n",
    "y_test_pred = model.predict(X_test)\n",
    "train_accuracy = accuracy_score(y_train, y_train_pred)\n",
    "train_precision = precision_score(y_train, y_train_pred,average='micro')  \n",
    "train_recall = recall_score(y_train, y_train_pred,average='micro')  \n",
    "train_f1 = f1_score(y_train, y_train_pred,average='micro')  \n",
    "test_accuracy = accuracy_score(y_test, y_test_pred)\n",
    "test_precision = precision_score(y_test, y_test_pred,average='micro') \n",
    "test_recall = recall_score(y_test, y_test_pred,average='micro')  \n",
    "test_f1 = f1_score(y_test, y_test_pred,average='micro') \n",
    "print(f'Training Accuracy: {train_accuracy:.2f}')\n",
    "print(f'Training Precision: {train_precision:.2f}')\n",
    "print(f'Training Recall: {train_recall:.2f}')\n",
    "print(f'Training F1-Score: {train_f1:.2f}')\n",
    "print('---')\n",
    "print(f'Test Accuracy: {test_accuracy:.2f}')\n",
    "print(f'Test Precision: {test_precision:.2f}')\n",
    "print(f'Test Recall: {test_recall:.2f}')\n",
    "print(f'Test F1-Score: {test_f1:.2f}')"
   ]
  },
  {
   "cell_type": "code",
   "execution_count": 43,
   "id": "1368e5c1",
   "metadata": {
    "execution": {
     "iopub.execute_input": "2024-09-11T19:21:50.465306Z",
     "iopub.status.busy": "2024-09-11T19:21:50.464607Z",
     "iopub.status.idle": "2024-09-11T19:21:54.066147Z",
     "shell.execute_reply": "2024-09-11T19:21:54.065191Z"
    },
    "papermill": {
     "duration": 3.629729,
     "end_time": "2024-09-11T19:21:54.069782",
     "exception": false,
     "start_time": "2024-09-11T19:21:50.440053",
     "status": "completed"
    },
    "tags": []
   },
   "outputs": [
    {
     "name": "stdout",
     "output_type": "stream",
     "text": [
      "Confusion Matrix is : \n",
      " [[24  0  0 ...  0  0  0]\n",
      " [ 0 24  0 ...  0  0  0]\n",
      " [ 0  0 24 ...  0  0  0]\n",
      " ...\n",
      " [ 0  0  0 ... 24  0  0]\n",
      " [ 0  0  0 ...  0 24  0]\n",
      " [ 0  0  0 ...  0  0 24]]\n"
     ]
    },
    {
     "data": {
      "image/png": "[encoded data removed]",
      "text/plain": [
       "<Figure size 2000x1000 with 2 Axes>"
      ]
     },
     "metadata": {},
     "output_type": "display_data"
    }
   ],
   "source": [
    "### Check model\n",
    "CM = confusion_matrix(y_test, y_test_pred)\n",
    "print('Confusion Matrix is : \\n', CM)\n",
    "plt.figure(figsize=(20,10))\n",
    "sns.heatmap(data=CM, annot=True,fmt='g', cmap=\"Blues\", xticklabels=names, yticklabels=names)\n",
    "plt.xlabel('Predicted values')\n",
    "plt.ylabel('Actual values')\n",
    "plt.title(f'Confusion Matrix for {best_model_name} Algorithm')\n",
    "plt.show()"
   ]
  },
  {
   "cell_type": "code",
   "execution_count": 44,
   "id": "85f38d9b",
   "metadata": {
    "execution": {
     "iopub.execute_input": "2024-09-11T19:21:54.128498Z",
     "iopub.status.busy": "2024-09-11T19:21:54.127875Z",
     "iopub.status.idle": "2024-09-11T19:21:54.142570Z",
     "shell.execute_reply": "2024-09-11T19:21:54.141411Z"
    },
    "papermill": {
     "duration": 0.045677,
     "end_time": "2024-09-11T19:21:54.144468",
     "exception": false,
     "start_time": "2024-09-11T19:21:54.098791",
     "status": "completed"
    },
    "tags": []
   },
   "outputs": [
    {
     "name": "stdout",
     "output_type": "stream",
     "text": [
      "Classification Report is :                                           precision    recall  f1-score   support\n",
      "\n",
      "                       Fungal infection       1.00      1.00      1.00        24\n",
      "                                Allergy       1.00      1.00      1.00        24\n",
      "                                   GERD       1.00      1.00      1.00        24\n",
      "                    Chronic cholestasis       1.00      1.00      1.00        24\n",
      "                          Drug Reaction       1.00      1.00      1.00        24\n",
      "                    Peptic ulcer diseae       1.00      1.00      1.00        24\n",
      "                                   AIDS       1.00      1.00      1.00        24\n",
      "                              Diabetes        1.00      1.00      1.00        24\n",
      "                        Gastroenteritis       1.00      1.00      1.00        24\n",
      "                       Bronchial Asthma       1.00      1.00      1.00        24\n",
      "                          Hypertension        1.00      1.00      1.00        24\n",
      "                               Migraine       1.00      1.00      1.00        24\n",
      "                   Cervical spondylosis       1.00      1.00      1.00        24\n",
      "           Paralysis (brain hemorrhage)       1.00      1.00      1.00        24\n",
      "                               Jaundice       1.00      1.00      1.00        24\n",
      "                                Malaria       1.00      1.00      1.00        24\n",
      "                            Chicken pox       1.00      1.00      1.00        24\n",
      "                                 Dengue       1.00      1.00      1.00        24\n",
      "                                Typhoid       1.00      1.00      1.00        24\n",
      "                            hepatitis A       1.00      1.00      1.00        24\n",
      "                            Hepatitis B       1.00      1.00      1.00        24\n",
      "                            Hepatitis C       1.00      1.00      1.00        24\n",
      "                            Hepatitis D       1.00      1.00      1.00        24\n",
      "                            Hepatitis E       1.00      1.00      1.00        24\n",
      "                    Alcoholic hepatitis       1.00      1.00      1.00        24\n",
      "                           Tuberculosis       1.00      1.00      1.00        24\n",
      "                            Common Cold       1.00      1.00      1.00        24\n",
      "                              Pneumonia       1.00      1.00      1.00        24\n",
      "           Dimorphic hemmorhoids(piles)       1.00      1.00      1.00        24\n",
      "                           Heart attack       1.00      1.00      1.00        24\n",
      "                         Varicose veins       1.00      1.00      1.00        24\n",
      "                         Hypothyroidism       1.00      1.00      1.00        24\n",
      "                        Hyperthyroidism       1.00      1.00      1.00        24\n",
      "                           Hypoglycemia       1.00      1.00      1.00        24\n",
      "                        Osteoarthristis       1.00      1.00      1.00        24\n",
      "                              Arthritis       1.00      1.00      1.00        24\n",
      "(vertigo) Paroymsal  Positional Vertigo       1.00      1.00      1.00        24\n",
      "                                   Acne       1.00      1.00      1.00        24\n",
      "                Urinary tract infection       1.00      1.00      1.00        24\n",
      "                              Psoriasis       1.00      1.00      1.00        24\n",
      "                               Impetigo       1.00      1.00      1.00        24\n",
      "\n",
      "                               accuracy                           1.00       984\n",
      "                              macro avg       1.00      1.00      1.00       984\n",
      "                           weighted avg       1.00      1.00      1.00       984\n",
      "\n"
     ]
    }
   ],
   "source": [
    "ClassificationReport = classification_report(y_test,y_test_pred,target_names=names)\n",
    "print('Classification Report is : ', ClassificationReport )"
   ]
  },
  {
   "cell_type": "code",
   "execution_count": 45,
   "id": "5261a790",
   "metadata": {
    "execution": {
     "iopub.execute_input": "2024-09-11T19:21:54.203629Z",
     "iopub.status.busy": "2024-09-11T19:21:54.202947Z",
     "iopub.status.idle": "2024-09-11T19:21:54.208830Z",
     "shell.execute_reply": "2024-09-11T19:21:54.208074Z"
    },
    "papermill": {
     "duration": 0.037624,
     "end_time": "2024-09-11T19:21:54.210817",
     "exception": false,
     "start_time": "2024-09-11T19:21:54.173193",
     "status": "completed"
    },
    "tags": []
   },
   "outputs": [],
   "source": [
    "pickle.dump(model,open('random.pkl','wb'))"
   ]
  },
  {
   "cell_type": "markdown",
   "id": "21334a1f",
   "metadata": {
    "papermill": {
     "duration": 0.029063,
     "end_time": "2024-09-11T19:21:54.268646",
     "exception": false,
     "start_time": "2024-09-11T19:21:54.239583",
     "status": "completed"
    },
    "tags": []
   },
   "source": [
    "**<a id=\"5\"></a>\n",
    "<h1><b><p style=\"background-image: url(https://i.postimg.cc/0Qwf8YX6/2927262.jpg);font-family:camtasia;font-size:110%;color:white;text-align:center;border-radius:15px 50px; padding:7px; border:solid 2px #09375b; box-shadow: 10px 10px 10px #042b4c\">Logic for Recommendations</p></b></h1>\n",
    "<a class=\"btn\" href=\"#home\">Tabel of Contents</a>"
   ]
  },
  {
   "cell_type": "code",
   "execution_count": 46,
   "id": "904769b2",
   "metadata": {
    "execution": {
     "iopub.execute_input": "2024-09-11T19:21:54.330871Z",
     "iopub.status.busy": "2024-09-11T19:21:54.330504Z",
     "iopub.status.idle": "2024-09-11T19:21:54.341989Z",
     "shell.execute_reply": "2024-09-11T19:21:54.340991Z"
    },
    "papermill": {
     "duration": 0.046436,
     "end_time": "2024-09-11T19:21:54.343878",
     "exception": false,
     "start_time": "2024-09-11T19:21:54.297442",
     "status": "completed"
    },
    "tags": []
   },
   "outputs": [
    {
     "name": "stdout",
     "output_type": "stream",
     "text": [
      "*******************symptoms_dict*****************\n",
      "\n",
      " {'itching': 0, 'skin_rash': 1, 'nodal_skin_eruptions': 2, 'continuous_sneezing': 3, 'shivering': 4, 'chills': 5, 'joint_pain': 6, 'stomach_pain': 7, 'acidity': 8, 'ulcers_on_tongue': 9, 'muscle_wasting': 10, 'vomiting': 11, 'burning_micturition': 12, 'spotting_ urination': 13, 'fatigue': 14, 'weight_gain': 15, 'anxiety': 16, 'cold_hands_and_feets': 17, 'mood_swings': 18, 'weight_loss': 19, 'restlessness': 20, 'lethargy': 21, 'patches_in_throat': 22, 'irregular_sugar_level': 23, 'cough': 24, 'high_fever': 25, 'sunken_eyes': 26, 'breathlessness': 27, 'sweating': 28, 'dehydration': 29, 'indigestion': 30, 'headache': 31, 'yellowish_skin': 32, 'dark_urine': 33, 'nausea': 34, 'loss_of_appetite': 35, 'pain_behind_the_eyes': 36, 'back_pain': 37, 'constipation': 38, 'abdominal_pain': 39, 'diarrhoea': 40, 'mild_fever': 41, 'yellow_urine': 42, 'yellowing_of_eyes': 43, 'acute_liver_failure': 44, 'fluid_overload': 45, 'swelling_of_stomach': 46, 'swelled_lymph_nodes': 47, 'malaise': 48, 'blurred_and_distorted_vision': 49, 'phlegm': 50, 'throat_irritation': 51, 'redness_of_eyes': 52, 'sinus_pressure': 53, 'runny_nose': 54, 'congestion': 55, 'chest_pain': 56, 'weakness_in_limbs': 57, 'fast_heart_rate': 58, 'pain_during_bowel_movements': 59, 'pain_in_anal_region': 60, 'bloody_stool': 61, 'irritation_in_anus': 62, 'neck_pain': 63, 'dizziness': 64, 'cramps': 65, 'bruising': 66, 'obesity': 67, 'swollen_legs': 68, 'swollen_blood_vessels': 69, 'puffy_face_and_eyes': 70, 'enlarged_thyroid': 71, 'brittle_nails': 72, 'swollen_extremeties': 73, 'excessive_hunger': 74, 'extra_marital_contacts': 75, 'drying_and_tingling_lips': 76, 'slurred_speech': 77, 'knee_pain': 78, 'hip_joint_pain': 79, 'muscle_weakness': 80, 'stiff_neck': 81, 'swelling_joints': 82, 'movement_stiffness': 83, 'spinning_movements': 84, 'loss_of_balance': 85, 'unsteadiness': 86, 'weakness_of_one_body_side': 87, 'loss_of_smell': 88, 'bladder_discomfort': 89, 'foul_smell_of urine': 90, 'continuous_feel_of_urine': 91, 'passage_of_gases': 92, 'internal_itching': 93, 'toxic_look_(typhos)': 94, 'depression': 95, 'irritability': 96, 'muscle_pain': 97, 'altered_sensorium': 98, 'red_spots_over_body': 99, 'belly_pain': 100, 'abnormal_menstruation': 101, 'dischromic _patches': 102, 'watering_from_eyes': 103, 'increased_appetite': 104, 'polyuria': 105, 'family_history': 106, 'mucoid_sputum': 107, 'rusty_sputum': 108, 'lack_of_concentration': 109, 'visual_disturbances': 110, 'receiving_blood_transfusion': 111, 'receiving_unsterile_injections': 112, 'coma': 113, 'stomach_bleeding': 114, 'distention_of_abdomen': 115, 'history_of_alcohol_consumption': 116, 'fluid_overload.1': 117, 'blood_in_sputum': 118, 'prominent_veins_on_calf': 119, 'palpitations': 120, 'painful_walking': 121, 'pus_filled_pimples': 122, 'blackheads': 123, 'scurring': 124, 'skin_peeling': 125, 'silver_like_dusting': 126, 'small_dents_in_nails': 127, 'inflammatory_nails': 128, 'blister': 129, 'red_sore_around_nose': 130, 'yellow_crust_ooze': 131}\n",
      "\n",
      "\n",
      "*******************diseases_list*****************\n",
      "\n",
      " {15: 'Fungal infection', 4: 'Allergy', 16: 'GERD', 9: 'Chronic cholestasis', 14: 'Drug Reaction', 33: 'Peptic ulcer diseae', 1: 'AIDS', 12: 'Diabetes ', 17: 'Gastroenteritis', 6: 'Bronchial Asthma', 23: 'Hypertension ', 30: 'Migraine', 7: 'Cervical spondylosis', 32: 'Paralysis (brain hemorrhage)', 28: 'Jaundice', 29: 'Malaria', 8: 'Chicken pox', 11: 'Dengue', 37: 'Typhoid', 40: 'hepatitis A', 19: 'Hepatitis B', 20: 'Hepatitis C', 21: 'Hepatitis D', 22: 'Hepatitis E', 3: 'Alcoholic hepatitis', 36: 'Tuberculosis', 10: 'Common Cold', 34: 'Pneumonia', 13: 'Dimorphic hemmorhoids(piles)', 18: 'Heart attack', 39: 'Varicose veins', 26: 'Hypothyroidism', 24: 'Hyperthyroidism', 25: 'Hypoglycemia', 31: 'Osteoarthristis', 5: 'Arthritis', 0: '(vertigo) Paroymsal  Positional Vertigo', 2: 'Acne', 38: 'Urinary tract infection', 35: 'Psoriasis', 27: 'Impetigo'}\n"
     ]
    }
   ],
   "source": [
    "symptoms_dict = {}\n",
    "diseases_list = {}\n",
    "for name in names:\n",
    "    diseases_list[label.transform([name])[0]] = name\n",
    "with open('diseases_list.pkl', 'wb') as f:\n",
    "    pickle.dump(diseases_list, f)\n",
    "for i,name in enumerate(keys):\n",
    "    symptoms_dict[name] = i\n",
    "with open('symptoms_dict.pkl', 'wb') as f:\n",
    "    pickle.dump(symptoms_dict, f)\n",
    "print('*******************symptoms_dict*****************\\n\\n',symptoms_dict)\n",
    "print('\\n\\n*******************diseases_list*****************\\n\\n',diseases_list)"
   ]
  },
  {
   "cell_type": "code",
   "execution_count": 47,
   "id": "b9012238",
   "metadata": {
    "execution": {
     "iopub.execute_input": "2024-09-11T19:21:54.401934Z",
     "iopub.status.busy": "2024-09-11T19:21:54.401609Z",
     "iopub.status.idle": "2024-09-11T19:21:54.409851Z",
     "shell.execute_reply": "2024-09-11T19:21:54.408974Z"
    },
    "papermill": {
     "duration": 0.039302,
     "end_time": "2024-09-11T19:21:54.411650",
     "exception": false,
     "start_time": "2024-09-11T19:21:54.372348",
     "status": "completed"
    },
    "tags": []
   },
   "outputs": [],
   "source": [
    "\n",
    "def helper(dis):\n",
    "    desc = description[description['Disease'] == predicted_disease]['Description']\n",
    "    desc = \" \".join([w for w in desc])\n",
    "\n",
    "    pre = precautions_df[precautions_df['Disease'] == dis][['Precaution_1', 'Precaution_2', 'Precaution_3', 'Precaution_4']]\n",
    "    pre = [col for col in pre.values]\n",
    "\n",
    "    med = medications[medications['Disease'] == dis]['Medication']\n",
    "    med = [med for med in med.values]\n",
    "\n",
    "    die = diets[diets['Disease'] == dis]['Diet']\n",
    "    die = [die for die in die.values]\n",
    "\n",
    "    wrkout = workout_df[workout_df['disease'] == dis] ['workout']\n",
    "\n",
    "\n",
    "    return desc,pre,med,die,wrkout\n",
    "\n",
    "# Model Prediction function\n",
    "def get_predicted_value(patient_symptoms):\n",
    "    input_vector = np.zeros(len(symptoms_dict))\n",
    "    for item in patient_symptoms:\n",
    "        input_vector[symptoms_dict[item]] = 1\n",
    "    return diseases_list[model.predict([input_vector])[0]]"
   ]
  },
  {
   "cell_type": "code",
   "execution_count": 48,
   "id": "6132b3f7",
   "metadata": {
    "execution": {
     "iopub.execute_input": "2024-09-11T19:21:54.469775Z",
     "iopub.status.busy": "2024-09-11T19:21:54.469379Z",
     "iopub.status.idle": "2024-09-11T19:21:54.490902Z",
     "shell.execute_reply": "2024-09-11T19:21:54.489633Z"
    },
    "papermill": {
     "duration": 0.053289,
     "end_time": "2024-09-11T19:21:54.493193",
     "exception": false,
     "start_time": "2024-09-11T19:21:54.439904",
     "status": "completed"
    },
    "tags": []
   },
   "outputs": [
    {
     "name": "stdout",
     "output_type": "stream",
     "text": [
      "=================predicted disease============\n",
      "Impetigo\n",
      "=================description==================\n",
      "Impetigo is a highly contagious skin infection causing red sores that can break open.\n",
      "=================precautions==================\n",
      "1 :  soak affected area in warm water\n",
      "2 :  use antibiotics\n",
      "3 :  remove scabs with wet compressed cloth\n",
      "4 :  consult doctor\n",
      "=================medications==================\n",
      "1 :  ['Topical antibiotics', 'Oral antibiotics', 'Antiseptics', 'Ointments', 'Warm compresses']\n",
      "=================workout==================\n",
      "1 :  Maintain good hygiene\n",
      "2 :  Stay hydrated\n",
      "3 :  Consume nutrient-rich foods\n",
      "4 :  Limit sugary foods and beverages\n",
      "5 :  Include foods rich in vitamin C\n",
      "6 :  Consult a healthcare professional\n",
      "7 :  Follow medical recommendations\n",
      "8 :  Avoid scratching\n",
      "9 :  Take prescribed antibiotics\n",
      "10 :  Practice wound care\n",
      "=================diets==================\n",
      "1 :  ['Impetigo Diet', 'Antibiotic treatment', 'Fruits and vegetables', 'Hydration', 'Protein-rich foods']\n"
     ]
    }
   ],
   "source": [
    "symptoms = 'inflammatory_nails, blister, red_sore_around_nose, yellow_crust_ooze'\n",
    "user_symptoms = [s.strip() for s in symptoms.split(',')]\n",
    "\n",
    "predicted_disease = get_predicted_value(user_symptoms)\n",
    "\n",
    "desc, pre, med, die, wrkout = helper(predicted_disease)\n",
    "\n",
    "print(\"=================predicted disease============\")\n",
    "print(predicted_disease)\n",
    "print(\"=================description==================\")\n",
    "print(desc)\n",
    "print(\"=================precautions==================\")\n",
    "i = 1\n",
    "for p_i in pre[0]:\n",
    "    print(i, \": \", p_i)\n",
    "    i += 1\n",
    "\n",
    "print(\"=================medications==================\")\n",
    "i = 1\n",
    "for m_i in med:\n",
    "    print(i, \": \", m_i)\n",
    "    i += 1\n",
    "\n",
    "print(\"=================workout==================\")\n",
    "i = 1\n",
    "for w_i in wrkout:\n",
    "    print(i, \": \", w_i)\n",
    "    i += 1\n",
    "\n",
    "print(\"=================diets==================\")\n",
    "i = 1\n",
    "for d_i in die:\n",
    "    print(i, \": \", d_i)\n",
    "    i += 1"
   ]
  },
  {
   "cell_type": "code",
   "execution_count": 49,
   "id": "1332b0c8",
   "metadata": {
    "execution": {
     "iopub.execute_input": "2024-09-11T19:21:54.577743Z",
     "iopub.status.busy": "2024-09-11T19:21:54.577323Z",
     "iopub.status.idle": "2024-09-11T19:21:54.594596Z",
     "shell.execute_reply": "2024-09-11T19:21:54.593480Z"
    },
    "papermill": {
     "duration": 0.058903,
     "end_time": "2024-09-11T19:21:54.596766",
     "exception": false,
     "start_time": "2024-09-11T19:21:54.537863",
     "status": "completed"
    },
    "tags": []
   },
   "outputs": [
    {
     "name": "stdout",
     "output_type": "stream",
     "text": [
      "=================predicted disease============\n",
      "Common Cold\n",
      "=================description==================\n",
      "Common Cold is a viral infection of the upper respiratory tract.\n",
      "=================precautions==================\n",
      "1 :  drink vitamin c rich drinks\n",
      "2 :  take vapour\n",
      "3 :  avoid cold food\n",
      "4 :  keep fever in check\n",
      "=================medications==================\n",
      "1 :  ['Antibiotics', 'Antiviral drugs', 'Antifungal drugs', 'IV fluids', 'Oxygen therapy']\n",
      "=================workout==================\n",
      "1 :  Stay hydrated\n",
      "2 :  Include nutrient-rich foods\n",
      "3 :  Consume foods rich in vitamin C and antioxidants\n",
      "4 :  Include zinc-rich foods\n",
      "5 :  Limit sugary foods and beverages\n",
      "6 :  Consume chicken soup\n",
      "7 :  Consult a healthcare professional\n",
      "8 :  Rest and conserve energy\n",
      "9 :  Gradually resume normal diet\n",
      "10 :  Follow medical recommendations\n",
      "=================diets==================\n",
      "1 :  ['Cold Diet', 'Hydration', 'Warm fluids', 'Rest', 'Honey and lemon tea']\n"
     ]
    }
   ],
   "source": [
    "symptoms = 'redness_of_eyes, sinus_pressure, runny_nose, congestion'\n",
    "user_symptoms = [s.strip() for s in symptoms.split(',')]\n",
    "\n",
    "predicted_disease = get_predicted_value(user_symptoms)\n",
    "\n",
    "desc, pre, med, die, wrkout = helper(predicted_disease)\n",
    "\n",
    "print(\"=================predicted disease============\")\n",
    "print(predicted_disease)\n",
    "print(\"=================description==================\")\n",
    "print(desc)\n",
    "print(\"=================precautions==================\")\n",
    "i = 1\n",
    "for p_i in pre[0]:\n",
    "    print(i, \": \", p_i)\n",
    "    i += 1\n",
    "\n",
    "print(\"=================medications==================\")\n",
    "i = 1\n",
    "for m_i in med:\n",
    "    print(i, \": \", m_i)\n",
    "    i += 1\n",
    "\n",
    "print(\"=================workout==================\")\n",
    "i = 1\n",
    "for w_i in wrkout:\n",
    "    print(i, \": \", w_i)\n",
    "    i += 1\n",
    "\n",
    "print(\"=================diets==================\")\n",
    "i = 1\n",
    "for d_i in die:\n",
    "    print(i, \": \", d_i)\n",
    "    i += 1"
   ]
  },
  {
   "cell_type": "code",
   "execution_count": 50,
   "id": "86b0614f",
   "metadata": {
    "execution": {
     "iopub.execute_input": "2024-09-11T19:21:54.665202Z",
     "iopub.status.busy": "2024-09-11T19:21:54.664822Z",
     "iopub.status.idle": "2024-09-11T19:21:54.679418Z",
     "shell.execute_reply": "2024-09-11T19:21:54.678609Z"
    },
    "papermill": {
     "duration": 0.050995,
     "end_time": "2024-09-11T19:21:54.681530",
     "exception": false,
     "start_time": "2024-09-11T19:21:54.630535",
     "status": "completed"
    },
    "tags": []
   },
   "outputs": [
    {
     "name": "stdout",
     "output_type": "stream",
     "text": [
      "=================predicted disease============\n",
      "Urinary tract infection\n",
      "=================description==================\n",
      "Urinary tract infection is an infection in any part of the urinary system.\n",
      "=================precautions==================\n",
      "1 :  drink plenty of water\n",
      "2 :  increase vitamin c intake\n",
      "3 :  drink cranberry juice\n",
      "4 :  take probiotics\n",
      "=================medications==================\n",
      "1 :  ['Antibiotics', 'Urinary analgesics', 'Phenazopyridine', 'Antispasmodics', 'Probiotics']\n",
      "=================workout==================\n",
      "1 :  Stay hydrated\n",
      "2 :  Consume cranberry products\n",
      "3 :  Include vitamin C-rich foods\n",
      "4 :  Limit caffeine and alcohol\n",
      "5 :  Consume probiotics\n",
      "6 :  Avoid spicy and acidic foods\n",
      "7 :  Consult a healthcare professional\n",
      "8 :  Follow medical recommendations\n",
      "9 :  Maintain good hygiene\n",
      "10 :  Limit sugary foods and beverages\n",
      "=================diets==================\n",
      "1 :  ['UTI Diet', 'Hydration', 'Cranberry juice', 'Probiotics', 'Vitamin C-rich foods']\n"
     ]
    }
   ],
   "source": [
    "symptoms = 'runny_nose, congestion, toxic_look_(typhos)'\n",
    "user_symptoms = [s.strip() for s in symptoms.split(',')]\n",
    "\n",
    "predicted_disease = get_predicted_value(user_symptoms)\n",
    "\n",
    "desc, pre, med, die, wrkout = helper(predicted_disease)\n",
    "\n",
    "print(\"=================predicted disease============\")\n",
    "print(predicted_disease)\n",
    "print(\"=================description==================\")\n",
    "print(desc)\n",
    "print(\"=================precautions==================\")\n",
    "i = 1\n",
    "for p_i in pre[0]:\n",
    "    print(i, \": \", p_i)\n",
    "    i += 1\n",
    "\n",
    "print(\"=================medications==================\")\n",
    "i = 1\n",
    "for m_i in med:\n",
    "    print(i, \": \", m_i)\n",
    "    i += 1\n",
    "\n",
    "print(\"=================workout==================\")\n",
    "i = 1\n",
    "for w_i in wrkout:\n",
    "    print(i, \": \", w_i)\n",
    "    i += 1\n",
    "\n",
    "print(\"=================diets==================\")\n",
    "i = 1\n",
    "for d_i in die:\n",
    "    print(i, \": \", d_i)\n",
    "    i += 1"
   ]
  },
  {
   "cell_type": "markdown",
   "id": "ec208080",
   "metadata": {
    "papermill": {
     "duration": 0.028898,
     "end_time": "2024-09-11T19:21:54.739755",
     "exception": false,
     "start_time": "2024-09-11T19:21:54.710857",
     "status": "completed"
    },
    "tags": []
   },
   "source": [
    "**<a id=\"6\"></a>\n",
    "<h1><b><p style=\"background-image: url(https://i.postimg.cc/0Qwf8YX6/2927262.jpg);font-family:camtasia;font-size:110%;color:white;text-align:center;border-radius:15px 50px; padding:7px; border:solid 2px #09375b; box-shadow: 10px 10px 10px #042b4c\">Like this? Upvote and comment! 🌊 End</p></b></h1>\n",
    "<a class=\"btn\" href=\"#home\">Tabel of Contents</a>"
   ]
  }
 ],
 "metadata": {
  "kaggle": {
   "accelerator": "gpu",
   "dataSources": [
    {
     "datasetId": 4286222,
     "sourceId": 7376281,
     "sourceType": "datasetVersion"
    }
   ],
   "dockerImageVersionId": 30762,
   "isGpuEnabled": true,
   "isInternetEnabled": true,
   "language": "python",
   "sourceType": "notebook"
  },
  "kernelspec": {
   "display_name": "Python 3 (ipykernel)",
   "language": "python",
   "name": "python3"
  },
  "language_info": {
   "codemirror_mode": {
    "name": "ipython",
    "version": 3
   },
   "file_extension": ".py",
   "mimetype": "text/x-python",
   "name": "python",
   "nbconvert_exporter": "python",
   "pygments_lexer": "ipython3",
   "version": "3.11.7"
  },
  "papermill": {
   "default_parameters": {},
   "duration": 1061.006673,
   "end_time": "2024-09-11T19:21:57.388021",
   "environment_variables": {},
   "exception": null,
   "input_path": "__notebook__.ipynb",
   "output_path": "__notebook__.ipynb",
   "parameters": {},
   "start_time": "2024-09-11T19:04:16.381348",
   "version": "2.6.0"
  }
 },
 "nbformat": 4,
 "nbformat_minor": 5
}
